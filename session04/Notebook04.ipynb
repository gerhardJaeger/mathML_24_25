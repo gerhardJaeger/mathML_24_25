{
 "cells": [
  {
   "cell_type": "code",
   "execution_count": 49,
   "id": "5d1f156d",
   "metadata": {
    "slideshow": {
     "slide_type": "skip"
    }
   },
   "outputs": [],
   "source": [
    "import sympy\n",
    "from sympy import Matrix, Rational, sqrt, symbols\n",
    "import numpy as np\n"
   ]
  },
  {
   "cell_type": "markdown",
   "id": "17d690f6",
   "metadata": {
    "slideshow": {
     "slide_type": "slide"
    }
   },
   "source": [
    "# Mathematics for Machine Learning\n",
    "\n",
    "## Session 04: LU decomposition\n",
    "\n",
    "## Gerhard Jäger\n",
    "\n",
    "### October 31, 2024"
   ]
  },
  {
   "cell_type": "markdown",
   "id": "f2d8ffbf",
   "metadata": {
    "slideshow": {
     "slide_type": "slide"
    }
   },
   "source": [
    "# LU decomposition\n",
    "\n",
    "### triangular matrices\n",
    "\n",
    "- an **upper triangular matrix** is a square matrix with only $0$ below the main diagonal\n"
   ]
  },
  {
   "cell_type": "code",
   "execution_count": 50,
   "id": "ffb4435e",
   "metadata": {
    "hide_input": true
   },
   "outputs": [
    {
     "data": {
      "text/latex": [
       "$\\displaystyle \\left[\\begin{matrix}1 & 1 & 1\\\\0 & 1 & 1\\\\0 & 0 & 1\\end{matrix}\\right]$"
      ],
      "text/plain": [
       "Matrix([\n",
       "[1, 1, 1],\n",
       "[0, 1, 1],\n",
       "[0, 0, 1]])"
      ]
     },
     "execution_count": 50,
     "metadata": {},
     "output_type": "execute_result"
    }
   ],
   "source": [
    "Matrix([\n",
    "    [1,1,1],\n",
    "    [0,1,1],\n",
    "    [0,0,1]\n",
    "])"
   ]
  },
  {
   "cell_type": "code",
   "execution_count": 51,
   "id": "f67c985c",
   "metadata": {
    "hide_input": true
   },
   "outputs": [
    {
     "data": {
      "text/latex": [
       "$\\displaystyle \\left[\\begin{matrix}0 & 1 & 6\\\\0 & 1 & 1\\\\0 & 0 & 0\\end{matrix}\\right]$"
      ],
      "text/plain": [
       "Matrix([\n",
       "[0, 1, 6],\n",
       "[0, 1, 1],\n",
       "[0, 0, 0]])"
      ]
     },
     "execution_count": 51,
     "metadata": {},
     "output_type": "execute_result"
    }
   ],
   "source": [
    "Matrix([\n",
    "    [0,1,6],\n",
    "    [0,1,1],\n",
    "    [0,0,0]\n",
    "])"
   ]
  },
  {
   "cell_type": "markdown",
   "id": "50ae4a84",
   "metadata": {
    "slideshow": {
     "slide_type": "slide"
    }
   },
   "source": [
    "- a **lower triangular matrix** is a square matrix with only $0$ above the main diagonal"
   ]
  },
  {
   "cell_type": "code",
   "execution_count": 52,
   "id": "14d7eaed",
   "metadata": {
    "hide_input": true
   },
   "outputs": [
    {
     "data": {
      "text/latex": [
       "$\\displaystyle \\left[\\begin{matrix}0 & 0 & 0\\\\1 & 1 & 0\\\\6 & 1 & 0\\end{matrix}\\right]$"
      ],
      "text/plain": [
       "Matrix([\n",
       "[0, 0, 0],\n",
       "[1, 1, 0],\n",
       "[6, 1, 0]])"
      ]
     },
     "execution_count": 52,
     "metadata": {},
     "output_type": "execute_result"
    }
   ],
   "source": [
    "Matrix([\n",
    "    [0,1,6],\n",
    "    [0,1,1],\n",
    "    [0,0,0]\n",
    "]).T"
   ]
  },
  {
   "cell_type": "markdown",
   "id": "d53e8138",
   "metadata": {},
   "source": [
    "- the transpose of an upper triangular matrix is lower triangular, and vice versa\n",
    "- *Gaussian elimination* transforms a matrix into an upper triangular matrix\n",
    "- *Jordan elimination* transforms a matrix into a lower triangular matrix\n",
    "- $\\Rightarrow$ Gauss-Jordan elimination produces a diagonal matrix\n",
    "\n"
   ]
  },
  {
   "cell_type": "markdown",
   "id": "492415e1",
   "metadata": {
    "slideshow": {
     "slide_type": "slide"
    }
   },
   "source": [
    "Let us focus on the Gauss part."
   ]
  },
  {
   "cell_type": "code",
   "execution_count": 53,
   "id": "fce54949",
   "metadata": {
    "hide_input": true
   },
   "outputs": [
    {
     "data": {
      "text/latex": [
       "$\\displaystyle \\left[\\begin{matrix}1 & 2 & 1\\\\3 & 2 & 4\\\\4 & 4 & 3\\end{matrix}\\right]$"
      ],
      "text/plain": [
       "Matrix([\n",
       "[1, 2, 1],\n",
       "[3, 2, 4],\n",
       "[4, 4, 3]])"
      ]
     },
     "execution_count": 53,
     "metadata": {},
     "output_type": "execute_result"
    }
   ],
   "source": [
    "A = Matrix([\n",
    "    [1,2,1],\n",
    "    [3,2,4],\n",
    "    [4,4,3]\n",
    "])\n",
    "A"
   ]
  },
  {
   "cell_type": "code",
   "execution_count": 54,
   "id": "77e3be30",
   "metadata": {},
   "outputs": [
    {
     "data": {
      "text/latex": [
       "$\\displaystyle \\left[\\begin{matrix}1 & 2 & 1\\\\0 & -4 & 1\\\\4 & 4 & 3\\end{matrix}\\right]$"
      ],
      "text/plain": [
       "Matrix([\n",
       "[1,  2, 1],\n",
       "[0, -4, 1],\n",
       "[4,  4, 3]])"
      ]
     },
     "execution_count": 54,
     "metadata": {},
     "output_type": "execute_result"
    }
   ],
   "source": [
    "E1 = Matrix([\n",
    "    [1,0,0],\n",
    "    [-3,1,0],\n",
    "    [0,0,1]\n",
    "])\n",
    "E1*A"
   ]
  },
  {
   "cell_type": "code",
   "execution_count": 55,
   "id": "1ebd7e27",
   "metadata": {},
   "outputs": [
    {
     "data": {
      "text/latex": [
       "$\\displaystyle \\left[\\begin{matrix}1 & 2 & 1\\\\0 & -4 & 1\\\\0 & -4 & -1\\end{matrix}\\right]$"
      ],
      "text/plain": [
       "Matrix([\n",
       "[1,  2,  1],\n",
       "[0, -4,  1],\n",
       "[0, -4, -1]])"
      ]
     },
     "execution_count": 55,
     "metadata": {},
     "output_type": "execute_result"
    }
   ],
   "source": [
    "E2 = Matrix([\n",
    "    [1,0,0],\n",
    "    [0,1,0],\n",
    "    [-4,0,1]\n",
    "])\n",
    "E2 * E1 * A"
   ]
  },
  {
   "cell_type": "code",
   "execution_count": 56,
   "id": "14e89e65",
   "metadata": {
    "slideshow": {
     "slide_type": "slide"
    }
   },
   "outputs": [
    {
     "data": {
      "text/latex": [
       "$\\displaystyle \\left[\\begin{matrix}1 & 2 & 1\\\\0 & -4 & 1\\\\0 & 0 & -2\\end{matrix}\\right]$"
      ],
      "text/plain": [
       "Matrix([\n",
       "[1,  2,  1],\n",
       "[0, -4,  1],\n",
       "[0,  0, -2]])"
      ]
     },
     "execution_count": 56,
     "metadata": {},
     "output_type": "execute_result"
    }
   ],
   "source": [
    "E3 = Matrix([\n",
    "    [1,0,0],\n",
    "    [0,1,0],\n",
    "    [0,-1,1]\n",
    "])\n",
    "E3 * E2 * E1 * A"
   ]
  },
  {
   "cell_type": "markdown",
   "id": "74ad00df",
   "metadata": {},
   "source": [
    "Let us call this upper triangular matrix resulting from Gauss elimination $U$.\n",
    "\n",
    "$$\n",
    "\\begin{aligned}\n",
    "U &= \\displaystyle \\left[\\begin{matrix}1 & 2 & 1\\\\0 & -4 & 1\\\\0 & 0 & -2\\end{matrix}\\right]\\\\\n",
    "E_3 E_2 E_1 A &= U\n",
    "\\end{aligned}\n",
    "$$\n",
    "\n",
    "Assuming that $E_i$ is invertible (which it is), this entails\n",
    "\n",
    "$$\n",
    "\\begin{aligned}\n",
    "A &= (E_3 E_2 E_1)^{-1} U\n",
    "\\end{aligned}\n",
    "$$"
   ]
  },
  {
   "cell_type": "markdown",
   "id": "d3e6019a",
   "metadata": {
    "slideshow": {
     "slide_type": "slide"
    }
   },
   "source": [
    "### Side remark: inverse of a matrix product\n",
    "\n",
    "- suppose both $A$ and $B$ are invertible. What is $(AB)^{-1}$?\n",
    "\n",
    "$$\n",
    "\\begin{aligned}\n",
    "(AB)^{-1} &= X\\\\\n",
    "XAB &= \\mathbf I\\\\\n",
    "XA &= \\mathbf I B^{-1}\\\\\n",
    " &= B^{-1}\\\\\n",
    " X &= B^{-1}A^{-1}\n",
    "\\end{aligned}\n",
    "$$\n",
    "\n",
    "$$\n",
    "\\Large\n",
    "    (AB)^{-1} = B^{-1}A^{-1}\n",
    "$$"
   ]
  },
  {
   "cell_type": "markdown",
   "id": "08f499c4",
   "metadata": {
    "slideshow": {
     "slide_type": "slide"
    }
   },
   "source": [
    "While we're at it: What is the transpose of a matrix product?\n",
    "\n",
    "$$\n",
    "\\begin{aligned}\n",
    "(A^TB^T)_{i,j} &= \\sum_k a^T_{ik}b^T_{kj}\\\\\n",
    "    &= \\sum_k a_{ki}b_{jk}\\\\\n",
    "    &= (BA)_{ji}\\\\\n",
    "    &=((BA)^T)_{ij}\n",
    "\\end{aligned}\n",
    "$$\n",
    "\n",
    "Therefore \n",
    "\n",
    "\n",
    "$$\n",
    "\\Large\n",
    "    (AB)^T = B^TA^T\n",
    "$$"
   ]
  },
  {
   "cell_type": "markdown",
   "id": "02689508",
   "metadata": {
    "slideshow": {
     "slide_type": "slide"
    }
   },
   "source": [
    "Still, while we're at it, what is the inverse of an transpose?\n",
    "\n",
    "$$\n",
    "\\begin{aligned}\n",
    "(A^T)^{-1} &= X\\\\\n",
    "A^T X &= \\mathbf I\\\\\n",
    "X^T A &= \\mathbf I\\\\\n",
    "X^T &= A^{-1}\\\\\n",
    "X &= (A^{-1})^T\n",
    "\\end{aligned}\n",
    "$$\n",
    "\n",
    "\n",
    "$$\n",
    "\\Large\n",
    "   (A^T)^{-1}  = (A^{-1})^T\n",
    "$$"
   ]
  },
  {
   "cell_type": "markdown",
   "id": "f88a65ab",
   "metadata": {
    "slideshow": {
     "slide_type": "slide"
    }
   },
   "source": [
    "Back to Gauss elimination.\n",
    "\n",
    "\n",
    "$$\n",
    "\\begin{aligned}\n",
    "A &= (E_3 E_2 E_1)^{-1} U\\\\\n",
    "&= E_1^{-1} E_2^{-1} E_3^{-1} U\n",
    "\\end{aligned}\n",
    "$$"
   ]
  },
  {
   "cell_type": "code",
   "execution_count": 57,
   "id": "c658a676",
   "metadata": {},
   "outputs": [
    {
     "data": {
      "text/latex": [
       "$\\displaystyle \\left[\\begin{matrix}1 & 0 & 0\\\\-3 & 1 & 0\\\\0 & 0 & 1\\end{matrix}\\right]$"
      ],
      "text/plain": [
       "Matrix([\n",
       "[ 1, 0, 0],\n",
       "[-3, 1, 0],\n",
       "[ 0, 0, 1]])"
      ]
     },
     "execution_count": 57,
     "metadata": {},
     "output_type": "execute_result"
    }
   ],
   "source": [
    "E1"
   ]
  },
  {
   "cell_type": "code",
   "execution_count": 58,
   "id": "3191ae34",
   "metadata": {},
   "outputs": [
    {
     "data": {
      "text/latex": [
       "$\\displaystyle \\left[\\begin{matrix}1 & 0 & 0\\\\3 & 1 & 0\\\\0 & 0 & 1\\end{matrix}\\right]$"
      ],
      "text/plain": [
       "Matrix([\n",
       "[1, 0, 0],\n",
       "[3, 1, 0],\n",
       "[0, 0, 1]])"
      ]
     },
     "execution_count": 58,
     "metadata": {},
     "output_type": "execute_result"
    }
   ],
   "source": [
    "E1.inv()"
   ]
  },
  {
   "cell_type": "markdown",
   "id": "fad7754a",
   "metadata": {
    "slideshow": {
     "slide_type": "slide"
    }
   },
   "source": [
    "It is generally true:\n",
    "\n",
    "- If $A$ is equal to $\\mathbf I$ except for one off-diagonal entry, then $A^{-1}$ is like $A$ except that the off-diagonal entry is multiplied with $-1$.\n",
    "    \n",
    "**consequence**: all $E_i^{-1}$ are lower triangular\n",
    "\n",
    "**fact**: The product of two lower-triangular matrices is lower triangular.\n",
    "\n",
    "**consequences**: \n",
    "\n",
    "- There is a lower-triangular matrix $L$ such that \n",
    "\n",
    "$$\n",
    "\\begin{aligned}\n",
    "A &= LU\\\\\n",
    "L &= E_1^{-1} \\cdots E_n^{-1}\n",
    "\\end{aligned}\n",
    "$$\n",
    "where $E_1, \\ldots, E_n$ are the elimination matrices corresponding to the steps of Gauss elimination."
   ]
  },
  {
   "cell_type": "markdown",
   "id": "8304ffbe",
   "metadata": {
    "slideshow": {
     "slide_type": "slide"
    }
   },
   "source": [
    "Our example:"
   ]
  },
  {
   "cell_type": "code",
   "execution_count": 59,
   "id": "5f9f1b11",
   "metadata": {},
   "outputs": [
    {
     "data": {
      "text/latex": [
       "$\\displaystyle \\left[\\begin{matrix}1 & 0 & 0\\\\3 & 1 & 0\\\\4 & 1 & 1\\end{matrix}\\right]$"
      ],
      "text/plain": [
       "Matrix([\n",
       "[1, 0, 0],\n",
       "[3, 1, 0],\n",
       "[4, 1, 1]])"
      ]
     },
     "execution_count": 59,
     "metadata": {},
     "output_type": "execute_result"
    }
   ],
   "source": [
    "L = E1.inv() * E2.inv() * E3.inv()\n",
    "L"
   ]
  },
  {
   "cell_type": "markdown",
   "id": "4d2c5e43",
   "metadata": {},
   "source": [
    "$$\n",
    "\\begin{aligned}\n",
    "A &= LU\\\\\n",
    "\\displaystyle \\left[\\begin{matrix}1 & 2 & 1\\\\3 & 2 & 4\\\\4 & 4 & 3\\end{matrix}\\right]\n",
    "&=\n",
    "\\displaystyle \\left[\\begin{matrix}1 & 0 & 0\\\\3 & 1 & 0\\\\4 & 1 & 1\\end{matrix}\\right]\n",
    "\\displaystyle \\left[\\begin{matrix}1 & 2 & 1\\\\0 & -4 & 1\\\\0 & 0 & -2\\end{matrix}\\right]\n",
    "\\end{aligned}\n",
    "$$"
   ]
  },
  {
   "cell_type": "markdown",
   "id": "1323f716",
   "metadata": {},
   "source": [
    "For each matrix $A$, there are \n",
    "- a permutation matrix $P$,\n",
    "- an upper triangular matrix $U$\n",
    "- a lower triangular matrix $L$,\n",
    "such that \n",
    "\n",
    "$$\n",
    "PA = LU\n",
    "$$"
   ]
  },
  {
   "cell_type": "markdown",
   "id": "bc05a439",
   "metadata": {
    "slideshow": {
     "slide_type": "slide"
    }
   },
   "source": [
    "How do we find $L$?\n",
    "\n",
    "\n",
    "Simple rule: \n",
    "- all diagonal entries of $L$ are 1\n",
    "- if any elimination matrix $E$ used during Gauss elimination has an off-diagonal entry $e_{i,j} = a$, then $l_{i,j} = -a$\n",
    "- all other entries are 0\n"
   ]
  },
  {
   "cell_type": "markdown",
   "id": "7590cd85",
   "metadata": {
    "slideshow": {
     "slide_type": "slide"
    }
   },
   "source": [
    "### Example\n",
    "\n",
    "$$\n",
    "A = \\begin{bmatrix}\n",
    "4 & 3 & 2 & 1\\\\\n",
    "3 & 3 & 2 & 1\\\\\n",
    "2 & 2 & 2 & 1\\\\\n",
    "1 & 1 & 1 & 1\n",
    "\\end{bmatrix}\n",
    "$$\n",
    "\n",
    "- initialize $X := \\mathbf I$ and $Y := A$\n",
    "\n",
    "$$\n",
    "\\begin{align}\n",
    "X && Y\\\\\n",
    "\\begin{bmatrix}\n",
    "1 & 0 & 0 & 0\\\\\n",
    "0 & 1 & 0 & 0\\\\\n",
    "0 & 0 & 1 & 0\\\\\n",
    "0 & 0 & 0 & 1\n",
    "\\end{bmatrix} && \\begin{bmatrix}\n",
    "4 & 3 & 2 & 1\\\\\n",
    "3 & 3 & 2 & 1\\\\\n",
    "2 & 2 & 2 & 1\\\\\n",
    "1 & 1 & 1 & 1\n",
    "\\end{bmatrix}\n",
    "\\end{align}\n",
    "$$"
   ]
  },
  {
   "cell_type": "code",
   "execution_count": 60,
   "id": "0ca9ca04",
   "metadata": {
    "slideshow": {
     "slide_type": "slide"
    }
   },
   "outputs": [
    {
     "data": {
      "text/latex": [
       "$\\displaystyle \\left[\\begin{matrix}4 & 3 & 2 & 1\\\\3 & 3 & 2 & 1\\\\2 & 2 & 2 & 1\\\\1 & 1 & 1 & 1\\end{matrix}\\right]$"
      ],
      "text/plain": [
       "Matrix([\n",
       "[4, 3, 2, 1],\n",
       "[3, 3, 2, 1],\n",
       "[2, 2, 2, 1],\n",
       "[1, 1, 1, 1]])"
      ]
     },
     "execution_count": 60,
     "metadata": {},
     "output_type": "execute_result"
    }
   ],
   "source": [
    "A = Matrix([\n",
    "    [4,3,2,1],\n",
    "    [3,3,2,1],\n",
    "    [2,2,2,1],\n",
    "    [1,1,1,1]\n",
    "])\n",
    "A"
   ]
  },
  {
   "cell_type": "code",
   "execution_count": 61,
   "id": "01eef2d3",
   "metadata": {},
   "outputs": [
    {
     "data": {
      "text/latex": [
       "$\\displaystyle \\left[\\begin{matrix}1 & 0 & 0 & 0\\\\\\frac{3}{4} & 1 & 0 & 0\\\\\\frac{1}{2} & \\frac{2}{3} & 1 & 0\\\\\\frac{1}{4} & \\frac{1}{3} & \\frac{1}{2} & 1\\end{matrix}\\right]$"
      ],
      "text/plain": [
       "Matrix([\n",
       "[  1,   0,   0, 0],\n",
       "[3/4,   1,   0, 0],\n",
       "[1/2, 2/3,   1, 0],\n",
       "[1/4, 1/3, 1/2, 1]])"
      ]
     },
     "execution_count": 61,
     "metadata": {},
     "output_type": "execute_result"
    }
   ],
   "source": [
    "A.LUdecomposition()[0]"
   ]
  },
  {
   "cell_type": "code",
   "execution_count": 62,
   "id": "fc5625c4",
   "metadata": {},
   "outputs": [
    {
     "data": {
      "text/latex": [
       "$\\displaystyle \\left[\\begin{matrix}4 & 3 & 2 & 1\\\\0 & \\frac{3}{4} & \\frac{1}{2} & \\frac{1}{4}\\\\0 & 0 & \\frac{2}{3} & \\frac{1}{3}\\\\0 & 0 & 0 & \\frac{1}{2}\\end{matrix}\\right]$"
      ],
      "text/plain": [
       "Matrix([\n",
       "[4,   3,   2,   1],\n",
       "[0, 3/4, 1/2, 1/4],\n",
       "[0,   0, 2/3, 1/3],\n",
       "[0,   0,   0, 1/2]])"
      ]
     },
     "execution_count": 62,
     "metadata": {},
     "output_type": "execute_result"
    }
   ],
   "source": [
    "A.LUdecomposition()[1]"
   ]
  },
  {
   "cell_type": "markdown",
   "id": "2fda8d5f",
   "metadata": {
    "slideshow": {
     "slide_type": "slide"
    }
   },
   "source": [
    "- perform Gauss elimination on $Y$ and store the elimination coefficients in $X$.\n",
    "\n",
    "$$\n",
    "\\begin{align}\n",
    "X && Y\\\\\n",
    "\\begin{bmatrix}\n",
    "1 & 0 & 0 & 0\\\\\n",
    "\\frac{3}{4} & 1 & 0 & 0\\\\\n",
    "0 & 0 & 1 & 0\\\\\n",
    "0 & 0 & 0 & 1\n",
    "\\end{bmatrix} && \\begin{bmatrix}\n",
    "4 & 3 & 2 & 1\\\\\n",
    "0 & \\frac{3}{4} & \\frac{1}{2} & \\frac{1}{4}\\\\\n",
    "2 & 2 & 2 & 1\\\\\n",
    "1 & 1 & 1 & 1\n",
    "\\end{bmatrix}\n",
    "\\end{align}\n",
    "$$\n"
   ]
  },
  {
   "cell_type": "markdown",
   "id": "f12906f2",
   "metadata": {
    "slideshow": {
     "slide_type": "slide"
    }
   },
   "source": [
    "- perform Gauss elimination on $Y$ and store the elimination coefficients in $X$.\n",
    "\n",
    "$$\n",
    "\\begin{align}\n",
    "X && Y\\\\\n",
    "\\begin{bmatrix}\n",
    "1 & 0 & 0 & 0\\\\\n",
    "\\frac{3}{4} & 1 & 0 & 0\\\\\n",
    "\\frac{1}{2} & 0 & 1 & 0\\\\\n",
    "0 & 0 & 0 & 1\n",
    "\\end{bmatrix} && \\begin{bmatrix}\n",
    "4 & 3 & 2 & 1\\\\\n",
    "0 & \\frac{3}{4} & \\frac{1}{2} & \\frac{1}{4}\\\\\n",
    "0 & \\frac{1}{2} & 1 & \\frac{1}{2}\\\\\n",
    "1 & 1 & 1 & 1\n",
    "\\end{bmatrix}\n",
    "\\end{align}\n",
    "$$\n"
   ]
  },
  {
   "cell_type": "markdown",
   "id": "7c3e4c09",
   "metadata": {
    "slideshow": {
     "slide_type": "slide"
    }
   },
   "source": [
    "- perform Gauss elimination on $Y$ and store the elimination coefficients in $X$.\n",
    "\n",
    "$$\n",
    "\\begin{align}\n",
    "X && Y\\\\\n",
    "\\begin{bmatrix}\n",
    "1 & 0 & 0 & 0\\\\\n",
    "\\frac{3}{4} & 1 & 0 & 0\\\\\n",
    "\\frac{1}{2} & 0 & 1 & 0\\\\\n",
    "\\frac{1}{4} & 0 & 0 & 1\n",
    "\\end{bmatrix} && \\begin{bmatrix}\n",
    "4 & 3 & 2 & 1\\\\\n",
    "0 & \\frac{3}{4} & \\frac{1}{2} & \\frac{1}{4}\\\\\n",
    "0 & \\frac{1}{2} & 1 & \\frac{1}{2}\\\\\n",
    "0 & \\frac{1}{4} & \\frac{1}{2} & \\frac{3}{4}\n",
    "\\end{bmatrix}\n",
    "\\end{align}\n",
    "$$\n"
   ]
  },
  {
   "cell_type": "markdown",
   "id": "958f35b7",
   "metadata": {
    "slideshow": {
     "slide_type": "slide"
    }
   },
   "source": [
    "- perform Gauss elimination on $Y$ and store the elimination coefficients in $X$.\n",
    "\n",
    "$$\n",
    "\\begin{align}\n",
    "X && Y\\\\\n",
    "\\begin{bmatrix}\n",
    "1 & 0 & 0 & 0\\\\\n",
    "\\frac{3}{4} & 1 & 0 & 0\\\\\n",
    "\\frac{1}{2} & \\frac{2}{3} & 1 & 0\\\\\n",
    "\\frac{1}{4} & 0 & 0 & 1\n",
    "\\end{bmatrix} && \\begin{bmatrix}\n",
    "4 & 3 & 2 & 1\\\\\n",
    "0 & \\frac{3}{4} & \\frac{1}{2} & \\frac{1}{4}\\\\\n",
    "0 & 0 &  \\frac{2}{3} & \\frac{1}{3}\\\\\n",
    "0 & \\frac{1}{4} & \\frac{1}{2} & \\frac{3}{4}\n",
    "\\end{bmatrix}\n",
    "\\end{align}\n",
    "$$\n"
   ]
  },
  {
   "cell_type": "markdown",
   "id": "2679076c",
   "metadata": {
    "slideshow": {
     "slide_type": "slide"
    }
   },
   "source": [
    "- perform Gauss elimination on $Y$ and store the elimination coefficients in $X$.\n",
    "\n",
    "$$\n",
    "\\begin{align}\n",
    "X && Y\\\\\n",
    "\\begin{bmatrix}\n",
    "1 & 0 & 0 & 0\\\\\n",
    "\\frac{3}{4} & 1 & 0 & 0\\\\\n",
    "\\frac{1}{2} & \\frac{2}{3} & 1 & 0\\\\\n",
    "\\frac{1}{4} & \\frac{1}{3} & 0 & 1\n",
    "\\end{bmatrix} && \\begin{bmatrix}\n",
    "4 & 3 & 2 & 1\\\\\n",
    "0 & \\frac{3}{4} & \\frac{1}{2} & \\frac{1}{4}\\\\\n",
    "0 & 0 & \\frac{2}{3} & \\frac{1}{3}\\\\\n",
    "0 & 0 & \\frac{1}{3} & \\frac{2}{3}\n",
    "\\end{bmatrix}\n",
    "\\end{align}\n",
    "$$\n"
   ]
  },
  {
   "cell_type": "markdown",
   "id": "1854068b",
   "metadata": {
    "slideshow": {
     "slide_type": "slide"
    }
   },
   "source": [
    "- perform Gauss elimination on $Y$ and store the elimination coefficients in $X$.\n",
    "\n",
    "$$\n",
    "\\begin{align}\n",
    "X && Y\\\\\n",
    "\\begin{bmatrix}\n",
    "1 & 0 & 0 & 0\\\\\n",
    "\\frac{3}{4} & 1 & 0 & 0\\\\\n",
    "\\frac{1}{2} & \\frac{2}{3} & 1 & 0\\\\\n",
    "\\frac{1}{4} & \\frac{1}{3} & \\frac{1}{2} & 1\n",
    "\\end{bmatrix} && \\begin{bmatrix}\n",
    "4 & 3 & 2 & 1\\\\\n",
    "0 & \\frac{3}{4} & \\frac{1}{2} & \\frac{1}{4}\\\\\n",
    "0 & 0 & \\frac{2}{3} & \\frac{1}{3}\\\\\n",
    "0 & 0 & 0 & \\frac{1}{2}\n",
    "\\end{bmatrix}\n",
    "\\end{align}\n",
    "$$\n",
    "\n",
    "Finally:\n",
    "- $L := X$\n",
    "- $U := Y$"
   ]
  },
  {
   "cell_type": "markdown",
   "id": "8f122ecd",
   "metadata": {
    "slideshow": {
     "slide_type": "slide"
    }
   },
   "source": [
    "## When is a matrix invertible?\n",
    "\n",
    "The steps of Jordan elimination do not alter the diagonal. Hence, if, after Gauss elimination, we have no zeros on the diagonal, the rest of Gauss-Jordan will go through and we will find the inverse matrix.\n",
    "\n",
    "Conversely, this means:\n",
    "\n",
    "**A square matrix is invertible if and only if Gauss elimination produces an upper triangular matrix with only non-zero entries on the diagonal.**"
   ]
  },
  {
   "cell_type": "markdown",
   "id": "c6ed62ab",
   "metadata": {},
   "source": [
    "Example of a non-invertible matrix:"
   ]
  },
  {
   "cell_type": "code",
   "execution_count": 63,
   "id": "04572b84",
   "metadata": {},
   "outputs": [
    {
     "data": {
      "text/latex": [
       "$\\displaystyle \\left[\\begin{matrix}1 & -4 & 2\\\\-2 & 1 & 3\\\\2 & 6 & -10\\end{matrix}\\right]$"
      ],
      "text/plain": [
       "Matrix([\n",
       "[ 1, -4,   2],\n",
       "[-2,  1,   3],\n",
       "[ 2,  6, -10]])"
      ]
     },
     "execution_count": 63,
     "metadata": {},
     "output_type": "execute_result"
    }
   ],
   "source": [
    "B = Matrix(\n",
    "[\n",
    "    [1, -4, 2],\n",
    "    [-2, 1, 3],\n",
    "    [2,6,-10]\n",
    "])\n",
    "B"
   ]
  },
  {
   "cell_type": "code",
   "execution_count": 64,
   "id": "d82ef347",
   "metadata": {
    "slideshow": {
     "slide_type": "slide"
    }
   },
   "outputs": [
    {
     "data": {
      "text/latex": [
       "$\\displaystyle \\left[\\begin{matrix}1 & -4 & 2\\\\0 & -7 & 7\\\\2 & 6 & -10\\end{matrix}\\right]$"
      ],
      "text/plain": [
       "Matrix([\n",
       "[1, -4,   2],\n",
       "[0, -7,   7],\n",
       "[2,  6, -10]])"
      ]
     },
     "execution_count": 64,
     "metadata": {},
     "output_type": "execute_result"
    }
   ],
   "source": [
    "E1 = Matrix([\n",
    "    [1,0,0],\n",
    "    [2,1,0],\n",
    "    [0,0,1]\n",
    "])\n",
    "E1 * B"
   ]
  },
  {
   "cell_type": "code",
   "execution_count": 65,
   "id": "4ba57776",
   "metadata": {},
   "outputs": [
    {
     "data": {
      "text/latex": [
       "$\\displaystyle \\left[\\begin{matrix}1 & -4 & 2\\\\0 & -7 & 7\\\\0 & 14 & -14\\end{matrix}\\right]$"
      ],
      "text/plain": [
       "Matrix([\n",
       "[1, -4,   2],\n",
       "[0, -7,   7],\n",
       "[0, 14, -14]])"
      ]
     },
     "execution_count": 65,
     "metadata": {},
     "output_type": "execute_result"
    }
   ],
   "source": [
    "E2 = Matrix([\n",
    "    [1,0,0],\n",
    "    [0,1,0],\n",
    "    [-2,0,1]\n",
    "])\n",
    "E2 * E1 * B"
   ]
  },
  {
   "cell_type": "code",
   "execution_count": 66,
   "id": "78896d9f",
   "metadata": {},
   "outputs": [
    {
     "data": {
      "text/latex": [
       "$\\displaystyle \\left[\\begin{matrix}1 & -4 & 2\\\\0 & -7 & 7\\\\0 & 0 & 0\\end{matrix}\\right]$"
      ],
      "text/plain": [
       "Matrix([\n",
       "[1, -4, 2],\n",
       "[0, -7, 7],\n",
       "[0,  0, 0]])"
      ]
     },
     "execution_count": 66,
     "metadata": {},
     "output_type": "execute_result"
    }
   ],
   "source": [
    "E3 = Matrix([\n",
    "    [1,0,0],\n",
    "    [0,1,0],\n",
    "    [0,2,1]\n",
    "])\n",
    "E3 * E2 * E1 * B"
   ]
  },
  {
   "cell_type": "markdown",
   "id": "1a3209fb",
   "metadata": {
    "slideshow": {
     "slide_type": "slide"
    }
   },
   "source": [
    "We have a $0$ on the diagonal, therefore $B$ is not invertible.\n",
    "\n",
    "LU decomposition also works for non-invertible matrices though."
   ]
  },
  {
   "cell_type": "code",
   "execution_count": 67,
   "id": "e47ad185",
   "metadata": {},
   "outputs": [
    {
     "data": {
      "text/latex": [
       "$\\displaystyle \\left[\\begin{matrix}1 & -4 & 2\\\\0 & -7 & 7\\\\0 & 0 & 0\\end{matrix}\\right]$"
      ],
      "text/plain": [
       "Matrix([\n",
       "[1, -4, 2],\n",
       "[0, -7, 7],\n",
       "[0,  0, 0]])"
      ]
     },
     "execution_count": 67,
     "metadata": {},
     "output_type": "execute_result"
    }
   ],
   "source": [
    "U = E3 * E2 * E1 * B\n",
    "U"
   ]
  },
  {
   "cell_type": "code",
   "execution_count": 68,
   "id": "bfd2037c",
   "metadata": {},
   "outputs": [
    {
     "data": {
      "text/latex": [
       "$\\displaystyle \\left[\\begin{matrix}1 & 0 & 0\\\\-2 & 1 & 0\\\\2 & -2 & 1\\end{matrix}\\right]$"
      ],
      "text/plain": [
       "Matrix([\n",
       "[ 1,  0, 0],\n",
       "[-2,  1, 0],\n",
       "[ 2, -2, 1]])"
      ]
     },
     "execution_count": 68,
     "metadata": {},
     "output_type": "execute_result"
    }
   ],
   "source": [
    "L = E1.inv() * E2.inv() * E3.inv()\n",
    "L"
   ]
  },
  {
   "cell_type": "code",
   "execution_count": 69,
   "id": "50fcf0a4",
   "metadata": {},
   "outputs": [
    {
     "data": {
      "text/latex": [
       "$\\displaystyle \\left[\\begin{matrix}1 & -4 & 2\\\\-2 & 1 & 3\\\\2 & 6 & -10\\end{matrix}\\right]$"
      ],
      "text/plain": [
       "Matrix([\n",
       "[ 1, -4,   2],\n",
       "[-2,  1,   3],\n",
       "[ 2,  6, -10]])"
      ]
     },
     "execution_count": 69,
     "metadata": {},
     "output_type": "execute_result"
    }
   ],
   "source": [
    "L * U"
   ]
  },
  {
   "cell_type": "code",
   "execution_count": 70,
   "id": "ae2455e6",
   "metadata": {},
   "outputs": [
    {
     "data": {
      "text/latex": [
       "$\\displaystyle \\left[\\begin{matrix}1 & -4 & 2\\\\-2 & 1 & 3\\\\2 & 6 & -10\\end{matrix}\\right]$"
      ],
      "text/plain": [
       "Matrix([\n",
       "[ 1, -4,   2],\n",
       "[-2,  1,   3],\n",
       "[ 2,  6, -10]])"
      ]
     },
     "execution_count": 70,
     "metadata": {},
     "output_type": "execute_result"
    }
   ],
   "source": [
    "B"
   ]
  },
  {
   "cell_type": "markdown",
   "id": "9bd7d5d7",
   "metadata": {
    "slideshow": {
     "slide_type": "slide"
    }
   },
   "source": [
    "## LDU decomposition\n",
    "\n",
    "L is a lower triangular matrix with all-$1$ on the diagonal\n",
    "\n",
    "We can factorize U further into a *diagonal matrix* and an upper triangular matrix which also has all-$1$ on the diagonal.\n",
    "\n",
    "$$\n",
    "A = LDU'\n",
    "$$\n",
    "\n",
    "- if $u_{ii}\\neq 0$, we set $d_{ii} = u_{ii}$ and divide the $i$th row of U by this value\n",
    "- if $u_{ii}= 0$ we set $d_{ii}=0$ and $u'_{ii} = 1$."
   ]
  },
  {
   "cell_type": "markdown",
   "id": "3c0db43c",
   "metadata": {},
   "source": [
    "$$\n",
    "\\begin{aligned}\n",
    "\\left[\\begin{matrix}1 & -4 & 2\\\\-2 & 1 & 3\\\\2 & 6 & -10\\end{matrix}\\right]\n",
    "&=\n",
    "\\left[\\begin{matrix}1 & 0 & 0\\\\-2 & 1 & 0\\\\2 & -2 & 1\\end{matrix}\\right]\n",
    "\\left[\\begin{matrix}1 & -4 & 2\\\\0 & -7 & 7\\\\0 & 0 & 0\\end{matrix}\\right]\\\\[1em]\n",
    "&=\\left[\\begin{matrix}1 & 0 & 0\\\\-2 & 1 & 0\\\\2 & -2 & 1\\end{matrix}\\right]\n",
    "\\left[\\begin{matrix}1 & 0 & 0\\\\0 & -7 & 0\\\\0 & 0 & 0\\end{matrix}\\right]\n",
    "\\left[\\begin{matrix}1 & -4 & 2\\\\0 & 1 & -1\\\\0 & 0 & 1\\end{matrix}\\right]\n",
    "\\end{aligned}\n",
    "$$"
   ]
  },
  {
   "cell_type": "markdown",
   "id": "edebc4aa",
   "metadata": {
    "slideshow": {
     "slide_type": "slide"
    }
   },
   "source": [
    "### LU decomposition in SymPy"
   ]
  },
  {
   "cell_type": "code",
   "execution_count": 71,
   "id": "21c42330",
   "metadata": {},
   "outputs": [
    {
     "data": {
      "text/latex": [
       "$\\displaystyle \\left[\\begin{matrix}1 & -4 & 2\\\\-2 & 1 & 3\\\\2 & 6 & -10\\end{matrix}\\right]$"
      ],
      "text/plain": [
       "Matrix([\n",
       "[ 1, -4,   2],\n",
       "[-2,  1,   3],\n",
       "[ 2,  6, -10]])"
      ]
     },
     "execution_count": 71,
     "metadata": {},
     "output_type": "execute_result"
    }
   ],
   "source": [
    "B"
   ]
  },
  {
   "cell_type": "code",
   "execution_count": 72,
   "id": "1bcef638",
   "metadata": {},
   "outputs": [],
   "source": [
    "l,u,p = B.LUdecomposition()"
   ]
  },
  {
   "cell_type": "code",
   "execution_count": 73,
   "id": "64af17e2",
   "metadata": {},
   "outputs": [
    {
     "data": {
      "text/latex": [
       "$\\displaystyle \\left[\\begin{matrix}1 & 0 & 0\\\\-2 & 1 & 0\\\\2 & -2 & 1\\end{matrix}\\right]$"
      ],
      "text/plain": [
       "Matrix([\n",
       "[ 1,  0, 0],\n",
       "[-2,  1, 0],\n",
       "[ 2, -2, 1]])"
      ]
     },
     "execution_count": 73,
     "metadata": {},
     "output_type": "execute_result"
    }
   ],
   "source": [
    "l"
   ]
  },
  {
   "cell_type": "code",
   "execution_count": 74,
   "id": "d5751332",
   "metadata": {},
   "outputs": [
    {
     "data": {
      "text/latex": [
       "$\\displaystyle \\left[\\begin{matrix}1 & -4 & 2\\\\0 & -7 & 7\\\\0 & 0 & 0\\end{matrix}\\right]$"
      ],
      "text/plain": [
       "Matrix([\n",
       "[1, -4, 2],\n",
       "[0, -7, 7],\n",
       "[0,  0, 0]])"
      ]
     },
     "execution_count": 74,
     "metadata": {},
     "output_type": "execute_result"
    }
   ],
   "source": [
    "u"
   ]
  },
  {
   "cell_type": "code",
   "execution_count": 75,
   "id": "661f1665",
   "metadata": {
    "slideshow": {
     "slide_type": "-"
    }
   },
   "outputs": [
    {
     "data": {
      "text/plain": [
       "[]"
      ]
     },
     "execution_count": 75,
     "metadata": {},
     "output_type": "execute_result"
    }
   ],
   "source": [
    "p"
   ]
  },
  {
   "cell_type": "markdown",
   "id": "bb2b1a63",
   "metadata": {},
   "source": [
    "The third component, `p`, contains the permutation required to ensure the success of LU decomposition.\n"
   ]
  },
  {
   "cell_type": "markdown",
   "id": "960a12b0",
   "metadata": {
    "slideshow": {
     "slide_type": "slide"
    }
   },
   "source": [
    "\n",
    "Back to our old example:"
   ]
  },
  {
   "cell_type": "code",
   "execution_count": 76,
   "id": "f28eba62",
   "metadata": {},
   "outputs": [
    {
     "data": {
      "text/latex": [
       "$\\displaystyle \\left[\\begin{matrix}1 & 4 & 5\\\\4 & 16 & 6\\\\5 & 6 & 3\\end{matrix}\\right]$"
      ],
      "text/plain": [
       "Matrix([\n",
       "[1,  4, 5],\n",
       "[4, 16, 6],\n",
       "[5,  6, 3]])"
      ]
     },
     "execution_count": 76,
     "metadata": {},
     "output_type": "execute_result"
    }
   ],
   "source": [
    "A = Matrix([\n",
    "    [1,4,5],\n",
    "    [4,16,6],\n",
    "    [5,6,3]\n",
    "])\n",
    "A"
   ]
  },
  {
   "cell_type": "code",
   "execution_count": 77,
   "id": "d994526f",
   "metadata": {},
   "outputs": [],
   "source": [
    "l,u,p = A.LUdecomposition()"
   ]
  },
  {
   "cell_type": "code",
   "execution_count": 78,
   "id": "2aa566e3",
   "metadata": {},
   "outputs": [
    {
     "data": {
      "text/latex": [
       "$\\displaystyle \\left[\\begin{matrix}1 & 0 & 0\\\\5 & 1 & 0\\\\4 & 0 & 1\\end{matrix}\\right]$"
      ],
      "text/plain": [
       "Matrix([\n",
       "[1, 0, 0],\n",
       "[5, 1, 0],\n",
       "[4, 0, 1]])"
      ]
     },
     "execution_count": 78,
     "metadata": {},
     "output_type": "execute_result"
    }
   ],
   "source": [
    "l"
   ]
  },
  {
   "cell_type": "code",
   "execution_count": 79,
   "id": "624e42f2",
   "metadata": {},
   "outputs": [
    {
     "data": {
      "text/latex": [
       "$\\displaystyle \\left[\\begin{matrix}1 & 4 & 5\\\\0 & -14 & -22\\\\0 & 0 & -14\\end{matrix}\\right]$"
      ],
      "text/plain": [
       "Matrix([\n",
       "[1,   4,   5],\n",
       "[0, -14, -22],\n",
       "[0,   0, -14]])"
      ]
     },
     "execution_count": 79,
     "metadata": {},
     "output_type": "execute_result"
    }
   ],
   "source": [
    "u"
   ]
  },
  {
   "cell_type": "code",
   "execution_count": 80,
   "id": "6e7b38f6",
   "metadata": {},
   "outputs": [
    {
     "data": {
      "text/plain": [
       "[[1, 2]]"
      ]
     },
     "execution_count": 80,
     "metadata": {},
     "output_type": "execute_result"
    }
   ],
   "source": [
    "p"
   ]
  },
  {
   "cell_type": "markdown",
   "id": "f978b8e5",
   "metadata": {
    "slideshow": {
     "slide_type": "slide"
    }
   },
   "source": [
    "### LU decomposition with numpy arrays"
   ]
  },
  {
   "cell_type": "code",
   "execution_count": 81,
   "id": "93209f16",
   "metadata": {},
   "outputs": [],
   "source": [
    "import numpy as np\n",
    "from scipy.linalg import lu"
   ]
  },
  {
   "cell_type": "code",
   "execution_count": 82,
   "id": "7b6362a6",
   "metadata": {},
   "outputs": [
    {
     "data": {
      "text/plain": [
       "array([[ 1,  4,  5],\n",
       "       [ 4, 16,  6],\n",
       "       [ 5,  6,  3]])"
      ]
     },
     "execution_count": 82,
     "metadata": {},
     "output_type": "execute_result"
    }
   ],
   "source": [
    "A = np.array([\n",
    "    [1,4,5],\n",
    "    [4,16,6],\n",
    "    [5,6,3]\n",
    "])\n",
    "A"
   ]
  },
  {
   "cell_type": "code",
   "execution_count": 83,
   "id": "7fe92be9",
   "metadata": {},
   "outputs": [],
   "source": [
    "p,l,u = lu(A)"
   ]
  },
  {
   "cell_type": "code",
   "execution_count": 84,
   "id": "300b1708",
   "metadata": {
    "slideshow": {
     "slide_type": "slide"
    }
   },
   "outputs": [
    {
     "data": {
      "text/plain": [
       "array([[0., 0., 1.],\n",
       "       [0., 1., 0.],\n",
       "       [1., 0., 0.]])"
      ]
     },
     "execution_count": 84,
     "metadata": {},
     "output_type": "execute_result"
    }
   ],
   "source": [
    "p"
   ]
  },
  {
   "cell_type": "code",
   "execution_count": 85,
   "id": "ef92574b",
   "metadata": {},
   "outputs": [
    {
     "data": {
      "text/plain": [
       "array([[1.  , 0.  , 0.  ],\n",
       "       [0.8 , 1.  , 0.  ],\n",
       "       [0.2 , 0.25, 1.  ]])"
      ]
     },
     "execution_count": 85,
     "metadata": {},
     "output_type": "execute_result"
    }
   ],
   "source": [
    "l"
   ]
  },
  {
   "cell_type": "code",
   "execution_count": 86,
   "id": "cea5e163",
   "metadata": {},
   "outputs": [
    {
     "data": {
      "text/plain": [
       "array([[ 5. ,  6. ,  3. ],\n",
       "       [ 0. , 11.2,  3.6],\n",
       "       [ 0. ,  0. ,  3.5]])"
      ]
     },
     "execution_count": 86,
     "metadata": {},
     "output_type": "execute_result"
    }
   ],
   "source": [
    "u"
   ]
  },
  {
   "cell_type": "code",
   "execution_count": 87,
   "id": "de582d4f",
   "metadata": {},
   "outputs": [
    {
     "data": {
      "text/plain": [
       "array([[ 1.,  4.,  5.],\n",
       "       [ 4., 16.,  6.],\n",
       "       [ 5.,  6.,  3.]])"
      ]
     },
     "execution_count": 87,
     "metadata": {},
     "output_type": "execute_result"
    }
   ],
   "source": [
    "p @ l @ u"
   ]
  },
  {
   "cell_type": "markdown",
   "id": "64e0f4bb",
   "metadata": {
    "slideshow": {
     "slide_type": "slide"
    }
   },
   "source": [
    "### Why should we bother about LU decomposition?\n",
    "\n",
    "In numerical linear algebra, doing the LU decomposition once often saves a lot of computing time further down the road.\n",
    "\n",
    "E.g., suppose we have done the LU decomposition of some matrix A.\n",
    "\n",
    "$$\n",
    "\\begin{aligned}\n",
    "A &= \\left[\\begin{array}{r}1 & 2 & 1\\\\3 & 2 & 4\\\\4 & 4 & 3\\end{array}\\right]\\\\[1em]\n",
    "L &= \\left[\\begin{array}{r}1 & 0 & 0\\\\3 & 1 & 0\\\\4 & 1 & 1\\end{array}\\right]\\\\[1em]\n",
    "U &= \\left[\\begin{array}{r}1 & 2 & 1\\\\0 & -4 & 1\\\\0 & 0 & -2\\end{array}\\right]\n",
    "\\end{aligned}\n",
    "$$"
   ]
  },
  {
   "cell_type": "markdown",
   "id": "646d23c2",
   "metadata": {
    "slideshow": {
     "slide_type": "slide"
    }
   },
   "source": [
    "Now suppose you (or rather: the computer) are/is asked to solve the linear system\n",
    "\n",
    "$$\n",
    "A\\begin{bmatrix}x\\\\y\\\\z\\end{bmatrix} = \\begin{bmatrix}1\\\\1\\\\0\\end{bmatrix}\n",
    "$$\n",
    "\n",
    "Mathematically, an obvious way is\n",
    "\n",
    "$$\n",
    "\\begin{aligned}\n",
    "\\begin{bmatrix}x\\\\y\\\\z\\end{bmatrix} &= A^{-1}\\begin{bmatrix}1\\\\1\\\\0\\end{bmatrix}\\\\[1em]\n",
    "&= U^{-1}L^{-1}\\begin{bmatrix}1\\\\1\\\\0\\end{bmatrix}\n",
    "\\end{aligned}\n",
    "$$"
   ]
  },
  {
   "cell_type": "markdown",
   "id": "bf270c83",
   "metadata": {
    "slideshow": {
     "slide_type": "slide"
    }
   },
   "source": [
    "This requires us to find the inverses of L and U. However, a more efficient way is the following:\n",
    "\n",
    "$$\n",
    "\\begin{aligned}\n",
    "L\n",
    "\\begin{bmatrix}\n",
    "w\\\\u\\\\v\n",
    "\\end{bmatrix} &= \\begin{bmatrix}1\\\\1\\\\0\\end{bmatrix}\\\\[1em]\n",
    "U\\begin{bmatrix}x\\\\y\\\\z\\end{bmatrix} &= \\begin{bmatrix}\n",
    "w\\\\u\\\\v\n",
    "\\end{bmatrix}\n",
    "\\end{aligned}\n",
    "$$"
   ]
  },
  {
   "cell_type": "markdown",
   "id": "0c52b57d",
   "metadata": {
    "slideshow": {
     "slide_type": "slide"
    }
   },
   "source": [
    "Reason: We can solve these systems via **substitution**, without elimination.\n",
    "    \n",
    "$$\n",
    "\\begin{aligned}\n",
    "\\left[\\begin{array}{r}\n",
    "1 & 0 & 0\n",
    "\\\\3 & 1 & 0\n",
    "\\\\4 & 1 & 1\n",
    "\\end{array}\\right]\n",
    "\\begin{bmatrix}\n",
    "w\\\\u\\\\v\n",
    "\\end{bmatrix}\n",
    "&= \\begin{bmatrix}1\\\\1\\\\0\\end{bmatrix}\\\\[1em]\n",
    "\\end{aligned}\n",
    "$$\n",
    "\n",
    "In non-matrix notation:\n",
    "\n",
    "$$\n",
    "\\begin{aligned}\n",
    "w & & &= 1\\\\\n",
    "3w &+ u &&= 1\\\\\n",
    "4w &+u &+v &= 0\n",
    "\\end{aligned}\n",
    "$$\n",
    "\n",
    "- substituting $w$:\n",
    "\n",
    "$$\n",
    "\\begin{aligned}\n",
    "3\\cdot 1 &+ u &&= 1\\\\\n",
    "4\\cdot 1 &+u &+v &= 0\n",
    "\\end{aligned}\n",
    "$$\n",
    "\n",
    "- constants to the left-hand side\n",
    "\n",
    "$$\n",
    "\\begin{aligned}\n",
    " u &&= -2\\\\\n",
    "u &+v &= -4\n",
    "\\end{aligned}\n",
    "$$"
   ]
  },
  {
   "cell_type": "markdown",
   "id": "3c78b1ec",
   "metadata": {
    "slideshow": {
     "slide_type": "slide"
    }
   },
   "source": [
    "- same with $v$\n",
    "\n",
    "$$\n",
    "\\begin{aligned}\n",
    "-2 &+v &= -4\\\\\n",
    "&v&= -2\\\\[1em]\n",
    "\\begin{bmatrix}w\\\\u\\\\v\\end{bmatrix} &= \n",
    "\\begin{bmatrix}\n",
    "1\\\\-2\\\\-2\n",
    "\\end{bmatrix}\n",
    "\\end{aligned}\n",
    "$$"
   ]
  },
  {
   "cell_type": "markdown",
   "id": "2293fd4d",
   "metadata": {
    "slideshow": {
     "slide_type": "slide"
    }
   },
   "source": [
    "next system of equations.\n",
    "\n",
    "$$\n",
    "\\left[\\begin{array}{r}1 & 2 & 1\\\\0 & -4 & 1\\\\0 & 0 & -2\\end{array}\\right]\n",
    "\\begin{bmatrix}\n",
    "x\\\\y\\\\z\n",
    "\\end{bmatrix} = \n",
    "\\begin{bmatrix}\n",
    "1\\\\-2\\\\-2\n",
    "\\end{bmatrix}\\\\[1em]\n",
    "$$\n",
    "\n",
    "$$\n",
    "\\begin{aligned}\n",
    "&z &&= 1\\\\\\hline\n",
    "x & +2y  &&= 0\\\\\n",
    "  & -4y &+ z& = -3\\\\\\hline\n",
    "  y &&&= \\frac{3}{4}\\\\\\hline\n",
    "  x &&&=-\\frac{3}{2}\\\\\\hline\n",
    "\\end{aligned}\n",
    "$$\n",
    "\n",
    "$$\n",
    "\\begin{aligned}\n",
    "   \\begin{bmatrix}\n",
    "   x\\\\y\\\\z\n",
    "   \\end{bmatrix} \n",
    "   &= \n",
    "   \\left[\n",
    "   \\begin{array}{r}\n",
    "   -\\frac{3}{2}\\\\\n",
    "   \\frac{3}{4}\\\\\n",
    "   1\n",
    "   \\end{array}\\right]\n",
    "\\end{aligned}\n",
    "$$"
   ]
  },
  {
   "cell_type": "markdown",
   "id": "cac2c43b",
   "metadata": {
    "slideshow": {
     "slide_type": "slide"
    }
   },
   "source": [
    "## Symmetric matrices\n",
    "\n",
    "- symmetric matrices are square matrices $S$ with the property that\n",
    "\n",
    "$$\n",
    "S = S^T\n",
    "$$\n",
    "\n",
    "- if there is an LDU decomposition for a symmetric matrix $S$, then\n",
    "\n",
    "$$\n",
    "\\begin{aligned}\n",
    "S &= LDU\\\\\n",
    "L &= U^T\n",
    "\\end{aligned}\n",
    "$$\n",
    "\n",
    "- in other words, a symmetric matrix $S$ can be decomposed as\n",
    "$$\n",
    "S = LDL^T\n",
    "$$\n",
    "\n",
    "- if row permutation is required, it has to be accompanied by column permutation to preserve symmetry"
   ]
  },
  {
   "cell_type": "markdown",
   "id": "3ff889d1",
   "metadata": {
    "slideshow": {
     "slide_type": "slide"
    }
   },
   "source": [
    "### example\n",
    "\n"
   ]
  },
  {
   "cell_type": "code",
   "execution_count": 88,
   "id": "55a82bfd",
   "metadata": {},
   "outputs": [
    {
     "data": {
      "text/latex": [
       "$\\displaystyle \\left[\\begin{matrix}0 & 1 & 2\\\\1 & -1 & 1\\\\2 & 1 & 3\\end{matrix}\\right]$"
      ],
      "text/plain": [
       "Matrix([\n",
       "[0,  1, 2],\n",
       "[1, -1, 1],\n",
       "[2,  1, 3]])"
      ]
     },
     "execution_count": 88,
     "metadata": {},
     "output_type": "execute_result"
    }
   ],
   "source": [
    "S = Matrix([\n",
    "    [0, 1, 2],\n",
    "    [1, -1, 1],\n",
    "    [2, 1, 3]\n",
    "])\n",
    "S"
   ]
  },
  {
   "cell_type": "markdown",
   "id": "a5fb456f",
   "metadata": {},
   "source": [
    "- permutation matrix"
   ]
  },
  {
   "cell_type": "code",
   "execution_count": 89,
   "id": "fc7360f0",
   "metadata": {},
   "outputs": [],
   "source": [
    "l, u, p = S.LUdecomposition()"
   ]
  },
  {
   "cell_type": "code",
   "execution_count": 90,
   "id": "7e143cc3",
   "metadata": {},
   "outputs": [
    {
     "data": {
      "text/latex": [
       "$\\displaystyle \\left[\\begin{matrix}1 & 0 & 0\\\\0 & 1 & 0\\\\2 & 3 & 1\\end{matrix}\\right]$"
      ],
      "text/plain": [
       "Matrix([\n",
       "[1, 0, 0],\n",
       "[0, 1, 0],\n",
       "[2, 3, 1]])"
      ]
     },
     "execution_count": 90,
     "metadata": {},
     "output_type": "execute_result"
    }
   ],
   "source": [
    "l"
   ]
  },
  {
   "cell_type": "code",
   "execution_count": 91,
   "id": "cd073ac6",
   "metadata": {},
   "outputs": [
    {
     "data": {
      "text/latex": [
       "$\\displaystyle \\left[\\begin{matrix}1 & -1 & 1\\\\0 & 1 & 2\\\\0 & 0 & -5\\end{matrix}\\right]$"
      ],
      "text/plain": [
       "Matrix([\n",
       "[1, -1,  1],\n",
       "[0,  1,  2],\n",
       "[0,  0, -5]])"
      ]
     },
     "execution_count": 91,
     "metadata": {},
     "output_type": "execute_result"
    }
   ],
   "source": [
    "u"
   ]
  },
  {
   "cell_type": "code",
   "execution_count": 92,
   "id": "8f127254",
   "metadata": {},
   "outputs": [
    {
     "data": {
      "text/plain": [
       "[[0, 1]]"
      ]
     },
     "execution_count": 92,
     "metadata": {},
     "output_type": "execute_result"
    }
   ],
   "source": [
    "p"
   ]
  },
  {
   "cell_type": "code",
   "execution_count": 93,
   "id": "51cbdc64",
   "metadata": {},
   "outputs": [
    {
     "data": {
      "text/latex": [
       "$\\displaystyle \\left[\\begin{matrix}1 & -1 & 1\\\\0 & 1 & 2\\\\2 & 1 & 3\\end{matrix}\\right]$"
      ],
      "text/plain": [
       "Matrix([\n",
       "[1, -1, 1],\n",
       "[0,  1, 2],\n",
       "[2,  1, 3]])"
      ]
     },
     "execution_count": 93,
     "metadata": {},
     "output_type": "execute_result"
    }
   ],
   "source": [
    "l * u"
   ]
  },
  {
   "cell_type": "code",
   "execution_count": 94,
   "id": "9c2d414f",
   "metadata": {},
   "outputs": [
    {
     "data": {
      "text/latex": [
       "$\\displaystyle \\left[\\begin{matrix}0 & 0 & 1\\\\0 & 1 & 0\\\\1 & 0 & 0\\end{matrix}\\right]$"
      ],
      "text/plain": [
       "Matrix([\n",
       "[0, 0, 1],\n",
       "[0, 1, 0],\n",
       "[1, 0, 0]])"
      ]
     },
     "execution_count": 94,
     "metadata": {},
     "output_type": "execute_result"
    }
   ],
   "source": [
    "P = Matrix([\n",
    "    [0,0,1],\n",
    "    [0,1,0],\n",
    "    [1,0,0]\n",
    "])\n",
    "P"
   ]
  },
  {
   "cell_type": "code",
   "execution_count": 95,
   "id": "54e33533",
   "metadata": {},
   "outputs": [
    {
     "data": {
      "text/latex": [
       "$\\displaystyle \\left[\\begin{matrix}3 & 1 & 2\\\\1 & -1 & 1\\\\2 & 1 & 0\\end{matrix}\\right]$"
      ],
      "text/plain": [
       "Matrix([\n",
       "[3,  1, 2],\n",
       "[1, -1, 1],\n",
       "[2,  1, 0]])"
      ]
     },
     "execution_count": 95,
     "metadata": {},
     "output_type": "execute_result"
    }
   ],
   "source": [
    "S1 = P * S * P.T\n",
    "S1"
   ]
  },
  {
   "cell_type": "markdown",
   "id": "24c26325",
   "metadata": {
    "slideshow": {
     "slide_type": "slide"
    }
   },
   "source": [
    "$$\n",
    "\\begin{aligned}\n",
    "    L &= \\left[\\begin{matrix}1 & 0 & 0\\\\\\frac{1}{3} & 1 & 0\\\\\\frac{2}{3} & - \\frac{1}{4} & 1\\end{matrix}\\right]\\\\[1em]\n",
    "    D &= \\begin{bmatrix}\n",
    "    3 & 0 & 0\\\\\n",
    "    0 & -\\frac{4}{3} & 0\\\\\n",
    "    0 & 0 & -\\frac{5}{4}\n",
    "    \\end{bmatrix}\\\\\n",
    "    PSP^T &= L D L^T\n",
    "\\end{aligned}\n",
    "$$\n"
   ]
  }
 ],
 "metadata": {
  "@webio": {
   "lastCommId": null,
   "lastKernelId": null
  },
  "celltoolbar": "Slideshow",
  "hide_input": false,
  "kernelspec": {
   "display_name": "math_ml_24",
   "language": "python",
   "name": "python3"
  },
  "language_info": {
   "codemirror_mode": {
    "name": "ipython",
    "version": 3
   },
   "file_extension": ".py",
   "mimetype": "text/x-python",
   "name": "python",
   "nbconvert_exporter": "python",
   "pygments_lexer": "ipython3",
   "version": "3.9.11"
  },
  "latex_envs": {
   "LaTeX_envs_menu_present": true,
   "autoclose": false,
   "autocomplete": true,
   "bibliofile": "biblio.bib",
   "cite_by": "apalike",
   "current_citInitial": 1,
   "eqLabelWithNumbers": true,
   "eqNumInitial": 1,
   "hotkeys": {
    "equation": "Ctrl-E",
    "itemize": "Ctrl-I"
   },
   "labels_anchors": false,
   "latex_user_defs": false,
   "report_style_numbering": false,
   "user_envs_cfg": false
  },
  "rise": {
   "enable_chalkboard": true
  },
  "varInspector": {
   "cols": {
    "lenName": 16,
    "lenType": 16,
    "lenVar": 40
   },
   "kernels_config": {
    "python": {
     "delete_cmd_postfix": "",
     "delete_cmd_prefix": "del ",
     "library": "var_list.py",
     "varRefreshCmd": "print(var_dic_list())"
    },
    "r": {
     "delete_cmd_postfix": ") ",
     "delete_cmd_prefix": "rm(",
     "library": "var_list.r",
     "varRefreshCmd": "cat(var_dic_list()) "
    }
   },
   "types_to_exclude": [
    "module",
    "function",
    "builtin_function_or_method",
    "instance",
    "_Feature"
   ],
   "window_display": false
  }
 },
 "nbformat": 4,
 "nbformat_minor": 5
}
