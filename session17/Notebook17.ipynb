{
 "cells": [
  {
   "cell_type": "markdown",
   "id": "79c23bd9",
   "metadata": {
    "slideshow": {
     "slide_type": "slide"
    }
   },
   "source": [
    "# Mathematics for Machine Learning\n",
    "\n",
    "## Session 17: Differentiation (cont.)\n",
    "\n",
    "### Gerhard Jäger\n",
    "\n",
    "\n",
    "December 19, 2024\n",
    "\n",
    "---\n",
    "<br><br>\n",
    "\n",
    "<small>Most material taken from Chapter 2 of Keisler, H. Jerome. *Elementary Calculus: An Infinitesimal Approach*. 2012.</small><br>\n",
    "<small>Applets programmed with the help of ChatGPT</small>"
   ]
  },
  {
   "cell_type": "code",
   "execution_count": 1,
   "id": "644d8747",
   "metadata": {
    "slideshow": {
     "slide_type": "skip"
    }
   },
   "outputs": [],
   "source": [
    "import numpy as np\n",
    "import matplotlib.pyplot as plt\n",
    "from ipywidgets import interact\n"
   ]
  },
  {
   "cell_type": "markdown",
   "id": "5bb1c1a5",
   "metadata": {
    "slideshow": {
     "slide_type": "slide"
    }
   },
   "source": [
    "## Increment Theorem\n",
    "\n",
    "Let $y = f(x)$. Suppose $f'(x)$ exists at a certain point $x$, and $\\Delta x$ is infinitesimal. Then $\\Delta y$ is infinitesimal, and:\n",
    "\n",
    "$$\n",
    "\\Delta y = f'(x)\\Delta x + \\epsilon \\Delta x\n",
    "$$\n",
    "\n",
    "for some infinitesimal $\\epsilon$, which depends on $x$ and $\\Delta x$.\n",
    "\n",
    "'"
   ]
  },
  {
   "cell_type": "markdown",
   "id": "1b39492a",
   "metadata": {
    "slideshow": {
     "slide_type": "slide"
    }
   },
   "source": [
    "\n",
    "### Proof\n",
    "\n",
    "#### Case 1: $\\Delta x = 0$\n",
    "In this case, $\\Delta y = f'(x)\\Delta x = 0$, and we put $\\epsilon = 0$.\n",
    "\n",
    "#### Case 2: $\\Delta x \\neq 0$\n",
    "Then:\n",
    "\n",
    "$$\n",
    "\\frac{\\Delta y}{\\Delta x} \\approx f'(x),\n",
    "$$\n",
    "\n",
    "so for some infinitesimal $\\epsilon$:\n",
    "\n",
    "$$\n",
    "\\frac{\\Delta y}{\\Delta x} = f'(x) + \\epsilon.\n",
    "$$\n",
    "\n",
    "Multiplying both sides by $\\Delta x$:\n",
    "\n",
    "$$\n",
    "\\Delta y = f'(x)\\Delta x + \\epsilon \\Delta x.\n",
    "$$\n"
   ]
  },
  {
   "cell_type": "markdown",
   "id": "3f6c12e3",
   "metadata": {
    "slideshow": {
     "slide_type": "slide"
    }
   },
   "source": [
    "## Differentials\n",
    "\n",
    "**DEFINITION**\n",
    "\n",
    "Suppose $y$ depends on $x$, $y = f(x)$.\n",
    "\n",
    "(i) The **differential** of $x$ is the independent variable ${dx} = \\Delta x$.  \n",
    "(ii) The **differential** of $y$ is the dependent variable ${dy}$ given by  \n",
    "$$\n",
    "{dy} = f'(x) \\mathrm{dx}.\n",
    "$$\n",
    "\n",
    "When ${dx} \\neq 0$, the equation above may be rewritten as  \n",
    "$$\n",
    "\\frac{{dy}}{{dx}} = f'(x).\n",
    "$$\n",
    "\n",
    "Compare this equation with  \n",
    "$$\n",
    "\\frac{\\Delta y}{\\Delta x} \\approx f'(x).\n",
    "$$\n",
    "\n",
    "The quotient ${dy}/{dx}$ is a very convenient alternative symbol for the derivative $f'(x)$.  \n",
    "\n",
    "The differential ${dy}$ depends on two independent variables $x$ and ${dx}$. In functional notation,  \n",
    "$$\n",
    "{dy} = {d}f(x, {dx}),\n",
    "$$\n",
    "where $df$ is the real function of two variables defined by  \n",
    "$$\n",
    "{d}f(x, {dx}) = f'(x) {dx}.\n",
    "$$\n"
   ]
  },
  {
   "cell_type": "markdown",
   "id": "989cac51",
   "metadata": {
    "slideshow": {
     "slide_type": "slide"
    }
   },
   "source": [
    "**THEOREM**\n",
    "\n",
    "The derivative of a linear function is equal to the coefficient of $x$. That is,\n",
    "\n",
    "$$\n",
    "\\frac{d(bx + c)}{dx} = b, \\quad d(bx + c) = b \\, dx.\n",
    "$$\n",
    "\n",
    "**PROOF** Let $y = bx + c$, and let $\\Delta x \\neq 0$ be infinitesimal. Then:\n",
    "\n",
    "$$\n",
    "y + \\Delta y = b(x + \\Delta x) + c,\n",
    "$$\n",
    "\n",
    "$$\n",
    "\\Delta y = (b(x + \\Delta x) + c) - (bx + c) = b \\Delta x,\n",
    "$$\n",
    "\n",
    "$$\n",
    "\\frac{\\Delta y}{\\Delta x} = \\frac{b \\Delta x}{\\Delta x} = b.\n",
    "$$\n",
    "\n",
    "Therefore:\n",
    "\n",
    "$$\n",
    "\\frac{dy}{dx} = \\text{st}(b) = b.\n",
    "$$\n"
   ]
  },
  {
   "cell_type": "markdown",
   "id": "469d4629",
   "metadata": {
    "slideshow": {
     "slide_type": "slide"
    }
   },
   "source": [
    "**THEOREM (Sum Rule)**\n",
    "\n",
    "Suppose $u$ and $v$ depend on the independent variable $x$. Then for any value of $x$ where $\\frac{du}{dx}$ and $\\frac{dv}{dx}$ exist:\n",
    "\n",
    "$$\n",
    "\\frac{d(u + v)}{dx} = \\frac{du}{dx} + \\frac{dv}{dx}, \\quad d(u + v) = du + dv.\n",
    "$$\n",
    "\n",
    "In other words, the derivative of the sum is the sum of the derivatives.\n",
    "\n",
    "---\n",
    "\n",
    "**PROOF**  \n",
    "Let $y = u + v$, and let $\\Delta x \\neq 0$ be infinitesimal. Then:\n",
    "\n",
    "$$\n",
    "y + \\Delta y = (u + \\Delta u) + (v + \\Delta v),\n",
    "$$\n",
    "\n",
    "$$\n",
    "\\Delta y = [(u + \\Delta u) + (v + \\Delta v)] - [u + v] = \\Delta u + \\Delta v,\n",
    "$$\n",
    "\n",
    "$$\n",
    "\\frac{\\Delta y}{\\Delta x} = \\frac{\\Delta u + \\Delta v}{\\Delta x} = \\frac{\\Delta u}{\\Delta x} + \\frac{\\Delta v}{\\Delta x}.\n",
    "$$\n",
    "\n",
    "Taking standard parts:\n",
    "\n",
    "$$\n",
    "\\text{st}\\left(\\frac{\\Delta y}{\\Delta x}\\right) = \\text{st}\\left(\\frac{\\Delta u}{\\Delta x} + \\frac{\\Delta v}{\\Delta x}\\right) = \\text{st}\\left(\\frac{\\Delta u}{\\Delta x}\\right) + \\text{st}\\left(\\frac{\\Delta v}{\\Delta x}\\right).\n",
    "$$\n",
    "\n",
    "Thus:\n",
    "\n",
    "$$\n",
    "\\frac{dy}{dx} = \\frac{du}{dx} + \\frac{dv}{dx}.\n",
    "$$\n"
   ]
  },
  {
   "cell_type": "markdown",
   "id": "11f0f3c1",
   "metadata": {
    "slideshow": {
     "slide_type": "slide"
    }
   },
   "source": [
    "**THEOREM (Constant Rule)**\n",
    "\n",
    "Suppose $u$ depends on $x$, and $c$ is a real number. Then for any value of $x$ where $\\frac{du}{dx}$ exists:\n",
    "\n",
    "$$\n",
    "\\frac{d(cu)}{dx} = c \\frac{du}{dx}, \\quad d(cu) = c \\, du.\n",
    "$$\n",
    "\n",
    "---\n",
    "\n",
    "**PROOF**  \n",
    "Let $y = cu$, and let $\\Delta x \\neq 0$ be infinitesimal. Then:\n",
    "\n",
    "$$\n",
    "y + \\Delta y = c(u + \\Delta u),\n",
    "$$\n",
    "\n",
    "$$\n",
    "\\Delta y = c(u + \\Delta u) - cu = c \\, \\Delta u,\n",
    "$$\n",
    "\n",
    "$$\n",
    "\\frac{\\Delta y}{\\Delta x} = \\frac{c \\, \\Delta u}{\\Delta x} = c \\frac{\\Delta u}{\\Delta x}.\n",
    "$$\n",
    "\n",
    "Taking standard parts:\n",
    "\n",
    "$$\n",
    "\\text{st}\\left(\\frac{\\Delta y}{\\Delta x}\\right) = \\text{st}\\left(c \\frac{\\Delta u}{\\Delta x}\\right) = c \\, \\text{st}\\left(\\frac{\\Delta u}{\\Delta x}\\right).\n",
    "$$\n",
    "\n",
    "Thus:\n",
    "\n",
    "$$\n",
    "\\frac{dy}{dx} = c \\frac{du}{dx}.\n",
    "$$\n"
   ]
  },
  {
   "cell_type": "markdown",
   "id": "79f660c8",
   "metadata": {
    "slideshow": {
     "slide_type": "slide"
    }
   },
   "source": [
    "**THEOREM (Product Rule)**\n",
    "\n",
    "Suppose $u$ and $v$ depend on $x$. Then for any value of $x$ where $\\frac{du}{dx}$ and $\\frac{dv}{dx}$ exist:\n",
    "\n",
    "$$\n",
    "\\frac{d(uv)}{dx} = u \\frac{dv}{dx} + v \\frac{du}{dx}, \\quad d(uv) = u \\, dv + v \\, du.\n",
    "$$\n",
    "\n",
    "---\n",
    "\n",
    "**PROOF**  \n",
    "Let $y = uv$, and let $\\Delta x \\neq 0$ be infinitesimal. Then:\n",
    "\n",
    "$$\n",
    "y + \\Delta y = (u + \\Delta u)(v + \\Delta v),\n",
    "$$\n",
    "\n",
    "$$\n",
    "\\Delta y = (u + \\Delta u)(v + \\Delta v) - uv = u \\Delta v + v \\Delta u + \\Delta u \\Delta v,\n",
    "$$\n",
    "\n",
    "$$\n",
    "\\frac{\\Delta y}{\\Delta x} = \\frac{u \\Delta v + v \\Delta u + \\Delta u \\Delta v}{\\Delta x} = u \\frac{\\Delta v}{\\Delta x} + v \\frac{\\Delta u}{\\Delta x} + \\frac{\\Delta u \\Delta v}{\\Delta x}.\n",
    "$$\n",
    "\n",
    "$\\Delta u$ is infinitesimal by the Increment Theorem, whence:\n",
    "\n",
    "$$\n",
    "\\text{st}\\left(\\frac{\\Delta y}{\\Delta x}\\right) = \\text{st}\\left(u \\frac{\\Delta v}{\\Delta x} + v \\frac{\\Delta u}{\\Delta x} + \\frac{\\Delta u \\Delta v}{\\Delta x}\\right),\n",
    "$$\n",
    "\n",
    "$$\n",
    "= u \\cdot \\text{st}\\left(\\frac{\\Delta v}{\\Delta x}\\right) + v \\cdot \\text{st}\\left(\\frac{\\Delta u}{\\Delta x}\\right) + 0 \\cdot \\text{st}\\left(\\frac{\\Delta u}{\\Delta x}\\right).\n",
    "$$\n",
    "\n",
    "Thus:\n",
    "\n",
    "$$\n",
    "\\frac{dy}{dx} = u \\frac{dv}{dx} + v \\frac{du}{dx}.\n",
    "$$\n"
   ]
  },
  {
   "cell_type": "markdown",
   "id": "aad3ed08",
   "metadata": {
    "slideshow": {
     "slide_type": "slide"
    }
   },
   "source": [
    "## Example: $y = x^4$\n",
    "\n",
    "We can find the result by using $\\frac{dx^2}{dx} = 2x$ and the product rule.\n",
    "\n",
    "$$\n",
    "\\begin{align}\n",
    "\\frac{dx^4}{dx} &= \\frac{d(x^2 \\times x^2)}{dx}\\\\\n",
    "&= x^2\\frac{dx^2}{dx} + x^2\\frac{dx^2}{dx}\\\\\n",
    "&= 2(x^2\\frac{dx^2}{dx})\\\\\n",
    "&= 2(x^2 \\times 2x)\\\\\n",
    "&= 4x^3\n",
    "\\end{align}\n",
    "$$"
   ]
  },
  {
   "cell_type": "markdown",
   "id": "16c4b47f",
   "metadata": {
    "slideshow": {
     "slide_type": "slide"
    }
   },
   "source": [
    "# Generalization: $y = x^n$ for positive integers $n$\n",
    "\n",
    "From the examples we have seen $(x^2, x^3, x^4)$, it seems there is a general rule\n",
    "\n",
    "$$\n",
    "\\frac{dx^n}{dx} = nx^{n-1}\n",
    "$$\n",
    "\n",
    "Let's prove this. We will do this via **induction**.\n",
    "\n",
    "## PRINCIPLE OF INDUCTION\n",
    "\n",
    "*Suppose a statement P(n) about an arbitrary integer n is true when n = 1. Suppose further that for any positive integer m such that P(m) is true, P(m + 1) is also true. Then the statement P(n) is true of every positive integer n.*\n"
   ]
  },
  {
   "cell_type": "markdown",
   "id": "4ac47c39",
   "metadata": {
    "slideshow": {
     "slide_type": "slide"
    }
   },
   "source": [
    "- $n=1$\n",
    "\n",
    "$$\n",
    "\\begin{align}\n",
    "\\frac{dx^1}{dx} &= 1 \\\\\n",
    "&= 1x^0\n",
    "\\end{align}\n",
    "$$\n",
    "\n",
    "- $n>1$\n",
    "\n",
    "    Suppose it holds that $\\frac{dx^n}{dx} = nx^{n-1}$. We have to show that the law also holds for $n+1$, i.e., that $\\frac{dx^{n+1}}{dx} = (n+1)x^n$.\n",
    "    \n",
    "    $$\n",
    "    \\begin{align}\n",
    "    \\frac{dx^{n+1}}{dx} &= \\frac{d(x\\times x^{n})}{dx}\\\\\n",
    "    &= x\\times nx^{n-1} + x^n & \\text{(product rule)}\\\\\n",
    "    &= nx^n + x^n\\\\\n",
    "    &= (n+1)x^n\n",
    "    \\end{align}\n",
    "    $$"
   ]
  },
  {
   "cell_type": "markdown",
   "id": "bdb01b4c",
   "metadata": {
    "slideshow": {
     "slide_type": "slide"
    }
   },
   "source": [
    "**THEOREM (Quotient Rule)**\n",
    "\n",
    "Suppose $u, v$ depend on $x$. Then for any value of $x$ where $\\frac{du}{dx}$, $\\frac{dv}{dx}$ exist and $v \\neq 0$:\n",
    "\n",
    "$$\n",
    "\\frac{d\\left(\\frac{u}{v}\\right)}{dx} = \\frac{v \\frac{du}{dx} - u \\frac{dv}{dx}}{v^2}, \\quad d\\left(\\frac{u}{v}\\right) = \\frac{v \\, du - u \\, dv}{v^2}.\n",
    "$$\n",
    "\n",
    "\n"
   ]
  },
  {
   "cell_type": "markdown",
   "id": "adf9c3e9",
   "metadata": {},
   "source": [
    "**PROOF**  \n",
    "\n",
    "$$\n",
    "\\begin{align}\n",
    "y &= \\frac{u}{v}\\\\\n",
    "y + \\Delta y &= \\frac{u+\\Delta u}{v+\\Delta v}\\\\\n",
    "\\Delta y &= \\frac{u+\\Delta u}{v+\\Delta v} - \\frac{u}{v}\\\\\n",
    "&= \\frac{v(u+\\Delta u) - u(v+\\Delta v)}{v(v+\\Delta v)}\\\\\n",
    "&= \\frac{uv+v\\Delta u - uv - u \\Delta v}{v^2+v\\Delta v}\\\\\n",
    "&= \\frac{v\\Delta u  - u \\Delta v}{v^2+v\\Delta v}\\\\\n",
    "\\frac{\\Delta y}{\\Delta x} &= \\frac{v\\frac{\\Delta u}{\\Delta x}  - u \\frac{\\Delta v}{\\Delta x}}{v^2+v\\Delta v}\\\\\n",
    "\\frac{dy}{dx} &= st\\frac{\\Delta y}{\\Delta x}\\\\\n",
    "&= st\\frac{v\\frac{\\Delta u}{\\Delta x}  - u \\frac{\\Delta v}{\\Delta x}}{v^2+v\\Delta v}\\\\\n",
    "&= \\frac{v\\frac{d u}{d x}  - u \\frac{d v}{d x}}{v^2}\\\\\n",
    "\\end{align}\n",
    "$$"
   ]
  },
  {
   "cell_type": "markdown",
   "id": "5b87ddd4",
   "metadata": {},
   "source": [
    "**THEOREM (Chain Rule)**\n",
    "\n",
    "Suppose $u$ depends on $v$, and $v$ depends on $x$. Then for any value of $x$ where $\\frac{du}{dv}$ and $\\frac{dv}{dx}$ exist:\n",
    "\n",
    "\n",
    "$$\n",
    "\\begin{align}\n",
    "y &= u(v(x))\\\\\n",
    "y + \\Delta y &= u(v(x+\\Delta x))\\\\\n",
    "\\end{align}\n",
    "$$\n",
    "\n",
    "**PROOF**\n",
    "\n",
    "\n",
    "According to the Increment Theorem:\n",
    "$$\n",
    "v(x+\\Delta x) = v(x) + \\frac{dv}{dx}\\Delta x + \\varepsilon \\Delta x\n",
    "$$\n",
    "for some infinitesimal $\\varepsilon$. Therefore\n",
    "$$\n",
    "\\begin{align}\n",
    "y + \\Delta y &= u(v(x) + \\frac{dv}{dx}\\Delta x + \\varepsilon\\Delta x)\n",
    "\\end{align}\n",
    "$$\n",
    "The Increment Theorem also entails\n",
    "$$\n",
    "u(z + \\Delta z) = u(z) + \\frac{du}{dz}\\Delta z + \\delta \\Delta z\n",
    "$$\n",
    "for some infinitesimal $\\delta$. If we let $z = v(x)$ and $\\Delta z=\\frac{dv}{dx}\\Delta x + \\varepsilon\\Delta x$ , we get\n",
    "$$\n",
    "\\begin{align}\n",
    "y + \\Delta y &= u(v(x)) + \\frac{du}{dz}(\\frac{dv}{dx}\\Delta x + \\varepsilon\\Delta x) + \\delta (\\frac{dv}{dx}\\Delta x + \\varepsilon\\Delta x)\\\\\n",
    "\\Delta y &= \\frac{du}{dv}(\\frac{dv}{dx}\\Delta x + \\varepsilon\\Delta x) + \\delta (\\frac{dv}{dx}\\Delta x + \\varepsilon\\Delta x)\\\\\n",
    "\\frac{\\Delta y}{\\Delta x} &= \\frac{du}{dv}(\\frac{dv}{dx} + \\varepsilon) + \\delta (\\frac{dv}{dx} + \\varepsilon)\\\\\n",
    "\\frac{dy}{dx} &=st\\frac{\\Delta y}{\\Delta x}\\\\\n",
    "&= st(\\frac{du}{dv}(\\frac{dv}{dx} + \\varepsilon) + \\delta (\\frac{dv}{dx} + \\varepsilon))\\\\\n",
    "&= \\frac{du}{dv}\\frac{dv}{dx}\n",
    "\\end{align}\n",
    "$$\n",
    "\n",
    "\n"
   ]
  },
  {
   "cell_type": "code",
   "execution_count": null,
   "id": "3484bce1",
   "metadata": {},
   "outputs": [],
   "source": []
  }
 ],
 "metadata": {
  "@webio": {
   "lastCommId": null,
   "lastKernelId": null
  },
  "celltoolbar": "Slideshow",
  "hide_input": false,
  "kernelspec": {
   "display_name": "Python 3 (ipykernel)",
   "language": "python",
   "name": "python3"
  },
  "language_info": {
   "codemirror_mode": {
    "name": "ipython",
    "version": 3
   },
   "file_extension": ".py",
   "mimetype": "text/x-python",
   "name": "python",
   "nbconvert_exporter": "python",
   "pygments_lexer": "ipython3",
   "version": "3.9.11"
  },
  "rise": {
   "enable_chalkboard": true
  },
  "varInspector": {
   "cols": {
    "lenName": 16,
    "lenType": 16,
    "lenVar": 40
   },
   "kernels_config": {
    "python": {
     "delete_cmd_postfix": "",
     "delete_cmd_prefix": "del ",
     "library": "var_list.py",
     "varRefreshCmd": "print(var_dic_list())"
    },
    "r": {
     "delete_cmd_postfix": ") ",
     "delete_cmd_prefix": "rm(",
     "library": "var_list.r",
     "varRefreshCmd": "cat(var_dic_list()) "
    }
   },
   "types_to_exclude": [
    "module",
    "function",
    "builtin_function_or_method",
    "instance",
    "_Feature"
   ],
   "window_display": false
  }
 },
 "nbformat": 4,
 "nbformat_minor": 5
}
