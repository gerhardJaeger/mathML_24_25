{
 "cells": [
  {
   "cell_type": "markdown",
   "id": "79c23bd9",
   "metadata": {
    "slideshow": {
     "slide_type": "slide"
    }
   },
   "source": [
    "# Mathematics for Machine Learning\n",
    "\n",
    "## Session 17: Differentiation (cont.)\n",
    "\n",
    "### Gerhard Jäger\n",
    "\n",
    "\n",
    "December 19, 2024\n",
    "\n",
    "---\n",
    "<br><br>\n",
    "\n",
    "<small>Most material taken from Chapter 2 of Keisler, H. Jerome. *Elementary Calculus: An Infinitesimal Approach*. 2012.</small><br>\n",
    "<small>Applets programmed with the help of ChatGPT</small>"
   ]
  },
  {
   "cell_type": "code",
   "execution_count": 1,
   "id": "644d8747",
   "metadata": {
    "slideshow": {
     "slide_type": "skip"
    }
   },
   "outputs": [],
   "source": [
    "import numpy as np\n",
    "import matplotlib.pyplot as plt\n",
    "from ipywidgets import interact\n"
   ]
  },
  {
   "cell_type": "markdown",
   "id": "5bb1c1a5",
   "metadata": {
    "slideshow": {
     "slide_type": "slide"
    }
   },
   "source": [
    "## Increment Theorem\n",
    "\n",
    "Let $y = f(x)$. Suppose $f'(x)$ exists at a certain point $x$, and $\\Delta x$ is infinitesimal. Then $\\Delta y$ is infinitesimal, and:\n",
    "\n",
    "$$\n",
    "\\Delta y = f'(x)\\Delta x + \\epsilon \\Delta x\n",
    "$$\n",
    "\n",
    "for some infinitesimal $\\epsilon$, which depends on $x$ and $\\Delta x$.\n",
    "\n",
    "'"
   ]
  },
  {
   "cell_type": "markdown",
   "id": "1b39492a",
   "metadata": {
    "slideshow": {
     "slide_type": "slide"
    }
   },
   "source": [
    "\n",
    "### Proof\n",
    "\n",
    "#### Case 1: $\\Delta x = 0$\n",
    "In this case, $\\Delta y = f'(x)\\Delta x = 0$, and we put $\\epsilon = 0$.\n",
    "\n",
    "#### Case 2: $\\Delta x \\neq 0$\n",
    "Then:\n",
    "\n",
    "$$\n",
    "\\frac{\\Delta y}{\\Delta x} \\approx f'(x),\n",
    "$$\n",
    "\n",
    "so for some infinitesimal $\\epsilon$:\n",
    "\n",
    "$$\n",
    "\\frac{\\Delta y}{\\Delta x} = f'(x) + \\epsilon.\n",
    "$$\n",
    "\n",
    "Multiplying both sides by $\\Delta x$:\n",
    "\n",
    "$$\n",
    "\\Delta y = f'(x)\\Delta x + \\epsilon \\Delta x.\n",
    "$$\n"
   ]
  },
  {
   "cell_type": "markdown",
   "id": "3f6c12e3",
   "metadata": {
    "slideshow": {
     "slide_type": "slide"
    }
   },
   "source": [
    "## Differentials\n",
    "\n",
    "**DEFINITION**\n",
    "\n",
    "Suppose $y$ depends on $x$, $y = f(x)$.\n",
    "\n",
    "(i) The **differential** of $x$ is the independent variable ${dx} = \\Delta x$.  \n",
    "(ii) The **differential** of $y$ is the dependent variable ${dy}$ given by  \n",
    "$$\n",
    "{dy} = f'(x) \\mathrm{dx}.\n",
    "$$\n",
    "\n",
    "When ${dx} \\neq 0$, the equation above may be rewritten as  \n",
    "$$\n",
    "\\frac{{dy}}{{dx}} = f'(x).\n",
    "$$\n",
    "\n",
    "Compare this equation with  \n",
    "$$\n",
    "\\frac{\\Delta y}{\\Delta x} \\approx f'(x).\n",
    "$$\n",
    "\n",
    "The quotient ${dy}/{dx}$ is a very convenient alternative symbol for the derivative $f'(x)$.  \n",
    "\n",
    "The differential ${dy}$ depends on two independent variables $x$ and ${dx}$. In functional notation,  \n",
    "$$\n",
    "{dy} = {d}f(x, {dx}),\n",
    "$$\n",
    "where $df$ is the real function of two variables defined by  \n",
    "$$\n",
    "{d}f(x, {dx}) = f'(x) {dx}.\n",
    "$$\n"
   ]
  },
  {
   "cell_type": "markdown",
   "id": "989cac51",
   "metadata": {
    "slideshow": {
     "slide_type": "slide"
    }
   },
   "source": [
    "**THEOREM**\n",
    "\n",
    "The derivative of a linear function is equal to the coefficient of $x$. That is,\n",
    "\n",
    "$$\n",
    "\\frac{d(bx + c)}{dx} = b, \\quad d(bx + c) = b \\, dx.\n",
    "$$\n",
    "\n",
    "**PROOF** Let $y = bx + c$, and let $\\Delta x \\neq 0$ be infinitesimal. Then:\n",
    "\n",
    "$$\n",
    "y + \\Delta y = b(x + \\Delta x) + c,\n",
    "$$\n",
    "\n",
    "$$\n",
    "\\Delta y = (b(x + \\Delta x) + c) - (bx + c) = b \\Delta x,\n",
    "$$\n",
    "\n",
    "$$\n",
    "\\frac{\\Delta y}{\\Delta x} = \\frac{b \\Delta x}{\\Delta x} = b.\n",
    "$$\n",
    "\n",
    "Therefore:\n",
    "\n",
    "$$\n",
    "\\frac{dy}{dx} = \\text{st}(b) = b.\n",
    "$$\n"
   ]
  },
  {
   "cell_type": "markdown",
   "id": "469d4629",
   "metadata": {
    "slideshow": {
     "slide_type": "slide"
    }
   },
   "source": [
    "**THEOREM (Sum Rule)**\n",
    "\n",
    "Suppose $u$ and $v$ depend on the independent variable $x$. Then for any value of $x$ where $\\frac{du}{dx}$ and $\\frac{dv}{dx}$ exist:\n",
    "\n",
    "$$\n",
    "\\frac{d(u + v)}{dx} = \\frac{du}{dx} + \\frac{dv}{dx}, \\quad d(u + v) = du + dv.\n",
    "$$\n",
    "\n",
    "In other words, the derivative of the sum is the sum of the derivatives.\n",
    "\n",
    "---\n",
    "\n",
    "**PROOF**  \n",
    "Let $y = u + v$, and let $\\Delta x \\neq 0$ be infinitesimal. Then:\n",
    "\n",
    "$$\n",
    "y + \\Delta y = (u + \\Delta u) + (v + \\Delta v),\n",
    "$$\n",
    "\n",
    "$$\n",
    "\\Delta y = [(u + \\Delta u) + (v + \\Delta v)] - [u + v] = \\Delta u + \\Delta v,\n",
    "$$\n",
    "\n",
    "$$\n",
    "\\frac{\\Delta y}{\\Delta x} = \\frac{\\Delta u + \\Delta v}{\\Delta x} = \\frac{\\Delta u}{\\Delta x} + \\frac{\\Delta v}{\\Delta x}.\n",
    "$$\n",
    "\n",
    "Taking standard parts:\n",
    "\n",
    "$$\n",
    "\\text{st}\\left(\\frac{\\Delta y}{\\Delta x}\\right) = \\text{st}\\left(\\frac{\\Delta u}{\\Delta x} + \\frac{\\Delta v}{\\Delta x}\\right) = \\text{st}\\left(\\frac{\\Delta u}{\\Delta x}\\right) + \\text{st}\\left(\\frac{\\Delta v}{\\Delta x}\\right).\n",
    "$$\n",
    "\n",
    "Thus:\n",
    "\n",
    "$$\n",
    "\\frac{dy}{dx} = \\frac{du}{dx} + \\frac{dv}{dx}.\n",
    "$$\n"
   ]
  },
  {
   "cell_type": "markdown",
   "id": "11f0f3c1",
   "metadata": {
    "slideshow": {
     "slide_type": "slide"
    }
   },
   "source": [
    "**THEOREM (Constant Rule)**\n",
    "\n",
    "Suppose $u$ depends on $x$, and $c$ is a real number. Then for any value of $x$ where $\\frac{du}{dx}$ exists:\n",
    "\n",
    "$$\n",
    "\\frac{d(cu)}{dx} = c \\frac{du}{dx}, \\quad d(cu) = c \\, du.\n",
    "$$\n",
    "\n",
    "---\n",
    "\n",
    "**PROOF**  \n",
    "Let $y = cu$, and let $\\Delta x \\neq 0$ be infinitesimal. Then:\n",
    "\n",
    "$$\n",
    "y + \\Delta y = c(u + \\Delta u),\n",
    "$$\n",
    "\n",
    "$$\n",
    "\\Delta y = c(u + \\Delta u) - cu = c \\, \\Delta u,\n",
    "$$\n",
    "\n",
    "$$\n",
    "\\frac{\\Delta y}{\\Delta x} = \\frac{c \\, \\Delta u}{\\Delta x} = c \\frac{\\Delta u}{\\Delta x}.\n",
    "$$\n",
    "\n",
    "Taking standard parts:\n",
    "\n",
    "$$\n",
    "\\text{st}\\left(\\frac{\\Delta y}{\\Delta x}\\right) = \\text{st}\\left(c \\frac{\\Delta u}{\\Delta x}\\right) = c \\, \\text{st}\\left(\\frac{\\Delta u}{\\Delta x}\\right).\n",
    "$$\n",
    "\n",
    "Thus:\n",
    "\n",
    "$$\n",
    "\\frac{dy}{dx} = c \\frac{du}{dx}.\n",
    "$$\n"
   ]
  }
 ],
 "metadata": {
  "@webio": {
   "lastCommId": null,
   "lastKernelId": null
  },
  "celltoolbar": "Slideshow",
  "hide_input": false,
  "kernelspec": {
   "display_name": "Python 3 (ipykernel)",
   "language": "python",
   "name": "python3"
  },
  "language_info": {
   "codemirror_mode": {
    "name": "ipython",
    "version": 3
   },
   "file_extension": ".py",
   "mimetype": "text/x-python",
   "name": "python",
   "nbconvert_exporter": "python",
   "pygments_lexer": "ipython3",
   "version": "3.9.11"
  },
  "rise": {
   "enable_chalkboard": true
  },
  "varInspector": {
   "cols": {
    "lenName": 16,
    "lenType": 16,
    "lenVar": 40
   },
   "kernels_config": {
    "python": {
     "delete_cmd_postfix": "",
     "delete_cmd_prefix": "del ",
     "library": "var_list.py",
     "varRefreshCmd": "print(var_dic_list())"
    },
    "r": {
     "delete_cmd_postfix": ") ",
     "delete_cmd_prefix": "rm(",
     "library": "var_list.r",
     "varRefreshCmd": "cat(var_dic_list()) "
    }
   },
   "types_to_exclude": [
    "module",
    "function",
    "builtin_function_or_method",
    "instance",
    "_Feature"
   ],
   "window_display": false
  }
 },
 "nbformat": 4,
 "nbformat_minor": 5
}
