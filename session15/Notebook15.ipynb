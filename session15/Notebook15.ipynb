{
 "cells": [
  {
   "cell_type": "markdown",
   "id": "7a13348c",
   "metadata": {
    "slideshow": {
     "slide_type": "slide"
    }
   },
   "source": [
    "# Mathematics for Machine Learning\n",
    "\n",
    "## Session 15: Hyperreal numbers\n",
    "\n",
    "### Gerhard Jäger\n",
    "\n",
    "\n",
    "December 12, 2024\n",
    "\n",
    "---\n",
    "<br><br>\n",
    "\n",
    "<small>Most material taken from Chapter 1 of Keisler, H. Jerome. *Elementary Calculus: An Infinitesimal Approach*. 2012.</small><br>\n",
    "<small>Applets programmed with the help of ChatGPT</small>"
   ]
  },
  {
   "cell_type": "markdown",
   "id": "3b2cc933",
   "metadata": {
    "slideshow": {
     "slide_type": "slide"
    }
   },
   "source": [
    "# Calculus\n",
    "\n",
    "I will use an unusual approach to calculus in this course. It goes by the name of *Nonstandard Analysis*. There is an excellent textbook I will use:\n",
    "\n",
    "* Keisler, H. Jerome. *Elementary Calculus: An Infinitesimal Approach*. 2012.\n",
    "\n",
    "It is available in Moodle."
   ]
  },
  {
   "cell_type": "markdown",
   "id": "8b914beb",
   "metadata": {
    "slideshow": {
     "slide_type": "slide"
    }
   },
   "source": [
    "## Minimizing a multivariate function\n",
    "\n",
    "- very frequent task in ML\n",
    "- typyical example: training a neural network\n",
    "- central notion: **gradient**\n",
    "    - direction vector in which the target function changes fastest\n",
    "    - norm of the gradient proportional to amount of change in target function\n",
    "    \n",
    "**Differential calculus** studies how we can compute the gradient of a function."
   ]
  },
  {
   "cell_type": "code",
   "execution_count": 1,
   "id": "601a8ee3",
   "metadata": {
    "slideshow": {
     "slide_type": "skip"
    }
   },
   "outputs": [],
   "source": [
    "import numpy as np\n",
    "import matplotlib.pyplot as plt\n",
    "from ipywidgets import interact\n"
   ]
  },
  {
   "cell_type": "code",
   "execution_count": 14,
   "id": "e58a7202",
   "metadata": {
    "hide_input": true
   },
   "outputs": [
    {
     "data": {
      "application/vnd.jupyter.widget-view+json": {
       "model_id": "f1da29ff20d940a5b15755e90c098575",
       "version_major": 2,
       "version_minor": 0
      },
      "text/plain": [
       "interactive(children=(FloatSlider(value=0.0, description='x_point', max=2.0, min=-2.0), FloatSlider(value=0.0,…"
      ]
     },
     "metadata": {},
     "output_type": "display_data"
    }
   ],
   "source": [
    "import numpy as np\n",
    "import matplotlib.pyplot as plt\n",
    "from ipywidgets import interactive\n",
    "\n",
    "# Define a 2D loss function\n",
    "def loss_function(x, y):\n",
    "    return np.sin(3 * x) * np.cos(3 * y) + x**2 - y**2  # Multimodal, uneven landscape\n",
    "\n",
    "# Compute gradient at a given point\n",
    "def gradient(x, y):\n",
    "    grad_x = 3 * np.cos(3 * x) * np.cos(3 * y) + 2 * x\n",
    "    grad_y = -3 * np.sin(3 * x) * np.sin(3 * y) - 2 * y\n",
    "    return grad_x, grad_y\n",
    "\n",
    "# Generate a grid of points for the loss function\n",
    "x = np.linspace(-2, 2, 100)\n",
    "y = np.linspace(-2, 2, 100)\n",
    "X, Y = np.meshgrid(x, y)\n",
    "Z = loss_function(X, Y)\n",
    "\n",
    "# Interactive plot function\n",
    "def plot_loss_and_gradient(x_point, y_point):\n",
    "    # Compute gradient at the point\n",
    "    grad_x, grad_y = gradient(x_point, y_point)\n",
    "\n",
    "    # Shorten the gradient vector\n",
    "    scale_factor = 0.5\n",
    "    grad_x *= scale_factor\n",
    "    grad_y *= scale_factor\n",
    "\n",
    "    # Plot the loss function and gradient vector\n",
    "    plt.figure(figsize=(10, 8))\n",
    "\n",
    "    # Contour plot of the loss function\n",
    "    contour = plt.contour(X, Y, Z, levels=20, cmap='viridis')\n",
    "    plt.clabel(contour, inline=True, fontsize=8)\n",
    "\n",
    "    # Add color representation\n",
    "    plt.imshow(Z, extent=(-2, 2, -2, 2), origin='lower', cmap='viridis', alpha=0.6)\n",
    "    plt.colorbar(label=\"Loss Value\")\n",
    "\n",
    "    # Plot the gradient vector with an arrow head\n",
    "    plt.quiver(x_point, y_point, grad_x, grad_y, color='red', angles='xy', scale_units='xy', scale=1, label=\"Gradient Vector\")\n",
    "\n",
    "    # Highlight the point\n",
    "    plt.scatter(x_point, y_point, color='blue', label=\"Point of Interest\")\n",
    "\n",
    "    # Add labels, title, and legend\n",
    "    plt.xlabel(\"x\")\n",
    "    plt.ylabel(\"y\")\n",
    "    plt.title(\"Loss Function and Gradient Vector\")\n",
    "    plt.legend()\n",
    "    plt.grid(True)\n",
    "    plt.show()\n",
    "\n",
    "# Create interactive widget\n",
    "interactive_plot = interactive(plot_loss_and_gradient, x_point=(-2.0, 2.0, 0.1), y_point=(-2.0, 2.0, 0.1))\n",
    "output = interactive_plot.children[-1]\n",
    "output.layout.height = '600px'\n",
    "interactive_plot\n"
   ]
  },
  {
   "cell_type": "markdown",
   "id": "a062bac5",
   "metadata": {
    "slideshow": {
     "slide_type": "slide"
    }
   },
   "source": [
    "We start with univariate functions."
   ]
  },
  {
   "cell_type": "code",
   "execution_count": 6,
   "id": "3f9b2369",
   "metadata": {
    "hide_input": true,
    "slideshow": {
     "slide_type": "-"
    }
   },
   "outputs": [
    {
     "data": {
      "application/vnd.jupyter.widget-view+json": {
       "model_id": "cb01dd29379447f996919a4be8a5ee3f",
       "version_major": 2,
       "version_minor": 0
      },
      "text/plain": [
       "interactive(children=(FloatSlider(value=1.0, description='x0', max=4.0, min=-2.0), FloatSlider(value=1.0, desc…"
      ]
     },
     "metadata": {},
     "output_type": "display_data"
    },
    {
     "data": {
      "text/plain": [
       "<function __main__.plot_secant_tangent(x0=1.0, dx=1.0)>"
      ]
     },
     "execution_count": 6,
     "metadata": {},
     "output_type": "execute_result"
    }
   ],
   "source": [
    "\n",
    "\n",
    "# Define the function to be visualized\n",
    "def f(x):\n",
    "    return x**2  # Example function\n",
    "\n",
    "# Function to create the interactive plot\n",
    "def plot_secant_tangent(x0=1.0, dx=1.0):\n",
    "    # Define the range for x\n",
    "    x = np.linspace(-2, 4, 500)\n",
    "    y = f(x)\n",
    "\n",
    "    # Define the points for secant line\n",
    "    x2 = x0 + dx\n",
    "    y0 = f(x0)\n",
    "    y2 = f(x2)\n",
    "\n",
    "    # Calculate the slope of the secant line\n",
    "    slope = (y2 - y0) / (x2 - x0)\n",
    "\n",
    "    # Equation of the secant line\n",
    "    secant_line = lambda x: y0 + slope * (x - x0)\n",
    "\n",
    "    # Plot the function\n",
    "    plt.figure(figsize=(12, 9))\n",
    "    plt.plot(x, y, label=\"Function $f(x)=x^2$\", color=\"blue\")\n",
    "\n",
    "    # Plot the secant line\n",
    "    x_secant = np.linspace(-4, 6, 500)  # Extend the secant line indefinitely\n",
    "    plt.plot(x_secant, secant_line(x_secant), label=\"Secant line\", color=\"green\")\n",
    "\n",
    "    # Plot the tangent line when dx is very small\n",
    "    if abs(dx) < 0.01:\n",
    "        tangent_slope = 2 * x0  # Derivative of x^2\n",
    "        tangent_line = lambda x: f(x0) + tangent_slope * (x - x0)\n",
    "        plt.plot(x, tangent_line(x), label=\"Tangent line (dx -> 0)\", color=\"red\", linestyle=\"--\")\n",
    "\n",
    "    # Highlight points on the curve\n",
    "    plt.scatter([x0, x2], [y0, y2], color=\"black\", label=\"Secant points\")\n",
    "    plt.scatter([x0], [f(x0)], color=\"orange\", label=\"Tangent point\")\n",
    "\n",
    "    # Add labels, title, legend, and grid\n",
    "    plt.xlabel(\"x\")\n",
    "    plt.ylabel(\"f(x)\")\n",
    "    plt.title(\"Secant and Tangent Lines\")\n",
    "    plt.axhline(0, color='black', linewidth=0.8, linestyle='--')\n",
    "    plt.axvline(0, color='black', linewidth=0.8, linestyle='--')\n",
    "    plt.xlim(-2, 4)\n",
    "    plt.ylim(-1, 16)\n",
    "    plt.legend()\n",
    "    plt.grid(True)\n",
    "    plt.show()\n",
    "\n",
    "# Interactive widget\n",
    "interact(plot_secant_tangent, x0=(-2.0, 4.0, 0.1), dx=(-2.0, 2.0, 0.01))"
   ]
  },
  {
   "cell_type": "markdown",
   "id": "f9005023",
   "metadata": {},
   "source": [
    "(code developed with ChatGPT)"
   ]
  },
  {
   "cell_type": "markdown",
   "id": "def1399a",
   "metadata": {},
   "source": [
    "- goal: compute the **slope** of the tangent at a given point $x$."
   ]
  },
  {
   "cell_type": "markdown",
   "id": "52069296",
   "metadata": {
    "slideshow": {
     "slide_type": "slide"
    }
   },
   "source": [
    "## Nonstandard Analysis\n",
    "\n",
    "The idea is to introduce a new number system, the *hyperreal numbers*, which contains the real numbers as a proper subset. The hyperreal numbers contain infinitesimals, numbers that are smaller than any positive real number, but not zero. This allows us to define the derivative of a function as the ratio of infinitesimals.\n",
    "\n",
    "The inventors of the infinitesimal calculus, Newton and Leibniz, used infinitesimals in their work. However, they did not have a rigorous foundation for their approach. It was only in the 19th century that the concept of limits was introduced, and the calculus was put on a solid foundation. The concept of limits is very powerful, but it is also somewhat abstract and difficult to understand. The concept of infinitesimals is more intuitive and easier to work with.\n",
    "\n",
    "In the 1960s, the mathematician Abraham Robinson developed a rigorous foundation for the calculus using infinitesimals. This foundation is called *nonstandard analysis*. It is based on the theory of *ultraproducts*, which is a branch of mathematical logic.\n",
    "\n",
    "I will treat not really treat the model-theoretic foundations in this course. If you want to go deeper, check out Keisler's book and the references therein."
   ]
  },
  {
   "cell_type": "markdown",
   "id": "babdc5e0",
   "metadata": {
    "slideshow": {
     "slide_type": "slide"
    }
   },
   "source": [
    "## Hyperreal numbers\n",
    "\n",
    "We extend the real numbers by adding at least one *infinitesimal number*, which we denote by $\\varepsilon$. \n",
    "\n",
    "- $\\varepsilon > 0$\n",
    "- For every positive real number $x$: $0 < \\varepsilon < x$\n",
    "\n",
    "All operations that we know from the real numbers can be extended to the hyperreal numbers. For example, we can add, subtract, multiply, and divide hyperreal numbers. We can also take powers, roots, and trigonometric functions of hyperreal numbers.\n",
    "\n",
    "Therefore:\n",
    "\n",
    "- $0 < \\ldots < \\varepsilon^3 < \\varepsilon^2 < \\varepsilon < x$, for every positive real number $x$.\n",
    "- for each real number, $\\frac{1}{\\varepsilon} > x$\n",
    "\n",
    "$\\frac{1}{\\varepsilon}$ is an *infinite number*."
   ]
  },
  {
   "cell_type": "markdown",
   "id": "619aa975",
   "metadata": {
    "slideshow": {
     "slide_type": "slide"
    }
   },
   "source": [
    "- A number $\\varepsilon$ is called *infinitesimally small* or *infinitesimal* if for each real number $a\\neq 0$:\n",
    "  $$\n",
    "  -|a| < \\varepsilon < |a|\n",
    "  $$\n",
    "- A number $M$ is called *positive infinite* if for each real number $a$:\n",
    "    $$\n",
    "    M > a\n",
    "    $$\n",
    "- A number $M$ is called *negative infinite* if for each real number $a$:\n",
    "    $$\n",
    "    M < a\n",
    "    $$\n",
    "    \n",
    "- A number $M$ is called *infinite* if it either negative or positive infinite.\n",
    "    \n",
    "- A number $a$ is called *finite* if it is neither infinitesimal nore infinite."
   ]
  },
  {
   "cell_type": "markdown",
   "id": "2584bb4c",
   "metadata": {
    "slideshow": {
     "slide_type": "slide"
    }
   },
   "source": [
    "<img src=\"_img/hyperreals.svg\"  width=\"1000\" style=\"display: block; margin-left: auto; margin-right: auto;\">"
   ]
  },
  {
   "cell_type": "markdown",
   "id": "bcc38417",
   "metadata": {
    "slideshow": {
     "slide_type": "slide"
    }
   },
   "source": [
    "## The Extension Principle\n",
    "\n",
    "- The real numbers form a subset of the hyperreal numbers, and the order relation $x<y$ for the real numbers is a subset of the order relation for the hyperreal numbers.\n",
    "- There is a hyperreal number that is greater than $0$ but less than every positive real number.\n",
    "- For every real function $f$ of one or more variables we are given a corresponding hyperreal function $f^*$ of the same number of variables. $f^*$ is called the natural extension of $f$.\n",
    "\n",
    "## Transfer Principle\n",
    "\n",
    "Every real statement that holds for one or more particular real functions holds for the hyperreal natural extension of these functions.\n",
    "\n"
   ]
  },
  {
   "cell_type": "markdown",
   "id": "4a42fca4",
   "metadata": {
    "slideshow": {
     "slide_type": "slide"
    }
   },
   "source": [
    "1. **Closure law for addition**: for any $x$ and $y$, the sum $x + y$ is defined.\n",
    "2. **Commutative law for addition**: $x + y = y + x$.\n",
    "3. **A rule for order**: If $0 < x < y$, then $0 < 1/y < 1/x$.\n",
    "4. **Division by zero is never allowed**: $x/0$ is undefined.\n",
    "5. **An algebraic identity**: $(x - y)^2 = x^2 - 2xy + y^2$.\n",
    "6. **A trigonometric identity**: $\\sin^2 x + \\cos^2 x = 1$.\n",
    "7. **A rule for logarithms**: If $x > 0$ and $y > 0$, then $\\log_{10} (xy) = \\log_{10} x + \\log_{10} y$.\n"
   ]
  },
  {
   "cell_type": "markdown",
   "id": "454620f6",
   "metadata": {
    "slideshow": {
     "slide_type": "slide"
    }
   },
   "source": [
    "## Rules for infinitesimal, finite and infinite numbers\n",
    "\n",
    "Assume that $ \\varepsilon, \\delta $ are infinitesimals; $b, c$ are hyperreal numbers that are finite but not infinitesimal; and $H, K$ are infinite hyperreal numbers.\n",
    "\n",
    "1. **Real numbers**:  \n",
    "   - The only infinitesimal real number is $0$.  \n",
    "   - Every real number is finite.  \n",
    "\n",
    "2. **Negatives**:  \n",
    "   - $-\\varepsilon$ is infinitesimal.  \n",
    "   - $-b$ is finite but not infinitesimal.  \n",
    "   - $-H$ is infinite.  \n",
    "\n",
    "3. **Reciprocals**:  \n",
    "   - If $ \\varepsilon \\neq 0 $, $1/\\varepsilon$ is infinite.  \n",
    "   - $1/b$ is finite but not infinitesimal.  \n",
    "   - $1/H$ is infinitesimal.  \n",
    "\n",
    "\n"
   ]
  },
  {
   "cell_type": "markdown",
   "id": "29e9d061",
   "metadata": {
    "slideshow": {
     "slide_type": "slide"
    }
   },
   "source": [
    "4. **Sums**:  \n",
    "   - $\\varepsilon + \\delta$ is infinitesimal.  \n",
    "   - $b + \\varepsilon$ is finite but not infinitesimal.  \n",
    "   - $b + c$ is finite (possibly infinitesimal).  \n",
    "   - $H + \\varepsilon$ and $H + b$ are infinite.  \n",
    "5. **Products**:  \n",
    "   - $\\delta \\cdot \\varepsilon$ and $b \\cdot \\varepsilon$ are infinitesimal.  \n",
    "   - $b \\cdot c$ is finite but not infinitesimal.  \n",
    "   - $H \\cdot b$ and $H \\cdot K$ are infinite.  \n",
    "\n",
    "\n",
    "6. **Quotients**:  \n",
    "   - $\\varepsilon / b, \\varepsilon / H$, and $b / H$ are infinitesimal.  \n",
    "   - $b / c$ is finite but not infinitesimal.  \n",
    "   - $b / \\varepsilon, H / \\varepsilon$, and $H / b$ are infinite, provided that $ \\varepsilon \\neq 0 $.  \n",
    "\n",
    "7. **Roots**:  \n",
    "   - If $\\varepsilon > 0$, $\\sqrt[n]{\\varepsilon}$ is infinitesimal.  \n",
    "   - If $b > 0$, $\\sqrt[n]{b}$ is finite but not infinitesimal.  \n",
    "   - If $H > 0$, $\\sqrt[n]{H}$ is infinite.  \n",
    "\n",
    "\n",
    "\n",
    "\n",
    "\n"
   ]
  },
  {
   "cell_type": "markdown",
   "id": "3d5ef03d",
   "metadata": {
    "slideshow": {
     "slide_type": "slide"
    }
   },
   "source": [
    "There are no rules for the following combinations:\n",
    "\n",
    "$ \\varepsilon / \\delta $, the quotient of two infinitesimals.  \n",
    "$ H / K $, the quotient of two infinite numbers.  \n",
    "$ H \\epsilon $, the product of an infinite number and an infinitesimal.  \n",
    "$ H + K $, the sum of two infinite numbers.  \n",
    "\n",
    "Each of these can be either infinitesimal, finite but not infinitesimal, or infinite, depending on $\\varepsilon$, $\\Delta$, $H$ and $K$."
   ]
  },
  {
   "cell_type": "markdown",
   "id": "9a22ccf2",
   "metadata": {
    "slideshow": {
     "slide_type": "slide"
    }
   },
   "source": [
    "### Examples\n",
    "\n",
    "$\\frac{\\varepsilon^2}{\\varepsilon}$ is infinitesimal (equal to $\\varepsilon$).  \n",
    "$\\frac{\\varepsilon}{\\varepsilon}$ is finite but not infinitesimal (equal to $1$).  \n",
    "$\\frac{\\varepsilon}{\\varepsilon^2}$ is infinite (equal to $\\frac{1}{\\varepsilon}$).  \n"
   ]
  },
  {
   "cell_type": "markdown",
   "id": "c99e4425",
   "metadata": {
    "slideshow": {
     "slide_type": "slide"
    }
   },
   "source": [
    "### Examples\n",
    "\n",
    "$$\n",
    "\\frac{b - 3\\varepsilon}{c + 2\\delta}\n",
    "$$"
   ]
  },
  {
   "cell_type": "markdown",
   "id": "3cd31245",
   "metadata": {
    "slideshow": {
     "slide_type": "fragment"
    }
   },
   "source": [
    "finite"
   ]
  },
  {
   "cell_type": "markdown",
   "id": "f30ff725",
   "metadata": {
    "slideshow": {
     "slide_type": "fragment"
    }
   },
   "source": [
    "$$\n",
    "\\frac{5\\varepsilon^4 - 8\\varepsilon^3+\\varepsilon^2}{3\\varepsilon}\n",
    "$$\n"
   ]
  },
  {
   "cell_type": "markdown",
   "id": "678cadc3",
   "metadata": {
    "slideshow": {
     "slide_type": "fragment"
    }
   },
   "source": [
    "infinitesimal if $\\varepsilon \\neq 0$, undefined else"
   ]
  },
  {
   "cell_type": "markdown",
   "id": "5a1a1635",
   "metadata": {
    "slideshow": {
     "slide_type": "fragment"
    }
   },
   "source": [
    "$$\n",
    "\\frac{\\varepsilon^4-\\varepsilon^3+2\\varepsilon^2}{5\\varepsilon^4 + \\varepsilon^3}\n",
    "$$"
   ]
  },
  {
   "cell_type": "markdown",
   "id": "ac0c7b93",
   "metadata": {
    "slideshow": {
     "slide_type": "fragment"
    }
   },
   "source": [
    "infinite"
   ]
  },
  {
   "cell_type": "markdown",
   "id": "ac0f6182",
   "metadata": {
    "slideshow": {
     "slide_type": "slide"
    }
   },
   "source": [
    "**THEOREM 1**\n",
    "\n",
    "(i) Every hyperreal number which is between two infinitesimals is infinitesimal.\n",
    "\n",
    "(ii) Every hyperreal number which is between two finite hyperreal numbers is finite.\n",
    "\n",
    "(iii) Every hyperreal number which is greater than some positive infinite number is positive infinite.\n",
    "\n",
    "(iv) Every hyperreal number which is less than some negative infinite number is negative infinite.\n"
   ]
  },
  {
   "cell_type": "markdown",
   "id": "f15bcd17",
   "metadata": {
    "slideshow": {
     "slide_type": "slide"
    }
   },
   "source": [
    "**EXAMPLE**  \n",
    "If $H$ is positive infinite then, surprisingly,  \n",
    "\n",
    "$$\n",
    "\\sqrt{H + 1} - \\sqrt{H - 1}\n",
    "$$  \n",
    "\n",
    "is infinitesimal.  \n",
    "\n",
    "This is shown using an algebraic trick:  \n",
    "\n",
    "$$\n",
    "\\sqrt{H + 1} - \\sqrt{H - 1} = \\frac{\\left(\\sqrt{H + 1} - \\sqrt{H - 1}\\right)\\left(\\sqrt{H + 1} + \\sqrt{H - 1}\\right)}{\\sqrt{H + 1} + \\sqrt{H - 1}}\n",
    "$$  \n",
    "\n",
    "$$\n",
    "= \\frac{(H + 1) - (H - 1)}{\\sqrt{H + 1} + \\sqrt{H - 1}} = \\frac{2}{\\sqrt{H + 1} + \\sqrt{H - 1}}.\n",
    "$$  \n",
    "\n",
    "The numbers $H + 1$, $H - 1$, and their square roots are positive infinite, and thus the sum $\\sqrt{H + 1} + \\sqrt{H - 1}$ is positive infinite.  \n",
    "\n",
    "Therefore, the quotient  \n",
    "\n",
    "$$\n",
    "\\sqrt{H + 1} - \\sqrt{H - 1} = \\frac{2}{\\sqrt{H + 1} + \\sqrt{H - 1}},\n",
    "$$  \n",
    "\n",
    "a finite number divided by an infinite number, is infinitesimal.\n"
   ]
  },
  {
   "cell_type": "markdown",
   "id": "96ae9371",
   "metadata": {
    "slideshow": {
     "slide_type": "slide"
    }
   },
   "source": [
    "## Standard parts\n",
    "\n",
    "**DEFINITION**  \n",
    "\n",
    "Two hyperreal numbers $b$ and $c$ are said to be infinitely close to each other, in symbols $b \\approx c$, if their difference $b - c$ is infinitesimal. $b \\not\\approx c$ means that $b$ is not infinitely close to $c$.  \n",
    "\n",
    "Here are three simple remarks:  \n",
    "\n",
    "1. **If $\\varepsilon$ is infinitesimal, then $b \\approx b + \\varepsilon$**.  \n",
    "   This is true because the difference, $b - (b + \\varepsilon) = -\\varepsilon$, is infinitesimal.  \n",
    "\n",
    "2. **$b$ is infinitesimal if and only if $b \\approx 0$**.  \n",
    "   The formula $b \\approx 0$ will be used as a short way of writing \"b is infinitesimal.\"  \n",
    "\n",
    "3. **If $b$ and $c$ are real and $b$ is infinitely close to $c$, then $b$ equals $c$**.  \n",
    "   $b - c$ is real and infinitesimal, hence zero; so $b = c$.  \n"
   ]
  },
  {
   "cell_type": "markdown",
   "id": "63441f01",
   "metadata": {
    "slideshow": {
     "slide_type": "slide"
    }
   },
   "source": [
    "**THEOREM**  \n",
    "\n",
    "Let $a$, $b$, and $c$ be hyperreal numbers.  \n",
    "\n",
    "1. $a \\approx a$.  \n",
    "2. If $a \\approx b$, then $b \\approx a$.  \n",
    "3. If $a \\approx b$ and $b \\approx c$, then $a \\approx c$.  \n",
    "\n",
    "\n",
    "\n",
    "**THEOREM 2**  \n",
    "\n",
    "Assume $a \\approx b$. Then:  \n",
    "\n",
    "1. If $a$ is infinitesimal, so is $b$.  \n",
    "2. If $a$ is finite, so is $b$.  \n",
    "3. If $a$ is infinite, so is $b$.  \n"
   ]
  },
  {
   "cell_type": "markdown",
   "id": "4d3fa769",
   "metadata": {
    "slideshow": {
     "slide_type": "slide"
    }
   },
   "source": [
    "### STANDARD PART PRINCIPLE  \n",
    "\n",
    "Every finite hyperreal number is infinitely close to exactly one real number.  \n",
    "\n",
    "### DEFINITION  \n",
    "\n",
    "Let $b$ be a finite hyperreal number. The **standard part** of $b$, denoted by $\\text{st}(b)$, is the real number which is infinitely close to $b$. Infinite hyperreal numbers do not have standard parts.  \n",
    "\n",
    "Here are some facts that follow at once from the definition:  \n",
    "\n",
    "- Let $b$ be a finite hyperreal number:  \n",
    "\n",
    "    1. $\\text{st}(b)$ is a real number.  \n",
    "    2. $b = \\text{st}(b) + \\varepsilon$ for some infinitesimal $\\varepsilon$.  \n",
    "    3. If $b$ is real, then $b = \\text{st}(b)$.  \n"
   ]
  },
  {
   "cell_type": "markdown",
   "id": "cce6d809",
   "metadata": {
    "slideshow": {
     "slide_type": "slide"
    }
   },
   "source": [
    "**THEOREM**  \n",
    "\n",
    "Let $a$ and $b$ be finite hyperreal numbers. Then:  \n",
    "\n",
    "1. $\\text{st}(-a) = -\\text{st}(a)$.  \n",
    "2. $\\text{st}(a + b) = \\text{st}(a) + \\text{st}(b)$.  \n",
    "3. $\\text{st}(a - b) = \\text{st}(a) - \\text{st}(b)$.  \n",
    "4. $\\text{st}(ab) = \\text{st}(a) \\cdot \\text{st}(b)$.  \n",
    "5. If $\\text{st}(b) \\neq 0$, then $\\text{st}(a/b) = \\text{st}(a)/\\text{st}(b)$.  \n",
    "6. $\\text{st}(a^n) = (\\text{st}(a))^n$.  \n",
    "7. If $a \\geq 0$, then $\\text{st}(\\sqrt[n]{a}) = \\sqrt[n]{\\text{st}(a)}$.  \n",
    "8. If $a \\leq b$, then $\\text{st}(a) \\leq \\text{st}(b)$.  \n"
   ]
  },
  {
   "cell_type": "markdown",
   "id": "5fe89c7d",
   "metadata": {
    "slideshow": {
     "slide_type": "slide"
    }
   },
   "source": [
    "**EXAMPLE 1**  \n",
    "\n",
    "When $\\Delta x$ is an infinitesimal and $x$ is real, compute the standard part of  \n",
    "\n",
    "$$\n",
    "3x^2 + 3x \\Delta x + (\\Delta x)^2.\n",
    "$$  \n"
   ]
  },
  {
   "cell_type": "markdown",
   "id": "737df8e2",
   "metadata": {
    "slideshow": {
     "slide_type": "fragment"
    }
   },
   "source": [
    "\n",
    "Using the rules in Theorem 3, we can write  \n",
    "\n",
    "$$\n",
    "\\text{st}(3x^2 + 3x \\Delta x + (\\Delta x)^2) = \\text{st}(3x^2) + \\text{st}(3x \\Delta x) + \\text{st}((\\Delta x)^2)\n",
    "$$  \n",
    "\n",
    "$$\n",
    "= 3x^2 + \\text{st}(3x) \\cdot \\text{st}(\\Delta x) + \\text{st}((\\Delta x)^2)\n",
    "$$  \n",
    "\n",
    "$$\n",
    "= 3x^2 + 3x \\cdot 0 + 0^2 = 3x^2.\n",
    "$$  \n"
   ]
  },
  {
   "cell_type": "markdown",
   "id": "d8dbb9d3",
   "metadata": {
    "slideshow": {
     "slide_type": "slide"
    }
   },
   "source": [
    "**EXAMPLE 2**  \n",
    "\n",
    "If $\\text{st}(c) = 4$ and $c \\neq 4$, find  \n",
    "\n",
    "$$\n",
    "\\text{st}\\left(\\frac{c^2 + 2c - 24}{c^2 - 16}\\right).\n",
    "$$  \n"
   ]
  },
  {
   "cell_type": "markdown",
   "id": "af36f26a",
   "metadata": {
    "slideshow": {
     "slide_type": "fragment"
    }
   },
   "source": [
    "$$\n",
    "\\begin{align}\n",
    "\\text{st}\\left(\\frac{c^2 + 2c - 24}{c^2 - 16}\\right) &= \\text{sc}\\left(\\frac{(c+6)(c-4)}{(c+4)(c-4)}\\right)\\\\\n",
    "&= \\text{sc}\\left(\\frac{c+6}{c+4}\\right)\\\\\n",
    "&= \\frac{\\text{sc}(c+6)}{\\text{sc}(c+4)}\\\\\n",
    "&= \\frac{\\text{sc}(c)+\\text{st}(6)}{\\text{sc}(c)+\\text{st}(4)}\\\\\n",
    "&=\\frac{4+6}{4+4}\\\\\n",
    "&= \\frac{10}{8}\n",
    "\\end{align}\n",
    "$$"
   ]
  },
  {
   "cell_type": "markdown",
   "id": "b48b5faf",
   "metadata": {
    "slideshow": {
     "slide_type": "slide"
    }
   },
   "source": [
    "**EXAMPLE 3**  \n",
    "\n",
    "If $H$ is a positive infinite hyperreal number, compute the standard part of  \n",
    "\n",
    "$$\n",
    "c = \\frac{2H^3 + 5H^2 - 3H}{7H^3 - 2H^2 + 4H}.\n",
    "$$  \n"
   ]
  },
  {
   "cell_type": "markdown",
   "id": "d950fc7d",
   "metadata": {
    "slideshow": {
     "slide_type": "fragment"
    }
   },
   "source": [
    "$$\n",
    "\\begin{align}\n",
    "\\text{st}\\frac{2H^3 + 5H^2 - 3H}{7H^3 - 2H^2 + 4H} &= \\text{st}\\frac{\n",
    "2 + \\frac{5}{H}-\\frac{3}{H^2}}{7 - \\frac{2}{H} + \\frac{4}{H^2}}\\\\\n",
    "&= \\frac{2}{7}\n",
    "\\end{align}\n",
    "$$"
   ]
  },
  {
   "cell_type": "markdown",
   "id": "dfd2f2df",
   "metadata": {
    "slideshow": {
     "slide_type": "slide"
    }
   },
   "source": [
    "**EXAMPLE 4**  \n",
    "\n",
    "If $\\varepsilon$ is infinitesimal but not zero, find the standard part of  \n",
    "\n",
    "$$\n",
    "b = \\frac{\\varepsilon}{5 - \\sqrt{25 + \\varepsilon}}.\n",
    "$$  \n"
   ]
  },
  {
   "cell_type": "markdown",
   "id": "47400e12",
   "metadata": {
    "slideshow": {
     "slide_type": "slide"
    }
   },
   "source": [
    "There is a general law saying\n",
    "$$\n",
    "(a+b)(a-b) = a^2-b^2\n",
    "$$\n",
    "\n",
    "Using this, we get\n",
    "$$\n",
    "\\begin{align}\n",
    "b &= \\frac{\\varepsilon(5+\\sqrt{25+\\varepsilon})}{(5 - \\sqrt{25 + \\varepsilon})(5+\\sqrt{25+\\varepsilon})}\\\\\n",
    "&=\\frac{5\\varepsilon+\\varepsilon\\sqrt{25+\\varepsilon}}{25-(25+\\varepsilon)}\\\\\n",
    "&=\\frac{5\\varepsilon+\\varepsilon\\sqrt{25+\\varepsilon}}{-\\varepsilon}\\\\\n",
    "&= -5 - \\sqrt{25+\\varepsilon}\\\\\n",
    "\\text{st}(b) &= \\text{st}(-5 - \\sqrt{25+\\varepsilon})\\\\\n",
    "&= \\text{st}(-5) - \\text{st}(\\sqrt{25+\\varepsilon})\\\\\n",
    "&= -5 -\\sqrt{\\text{st}(25+\\varepsilon)}\\\\\n",
    "&= -5 -\\sqrt{\\text{st}(25)+\\text{st}(\\varepsilon)}\\\\\n",
    "&= -5 -\\sqrt{25+0}\\\\\n",
    "&= -10\n",
    "\\end{align}\n",
    "$$"
   ]
  }
 ],
 "metadata": {
  "@webio": {
   "lastCommId": null,
   "lastKernelId": null
  },
  "celltoolbar": "Slideshow",
  "hide_input": false,
  "kernelspec": {
   "display_name": "Python 3 (ipykernel)",
   "language": "python",
   "name": "python3"
  },
  "language_info": {
   "codemirror_mode": {
    "name": "ipython",
    "version": 3
   },
   "file_extension": ".py",
   "mimetype": "text/x-python",
   "name": "python",
   "nbconvert_exporter": "python",
   "pygments_lexer": "ipython3",
   "version": "3.9.11"
  },
  "rise": {
   "enable_chalkboard": true
  },
  "varInspector": {
   "cols": {
    "lenName": 16,
    "lenType": 16,
    "lenVar": 40
   },
   "kernels_config": {
    "python": {
     "delete_cmd_postfix": "",
     "delete_cmd_prefix": "del ",
     "library": "var_list.py",
     "varRefreshCmd": "print(var_dic_list())"
    },
    "r": {
     "delete_cmd_postfix": ") ",
     "delete_cmd_prefix": "rm(",
     "library": "var_list.r",
     "varRefreshCmd": "cat(var_dic_list()) "
    }
   },
   "types_to_exclude": [
    "module",
    "function",
    "builtin_function_or_method",
    "instance",
    "_Feature"
   ],
   "window_display": false
  }
 },
 "nbformat": 4,
 "nbformat_minor": 5
}
