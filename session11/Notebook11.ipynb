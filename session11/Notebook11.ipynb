{
 "cells": [
  {
   "cell_type": "code",
   "execution_count": 1,
   "id": "6b6d3e8a",
   "metadata": {
    "slideshow": {
     "slide_type": "skip"
    }
   },
   "outputs": [],
   "source": [
    "import sympy\n",
    "from sympy import Matrix, Rational, sqrt, symbols, zeros, simplify, exp\n",
    "import numpy as np\n",
    "import matplotlib.pyplot as plt\n",
    "import ipywidgets as widgets\n",
    "from ipywidgets import interact, interactive, fixed, interact_manual\n",
    "import matplotlib.pyplot as plt\n",
    "%matplotlib notebook\n"
   ]
  },
  {
   "cell_type": "markdown",
   "id": "88b696c6",
   "metadata": {
    "slideshow": {
     "slide_type": "slide"
    }
   },
   "source": [
    "# Mathematics for Machine Learning\n",
    "    \n",
    "## Session 11: Defective matrices\n",
    "    \n",
    "## Gerhard Jäger\n",
    "    \n",
    "### November 26, 2024"
   ]
  },
  {
   "cell_type": "markdown",
   "id": "f4f9b580",
   "metadata": {
    "slideshow": {
     "slide_type": "slide"
    }
   },
   "source": [
    "## Defective matrices\n",
    "\n",
    "**Defective Matrices** are square matrices that lack a complete set of linearly independent eigenvectors.\n",
    "\n",
    "- **Characteristics**:\n",
    "  - Cannot be diagonalized.\n",
    "  - The geometric multiplicity of at least one eigenvalue is less than its algebraic multiplicity.\n",
    "- **Implications**:\n",
    "  - Standard techniques like diagonalization are not directly applicable.\n",
    "  - Requires alternative methods for analysis, like Jordan canonical form."
   ]
  },
  {
   "cell_type": "markdown",
   "id": "d26a542e",
   "metadata": {
    "slideshow": {
     "slide_type": "slide"
    }
   },
   "source": [
    "### Algebraic vs Geometric Multiplicity\n",
    "\n",
    "The concept of a defective matrix is rooted in the difference between algebraic and geometric multiplicities of eigenvalues.\n",
    "\n",
    "- **Algebraic Multiplicity**: The number of times an eigenvalue appears as a root of the characteristic polynomial.\n",
    "- **Geometric Multiplicity**: The number of linearly independent eigenvectors associated with an eigenvalue (= the dimensionality of the corresponding eigenspace).\n",
    "\n",
    "**Defective Matrix Criterion**: A matrix is defective if, for any eigenvalue, its geometric multiplicity is less than its algebraic multiplicity.\n"
   ]
  },
  {
   "cell_type": "markdown",
   "id": "7374f6ed",
   "metadata": {
    "slideshow": {
     "slide_type": "slide"
    }
   },
   "source": [
    "### Diagonalization and Defective Matrices\n",
    "\n",
    "Diagonalization is a key concept in understanding defective matrices.\n",
    "\n",
    "- **Diagonalizable Matrix**: Can be expressed as $$P^{-1}AP = \\Lambda,$$ where $ A $ is the matrix, $ P $ contains the eigenvectors, and $ \\Lambda $ is a diagonal matrix of eigenvalues.\n",
    "- **Defective Matrix**: Lacks sufficient number of linearly independent eigenvectors to form matrix $ P $, making diagonalization impossible.\n",
    "\n",
    "**Result**: Alternative methods, like *Jordan canonical form*, are needed to analyze defective matrices.\n"
   ]
  },
  {
   "cell_type": "markdown",
   "id": "0f72f4ba",
   "metadata": {
    "slideshow": {
     "slide_type": "slide"
    }
   },
   "source": [
    "### Example of a Defective Matrix\n",
    "\n",
    "Consider the matrix $$ A = \\begin{pmatrix} 5 & 4 \\\\ -1 & 1 \\end{pmatrix} $$.\n",
    "\n",
    "- **Characteristic Polynomial**: \n",
    "\n",
    "$$ (5 - \\lambda)(1 - \\lambda) + 4 = \\lambda^2 - 6\\lambda + 9 = (\\lambda - 3)^2$$ \n",
    "\n",
    "\n",
    "leads to a single eigenvalue $\\lambda = 3$ with algebraic multiplicity 2.\n",
    "- **Eigenvectors**: Solving $$(A - 3I)\\mathbf v = 0$$ yields only one linearly independent eigenvector, $\\begin{pmatrix}-2\\\\1\\end{pmatrix}$.\n",
    "\n"
   ]
  },
  {
   "cell_type": "markdown",
   "id": "1f72ddd9",
   "metadata": {
    "slideshow": {
     "slide_type": "slide"
    }
   },
   "source": [
    "### Working with Defective Matrices\n",
    "\n",
    "Handling defective matrices requires alternative approaches:\n",
    "\n",
    "- **Jordan Canonical Form**: A way to bring matrices to a nearly diagonal form, useful for defective matrices.\n",
    "- **Applications**:\n",
    "  - In fields where diagonalization is crucial but not directly applicable.\n",
    "  - In studying systems with complex or repeated eigenvalues.\n",
    "\n",
    "\n"
   ]
  },
  {
   "cell_type": "markdown",
   "id": "d432988c",
   "metadata": {
    "slideshow": {
     "slide_type": "slide"
    }
   },
   "source": [
    "### Understanding Jordan Blocks\n",
    "\n",
    "A **Jordan Block** is a key component of the Jordan Canonical Form.\n",
    "\n",
    "- **Definition**: A square matrix with an eigenvalue repeated along the main diagonal, ones on the superdiagonal, and zeros elsewhere.\n",
    "- **Example**:\n",
    "  - A 3x3 Jordan block for eigenvalue $ \\lambda $ looks like:\n",
    "    $$\n",
    "    \\begin{pmatrix}\n",
    "    \\lambda & 1 & 0 \\\\\n",
    "    0 & \\lambda & 1 \\\\\n",
    "    0 & 0 & \\lambda\n",
    "    \\end{pmatrix}\n",
    "    $$\n",
    "    \n",
    "- **Another example**:\n",
    "    - a 5x5 matrix with a 2x2 and a 3x3 Jordan block.\n",
    "    \n",
    "    $$\n",
    "    \\begin{pmatrix}\n",
    "    4 & 1 & 0 & 0 & 0\\\\\n",
    "    0 & 4 & 0 & 0 & 0\\\\\n",
    "    0 & 0 & -2 & 1 & 0\\\\\n",
    "    0 & 0 & 0 & -2 & 1\\\\\n",
    "    0 & 0 & 0 & 0 & -2\\\\\n",
    "    \\end{pmatrix}\n",
    "    $$\n",
    "\n",
    "**Significance**: Each Jordan block corresponds to an eigenvalue and its associated generalized eigenvectors.\n"
   ]
  },
  {
   "cell_type": "markdown",
   "id": "e17a0f31",
   "metadata": {
    "slideshow": {
     "slide_type": "slide"
    }
   },
   "source": [
    "### Generalized Eigenvectors\n",
    "\n",
    "**Generalized Eigenvectors** are essential in constructing the Jordan Canonical Form.\n",
    "\n",
    "- **Definition**: Vectors $\\mathbf v$ that are not eigenvectors but satisfy $$(A - \\lambda I)^k \\mathbf v = 0$$ for some integer $$k > 1$$.\n",
    "- **Role**: Used when a matrix does not have enough linearly independent eigenvectors (defective matrix).\n",
    "- **Significance**: Help in forming the Jordan blocks where each block corresponds to an eigenvalue and its generalized eigenvectors.\n"
   ]
  },
  {
   "cell_type": "markdown",
   "id": "544ad4cc",
   "metadata": {
    "slideshow": {
     "slide_type": "slide"
    }
   },
   "source": [
    "### Example\n",
    "\n",
    "$$\n",
    "\\begin{aligned}\n",
    "A &= \\begin{pmatrix}\n",
    "5 & 4\\\\\n",
    "-1 &1\n",
    "\\end{pmatrix}\\\\\n",
    "\\lambda &= 3\\\\\n",
    "A-\\lambda\\mathbf I &= \\begin{pmatrix}\n",
    "2 & 4\\\\\n",
    "-1 &-2\n",
    "\\end{pmatrix}\\\\\n",
    "(A-\\lambda\\mathbf I)^2 &= \\begin{pmatrix}\n",
    "0 & 0\\\\\n",
    "0 &0\n",
    "\\end{pmatrix}\\\\\n",
    "\\end{aligned}\n",
    "$$\n",
    "\n",
    "- eigenvector: $\\begin{pmatrix}2\\\\-1\\end{pmatrix}$\n",
    "- generalized eigenvector: $\\begin{pmatrix}1\\\\0\\end{pmatrix}$\n",
    "- Jordan Canonical Form:\n",
    "\n",
    "$$\n",
    "\\begin{aligned}\n",
    "J &= \n",
    "\\begin{pmatrix}\n",
    "3 &1\\\\\n",
    "0 & 3\n",
    "\\end{pmatrix}\n",
    "\\end{aligned}\n",
    "$$\n",
    "\n",
    "- Factorization of $A$\n",
    "\n",
    "$$\n",
    "\\begin{aligned}\n",
    "A &= \n",
    "\\begin{pmatrix}\n",
    "2 &1\\\\\n",
    "-1 & 0\n",
    "\\end{pmatrix}\n",
    "\\begin{pmatrix}\n",
    "3 &1\\\\\n",
    "0 & 3\n",
    "\\end{pmatrix}\n",
    "\\begin{pmatrix}\n",
    "2 &1\\\\\n",
    "-1 & 0\n",
    "\\end{pmatrix}^{-1}\n",
    "\\end{aligned}\n",
    "$$\n"
   ]
  },
  {
   "cell_type": "code",
   "execution_count": 2,
   "id": "9e48dad9",
   "metadata": {
    "slideshow": {
     "slide_type": "slide"
    }
   },
   "outputs": [
    {
     "data": {
      "text/latex": [
       "$\\displaystyle \\left[\\begin{matrix}2 & 1\\\\-1 & 0\\end{matrix}\\right]$"
      ],
      "text/plain": [
       "Matrix([\n",
       "[ 2, 1],\n",
       "[-1, 0]])"
      ]
     },
     "execution_count": 2,
     "metadata": {},
     "output_type": "execute_result"
    }
   ],
   "source": [
    "P = Matrix([\n",
    "    [2, 1],\n",
    "    [-1, 0]\n",
    "])\n",
    "P"
   ]
  },
  {
   "cell_type": "code",
   "execution_count": 3,
   "id": "0cc71fb8",
   "metadata": {},
   "outputs": [
    {
     "data": {
      "text/latex": [
       "$\\displaystyle \\left[\\begin{matrix}3 & 1\\\\0 & 3\\end{matrix}\\right]$"
      ],
      "text/plain": [
       "Matrix([\n",
       "[3, 1],\n",
       "[0, 3]])"
      ]
     },
     "execution_count": 3,
     "metadata": {},
     "output_type": "execute_result"
    }
   ],
   "source": [
    "J = Matrix([\n",
    "    [3, 1],\n",
    "    [0, 3]\n",
    "])\n",
    "J"
   ]
  },
  {
   "cell_type": "code",
   "execution_count": 4,
   "id": "b15198a7",
   "metadata": {},
   "outputs": [
    {
     "data": {
      "text/latex": [
       "$\\displaystyle \\left[\\begin{matrix}5 & 4\\\\-1 & 1\\end{matrix}\\right]$"
      ],
      "text/plain": [
       "Matrix([\n",
       "[ 5, 4],\n",
       "[-1, 1]])"
      ]
     },
     "execution_count": 4,
     "metadata": {},
     "output_type": "execute_result"
    }
   ],
   "source": [
    "P * J * P.inv()"
   ]
  },
  {
   "cell_type": "markdown",
   "id": "8fa8478c",
   "metadata": {
    "slideshow": {
     "slide_type": "slide"
    }
   },
   "source": [
    "**However**\n",
    "\n",
    "- $\\begin{pmatrix}0\\\\1\\end{pmatrix}$ is also an eigenvector of $(A-\\lambda\\mathbf I)^2 = \\begin{pmatrix}\n",
    "0 & 0\\\\\n",
    "0 &0\n",
    "\\end{pmatrix}$\n",
    "\n",
    "But\n",
    "\n",
    "\n",
    "$$\n",
    "\\begin{aligned}\n",
    "A &\\neq \n",
    "\\begin{pmatrix}\n",
    "2 &0\\\\\n",
    "-1 & 1\n",
    "\\end{pmatrix}\n",
    "\\begin{pmatrix}\n",
    "3 &1\\\\\n",
    "0 & 3\n",
    "\\end{pmatrix}\n",
    "\\begin{pmatrix}\n",
    "2 &0\\\\\n",
    "-1 & 1\n",
    "\\end{pmatrix}^{-1} = \\begin{pmatrix}4 & 2 \\\\ -\\frac{1}{2} & 2\\end{pmatrix}\n",
    "\\end{aligned}\n",
    "$$\n"
   ]
  },
  {
   "cell_type": "markdown",
   "id": "b333e4a0",
   "metadata": {
    "slideshow": {
     "slide_type": "slide"
    }
   },
   "source": [
    "### Algorithm to factorize a defective matrix\n",
    "\n",
    "1. Determine the eigenvalues and their algebraic and geometric multiplicities\n",
    "2. For each eigenvaluer $\\lambda$:\n",
    "    - For $k = 1, 2, \\ldots$\n",
    "        - determine the rank of $(A-\\lambda \\mathbf I)^k$\n",
    "        - stop when the rank is identical for $k$ and $k+1$. This value of $k$ is $k_{\\text{max}}$.\n",
    "     - find a vector $\\mathbf v$ such that\n",
    "         $$\n",
    "         \\begin{aligned}\n",
    "         (A-\\lambda \\mathbf I)^{k_\\text{max}} \\mathbf v &= \\mathbf 0\\\\\n",
    "         (A-\\lambda \\mathbf I)^{k_\\text{max}-1} \\mathbf v &\\neq \\mathbf 0\\\\\n",
    "         \\end{aligned}\n",
    "         $$\n",
    "     - create a sequence\n",
    "     $$\n",
    "        \\begin{aligned}\n",
    "        \\mathbf v_1 &= \\mathbf v\\\\\n",
    "        \\mathbf v_2 &= (A-\\lambda \\mathbf I)^{k_\\text{max} - 1}\\mathbf v_1\\\\\n",
    "        &\\vdots \\\\\n",
    "        \\mathbf v_{k_\\text{max}} &= (A-\\lambda \\mathbf I)\\mathbf v_{k_\\text{max}-1}\n",
    "        \\end{aligned} \n",
    "     $$\n",
    "    - combine these vectors in this order to a matrix $V_\\lambda$\n",
    "    - if the number of columns of $V$ is smaller than the algebraic multiplicity of $\\lambda$: repeat\n",
    "3. Combine the $V_\\lambda$ matrices horizontally into a matrix $V$."
   ]
  },
  {
   "cell_type": "markdown",
   "id": "09873461",
   "metadata": {
    "slideshow": {
     "slide_type": "slide"
    }
   },
   "source": [
    "#### Example"
   ]
  },
  {
   "cell_type": "code",
   "execution_count": 5,
   "id": "312306af",
   "metadata": {},
   "outputs": [
    {
     "data": {
      "text/latex": [
       "$\\displaystyle \\left[\\begin{matrix}5 & 4\\\\-1 & 1\\end{matrix}\\right]$"
      ],
      "text/plain": [
       "Matrix([\n",
       "[ 5, 4],\n",
       "[-1, 1]])"
      ]
     },
     "execution_count": 5,
     "metadata": {},
     "output_type": "execute_result"
    }
   ],
   "source": [
    "A = Matrix([\n",
    "    [5, 4],\n",
    "    [-1, 1]\n",
    "])\n",
    "A"
   ]
  },
  {
   "cell_type": "code",
   "execution_count": 6,
   "id": "df46a5d6",
   "metadata": {},
   "outputs": [
    {
     "data": {
      "text/plain": [
       "{3: 2}"
      ]
     },
     "execution_count": 6,
     "metadata": {},
     "output_type": "execute_result"
    }
   ],
   "source": [
    "A.eigenvals()"
   ]
  },
  {
   "cell_type": "markdown",
   "id": "53cede20",
   "metadata": {},
   "source": [
    "The eigenvalue $\\lambda=3$ has algebraic multiplicity 2."
   ]
  },
  {
   "cell_type": "code",
   "execution_count": 7,
   "id": "39ed4cf3",
   "metadata": {
    "slideshow": {
     "slide_type": "slide"
    }
   },
   "outputs": [
    {
     "data": {
      "text/plain": [
       "1"
      ]
     },
     "execution_count": 7,
     "metadata": {},
     "output_type": "execute_result"
    }
   ],
   "source": [
    "(A - 3*sympy.eye(2)).rank()"
   ]
  },
  {
   "cell_type": "code",
   "execution_count": 8,
   "id": "2588a36b",
   "metadata": {},
   "outputs": [
    {
     "data": {
      "text/plain": [
       "0"
      ]
     },
     "execution_count": 8,
     "metadata": {},
     "output_type": "execute_result"
    }
   ],
   "source": [
    "((A - 3*sympy.eye(2))**2).rank()"
   ]
  },
  {
   "cell_type": "code",
   "execution_count": 9,
   "id": "7da3cfae",
   "metadata": {},
   "outputs": [
    {
     "data": {
      "text/plain": [
       "0"
      ]
     },
     "execution_count": 9,
     "metadata": {},
     "output_type": "execute_result"
    }
   ],
   "source": [
    "((A - 3*sympy.eye(2))**3).rank()"
   ]
  },
  {
   "cell_type": "markdown",
   "id": "841b6939",
   "metadata": {},
   "source": [
    "We have $k_\\text{max} = 2$. Now let us pick us pick the following vector:"
   ]
  },
  {
   "cell_type": "code",
   "execution_count": 10,
   "id": "6a97948c",
   "metadata": {
    "slideshow": {
     "slide_type": "slide"
    }
   },
   "outputs": [
    {
     "data": {
      "text/latex": [
       "$\\displaystyle \\left[\\begin{matrix}0\\\\1\\end{matrix}\\right]$"
      ],
      "text/plain": [
       "Matrix([\n",
       "[0],\n",
       "[1]])"
      ]
     },
     "execution_count": 10,
     "metadata": {},
     "output_type": "execute_result"
    }
   ],
   "source": [
    "v = ((A - 3*sympy.eye(2))**2).nullspace()[1]\n",
    "v"
   ]
  },
  {
   "cell_type": "markdown",
   "id": "d470a39c",
   "metadata": {},
   "source": [
    "`v` is a null-vector of $(A-\\lambda \\mathbf I)^2$"
   ]
  },
  {
   "cell_type": "code",
   "execution_count": 11,
   "id": "b00c57b8",
   "metadata": {},
   "outputs": [
    {
     "data": {
      "text/latex": [
       "$\\displaystyle \\left[\\begin{matrix}0\\\\0\\end{matrix}\\right]$"
      ],
      "text/plain": [
       "Matrix([\n",
       "[0],\n",
       "[0]])"
      ]
     },
     "execution_count": 11,
     "metadata": {},
     "output_type": "execute_result"
    }
   ],
   "source": [
    "((A - 3*sympy.eye(2))**2) * v\n"
   ]
  },
  {
   "cell_type": "markdown",
   "id": "e3f465d0",
   "metadata": {},
   "source": [
    "Check that `v` is not in the nullspace of $A-\\lambda \\mathbf I$"
   ]
  },
  {
   "cell_type": "code",
   "execution_count": 12,
   "id": "9c19b808",
   "metadata": {},
   "outputs": [
    {
     "data": {
      "text/latex": [
       "$\\displaystyle \\left[\\begin{matrix}4\\\\-2\\end{matrix}\\right]$"
      ],
      "text/plain": [
       "Matrix([\n",
       "[ 4],\n",
       "[-2]])"
      ]
     },
     "execution_count": 12,
     "metadata": {},
     "output_type": "execute_result"
    }
   ],
   "source": [
    "(A - 3*sympy.eye(2))*v"
   ]
  },
  {
   "cell_type": "markdown",
   "id": "cb9210c6",
   "metadata": {},
   "source": [
    "`v` is a proper generalized eigenvector of degree $k=2$."
   ]
  },
  {
   "cell_type": "markdown",
   "id": "192ffd9d",
   "metadata": {
    "slideshow": {
     "slide_type": "slide"
    }
   },
   "source": [
    "The next (and final) vector in the sequence of generalized eigenvectors is"
   ]
  },
  {
   "cell_type": "code",
   "execution_count": 13,
   "id": "85047a66",
   "metadata": {},
   "outputs": [
    {
     "data": {
      "text/latex": [
       "$\\displaystyle \\left[\\begin{matrix}4\\\\-2\\end{matrix}\\right]$"
      ],
      "text/plain": [
       "Matrix([\n",
       "[ 4],\n",
       "[-2]])"
      ]
     },
     "execution_count": 13,
     "metadata": {},
     "output_type": "execute_result"
    }
   ],
   "source": [
    "v1 = v\n",
    "v2 = (A - 3*sympy.eye(2)) * v1\n",
    "v2"
   ]
  },
  {
   "cell_type": "markdown",
   "id": "3702cc5c",
   "metadata": {},
   "source": [
    "The number of vectors in this sequence equals 2, which is the algebraic multiplicity of $\\lambda$. So we can construct"
   ]
  },
  {
   "cell_type": "code",
   "execution_count": 14,
   "id": "309401a2",
   "metadata": {},
   "outputs": [
    {
     "data": {
      "text/latex": [
       "$\\displaystyle \\left[\\begin{matrix}4 & 0\\\\-2 & 1\\end{matrix}\\right]$"
      ],
      "text/plain": [
       "Matrix([\n",
       "[ 4, 0],\n",
       "[-2, 1]])"
      ]
     },
     "execution_count": 14,
     "metadata": {},
     "output_type": "execute_result"
    }
   ],
   "source": [
    "V = Matrix.hstack(v2, v1)\n",
    "V"
   ]
  },
  {
   "cell_type": "code",
   "execution_count": 15,
   "id": "4bb1571e",
   "metadata": {},
   "outputs": [
    {
     "data": {
      "text/latex": [
       "$\\displaystyle \\left[\\begin{matrix}3 & 1\\\\0 & 3\\end{matrix}\\right]$"
      ],
      "text/plain": [
       "Matrix([\n",
       "[3, 1],\n",
       "[0, 3]])"
      ]
     },
     "execution_count": 15,
     "metadata": {},
     "output_type": "execute_result"
    }
   ],
   "source": [
    "J = V.inv() * A * V\n",
    "J"
   ]
  },
  {
   "cell_type": "code",
   "execution_count": 16,
   "id": "4eef94aa",
   "metadata": {},
   "outputs": [
    {
     "data": {
      "text/latex": [
       "$\\displaystyle \\left[\\begin{matrix}5 & 4\\\\-1 & 1\\end{matrix}\\right]$"
      ],
      "text/plain": [
       "Matrix([\n",
       "[ 5, 4],\n",
       "[-1, 1]])"
      ]
     },
     "execution_count": 16,
     "metadata": {},
     "output_type": "execute_result"
    }
   ],
   "source": [
    "V * J * V.inv()"
   ]
  },
  {
   "cell_type": "markdown",
   "id": "efebb2c3",
   "metadata": {
    "slideshow": {
     "slide_type": "slide"
    }
   },
   "source": [
    "**another example:**"
   ]
  },
  {
   "cell_type": "code",
   "execution_count": 17,
   "id": "1ed40796",
   "metadata": {},
   "outputs": [
    {
     "data": {
      "text/latex": [
       "$\\displaystyle \\left[\\begin{matrix}5 & 4 & 2 & 1\\\\0 & 1 & -1 & -1\\\\-1 & -1 & 3 & 0\\\\1 & 1 & -1 & 2\\end{matrix}\\right]$"
      ],
      "text/plain": [
       "Matrix([\n",
       "[ 5,  4,  2,  1],\n",
       "[ 0,  1, -1, -1],\n",
       "[-1, -1,  3,  0],\n",
       "[ 1,  1, -1,  2]])"
      ]
     },
     "execution_count": 17,
     "metadata": {},
     "output_type": "execute_result"
    }
   ],
   "source": [
    "A = Matrix([\n",
    "    [5, 4, 2, 1],\n",
    "    [0, 1, -1, -1],\n",
    "    [-1, -1, 3, 0],\n",
    "    [1, 1, -1, 2]\n",
    "])\n",
    "A"
   ]
  },
  {
   "cell_type": "code",
   "execution_count": 18,
   "id": "0b2b3efb",
   "metadata": {},
   "outputs": [
    {
     "data": {
      "text/plain": [
       "{2: 1, 1: 1, 4: 2}"
      ]
     },
     "execution_count": 18,
     "metadata": {},
     "output_type": "execute_result"
    }
   ],
   "source": [
    "A.eigenvals()"
   ]
  },
  {
   "cell_type": "code",
   "execution_count": 19,
   "id": "53614d4f",
   "metadata": {},
   "outputs": [
    {
     "data": {
      "text/plain": [
       "[(1,\n",
       "  1,\n",
       "  [Matrix([\n",
       "   [-1],\n",
       "   [ 1],\n",
       "   [ 0],\n",
       "   [ 0]])]),\n",
       " (2,\n",
       "  1,\n",
       "  [Matrix([\n",
       "   [ 1],\n",
       "   [-1],\n",
       "   [ 0],\n",
       "   [ 1]])]),\n",
       " (4,\n",
       "  2,\n",
       "  [Matrix([\n",
       "   [ 1],\n",
       "   [ 0],\n",
       "   [-1],\n",
       "   [ 1]])])]"
      ]
     },
     "execution_count": 19,
     "metadata": {},
     "output_type": "execute_result"
    }
   ],
   "source": [
    "A.eigenvects()"
   ]
  },
  {
   "cell_type": "markdown",
   "id": "ddbd7cee",
   "metadata": {
    "slideshow": {
     "slide_type": "slide"
    }
   },
   "source": [
    "$A$ is defective because the eigenvalue 4 has the algebraic multiplicity of 2 and the geometric multiplicity of 1.\n",
    "\n"
   ]
  },
  {
   "cell_type": "markdown",
   "id": "13de4d69",
   "metadata": {
    "slideshow": {
     "slide_type": "slide"
    }
   },
   "source": [
    "\n",
    "Let us consider $\\lambda = 4$."
   ]
  },
  {
   "cell_type": "code",
   "execution_count": 20,
   "id": "89e321f8",
   "metadata": {},
   "outputs": [
    {
     "data": {
      "text/plain": [
       "3"
      ]
     },
     "execution_count": 20,
     "metadata": {},
     "output_type": "execute_result"
    }
   ],
   "source": [
    "(A-4*sympy.eye(4)).rank()"
   ]
  },
  {
   "cell_type": "code",
   "execution_count": 21,
   "id": "716924c8",
   "metadata": {},
   "outputs": [
    {
     "data": {
      "text/plain": [
       "2"
      ]
     },
     "execution_count": 21,
     "metadata": {},
     "output_type": "execute_result"
    }
   ],
   "source": [
    "((A-4*sympy.eye(4))**2).rank()"
   ]
  },
  {
   "cell_type": "code",
   "execution_count": 22,
   "id": "79550056",
   "metadata": {},
   "outputs": [
    {
     "data": {
      "text/plain": [
       "2"
      ]
     },
     "execution_count": 22,
     "metadata": {},
     "output_type": "execute_result"
    }
   ],
   "source": [
    "((A-4*sympy.eye(4))**3).rank()"
   ]
  },
  {
   "cell_type": "markdown",
   "id": "5209c1aa",
   "metadata": {},
   "source": [
    "Since the rank of $(A-\\lambda \\mathbf I)^3 = (A-\\lambda \\mathbf I)^2$, $k_\\text{max} = 2$."
   ]
  },
  {
   "cell_type": "markdown",
   "id": "6980894c",
   "metadata": {
    "slideshow": {
     "slide_type": "slide"
    }
   },
   "source": [
    "Next we find null vector of $(A-\\lambda \\mathbf I)^2$"
   ]
  },
  {
   "cell_type": "code",
   "execution_count": 23,
   "id": "245a61be",
   "metadata": {},
   "outputs": [
    {
     "data": {
      "text/plain": [
       "[Matrix([\n",
       " [1],\n",
       " [0],\n",
       " [0],\n",
       " [0]]),\n",
       " Matrix([\n",
       " [ 0],\n",
       " [ 0],\n",
       " [-1],\n",
       " [ 1]])]"
      ]
     },
     "execution_count": 23,
     "metadata": {},
     "output_type": "execute_result"
    }
   ],
   "source": [
    "((A-4*sympy.eye(4))**2).nullspace()"
   ]
  },
  {
   "cell_type": "code",
   "execution_count": 24,
   "id": "7275646a",
   "metadata": {},
   "outputs": [
    {
     "data": {
      "text/latex": [
       "$\\displaystyle \\left[\\begin{matrix}0\\\\0\\\\-1\\\\1\\end{matrix}\\right]$"
      ],
      "text/plain": [
       "Matrix([\n",
       "[ 0],\n",
       "[ 0],\n",
       "[-1],\n",
       "[ 1]])"
      ]
     },
     "execution_count": 24,
     "metadata": {},
     "output_type": "execute_result"
    }
   ],
   "source": [
    "v = ((A-4*sympy.eye(4))**2).nullspace()[1]\n",
    "v"
   ]
  },
  {
   "cell_type": "code",
   "execution_count": 25,
   "id": "3525ca13",
   "metadata": {},
   "outputs": [
    {
     "data": {
      "text/latex": [
       "$\\displaystyle \\left[\\begin{matrix}-1\\\\0\\\\1\\\\-1\\end{matrix}\\right]$"
      ],
      "text/plain": [
       "Matrix([\n",
       "[-1],\n",
       "[ 0],\n",
       "[ 1],\n",
       "[-1]])"
      ]
     },
     "execution_count": 25,
     "metadata": {},
     "output_type": "execute_result"
    }
   ],
   "source": [
    "v1 = v\n",
    "v2 = (A - 4*sympy.eye(4)) * v1\n",
    "v2"
   ]
  },
  {
   "cell_type": "markdown",
   "id": "b502c150",
   "metadata": {
    "slideshow": {
     "slide_type": "slide"
    }
   },
   "source": [
    "We have two generalized eigenvectors, as many as the algebraic multiplicity of $\\lambda = 4$."
   ]
  },
  {
   "cell_type": "code",
   "execution_count": 26,
   "id": "cb3bfbe2",
   "metadata": {},
   "outputs": [
    {
     "data": {
      "text/latex": [
       "$\\displaystyle \\left[\\begin{matrix}-1 & 0\\\\0 & 0\\\\1 & -1\\\\-1 & 1\\end{matrix}\\right]$"
      ],
      "text/plain": [
       "Matrix([\n",
       "[-1,  0],\n",
       "[ 0,  0],\n",
       "[ 1, -1],\n",
       "[-1,  1]])"
      ]
     },
     "execution_count": 26,
     "metadata": {},
     "output_type": "execute_result"
    }
   ],
   "source": [
    "V4 = Matrix.hstack(v2, v1)\n",
    "V4"
   ]
  },
  {
   "cell_type": "markdown",
   "id": "5a2beca4",
   "metadata": {},
   "source": [
    "Now we do the same for eigenvector $\\lambda = 2$."
   ]
  },
  {
   "cell_type": "code",
   "execution_count": 27,
   "id": "047eb8d6",
   "metadata": {},
   "outputs": [
    {
     "data": {
      "text/plain": [
       "3"
      ]
     },
     "execution_count": 27,
     "metadata": {},
     "output_type": "execute_result"
    }
   ],
   "source": [
    "(A-2*sympy.eye(4)).rank()"
   ]
  },
  {
   "cell_type": "code",
   "execution_count": 28,
   "id": "970f5ab1",
   "metadata": {},
   "outputs": [
    {
     "data": {
      "text/plain": [
       "3"
      ]
     },
     "execution_count": 28,
     "metadata": {},
     "output_type": "execute_result"
    }
   ],
   "source": [
    "((A-2*sympy.eye(4))**2).rank()"
   ]
  },
  {
   "cell_type": "markdown",
   "id": "b661c7d3",
   "metadata": {},
   "source": [
    "Here $k_\\max=1$, so $v = v_1$ is"
   ]
  },
  {
   "cell_type": "code",
   "execution_count": 29,
   "id": "173fed61",
   "metadata": {},
   "outputs": [
    {
     "data": {
      "text/latex": [
       "$\\displaystyle \\left[\\begin{matrix}1\\\\-1\\\\0\\\\1\\end{matrix}\\right]$"
      ],
      "text/plain": [
       "Matrix([\n",
       "[ 1],\n",
       "[-1],\n",
       "[ 0],\n",
       "[ 1]])"
      ]
     },
     "execution_count": 29,
     "metadata": {},
     "output_type": "execute_result"
    }
   ],
   "source": [
    "v1 = (A-2*sympy.eye(4)).nullspace()[0]\n",
    "v1"
   ]
  },
  {
   "cell_type": "code",
   "execution_count": 30,
   "id": "c26d8048",
   "metadata": {},
   "outputs": [],
   "source": [
    "V2 = v1"
   ]
  },
  {
   "cell_type": "markdown",
   "id": "9c797ea5",
   "metadata": {
    "slideshow": {
     "slide_type": "slide"
    }
   },
   "source": [
    "Finally we go through the procedure for $\\lambda = 1$."
   ]
  },
  {
   "cell_type": "code",
   "execution_count": 31,
   "id": "bbe4ce98",
   "metadata": {},
   "outputs": [
    {
     "data": {
      "text/plain": [
       "3"
      ]
     },
     "execution_count": 31,
     "metadata": {},
     "output_type": "execute_result"
    }
   ],
   "source": [
    "(A-sympy.eye(4)).rank()"
   ]
  },
  {
   "cell_type": "code",
   "execution_count": 32,
   "id": "4b4aeeab",
   "metadata": {},
   "outputs": [
    {
     "data": {
      "text/plain": [
       "3"
      ]
     },
     "execution_count": 32,
     "metadata": {},
     "output_type": "execute_result"
    }
   ],
   "source": [
    "((A-sympy.eye(4))**2).rank()"
   ]
  },
  {
   "cell_type": "markdown",
   "id": "2a11a9d3",
   "metadata": {},
   "source": [
    "So again, $k_\\text{max} = 1$. "
   ]
  },
  {
   "cell_type": "code",
   "execution_count": 33,
   "id": "90b38c4b",
   "metadata": {
    "slideshow": {
     "slide_type": "slide"
    }
   },
   "outputs": [
    {
     "data": {
      "text/latex": [
       "$\\displaystyle \\left[\\begin{matrix}-1\\\\1\\\\0\\\\0\\end{matrix}\\right]$"
      ],
      "text/plain": [
       "Matrix([\n",
       "[-1],\n",
       "[ 1],\n",
       "[ 0],\n",
       "[ 0]])"
      ]
     },
     "execution_count": 33,
     "metadata": {},
     "output_type": "execute_result"
    }
   ],
   "source": [
    "v = v1 = V1 = (A-sympy.eye(4)).nullspace()[0]\n",
    "V1"
   ]
  },
  {
   "cell_type": "code",
   "execution_count": 34,
   "id": "af99dab1",
   "metadata": {},
   "outputs": [
    {
     "data": {
      "text/latex": [
       "$\\displaystyle \\left[\\begin{matrix}-1 & 0 & 1 & -1\\\\0 & 0 & -1 & 1\\\\1 & -1 & 0 & 0\\\\-1 & 1 & 1 & 0\\end{matrix}\\right]$"
      ],
      "text/plain": [
       "Matrix([\n",
       "[-1,  0,  1, -1],\n",
       "[ 0,  0, -1,  1],\n",
       "[ 1, -1,  0,  0],\n",
       "[-1,  1,  1,  0]])"
      ]
     },
     "execution_count": 34,
     "metadata": {},
     "output_type": "execute_result"
    }
   ],
   "source": [
    "V = Matrix.hstack(*[V4, V2, V1])\n",
    "V"
   ]
  },
  {
   "cell_type": "code",
   "execution_count": 35,
   "id": "06d55e29",
   "metadata": {},
   "outputs": [
    {
     "data": {
      "text/latex": [
       "$\\displaystyle \\left[\\begin{matrix}4 & 1 & 0 & 0\\\\0 & 4 & 0 & 0\\\\0 & 0 & 2 & 0\\\\0 & 0 & 0 & 1\\end{matrix}\\right]$"
      ],
      "text/plain": [
       "Matrix([\n",
       "[4, 1, 0, 0],\n",
       "[0, 4, 0, 0],\n",
       "[0, 0, 2, 0],\n",
       "[0, 0, 0, 1]])"
      ]
     },
     "execution_count": 35,
     "metadata": {},
     "output_type": "execute_result"
    }
   ],
   "source": [
    "J = V.inv() * A * V\n",
    "J"
   ]
  },
  {
   "cell_type": "code",
   "execution_count": 36,
   "id": "0db4c6e1",
   "metadata": {},
   "outputs": [
    {
     "data": {
      "text/latex": [
       "$\\displaystyle \\left[\\begin{matrix}5 & 4 & 2 & 1\\\\0 & 1 & -1 & -1\\\\-1 & -1 & 3 & 0\\\\1 & 1 & -1 & 2\\end{matrix}\\right]$"
      ],
      "text/plain": [
       "Matrix([\n",
       "[ 5,  4,  2,  1],\n",
       "[ 0,  1, -1, -1],\n",
       "[-1, -1,  3,  0],\n",
       "[ 1,  1, -1,  2]])"
      ]
     },
     "execution_count": 36,
     "metadata": {},
     "output_type": "execute_result"
    }
   ],
   "source": [
    "V * J * V.inv()"
   ]
  },
  {
   "cell_type": "markdown",
   "id": "6ce58e34",
   "metadata": {
    "slideshow": {
     "slide_type": "slide"
    }
   },
   "source": [
    "### Applications of Jordan Canonical Form\n",
    "\n",
    "**Jordan Canonical Form** is used for:\n",
    "\n",
    "- **Simplifying Matrix Powers and Polynomials**:\n",
    "  - Easier computation of $ A^n $ for matrix powers.\n",
    "- **Computing Matrix Exponential**:\n",
    "  - Useful in solving systems of linear differential equations by simplifying $ e^{At} $.\n",
    "- **Theoretical Analysis**:\n",
    "  - Provides insights into the structure and behavior of linear transformations.\n",
    "\n",
    "*Note*: The next slides detail the computation of matrix powers and exponentials using JCF.\n"
   ]
  },
  {
   "cell_type": "markdown",
   "id": "5bb7e118",
   "metadata": {
    "slideshow": {
     "slide_type": "slide"
    }
   },
   "source": [
    "### Computing Matrix Power using JCF\n",
    "\n",
    "To compute $ A^n $ for a defective matrix $ A $:\n",
    "\n",
    "There is a matrix $P$ such that each column is a generalized eigenvector of $A$, allowing the following decomposition:\n",
    "\n",
    "1. **JCF Decomposition**:\n",
    "   - Decompose $ A $ into its JCF, $$ A = PJP^{-1} $$.\n",
    "2. **Compute Power of JCF**:\n",
    "   - Compute $ J^n $, which is simpler due to the Jordan block structure.\n",
    "\n"
   ]
  },
  {
   "cell_type": "markdown",
   "id": "10a5642d",
   "metadata": {
    "slideshow": {
     "slide_type": "slide"
    }
   },
   "source": [
    "\n",
    "\n",
    "\n",
    "3. **Transform Back**:\n",
    "   - Compute $$ A^n = PJ^nP^{-1} $$.\n",
    "\n",
    "*Example*: For a Jordan block $$ J = \\begin{pmatrix} \\lambda & 1 \\\\ 0 & \\lambda \\end{pmatrix}, $$ $ J^n $ involves $ \\lambda^n $ and terms with powers of $ n $.\n"
   ]
  },
  {
   "cell_type": "code",
   "execution_count": 37,
   "id": "d53cd07f",
   "metadata": {
    "slideshow": {
     "slide_type": "slide"
    }
   },
   "outputs": [
    {
     "data": {
      "text/latex": [
       "$\\displaystyle \\left[\\begin{matrix}l & 1\\\\0 & l\\end{matrix}\\right]$"
      ],
      "text/plain": [
       "Matrix([\n",
       "[l, 1],\n",
       "[0, l]])"
      ]
     },
     "execution_count": 37,
     "metadata": {},
     "output_type": "execute_result"
    }
   ],
   "source": [
    "l, n = sympy.symbols(\"l n\")\n",
    "J = Matrix([\n",
    "    [l, 1],\n",
    "    [0, l]\n",
    "])\n",
    "J"
   ]
  },
  {
   "cell_type": "code",
   "execution_count": 38,
   "id": "4177b823",
   "metadata": {},
   "outputs": [
    {
     "data": {
      "text/latex": [
       "$\\displaystyle \\left[\\begin{matrix}l^{n} & l^{n - 1} n\\\\0 & l^{n}\\end{matrix}\\right]$"
      ],
      "text/plain": [
       "Matrix([\n",
       "[l**n, l**(n - 1)*n],\n",
       "[   0,         l**n]])"
      ]
     },
     "execution_count": 38,
     "metadata": {},
     "output_type": "execute_result"
    }
   ],
   "source": [
    "J**n"
   ]
  },
  {
   "cell_type": "markdown",
   "id": "82a99384",
   "metadata": {
    "slideshow": {
     "slide_type": "slide"
    }
   },
   "source": [
    "## Computing Matrix Exponential using JCF\n",
    "\n",
    "To compute the matrix exponential $ e^{At} $:\n",
    "\n",
    "1. **JCF Decomposition**:\n",
    "   - Decompose $ A $ into its JCF, $ A = PJP^{-1}$.\n",
    "2. **Exponential of JCF**:\n",
    "   - Compute $ e^{Jt} $, easier for Jordan blocks.\n",
    "3. **Transform Back**:\n",
    "   - Compute $ e^{At} = Pe^{Jt}P^{-1} $.\n",
    "\n",
    "*Example*: For a Jordan block $$ J = \\begin{pmatrix} \\lambda & 1 \\\\ 0 & \\lambda \\end{pmatrix}, $$ $ e^{Jt} $ involves $ e^{\\lambda t} $ and terms with $ t $:\n",
    "\n",
    "$$\n",
    "e^{Jt} = \\begin{pmatrix}\n",
    "e^{\\lambda t} & te^{\\lambda t}\\\\\n",
    "0 & e^{\\lambda t}\n",
    "\\end{pmatrix}\n",
    "$$\n"
   ]
  },
  {
   "cell_type": "markdown",
   "id": "2755d20c",
   "metadata": {
    "slideshow": {
     "slide_type": "slide"
    }
   },
   "source": [
    "**Sympy**"
   ]
  },
  {
   "cell_type": "code",
   "execution_count": 39,
   "id": "c0fd7912",
   "metadata": {},
   "outputs": [
    {
     "data": {
      "text/latex": [
       "$\\displaystyle \\left[\\begin{matrix}5 & 4\\\\-1 & 1\\end{matrix}\\right]$"
      ],
      "text/plain": [
       "Matrix([\n",
       "[ 5, 4],\n",
       "[-1, 1]])"
      ]
     },
     "execution_count": 39,
     "metadata": {},
     "output_type": "execute_result"
    }
   ],
   "source": [
    "A = Matrix([[5, 4], [-1, 1]])\n",
    "\n",
    "A\n"
   ]
  },
  {
   "cell_type": "code",
   "execution_count": 40,
   "id": "c87c8d81",
   "metadata": {},
   "outputs": [
    {
     "name": "stdout",
     "output_type": "stream",
     "text": [
      "J: \n"
     ]
    },
    {
     "data": {
      "text/latex": [
       "$\\displaystyle \\left[\\begin{matrix}3 & 1\\\\0 & 3\\end{matrix}\\right]$"
      ],
      "text/plain": [
       "Matrix([\n",
       "[3, 1],\n",
       "[0, 3]])"
      ]
     },
     "execution_count": 40,
     "metadata": {},
     "output_type": "execute_result"
    }
   ],
   "source": [
    "P, J = A.jordan_form()\n",
    "print(\"J: \")\n",
    "J"
   ]
  },
  {
   "cell_type": "code",
   "execution_count": 41,
   "id": "9e6ad8cc",
   "metadata": {
    "hide_input": true
   },
   "outputs": [
    {
     "name": "stdout",
     "output_type": "stream",
     "text": [
      "P: \n"
     ]
    },
    {
     "data": {
      "text/latex": [
       "$\\displaystyle \\left[\\begin{matrix}2 & 1\\\\-1 & 0\\end{matrix}\\right]$"
      ],
      "text/plain": [
       "Matrix([\n",
       "[ 2, 1],\n",
       "[-1, 0]])"
      ]
     },
     "execution_count": 41,
     "metadata": {},
     "output_type": "execute_result"
    }
   ],
   "source": [
    "print(\"P: \")\n",
    "P"
   ]
  },
  {
   "cell_type": "code",
   "execution_count": 42,
   "id": "fa89347b",
   "metadata": {},
   "outputs": [
    {
     "data": {
      "text/latex": [
       "$\\displaystyle \\left[\\begin{matrix}5 & 4\\\\-1 & 1\\end{matrix}\\right]$"
      ],
      "text/plain": [
       "Matrix([\n",
       "[ 5, 4],\n",
       "[-1, 1]])"
      ]
     },
     "execution_count": 42,
     "metadata": {},
     "output_type": "execute_result"
    }
   ],
   "source": [
    "P * J * P.inv()"
   ]
  },
  {
   "cell_type": "code",
   "execution_count": 43,
   "id": "f7f4c6f8",
   "metadata": {
    "hide_input": true
   },
   "outputs": [],
   "source": [
    "t, k = symbols(\"t k\")"
   ]
  },
  {
   "cell_type": "code",
   "execution_count": 44,
   "id": "015f292a",
   "metadata": {},
   "outputs": [
    {
     "data": {
      "text/latex": [
       "$\\displaystyle \\left[\\begin{matrix}3^{k} & 3^{k - 1} k\\\\0 & 3^{k}\\end{matrix}\\right]$"
      ],
      "text/plain": [
       "Matrix([\n",
       "[3**k, 3**(k - 1)*k],\n",
       "[   0,         3**k]])"
      ]
     },
     "execution_count": 44,
     "metadata": {},
     "output_type": "execute_result"
    }
   ],
   "source": [
    "J**k"
   ]
  },
  {
   "cell_type": "code",
   "execution_count": 45,
   "id": "5fb3b7d3",
   "metadata": {},
   "outputs": [
    {
     "data": {
      "text/latex": [
       "$\\displaystyle \\left[\\begin{matrix}e^{3 t} & t e^{3 t}\\\\0 & e^{3 t}\\end{matrix}\\right]$"
      ],
      "text/plain": [
       "Matrix([\n",
       "[exp(3*t), t*exp(3*t)],\n",
       "[       0,   exp(3*t)]])"
      ]
     },
     "execution_count": 45,
     "metadata": {},
     "output_type": "execute_result"
    }
   ],
   "source": [
    "exp(t*J)"
   ]
  },
  {
   "cell_type": "code",
   "execution_count": 46,
   "id": "919e8607",
   "metadata": {
    "slideshow": {
     "slide_type": "slide"
    }
   },
   "outputs": [
    {
     "data": {
      "text/latex": [
       "$\\displaystyle \\left[\\begin{matrix}4 & 0 & 0 & 1\\\\0 & 4 & 1 & 0\\\\0 & 0 & 4 & 0\\\\0 & 0 & 0 & 4\\end{matrix}\\right]$"
      ],
      "text/plain": [
       "Matrix([\n",
       "[4, 0, 0, 1],\n",
       "[0, 4, 1, 0],\n",
       "[0, 0, 4, 0],\n",
       "[0, 0, 0, 4]])"
      ]
     },
     "execution_count": 46,
     "metadata": {},
     "output_type": "execute_result"
    }
   ],
   "source": [
    "A = Matrix([\n",
    "    [4, 0, 0, 1],\n",
    "    [0, 4, 1, 0],\n",
    "    [0, 0, 4, 0],\n",
    "    [0, 0, 0, 4]\n",
    "])\n",
    "A"
   ]
  },
  {
   "cell_type": "code",
   "execution_count": 47,
   "id": "92193e24",
   "metadata": {},
   "outputs": [
    {
     "name": "stdout",
     "output_type": "stream",
     "text": [
      "J: \n"
     ]
    },
    {
     "data": {
      "text/latex": [
       "$\\displaystyle \\left[\\begin{matrix}4 & 1 & 0 & 0\\\\0 & 4 & 0 & 0\\\\0 & 0 & 4 & 1\\\\0 & 0 & 0 & 4\\end{matrix}\\right]$"
      ],
      "text/plain": [
       "Matrix([\n",
       "[4, 1, 0, 0],\n",
       "[0, 4, 0, 0],\n",
       "[0, 0, 4, 1],\n",
       "[0, 0, 0, 4]])"
      ]
     },
     "execution_count": 47,
     "metadata": {},
     "output_type": "execute_result"
    }
   ],
   "source": [
    "P, J = A.jordan_form()\n",
    "print(\"J: \")\n",
    "J"
   ]
  },
  {
   "cell_type": "code",
   "execution_count": 48,
   "id": "d37ef5ab",
   "metadata": {},
   "outputs": [
    {
     "name": "stdout",
     "output_type": "stream",
     "text": [
      "P: \n"
     ]
    },
    {
     "data": {
      "text/latex": [
       "$\\displaystyle \\left[\\begin{matrix}0 & 0 & 1 & 0\\\\1 & 0 & 0 & 0\\\\0 & 1 & 0 & 0\\\\0 & 0 & 0 & 1\\end{matrix}\\right]$"
      ],
      "text/plain": [
       "Matrix([\n",
       "[0, 0, 1, 0],\n",
       "[1, 0, 0, 0],\n",
       "[0, 1, 0, 0],\n",
       "[0, 0, 0, 1]])"
      ]
     },
     "execution_count": 48,
     "metadata": {},
     "output_type": "execute_result"
    }
   ],
   "source": [
    "print(\"P: \")\n",
    "P"
   ]
  },
  {
   "cell_type": "code",
   "execution_count": 49,
   "id": "32d0728f",
   "metadata": {
    "slideshow": {
     "slide_type": "slide"
    }
   },
   "outputs": [
    {
     "data": {
      "text/latex": [
       "$\\displaystyle \\left[\\begin{matrix}4^{k} & 4^{k - 1} k & 0 & 0\\\\0 & 4^{k} & 0 & 0\\\\0 & 0 & 4^{k} & 4^{k - 1} k\\\\0 & 0 & 0 & 4^{k}\\end{matrix}\\right]$"
      ],
      "text/plain": [
       "Matrix([\n",
       "[4**k, 4**(k - 1)*k,    0,            0],\n",
       "[   0,         4**k,    0,            0],\n",
       "[   0,            0, 4**k, 4**(k - 1)*k],\n",
       "[   0,            0,    0,         4**k]])"
      ]
     },
     "execution_count": 49,
     "metadata": {},
     "output_type": "execute_result"
    }
   ],
   "source": [
    "J**k"
   ]
  },
  {
   "cell_type": "code",
   "execution_count": 50,
   "id": "3142bc4d",
   "metadata": {},
   "outputs": [
    {
     "data": {
      "text/latex": [
       "$\\displaystyle \\left[\\begin{matrix}e^{4 t} & t e^{4 t} & 0 & 0\\\\0 & e^{4 t} & 0 & 0\\\\0 & 0 & e^{4 t} & t e^{4 t}\\\\0 & 0 & 0 & e^{4 t}\\end{matrix}\\right]$"
      ],
      "text/plain": [
       "Matrix([\n",
       "[exp(4*t), t*exp(4*t),        0,          0],\n",
       "[       0,   exp(4*t),        0,          0],\n",
       "[       0,          0, exp(4*t), t*exp(4*t)],\n",
       "[       0,          0,        0,   exp(4*t)]])"
      ]
     },
     "execution_count": 50,
     "metadata": {},
     "output_type": "execute_result"
    }
   ],
   "source": [
    "exp(t*J)"
   ]
  },
  {
   "cell_type": "code",
   "execution_count": 51,
   "id": "88a82141",
   "metadata": {},
   "outputs": [
    {
     "data": {
      "text/latex": [
       "$\\displaystyle \\left[\\begin{matrix}4^{k} & 0 & 0 & 4^{k - 1} k\\\\0 & 4^{k} & 4^{k - 1} k & 0\\\\0 & 0 & 4^{k} & 0\\\\0 & 0 & 0 & 4^{k}\\end{matrix}\\right]$"
      ],
      "text/plain": [
       "Matrix([\n",
       "[4**k,    0,            0, 4**(k - 1)*k],\n",
       "[   0, 4**k, 4**(k - 1)*k,            0],\n",
       "[   0,    0,         4**k,            0],\n",
       "[   0,    0,            0,         4**k]])"
      ]
     },
     "execution_count": 51,
     "metadata": {},
     "output_type": "execute_result"
    }
   ],
   "source": [
    "A**k"
   ]
  },
  {
   "cell_type": "markdown",
   "id": "81f299e4",
   "metadata": {
    "slideshow": {
     "slide_type": "slide"
    }
   },
   "source": [
    "## Eigenvalues and the determinant\n",
    "\n",
    "- every square matrix $A$ can be factorized as\n",
    "$$\n",
    "A = U D U^{-1}\n",
    "$$\n",
    "\n",
    "where $D$ is either a diagonal matrix or a matrix in Jordan normal form\n",
    "- in any event:\n",
    "    - D is upper triangular\n",
    "    - the diagonal entries of $D$ are the eigenvalues of $A$.\n",
    "- recall that\n",
    "\n",
    "    $$\n",
    "    \\begin{align}\n",
    "    \\det(XY) &= \\det(X)\\det(Y)\\\\\n",
    "    \\det X^{-1} &= \\frac{1}{\\det(X)}\n",
    "    \\end{align}\n",
    "    $$\n",
    "    \n",
    "- it follows that\n",
    "\n",
    "$$\n",
    "\\begin{align}\n",
    "\\det(A) &= \\det(UDU^{-1})\\\\\n",
    "&= \\det(U)\\det(D)\\det(U^{-1})\\\\\n",
    "&=\\det(U)\\det(D)\\frac{1}{\\det(U)}\\\\\n",
    "&= \\det(D)\n",
    "\\end{align}\n",
    "$$\n",
    "\n",
    "Since $D$ is triangular, its determinant is the product of the diagonal entries.\n",
    "\n",
    "$\\Rightarrow$ **The determinant of a matrix is the product of its eigenvalues (repeated according to algebraic multiplicity).**"
   ]
  },
  {
   "cell_type": "markdown",
   "id": "7e30dc2e",
   "metadata": {
    "slideshow": {
     "slide_type": "slide"
    }
   },
   "source": [
    "## Trace of a matrix\n",
    "\n",
    "The **trace** of a matrix is the sum of its diagonal entries.\n",
    "\n",
    "$$\n",
    "\\text{trace}(A) = \\sum_i a_{ii}\n",
    "$$\n",
    "\n",
    "**Theorem**\n",
    "For all square matrices $A$, $B$ of the same size, $\\text{trace}(AB) = \\text{trace}(BA)$.\n",
    "\n",
    "*Proof:*\n",
    "\n",
    "$$\n",
    "\\begin{align}\n",
    "\\text{trace}(AB) &= \\sum_i (AB)_{ii}\\\\\n",
    "&=\\sum_i\\sum_j a_{ij}b_{ji}\\\\\n",
    "&=\\sum_j\\sum_i b_{ji}a_{ij}\\\\\n",
    "&=\\sum_j(BA)_{jj}\\\\\n",
    "&=\\text{trace}(BA)\n",
    "\\end{align}\n",
    "$$"
   ]
  },
  {
   "cell_type": "markdown",
   "id": "3d70b53e",
   "metadata": {
    "slideshow": {
     "slide_type": "slide"
    }
   },
   "source": [
    "Recall that each square matrix $A$ can be factorized into\n",
    "$$\n",
    "A = UDU^{-1},\n",
    "$$\n",
    "where the diagonal entries of $D$ are the eigenvalues of $A$.\n",
    "\n",
    "It follows that\n",
    "\n",
    "$$\n",
    "\\begin{align}\n",
    "\\text{trace}(A) &= \\text{trace}(UDU^{-1})\\\\\n",
    "&= \\text{trace}(UU^{-1}D)\\\\\n",
    "&= \\text{trace}(D)\\\\\n",
    "&=\\sum_i \\lambda_i\n",
    "\\end{align}\n",
    "$$\n",
    "\n",
    "$\\Rightarrow$ **The trace of a matrix equals the sum of its eigenvalues** (repeated according to their algebraic multiplicity)."
   ]
  },
  {
   "cell_type": "markdown",
   "id": "9cf846a7",
   "metadata": {
    "slideshow": {
     "slide_type": "slide"
    }
   },
   "source": [
    "## Symmetric matrices\n",
    "\n",
    "Symmetric matrices are much more well-behaved than square matrices in general.\n",
    "\n",
    "\n",
    "Suppose $\\lambda_1$ and $\\lambda_2$, with \n",
    "\n",
    "$$\n",
    "\\begin{aligned}\n",
    "\\lambda_1 &\\neq \\lambda_2\\\\\n",
    "\\end{aligned}\n",
    "$$\n",
    "are two eigenvalues of $S$. Let $\\mathbf v_1, \\mathbf v_2$ be corresponding eigenvectors.\n",
    "\n",
    "$$\n",
    "\\begin{aligned}\n",
    "\\mathbf v_1^T S \\mathbf v_2 &= \\lambda_2 \\mathbf v_1^T\\mathbf v_2\\\\\n",
    "\\mathbf v_1^T S \\mathbf v_2 &= \\mathbf v_1^T S^T \\mathbf v_2\\\\\n",
    "&=(\\mathbf v_2^T S \\mathbf v_1)^T\\\\\n",
    "&= \\lambda_1 (\\mathbf v_2^T\\mathbf v_1)^T\\\\\n",
    "&= \\lambda_1 \\mathbf v_1^T\\mathbf v_2\\\\\n",
    "\\lambda_2 \\mathbf v_1^T\\mathbf v_2 &= \\lambda_1 \\mathbf v_1^T\\mathbf v_2\\\\\n",
    "\\end{aligned}\n",
    "$$\n",
    "\n",
    "Since we assumed that $\\lambda_1 \\neq \\lambda_2$, it follows that\n",
    "\n",
    "$$\n",
    "\\mathbf v_1^T\\mathbf v_2 = 0\n",
    "$$\n",
    "\n",
    "In other words, the eigenvectors corresponding to different eigenvalues are **orthogonal** to each other."
   ]
  },
  {
   "cell_type": "markdown",
   "id": "1d764973",
   "metadata": {
    "slideshow": {
     "slide_type": "slide"
    }
   },
   "source": [
    "**Theorem**\n",
    "\n",
    "A symmetrix $n\\times n$ matrix $S$ has only real eigenvalues. The sum of their algebraic multiplicity equals $n$.\n",
    "\n",
    "*Proof*\n",
    "\n",
    "As the proof requires complex numbers, it goes somewhat beyond the scope of this course. I will sketch it nevertheless.\n",
    "\n",
    "- Each complex number can be written as $a + bi$, where $a$, $b$ are real numbers, and $i = \\sqrt{-1}$ is the imaginary unit.\n",
    "- The *complex conjugate* of a complex number $a + bi$ is $a - bi$. In other words, a complex number $x$ and its conjugate $\\overline x$ have the same real part and imaginary parts of the same magnitude and opposite signs.\n",
    "\n",
    "- Let $x = a + bi$. Then $x\\cdot \\overline{x} = (a+bi)(a-bi) = a^2-b^2i^2 = a^2+b^2$. In other words, the product of a complex number $x$ and its conjuate $\\overline x$ is non-negative, and it is only $0$ if $x=0$.\n",
    "\n",
    "- The complex conjugate commutes with the standard operations ($x, y$ are complex numbers and $a$ is real):\n",
    "\n",
    "$$\n",
    "\\begin{align}\n",
    "\\overline x + \\overline y &= \\overline{x+y}\\\\\n",
    "\\overline x \\cdot \\overline y &= \\overline{x\\cdot y}\\\\\n",
    "(\\overline{x})^a &= \\overline{x^a}\n",
    "\\end{align}\n",
    "$$\n"
   ]
  },
  {
   "cell_type": "markdown",
   "id": "5ec78d91",
   "metadata": {
    "slideshow": {
     "slide_type": "slide"
    }
   },
   "source": [
    "\n",
    "- Let \n",
    "\n",
    "$$\\det(S-\\lambda \\boldsymbol I) = a_n\\lambda^n + \\cdots a_1\\lambda + a_0 = 0$$ \n",
    "\n",
    "be the characteristic equation of a square matrix $S$, and let $\\lambda$ be a solution. In other words, $\\lambda$ is an eigenvector of $S$. It then holds that\n",
    "\n",
    "$$\\det(S-\\overline\\lambda \\boldsymbol I) = \\overline{a_n\\lambda^n + \\cdots a_1\\lambda + a_0} = \\overline 0 = 0$$ \n",
    "\n",
    "In other words, $\\overline\\lambda$ is also an eigenvalue of $S$.\n",
    "\n",
    "- Let $\\boldsymbol x$ be an eigenvector of $S$. Then $\\overline{\\boldsymbol x}$ is also an eigenvector of $S$.\n",
    "- Suppose $\\lambda \\neq \\overline\\lambda$, and $\\lambda, \\overline\\lambda$ are eigenvalues of $S$. Then there are corresponding eigenvectors $\\boldsymbol x$ and $\\overline{\\boldsymbol x}$ with\n",
    "\n",
    "$$\n",
    "\\begin{align}\n",
    "\\boldsymbol{x}^T\\overline{\\boldsymbol{x}} &= 0\\\\\n",
    "\\sum_i x_i\\cdot \\overline{x_i} &= 0\\\\\n",
    "x_i = 0\n",
    "\\end{align}\n",
    "$$\n",
    "\n",
    "This is a contradiction because eigenvectors are by definition different from $\\boldsymbol 0$. It follows that $\\lambda = \\overline\\lambda$, i.e., $\\lambda$ is a real number.\n",
    "\n",
    "$\\dashv$"
   ]
  },
  {
   "cell_type": "markdown",
   "id": "f6a7a706",
   "metadata": {
    "slideshow": {
     "slide_type": "slide"
    }
   },
   "source": [
    "**Theorem**\n",
    "\n",
    "A symmetric matrix is not defective.\n",
    "\n",
    "*Proof*\n",
    "\n",
    "Suppose $S$ is defective. This means there must be an eigenvalue $\\lambda$ and a corresponding generalized eigenvector $\\mathbf v$ such that\n",
    "\n",
    "$$\n",
    "\\begin{aligned}\n",
    "(S-\\lambda \\mathbf I)^2\\mathbf v &= \\mathbf 0\\\\\n",
    "(S-\\lambda \\mathbf I)\\mathbf v &\\neq \\mathbf 0\\\\\n",
    "\\end{aligned}\n",
    "$$\n",
    "\n",
    "From the first line it follows that\n",
    "\n",
    "$$\n",
    "\\mathbf v^T (S-\\lambda \\mathbf I)^2\\mathbf v =  0\n",
    "$$\n",
    "\n",
    "However, if $S$ is symmetric, so is $(S-\\lambda \\mathbf I)$. Therefore\n",
    "\n",
    "$$\n",
    "\\begin{aligned}\n",
    "\\mathbf v^T (S-\\lambda \\mathbf I)^2\\mathbf v &= \n",
    "\\mathbf v^T (S-\\lambda \\mathbf I)(S-\\lambda \\mathbf I)\\mathbf v\\\\\n",
    "&= \\mathbf v^T (S-\\lambda \\mathbf I)^T(S-\\lambda \\mathbf I)\\mathbf v\\\\\n",
    "&= ((S-\\lambda \\mathbf I)\\mathbf v)^T(S-\\lambda \\mathbf I)\\mathbf v\\\\\n",
    "&= \\|(S-\\lambda \\mathbf I)\\mathbf v\\|^2\n",
    "\\end{aligned}\n",
    "$$\n",
    "\n",
    "Since $(S-\\lambda \\mathbf I)\\mathbf v \\neq \\mathbf 0$ by assumption, the expression of the left-hand side must be different from $0$, which is a contradiction.\n",
    "\n",
    "$\\dashv$"
   ]
  },
  {
   "cell_type": "markdown",
   "id": "8808a335",
   "metadata": {
    "slideshow": {
     "slide_type": "slide"
    }
   },
   "source": [
    "Furthermore, it is possible to choose multiple eigenvectors for the same eigenvalue in such a way that they are orthogonal to each other.\n",
    "\n",
    "Suppose \n",
    "\n",
    "- $\\lambda$ is an eigenvalue of a symmetric matrix $S$ and \n",
    "- the columns of the matrix $V$ are the eigenvectors of $S$ corresponding to $\\lambda$.\n",
    "\n",
    "First observe that each vector within the column space of $V$ is also an eigenvector of $S$ with eigenvalue $\\lambda$.\n",
    "\n",
    "$$\n",
    "\\begin{aligned}\n",
    "V\\mathbf x &=\\mathbf b\\\\\n",
    "SV &= \\lambda V\\\\\n",
    "S\\mathbf b &= S V\\mathbf x\\\\\n",
    "&=\\lambda V\\mathbf x\\\\\n",
    "&= \\lambda \\mathbf b\n",
    "\\end{aligned}\n",
    "$$\n",
    "\n"
   ]
  },
  {
   "cell_type": "markdown",
   "id": "89fb8b99",
   "metadata": {
    "slideshow": {
     "slide_type": "slide"
    }
   },
   "source": [
    "We can transform the $n\\times k$ matrix $V$ into an $n\\times k$ matrix $U$ in such a way that\n",
    "\n",
    "- $U$ and $V$ have the same column space, and\n",
    "- the columns of $U$ are orthogonal to each other and each have length 1. In other words:\n",
    "\n",
    "$$\n",
    "U^T U = \\mathbf I\n",
    "$$\n",
    "\n",
    "1. $\\mathbf u_1 = \\frac{1}{\\|\\mathbf v_1\\|}\\mathbf v_1$\n",
    "2. for $i = 2,\\ldots, k$:\n",
    "    - let $A = [\\mathbf u_1 \\cdots \\mathbf u_{i-1}]$\n",
    "    - $\\mathbf x = \\mathbf v_i - A(A^TA)^{-1}A^T \\mathbf v_i$\n",
    "    - $\\mathbf u_i = \\frac{1}{\\|\\mathbf x\\|}\\mathbf x$\n",
    "3. $U = [\\mathbf u_1 \\cdots \\mathbf u_k]$\n",
    "    \n"
   ]
  },
  {
   "cell_type": "code",
   "execution_count": 52,
   "id": "5e6e8c0e",
   "metadata": {
    "slideshow": {
     "slide_type": "slide"
    }
   },
   "outputs": [
    {
     "data": {
      "text/latex": [
       "$\\displaystyle \\left[\\begin{matrix}1 & 2 & 3\\\\4 & 5 & 6\\\\7 & 8 & -1\\\\0 & 0 & 1\\end{matrix}\\right]$"
      ],
      "text/plain": [
       "Matrix([\n",
       "[1, 2,  3],\n",
       "[4, 5,  6],\n",
       "[7, 8, -1],\n",
       "[0, 0,  1]])"
      ]
     },
     "execution_count": 52,
     "metadata": {},
     "output_type": "execute_result"
    }
   ],
   "source": [
    "V = Matrix([\n",
    "    [1, 2, 3],\n",
    "    [4, 5, 6],\n",
    "    [7, 8, -1],\n",
    "    [0, 0, 1]\n",
    "])\n",
    "V"
   ]
  },
  {
   "cell_type": "code",
   "execution_count": 53,
   "id": "71833b33",
   "metadata": {},
   "outputs": [],
   "source": [
    "v1 = V[:,0]\n",
    "v2 = V[:,1]\n",
    "v3 = V[:,2]"
   ]
  },
  {
   "cell_type": "code",
   "execution_count": 54,
   "id": "03067101",
   "metadata": {},
   "outputs": [
    {
     "data": {
      "text/latex": [
       "$\\displaystyle \\left[\\begin{matrix}\\frac{\\sqrt{66}}{66}\\\\\\frac{2 \\sqrt{66}}{33}\\\\\\frac{7 \\sqrt{66}}{66}\\\\0\\end{matrix}\\right]$"
      ],
      "text/plain": [
       "Matrix([\n",
       "[  sqrt(66)/66],\n",
       "[2*sqrt(66)/33],\n",
       "[7*sqrt(66)/66],\n",
       "[            0]])"
      ]
     },
     "execution_count": 54,
     "metadata": {},
     "output_type": "execute_result"
    }
   ],
   "source": [
    "u1 = sympy.simplify(v1/v1.norm())\n",
    "\n",
    "U = u1\n",
    "U"
   ]
  },
  {
   "cell_type": "code",
   "execution_count": 55,
   "id": "8ae6aeaf",
   "metadata": {},
   "outputs": [
    {
     "data": {
      "text/latex": [
       "$\\displaystyle \\left[\\begin{matrix}\\frac{3 \\sqrt{11}}{11}\\\\\\frac{\\sqrt{11}}{11}\\\\- \\frac{\\sqrt{11}}{11}\\\\0\\end{matrix}\\right]$"
      ],
      "text/plain": [
       "Matrix([\n",
       "[3*sqrt(11)/11],\n",
       "[  sqrt(11)/11],\n",
       "[ -sqrt(11)/11],\n",
       "[            0]])"
      ]
     },
     "execution_count": 55,
     "metadata": {},
     "output_type": "execute_result"
    }
   ],
   "source": [
    "u2 = v2 - U*(U.T * U).inv()*U.T * v2\n",
    "u2 /= u2.norm()\n",
    "u2"
   ]
  },
  {
   "cell_type": "code",
   "execution_count": 56,
   "id": "9a24d3ac",
   "metadata": {
    "slideshow": {
     "slide_type": "slide"
    }
   },
   "outputs": [
    {
     "data": {
      "text/latex": [
       "$\\displaystyle \\left[\\begin{matrix}\\frac{\\sqrt{66}}{66} & \\frac{3 \\sqrt{11}}{11}\\\\\\frac{2 \\sqrt{66}}{33} & \\frac{\\sqrt{11}}{11}\\\\\\frac{7 \\sqrt{66}}{66} & - \\frac{\\sqrt{11}}{11}\\\\0 & 0\\end{matrix}\\right]$"
      ],
      "text/plain": [
       "Matrix([\n",
       "[  sqrt(66)/66, 3*sqrt(11)/11],\n",
       "[2*sqrt(66)/33,   sqrt(11)/11],\n",
       "[7*sqrt(66)/66,  -sqrt(11)/11],\n",
       "[            0,             0]])"
      ]
     },
     "execution_count": 56,
     "metadata": {},
     "output_type": "execute_result"
    }
   ],
   "source": [
    "U = Matrix.hstack(u1, u2)\n",
    "U"
   ]
  },
  {
   "cell_type": "code",
   "execution_count": 57,
   "id": "c9dba42a",
   "metadata": {
    "slideshow": {
     "slide_type": "-"
    }
   },
   "outputs": [
    {
     "data": {
      "text/latex": [
       "$\\displaystyle \\left[\\begin{matrix}- \\frac{5 \\sqrt{159}}{159}\\\\\\frac{10 \\sqrt{159}}{159}\\\\- \\frac{5 \\sqrt{159}}{159}\\\\\\frac{\\sqrt{159}}{53}\\end{matrix}\\right]$"
      ],
      "text/plain": [
       "Matrix([\n",
       "[-5*sqrt(159)/159],\n",
       "[10*sqrt(159)/159],\n",
       "[-5*sqrt(159)/159],\n",
       "[    sqrt(159)/53]])"
      ]
     },
     "execution_count": 57,
     "metadata": {},
     "output_type": "execute_result"
    }
   ],
   "source": [
    "u3 = v3 - U*(U.T * U).inv()*U.T * v3\n",
    "u3 /= u3.norm()\n",
    "u3"
   ]
  },
  {
   "cell_type": "code",
   "execution_count": 58,
   "id": "8c544b14",
   "metadata": {},
   "outputs": [
    {
     "data": {
      "text/latex": [
       "$\\displaystyle \\left[\\begin{matrix}\\frac{\\sqrt{66}}{66} & \\frac{3 \\sqrt{11}}{11} & - \\frac{5 \\sqrt{159}}{159}\\\\\\frac{2 \\sqrt{66}}{33} & \\frac{\\sqrt{11}}{11} & \\frac{10 \\sqrt{159}}{159}\\\\\\frac{7 \\sqrt{66}}{66} & - \\frac{\\sqrt{11}}{11} & - \\frac{5 \\sqrt{159}}{159}\\\\0 & 0 & \\frac{\\sqrt{159}}{53}\\end{matrix}\\right]$"
      ],
      "text/plain": [
       "Matrix([\n",
       "[  sqrt(66)/66, 3*sqrt(11)/11, -5*sqrt(159)/159],\n",
       "[2*sqrt(66)/33,   sqrt(11)/11, 10*sqrt(159)/159],\n",
       "[7*sqrt(66)/66,  -sqrt(11)/11, -5*sqrt(159)/159],\n",
       "[            0,             0,     sqrt(159)/53]])"
      ]
     },
     "execution_count": 58,
     "metadata": {},
     "output_type": "execute_result"
    }
   ],
   "source": [
    "U = simplify(Matrix.hstack(U, u3))\n",
    "U"
   ]
  },
  {
   "cell_type": "code",
   "execution_count": 59,
   "id": "dc847222",
   "metadata": {},
   "outputs": [
    {
     "data": {
      "text/latex": [
       "$\\displaystyle \\left[\\begin{matrix}1 & 0 & 0\\\\0 & 1 & 0\\\\0 & 0 & 1\\end{matrix}\\right]$"
      ],
      "text/plain": [
       "Matrix([\n",
       "[1, 0, 0],\n",
       "[0, 1, 0],\n",
       "[0, 0, 1]])"
      ]
     },
     "execution_count": 59,
     "metadata": {},
     "output_type": "execute_result"
    }
   ],
   "source": [
    "U.T * U"
   ]
  },
  {
   "cell_type": "markdown",
   "id": "fe018016",
   "metadata": {
    "slideshow": {
     "slide_type": "slide"
    }
   },
   "source": [
    "## Orthogonal matrices\n",
    "\n",
    "A matrix $Q$ is **orthogonal** iff \n",
    "\n",
    "- $Q$ is square\n",
    "- $QQ^T = \\mathbf I$\n",
    "\n",
    "**Corollaries**\n",
    "\n",
    "If $Q$ is orthogonal, then\n",
    "\n",
    "- for each column $\\mathbf q_i$ of Q, $\\|\\mathbf q_i\\| = 1$\n",
    "- if $i\\neq j$, then $\\mathbf q_i$ and $\\mathbf q_j$ are orthogonal, i.e., $\\mathbf q_i^T\\mathbf q_j = 0$\n",
    "- $Q^T = Q^{-1}$"
   ]
  },
  {
   "cell_type": "markdown",
   "id": "0c78e6d2",
   "metadata": {
    "slideshow": {
     "slide_type": "slide"
    }
   },
   "source": [
    "It follows from what has been said above that the eigenvectors of each symmetric matrix can be chosen so that they form an orthogonal matrix. Therefore, $S$ can be diagonalized as\n",
    "\n",
    "$$\n",
    "S = Q\\Lambda Q^T\n",
    "$$\n",
    "\n",
    "where $Q$ is orthogonal and $\\Lambda$ is diagonal.\n",
    "\n",
    "This is the famous **Spectral Theorem**."
   ]
  }
 ],
 "metadata": {
  "@webio": {
   "lastCommId": null,
   "lastKernelId": null
  },
  "celltoolbar": "Slideshow",
  "hide_input": false,
  "kernelspec": {
   "display_name": "Python 3 (ipykernel)",
   "language": "python",
   "name": "python3"
  },
  "language_info": {
   "codemirror_mode": {
    "name": "ipython",
    "version": 3
   },
   "file_extension": ".py",
   "mimetype": "text/x-python",
   "name": "python",
   "nbconvert_exporter": "python",
   "pygments_lexer": "ipython3",
   "version": "3.9.11"
  },
  "latex_envs": {
   "LaTeX_envs_menu_present": true,
   "autoclose": false,
   "autocomplete": true,
   "bibliofile": "biblio.bib",
   "cite_by": "apalike",
   "current_citInitial": 1,
   "eqLabelWithNumbers": true,
   "eqNumInitial": 1,
   "hotkeys": {
    "equation": "Ctrl-E",
    "itemize": "Ctrl-I"
   },
   "labels_anchors": false,
   "latex_user_defs": false,
   "report_style_numbering": false,
   "user_envs_cfg": false
  },
  "rise": {
   "enable_chalkboard": true
  },
  "varInspector": {
   "cols": {
    "lenName": 16,
    "lenType": 16,
    "lenVar": 40
   },
   "kernels_config": {
    "python": {
     "delete_cmd_postfix": "",
     "delete_cmd_prefix": "del ",
     "library": "var_list.py",
     "varRefreshCmd": "print(var_dic_list())"
    },
    "r": {
     "delete_cmd_postfix": ") ",
     "delete_cmd_prefix": "rm(",
     "library": "var_list.r",
     "varRefreshCmd": "cat(var_dic_list()) "
    }
   },
   "types_to_exclude": [
    "module",
    "function",
    "builtin_function_or_method",
    "instance",
    "_Feature"
   ],
   "window_display": false
  }
 },
 "nbformat": 4,
 "nbformat_minor": 5
}
