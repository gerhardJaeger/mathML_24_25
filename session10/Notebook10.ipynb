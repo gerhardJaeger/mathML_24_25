{
 "cells": [
  {
   "cell_type": "code",
   "execution_count": 1,
   "id": "6b6d3e8a",
   "metadata": {
    "slideshow": {
     "slide_type": "skip"
    }
   },
   "outputs": [],
   "source": [
    "import sympy\n",
    "from sympy import Matrix, Rational, sqrt, symbols, zeros, simplify, exp\n",
    "import numpy as np\n",
    "import matplotlib.pyplot as plt\n",
    "import ipywidgets as widgets\n",
    "from ipywidgets import interact, interactive, fixed, interact_manual\n",
    "import matplotlib.pyplot as plt\n",
    "%matplotlib notebook\n"
   ]
  },
  {
   "cell_type": "markdown",
   "id": "17d690f6",
   "metadata": {
    "hide_input": true,
    "slideshow": {
     "slide_type": "slide"
    }
   },
   "source": [
    "# Mathematics for Machine Leaning\n",
    "\n",
    "## Session 10: Diagonalization\n",
    "\n",
    "## Gerhard Jäger\n",
    "\n",
    "### November 21, 2024"
   ]
  },
  {
   "cell_type": "markdown",
   "id": "e1d80725",
   "metadata": {
    "slideshow": {
     "slide_type": "slide"
    }
   },
   "source": [
    "### Triangular matrices\n",
    "\n",
    "$$\n",
    "\\begin{aligned}\n",
    "A &= \n",
    "\\begin{bmatrix}\n",
    "1 & 4 & 1\\\\\n",
    "0 & 6 & 4\\\\\n",
    "0 & 0 & 2\n",
    "\\end{bmatrix}\\\\\n",
    "A -\\lambda \\mathbf I &= \n",
    "\\begin{vmatrix}\n",
    "1-\\lambda & 4 & 1\\\\\n",
    "0 & 6-\\lambda & 4\\\\\n",
    "0 & 0 & 2-\\lambda \n",
    "\\end{vmatrix}\\\\\n",
    "&= 0\\\\\n",
    "(1-\\lambda)(6-\\lambda)(2-\\lambda) &= 0\\\\\n",
    "\\lambda_1 &= 6\\\\\n",
    "\\lambda_2 &= 2\\\\\n",
    "\\lambda_3 &= 1\n",
    "\\end{aligned}\n",
    "$$\n",
    "\n",
    "**In triangular matrices, the diagonal entries are the eigenvalues.**"
   ]
  },
  {
   "cell_type": "markdown",
   "id": "f05dc516",
   "metadata": {
    "slideshow": {
     "slide_type": "slide"
    }
   },
   "source": [
    "## Eigenspaces\n",
    "\n",
    "\n",
    "- **Eigenspaces** are fundamental concepts in linear algebra, associated with eigenvalues and eigenvectors of a matrix.\n",
    "- **Definition:** The eigenspace of an eigenvalue is the set of all vectors that, when multiplied by the matrix, result in a vector that is a the original vector multiplied with that eigenvalue.\n",
    "- **Mathematically:** If $A$ is a matrix and λ is an eigenvalue, then the eigenspace of λ is the set of all vectors \n",
    "$\\mathbf v$ satisfying \n",
    "$$\n",
    "A\\mathbf v=λ\\mathbf v\n",
    "$$\n"
   ]
  },
  {
   "cell_type": "markdown",
   "id": "1761f1ad",
   "metadata": {
    "slideshow": {
     "slide_type": "slide"
    }
   },
   "source": [
    "### Computing Eigenspaces\n",
    "\n",
    "To find the eigenspace of an eigenvalue $\\lambda$:\n",
    "\n",
    "1. **Find Eigenvectors**: Solve $ (A - \\lambda I)\\mathbf v = 0 $ for each eigenvalue to find the corresponding eigenvectors $ \\mathbf v $.\n",
    "2. **Form Eigenspace**: The set of all eigenvectors, including the zero vector, forms the eigenspace for the eigenvalue.\n"
   ]
  },
  {
   "cell_type": "markdown",
   "id": "ad72102c",
   "metadata": {
    "slideshow": {
     "slide_type": "slide"
    }
   },
   "source": [
    "### Properties and Applications of Eigenspaces\n",
    "\n",
    "**Properties**:\n",
    "- The eigenspace of an eigenvalue is a linear subspace.\n",
    "- Dimension of the eigenspace is the geometric multiplicity of the eigenvalue.\n",
    "\n",
    "**Applications**:\n",
    "- Used in diagonalization of matrices.\n",
    "- Important in fields like quantum mechanics, vibrations analysis, facial recognition, and more.\n",
    "\n",
    "**Conclusion**: Understanding eigenspaces is crucial for grasping the behavior of linear transformations and matrices.\n"
   ]
  },
  {
   "cell_type": "markdown",
   "id": "9726e107",
   "metadata": {
    "slideshow": {
     "slide_type": "slide"
    }
   },
   "source": [
    "### Example\n",
    "\n",
    "$$\n",
    "A = \\begin{bmatrix}\n",
    "7 & -1 &0\\\\\n",
    "-2 &8&0\\\\\n",
    "-4 & 4 & 6\n",
    "\\end{bmatrix}\n",
    "$$"
   ]
  },
  {
   "cell_type": "code",
   "execution_count": 2,
   "id": "2ef3436d",
   "metadata": {},
   "outputs": [
    {
     "data": {
      "text/latex": [
       "$\\displaystyle \\left[\\begin{matrix}7 & -1 & 0\\\\-2 & 8 & 0\\\\-4 & 4 & 6\\end{matrix}\\right]$"
      ],
      "text/plain": [
       "Matrix([\n",
       "[ 7, -1, 0],\n",
       "[-2,  8, 0],\n",
       "[-4,  4, 6]])"
      ]
     },
     "execution_count": 2,
     "metadata": {},
     "output_type": "execute_result"
    }
   ],
   "source": [
    "A = Matrix([\n",
    "    [7, -1, 0],\n",
    "    [-2, 8, 0],\n",
    "    [-4, 4, 6]\n",
    "])\n",
    "A"
   ]
  },
  {
   "cell_type": "code",
   "execution_count": 3,
   "id": "527861d5",
   "metadata": {},
   "outputs": [
    {
     "data": {
      "text/plain": [
       "{9: 1, 6: 2}"
      ]
     },
     "execution_count": 3,
     "metadata": {},
     "output_type": "execute_result"
    }
   ],
   "source": [
    "A.eigenvals()"
   ]
  },
  {
   "cell_type": "markdown",
   "id": "9a6238c2",
   "metadata": {},
   "source": [
    "The eigenspace for the eigenvalue 6 is the nullspace of \n",
    "\n",
    "$$\n",
    "A - 6\\mathbf I = \n",
    "\\begin{bmatrix}\n",
    "1 & -1 & 0\\\\\n",
    "-2 & 2 & 0\\\\\n",
    "-4 & 4 & 0\n",
    "\\end{bmatrix}\n",
    "$$\n",
    "\n",
    "To find it, we need to derive the reduced row echelon form:"
   ]
  },
  {
   "cell_type": "code",
   "execution_count": 4,
   "id": "c87ffd35",
   "metadata": {
    "slideshow": {
     "slide_type": "slide"
    }
   },
   "outputs": [
    {
     "data": {
      "text/latex": [
       "$\\displaystyle \\left[\\begin{matrix}1 & -1 & 0\\\\0 & 0 & 0\\\\0 & 0 & 0\\end{matrix}\\right]$"
      ],
      "text/plain": [
       "Matrix([\n",
       "[1, -1, 0],\n",
       "[0,  0, 0],\n",
       "[0,  0, 0]])"
      ]
     },
     "execution_count": 4,
     "metadata": {},
     "output_type": "execute_result"
    }
   ],
   "source": [
    "(A-6*sympy.eye(3)).rref()[0]"
   ]
  },
  {
   "cell_type": "markdown",
   "id": "15b8af6b",
   "metadata": {},
   "source": [
    "The eigenspace of $A$ for the eigenvector 6 is then the column space of\n",
    "\n",
    "$$\n",
    "\\begin{bmatrix}\n",
    "1 & 0\\\\\n",
    "1 & 0\\\\\n",
    "0 & 1\n",
    "\\end{bmatrix}\n",
    "$$"
   ]
  },
  {
   "cell_type": "markdown",
   "id": "8ffe177c",
   "metadata": {
    "slideshow": {
     "slide_type": "slide"
    }
   },
   "source": [
    "## Matrix diagonalization\n",
    "\n",
    "Let $A$ be an $n\\times n$ matrix, which has $n$ **linearly independent eigenvectors** $\\mathbf v_1,\\ldots, \\mathbf v_n$. (This means that the algebraic and the geometric multiplicities both sum up to $n$.)\n",
    "\n",
    "Let \n",
    "\n",
    "$$\n",
    "V = \\begin{bmatrix}\n",
    "| & \\cdots & |\\\\\n",
    "\\mathbf v_1&\\cdots & \\mathbf v_n\\\\\n",
    "| & \\cdots & |\\\\\n",
    "\\end{bmatrix}\n",
    "$$\n",
    "\n",
    "Let $\\lambda_1, \\ldots, \\lambda_n$ be the corresponding eigenvalues.\n",
    "\n",
    "$$\n",
    "\\begin{aligned}\n",
    "A\\mathbf v_1 &= \\lambda_1 \\mathbf v_1\\\\\n",
    " & \\vdots \\\\\n",
    "A\\mathbf v_n &= \\lambda_1 \\mathbf v_n\n",
    "\\end{aligned}\n",
    "$$\n",
    "\n"
   ]
  },
  {
   "cell_type": "markdown",
   "id": "53e48cbd",
   "metadata": {
    "slideshow": {
     "slide_type": "slide"
    }
   },
   "source": [
    "In matrix notation:\n",
    "\n",
    "$$\n",
    "\\begin{aligned}\n",
    "A\\begin{bmatrix}\n",
    "| & \\cdots & |\\\\\n",
    "\\mathbf v_1&\\cdots & \\mathbf v_n\\\\\n",
    "| & \\cdots & |\\\\\n",
    "\\end{bmatrix} &= \n",
    "\\begin{bmatrix}\n",
    "| & \\cdots & |\\\\\n",
    "\\mathbf \\lambda_1 \\mathbf v_1&\\cdots & \\lambda_n \\mathbf v_n\\\\\n",
    "| & \\cdots & |\\\\\n",
    "\\end{bmatrix}\\\\\n",
    "AV &= \\begin{bmatrix}\n",
    "| & \\cdots & |\\\\\n",
    "\\mathbf \\lambda_1 \\mathbf v_1&\\cdots & \\lambda_n \\mathbf v_n\\\\\n",
    "| & \\cdots & |\\\\\n",
    "\\end{bmatrix}\\\\\n",
    "AV &= V\\begin{bmatrix}\n",
    "\\lambda_1 & \\cdots & 0\\\\\n",
    "0 & \\ddots & 0\\\\\n",
    "0 & \\cdots & \\lambda_n\n",
    "\\end{bmatrix}\n",
    "\\end{aligned}\n",
    "$$\n"
   ]
  },
  {
   "cell_type": "markdown",
   "id": "6f38257c",
   "metadata": {
    "slideshow": {
     "slide_type": "slide"
    }
   },
   "source": [
    "Let $\\Lambda$ be the diagonal matrix with $\\lambda_1,\\ldots,\\lambda_n$ as diagonal entries.\n",
    "\n",
    "$$\n",
    "AV = V\\Lambda\n",
    "$$\n",
    "\n",
    "By assumption, $V$ has independent columns, so it is invertible. Therefore\n",
    "\n",
    "$$\n",
    "A = V\\Lambda V^{-1}\n",
    "$$\n",
    "\n",
    "It also holds that:\n",
    "\n",
    "$$\n",
    "V^{-1}AV = \\Lambda\n",
    "$$\n",
    "\n",
    "This operation is called **diagonalization** of $A$, since $A$ is converted to a diagonal matrix."
   ]
  },
  {
   "cell_type": "markdown",
   "id": "22491cad",
   "metadata": {
    "slideshow": {
     "slide_type": "slide"
    }
   },
   "source": [
    "### Example\n",
    "\n",
    "$$\n",
    "\\begin{aligned}\n",
    "A &= \\left[\\begin{matrix}0.8 & 0.3\\\\0.2 & 0.7\\end{matrix}\\right]\\\\\n",
    "V &= \n",
    "\\begin{bmatrix}\n",
    "3 & -1\\\\\n",
    "2 & 1\n",
    "\\end{bmatrix}\\\\\n",
    "\\Lambda &= \\begin{bmatrix}\n",
    "1 & 0\\\\\n",
    "0 & 0.5\n",
    "\\end{bmatrix}\\\\\n",
    "V^{-1} &= \n",
    "\\begin{bmatrix}\n",
    "0.2 & 0.2\\\\\n",
    "-0.4 & 0.6\n",
    "\\end{bmatrix}\\\\\n",
    "A &= V \\Lambda V^{-1}\\\\\n",
    "\\left[\\begin{matrix}0.8 & 0.3\\\\0.2 & 0.7\\end{matrix}\\right] &=\n",
    "\\begin{bmatrix}\n",
    "3 & -1\\\\\n",
    "2 & 1\n",
    "\\end{bmatrix}\\begin{bmatrix}\n",
    "1 & 0\\\\\n",
    "0 & 0.5\n",
    "\\end{bmatrix}\\begin{bmatrix}\n",
    "0.2 & 0.2\\\\\n",
    "-0.4 & 0.6\n",
    "\\end{bmatrix}\\\\\n",
    "\\Lambda &= V^{-1}AV\\\\\n",
    "\\begin{bmatrix}\n",
    "1 & 0\\\\\n",
    "0 & 0.5\n",
    "\\end{bmatrix} &= \\begin{bmatrix}\n",
    "0.2 & 0.2\\\\\n",
    "-0.4 & 0.6\n",
    "\\end{bmatrix}\\left[\\begin{matrix}0.8 & 0.3\\\\0.2 & 0.7\\end{matrix}\\right]\\begin{bmatrix}\n",
    "3 & -1\\\\\n",
    "2 & 1\n",
    "\\end{bmatrix}\n",
    "\\end{aligned}\n",
    "$$\n"
   ]
  },
  {
   "cell_type": "markdown",
   "id": "599fed3f",
   "metadata": {
    "slideshow": {
     "slide_type": "slide"
    }
   },
   "source": [
    "### Matrix power\n",
    "\n",
    "Suppose $\\lambda, \\mathbf v$ are an eigenvalue and a corresponding eigenvector of $A$.\n",
    "\n",
    "$$\n",
    "\\begin{aligned}\n",
    "A\\mathbf v &= \\lambda \\mathbf v\\\\\n",
    "A^2\\mathbf v &= A\\lambda \\mathbf v\\\\\n",
    "&= \\lambda A\\mathbf v\\\\\n",
    "&= \\lambda ^2 \\mathbf v\n",
    "\\end{aligned}\n",
    "$$\n",
    "\n",
    "$\\mathbf v$ is also an eigenvector of $A^2$, and $\\lambda^2$ is the corresponding eigenvalue.\n",
    "\n",
    "Likewise, $\\mathbf v$ is also an eigenvector of $A^k$, and $\\lambda^k$ is the corresponding eigenvalue."
   ]
  },
  {
   "cell_type": "markdown",
   "id": "7e5a0876",
   "metadata": {
    "slideshow": {
     "slide_type": "slide"
    }
   },
   "source": [
    "### Matrix power\n",
    "\n",
    "Suppose $A$ is diagonalizable.\n",
    "\n",
    "$$\n",
    "\\begin{aligned}\n",
    "A &= V\\Lambda V^{-1}\\\\\n",
    "A^2 &= V\\Lambda V^{-1}V\\Lambda V^{-1}\\\\\n",
    "&= V\\Lambda^2V^{-1}\\\\\n",
    "&\\vdots\\\\\n",
    "A^k &= V\\Lambda^kV^{-1}\\\\\n",
    "&= V\n",
    "\\begin{bmatrix}\n",
    "\\lambda_1^k & \\cdots & 0\\\\\n",
    "0 & \\ddots & 0\\\\\n",
    "0 & \\cdots & \\lambda_n^k\n",
    "\\end{bmatrix}\n",
    "V^{-1}\\\\\n",
    "\\end{aligned}\n",
    "$$\n",
    "\n"
   ]
  },
  {
   "cell_type": "markdown",
   "id": "43f8a52f",
   "metadata": {
    "slideshow": {
     "slide_type": "slide"
    }
   },
   "source": [
    "### Matrix inverse\n",
    "\n",
    "Suppose $A$ is a invertible matrix, $\\lambda$ is an eigenvalue, and $\\mathbf v$ a corresponding eigenvector .\n",
    "\n",
    "$$\n",
    "\\begin{aligned}\n",
    "A^{-1}A &= \\mathbf I\\\\\n",
    "A^{-1}A\\mathbf v &= \\mathbf v\\\\\n",
    "A^{-1}\\lambda\\mathbf v &= \\mathbf v\\\\\n",
    "A^{-1}\\mathbf v &= \\lambda^{-1}\\mathbf v\\\\\n",
    "\\end{aligned}\n",
    "$$\n",
    "\n",
    "- $\\mathbf v$ is also an eigenvector of $A^{-1}$.\n",
    "- The corresponding eigenvalue is $\\lambda^{-1}$.\n",
    "\n",
    "If $A$ is also diagonalizabe as $A = P\\Lambda P^{-1}$, then\n",
    "\n",
    "$$\n",
    "A^{-1} = P \\Lambda^{-1}P^{-1}\n",
    "$$\n"
   ]
  },
  {
   "cell_type": "markdown",
   "id": "62828209",
   "metadata": {
    "slideshow": {
     "slide_type": "slide"
    }
   },
   "source": [
    "### Example: Fibonacci numbers\n",
    "\n",
    "- **Fibonacci numbers:** infinite sequence of natural numbers, formed according to the rules\n",
    "\n",
    "$$\n",
    "\\begin{aligned}\n",
    "F_0 &= 0\\\\\n",
    "F_2 &= 1\\\\\n",
    "F_{n+2} &= F_n + F_{n+1}\n",
    "\\end{aligned}\n",
    "$$\n",
    "\n",
    "- $0, 1, 1, 2, 3, 5, 8, 13, 21, ...$\n",
    "\n",
    "- What is the explicit rule for $F_n$?"
   ]
  },
  {
   "cell_type": "markdown",
   "id": "779424aa",
   "metadata": {
    "slideshow": {
     "slide_type": "slide"
    }
   },
   "source": [
    "- Suppose we have $F_n$ and $F_{n+1}$. Let us put them into a vector\n",
    "    $$\n",
    "        \\mathbf x_n = \\begin{pmatrix}F_n \\\\ F_{n+1}\\end{pmatrix}\n",
    "    $$\n",
    "\n",
    "- By definition, $F_{n+2} = F_n + F_{n+1}$, and\n",
    "\n",
    "    $$\n",
    "    \\begin{aligned}\n",
    "        \\mathbf{x}_{n+1} &= \\begin{pmatrix}F_{n+1}\\\\F_{n+2}\\end{pmatrix}\\\\\n",
    "            &= \\begin{pmatrix}\n",
    "                    0 & 1\\\\\n",
    "                    1 & 1\n",
    "               \\end{pmatrix}\n",
    "               \\mathbf x_n\n",
    "    \\end{aligned}\n",
    "    $$\n",
    "- So we have\n",
    "    $$\n",
    "    \\begin{aligned}\n",
    "        \\mathbf x_0 &= \\begin{pmatrix}0\\\\1\\end{pmatrix}\\\\\n",
    "        A &= \\begin{pmatrix}\n",
    "                    0 & 1\\\\\n",
    "                    1 & 1\n",
    "               \\end{pmatrix}\\\\\n",
    "        \\mathbf x_n &= A^n \\mathbf x_0\\\\\n",
    "        F_n &= \\begin{pmatrix}\n",
    "        1\\\\0\n",
    "        \\end{pmatrix}^T\n",
    "        A^n \\mathbf x_0\n",
    "    \\end{aligned}\n",
    "    $$\n",
    "    \n",
    "To write an explicit formula, we need to diagonize $A$."
   ]
  },
  {
   "cell_type": "markdown",
   "id": "1561899a",
   "metadata": {
    "slideshow": {
     "slide_type": "slide"
    }
   },
   "source": [
    "**1. Find eigenvalues**\n",
    "\n",
    "$$\n",
    "\\begin{aligned}\n",
    "    \\left|\\begin{pmatrix}\n",
    "    -\\lambda & 1\\\\\n",
    "    1 & 1-\\lambda\n",
    "    \\end{pmatrix}\\right| &= 0\\\\\n",
    "    \\lambda^2-\\lambda-1 &= 0\\\\\n",
    "    \\lambda_{1/2} &= \\frac{1}{2} \\pm \\frac{\\sqrt{5}}{2}\\\\\n",
    "    \\lambda _1 &= \\phi\\\\\n",
    "    \\lambda_2 &=  1-\\phi\n",
    "\\end{aligned}\n",
    "$$\n",
    "\n",
    "Here, $\\phi = \\frac{1+\\sqrt{5}}{2}$ is the *Golden Ratio*.\n",
    "\n",
    "It has the interesting property that \n",
    "$$\n",
    "\\phi (\\phi-1) = 1\n",
    "$$\n"
   ]
  },
  {
   "cell_type": "markdown",
   "id": "ebeca2c8",
   "metadata": {
    "slideshow": {
     "slide_type": "slide"
    }
   },
   "source": [
    "\n",
    "\n",
    "**2. Find eigenvectors**\n",
    "\n",
    "- $\\lambda_1 = \\phi$\n",
    "    - find nullspace of\n",
    "    \n",
    "    $$\n",
    "    \\begin{pmatrix}\n",
    "    -\\phi & 1\\\\\n",
    "    1 & 1-\\phi\n",
    "    \\end{pmatrix}\n",
    "    $$\n",
    "    - solution:\n",
    "    $$\n",
    "    \\begin{aligned}\n",
    "    \\mathbf v_1 &= \\begin{pmatrix}\n",
    "    \\phi-1\\\\\n",
    "    1\n",
    "    \\end{pmatrix}\n",
    "    \\end{aligned}\n",
    "    $$\n",
    "- $\\lambda_2 = 1-\\phi$\n",
    "    - find nullspace of\n",
    "    \n",
    "    $$\n",
    "    \\begin{pmatrix}\n",
    "    \\phi-1 & 1\\\\\n",
    "    1 & \\phi\n",
    "    \\end{pmatrix}\n",
    "    $$\n",
    "    - solution:\n",
    "    $$\n",
    "    \\mathbf v_2 = \\begin{pmatrix}\n",
    "    -\\phi\\\\\n",
    "    1\n",
    "    \\end{pmatrix}\n",
    "    $$\n",
    "\n"
   ]
  },
  {
   "cell_type": "markdown",
   "id": "045742cf",
   "metadata": {
    "slideshow": {
     "slide_type": "slide"
    }
   },
   "source": [
    "\n",
    "**3. diagonalize matrix**\n",
    "\n",
    "$$\n",
    "\\begin{aligned}\n",
    "V &= \\begin{pmatrix}\n",
    "\\phi-1 & -\\phi\\\\\n",
    "1 & 1\n",
    "\\end{pmatrix}\\\\\n",
    "V^{-1} &= \\frac{\\sqrt 5}{5}\\begin{pmatrix}\n",
    "1 & \\phi\\\\\n",
    "-1 & \\phi-1\n",
    "\\end{pmatrix}\\\\\n",
    "\\Lambda &= \\begin{pmatrix}\n",
    "\\phi & 0\\\\\n",
    "0 & 1-\\phi\n",
    "\\end{pmatrix}\\\\\n",
    "A &= V \\Lambda V^{-1}\n",
    "\\end{aligned}\n",
    "$$"
   ]
  },
  {
   "cell_type": "markdown",
   "id": "79fb99ca",
   "metadata": {
    "slideshow": {
     "slide_type": "slide"
    }
   },
   "source": [
    "**Solution**\n",
    "\n",
    "$$\n",
    "\\begin{aligned}\n",
    "F_n &= \\begin{pmatrix}1\\\\0\\end{pmatrix}^T A^n \\mathbf x_0\\\\\n",
    "&= \\begin{pmatrix}1\\\\0\\end{pmatrix}^TV \\Lambda^nV^{-1}\\begin{pmatrix}0\\\\1\\end{pmatrix}\\\\\n",
    "\\begin{pmatrix}1\\\\0\\end{pmatrix}^T V  &= \\begin{pmatrix}1\\\\0\\end{pmatrix}^T \\begin{pmatrix}\n",
    "\\phi-1 & -\\phi\\\\\n",
    "1 & 1\n",
    "\\end{pmatrix}\\\\\n",
    "&= \\begin{pmatrix}\n",
    "\\phi-1 \\\\ -\\phi\n",
    "\\end{pmatrix}^T\\\\\n",
    "V^{-1}\\begin{pmatrix}0\\\\1\\end{pmatrix} &= \\frac{\\sqrt 5}{5}\\begin{pmatrix}\n",
    "1 & \\phi\\\\\n",
    "-1 & \\phi-1\n",
    "\\end{pmatrix}\\begin{pmatrix}0\\\\1\\end{pmatrix}\\\\\n",
    "&= \\frac{\\sqrt 5}{5}\\begin{pmatrix}\n",
    "\\phi\\\\\n",
    "\\phi-1\n",
    "\\end{pmatrix}\\\\\n",
    "F_n &= \\frac{\\sqrt 5}{5}\\begin{pmatrix}\n",
    "\\phi-1 \\\\ -\\phi\n",
    "\\end{pmatrix}^T\n",
    "\\begin{pmatrix}\n",
    "\\phi^n & 0\\\\\n",
    "0 & (1-\\phi)^n\n",
    "\\end{pmatrix}\n",
    "\\begin{pmatrix}\n",
    "\\phi\\\\\n",
    "\\phi-1\n",
    "\\end{pmatrix}\\\\\n",
    "&= \\frac{\\sqrt 5}{5}\n",
    "\\begin{pmatrix}\n",
    "\\phi-1 \\\\ -\\phi\n",
    "\\end{pmatrix}^T\n",
    "\\begin{pmatrix}\n",
    "\\phi^{n+1}\\\\\n",
    "-(1-\\phi)^{n+1}\n",
    "\\end{pmatrix}\\\\\n",
    "&= \\frac{\\sqrt 5}{5} ((\\phi-1)\\phi^{n+1} + \\phi(1-\\phi)^{n+1})\\\\\n",
    "&= \\frac{\\sqrt 5}{5} (\\phi^n - (1-\\phi)^n)\n",
    "\\end{aligned}\n",
    "$$"
   ]
  },
  {
   "cell_type": "markdown",
   "id": "68ab6a88",
   "metadata": {
    "slideshow": {
     "slide_type": "slide"
    }
   },
   "source": [
    "##### Matrix exponential\n",
    "\n",
    "If $A$ is diagonalizable:\n",
    "\n",
    "$$\n",
    "e^A = V\n",
    "\\begin{bmatrix}\n",
    "e^\\lambda_1 & \\cdots & 0\\\\\n",
    "0 & \\ddots & 0\\\\\n",
    "0 & \\cdots & e^\\lambda_n\n",
    "\\end{bmatrix}\n",
    "V^{-1}\\\\\n",
    "$$\n",
    "\n"
   ]
  },
  {
   "cell_type": "markdown",
   "id": "036c8c5f",
   "metadata": {
    "slideshow": {
     "slide_type": "slide"
    }
   },
   "source": [
    "#### Example: Continuous time Markov chain\n",
    "\n",
    "- system is in one of two states at each point in time\n",
    "- mutation can occur at each point in time\n",
    "- behavior characterized by **rate matrix**\n",
    "\n",
    "$$\n",
    "Q = \\begin{bmatrix}\n",
    "-r & r\\\\\n",
    "s & -s\n",
    "\\end{bmatrix}\n",
    "$$\n",
    "\n",
    "If the system is in state $i$ at $t_0$, the probability of it being in state $j$ at time $t_0+t$ is given by\n",
    "\n",
    "$$\n",
    "p_{ij} = (e^{tQ})_{ij}\n",
    "$$\n",
    "\n",
    "Let us find the explicit formula for $e^{tQ}$."
   ]
  },
  {
   "cell_type": "markdown",
   "id": "57fba7e0",
   "metadata": {
    "slideshow": {
     "slide_type": "slide"
    }
   },
   "source": [
    "#### 1. diagonalize Q\n",
    "\n",
    "$$\n",
    "\\begin{align}\n",
    "\\det(Q-\\lambda \\boldsymbol{I}) &= 0\\\\\n",
    "(-r-\\lambda)(-s-\\lambda) -rs &=0\\\\\n",
    "\\lambda^2+(r+s)\\lambda  &= 0\\\\\n",
    "\\lambda_1 &= -(r+s)\\\\\n",
    "\\lambda_2 &= 0\\\\\n",
    "Q &= \n",
    "\\begin{bmatrix}\n",
    "r & 1\\\\\n",
    "-s & 1\n",
    "\\end{bmatrix}\n",
    "\\begin{bmatrix}\n",
    "-(r+s) & 0\\\\\n",
    "0 & 0\n",
    "\\end{bmatrix}\n",
    "\\frac{1}{r+s}\\begin{bmatrix}\n",
    "1 & -1\\\\\n",
    "s & r\n",
    "\\end{bmatrix}\n",
    "\\end{align}\n",
    "$$"
   ]
  },
  {
   "cell_type": "markdown",
   "id": "7b10de38",
   "metadata": {
    "slideshow": {
     "slide_type": "slide"
    }
   },
   "source": [
    "#### 2. matrix exponentiation\n",
    "\n",
    "$$\n",
    "\\begin{align}\n",
    "Q &= \\begin{bmatrix}\n",
    "r & 1\\\\\n",
    "-s & 1\n",
    "\\end{bmatrix}\n",
    "\\begin{bmatrix}\n",
    "-(r+s) & 0\\\\\n",
    "0 & 0\n",
    "\\end{bmatrix}\n",
    "\\frac{1}{r+s}\\begin{bmatrix}\n",
    "1 & -1\\\\\n",
    "s & r\n",
    "\\end{bmatrix}\\\\\n",
    "tQ &= \\begin{bmatrix}\n",
    "r & 1\\\\\n",
    "-s & 1\n",
    "\\end{bmatrix}\n",
    "\\begin{bmatrix}\n",
    "-t(r+s) & 0\\\\\n",
    "0 & 0\n",
    "\\end{bmatrix}\n",
    "\\frac{1}{r+s}\\begin{bmatrix}\n",
    "1 & -1\\\\\n",
    "s & r\n",
    "\\end{bmatrix}\\\\\n",
    "e^{tQ} &= \\begin{bmatrix}\n",
    "r & 1\\\\\n",
    "-s & 1\n",
    "\\end{bmatrix}\n",
    "\\begin{bmatrix}\n",
    "e^{-t(r+s)} & 0\\\\\n",
    "0 & 1\n",
    "\\end{bmatrix}\n",
    "\\frac{1}{r+s}\\begin{bmatrix}\n",
    "1 & -1\\\\\n",
    "s & r\n",
    "\\end{bmatrix}\\\\\n",
    "\\end{align}\n",
    "$$"
   ]
  },
  {
   "cell_type": "markdown",
   "id": "6b6bd9bf",
   "metadata": {
    "slideshow": {
     "slide_type": "slide"
    }
   },
   "source": [
    "#### 3. multiplying out\n",
    "\n",
    "$$\n",
    "\\begin{align}\n",
    "e^{tQ}&=\\begin{bmatrix}\n",
    "r & 1\\\\\n",
    "-s & 1\n",
    "\\end{bmatrix}\n",
    "\\begin{bmatrix}\n",
    "e^{-t(r+s)} & 0\\\\\n",
    "0 & 1\n",
    "\\end{bmatrix}\n",
    "\\frac{1}{r+s}\\begin{bmatrix}\n",
    "1 & -1\\\\\n",
    "s & r\n",
    "\\end{bmatrix}\\\\\n",
    "&= \\frac{1}{r+s}\\begin{bmatrix}\n",
    "r & 1\\\\\n",
    "-s & 1\n",
    "\\end{bmatrix}\n",
    "\\begin{bmatrix}\n",
    "e^{-t(r+s)} & 0\\\\\n",
    "0 & 1\n",
    "\\end{bmatrix}\n",
    "\\begin{bmatrix}\n",
    "1 & -1\\\\\n",
    "s & r\n",
    "\\end{bmatrix}\\\\\n",
    "&= \\frac{1}{r+s}\\begin{bmatrix}\n",
    "r & 1\\\\\n",
    "-s & 1\n",
    "\\end{bmatrix}\n",
    "\\begin{bmatrix}\n",
    "e^{-t(r+s)} & -e^{-t(r+s)}\\\\\n",
    "s & r\n",
    "\\end{bmatrix}\\\\\n",
    "&= \\frac{1}{r+s}\n",
    "\\begin{bmatrix}\n",
    "s+re^{-t(r+s)} & r-re^{-t(r+s)}\\\\\n",
    "s-se^{-t(r+s)} & r+se^{-t(r+s)}\n",
    "\\end{bmatrix}\\\\\n",
    "\\end{align}\n",
    "$$\n",
    "\n",
    "\n"
   ]
  }
 ],
 "metadata": {
  "@webio": {
   "lastCommId": null,
   "lastKernelId": null
  },
  "celltoolbar": "Slideshow",
  "hide_input": false,
  "kernelspec": {
   "display_name": "Python 3 (ipykernel)",
   "language": "python",
   "name": "python3"
  },
  "language_info": {
   "codemirror_mode": {
    "name": "ipython",
    "version": 3
   },
   "file_extension": ".py",
   "mimetype": "text/x-python",
   "name": "python",
   "nbconvert_exporter": "python",
   "pygments_lexer": "ipython3",
   "version": "3.9.11"
  },
  "latex_envs": {
   "LaTeX_envs_menu_present": true,
   "autoclose": false,
   "autocomplete": true,
   "bibliofile": "biblio.bib",
   "cite_by": "apalike",
   "current_citInitial": 1,
   "eqLabelWithNumbers": true,
   "eqNumInitial": 1,
   "hotkeys": {
    "equation": "Ctrl-E",
    "itemize": "Ctrl-I"
   },
   "labels_anchors": false,
   "latex_user_defs": false,
   "report_style_numbering": false,
   "user_envs_cfg": false
  },
  "rise": {
   "enable_chalkboard": true
  },
  "varInspector": {
   "cols": {
    "lenName": 16,
    "lenType": 16,
    "lenVar": 40
   },
   "kernels_config": {
    "python": {
     "delete_cmd_postfix": "",
     "delete_cmd_prefix": "del ",
     "library": "var_list.py",
     "varRefreshCmd": "print(var_dic_list())"
    },
    "r": {
     "delete_cmd_postfix": ") ",
     "delete_cmd_prefix": "rm(",
     "library": "var_list.r",
     "varRefreshCmd": "cat(var_dic_list()) "
    }
   },
   "types_to_exclude": [
    "module",
    "function",
    "builtin_function_or_method",
    "instance",
    "_Feature"
   ],
   "window_display": false
  }
 },
 "nbformat": 4,
 "nbformat_minor": 5
}
