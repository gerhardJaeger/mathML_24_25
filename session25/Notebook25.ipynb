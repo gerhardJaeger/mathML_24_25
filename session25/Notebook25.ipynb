{
 "cells": [
  {
   "cell_type": "markdown",
   "id": "79c23bd9",
   "metadata": {
    "slideshow": {
     "slide_type": "slide"
    }
   },
   "source": [
    "# Mathematics for Machine Learning\n",
    "\n",
    "## Session 25: Jacobian Matrix, multivariate chain rule, backpropagaion\n",
    "\n",
    "### Gerhard Jäger\n",
    "\n",
    "\n",
    "January 30, 2025\n",
    "\n",
    "---\n",
    "<br><br>\n",
    "\n",
    "<small>Most material taken from Chapter 11 of Keisler, H. Jerome. *Elementary Calculus: An Infinitesimal Approach*. 2012 and Chapter 5 of Deisenroth, Faisal & Ong's (2024) Mathematics for Machine Learning,.</small><br>\n",
    "<small>Applets programmed with the help of ChatGPT and Perplexity</small>"
   ]
  },
  {
   "cell_type": "code",
   "execution_count": 1,
   "id": "644d8747",
   "metadata": {
    "hide_input": true,
    "slideshow": {
     "slide_type": "skip"
    }
   },
   "outputs": [],
   "source": [
    "import numpy as np\n",
    "import matplotlib.pyplot as plt\n",
    "from ipywidgets import interact\n",
    "%matplotlib inline\n"
   ]
  },
  {
   "cell_type": "markdown",
   "id": "509e4b5a",
   "metadata": {
    "slideshow": {
     "slide_type": "slide"
    }
   },
   "source": [
    "## Jacobi matrix\n",
    "\n",
    "So far we have considered functions with multiple inputs and a single output.\n",
    "\n",
    "$$\n",
    "f \\in \\mathbb R^m \\mapsto \\mathbb R\\\\\n",
    "y = f(x_1, \\ldots, x_m)\n",
    "$$\n",
    "\n",
    "The **gradient** of such a function is the vector of partial derivatives.\n",
    "\n",
    "$$\n",
    "\\nabla f(x_1,\\ldots,x_n) = \\left[\\frac{\\partial z}{\\partial x_1}, \\cdots, \\frac{\\partial z}{\\partial x_m}\\right]\n",
    "$$\n",
    "\n",
    "I will represent the gradient as a row vector – the literature is inconsistent in this regard."
   ]
  },
  {
   "cell_type": "markdown",
   "id": "0abff8c5",
   "metadata": {
    "slideshow": {
     "slide_type": "slide"
    }
   },
   "source": [
    "Now let us move to functions with multiple inputs and multiple outputs.\n",
    "\n",
    "$$\n",
    "\\begin{align}\n",
    "f &\\in \\mathbb R^m\\mapsto \\mathbb R^n\\\\\n",
    "z_1 &= f_1(x_1,\\ldots, x_m)\\\\\n",
    "&\\vdots\\\\\n",
    "z_n &= f_n(x_1,\\ldots, x_m)\\\\\n",
    "\\end{align}\n",
    "$$\n",
    "\n",
    "Each output $z_i$ has a gradient $\\nabla z_i$. We collect them in a matrix, where each row is the gradient of one output. This matrix is called the **Jacobian Matrix**.\n",
    "\n",
    "$$\n",
    "\\boldsymbol J = \\begin{bmatrix}\n",
    "\\frac{\\partial z_1}{\\partial x_1} & \\cdots & \\frac{\\partial z_1}{\\partial x_m}\\\\\n",
    "\\vdots & & \\vdots\\\\\n",
    "\\frac{\\partial z_n}{\\partial x_1} & \\cdots & \\frac{\\partial z_n}{\\partial x_m}\n",
    "\\end{bmatrix}\n",
    "$$"
   ]
  },
  {
   "cell_type": "markdown",
   "id": "f1f9f3f8",
   "metadata": {
    "slideshow": {
     "slide_type": "slide"
    }
   },
   "source": [
    "## Example: Jacobian Matrix for a $2 \\times 2$ Function  \n",
    "\n",
    "Let’s consider a function with two inputs and two outputs:\n",
    "\n",
    "$$\n",
    "\\begin{aligned}\n",
    "    f &: \\mathbb{R}^2 \\to \\mathbb{R}^2 \\\\\n",
    "    (x_1, x_2) &\\mapsto (z_1, z_2)\n",
    "\\end{aligned}\n",
    "$$\n",
    "\n",
    "where\n",
    "\n",
    "$$\n",
    "\\begin{aligned}\n",
    "    z_1 &= f_1(x_1, x_2) = x_1^2 + x_2^2 \\\\\n",
    "    z_2 &= f_2(x_1, x_2) = x_1 x_2\n",
    "\\end{aligned}\n",
    "$$\n",
    "\n",
    "### Computing the Partial Derivatives  \n",
    "\n",
    "We compute the gradients of $z_1$ and $z_2$:\n",
    "\n",
    "$$\n",
    "\\nabla z_1 = \\left[\\frac{\\partial z_1}{\\partial x_1}, \\frac{\\partial z_1}{\\partial x_2} \\right] = \\left[2x_1, 2x_2 \\right]\n",
    "$$\n",
    "\n",
    "$$\n",
    "\\nabla z_2 = \\left[\\frac{\\partial z_2}{\\partial x_1}, \\frac{\\partial z_2}{\\partial x_2} \\right] = \\left[x_2, x_1 \\right]\n",
    "$$\n",
    "\n"
   ]
  },
  {
   "cell_type": "markdown",
   "id": "39d16eda",
   "metadata": {
    "slideshow": {
     "slide_type": "slide"
    }
   },
   "source": [
    "\n",
    "\n",
    "### Constructing the Jacobi Matrix  \n",
    "\n",
    "The Jacobian matrix is given by:\n",
    "\n",
    "$$\n",
    "\\boldsymbol{J} =\n",
    "\\begin{bmatrix}\n",
    "\\frac{\\partial z_1}{\\partial x_1} & \\frac{\\partial z_1}{\\partial x_2} \\\\\n",
    "\\frac{\\partial z_2}{\\partial x_1} & \\frac{\\partial z_2}{\\partial x_2}\n",
    "\\end{bmatrix}\n",
    "=\n",
    "\\begin{bmatrix}\n",
    "2x_1 & 2x_2 \\\\\n",
    "x_2 & x_1\n",
    "\\end{bmatrix}\n",
    "$$\n",
    "\n",
    "This matrix represents how small changes in $x_1$ and $x_2$ affect the outputs $z_1$ and $z_2$.\n"
   ]
  },
  {
   "cell_type": "markdown",
   "id": "1d3f1a3b",
   "metadata": {
    "slideshow": {
     "slide_type": "slide"
    }
   },
   "source": [
    "## Example: Jacobian Matrix for a Single Dense Layer\n",
    "\n",
    "In a **dense (fully connected) layer**, the transformation is:\n",
    "\n",
    "$$\n",
    "\\mathbf{z} = f(\\mathbf{x}, \\mathbf{W}, \\mathbf{b}) = \\mathbf{W} \\mathbf{x} + \\mathbf{b}\n",
    "$$\n",
    "\n",
    "where:\n",
    "\n",
    "- **Input**: $ \\mathbf{x} \\in \\mathbb{R}^m $ (fixed input vector),\n",
    "- **Weights**: $ \\mathbf{W} \\in \\mathbb{R}^{n \\times m} $ (trainable parameters),\n",
    "- **Bias**: $ \\mathbf{b} \\in \\mathbb{R}^n $ (trainable bias vector),\n",
    "- **Output**: $ \\mathbf{z} \\in \\mathbb{R}^n $.\n",
    "\n",
    "We now compute the **Jacobian with respect to the weights and biases**, treating $ \\mathbf{x} $ as fixed.\n",
    "\n",
    "### Computing Partial Derivatives\n",
    "\n",
    "For the weights:\n",
    "\n",
    "$$\n",
    "\\frac{\\partial z_i}{\\partial W_{ij}} = x_j\n",
    "$$\n",
    "\n",
    "For the biases:\n",
    "\n",
    "$$\n",
    "\\frac{\\partial z_i}{\\partial b_i} = 1, \\quad \\frac{\\partial z_i}{\\partial b_j} = 0 \\text{ for } i \\neq j\n",
    "$$\n"
   ]
  },
  {
   "cell_type": "markdown",
   "id": "cf5a4ec9",
   "metadata": {
    "slideshow": {
     "slide_type": "slide"
    }
   },
   "source": [
    "## Constructing the Jacobian Matrix\n",
    "\n",
    "The Jacobian matrix $ \\mathbf{J} $ consists of partial derivatives of $ \\mathbf{z} $ with respect to $ \\mathbf{W} $ and $ \\mathbf{b} $:\n",
    "\n",
    "$$\n",
    "\\mathbf{J} =\n",
    "\\begin{bmatrix}\n",
    "\\frac{\\partial z_1}{\\partial W_{11}} & \\cdots & \\frac{\\partial z_1}{\\partial W_{1m}} & \\frac{\\partial z_1}{\\partial W_{21}} & \\cdots & \\frac{\\partial z_1}{\\partial W_{nm}} & \\frac{\\partial z_1}{\\partial b_1} & \\cdots & \\frac{\\partial z_1}{\\partial b_n} \\\\\n",
    "\\vdots & & \\vdots & \\vdots & & \\vdots & \\vdots & & \\vdots \\\\\n",
    "\\frac{\\partial z_n}{\\partial W_{11}} & \\cdots & \\frac{\\partial z_n}{\\partial W_{1m}} & \\frac{\\partial z_n}{\\partial W_{21}} & \\cdots & \\frac{\\partial z_n}{\\partial W_{nm}} & \\frac{\\partial z_n}{\\partial b_1} & \\cdots & \\frac{\\partial z_n}{\\partial b_n}\n",
    "\\end{bmatrix}\n",
    "$$\n",
    "\n",
    "Expanding the derivatives:\n",
    "\n",
    "$$\n",
    "\\mathbf{J} =\n",
    "\\begin{bmatrix}\n",
    "x_1 & x_2 & \\cdots & x_m & 0 & \\cdots & 0 & 1 & 0 & \\cdots & 0 \\\\\n",
    "0 & 0 & \\cdots & 0 & x_1 & \\cdots & x_m & 0 & 1 & \\cdots & 0 \\\\\n",
    "\\vdots & & \\vdots & & \\vdots & & \\vdots & & \\vdots & & \\vdots \\\\\n",
    "0 & 0 & \\cdots & 0 & 0 & \\cdots & 0 & 0 & 0 & \\cdots & 1\n",
    "\\end{bmatrix}\n",
    "$$\n",
    "\n",
    "This shows that:\n",
    "\n",
    "- Each **weight** $ W_{ij} $ has a derivative equal to $ x_j $.\n",
    "- Each **bias** term has a derivative of 1 for its corresponding output neuron.\n",
    "\n",
    "This structure is fundamental in backpropagation, as it determines how gradients are propagated for weight and bias updates.\n"
   ]
  },
  {
   "cell_type": "markdown",
   "id": "d58d4f88",
   "metadata": {
    "slideshow": {
     "slide_type": "slide"
    }
   },
   "source": [
    "## Interlude: using the Jacobian for substitution in multiple integrals\n",
    "\n",
    "Recall the substitution rule for integration:\n",
    "\n",
    "$$\n",
    "\\int f(y) dy = \\int f(g(x))g'(x) dx\n",
    "$$\n",
    "\n",
    "\n",
    "For functions with multiple variables, a similar principle applies, but instead of a single derivative, we use the **Jacobian determinant**.\n",
    "\n",
    "### Change of Variables in Multiple Integrals\n",
    "\n",
    "Suppose we have a transformation:\n",
    "\n",
    "$$\n",
    "\\begin{aligned}\n",
    "    x_1 &= g_1(u_1, u_2, \\dots, u_m) \\\\\n",
    "    x_2 &= g_2(u_1, u_2, \\dots, u_m) \\\\\n",
    "    &\\vdots \\\\\n",
    "    x_m &= g_m(u_1, u_2, \\dots, u_m)\n",
    "\\end{aligned}\n",
    "$$\n",
    "\n",
    "where $(x_1, \\dots, x_m)$ are the original variables and $(u_1, \\dots, u_m)$ are the new variables.\n",
    "\n",
    "The volume element transforms as:\n",
    "\n",
    "$$\n",
    "dx_1 \\, dx_2 \\dots dx_m = \\left| \\det \\boldsymbol{J} \\right| du_1 \\, du_2 \\dots du_m\n",
    "$$\n",
    "\n",
    "Thus, the integral transforms as:\n",
    "\n",
    "$$\n",
    "\\int_{\\mathcal{D}_x} f(x_1, \\dots, x_m) \\, dx_1 \\dots dx_m =\n",
    "\\int_{\\mathcal{D}_u} f(g_1, \\dots, g_m) \\left| \\det \\boldsymbol{J} \\right| du_1 \\dots du_m\n",
    "$$\n"
   ]
  },
  {
   "cell_type": "markdown",
   "id": "055bf4be",
   "metadata": {
    "slideshow": {
     "slide_type": "slide"
    }
   },
   "source": [
    "\n",
    "\n",
    "This is particularly useful when converting between coordinate systems, such as:\n",
    "\n",
    "- Cartesian $\\to$ Polar: $dx\\,dy = r \\, dr \\, d\\theta$\n",
    "- Cartesian $\\to$ Spherical: $dx\\,dy\\,dz = r^2 \\sin\\theta \\, dr \\, d\\theta \\, d\\phi$\n",
    "\n",
    "We will now apply this principle to an example."
   ]
  },
  {
   "cell_type": "markdown",
   "id": "839b05f7",
   "metadata": {
    "slideshow": {
     "slide_type": "slide"
    }
   },
   "source": [
    "## Example – Change of Variables in a Double Integral\n",
    "\n",
    "Consider the integral:\n",
    "\n",
    "$$\n",
    "I = \\int_{-\\infty}^{\\infty} \\int_{-\\infty}^{\\infty} e^{-(x^2 + y^2)} \\, dx \\, dy\n",
    "$$\n",
    "\n",
    "This integral is much easier to evaluate in **polar coordinates**.\n",
    "\n",
    "### Step 1: Define the Transformation\n",
    "We use the standard transformation from Cartesian to polar coordinates:\n",
    "\n",
    "$$\n",
    "x = r \\cos \\theta, \\quad y = r \\sin \\theta\n",
    "$$\n",
    "\n",
    "where $r \\geq 0$ and $\\theta \\in [0, 2\\pi]$.\n",
    "\n",
    "### Step 2: Compute the Jacobian Matrix\n",
    "The Jacobian matrix is:\n",
    "\n",
    "$$\n",
    "\\boldsymbol{J} =\n",
    "\\begin{bmatrix}\n",
    "\\frac{\\partial x}{\\partial r} & \\frac{\\partial x}{\\partial \\theta} \\\\\n",
    "\\frac{\\partial y}{\\partial r} & \\frac{\\partial y}{\\partial \\theta}\n",
    "\\end{bmatrix}\n",
    "=\n",
    "\\begin{bmatrix}\n",
    "\\cos \\theta & -r \\sin \\theta \\\\\n",
    "\\sin \\theta & r \\cos \\theta\n",
    "\\end{bmatrix}\n",
    "$$\n"
   ]
  },
  {
   "cell_type": "markdown",
   "id": "8ad7d4ef",
   "metadata": {
    "slideshow": {
     "slide_type": "slide"
    }
   },
   "source": [
    "\n",
    "\n",
    "### Step 3: Compute the Determinant\n",
    "The determinant of $\\boldsymbol{J}$ is:\n",
    "\n",
    "$$\n",
    "\\det \\boldsymbol{J} =\n",
    "\\begin{vmatrix}\n",
    "\\cos \\theta & -r \\sin \\theta \\\\\n",
    "\\sin \\theta & r \\cos \\theta\n",
    "\\end{vmatrix}\n",
    "= r (\\cos^2 \\theta + \\sin^2 \\theta) = r\n",
    "$$\n",
    "\n",
    "Thus, the volume element transforms as:\n",
    "\n",
    "$$\n",
    "dx \\, dy = \\left| \\det \\boldsymbol{J} \\right| dr \\, d\\theta = r \\, dr \\, d\\theta\n",
    "$$\n"
   ]
  },
  {
   "cell_type": "code",
   "execution_count": 2,
   "id": "90c9e2c0",
   "metadata": {
    "slideshow": {
     "slide_type": "slide"
    }
   },
   "outputs": [
    {
     "data": {
      "image/png": "[encoded data removed]",
      "text/plain": [
       "<Figure size 1440x720 with 4 Axes>"
      ]
     },
     "metadata": {
      "needs_background": "light"
     },
     "output_type": "display_data"
    }
   ],
   "source": [
    "import numpy as np\n",
    "import matplotlib.pyplot as plt\n",
    "\n",
    "# Define the limits for the polar coordinate system\n",
    "theta_limits = (-np.pi, np.pi)\n",
    "r_limits = (0, 10)\n",
    "\n",
    "# Define theta values\n",
    "theta_vals = np.linspace(-np.pi/2 + 0.01, np.pi/2 - 0.01, 300)\n",
    "theta_vals_sin = np.linspace(0.01, np.pi - 0.01, 300)\n",
    "\n",
    "# Create a grid for the Cartesian plot\n",
    "x = np.linspace(-3, 3, 300)\n",
    "y = np.linspace(-3, 3, 300)\n",
    "X, Y = np.meshgrid(x, y)\n",
    "\n",
    "# Calculate the density f(x, y) = exp(-(x^2 + y^2))\n",
    "f_xy = np.exp(-(X**2 + Y**2))\n",
    "\n",
    "# Create a polar grid for the polar plot\n",
    "r = np.linspace(0, 3, 300)\n",
    "theta = np.linspace(-np.pi, np.pi, 300)\n",
    "R, Theta = np.meshgrid(r, theta)\n",
    "\n",
    "# Calculate the density f(θ, r) = r * exp(-r^2) in polar coordinates\n",
    "f_theta_r = R * np.exp(-R**2)\n",
    "\n",
    "# Create the figure with two subplots\n",
    "fig, ax = plt.subplots(1, 2, figsize=(20, 10))\n",
    "\n",
    "# --- Cartesian plot ---\n",
    "# Plot the density f(x, y) = exp(-(x^2 + y^2))\n",
    "cp = ax[0].contourf(X, Y, f_xy, levels=20, cmap='inferno')\n",
    "fig.colorbar(cp, ax=ax[0])\n",
    "\n",
    "# Set labels and grid for Cartesian plot\n",
    "ax[0].set_xlabel('x')\n",
    "ax[0].set_ylabel('y')\n",
    "ax[0].set_title('Density $f(x, y) = e^{-(x^2 + y^2)}$')\n",
    "ax[0].grid()\n",
    "\n",
    "# --- Polar plot ---\n",
    "# Plot the density f(θ, r) = r * exp(-r^2) in polar coordinates\n",
    "cp_polar = ax[1].contourf(Theta, R, f_theta_r, levels=20, cmap='inferno')\n",
    "fig.colorbar(cp_polar, ax=ax[1])\n",
    "\n",
    "# Set labels and grid for Polar plot\n",
    "ax[1].set_xlabel(r'$\\theta$')\n",
    "ax[1].set_ylabel(r'$r$')\n",
    "ax[1].set_title(r'Density $f(\\theta, r) = r \\cdot e^{-r^2}$')\n",
    "\n",
    "# Show the plots\n",
    "plt.tight_layout()\n",
    "plt.show()\n"
   ]
  },
  {
   "cell_type": "code",
   "execution_count": 3,
   "id": "e99feca2",
   "metadata": {
    "slideshow": {
     "slide_type": "slide"
    }
   },
   "outputs": [
    {
     "data": {
      "image/png": "[encoded data removed]",
      "text/plain": [
       "<Figure size 1440x720 with 2 Axes>"
      ]
     },
     "metadata": {
      "needs_background": "light"
     },
     "output_type": "display_data"
    }
   ],
   "source": [
    "import numpy as np\n",
    "import matplotlib.pyplot as plt\n",
    "\n",
    "# Define the limits for the polar coordinate system\n",
    "theta_limits = (-np.pi, np.pi)\n",
    "r_limits = (0, 10)\n",
    "\n",
    "# Define theta values\n",
    "theta_vals = np.linspace(-np.pi/2 + 0.01, np.pi/2 - 0.01, 300)\n",
    "theta_vals_sin = np.linspace(0.01, np.pi - 0.01, 300)\n",
    "\n",
    "# Compute r values for the curves\n",
    "r_vals = 1 / np.cos(theta_vals)  # r = 1 / cos(θ)\n",
    "r_vals_2 = 2 / np.cos(theta_vals)  # r = 2 / cos(θ)\n",
    "r_vals_sin = 1 / np.sin(theta_vals_sin)  # r = 1 / sin(θ)\n",
    "r_vals_sin_2 = 2 / np.sin(theta_vals_sin)  # r = 2 / sin(θ)\n",
    "\n",
    "# Create a figure with two subplots: one for polar and one for Cartesian coordinates\n",
    "fig, ax = plt.subplots(1, 2, figsize=(20, 10))\n",
    "\n",
    "# --- Cartesian plot ---\n",
    "# Plot the lines x=1, x=2, y=1, y=2\n",
    "ax[0].axvline(x=1, color='red', linewidth=2)  # x=1\n",
    "ax[0].axvline(x=2, color='blue', linewidth=2)  # x=2\n",
    "ax[0].axhline(y=1, color='green', linewidth=2)  # y=1\n",
    "ax[0].axhline(y=2, color='purple', linewidth=2)  # y=2\n",
    "\n",
    "# Fill the region between x=1 and x=2 (yellow) and y=1 and y=2 (cyan)\n",
    "ax[0].fill_betweenx([1, 2], 1, 2, color='yellow', alpha=0.5)\n",
    "ax[0].fill_between([1, 2], 1, 2, color='cyan', alpha=0.3)\n",
    "\n",
    "# Set the axis limits for the Cartesian plot (centered at origin for y-axis)\n",
    "ax[0].set_xlim(-np.pi, np.pi)\n",
    "ax[0].set_ylim(-np.pi, np.pi)\n",
    "\n",
    "# Set ticks for Cartesian plot\n",
    "ax[0].set_xticks([-np.pi, -np.pi/2, 0, np.pi/2, np.pi])\n",
    "ax[0].set_xticklabels([r\"$-\\pi$\", r\"$-\\frac{\\pi}{2}$\", r\"$0$\", r\"$\\frac{\\pi}{2}$\", r\"$\\pi$\"])\n",
    "\n",
    "# Set ticks for y-axis (similarly to x-axis)\n",
    "ax[0].set_yticks([-np.pi, -np.pi/2, 0, np.pi/2, np.pi])\n",
    "ax[0].set_yticklabels([r\"$-\\pi$\", r\"$-\\frac{\\pi}{2}$\", r\"$0$\", r\"$\\frac{\\pi}{2}$\", r\"$\\pi$\"])\n",
    "\n",
    "# Draw grid lines for Cartesian plot\n",
    "ax[0].grid()\n",
    "\n",
    "# Set aspect ratio to 1:1 for Cartesian plot\n",
    "ax[0].set_aspect('equal', adjustable='box')\n",
    "\n",
    "# --- Polar plot ---\n",
    "# Plot the curves r = 1 / cos(θ), r = 2 / cos(θ), r = 1 / sin(θ), and r = 2 / sin(θ)\n",
    "ax[1].plot(theta_vals, r_vals, color='red', linewidth=2)  # r = 1 / cos(θ)\n",
    "ax[1].plot(theta_vals, r_vals_2, color='blue', linewidth=2)  # r = 2 / cos(θ)\n",
    "ax[1].plot(theta_vals_sin, r_vals_sin, color='green', linewidth=2)  # r = 1 / sin(θ)\n",
    "ax[1].plot(theta_vals_sin, r_vals_sin_2, color='purple', linewidth=2)  # r = 2 / sin(θ)\n",
    "\n",
    "# Fill the area between the red and blue curves (r = 1 / cos(θ) and r = 2 / cos(θ))\n",
    "ax[1].fill_between(theta_vals, r_vals, r_vals_2, color='yellow', alpha=0.5)\n",
    "\n",
    "# Fill the transparent area between the green and purple curves (r = 1 / sin(θ) and r = 2 / sin(θ))\n",
    "ax[1].fill_between(theta_vals_sin, r_vals_sin, r_vals_sin_2, color='cyan', alpha=0.3)\n",
    "\n",
    "# Set the axis limits for the polar plot\n",
    "ax[1].set_xlim(theta_limits)\n",
    "ax[1].set_ylim(0, 2 * np.pi)\n",
    "\n",
    "# Set ticks for θ at key points\n",
    "ax[1].set_xticks([-np.pi, -np.pi/2, 0, np.pi/2, np.pi])\n",
    "ax[1].set_xticklabels([r\"$-\\pi$\", r\"$-\\frac{\\pi}{2}$\", r\"$0$\", r\"$\\frac{\\pi}{2}$\", r\"$\\pi$\"])\n",
    "\n",
    "# Draw grid lines for polar plot\n",
    "ax[1].grid()\n",
    "\n",
    "# Set aspect ratio to 1:1 for polar plot\n",
    "ax[1].set_aspect('equal', adjustable='box')\n",
    "\n",
    "# Show the plot\n",
    "plt.tight_layout()\n",
    "plt.show()\n"
   ]
  },
  {
   "cell_type": "markdown",
   "id": "19519b56",
   "metadata": {
    "slideshow": {
     "slide_type": "slide"
    }
   },
   "source": [
    "## Solving the Integral\n",
    "\n",
    "Using the change of variables, the integral becomes:\n",
    "\n",
    "$$\n",
    "I = \\int_0^{2\\pi} \\int_0^\\infty e^{-r^2} r \\, dr \\, d\\theta\n",
    "$$\n",
    "\n",
    "### Step 1: Solve the Inner Integral\n",
    "Let $u = r^2 \\Rightarrow du = 2r \\, dr$, so:\n",
    "\n",
    "$$\n",
    "\\int_0^\\infty e^{-r^2} r \\, dr = \\frac{1}{2} \\int_0^\\infty e^{-u} \\, du = \\frac{1}{2}\n",
    "$$\n",
    "\n",
    "### Step 2: Solve the Outer Integral\n",
    "Since the outer integral is simply over $\\theta$:\n",
    "\n",
    "$$\n",
    "\\int_0^{2\\pi} d\\theta = 2\\pi\n",
    "$$\n"
   ]
  },
  {
   "cell_type": "markdown",
   "id": "dcac57c6",
   "metadata": {
    "slideshow": {
     "slide_type": "slide"
    }
   },
   "source": [
    "\n",
    "\n",
    "### Final Result\n",
    "Multiplying both results:\n",
    "\n",
    "$$\n",
    "I = \\frac{1}{2} \\cdot 2\\pi = \\pi\n",
    "$$\n",
    "\n",
    "Thus, we have shown that:\n",
    "\n",
    "$$\n",
    "\\int_{-\\infty}^{\\infty} \\int_{-\\infty}^{\\infty} e^{-(x^2 + y^2)} \\, dx \\, dy = \\pi\n",
    "$$\n",
    "\n"
   ]
  },
  {
   "cell_type": "markdown",
   "id": "4b2b983a",
   "metadata": {
    "slideshow": {
     "slide_type": "slide"
    }
   },
   "source": [
    "## The multivariate chain rule\n",
    "\n",
    "We have to distinguish several scenarios. The following three are the essential ones – they easily generalize to multiple outputs.\n",
    "\n",
    "<img src=\"_img/scenarios.svg\"  width=\"2000\" style=\"display: block; margin-left: auto; margin-right: auto;\">\n",
    "\n"
   ]
  },
  {
   "cell_type": "markdown",
   "id": "53d1ceb7",
   "metadata": {
    "slideshow": {
     "slide_type": "slide"
    }
   },
   "source": [
    "## Scenario 1\n",
    "\n",
    "$$\n",
    "\\begin{align}\n",
    "z &= f(x_1,x_2)\\\\\n",
    "x_1 &= g_1(t)\\\\\n",
    "x_2 &= g_2(t)\\\\\n",
    "\\frac{\\Delta z}{\\Delta t} &= \\frac{f(g_1(t+\\Delta t), g_2(t+\\Delta t))-f(g_1(t), g_2(t))}{\\Delta t}\n",
    "\\end{align}\n",
    "$$\n",
    "\n",
    "According to the Increment Theorem for single variables:\n",
    "\n",
    "$$\n",
    "\\begin{align}\n",
    "\\frac{\\Delta z}{\\Delta t} &= \\frac{f(g_1(t+\\Delta t), g_2(t+\\Delta t))-f(g_1(t), g_2(t))}{\\Delta t}\\\\\n",
    "&=\\frac{f(g_1(t)+(g_1'(t)+\\varepsilon_1)\\Delta t, g_2(t)+(g_2'(t)+\\varepsilon_2)\\Delta t))-f(g_1(t), g_2(t))}{\\Delta t}\\\\\n",
    "\\end{align}\n",
    "$$\n",
    "\n",
    "According to the Increment Theorem for Two Variables:\n",
    "\n",
    "$$\n",
    "\\begin{align}\n",
    "\\frac{\\Delta z}{\\Delta t} \n",
    "&=\\frac{f(g_1(t)+(g_1'(t)+\\varepsilon_1)\\Delta t, g_2(t)+(g_2'(t)+\\varepsilon_2)\\Delta t))-f(g_1(t), g_2(t))}{\\Delta t}\\\\\n",
    "&\\approx\\frac{\\partial f(x_1, x_2)}{\\partial x_1}g_1'(t) + \\frac{\\partial f(x_1, x_2)}{\\partial x_2}g_2'(t)\\\\\n",
    "\\frac{dz}{dt}&= \\frac{\\partial f(x_1, x_2)}{\\partial x_1}g_1'(t) + \\frac{\\partial f(x_1, x_2)}{\\partial x_2}g_2'(t)\n",
    "\\end{align}\n",
    "$$\n"
   ]
  },
  {
   "cell_type": "markdown",
   "id": "d36ac932",
   "metadata": {
    "slideshow": {
     "slide_type": "slide"
    }
   },
   "source": [
    "The Jacobian of $f$ is\n",
    "\n",
    "$$\n",
    "\\boldsymbol J_f = \\nabla f = \\begin{bmatrix}\\frac{\\partial f(x_1,x_2)}{\\partial x1}&\\frac{\\partial f(x_1,x_2)}{\\partial x2}\\end{bmatrix}\n",
    "$$\n",
    "\n",
    "The Jacobian of $g$ is the column vector of the gradients of $g_1$ and $g_2$.\n",
    "\n",
    "$$\n",
    "\\boldsymbol J_g = \\begin{bmatrix}\n",
    "g_1'(t)\\\\\n",
    "g_2'(t)\n",
    "\\end{bmatrix}\n",
    "$$\n",
    "\n",
    "The Jacobian of $z$ is a $1\\times 1$ matrix containing $\\frac{dz}{dt}$.\n",
    "\n",
    "Putting things together, we get\n",
    "\n",
    "$$\n",
    "\\boldsymbol J_z = \\boldsymbol J_f \\boldsymbol J_g\n",
    "$$"
   ]
  },
  {
   "cell_type": "markdown",
   "id": "a64ef594",
   "metadata": {
    "slideshow": {
     "slide_type": "slide"
    }
   },
   "source": [
    "## Scenario 2\n",
    "\n",
    "$$\n",
    "\\begin{align}\n",
    "z &= f(x)\\\\\n",
    "x &= g(s,t)\n",
    "\\end{align}\n",
    "$$\n",
    "\n",
    "In this scenario, we only need the chain rule for single variables\n",
    "\n",
    "$$\n",
    "\\begin{align}\n",
    "\\frac{\\partial z}{\\partial s} &= \\frac{\\partial g(s,t)}{\\partial s}f'(g(s,t))\\\\\n",
    "\\frac{\\partial z}{\\partial t} &= \\frac{\\partial g(s,t)}{\\partial t}f'(g(s,t))\\\\\n",
    "\\end{align}\n",
    "$$\n",
    "\n",
    "Here the Jacobian of $f$ is the $1\\times 1$ matrix:\n",
    "\n",
    "$$\\boldsymbol J_f = f'(g(s,t))$$\n",
    "\n",
    "The Jacobian of $g$ is \n",
    "\n",
    "$$\n",
    "\\boldsymbol J_g = \\begin{bmatrix}\\frac{\\partial f(s,t)}{\\partial s} & \\frac{\\partial f(s,t)}{\\partial s}\\end{bmatrix}\n",
    "$$\n",
    "\n",
    "The Jacobian of $z$ is \n",
    "\n",
    "$$\n",
    "\\boldsymbol J_z = \\begin{bmatrix}\\frac{\\partial z}{\\partial s} & \\frac{\\partial z}{\\partial s}\\end{bmatrix}\n",
    "$$\n",
    "\n",
    "So, here we also have\n",
    "\n",
    "$$\n",
    "\\boldsymbol J_z = \\boldsymbol J_f \\boldsymbol J_g\n",
    "$$"
   ]
  },
  {
   "cell_type": "markdown",
   "id": "9248ca9b",
   "metadata": {
    "slideshow": {
     "slide_type": "slide"
    }
   },
   "source": [
    "## Scenario 3\n",
    "\n",
    "$$\n",
    "\\begin{align}\n",
    "z &= f(x,y)\\\\\n",
    "x &= g_1(s,t)\\\\\n",
    "y &= g_2(s,t)\n",
    "\\end{align}\n",
    "$$\n",
    "\n",
    "Effectively, this is twice Scenario 1\n",
    "\n",
    "$$\n",
    "\\begin{align}\n",
    "\\frac{dz}{ds} &= \\frac{\\partial g_1(s,t)}{\\partial s}\\frac{\\partial f(x,y)}{\\partial x} + \\frac{\\partial g_2(s,t)}{\\partial s}\\frac{\\partial f(x,y)}{\\partial y}\\\\\n",
    "\\frac{dz}{dt} &= \\frac{\\partial g_1(s,t)}{\\partial t}\\frac{\\partial f(x,y)}{\\partial x} + \\frac{\\partial g_2(s,t)}{\\partial t}\\frac{\\partial f(x,y)}{\\partial y}\\\\\n",
    "\\end{align}\n",
    "$$\n",
    "\n",
    "Here the Jacobian of $f$ is\n",
    "\n",
    "$$\n",
    "\\boldsymbol J_f = \\begin{bmatrix}\\frac{\\partial f(x,y)}{\\partial x}&\\frac{\\partial f(x,y)}{\\partial y}\\end{bmatrix}\n",
    "$$\n",
    "\n",
    "The Jacobian of $g$ is\n",
    "\n",
    "$$\n",
    "\\begin{align}\n",
    "\\boldsymbol J_g &= \\begin{bmatrix}\n",
    "\\frac{\\partial g_1(s,t)}{\\partial s} & \\frac{\\partial g_1(s,t)}{\\partial t}\\\\\n",
    "\\frac{\\partial g_2(s,t)}{\\partial s} & \\frac{\\partial g_2(s,t)}{\\partial t}\\\\\n",
    "\\end{bmatrix}\n",
    "\\end{align}\n",
    "$$\n",
    "\n",
    "So we again have\n",
    "\n",
    "$$\n",
    "\\boldsymbol J_z = \\boldsymbol J_f \\boldsymbol J_g\n",
    "$$"
   ]
  },
  {
   "cell_type": "markdown",
   "id": "11871538",
   "metadata": {
    "slideshow": {
     "slide_type": "slide"
    }
   },
   "source": [
    "If we have multiple dependent variables, this amounts to multiple rows in the Jacobian of $f$. So the reduction of the chain rule to matrix multiplication of Jacobians also holds.\n",
    "\n",
    "### Multivariate Chain Rule\n",
    "\n",
    "Let $f$ be a function $\\mathbb R^k\\mapsto \\mathbb R^n$ and $g$ be a function $\\mathbb R^k\\mapsto \\mathbb R^m$. Then the Jacobian of $f(g(\\boldsymbol x))$ is\n",
    "\n",
    "$$\n",
    "\\boldsymbol J_{f\\circ g} = \\boldsymbol J_f \\boldsymbol J_g\n",
    "$$\n",
    "\n",
    "Note that $\\boldsymbol J_g$ has to be evaluated at $\\boldsymbol x$, and $\\boldsymbol J_f$ at $g(\\boldsymbol x)$."
   ]
  },
  {
   "cell_type": "markdown",
   "id": "bbe3c962",
   "metadata": {
    "slideshow": {
     "slide_type": "slide"
    }
   },
   "source": [
    "## 2x2x2 Example - Part 1\n",
    "\n",
    "#### Scenario: $ f: \\mathbb{R}^2 \\to \\mathbb{R}^2 $ and $ g: \\mathbb{R}^2 \\to \\mathbb{R}^2 $\n",
    "\n",
    "Let $ f $ and $ g $ be functions from $ \\mathbb{R}^2 $ to $ \\mathbb{R}^2 $:\n",
    "\n",
    "$$\n",
    "f: \\mathbb{R}^2 \\to \\mathbb{R}^2 \\quad \\text{and} \\quad g: \\mathbb{R}^2 \\to \\mathbb{R}^2\n",
    "$$\n",
    "\n",
    "For example:\n",
    "\n",
    "$$\n",
    "f(x_1, x_2) = \\begin{bmatrix} x_1^2 + x_2^2 \\\\ x_1 \\cdot x_2 \\end{bmatrix}, \\quad g(s, t) = \\begin{bmatrix} s + t \\\\ s - t \\end{bmatrix}\n",
    "$$\n",
    "\n",
    "We want to compute the Jacobian of the composition $ f(g(s, t)) $.\n",
    "\n",
    "#### Jacobian of $ f(x_1, x_2) $:\n",
    "\n",
    "The Jacobian of $ f(x_1, x_2) $ is:\n",
    "\n",
    "$$\n",
    "\\boldsymbol{J}_f = \\begin{bmatrix} \\frac{\\partial f_1}{\\partial x_1} & \\frac{\\partial f_1}{\\partial x_2} \\\\ \\frac{\\partial f_2}{\\partial x_1} & \\frac{\\partial f_2}{\\partial x_2} \\end{bmatrix}\n",
    "= \\begin{bmatrix} 2x_1 & 2x_2 \\\\ x_2 & x_1 \\end{bmatrix}\n",
    "$$\n",
    "\n",
    "#### Jacobian of $ g(s, t) $:\n",
    "\n",
    "The Jacobian of $ g(s, t) $ is:\n",
    "\n",
    "$$\n",
    "\\boldsymbol{J}_g = \\begin{bmatrix} \\frac{\\partial g_1}{\\partial s} & \\frac{\\partial g_1}{\\partial t} \\\\ \\frac{\\partial g_2}{\\partial s} & \\frac{\\partial g_2}{\\partial t} \\end{bmatrix}\n",
    "= \\begin{bmatrix} 1 & 1 \\\\ 1 & -1 \\end{bmatrix}\n",
    "$$\n",
    "\n",
    "#### Jacobian of $ f(g(s,t)) $:\n",
    "\n",
    "Now, using the chain rule:\n",
    "\n",
    "$$\n",
    "\\boldsymbol{J}_z = \\boldsymbol{J}_f \\cdot \\boldsymbol{J}_g\n",
    "$$\n",
    "\n",
    "Substituting the Jacobians:\n",
    "\n",
    "$$\n",
    "\\boldsymbol{J}_z = \\begin{bmatrix} 2x_1 & 2x_2 \\\\ x_2 & x_1 \\end{bmatrix} \\cdot \\begin{bmatrix} 1 & 1 \\\\ 1 & -1 \\end{bmatrix}\n",
    "$$\n",
    "\n"
   ]
  },
  {
   "cell_type": "markdown",
   "id": "d09074be",
   "metadata": {
    "slideshow": {
     "slide_type": "slide"
    }
   },
   "source": [
    "\n",
    "\n",
    "## 2x2x2 Example - Part 2\n",
    "\n",
    "#### Calculating the Jacobian of $ f(g(s, t)) $\n",
    "\n",
    "Substitute $ g(s, t) = \\begin{bmatrix} s + t \\\\ s - t \\end{bmatrix} $ into $ f(x_1, x_2) $:\n",
    "\n",
    "- $ x_1 = s + t $\n",
    "- $ x_2 = s - t $\n",
    "\n",
    "Thus, the Jacobian of $ f $ becomes:\n",
    "\n",
    "$$\n",
    "\\boldsymbol{J}_f = \\begin{bmatrix} 2(s + t) & 2(s - t) \\\\ s - t & s + t \\end{bmatrix}\n",
    "$$\n",
    "\n",
    "Now, multiply by the Jacobian of $ g $:\n",
    "\n",
    "$$\n",
    "\\boldsymbol{J}_z = \\begin{bmatrix} 2(s + t) & 2(s - t) \\\\ s - t & s + t \\end{bmatrix} \\cdot \\begin{bmatrix} 1 & 1 \\\\ 1 & -1 \\end{bmatrix}\n",
    "$$\n",
    "\n",
    "This gives:\n",
    "\n",
    "$$\n",
    "\\boldsymbol{J}_z = \\begin{bmatrix} 2(s + t) + 2(s - t) & 2(s + t) - 2(s - t) \\\\ (s - t) + (s + t) & (s - t) - (s + t) \\end{bmatrix}\n",
    "$$\n",
    "\n",
    "Simplifying:\n",
    "\n",
    "$$\n",
    "\\boldsymbol{J}_z = \\begin{bmatrix} 4s & 4t \\\\ 2s & -2t \\end{bmatrix}\n",
    "$$\n",
    "\n",
    "Thus, the Jacobian of $ f(g(s,t)) $ is:\n",
    "\n",
    "$$\n",
    "\\boldsymbol{J}_z = \\begin{bmatrix} 4s & 4t \\\\ 2s & -2t \\end{bmatrix}\n",
    "$$\n",
    "\n",
    "\n"
   ]
  },
  {
   "cell_type": "markdown",
   "id": "be317b59",
   "metadata": {
    "slideshow": {
     "slide_type": "slide"
    }
   },
   "source": [
    "\n",
    "### Recap:\n",
    "\n",
    "We used the **multivariate chain rule** to compute the Jacobian of the composition $ f(g(s,t)) $. The final Jacobian is:\n",
    "\n",
    "$$\n",
    "\\boldsymbol{J}_z = \\begin{bmatrix} 4s & 4t \\\\ 2s & -2t \\end{bmatrix}\n",
    "$$\n",
    "\n",
    "This result shows how small changes in $ s $ and $ t $ affect the output of the composed function $ f(g(s,t)) $.\n"
   ]
  },
  {
   "cell_type": "markdown",
   "id": "72d965c0",
   "metadata": {
    "slideshow": {
     "slide_type": "slide"
    }
   },
   "source": [
    "## Introduction to Backpropagation\n",
    "\n",
    "Backpropagation is an algorithm used for training neural networks by updating the weights based on the gradient of the loss function.\n",
    "\n",
    "#### The basic idea:\n",
    "- The goal is to minimize a loss function $ \\mathcal{L} $ with respect to the network parameters (weights $ W $ and biases $ b $).\n",
    "- **Forward pass**: Compute the output of the network for a given input.\n",
    "- **Backward pass**: Compute the gradients of the loss function with respect to the parameters by applying the **chain rule**.\n",
    "\n",
    "\n",
    "**Important**\n",
    "\n",
    "The Jacobian of a layer is not just a matrix, but a function from the inputs and parameters of that layer to a matrix. So for each layer, you have to evaluate this function at its current input/parameter values to get a matrix of partial derivatives, which can then be used for matrix multiplication.\n"
   ]
  },
  {
   "cell_type": "markdown",
   "id": "dd56ed53",
   "metadata": {
    "slideshow": {
     "slide_type": "slide"
    }
   },
   "source": [
    "\n",
    "## The Chain Rule in Backpropagation\n",
    "\n",
    "To update the weights, we need the gradient of the loss function $ \\mathcal{L} $ with respect to each parameter $ W $. This requires applying the **chain rule** from calculus:\n",
    "\n",
    "$$\n",
    "\\frac{\\partial \\mathcal{L}}{\\partial W} = \\frac{\\partial \\mathcal{L}}{\\partial z}  \\frac{\\partial z}{\\partial W}\n",
    "$$\n",
    "\n",
    "Where:\n",
    "- $ z $ is the output of a layer.\n",
    "- The first term $ \\frac{\\partial \\mathcal{L}}{\\partial z} $ is the **error term** from the next layer.\n",
    "- The second term $ \\frac{\\partial z}{\\partial W} $ is the **Jacobian** of the activation function with respect to the weights.\n",
    "\n",
    "The chain rule allows us to **propagate the errors** backward through the network layer by layer.\n"
   ]
  },
  {
   "cell_type": "markdown",
   "id": "808b986d",
   "metadata": {
    "slideshow": {
     "slide_type": "slide"
    }
   },
   "source": [
    "\n",
    "## Backpropagation and the Jacobian Matrix\n",
    "\n",
    "Consider a simple neural network with two layers:\n",
    "\n",
    "1. **Layer 1**: $ z_1 = W_1 x + b_1 $\n",
    "2. **Layer 2**: $ z_2 = W_2 z_1 + b_2 $\n",
    "\n",
    "The **Jacobian** matrices describe how small changes in the weights affect the output:\n",
    "\n",
    "- For the first layer:\n",
    "  $$ \\boldsymbol{J}_1 = \\frac{\\partial z_1}{\\partial W_1} = x $$\n",
    "\n",
    "- For the second layer:\n",
    "  $$ \\boldsymbol{J}_2 = \\frac{\\partial z_2}{\\partial W_2} = z_1 $$\n",
    "\n",
    "Using the **chain rule** to compute the gradient of the loss with respect to each weight:\n",
    "\n",
    "$$\n",
    "\\frac{\\partial \\mathcal{L}}{\\partial W_2} = \\frac{\\partial \\mathcal{L}}{\\partial z_2} \\cdot \\boldsymbol{J}_2\n",
    "$$\n",
    "\n",
    "$$\n",
    "\\frac{\\partial \\mathcal{L}}{\\partial W_1} = \\frac{\\partial \\mathcal{L}}{\\partial z_2} \\cdot \\boldsymbol{J}_2 \\cdot \\boldsymbol{J}_1\n",
    "$$\n",
    "\n",
    "This allows us to propagate the error back through the network.\n"
   ]
  },
  {
   "cell_type": "markdown",
   "id": "ea1a0ace",
   "metadata": {
    "slideshow": {
     "slide_type": "slide"
    }
   },
   "source": [
    "\n",
    "## Example of Backpropagation\n",
    "\n",
    "Consider a simple neural network with the following parameters and functions:\n",
    "\n",
    "1. **Activation Function**: $ \\sigma(z) = \\text{ReLU}(z) $\n",
    "2. **Loss Function**: $ \\mathcal{L} = \\frac{1}{2} (y_{\\text{true}} - y_{\\text{pred}})^2 $\n",
    "\n",
    "#### Step 1: Compute Forward Pass\n",
    "- Compute $ z_1 $, $ z_2 $, and the final output $ y_{\\text{pred}} $.\n",
    "\n",
    "#### Step 2: Compute Gradients with Respect to the Output\n",
    "- Compute the derivative of the loss function with respect to $ y_{\\text{pred}} $.\n",
    "\n",
    "$$\n",
    "\\frac{\\partial \\mathcal{L}}{\\partial y_{\\text{pred}}} = y_{\\text{pred}} - y_{\\text{true}}\n",
    "$$\n",
    "\n",
    "#### Step 3: Backpropagate the Error\n",
    "- Propagate the error backward using the chain rule to update the weights.\n",
    "\n",
    "$$\n",
    "\\frac{\\partial \\mathcal{L}}{\\partial W_2} = \\frac{\\partial \\mathcal{L}}{\\partial y_{\\text{pred}}} \\cdot \\frac{\\partial y_{\\text{pred}}}{\\partial W_2}\n",
    "$$"
   ]
  },
  {
   "cell_type": "markdown",
   "id": "c605b9ab",
   "metadata": {
    "slideshow": {
     "slide_type": "slide"
    }
   },
   "source": [
    "\n",
    "## Applying the Jacobian to Neural Networks\n",
    "\n",
    "In a deep neural network, each layer's weights and activations can be seen as compositions of functions. Using the **Jacobian matrix** and **chain rule**, backpropagation allows us to compute the gradient of the loss function with respect to each weight.\n",
    "\n",
    "For example, for a deep network with layers:\n",
    "\n",
    "- Layer 1: $ z_1 = W_1 x + b_1 $\n",
    "- Layer 2: $ z_2 = W_2 z_1 + b_2 $\n",
    "- Layer 3: $ z_3 = W_3 z_2 + b_3 $\n",
    "\n",
    "The total gradient of the loss function with respect to $ W_1 $ is:\n",
    "\n",
    "$$\n",
    "\\frac{\\partial \\mathcal{L}}{\\partial W_1} = \\frac{\\partial \\mathcal{L}}{\\partial z_3} \\cdot \\frac{\\partial z_3}{\\partial z_2} \\cdot \\frac{\\partial z_2}{\\partial z_1} \\cdot \\frac{\\partial z_1}{\\partial W_1}\n",
    "$$\n",
    "\n",
    "This recursive application of the chain rule allows for efficient computation of gradients, which are then used to update the weights through optimization algorithms like **gradient descent**.\n"
   ]
  },
  {
   "cell_type": "markdown",
   "id": "f8658999",
   "metadata": {
    "slideshow": {
     "slide_type": "slide"
    }
   },
   "source": [
    "<img src=\"_img/backpropagation.svg\"  width=\"2000\" style=\"display: block; margin-left: auto; margin-right: auto;\">\n"
   ]
  }
 ],
 "metadata": {
  "@webio": {
   "lastCommId": null,
   "lastKernelId": null
  },
  "celltoolbar": "Slideshow",
  "hide_input": true,
  "kernelspec": {
   "display_name": "Python 3 (ipykernel)",
   "language": "python",
   "name": "python3"
  },
  "language_info": {
   "codemirror_mode": {
    "name": "ipython",
    "version": 3
   },
   "file_extension": ".py",
   "mimetype": "text/x-python",
   "name": "python",
   "nbconvert_exporter": "python",
   "pygments_lexer": "ipython3",
   "version": "3.9.11"
  },
  "rise": {
   "enable_chalkboard": true
  },
  "varInspector": {
   "cols": {
    "lenName": 16,
    "lenType": 16,
    "lenVar": 40
   },
   "kernels_config": {
    "python": {
     "delete_cmd_postfix": "",
     "delete_cmd_prefix": "del ",
     "library": "var_list.py",
     "varRefreshCmd": "print(var_dic_list())"
    },
    "r": {
     "delete_cmd_postfix": ") ",
     "delete_cmd_prefix": "rm(",
     "library": "var_list.r",
     "varRefreshCmd": "cat(var_dic_list()) "
    }
   },
   "types_to_exclude": [
    "module",
    "function",
    "builtin_function_or_method",
    "instance",
    "_Feature"
   ],
   "window_display": false
  }
 },
 "nbformat": 4,
 "nbformat_minor": 5
}
