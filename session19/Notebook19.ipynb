{
 "cells": [
  {
   "cell_type": "markdown",
   "id": "79c23bd9",
   "metadata": {
    "slideshow": {
     "slide_type": "slide"
    }
   },
   "source": [
    "# Mathematics for Machine Learning\n",
    "\n",
    "## Session 19: Chain Rule; Inverse Functions, Trigonometric functions\n",
    "\n",
    "### Gerhard Jäger\n",
    "\n",
    "\n",
    "January 9, 2025\n",
    "\n",
    "---\n",
    "<br><br>\n",
    "\n",
    "<small>Most material taken from Chapters 2 and 7 of Keisler, H. Jerome. *Elementary Calculus: An Infinitesimal Approach*. 2012.</small><br>\n",
    "<small>Applets programmed with the help of ChatGPT</small>"
   ]
  },
  {
   "cell_type": "code",
   "execution_count": 1,
   "id": "644d8747",
   "metadata": {
    "slideshow": {
     "slide_type": "skip"
    }
   },
   "outputs": [],
   "source": [
    "import numpy as np\n",
    "import matplotlib.pyplot as plt\n",
    "from ipywidgets import interact\n"
   ]
  },
  {
   "cell_type": "markdown",
   "id": "913c94dd",
   "metadata": {
    "slideshow": {
     "slide_type": "slide"
    }
   },
   "source": [
    "**THEOREM (Chain Rule)**\n",
    "\n",
    "Suppose $u$ depends on $v$, and $v$ depends on $x$. Then for any value of $x$ where $\\frac{du}{dv}$ and $\\frac{dv}{dx}$ exist:\n",
    "\n",
    "\n",
    "$$\n",
    "\\begin{align}\n",
    "y &= u(v(x))\\\\\n",
    "\\frac{dy}{dx} &= \\frac{du}{dv}\\frac{dv}{dx} \n",
    "\\end{align}\n",
    "$$\n",
    "\n"
   ]
  },
  {
   "cell_type": "markdown",
   "id": "ae8f96c7",
   "metadata": {
    "slideshow": {
     "slide_type": "slide"
    }
   },
   "source": [
    "\n",
    "\n",
    "**PROOF**\n",
    "\n",
    "\n",
    "According to the Increment Theorem:\n",
    "$$\n",
    "v(x+\\Delta x) = v(x) + \\frac{dv}{dx}\\Delta x + \\varepsilon \\Delta x\n",
    "$$\n",
    "for some infinitesimal $\\varepsilon$. Therefore\n",
    "$$\n",
    "\\begin{align}\n",
    "y + \\Delta y &= u(v(x) + \\frac{dv}{dx}\\Delta x + \\varepsilon\\Delta x)\n",
    "\\end{align}\n",
    "$$\n",
    "The Increment Theorem also entails that for each infinitesimal $\\Delta z$:\n",
    "$$\n",
    "u(z + \\Delta z) = u(z) + \\frac{du}{dz}\\Delta z + \\delta \\Delta z\n",
    "$$\n",
    "for some infinitesimal $\\delta$. If we let $z = v(x)$ and $\\Delta z=\\frac{dv}{dx}\\Delta x + \\varepsilon\\Delta x$ , we get\n",
    "$$\n",
    "\\begin{align}\n",
    "y + \\Delta y &= u(v(x)) + \\frac{du}{dz}(\\frac{dv}{dx}\\Delta x + \\varepsilon\\Delta x) + \\delta (\\frac{dv}{dx}\\Delta x + \\varepsilon\\Delta x)\\\\\n",
    "\\Delta y &= \\frac{du}{dv}(\\frac{dv}{dx}\\Delta x + \\varepsilon\\Delta x) + \\delta (\\frac{dv}{dx}\\Delta x + \\varepsilon\\Delta x)\\\\\n",
    "\\frac{\\Delta y}{\\Delta x} &= \\frac{du}{dv}(\\frac{dv}{dx} + \\varepsilon) + \\delta (\\frac{dv}{dx} + \\varepsilon)\\\\\n",
    "\\frac{dy}{dx} &=st\\frac{\\Delta y}{\\Delta x}\\\\\n",
    "&= st(\\frac{du}{dv}(\\frac{dv}{dx} + \\varepsilon) + \\delta (\\frac{dv}{dx} + \\varepsilon))\\\\\n",
    "&= \\frac{du}{dv}\\frac{dv}{dx}\n",
    "\\end{align}\n",
    "$$\n",
    "\n",
    "\n"
   ]
  },
  {
   "cell_type": "markdown",
   "id": "6e698eb6",
   "metadata": {
    "slideshow": {
     "slide_type": "slide"
    }
   },
   "source": [
    "### Examples\n",
    "\n",
    "$$\n",
    "y = (x+8)^5\n",
    "$$"
   ]
  },
  {
   "cell_type": "markdown",
   "id": "e8c78045",
   "metadata": {
    "slideshow": {
     "slide_type": "fragment"
    }
   },
   "source": [
    "$$\n",
    "\\begin{align}\n",
    "z &= x+8\\\\\n",
    "y &= z^5\\\\\n",
    "\\frac{dy}{dx} &= \\frac{dy}{dz}\\frac{dz}{dx}\\\\\n",
    "&=\\frac{d}{dz}z^5 \\times \\frac{d}{dx}(x+8)\\\\\n",
    "&= 5z^4 \\times 1\\\\\n",
    "&= 5z^4\\\\\n",
    "&=5(x+8)^4\n",
    "\\end{align}\n",
    "$$"
   ]
  },
  {
   "cell_type": "markdown",
   "id": "9bbd258f",
   "metadata": {
    "slideshow": {
     "slide_type": "slide"
    }
   },
   "source": [
    "$$\n",
    "g(x) = 3(2-5x)^6\n",
    "$$"
   ]
  },
  {
   "cell_type": "markdown",
   "id": "37350f3e",
   "metadata": {
    "slideshow": {
     "slide_type": "fragment"
    }
   },
   "source": [
    "$$\n",
    "\\begin{align}\n",
    "y &= 2-5x\\\\\n",
    "z &= y^6\\\\\n",
    "u &= 3z\\\\\n",
    "g(x) &= u\\\\\n",
    "\\frac{dy}{dx} &= -5\\\\\n",
    "\\frac{dz}{dy} &= 6y^5\\\\\n",
    "\\frac{dz}{dx} &= \\frac{dz}{dy}\\frac{dy}{dx}\\\\\n",
    "&=-5\\times 6y^5\\\\\n",
    "&=-30y^5\\\\\n",
    "&=-30(2-5x)^5\\\\\n",
    "\\frac{du}{dz} &= 3\\\\\n",
    "\\frac{du}{dx} &= \\frac{du}{dz} \\frac{dz}{dx}\\\\\n",
    "&=-90(2-5x)^5\n",
    "\\end{align}\n",
    "$$"
   ]
  },
  {
   "cell_type": "markdown",
   "id": "10fe98d0",
   "metadata": {
    "slideshow": {
     "slide_type": "slide"
    }
   },
   "source": [
    "$$\n",
    "u = \\frac{x}{x^2+1}\n",
    "$$"
   ]
  },
  {
   "cell_type": "markdown",
   "id": "e71ab261",
   "metadata": {
    "slideshow": {
     "slide_type": "fragment"
    }
   },
   "source": [
    "$$\n",
    "\\begin{align}\n",
    "\\frac{du}{dx} &= \\frac{\\frac{dx}{dx}(x^2+1) - x\\frac{d}{dx}(x^2+1)}{(x^2+1)^2}\\\\\n",
    "&=\\frac{x^2+1 - x\\frac{d}{dx}(x^2+1)}{(x^2+1)^2}\\\\\n",
    "&=\\frac{x^2+1 - x(2x)}{(x^2+1)^2}\\\\\n",
    "&=\\frac{x^2+1 - 2x^2}{(x^2+1)^2}\\\\\n",
    "&=\\frac{1 - x^2}{(x^2+1)^2}\\\\\n",
    "\\end{align}\n",
    "$$"
   ]
  },
  {
   "cell_type": "markdown",
   "id": "dbb05192",
   "metadata": {
    "slideshow": {
     "slide_type": "slide"
    }
   },
   "source": [
    "$$\n",
    "y = \\frac{x+1}{x-1}\n",
    "$$"
   ]
  },
  {
   "cell_type": "markdown",
   "id": "ca15d1e3",
   "metadata": {
    "slideshow": {
     "slide_type": "subslide"
    }
   },
   "source": [
    "$$\n",
    "\\begin{align}\n",
    "\\frac{dy}{dx} &= \\frac{\\frac{d}{dx}(x+1)(x-1) -(x+1)\\frac{d}{dx}(x-1) }{(x-1)^2}\\\\\n",
    "&= \\frac{(x-1) -(x+1)\\frac{d}{dx}(x-1) }{(x-1)^2}\\\\\n",
    "&= \\frac{(x-1) -(x+1) }{(x-1)^2}\\\\\n",
    "&= -\\frac{2}{(x-1)^2}\\\\\n",
    "\\end{align}\n",
    "$$"
   ]
  },
  {
   "cell_type": "markdown",
   "id": "a60daac5",
   "metadata": {
    "slideshow": {
     "slide_type": "slide"
    }
   },
   "source": [
    "\n",
    "\n",
    "## Inverse functions\n",
    "\n",
    "\n",
    "<img src=\"_img/inverse_functions.svg\"  width=\"1000\" style=\"display: block; margin-left: auto; margin-right: auto;\">\n",
    "\n",
    "**THEOREM**\n",
    "\n",
    "Let $f$ be a real 1-1 function that is differentiable in the interval $(a, b)$. Then $f^{-1}$ is differentiable in the range of $f$, and\n",
    "\n",
    "$$\n",
    "\\frac{d f^{-1}(x)}{dx} = \\frac{1}{f'(f^{-1}(x))}\n",
    "$$\n"
   ]
  },
  {
   "cell_type": "markdown",
   "id": "dcaf5df7",
   "metadata": {
    "slideshow": {
     "slide_type": "slide"
    }
   },
   "source": [
    "\n",
    "**PROOF**\n",
    "\n",
    "\n",
    "$$\n",
    "\\begin{align}\n",
    "\\Delta y &= f^{-1}(x+\\Delta x) - f^{-1}(x)\n",
    "\\end{align}\n",
    "$$\n",
    "\n",
    "\n",
    "I assume here without proof that $x\\approx y$ entails that $f^{-1}(x)\\approx f^{-1}(y)$. \n",
    "\n",
    "\n",
    "Therefore, $\\Delta y$ must be infinitesimal.\n",
    "\n",
    "\n",
    "$$\n",
    "\\begin{align}\n",
    "f^{-1}(x) + \\Delta y &= f^{-1}(x+\\Delta x)\\\\\n",
    "f(f^{-1}(x) + \\Delta y) &= x+\\Delta x\n",
    "\\end{align}\n",
    "$$\n",
    "\n",
    "\n",
    "Since $\\Delta y$ is infinitesimal and $f$ is differentiable, it follows by the Increment Theorem that there is an infinitesimal $\\varepsilon$ such that\n",
    "\n",
    "$$\n",
    "\\begin{align}\n",
    "f(f^{-1}(x)+\\Delta y) &= x+f'(f^{-1}(x))\\Delta y + \\varepsilon\\Delta y\n",
    "\\end{align}\n",
    "$$\n",
    "\n",
    "Putting things together, we have\n",
    "\n",
    "$$\n",
    "\\begin{align}\n",
    "x+f'(f^{-1}(x))\\Delta y + \\varepsilon\\Delta y &= x + \\Delta x\\\\\n",
    "f'(f^{-1}(x))\\Delta y + \\varepsilon\\Delta y &= \\Delta x\\\\\n",
    "\\Delta y &= \\frac{\\Delta x}{f'(f^{-1}(x))+\\varepsilon}\\\\\n",
    "\\frac{\\Delta y}{\\Delta x} &=\\frac{1}{f'(f^{-1}(x))+\\varepsilon}\\\\\n",
    "\\frac{dy}{dx} &=\\frac{1}{f'(f^{-1}(x))}\\\\\n",
    "\\end{align}\n",
    "$$\n"
   ]
  },
  {
   "cell_type": "markdown",
   "id": "dd90a35d",
   "metadata": {
    "slideshow": {
     "slide_type": "slide"
    }
   },
   "source": [
    "## Examples\n",
    "\n",
    "$$\n",
    "f(x) = \\sqrt[3]{x}\n",
    "$$\n",
    "\n"
   ]
  },
  {
   "cell_type": "markdown",
   "id": "2d497486",
   "metadata": {
    "slideshow": {
     "slide_type": "fragment"
    }
   },
   "source": [
    "$$\n",
    "\\begin{align}\n",
    "f^{-1}(y) &= y^3 & (y> 0)\\\\\n",
    "f'(x) &= \\frac{1}{\\left.\\frac{d}{dy}(y^3)\\right|_{\\sqrt[3]x}}\\\\\n",
    "&= \\frac{1}{3(\\sqrt[3]x)^2}\\\\\n",
    "&= \\frac{1}{3} x^{-\\frac{2}{3}}\n",
    "\\end{align}\n",
    "$$"
   ]
  },
  {
   "cell_type": "markdown",
   "id": "4e64c438",
   "metadata": {
    "slideshow": {
     "slide_type": "slide"
    }
   },
   "source": [
    "## Trigonometric function\n",
    "\n",
    "Consider a unit circle, with a point $(x,y)$ on the circle.\n",
    "\n"
   ]
  },
  {
   "cell_type": "code",
   "execution_count": 2,
   "id": "7b147201",
   "metadata": {
    "hide_input": true
   },
   "outputs": [
    {
     "data": {
      "application/vnd.jupyter.widget-view+json": {
       "model_id": "36fde37cc78a49ed9b78d46b24c39d26",
       "version_major": 2,
       "version_minor": 0
      },
      "text/plain": [
       "interactive(children=(IntSlider(value=0, description='theta_deg', max=360), Output()), _dom_classes=('widget-i…"
      ]
     },
     "metadata": {},
     "output_type": "display_data"
    },
    {
     "data": {
      "text/plain": [
       "<function __main__.unit_circle(theta_deg=0)>"
      ]
     },
     "execution_count": 2,
     "metadata": {},
     "output_type": "execute_result"
    }
   ],
   "source": [
    "import numpy as np\n",
    "import matplotlib.pyplot as plt\n",
    "from ipywidgets import interact\n",
    "from matplotlib.patches import Arc\n",
    "\n",
    "def unit_circle(theta_deg=0):\n",
    "    theta = np.radians(theta_deg)\n",
    "    x = np.cos(theta)\n",
    "    y = np.sin(theta)\n",
    "\n",
    "    # Plot setup\n",
    "    fig, ax = plt.subplots(figsize=(10, 10))  # Larger plot\n",
    "    ax.set_xlim(-1.5, 1.5)\n",
    "    ax.set_ylim(-1.5, 1.5)\n",
    "    ax.set_aspect('equal', 'box')\n",
    "\n",
    "    # Draw the unit circle\n",
    "    circle = plt.Circle((0, 0), 1, color='black', fill=False)\n",
    "    ax.add_artist(circle)\n",
    "\n",
    "    # Draw the angle theta\n",
    "    ax.plot([0, x], [0, y], color='black')  # Hypotenuse\n",
    "    ax.plot([0, x], [0, 0], color='blue', linestyle='--')  # Adjacent (cosine)\n",
    "    ax.plot([x, x], [0, y], color='green', linestyle='--')  # Opposite (sine)\n",
    "\n",
    "    # Draw colored arc on the circumference\n",
    "    arc = Arc((0, 0), 2, 2, theta1=0, theta2=theta_deg, color='purple', linewidth=2)\n",
    "    ax.add_artist(arc)\n",
    "\n",
    "    # Calculate position for the theta label just outside the arc\n",
    "    arc_x = 1.1 * np.cos(theta / 2)  # Slightly outside the unit circle\n",
    "    arc_y = 1.1 * np.sin(theta / 2)\n",
    "    ax.text(arc_x, arc_y, r'$\\theta$', color='purple', fontsize=16, ha='center', va='center')\n",
    "\n",
    "    # Add annotations for sine and cosine\n",
    "    ax.text(x / 2, 0, r'$\\cos(\\theta)$', color='blue', fontsize=16, ha='center', va='center')\n",
    "    ax.text(x + 0.05, y / 2, r'$\\sin(\\theta)$', color='green', fontsize=16, ha='left', va='center')\n",
    "\n",
    "    # Add labels\n",
    "    ax.text(1.1, 0, \"1\", fontsize=16, ha='left', va='center')\n",
    "    ax.text(0, 0, \"(0, 0)\", fontsize=12, ha='center', va='center')\n",
    "\n",
    "    # Axes\n",
    "    ax.axhline(0, color='black', linewidth=0.5)\n",
    "    ax.axvline(0, color='black', linewidth=0.5)\n",
    "\n",
    "    plt.title(\"sine and cosine\", fontsize=18)\n",
    "    plt.grid(False)\n",
    "    plt.show()\n",
    "\n",
    "# Interactive slider\n",
    "interact(unit_circle, theta_deg=(0, 360, 1))\n"
   ]
  },
  {
   "cell_type": "markdown",
   "id": "e6531e4c",
   "metadata": {
    "slideshow": {
     "slide_type": "slide"
    }
   },
   "source": [
    "We measure the angle in *radians*, i.e., the length of the arc at the circumference of the unit circle inside the circle.\n",
    "\n",
    "\n",
    "$$\n",
    "\\begin{align}\n",
    " \\sin \\theta &= \\frac{\\text{opposite}}{\\text{hypotenuse}}\\\\[1em]\n",
    " \\cos \\theta &= \\frac{\\text{adjacent}}{\\text{hypotenuse}}\\\\[1em]\n",
    " \\tan \\theta &= \\frac{\\text{opposite}}{\\text{adjacent}}\\\\[1em]\n",
    " \\cot \\theta &= \\frac{\\text{adjacent}}{\\text{opposite}}\n",
    "\\end{align}\n",
    "$$"
   ]
  },
  {
   "cell_type": "markdown",
   "id": "a08c26ee",
   "metadata": {
    "slideshow": {
     "slide_type": "slide"
    }
   },
   "source": [
    "### The derivative of $\\sin$"
   ]
  },
  {
   "cell_type": "markdown",
   "id": "33448440",
   "metadata": {
    "slideshow": {
     "slide_type": "-"
    }
   },
   "source": [
    "<img src=\"_img/Limit_circle_FbN.jpeg\"  width=\"500\" style=\"display: block; margin-left: auto; margin-right: auto;\">\n",
    "\n",
    "\n",
    "(source: Wikipedia)"
   ]
  },
  {
   "cell_type": "markdown",
   "id": "b75d99cd",
   "metadata": {
    "slideshow": {
     "slide_type": "slide"
    }
   },
   "source": [
    "<div style=\"float: right; width: 500px; margin-left: 20px;\">\n",
    "    <img src=\"_img/Limit_circle_FbN.jpeg\" alt=\"Unit Circle Graphic\" style=\"width: 100%;\">\n",
    "</div>\n",
    "<div>\n",
    "    \n",
    "Let $\\theta$ be the angle between $OA$ and $OB$, and let the radius of the circle be 1.\n",
    "\n",
    "Then the height of the triangle $OAB$ is $\\sin\\theta$, and its area is $\\frac{\\sin \\theta}{2}$.\n",
    "\n",
    "The sector of the circle between $OA$ and $OB$ has the area $\\frac{\\theta}{2}$.\n",
    "\n",
    "The length $|AC|$ is $\\tan \\theta$, so its area is $\\frac{\\tan\\theta}{2}$.\n",
    "\n",
    "It is obvious from the sketch that\n",
    "    $$\n",
    "    \\frac{\\sin\\theta}{2} < \\frac{\\theta}{2} < \\frac{\\tan \\theta}{2},\n",
    "    $$\n",
    "\n",
    "and therefore \n",
    "    $$\n",
    "    \\sin\\theta < \\theta < \\tan\\theta = \\frac{\\sin\\theta}{\\cos\\theta}.\n",
    "    $$\n",
    "\n",
    "Dividing everything by $\\sin\\theta$ (assuming $\\sin\\theta\\neq 0$ gives us\n",
    "\n",
    "$$\n",
    "1 < \\frac{\\theta}{\\sin\\theta} < \\frac{1}{\\cos\\theta}\n",
    "$$\n",
    "</div>\n"
   ]
  },
  {
   "cell_type": "markdown",
   "id": "a0dacd27",
   "metadata": {
    "slideshow": {
     "slide_type": "slide"
    }
   },
   "source": [
    "<div style=\"float: right; width: 500px; margin-left: 20px;\">\n",
    "    <img src=\"_img/Limit_circle_FbN.jpeg\" alt=\"Unit Circle Graphic\" style=\"width: 100%;\">\n",
    "</div>\n",
    "<div>\n",
    "    \n",
    "Inverting everything swaps the inequality:\n",
    "\n",
    "$$\n",
    "\\cos\\theta < \\frac{\\sin\\theta}{\\theta} < 1\n",
    "$$\n",
    "\n",
    "It follows from Pythagoras' Theorem that $\\cos \\theta = \\sqrt{1-\\sin^2\\theta}$:\n",
    "\n",
    "$$\n",
    "\\sqrt{1-\\sin^2\\theta} < \\frac{\\sin\\theta}{\\theta} < 1\n",
    "$$\n",
    "\n",
    "Now suppose $\\sin\\theta$ is infinitesimal. Then\n",
    "$$\n",
    "\\begin{align}\n",
    "st(\\sqrt{1-\\sin^2\\theta}) &= 1\n",
    "\\end{align}\n",
    "$$\n",
    "\n",
    "Since $\\frac{\\sin\\theta}{\\theta}$ is between two numbers with standard part $=1$, it follows that\n",
    "$$\n",
    "\\frac{\\sin\\theta}{\\theta} \\approx 1\n",
    "$$"
   ]
  },
  {
   "cell_type": "code",
   "execution_count": 3,
   "id": "c4a3389e",
   "metadata": {
    "hide_input": true,
    "slideshow": {
     "slide_type": "slide"
    }
   },
   "outputs": [
    {
     "data": {
      "image/png": "[encoded data removed]",
      "text/plain": [
       "<Figure size 720x720 with 1 Axes>"
      ]
     },
     "metadata": {
      "needs_background": "light"
     },
     "output_type": "display_data"
    }
   ],
   "source": [
    "import matplotlib.pyplot as plt\n",
    "import numpy as np\n",
    "\n",
    "# Redraw with a larger plot size and increased font size for the labels\n",
    "fig, ax = plt.subplots(figsize=(10, 10))  # Increased figure size\n",
    "ax.set_aspect('equal')\n",
    "ax.axis('off')\n",
    "\n",
    "# Draw the main circle\n",
    "circle = plt.Circle((0, 0), 1, color='black', fill=False)\n",
    "ax.add_artist(circle)\n",
    "\n",
    "# Define the angle θ (in radians) - make it smaller\n",
    "theta = np.pi / 6  # 30 degrees\n",
    "\n",
    "# Plot the radius lines\n",
    "# Upper triangle\n",
    "ax.plot([0, np.cos(theta)], [0, np.sin(theta)], color='blue', linestyle='-', linewidth=1)  # First radius\n",
    "ax.plot([0, 1], [0, 0], color='black', linestyle='-', linewidth=1)  # Second radius\n",
    "# Lower triangle (mirrored)\n",
    "ax.plot([0, np.cos(theta)], [0, -np.sin(theta)], color='blue', linestyle='-', linewidth=1)  # First radius\n",
    "ax.plot([0, 1], [0, 0], color='black', linestyle='-', linewidth=1)  # Second radius\n",
    "\n",
    "# Highlight the sine components\n",
    "ax.plot([np.cos(theta), np.cos(theta)], [0, np.sin(theta)], color='red', linestyle='-', linewidth=2)  # Upper sine\n",
    "ax.plot([np.cos(theta), np.cos(theta)], [0, -np.sin(theta)], color='red', linestyle='-', linewidth=2)  # Lower sine\n",
    "\n",
    "# Draw arcs for θ\n",
    "arc_radius = 0.35\n",
    "arc = np.linspace(0, theta, 100)\n",
    "# Upper arc\n",
    "ax.plot(arc_radius * np.cos(arc), arc_radius * np.sin(arc), color='green', linewidth=1)\n",
    "# Lower arc (mirrored)\n",
    "ax.plot(arc_radius * np.cos(arc), -arc_radius * np.sin(arc), color='green', linewidth=1)\n",
    "\n",
    "# Label θ near the arcs\n",
    "ax.text(0.2, 0.05, r'$\\theta$', color='green', fontsize=20)  # Upper label\n",
    "ax.text(0.2, -0.1, r'$\\theta$', color='green', fontsize=20)  # Lower label\n",
    "\n",
    "# Label sin θ (moved to the left of the red line)\n",
    "ax.text(np.cos(theta) - 0.2, np.sin(theta) / 2, r'$\\sin \\theta$', color='red', fontsize=16)  # Upper sine label\n",
    "ax.text(np.cos(theta) - 0.2, -np.sin(theta) / 2, r'$\\sin \\theta$', color='red', fontsize=16)  # Lower sine label\n",
    "\n",
    "# Set the limits of the plot\n",
    "ax.set_xlim(-1.1, 1.1)\n",
    "ax.set_ylim(-1.1, 1.1)\n",
    "\n",
    "# Show the plot\n",
    "plt.show()\n"
   ]
  },
  {
   "cell_type": "markdown",
   "id": "049f385c",
   "metadata": {},
   "source": [
    "In the plot, the angle between the two blue lines is $2\\theta$, and the length of the red line is $2\\sin\\theta$. If $\\sin\\theta$ is infinitesimal:\n",
    "\n",
    "$$\n",
    "\\begin{align}\n",
    "\\frac{2\\sin\\theta}{2\\theta} &= \\frac{\\sin\\theta}{\\theta}\\\\\n",
    "&=1\n",
    "\\end{align}\n",
    "$$\n",
    "\n",
    "In other words, the proportion of the secant of an angle to the length of the arc is infinitely close to $1$ if the secant is infinitesimal.\n"
   ]
  },
  {
   "cell_type": "markdown",
   "id": "c51440ed",
   "metadata": {
    "slideshow": {
     "slide_type": "slide"
    }
   },
   "source": [
    "<div style=\"float: right; width: 1000px; margin-left: 20px;\">\n",
    "\n",
    "<img src=\"_img/delta_sin.svg\"  style=\"width: 100%\">\n",
    "</div>\n",
    "\n",
    "$$\n",
    "\\begin{align}\n",
    "x^* &= x + \\frac{\\Delta x}{2}\\\\\n",
    "\\sin(x+\\Delta x) - \\sin(x) &= h\\cos x^*\\\\\n",
    "\\frac{\\sin(x+\\Delta x)-\\sin (x)}{\\Delta x} &=\\frac{h}{\\Delta x}\\cos x^*\\\\\n",
    "\\frac{d\\sin x}{dx} &= st(\\frac{h}{\\Delta x}\\cos x^*)\\\\\n",
    "&=\\cos x\n",
    "\\end{align}\n",
    "$$"
   ]
  },
  {
   "cell_type": "code",
   "execution_count": 4,
   "id": "c4c3ccbe",
   "metadata": {
    "hide_input": true,
    "slideshow": {
     "slide_type": "slide"
    }
   },
   "outputs": [
    {
     "data": {
      "image/png": "[encoded data removed]",
      "text/plain": [
       "<Figure size 432x288 with 1 Axes>"
      ]
     },
     "metadata": {
      "needs_background": "light"
     },
     "output_type": "display_data"
    }
   ],
   "source": [
    "import sympy as sp\n",
    "\n",
    "# Define the variable\n",
    "x = sp.symbols('x')\n",
    "\n",
    "# Define sine and cosine functions\n",
    "sin_func = sp.sin(x)\n",
    "cos_func = sp.cos(x)\n",
    "\n",
    "# Plot using SymPy's plot function\n",
    "p = sp.plot(\n",
    "    sin_func, cos_func,\n",
    "    (x, -2 * sp.pi, 2 * sp.pi),\n",
    "    legend=True,\n",
    "    show=False,  # To customize further\n",
    ")\n",
    "p[0].label = \"sin(x)\"\n",
    "p[1].label = \"cos(x)\"\n",
    "p.show()\n"
   ]
  }
 ],
 "metadata": {
  "@webio": {
   "lastCommId": null,
   "lastKernelId": null
  },
  "celltoolbar": "Slideshow",
  "hide_input": false,
  "kernelspec": {
   "display_name": "Python 3 (ipykernel)",
   "language": "python",
   "name": "python3"
  },
  "language_info": {
   "codemirror_mode": {
    "name": "ipython",
    "version": 3
   },
   "file_extension": ".py",
   "mimetype": "text/x-python",
   "name": "python",
   "nbconvert_exporter": "python",
   "pygments_lexer": "ipython3",
   "version": "3.9.11"
  },
  "rise": {
   "enable_chalkboard": true
  },
  "varInspector": {
   "cols": {
    "lenName": 16,
    "lenType": 16,
    "lenVar": 40
   },
   "kernels_config": {
    "python": {
     "delete_cmd_postfix": "",
     "delete_cmd_prefix": "del ",
     "library": "var_list.py",
     "varRefreshCmd": "print(var_dic_list())"
    },
    "r": {
     "delete_cmd_postfix": ") ",
     "delete_cmd_prefix": "rm(",
     "library": "var_list.r",
     "varRefreshCmd": "cat(var_dic_list()) "
    }
   },
   "types_to_exclude": [
    "module",
    "function",
    "builtin_function_or_method",
    "instance",
    "_Feature"
   ],
   "window_display": false
  }
 },
 "nbformat": 4,
 "nbformat_minor": 5
}
