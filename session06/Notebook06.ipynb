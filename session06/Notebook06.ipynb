{
 "cells": [
  {
   "cell_type": "code",
   "execution_count": 1,
   "id": "6b6d3e8a",
   "metadata": {
    "slideshow": {
     "slide_type": "skip"
    }
   },
   "outputs": [],
   "source": [
    "import sympy\n",
    "from sympy import Matrix, Rational, sqrt, symbols, zeros\n",
    "import numpy as np\n",
    "%matplotlib notebook\n",
    "import matplotlib.pyplot as plt"
   ]
  },
  {
   "cell_type": "markdown",
   "id": "17d690f6",
   "metadata": {
    "slideshow": {
     "slide_type": "slide"
    }
   },
   "source": [
    "# Mathematics for Machine Learning\n",
    "\n",
    "## Session 06: Dimensions\n",
    "\n",
    "## Gerhard Jäger\n",
    "\n",
    "### November 7, 2024"
   ]
  },
  {
   "cell_type": "markdown",
   "id": "1f4aa6ff",
   "metadata": {
    "slideshow": {
     "slide_type": "slide"
    }
   },
   "source": [
    "## The complete solution to a system of equations\n",
    "\n",
    "Back to our example from last time:\n",
    "\n",
    "$$\n",
    "\\begin{aligned}\n",
    "A & =\n",
    "\\begin{bmatrix}\n",
    "1 & 2& 3\\\\\n",
    "2 & 4 & 3\\\\\n",
    "3 & 6 & 1\n",
    "\\end{bmatrix}\\\\[1em]\n",
    "\\mathbf b &= \\begin{bmatrix} 4\\\\ 5\\\\ 4\\end{bmatrix}\\\\[1em]\n",
    "A\\mathbf x &= \\mathbf b\n",
    "\\end{aligned}\n",
    "$$\n",
    "\n"
   ]
  },
  {
   "cell_type": "markdown",
   "id": "0bbf8021",
   "metadata": {
    "slideshow": {
     "slide_type": "slide"
    }
   },
   "source": [
    "- first step: apply Gauss-Jordan elimination to the augmented matrix\n",
    "\n",
    "$$\n",
    "\\left[\\begin{array}{rrr|r}\n",
    "1 & 2 & 3 & 4\\\\\n",
    "2 & 4 & 3 & 5\\\\\n",
    "3 & 6 & 1 & 4\n",
    "\\end{array}\\right]\\\\\n",
    "\\left[\\begin{array}{rrr|r}\n",
    "1 & 2 & 3 & 4\\\\\n",
    "0 & 0 & -3 & -3\\\\\n",
    "0 & 0 & -8 & -8\n",
    "\\end{array}\\right]\\\\\n",
    "\\left[\\begin{array}{rrr|r}\n",
    "1 & 2 & 3 & 4\\\\\n",
    "0 & 0 & -3 & -3\\\\\n",
    "0 & 0 & 0 & 0\n",
    "\\end{array}\\right]\\\\\n",
    "\\left[\\begin{array}{rrr|r}\n",
    "1 & 2 & 0 & 1\\\\\n",
    "0 & 0 & -3 & -3\\\\\n",
    "0 & 0 & 0 & 0\n",
    "\\end{array}\\right]\\\\\n",
    "\\left[\\begin{array}{rrr|r}\n",
    "1 & 2 & 0 & 1\\\\\n",
    "0 & 0 & 1 & 1\\\\\n",
    "0 & 0 & 0 & 0\n",
    "\\end{array}\\right]\\\\\n",
    "$$"
   ]
  },
  {
   "cell_type": "markdown",
   "id": "40b836b2",
   "metadata": {
    "slideshow": {
     "slide_type": "slide"
    }
   },
   "source": [
    "- second step: find canonical solution by setting the slots corresponding to the free columns to 0 and solving via substitution\n",
    "\n",
    "$$\n",
    "\\mathbf x_c = \\begin{bmatrix}1\\\\0\\\\1\\end{bmatrix}\n",
    "$$"
   ]
  },
  {
   "cell_type": "markdown",
   "id": "6111494f",
   "metadata": {
    "slideshow": {
     "slide_type": "fragment"
    }
   },
   "source": [
    "- third step: find the null space of $A$\n",
    "\n",
    "$$\n",
    "\\mathbf x_0 = \\begin{bmatrix}-2\\\\1\\\\0\\end{bmatrix}\n",
    "$$"
   ]
  },
  {
   "cell_type": "markdown",
   "id": "23f161e7",
   "metadata": {
    "slideshow": {
     "slide_type": "fragment"
    }
   },
   "source": [
    "The complete solution is the set of vectors $$\\mathbf x_c + \\alpha~\\mathbf x_0,$$ for any real number $\\alpha$."
   ]
  },
  {
   "cell_type": "markdown",
   "id": "161b9403",
   "metadata": {
    "slideshow": {
     "slide_type": "slide"
    }
   },
   "source": [
    "## Rank of a matrix\n",
    "\n",
    "Geometrically speaking, the **rank** of a matrix is the number of dimensions covered by its column space.\n",
    "\n"
   ]
  },
  {
   "cell_type": "markdown",
   "id": "37f77434",
   "metadata": {},
   "source": [
    "## examples of an invertable and a non-invertable matrix in 3d\n",
    "\n",
    "$$\n",
    "\\begin{aligned}\n",
    "A &= \n",
    "\\begin{bmatrix}\n",
    "1 & -4 & 2\\\\\n",
    "-2 & 1 & 3\\\\\n",
    "2 & 6 & 8\n",
    "\\end{bmatrix}\\\\[1em]\n",
    "A^{-1} &=\n",
    "\\begin{bmatrix}\n",
    "\\frac{5}{63} & - \\frac{22}{63} & \\frac{1}{9}\\\\- \\frac{11}{63} & - \\frac{2}{63} & \\frac{1}{18}\\\\\\frac{1}{9} & \\frac{1}{9} & \\frac{1}{18}\n",
    "\\end{bmatrix}\\\\[1em]\n",
    "B &= \n",
    "\\begin{bmatrix}\n",
    "1 & -4 & 2\\\\\n",
    "-2 & 1 & 3\\\\\n",
    "2 & 6 & -10\n",
    "\\end{bmatrix}\\\\[1em]\n",
    "B^{-1}& \\text{ is undefined}\n",
    "\\end{aligned}\n",
    "$$"
   ]
  },
  {
   "cell_type": "code",
   "execution_count": 2,
   "id": "a616de79",
   "metadata": {
    "hide_input": true,
    "slideshow": {
     "slide_type": "slide"
    }
   },
   "outputs": [
    {
     "data": {
      "application/javascript": [
       "/* Put everything inside the global mpl namespace */\n",
       "/* global mpl */\n",
       "window.mpl = {};\n",
       "\n",
       "mpl.get_websocket_type = function () {\n",
       "    if (typeof WebSocket !== 'undefined') {\n",
       "        return WebSocket;\n",
       "    } else if (typeof MozWebSocket !== 'undefined') {\n",
       "        return MozWebSocket;\n",
       "    } else {\n",
       "        alert(\n",
       "            'Your browser does not have WebSocket support. ' +\n",
       "                'Please try Chrome, Safari or Firefox ≥ 6. ' +\n",
       "                'Firefox 4 and 5 are also supported but you ' +\n",
       "                'have to enable WebSockets in about:config.'\n",
       "        );\n",
       "    }\n",
       "};\n",
       "\n",
       "mpl.figure = function (figure_id, websocket, ondownload, parent_element) {\n",
       "    this.id = figure_id;\n",
       "\n",
       "    this.ws = websocket;\n",
       "\n",
       "    this.supports_binary = this.ws.binaryType !== undefined;\n",
       "\n",
       "    if (!this.supports_binary) {\n",
       "        var warnings = document.getElementById('mpl-warnings');\n",
       "        if (warnings) {\n",
       "            warnings.style.display = 'block';\n",
       "            warnings.textContent =\n",
       "                'This browser does not support binary websocket messages. ' +\n",
       "                'Performance may be slow.';\n",
       "        }\n",
       "    }\n",
       "\n",
       "    this.imageObj = new Image();\n",
       "\n",
       "    this.context = undefined;\n",
       "    this.message = undefined;\n",
       "    this.canvas = undefined;\n",
       "    this.rubberband_canvas = undefined;\n",
       "    this.rubberband_context = undefined;\n",
       "    this.format_dropdown = undefined;\n",
       "\n",
       "    this.image_mode = 'full';\n",
       "\n",
       "    this.root = document.createElement('div');\n",
       "    this.root.setAttribute('style', 'display: inline-block');\n",
       "    this._root_extra_style(this.root);\n",
       "\n",
       "    parent_element.appendChild(this.root);\n",
       "\n",
       "    this._init_header(this);\n",
       "    this._init_canvas(this);\n",
       "    this._init_toolbar(this);\n",
       "\n",
       "    var fig = this;\n",
       "\n",
       "    this.waiting = false;\n",
       "\n",
       "    this.ws.onopen = function () {\n",
       "        fig.send_message('supports_binary', { value: fig.supports_binary });\n",
       "        fig.send_message('send_image_mode', {});\n",
       "        if (fig.ratio !== 1) {\n",
       "            fig.send_message('set_device_pixel_ratio', {\n",
       "                device_pixel_ratio: fig.ratio,\n",
       "            });\n",
       "        }\n",
       "        fig.send_message('refresh', {});\n",
       "    };\n",
       "\n",
       "    this.imageObj.onload = function () {\n",
       "        if (fig.image_mode === 'full') {\n",
       "            // Full images could contain transparency (where diff images\n",
       "            // almost always do), so we need to clear the canvas so that\n",
       "            // there is no ghosting.\n",
       "            fig.context.clearRect(0, 0, fig.canvas.width, fig.canvas.height);\n",
       "        }\n",
       "        fig.context.drawImage(fig.imageObj, 0, 0);\n",
       "    };\n",
       "\n",
       "    this.imageObj.onunload = function () {\n",
       "        fig.ws.close();\n",
       "    };\n",
       "\n",
       "    this.ws.onmessage = this._make_on_message_function(this);\n",
       "\n",
       "    this.ondownload = ondownload;\n",
       "};\n",
       "\n",
       "mpl.figure.prototype._init_header = function () {\n",
       "    var titlebar = document.createElement('div');\n",
       "    titlebar.classList =\n",
       "        'ui-dialog-titlebar ui-widget-header ui-corner-all ui-helper-clearfix';\n",
       "    var titletext = document.createElement('div');\n",
       "    titletext.classList = 'ui-dialog-title';\n",
       "    titletext.setAttribute(\n",
       "        'style',\n",
       "        'width: 100%; text-align: center; padding: 3px;'\n",
       "    );\n",
       "    titlebar.appendChild(titletext);\n",
       "    this.root.appendChild(titlebar);\n",
       "    this.header = titletext;\n",
       "};\n",
       "\n",
       "mpl.figure.prototype._canvas_extra_style = function (_canvas_div) {};\n",
       "\n",
       "mpl.figure.prototype._root_extra_style = function (_canvas_div) {};\n",
       "\n",
       "mpl.figure.prototype._init_canvas = function () {\n",
       "    var fig = this;\n",
       "\n",
       "    var canvas_div = (this.canvas_div = document.createElement('div'));\n",
       "    canvas_div.setAttribute(\n",
       "        'style',\n",
       "        'border: 1px solid #ddd;' +\n",
       "            'box-sizing: content-box;' +\n",
       "            'clear: both;' +\n",
       "            'min-height: 1px;' +\n",
       "            'min-width: 1px;' +\n",
       "            'outline: 0;' +\n",
       "            'overflow: hidden;' +\n",
       "            'position: relative;' +\n",
       "            'resize: both;'\n",
       "    );\n",
       "\n",
       "    function on_keyboard_event_closure(name) {\n",
       "        return function (event) {\n",
       "            return fig.key_event(event, name);\n",
       "        };\n",
       "    }\n",
       "\n",
       "    canvas_div.addEventListener(\n",
       "        'keydown',\n",
       "        on_keyboard_event_closure('key_press')\n",
       "    );\n",
       "    canvas_div.addEventListener(\n",
       "        'keyup',\n",
       "        on_keyboard_event_closure('key_release')\n",
       "    );\n",
       "\n",
       "    this._canvas_extra_style(canvas_div);\n",
       "    this.root.appendChild(canvas_div);\n",
       "\n",
       "    var canvas = (this.canvas = document.createElement('canvas'));\n",
       "    canvas.classList.add('mpl-canvas');\n",
       "    canvas.setAttribute('style', 'box-sizing: content-box;');\n",
       "\n",
       "    this.context = canvas.getContext('2d');\n",
       "\n",
       "    var backingStore =\n",
       "        this.context.backingStorePixelRatio ||\n",
       "        this.context.webkitBackingStorePixelRatio ||\n",
       "        this.context.mozBackingStorePixelRatio ||\n",
       "        this.context.msBackingStorePixelRatio ||\n",
       "        this.context.oBackingStorePixelRatio ||\n",
       "        this.context.backingStorePixelRatio ||\n",
       "        1;\n",
       "\n",
       "    this.ratio = (window.devicePixelRatio || 1) / backingStore;\n",
       "\n",
       "    var rubberband_canvas = (this.rubberband_canvas = document.createElement(\n",
       "        'canvas'\n",
       "    ));\n",
       "    rubberband_canvas.setAttribute(\n",
       "        'style',\n",
       "        'box-sizing: content-box; position: absolute; left: 0; top: 0; z-index: 1;'\n",
       "    );\n",
       "\n",
       "    // Apply a ponyfill if ResizeObserver is not implemented by browser.\n",
       "    if (this.ResizeObserver === undefined) {\n",
       "        if (window.ResizeObserver !== undefined) {\n",
       "            this.ResizeObserver = window.ResizeObserver;\n",
       "        } else {\n",
       "            var obs = _JSXTOOLS_RESIZE_OBSERVER({});\n",
       "            this.ResizeObserver = obs.ResizeObserver;\n",
       "        }\n",
       "    }\n",
       "\n",
       "    this.resizeObserverInstance = new this.ResizeObserver(function (entries) {\n",
       "        var nentries = entries.length;\n",
       "        for (var i = 0; i < nentries; i++) {\n",
       "            var entry = entries[i];\n",
       "            var width, height;\n",
       "            if (entry.contentBoxSize) {\n",
       "                if (entry.contentBoxSize instanceof Array) {\n",
       "                    // Chrome 84 implements new version of spec.\n",
       "                    width = entry.contentBoxSize[0].inlineSize;\n",
       "                    height = entry.contentBoxSize[0].blockSize;\n",
       "                } else {\n",
       "                    // Firefox implements old version of spec.\n",
       "                    width = entry.contentBoxSize.inlineSize;\n",
       "                    height = entry.contentBoxSize.blockSize;\n",
       "                }\n",
       "            } else {\n",
       "                // Chrome <84 implements even older version of spec.\n",
       "                width = entry.contentRect.width;\n",
       "                height = entry.contentRect.height;\n",
       "            }\n",
       "\n",
       "            // Keep the size of the canvas and rubber band canvas in sync with\n",
       "            // the canvas container.\n",
       "            if (entry.devicePixelContentBoxSize) {\n",
       "                // Chrome 84 implements new version of spec.\n",
       "                canvas.setAttribute(\n",
       "                    'width',\n",
       "                    entry.devicePixelContentBoxSize[0].inlineSize\n",
       "                );\n",
       "                canvas.setAttribute(\n",
       "                    'height',\n",
       "                    entry.devicePixelContentBoxSize[0].blockSize\n",
       "                );\n",
       "            } else {\n",
       "                canvas.setAttribute('width', width * fig.ratio);\n",
       "                canvas.setAttribute('height', height * fig.ratio);\n",
       "            }\n",
       "            canvas.setAttribute(\n",
       "                'style',\n",
       "                'width: ' + width + 'px; height: ' + height + 'px;'\n",
       "            );\n",
       "\n",
       "            rubberband_canvas.setAttribute('width', width);\n",
       "            rubberband_canvas.setAttribute('height', height);\n",
       "\n",
       "            // And update the size in Python. We ignore the initial 0/0 size\n",
       "            // that occurs as the element is placed into the DOM, which should\n",
       "            // otherwise not happen due to the minimum size styling.\n",
       "            if (fig.ws.readyState == 1 && width != 0 && height != 0) {\n",
       "                fig.request_resize(width, height);\n",
       "            }\n",
       "        }\n",
       "    });\n",
       "    this.resizeObserverInstance.observe(canvas_div);\n",
       "\n",
       "    function on_mouse_event_closure(name) {\n",
       "        return function (event) {\n",
       "            return fig.mouse_event(event, name);\n",
       "        };\n",
       "    }\n",
       "\n",
       "    rubberband_canvas.addEventListener(\n",
       "        'mousedown',\n",
       "        on_mouse_event_closure('button_press')\n",
       "    );\n",
       "    rubberband_canvas.addEventListener(\n",
       "        'mouseup',\n",
       "        on_mouse_event_closure('button_release')\n",
       "    );\n",
       "    rubberband_canvas.addEventListener(\n",
       "        'dblclick',\n",
       "        on_mouse_event_closure('dblclick')\n",
       "    );\n",
       "    // Throttle sequential mouse events to 1 every 20ms.\n",
       "    rubberband_canvas.addEventListener(\n",
       "        'mousemove',\n",
       "        on_mouse_event_closure('motion_notify')\n",
       "    );\n",
       "\n",
       "    rubberband_canvas.addEventListener(\n",
       "        'mouseenter',\n",
       "        on_mouse_event_closure('figure_enter')\n",
       "    );\n",
       "    rubberband_canvas.addEventListener(\n",
       "        'mouseleave',\n",
       "        on_mouse_event_closure('figure_leave')\n",
       "    );\n",
       "\n",
       "    canvas_div.addEventListener('wheel', function (event) {\n",
       "        if (event.deltaY < 0) {\n",
       "            event.step = 1;\n",
       "        } else {\n",
       "            event.step = -1;\n",
       "        }\n",
       "        on_mouse_event_closure('scroll')(event);\n",
       "    });\n",
       "\n",
       "    canvas_div.appendChild(canvas);\n",
       "    canvas_div.appendChild(rubberband_canvas);\n",
       "\n",
       "    this.rubberband_context = rubberband_canvas.getContext('2d');\n",
       "    this.rubberband_context.strokeStyle = '#000000';\n",
       "\n",
       "    this._resize_canvas = function (width, height, forward) {\n",
       "        if (forward) {\n",
       "            canvas_div.style.width = width + 'px';\n",
       "            canvas_div.style.height = height + 'px';\n",
       "        }\n",
       "    };\n",
       "\n",
       "    // Disable right mouse context menu.\n",
       "    this.rubberband_canvas.addEventListener('contextmenu', function (_e) {\n",
       "        event.preventDefault();\n",
       "        return false;\n",
       "    });\n",
       "\n",
       "    function set_focus() {\n",
       "        canvas.focus();\n",
       "        canvas_div.focus();\n",
       "    }\n",
       "\n",
       "    window.setTimeout(set_focus, 100);\n",
       "};\n",
       "\n",
       "mpl.figure.prototype._init_toolbar = function () {\n",
       "    var fig = this;\n",
       "\n",
       "    var toolbar = document.createElement('div');\n",
       "    toolbar.classList = 'mpl-toolbar';\n",
       "    this.root.appendChild(toolbar);\n",
       "\n",
       "    function on_click_closure(name) {\n",
       "        return function (_event) {\n",
       "            return fig.toolbar_button_onclick(name);\n",
       "        };\n",
       "    }\n",
       "\n",
       "    function on_mouseover_closure(tooltip) {\n",
       "        return function (event) {\n",
       "            if (!event.currentTarget.disabled) {\n",
       "                return fig.toolbar_button_onmouseover(tooltip);\n",
       "            }\n",
       "        };\n",
       "    }\n",
       "\n",
       "    fig.buttons = {};\n",
       "    var buttonGroup = document.createElement('div');\n",
       "    buttonGroup.classList = 'mpl-button-group';\n",
       "    for (var toolbar_ind in mpl.toolbar_items) {\n",
       "        var name = mpl.toolbar_items[toolbar_ind][0];\n",
       "        var tooltip = mpl.toolbar_items[toolbar_ind][1];\n",
       "        var image = mpl.toolbar_items[toolbar_ind][2];\n",
       "        var method_name = mpl.toolbar_items[toolbar_ind][3];\n",
       "\n",
       "        if (!name) {\n",
       "            /* Instead of a spacer, we start a new button group. */\n",
       "            if (buttonGroup.hasChildNodes()) {\n",
       "                toolbar.appendChild(buttonGroup);\n",
       "            }\n",
       "            buttonGroup = document.createElement('div');\n",
       "            buttonGroup.classList = 'mpl-button-group';\n",
       "            continue;\n",
       "        }\n",
       "\n",
       "        var button = (fig.buttons[name] = document.createElement('button'));\n",
       "        button.classList = 'mpl-widget';\n",
       "        button.setAttribute('role', 'button');\n",
       "        button.setAttribute('aria-disabled', 'false');\n",
       "        button.addEventListener('click', on_click_closure(method_name));\n",
       "        button.addEventListener('mouseover', on_mouseover_closure(tooltip));\n",
       "\n",
       "        var icon_img = document.createElement('img');\n",
       "        icon_img.src = '_images/' + image + '.png';\n",
       "        icon_img.srcset = '_images/' + image + '_large.png 2x';\n",
       "        icon_img.alt = tooltip;\n",
       "        button.appendChild(icon_img);\n",
       "\n",
       "        buttonGroup.appendChild(button);\n",
       "    }\n",
       "\n",
       "    if (buttonGroup.hasChildNodes()) {\n",
       "        toolbar.appendChild(buttonGroup);\n",
       "    }\n",
       "\n",
       "    var fmt_picker = document.createElement('select');\n",
       "    fmt_picker.classList = 'mpl-widget';\n",
       "    toolbar.appendChild(fmt_picker);\n",
       "    this.format_dropdown = fmt_picker;\n",
       "\n",
       "    for (var ind in mpl.extensions) {\n",
       "        var fmt = mpl.extensions[ind];\n",
       "        var option = document.createElement('option');\n",
       "        option.selected = fmt === mpl.default_extension;\n",
       "        option.innerHTML = fmt;\n",
       "        fmt_picker.appendChild(option);\n",
       "    }\n",
       "\n",
       "    var status_bar = document.createElement('span');\n",
       "    status_bar.classList = 'mpl-message';\n",
       "    toolbar.appendChild(status_bar);\n",
       "    this.message = status_bar;\n",
       "};\n",
       "\n",
       "mpl.figure.prototype.request_resize = function (x_pixels, y_pixels) {\n",
       "    // Request matplotlib to resize the figure. Matplotlib will then trigger a resize in the client,\n",
       "    // which will in turn request a refresh of the image.\n",
       "    this.send_message('resize', { width: x_pixels, height: y_pixels });\n",
       "};\n",
       "\n",
       "mpl.figure.prototype.send_message = function (type, properties) {\n",
       "    properties['type'] = type;\n",
       "    properties['figure_id'] = this.id;\n",
       "    this.ws.send(JSON.stringify(properties));\n",
       "};\n",
       "\n",
       "mpl.figure.prototype.send_draw_message = function () {\n",
       "    if (!this.waiting) {\n",
       "        this.waiting = true;\n",
       "        this.ws.send(JSON.stringify({ type: 'draw', figure_id: this.id }));\n",
       "    }\n",
       "};\n",
       "\n",
       "mpl.figure.prototype.handle_save = function (fig, _msg) {\n",
       "    var format_dropdown = fig.format_dropdown;\n",
       "    var format = format_dropdown.options[format_dropdown.selectedIndex].value;\n",
       "    fig.ondownload(fig, format);\n",
       "};\n",
       "\n",
       "mpl.figure.prototype.handle_resize = function (fig, msg) {\n",
       "    var size = msg['size'];\n",
       "    if (size[0] !== fig.canvas.width || size[1] !== fig.canvas.height) {\n",
       "        fig._resize_canvas(size[0], size[1], msg['forward']);\n",
       "        fig.send_message('refresh', {});\n",
       "    }\n",
       "};\n",
       "\n",
       "mpl.figure.prototype.handle_rubberband = function (fig, msg) {\n",
       "    var x0 = msg['x0'] / fig.ratio;\n",
       "    var y0 = (fig.canvas.height - msg['y0']) / fig.ratio;\n",
       "    var x1 = msg['x1'] / fig.ratio;\n",
       "    var y1 = (fig.canvas.height - msg['y1']) / fig.ratio;\n",
       "    x0 = Math.floor(x0) + 0.5;\n",
       "    y0 = Math.floor(y0) + 0.5;\n",
       "    x1 = Math.floor(x1) + 0.5;\n",
       "    y1 = Math.floor(y1) + 0.5;\n",
       "    var min_x = Math.min(x0, x1);\n",
       "    var min_y = Math.min(y0, y1);\n",
       "    var width = Math.abs(x1 - x0);\n",
       "    var height = Math.abs(y1 - y0);\n",
       "\n",
       "    fig.rubberband_context.clearRect(\n",
       "        0,\n",
       "        0,\n",
       "        fig.canvas.width / fig.ratio,\n",
       "        fig.canvas.height / fig.ratio\n",
       "    );\n",
       "\n",
       "    fig.rubberband_context.strokeRect(min_x, min_y, width, height);\n",
       "};\n",
       "\n",
       "mpl.figure.prototype.handle_figure_label = function (fig, msg) {\n",
       "    // Updates the figure title.\n",
       "    fig.header.textContent = msg['label'];\n",
       "};\n",
       "\n",
       "mpl.figure.prototype.handle_cursor = function (fig, msg) {\n",
       "    fig.rubberband_canvas.style.cursor = msg['cursor'];\n",
       "};\n",
       "\n",
       "mpl.figure.prototype.handle_message = function (fig, msg) {\n",
       "    fig.message.textContent = msg['message'];\n",
       "};\n",
       "\n",
       "mpl.figure.prototype.handle_draw = function (fig, _msg) {\n",
       "    // Request the server to send over a new figure.\n",
       "    fig.send_draw_message();\n",
       "};\n",
       "\n",
       "mpl.figure.prototype.handle_image_mode = function (fig, msg) {\n",
       "    fig.image_mode = msg['mode'];\n",
       "};\n",
       "\n",
       "mpl.figure.prototype.handle_history_buttons = function (fig, msg) {\n",
       "    for (var key in msg) {\n",
       "        if (!(key in fig.buttons)) {\n",
       "            continue;\n",
       "        }\n",
       "        fig.buttons[key].disabled = !msg[key];\n",
       "        fig.buttons[key].setAttribute('aria-disabled', !msg[key]);\n",
       "    }\n",
       "};\n",
       "\n",
       "mpl.figure.prototype.handle_navigate_mode = function (fig, msg) {\n",
       "    if (msg['mode'] === 'PAN') {\n",
       "        fig.buttons['Pan'].classList.add('active');\n",
       "        fig.buttons['Zoom'].classList.remove('active');\n",
       "    } else if (msg['mode'] === 'ZOOM') {\n",
       "        fig.buttons['Pan'].classList.remove('active');\n",
       "        fig.buttons['Zoom'].classList.add('active');\n",
       "    } else {\n",
       "        fig.buttons['Pan'].classList.remove('active');\n",
       "        fig.buttons['Zoom'].classList.remove('active');\n",
       "    }\n",
       "};\n",
       "\n",
       "mpl.figure.prototype.updated_canvas_event = function () {\n",
       "    // Called whenever the canvas gets updated.\n",
       "    this.send_message('ack', {});\n",
       "};\n",
       "\n",
       "// A function to construct a web socket function for onmessage handling.\n",
       "// Called in the figure constructor.\n",
       "mpl.figure.prototype._make_on_message_function = function (fig) {\n",
       "    return function socket_on_message(evt) {\n",
       "        if (evt.data instanceof Blob) {\n",
       "            var img = evt.data;\n",
       "            if (img.type !== 'image/png') {\n",
       "                /* FIXME: We get \"Resource interpreted as Image but\n",
       "                 * transferred with MIME type text/plain:\" errors on\n",
       "                 * Chrome.  But how to set the MIME type?  It doesn't seem\n",
       "                 * to be part of the websocket stream */\n",
       "                img.type = 'image/png';\n",
       "            }\n",
       "\n",
       "            /* Free the memory for the previous frames */\n",
       "            if (fig.imageObj.src) {\n",
       "                (window.URL || window.webkitURL).revokeObjectURL(\n",
       "                    fig.imageObj.src\n",
       "                );\n",
       "            }\n",
       "\n",
       "            fig.imageObj.src = (window.URL || window.webkitURL).createObjectURL(\n",
       "                img\n",
       "            );\n",
       "            fig.updated_canvas_event();\n",
       "            fig.waiting = false;\n",
       "            return;\n",
       "        } else if (\n",
       "            typeof evt.data === 'string' &&\n",
       "            evt.data.slice(0, 21) === 'data:image/png;base64'\n",
       "        ) {\n",
       "            fig.imageObj.src = evt.data;\n",
       "            fig.updated_canvas_event();\n",
       "            fig.waiting = false;\n",
       "            return;\n",
       "        }\n",
       "\n",
       "        var msg = JSON.parse(evt.data);\n",
       "        var msg_type = msg['type'];\n",
       "\n",
       "        // Call the  \"handle_{type}\" callback, which takes\n",
       "        // the figure and JSON message as its only arguments.\n",
       "        try {\n",
       "            var callback = fig['handle_' + msg_type];\n",
       "        } catch (e) {\n",
       "            console.log(\n",
       "                \"No handler for the '\" + msg_type + \"' message type: \",\n",
       "                msg\n",
       "            );\n",
       "            return;\n",
       "        }\n",
       "\n",
       "        if (callback) {\n",
       "            try {\n",
       "                // console.log(\"Handling '\" + msg_type + \"' message: \", msg);\n",
       "                callback(fig, msg);\n",
       "            } catch (e) {\n",
       "                console.log(\n",
       "                    \"Exception inside the 'handler_\" + msg_type + \"' callback:\",\n",
       "                    e,\n",
       "                    e.stack,\n",
       "                    msg\n",
       "                );\n",
       "            }\n",
       "        }\n",
       "    };\n",
       "};\n",
       "\n",
       "// from https://stackoverflow.com/questions/1114465/getting-mouse-location-in-canvas\n",
       "mpl.findpos = function (e) {\n",
       "    //this section is from http://www.quirksmode.org/js/events_properties.html\n",
       "    var targ;\n",
       "    if (!e) {\n",
       "        e = window.event;\n",
       "    }\n",
       "    if (e.target) {\n",
       "        targ = e.target;\n",
       "    } else if (e.srcElement) {\n",
       "        targ = e.srcElement;\n",
       "    }\n",
       "    if (targ.nodeType === 3) {\n",
       "        // defeat Safari bug\n",
       "        targ = targ.parentNode;\n",
       "    }\n",
       "\n",
       "    // pageX,Y are the mouse positions relative to the document\n",
       "    var boundingRect = targ.getBoundingClientRect();\n",
       "    var x = e.pageX - (boundingRect.left + document.body.scrollLeft);\n",
       "    var y = e.pageY - (boundingRect.top + document.body.scrollTop);\n",
       "\n",
       "    return { x: x, y: y };\n",
       "};\n",
       "\n",
       "/*\n",
       " * return a copy of an object with only non-object keys\n",
       " * we need this to avoid circular references\n",
       " * https://stackoverflow.com/a/24161582/3208463\n",
       " */\n",
       "function simpleKeys(original) {\n",
       "    return Object.keys(original).reduce(function (obj, key) {\n",
       "        if (typeof original[key] !== 'object') {\n",
       "            obj[key] = original[key];\n",
       "        }\n",
       "        return obj;\n",
       "    }, {});\n",
       "}\n",
       "\n",
       "mpl.figure.prototype.mouse_event = function (event, name) {\n",
       "    var canvas_pos = mpl.findpos(event);\n",
       "\n",
       "    if (name === 'button_press') {\n",
       "        this.canvas.focus();\n",
       "        this.canvas_div.focus();\n",
       "    }\n",
       "\n",
       "    var x = canvas_pos.x * this.ratio;\n",
       "    var y = canvas_pos.y * this.ratio;\n",
       "\n",
       "    this.send_message(name, {\n",
       "        x: x,\n",
       "        y: y,\n",
       "        button: event.button,\n",
       "        step: event.step,\n",
       "        guiEvent: simpleKeys(event),\n",
       "    });\n",
       "\n",
       "    /* This prevents the web browser from automatically changing to\n",
       "     * the text insertion cursor when the button is pressed.  We want\n",
       "     * to control all of the cursor setting manually through the\n",
       "     * 'cursor' event from matplotlib */\n",
       "    event.preventDefault();\n",
       "    return false;\n",
       "};\n",
       "\n",
       "mpl.figure.prototype._key_event_extra = function (_event, _name) {\n",
       "    // Handle any extra behaviour associated with a key event\n",
       "};\n",
       "\n",
       "mpl.figure.prototype.key_event = function (event, name) {\n",
       "    // Prevent repeat events\n",
       "    if (name === 'key_press') {\n",
       "        if (event.key === this._key) {\n",
       "            return;\n",
       "        } else {\n",
       "            this._key = event.key;\n",
       "        }\n",
       "    }\n",
       "    if (name === 'key_release') {\n",
       "        this._key = null;\n",
       "    }\n",
       "\n",
       "    var value = '';\n",
       "    if (event.ctrlKey && event.key !== 'Control') {\n",
       "        value += 'ctrl+';\n",
       "    }\n",
       "    else if (event.altKey && event.key !== 'Alt') {\n",
       "        value += 'alt+';\n",
       "    }\n",
       "    else if (event.shiftKey && event.key !== 'Shift') {\n",
       "        value += 'shift+';\n",
       "    }\n",
       "\n",
       "    value += 'k' + event.key;\n",
       "\n",
       "    this._key_event_extra(event, name);\n",
       "\n",
       "    this.send_message(name, { key: value, guiEvent: simpleKeys(event) });\n",
       "    return false;\n",
       "};\n",
       "\n",
       "mpl.figure.prototype.toolbar_button_onclick = function (name) {\n",
       "    if (name === 'download') {\n",
       "        this.handle_save(this, null);\n",
       "    } else {\n",
       "        this.send_message('toolbar_button', { name: name });\n",
       "    }\n",
       "};\n",
       "\n",
       "mpl.figure.prototype.toolbar_button_onmouseover = function (tooltip) {\n",
       "    this.message.textContent = tooltip;\n",
       "};\n",
       "\n",
       "///////////////// REMAINING CONTENT GENERATED BY embed_js.py /////////////////\n",
       "// prettier-ignore\n",
       "var _JSXTOOLS_RESIZE_OBSERVER=function(A){var t,i=new WeakMap,n=new WeakMap,a=new WeakMap,r=new WeakMap,o=new Set;function s(e){if(!(this instanceof s))throw new TypeError(\"Constructor requires 'new' operator\");i.set(this,e)}function h(){throw new TypeError(\"Function is not a constructor\")}function c(e,t,i,n){e=0 in arguments?Number(arguments[0]):0,t=1 in arguments?Number(arguments[1]):0,i=2 in arguments?Number(arguments[2]):0,n=3 in arguments?Number(arguments[3]):0,this.right=(this.x=this.left=e)+(this.width=i),this.bottom=(this.y=this.top=t)+(this.height=n),Object.freeze(this)}function d(){t=requestAnimationFrame(d);var s=new WeakMap,p=new Set;o.forEach((function(t){r.get(t).forEach((function(i){var r=t instanceof window.SVGElement,o=a.get(t),d=r?0:parseFloat(o.paddingTop),f=r?0:parseFloat(o.paddingRight),l=r?0:parseFloat(o.paddingBottom),u=r?0:parseFloat(o.paddingLeft),g=r?0:parseFloat(o.borderTopWidth),m=r?0:parseFloat(o.borderRightWidth),w=r?0:parseFloat(o.borderBottomWidth),b=u+f,F=d+l,v=(r?0:parseFloat(o.borderLeftWidth))+m,W=g+w,y=r?0:t.offsetHeight-W-t.clientHeight,E=r?0:t.offsetWidth-v-t.clientWidth,R=b+v,z=F+W,M=r?t.width:parseFloat(o.width)-R-E,O=r?t.height:parseFloat(o.height)-z-y;if(n.has(t)){var k=n.get(t);if(k[0]===M&&k[1]===O)return}n.set(t,[M,O]);var S=Object.create(h.prototype);S.target=t,S.contentRect=new c(u,d,M,O),s.has(i)||(s.set(i,[]),p.add(i)),s.get(i).push(S)}))})),p.forEach((function(e){i.get(e).call(e,s.get(e),e)}))}return s.prototype.observe=function(i){if(i instanceof window.Element){r.has(i)||(r.set(i,new Set),o.add(i),a.set(i,window.getComputedStyle(i)));var n=r.get(i);n.has(this)||n.add(this),cancelAnimationFrame(t),t=requestAnimationFrame(d)}},s.prototype.unobserve=function(i){if(i instanceof window.Element&&r.has(i)){var n=r.get(i);n.has(this)&&(n.delete(this),n.size||(r.delete(i),o.delete(i))),n.size||r.delete(i),o.size||cancelAnimationFrame(t)}},A.DOMRectReadOnly=c,A.ResizeObserver=s,A.ResizeObserverEntry=h,A}; // eslint-disable-line\n",
       "mpl.toolbar_items = [[\"Home\", \"Reset original view\", \"fa fa-home icon-home\", \"home\"], [\"Back\", \"Back to previous view\", \"fa fa-arrow-left icon-arrow-left\", \"back\"], [\"Forward\", \"Forward to next view\", \"fa fa-arrow-right icon-arrow-right\", \"forward\"], [\"\", \"\", \"\", \"\"], [\"Pan\", \"Left button pans, Right button zooms\\nx/y fixes axis, CTRL fixes aspect\", \"fa fa-arrows icon-move\", \"pan\"], [\"Zoom\", \"Zoom to rectangle\\nx/y fixes axis\", \"fa fa-square-o icon-check-empty\", \"zoom\"], [\"\", \"\", \"\", \"\"], [\"Download\", \"Download plot\", \"fa fa-floppy-o icon-save\", \"download\"]];\n",
       "\n",
       "mpl.extensions = [\"eps\", \"jpeg\", \"pgf\", \"pdf\", \"png\", \"ps\", \"raw\", \"svg\", \"tif\"];\n",
       "\n",
       "mpl.default_extension = \"png\";/* global mpl */\n",
       "\n",
       "var comm_websocket_adapter = function (comm) {\n",
       "    // Create a \"websocket\"-like object which calls the given IPython comm\n",
       "    // object with the appropriate methods. Currently this is a non binary\n",
       "    // socket, so there is still some room for performance tuning.\n",
       "    var ws = {};\n",
       "\n",
       "    ws.binaryType = comm.kernel.ws.binaryType;\n",
       "    ws.readyState = comm.kernel.ws.readyState;\n",
       "    function updateReadyState(_event) {\n",
       "        if (comm.kernel.ws) {\n",
       "            ws.readyState = comm.kernel.ws.readyState;\n",
       "        } else {\n",
       "            ws.readyState = 3; // Closed state.\n",
       "        }\n",
       "    }\n",
       "    comm.kernel.ws.addEventListener('open', updateReadyState);\n",
       "    comm.kernel.ws.addEventListener('close', updateReadyState);\n",
       "    comm.kernel.ws.addEventListener('error', updateReadyState);\n",
       "\n",
       "    ws.close = function () {\n",
       "        comm.close();\n",
       "    };\n",
       "    ws.send = function (m) {\n",
       "        //console.log('sending', m);\n",
       "        comm.send(m);\n",
       "    };\n",
       "    // Register the callback with on_msg.\n",
       "    comm.on_msg(function (msg) {\n",
       "        //console.log('receiving', msg['content']['data'], msg);\n",
       "        var data = msg['content']['data'];\n",
       "        if (data['blob'] !== undefined) {\n",
       "            data = {\n",
       "                data: new Blob(msg['buffers'], { type: data['blob'] }),\n",
       "            };\n",
       "        }\n",
       "        // Pass the mpl event to the overridden (by mpl) onmessage function.\n",
       "        ws.onmessage(data);\n",
       "    });\n",
       "    return ws;\n",
       "};\n",
       "\n",
       "mpl.mpl_figure_comm = function (comm, msg) {\n",
       "    // This is the function which gets called when the mpl process\n",
       "    // starts-up an IPython Comm through the \"matplotlib\" channel.\n",
       "\n",
       "    var id = msg.content.data.id;\n",
       "    // Get hold of the div created by the display call when the Comm\n",
       "    // socket was opened in Python.\n",
       "    var element = document.getElementById(id);\n",
       "    var ws_proxy = comm_websocket_adapter(comm);\n",
       "\n",
       "    function ondownload(figure, _format) {\n",
       "        window.open(figure.canvas.toDataURL());\n",
       "    }\n",
       "\n",
       "    var fig = new mpl.figure(id, ws_proxy, ondownload, element);\n",
       "\n",
       "    // Call onopen now - mpl needs it, as it is assuming we've passed it a real\n",
       "    // web socket which is closed, not our websocket->open comm proxy.\n",
       "    ws_proxy.onopen();\n",
       "\n",
       "    fig.parent_element = element;\n",
       "    fig.cell_info = mpl.find_output_cell(\"<div id='\" + id + \"'></div>\");\n",
       "    if (!fig.cell_info) {\n",
       "        console.error('Failed to find cell for figure', id, fig);\n",
       "        return;\n",
       "    }\n",
       "    fig.cell_info[0].output_area.element.on(\n",
       "        'cleared',\n",
       "        { fig: fig },\n",
       "        fig._remove_fig_handler\n",
       "    );\n",
       "};\n",
       "\n",
       "mpl.figure.prototype.handle_close = function (fig, msg) {\n",
       "    var width = fig.canvas.width / fig.ratio;\n",
       "    fig.cell_info[0].output_area.element.off(\n",
       "        'cleared',\n",
       "        fig._remove_fig_handler\n",
       "    );\n",
       "    fig.resizeObserverInstance.unobserve(fig.canvas_div);\n",
       "\n",
       "    // Update the output cell to use the data from the current canvas.\n",
       "    fig.push_to_output();\n",
       "    var dataURL = fig.canvas.toDataURL();\n",
       "    // Re-enable the keyboard manager in IPython - without this line, in FF,\n",
       "    // the notebook keyboard shortcuts fail.\n",
       "    IPython.keyboard_manager.enable();\n",
       "    fig.parent_element.innerHTML =\n",
       "        '<img src=\"' + dataURL + '\" width=\"' + width + '\">';\n",
       "    fig.close_ws(fig, msg);\n",
       "};\n",
       "\n",
       "mpl.figure.prototype.close_ws = function (fig, msg) {\n",
       "    fig.send_message('closing', msg);\n",
       "    // fig.ws.close()\n",
       "};\n",
       "\n",
       "mpl.figure.prototype.push_to_output = function (_remove_interactive) {\n",
       "    // Turn the data on the canvas into data in the output cell.\n",
       "    var width = this.canvas.width / this.ratio;\n",
       "    var dataURL = this.canvas.toDataURL();\n",
       "    this.cell_info[1]['text/html'] =\n",
       "        '<img src=\"' + dataURL + '\" width=\"' + width + '\">';\n",
       "};\n",
       "\n",
       "mpl.figure.prototype.updated_canvas_event = function () {\n",
       "    // Tell IPython that the notebook contents must change.\n",
       "    IPython.notebook.set_dirty(true);\n",
       "    this.send_message('ack', {});\n",
       "    var fig = this;\n",
       "    // Wait a second, then push the new image to the DOM so\n",
       "    // that it is saved nicely (might be nice to debounce this).\n",
       "    setTimeout(function () {\n",
       "        fig.push_to_output();\n",
       "    }, 1000);\n",
       "};\n",
       "\n",
       "mpl.figure.prototype._init_toolbar = function () {\n",
       "    var fig = this;\n",
       "\n",
       "    var toolbar = document.createElement('div');\n",
       "    toolbar.classList = 'btn-toolbar';\n",
       "    this.root.appendChild(toolbar);\n",
       "\n",
       "    function on_click_closure(name) {\n",
       "        return function (_event) {\n",
       "            return fig.toolbar_button_onclick(name);\n",
       "        };\n",
       "    }\n",
       "\n",
       "    function on_mouseover_closure(tooltip) {\n",
       "        return function (event) {\n",
       "            if (!event.currentTarget.disabled) {\n",
       "                return fig.toolbar_button_onmouseover(tooltip);\n",
       "            }\n",
       "        };\n",
       "    }\n",
       "\n",
       "    fig.buttons = {};\n",
       "    var buttonGroup = document.createElement('div');\n",
       "    buttonGroup.classList = 'btn-group';\n",
       "    var button;\n",
       "    for (var toolbar_ind in mpl.toolbar_items) {\n",
       "        var name = mpl.toolbar_items[toolbar_ind][0];\n",
       "        var tooltip = mpl.toolbar_items[toolbar_ind][1];\n",
       "        var image = mpl.toolbar_items[toolbar_ind][2];\n",
       "        var method_name = mpl.toolbar_items[toolbar_ind][3];\n",
       "\n",
       "        if (!name) {\n",
       "            /* Instead of a spacer, we start a new button group. */\n",
       "            if (buttonGroup.hasChildNodes()) {\n",
       "                toolbar.appendChild(buttonGroup);\n",
       "            }\n",
       "            buttonGroup = document.createElement('div');\n",
       "            buttonGroup.classList = 'btn-group';\n",
       "            continue;\n",
       "        }\n",
       "\n",
       "        button = fig.buttons[name] = document.createElement('button');\n",
       "        button.classList = 'btn btn-default';\n",
       "        button.href = '#';\n",
       "        button.title = name;\n",
       "        button.innerHTML = '<i class=\"fa ' + image + ' fa-lg\"></i>';\n",
       "        button.addEventListener('click', on_click_closure(method_name));\n",
       "        button.addEventListener('mouseover', on_mouseover_closure(tooltip));\n",
       "        buttonGroup.appendChild(button);\n",
       "    }\n",
       "\n",
       "    if (buttonGroup.hasChildNodes()) {\n",
       "        toolbar.appendChild(buttonGroup);\n",
       "    }\n",
       "\n",
       "    // Add the status bar.\n",
       "    var status_bar = document.createElement('span');\n",
       "    status_bar.classList = 'mpl-message pull-right';\n",
       "    toolbar.appendChild(status_bar);\n",
       "    this.message = status_bar;\n",
       "\n",
       "    // Add the close button to the window.\n",
       "    var buttongrp = document.createElement('div');\n",
       "    buttongrp.classList = 'btn-group inline pull-right';\n",
       "    button = document.createElement('button');\n",
       "    button.classList = 'btn btn-mini btn-primary';\n",
       "    button.href = '#';\n",
       "    button.title = 'Stop Interaction';\n",
       "    button.innerHTML = '<i class=\"fa fa-power-off icon-remove icon-large\"></i>';\n",
       "    button.addEventListener('click', function (_evt) {\n",
       "        fig.handle_close(fig, {});\n",
       "    });\n",
       "    button.addEventListener(\n",
       "        'mouseover',\n",
       "        on_mouseover_closure('Stop Interaction')\n",
       "    );\n",
       "    buttongrp.appendChild(button);\n",
       "    var titlebar = this.root.querySelector('.ui-dialog-titlebar');\n",
       "    titlebar.insertBefore(buttongrp, titlebar.firstChild);\n",
       "};\n",
       "\n",
       "mpl.figure.prototype._remove_fig_handler = function (event) {\n",
       "    var fig = event.data.fig;\n",
       "    if (event.target !== this) {\n",
       "        // Ignore bubbled events from children.\n",
       "        return;\n",
       "    }\n",
       "    fig.close_ws(fig, {});\n",
       "};\n",
       "\n",
       "mpl.figure.prototype._root_extra_style = function (el) {\n",
       "    el.style.boxSizing = 'content-box'; // override notebook setting of border-box.\n",
       "};\n",
       "\n",
       "mpl.figure.prototype._canvas_extra_style = function (el) {\n",
       "    // this is important to make the div 'focusable\n",
       "    el.setAttribute('tabindex', 0);\n",
       "    // reach out to IPython and tell the keyboard manager to turn it's self\n",
       "    // off when our div gets focus\n",
       "\n",
       "    // location in version 3\n",
       "    if (IPython.notebook.keyboard_manager) {\n",
       "        IPython.notebook.keyboard_manager.register_events(el);\n",
       "    } else {\n",
       "        // location in version 2\n",
       "        IPython.keyboard_manager.register_events(el);\n",
       "    }\n",
       "};\n",
       "\n",
       "mpl.figure.prototype._key_event_extra = function (event, _name) {\n",
       "    // Check for shift+enter\n",
       "    if (event.shiftKey && event.which === 13) {\n",
       "        this.canvas_div.blur();\n",
       "        // select the cell after this one\n",
       "        var index = IPython.notebook.find_cell_index(this.cell_info[0]);\n",
       "        IPython.notebook.select(index + 1);\n",
       "    }\n",
       "};\n",
       "\n",
       "mpl.figure.prototype.handle_save = function (fig, _msg) {\n",
       "    fig.ondownload(fig, null);\n",
       "};\n",
       "\n",
       "mpl.find_output_cell = function (html_output) {\n",
       "    // Return the cell and output element which can be found *uniquely* in the notebook.\n",
       "    // Note - this is a bit hacky, but it is done because the \"notebook_saving.Notebook\"\n",
       "    // IPython event is triggered only after the cells have been serialised, which for\n",
       "    // our purposes (turning an active figure into a static one), is too late.\n",
       "    var cells = IPython.notebook.get_cells();\n",
       "    var ncells = cells.length;\n",
       "    for (var i = 0; i < ncells; i++) {\n",
       "        var cell = cells[i];\n",
       "        if (cell.cell_type === 'code') {\n",
       "            for (var j = 0; j < cell.output_area.outputs.length; j++) {\n",
       "                var data = cell.output_area.outputs[j];\n",
       "                if (data.data) {\n",
       "                    // IPython >= 3 moved mimebundle to data attribute of output\n",
       "                    data = data.data;\n",
       "                }\n",
       "                if (data['text/html'] === html_output) {\n",
       "                    return [cell, data, j];\n",
       "                }\n",
       "            }\n",
       "        }\n",
       "    }\n",
       "};\n",
       "\n",
       "// Register the function which deals with the matplotlib target/channel.\n",
       "// The kernel may be null if the page has been refreshed.\n",
       "if (IPython.notebook.kernel !== null) {\n",
       "    IPython.notebook.kernel.comm_manager.register_target(\n",
       "        'matplotlib',\n",
       "        mpl.mpl_figure_comm\n",
       "    );\n",
       "}\n"
      ],
      "text/plain": [
       "<IPython.core.display.Javascript object>"
      ]
     },
     "metadata": {},
     "output_type": "display_data"
    },
    {
     "data": {
      "text/html": [
       "<img src=\"data:image/png;base64,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\" width=\"872.7272538114189\">"
      ],
      "text/plain": [
       "<IPython.core.display.HTML object>"
      ]
     },
     "metadata": {},
     "output_type": "display_data"
    }
   ],
   "source": [
    "\n",
    "fig = plt.figure(figsize=(12,6))\n",
    "ax = fig.add_subplot(121, projection='3d')\n",
    "\n",
    "\n",
    "\n",
    "ax.set_xlim(-5,5)\n",
    "ax.set_ylim(-5,5)\n",
    "ax.set_zlim(-10,10)\n",
    "ax.quiver((0,),(0,),(0,),(1,),(-4,),(2,), color='red', length=1)\n",
    "ax.quiver((0,),(0,),(0,),(-2,),(1,),(3,), color='green', length=1)\n",
    "ax.quiver((0,),(0,),(0,),(2,),(6,),(8,), color='blue', length=1)\n",
    "\n",
    "plt.show()\n"
   ]
  },
  {
   "cell_type": "code",
   "execution_count": 3,
   "id": "6552c3dc",
   "metadata": {
    "hide_input": true,
    "slideshow": {
     "slide_type": "-"
    }
   },
   "outputs": [
    {
     "data": {
      "application/javascript": [
       "/* Put everything inside the global mpl namespace */\n",
       "/* global mpl */\n",
       "window.mpl = {};\n",
       "\n",
       "mpl.get_websocket_type = function () {\n",
       "    if (typeof WebSocket !== 'undefined') {\n",
       "        return WebSocket;\n",
       "    } else if (typeof MozWebSocket !== 'undefined') {\n",
       "        return MozWebSocket;\n",
       "    } else {\n",
       "        alert(\n",
       "            'Your browser does not have WebSocket support. ' +\n",
       "                'Please try Chrome, Safari or Firefox ≥ 6. ' +\n",
       "                'Firefox 4 and 5 are also supported but you ' +\n",
       "                'have to enable WebSockets in about:config.'\n",
       "        );\n",
       "    }\n",
       "};\n",
       "\n",
       "mpl.figure = function (figure_id, websocket, ondownload, parent_element) {\n",
       "    this.id = figure_id;\n",
       "\n",
       "    this.ws = websocket;\n",
       "\n",
       "    this.supports_binary = this.ws.binaryType !== undefined;\n",
       "\n",
       "    if (!this.supports_binary) {\n",
       "        var warnings = document.getElementById('mpl-warnings');\n",
       "        if (warnings) {\n",
       "            warnings.style.display = 'block';\n",
       "            warnings.textContent =\n",
       "                'This browser does not support binary websocket messages. ' +\n",
       "                'Performance may be slow.';\n",
       "        }\n",
       "    }\n",
       "\n",
       "    this.imageObj = new Image();\n",
       "\n",
       "    this.context = undefined;\n",
       "    this.message = undefined;\n",
       "    this.canvas = undefined;\n",
       "    this.rubberband_canvas = undefined;\n",
       "    this.rubberband_context = undefined;\n",
       "    this.format_dropdown = undefined;\n",
       "\n",
       "    this.image_mode = 'full';\n",
       "\n",
       "    this.root = document.createElement('div');\n",
       "    this.root.setAttribute('style', 'display: inline-block');\n",
       "    this._root_extra_style(this.root);\n",
       "\n",
       "    parent_element.appendChild(this.root);\n",
       "\n",
       "    this._init_header(this);\n",
       "    this._init_canvas(this);\n",
       "    this._init_toolbar(this);\n",
       "\n",
       "    var fig = this;\n",
       "\n",
       "    this.waiting = false;\n",
       "\n",
       "    this.ws.onopen = function () {\n",
       "        fig.send_message('supports_binary', { value: fig.supports_binary });\n",
       "        fig.send_message('send_image_mode', {});\n",
       "        if (fig.ratio !== 1) {\n",
       "            fig.send_message('set_device_pixel_ratio', {\n",
       "                device_pixel_ratio: fig.ratio,\n",
       "            });\n",
       "        }\n",
       "        fig.send_message('refresh', {});\n",
       "    };\n",
       "\n",
       "    this.imageObj.onload = function () {\n",
       "        if (fig.image_mode === 'full') {\n",
       "            // Full images could contain transparency (where diff images\n",
       "            // almost always do), so we need to clear the canvas so that\n",
       "            // there is no ghosting.\n",
       "            fig.context.clearRect(0, 0, fig.canvas.width, fig.canvas.height);\n",
       "        }\n",
       "        fig.context.drawImage(fig.imageObj, 0, 0);\n",
       "    };\n",
       "\n",
       "    this.imageObj.onunload = function () {\n",
       "        fig.ws.close();\n",
       "    };\n",
       "\n",
       "    this.ws.onmessage = this._make_on_message_function(this);\n",
       "\n",
       "    this.ondownload = ondownload;\n",
       "};\n",
       "\n",
       "mpl.figure.prototype._init_header = function () {\n",
       "    var titlebar = document.createElement('div');\n",
       "    titlebar.classList =\n",
       "        'ui-dialog-titlebar ui-widget-header ui-corner-all ui-helper-clearfix';\n",
       "    var titletext = document.createElement('div');\n",
       "    titletext.classList = 'ui-dialog-title';\n",
       "    titletext.setAttribute(\n",
       "        'style',\n",
       "        'width: 100%; text-align: center; padding: 3px;'\n",
       "    );\n",
       "    titlebar.appendChild(titletext);\n",
       "    this.root.appendChild(titlebar);\n",
       "    this.header = titletext;\n",
       "};\n",
       "\n",
       "mpl.figure.prototype._canvas_extra_style = function (_canvas_div) {};\n",
       "\n",
       "mpl.figure.prototype._root_extra_style = function (_canvas_div) {};\n",
       "\n",
       "mpl.figure.prototype._init_canvas = function () {\n",
       "    var fig = this;\n",
       "\n",
       "    var canvas_div = (this.canvas_div = document.createElement('div'));\n",
       "    canvas_div.setAttribute(\n",
       "        'style',\n",
       "        'border: 1px solid #ddd;' +\n",
       "            'box-sizing: content-box;' +\n",
       "            'clear: both;' +\n",
       "            'min-height: 1px;' +\n",
       "            'min-width: 1px;' +\n",
       "            'outline: 0;' +\n",
       "            'overflow: hidden;' +\n",
       "            'position: relative;' +\n",
       "            'resize: both;'\n",
       "    );\n",
       "\n",
       "    function on_keyboard_event_closure(name) {\n",
       "        return function (event) {\n",
       "            return fig.key_event(event, name);\n",
       "        };\n",
       "    }\n",
       "\n",
       "    canvas_div.addEventListener(\n",
       "        'keydown',\n",
       "        on_keyboard_event_closure('key_press')\n",
       "    );\n",
       "    canvas_div.addEventListener(\n",
       "        'keyup',\n",
       "        on_keyboard_event_closure('key_release')\n",
       "    );\n",
       "\n",
       "    this._canvas_extra_style(canvas_div);\n",
       "    this.root.appendChild(canvas_div);\n",
       "\n",
       "    var canvas = (this.canvas = document.createElement('canvas'));\n",
       "    canvas.classList.add('mpl-canvas');\n",
       "    canvas.setAttribute('style', 'box-sizing: content-box;');\n",
       "\n",
       "    this.context = canvas.getContext('2d');\n",
       "\n",
       "    var backingStore =\n",
       "        this.context.backingStorePixelRatio ||\n",
       "        this.context.webkitBackingStorePixelRatio ||\n",
       "        this.context.mozBackingStorePixelRatio ||\n",
       "        this.context.msBackingStorePixelRatio ||\n",
       "        this.context.oBackingStorePixelRatio ||\n",
       "        this.context.backingStorePixelRatio ||\n",
       "        1;\n",
       "\n",
       "    this.ratio = (window.devicePixelRatio || 1) / backingStore;\n",
       "\n",
       "    var rubberband_canvas = (this.rubberband_canvas = document.createElement(\n",
       "        'canvas'\n",
       "    ));\n",
       "    rubberband_canvas.setAttribute(\n",
       "        'style',\n",
       "        'box-sizing: content-box; position: absolute; left: 0; top: 0; z-index: 1;'\n",
       "    );\n",
       "\n",
       "    // Apply a ponyfill if ResizeObserver is not implemented by browser.\n",
       "    if (this.ResizeObserver === undefined) {\n",
       "        if (window.ResizeObserver !== undefined) {\n",
       "            this.ResizeObserver = window.ResizeObserver;\n",
       "        } else {\n",
       "            var obs = _JSXTOOLS_RESIZE_OBSERVER({});\n",
       "            this.ResizeObserver = obs.ResizeObserver;\n",
       "        }\n",
       "    }\n",
       "\n",
       "    this.resizeObserverInstance = new this.ResizeObserver(function (entries) {\n",
       "        var nentries = entries.length;\n",
       "        for (var i = 0; i < nentries; i++) {\n",
       "            var entry = entries[i];\n",
       "            var width, height;\n",
       "            if (entry.contentBoxSize) {\n",
       "                if (entry.contentBoxSize instanceof Array) {\n",
       "                    // Chrome 84 implements new version of spec.\n",
       "                    width = entry.contentBoxSize[0].inlineSize;\n",
       "                    height = entry.contentBoxSize[0].blockSize;\n",
       "                } else {\n",
       "                    // Firefox implements old version of spec.\n",
       "                    width = entry.contentBoxSize.inlineSize;\n",
       "                    height = entry.contentBoxSize.blockSize;\n",
       "                }\n",
       "            } else {\n",
       "                // Chrome <84 implements even older version of spec.\n",
       "                width = entry.contentRect.width;\n",
       "                height = entry.contentRect.height;\n",
       "            }\n",
       "\n",
       "            // Keep the size of the canvas and rubber band canvas in sync with\n",
       "            // the canvas container.\n",
       "            if (entry.devicePixelContentBoxSize) {\n",
       "                // Chrome 84 implements new version of spec.\n",
       "                canvas.setAttribute(\n",
       "                    'width',\n",
       "                    entry.devicePixelContentBoxSize[0].inlineSize\n",
       "                );\n",
       "                canvas.setAttribute(\n",
       "                    'height',\n",
       "                    entry.devicePixelContentBoxSize[0].blockSize\n",
       "                );\n",
       "            } else {\n",
       "                canvas.setAttribute('width', width * fig.ratio);\n",
       "                canvas.setAttribute('height', height * fig.ratio);\n",
       "            }\n",
       "            canvas.setAttribute(\n",
       "                'style',\n",
       "                'width: ' + width + 'px; height: ' + height + 'px;'\n",
       "            );\n",
       "\n",
       "            rubberband_canvas.setAttribute('width', width);\n",
       "            rubberband_canvas.setAttribute('height', height);\n",
       "\n",
       "            // And update the size in Python. We ignore the initial 0/0 size\n",
       "            // that occurs as the element is placed into the DOM, which should\n",
       "            // otherwise not happen due to the minimum size styling.\n",
       "            if (fig.ws.readyState == 1 && width != 0 && height != 0) {\n",
       "                fig.request_resize(width, height);\n",
       "            }\n",
       "        }\n",
       "    });\n",
       "    this.resizeObserverInstance.observe(canvas_div);\n",
       "\n",
       "    function on_mouse_event_closure(name) {\n",
       "        return function (event) {\n",
       "            return fig.mouse_event(event, name);\n",
       "        };\n",
       "    }\n",
       "\n",
       "    rubberband_canvas.addEventListener(\n",
       "        'mousedown',\n",
       "        on_mouse_event_closure('button_press')\n",
       "    );\n",
       "    rubberband_canvas.addEventListener(\n",
       "        'mouseup',\n",
       "        on_mouse_event_closure('button_release')\n",
       "    );\n",
       "    rubberband_canvas.addEventListener(\n",
       "        'dblclick',\n",
       "        on_mouse_event_closure('dblclick')\n",
       "    );\n",
       "    // Throttle sequential mouse events to 1 every 20ms.\n",
       "    rubberband_canvas.addEventListener(\n",
       "        'mousemove',\n",
       "        on_mouse_event_closure('motion_notify')\n",
       "    );\n",
       "\n",
       "    rubberband_canvas.addEventListener(\n",
       "        'mouseenter',\n",
       "        on_mouse_event_closure('figure_enter')\n",
       "    );\n",
       "    rubberband_canvas.addEventListener(\n",
       "        'mouseleave',\n",
       "        on_mouse_event_closure('figure_leave')\n",
       "    );\n",
       "\n",
       "    canvas_div.addEventListener('wheel', function (event) {\n",
       "        if (event.deltaY < 0) {\n",
       "            event.step = 1;\n",
       "        } else {\n",
       "            event.step = -1;\n",
       "        }\n",
       "        on_mouse_event_closure('scroll')(event);\n",
       "    });\n",
       "\n",
       "    canvas_div.appendChild(canvas);\n",
       "    canvas_div.appendChild(rubberband_canvas);\n",
       "\n",
       "    this.rubberband_context = rubberband_canvas.getContext('2d');\n",
       "    this.rubberband_context.strokeStyle = '#000000';\n",
       "\n",
       "    this._resize_canvas = function (width, height, forward) {\n",
       "        if (forward) {\n",
       "            canvas_div.style.width = width + 'px';\n",
       "            canvas_div.style.height = height + 'px';\n",
       "        }\n",
       "    };\n",
       "\n",
       "    // Disable right mouse context menu.\n",
       "    this.rubberband_canvas.addEventListener('contextmenu', function (_e) {\n",
       "        event.preventDefault();\n",
       "        return false;\n",
       "    });\n",
       "\n",
       "    function set_focus() {\n",
       "        canvas.focus();\n",
       "        canvas_div.focus();\n",
       "    }\n",
       "\n",
       "    window.setTimeout(set_focus, 100);\n",
       "};\n",
       "\n",
       "mpl.figure.prototype._init_toolbar = function () {\n",
       "    var fig = this;\n",
       "\n",
       "    var toolbar = document.createElement('div');\n",
       "    toolbar.classList = 'mpl-toolbar';\n",
       "    this.root.appendChild(toolbar);\n",
       "\n",
       "    function on_click_closure(name) {\n",
       "        return function (_event) {\n",
       "            return fig.toolbar_button_onclick(name);\n",
       "        };\n",
       "    }\n",
       "\n",
       "    function on_mouseover_closure(tooltip) {\n",
       "        return function (event) {\n",
       "            if (!event.currentTarget.disabled) {\n",
       "                return fig.toolbar_button_onmouseover(tooltip);\n",
       "            }\n",
       "        };\n",
       "    }\n",
       "\n",
       "    fig.buttons = {};\n",
       "    var buttonGroup = document.createElement('div');\n",
       "    buttonGroup.classList = 'mpl-button-group';\n",
       "    for (var toolbar_ind in mpl.toolbar_items) {\n",
       "        var name = mpl.toolbar_items[toolbar_ind][0];\n",
       "        var tooltip = mpl.toolbar_items[toolbar_ind][1];\n",
       "        var image = mpl.toolbar_items[toolbar_ind][2];\n",
       "        var method_name = mpl.toolbar_items[toolbar_ind][3];\n",
       "\n",
       "        if (!name) {\n",
       "            /* Instead of a spacer, we start a new button group. */\n",
       "            if (buttonGroup.hasChildNodes()) {\n",
       "                toolbar.appendChild(buttonGroup);\n",
       "            }\n",
       "            buttonGroup = document.createElement('div');\n",
       "            buttonGroup.classList = 'mpl-button-group';\n",
       "            continue;\n",
       "        }\n",
       "\n",
       "        var button = (fig.buttons[name] = document.createElement('button'));\n",
       "        button.classList = 'mpl-widget';\n",
       "        button.setAttribute('role', 'button');\n",
       "        button.setAttribute('aria-disabled', 'false');\n",
       "        button.addEventListener('click', on_click_closure(method_name));\n",
       "        button.addEventListener('mouseover', on_mouseover_closure(tooltip));\n",
       "\n",
       "        var icon_img = document.createElement('img');\n",
       "        icon_img.src = '_images/' + image + '.png';\n",
       "        icon_img.srcset = '_images/' + image + '_large.png 2x';\n",
       "        icon_img.alt = tooltip;\n",
       "        button.appendChild(icon_img);\n",
       "\n",
       "        buttonGroup.appendChild(button);\n",
       "    }\n",
       "\n",
       "    if (buttonGroup.hasChildNodes()) {\n",
       "        toolbar.appendChild(buttonGroup);\n",
       "    }\n",
       "\n",
       "    var fmt_picker = document.createElement('select');\n",
       "    fmt_picker.classList = 'mpl-widget';\n",
       "    toolbar.appendChild(fmt_picker);\n",
       "    this.format_dropdown = fmt_picker;\n",
       "\n",
       "    for (var ind in mpl.extensions) {\n",
       "        var fmt = mpl.extensions[ind];\n",
       "        var option = document.createElement('option');\n",
       "        option.selected = fmt === mpl.default_extension;\n",
       "        option.innerHTML = fmt;\n",
       "        fmt_picker.appendChild(option);\n",
       "    }\n",
       "\n",
       "    var status_bar = document.createElement('span');\n",
       "    status_bar.classList = 'mpl-message';\n",
       "    toolbar.appendChild(status_bar);\n",
       "    this.message = status_bar;\n",
       "};\n",
       "\n",
       "mpl.figure.prototype.request_resize = function (x_pixels, y_pixels) {\n",
       "    // Request matplotlib to resize the figure. Matplotlib will then trigger a resize in the client,\n",
       "    // which will in turn request a refresh of the image.\n",
       "    this.send_message('resize', { width: x_pixels, height: y_pixels });\n",
       "};\n",
       "\n",
       "mpl.figure.prototype.send_message = function (type, properties) {\n",
       "    properties['type'] = type;\n",
       "    properties['figure_id'] = this.id;\n",
       "    this.ws.send(JSON.stringify(properties));\n",
       "};\n",
       "\n",
       "mpl.figure.prototype.send_draw_message = function () {\n",
       "    if (!this.waiting) {\n",
       "        this.waiting = true;\n",
       "        this.ws.send(JSON.stringify({ type: 'draw', figure_id: this.id }));\n",
       "    }\n",
       "};\n",
       "\n",
       "mpl.figure.prototype.handle_save = function (fig, _msg) {\n",
       "    var format_dropdown = fig.format_dropdown;\n",
       "    var format = format_dropdown.options[format_dropdown.selectedIndex].value;\n",
       "    fig.ondownload(fig, format);\n",
       "};\n",
       "\n",
       "mpl.figure.prototype.handle_resize = function (fig, msg) {\n",
       "    var size = msg['size'];\n",
       "    if (size[0] !== fig.canvas.width || size[1] !== fig.canvas.height) {\n",
       "        fig._resize_canvas(size[0], size[1], msg['forward']);\n",
       "        fig.send_message('refresh', {});\n",
       "    }\n",
       "};\n",
       "\n",
       "mpl.figure.prototype.handle_rubberband = function (fig, msg) {\n",
       "    var x0 = msg['x0'] / fig.ratio;\n",
       "    var y0 = (fig.canvas.height - msg['y0']) / fig.ratio;\n",
       "    var x1 = msg['x1'] / fig.ratio;\n",
       "    var y1 = (fig.canvas.height - msg['y1']) / fig.ratio;\n",
       "    x0 = Math.floor(x0) + 0.5;\n",
       "    y0 = Math.floor(y0) + 0.5;\n",
       "    x1 = Math.floor(x1) + 0.5;\n",
       "    y1 = Math.floor(y1) + 0.5;\n",
       "    var min_x = Math.min(x0, x1);\n",
       "    var min_y = Math.min(y0, y1);\n",
       "    var width = Math.abs(x1 - x0);\n",
       "    var height = Math.abs(y1 - y0);\n",
       "\n",
       "    fig.rubberband_context.clearRect(\n",
       "        0,\n",
       "        0,\n",
       "        fig.canvas.width / fig.ratio,\n",
       "        fig.canvas.height / fig.ratio\n",
       "    );\n",
       "\n",
       "    fig.rubberband_context.strokeRect(min_x, min_y, width, height);\n",
       "};\n",
       "\n",
       "mpl.figure.prototype.handle_figure_label = function (fig, msg) {\n",
       "    // Updates the figure title.\n",
       "    fig.header.textContent = msg['label'];\n",
       "};\n",
       "\n",
       "mpl.figure.prototype.handle_cursor = function (fig, msg) {\n",
       "    fig.rubberband_canvas.style.cursor = msg['cursor'];\n",
       "};\n",
       "\n",
       "mpl.figure.prototype.handle_message = function (fig, msg) {\n",
       "    fig.message.textContent = msg['message'];\n",
       "};\n",
       "\n",
       "mpl.figure.prototype.handle_draw = function (fig, _msg) {\n",
       "    // Request the server to send over a new figure.\n",
       "    fig.send_draw_message();\n",
       "};\n",
       "\n",
       "mpl.figure.prototype.handle_image_mode = function (fig, msg) {\n",
       "    fig.image_mode = msg['mode'];\n",
       "};\n",
       "\n",
       "mpl.figure.prototype.handle_history_buttons = function (fig, msg) {\n",
       "    for (var key in msg) {\n",
       "        if (!(key in fig.buttons)) {\n",
       "            continue;\n",
       "        }\n",
       "        fig.buttons[key].disabled = !msg[key];\n",
       "        fig.buttons[key].setAttribute('aria-disabled', !msg[key]);\n",
       "    }\n",
       "};\n",
       "\n",
       "mpl.figure.prototype.handle_navigate_mode = function (fig, msg) {\n",
       "    if (msg['mode'] === 'PAN') {\n",
       "        fig.buttons['Pan'].classList.add('active');\n",
       "        fig.buttons['Zoom'].classList.remove('active');\n",
       "    } else if (msg['mode'] === 'ZOOM') {\n",
       "        fig.buttons['Pan'].classList.remove('active');\n",
       "        fig.buttons['Zoom'].classList.add('active');\n",
       "    } else {\n",
       "        fig.buttons['Pan'].classList.remove('active');\n",
       "        fig.buttons['Zoom'].classList.remove('active');\n",
       "    }\n",
       "};\n",
       "\n",
       "mpl.figure.prototype.updated_canvas_event = function () {\n",
       "    // Called whenever the canvas gets updated.\n",
       "    this.send_message('ack', {});\n",
       "};\n",
       "\n",
       "// A function to construct a web socket function for onmessage handling.\n",
       "// Called in the figure constructor.\n",
       "mpl.figure.prototype._make_on_message_function = function (fig) {\n",
       "    return function socket_on_message(evt) {\n",
       "        if (evt.data instanceof Blob) {\n",
       "            var img = evt.data;\n",
       "            if (img.type !== 'image/png') {\n",
       "                /* FIXME: We get \"Resource interpreted as Image but\n",
       "                 * transferred with MIME type text/plain:\" errors on\n",
       "                 * Chrome.  But how to set the MIME type?  It doesn't seem\n",
       "                 * to be part of the websocket stream */\n",
       "                img.type = 'image/png';\n",
       "            }\n",
       "\n",
       "            /* Free the memory for the previous frames */\n",
       "            if (fig.imageObj.src) {\n",
       "                (window.URL || window.webkitURL).revokeObjectURL(\n",
       "                    fig.imageObj.src\n",
       "                );\n",
       "            }\n",
       "\n",
       "            fig.imageObj.src = (window.URL || window.webkitURL).createObjectURL(\n",
       "                img\n",
       "            );\n",
       "            fig.updated_canvas_event();\n",
       "            fig.waiting = false;\n",
       "            return;\n",
       "        } else if (\n",
       "            typeof evt.data === 'string' &&\n",
       "            evt.data.slice(0, 21) === 'data:image/png;base64'\n",
       "        ) {\n",
       "            fig.imageObj.src = evt.data;\n",
       "            fig.updated_canvas_event();\n",
       "            fig.waiting = false;\n",
       "            return;\n",
       "        }\n",
       "\n",
       "        var msg = JSON.parse(evt.data);\n",
       "        var msg_type = msg['type'];\n",
       "\n",
       "        // Call the  \"handle_{type}\" callback, which takes\n",
       "        // the figure and JSON message as its only arguments.\n",
       "        try {\n",
       "            var callback = fig['handle_' + msg_type];\n",
       "        } catch (e) {\n",
       "            console.log(\n",
       "                \"No handler for the '\" + msg_type + \"' message type: \",\n",
       "                msg\n",
       "            );\n",
       "            return;\n",
       "        }\n",
       "\n",
       "        if (callback) {\n",
       "            try {\n",
       "                // console.log(\"Handling '\" + msg_type + \"' message: \", msg);\n",
       "                callback(fig, msg);\n",
       "            } catch (e) {\n",
       "                console.log(\n",
       "                    \"Exception inside the 'handler_\" + msg_type + \"' callback:\",\n",
       "                    e,\n",
       "                    e.stack,\n",
       "                    msg\n",
       "                );\n",
       "            }\n",
       "        }\n",
       "    };\n",
       "};\n",
       "\n",
       "// from https://stackoverflow.com/questions/1114465/getting-mouse-location-in-canvas\n",
       "mpl.findpos = function (e) {\n",
       "    //this section is from http://www.quirksmode.org/js/events_properties.html\n",
       "    var targ;\n",
       "    if (!e) {\n",
       "        e = window.event;\n",
       "    }\n",
       "    if (e.target) {\n",
       "        targ = e.target;\n",
       "    } else if (e.srcElement) {\n",
       "        targ = e.srcElement;\n",
       "    }\n",
       "    if (targ.nodeType === 3) {\n",
       "        // defeat Safari bug\n",
       "        targ = targ.parentNode;\n",
       "    }\n",
       "\n",
       "    // pageX,Y are the mouse positions relative to the document\n",
       "    var boundingRect = targ.getBoundingClientRect();\n",
       "    var x = e.pageX - (boundingRect.left + document.body.scrollLeft);\n",
       "    var y = e.pageY - (boundingRect.top + document.body.scrollTop);\n",
       "\n",
       "    return { x: x, y: y };\n",
       "};\n",
       "\n",
       "/*\n",
       " * return a copy of an object with only non-object keys\n",
       " * we need this to avoid circular references\n",
       " * https://stackoverflow.com/a/24161582/3208463\n",
       " */\n",
       "function simpleKeys(original) {\n",
       "    return Object.keys(original).reduce(function (obj, key) {\n",
       "        if (typeof original[key] !== 'object') {\n",
       "            obj[key] = original[key];\n",
       "        }\n",
       "        return obj;\n",
       "    }, {});\n",
       "}\n",
       "\n",
       "mpl.figure.prototype.mouse_event = function (event, name) {\n",
       "    var canvas_pos = mpl.findpos(event);\n",
       "\n",
       "    if (name === 'button_press') {\n",
       "        this.canvas.focus();\n",
       "        this.canvas_div.focus();\n",
       "    }\n",
       "\n",
       "    var x = canvas_pos.x * this.ratio;\n",
       "    var y = canvas_pos.y * this.ratio;\n",
       "\n",
       "    this.send_message(name, {\n",
       "        x: x,\n",
       "        y: y,\n",
       "        button: event.button,\n",
       "        step: event.step,\n",
       "        guiEvent: simpleKeys(event),\n",
       "    });\n",
       "\n",
       "    /* This prevents the web browser from automatically changing to\n",
       "     * the text insertion cursor when the button is pressed.  We want\n",
       "     * to control all of the cursor setting manually through the\n",
       "     * 'cursor' event from matplotlib */\n",
       "    event.preventDefault();\n",
       "    return false;\n",
       "};\n",
       "\n",
       "mpl.figure.prototype._key_event_extra = function (_event, _name) {\n",
       "    // Handle any extra behaviour associated with a key event\n",
       "};\n",
       "\n",
       "mpl.figure.prototype.key_event = function (event, name) {\n",
       "    // Prevent repeat events\n",
       "    if (name === 'key_press') {\n",
       "        if (event.key === this._key) {\n",
       "            return;\n",
       "        } else {\n",
       "            this._key = event.key;\n",
       "        }\n",
       "    }\n",
       "    if (name === 'key_release') {\n",
       "        this._key = null;\n",
       "    }\n",
       "\n",
       "    var value = '';\n",
       "    if (event.ctrlKey && event.key !== 'Control') {\n",
       "        value += 'ctrl+';\n",
       "    }\n",
       "    else if (event.altKey && event.key !== 'Alt') {\n",
       "        value += 'alt+';\n",
       "    }\n",
       "    else if (event.shiftKey && event.key !== 'Shift') {\n",
       "        value += 'shift+';\n",
       "    }\n",
       "\n",
       "    value += 'k' + event.key;\n",
       "\n",
       "    this._key_event_extra(event, name);\n",
       "\n",
       "    this.send_message(name, { key: value, guiEvent: simpleKeys(event) });\n",
       "    return false;\n",
       "};\n",
       "\n",
       "mpl.figure.prototype.toolbar_button_onclick = function (name) {\n",
       "    if (name === 'download') {\n",
       "        this.handle_save(this, null);\n",
       "    } else {\n",
       "        this.send_message('toolbar_button', { name: name });\n",
       "    }\n",
       "};\n",
       "\n",
       "mpl.figure.prototype.toolbar_button_onmouseover = function (tooltip) {\n",
       "    this.message.textContent = tooltip;\n",
       "};\n",
       "\n",
       "///////////////// REMAINING CONTENT GENERATED BY embed_js.py /////////////////\n",
       "// prettier-ignore\n",
       "var _JSXTOOLS_RESIZE_OBSERVER=function(A){var t,i=new WeakMap,n=new WeakMap,a=new WeakMap,r=new WeakMap,o=new Set;function s(e){if(!(this instanceof s))throw new TypeError(\"Constructor requires 'new' operator\");i.set(this,e)}function h(){throw new TypeError(\"Function is not a constructor\")}function c(e,t,i,n){e=0 in arguments?Number(arguments[0]):0,t=1 in arguments?Number(arguments[1]):0,i=2 in arguments?Number(arguments[2]):0,n=3 in arguments?Number(arguments[3]):0,this.right=(this.x=this.left=e)+(this.width=i),this.bottom=(this.y=this.top=t)+(this.height=n),Object.freeze(this)}function d(){t=requestAnimationFrame(d);var s=new WeakMap,p=new Set;o.forEach((function(t){r.get(t).forEach((function(i){var r=t instanceof window.SVGElement,o=a.get(t),d=r?0:parseFloat(o.paddingTop),f=r?0:parseFloat(o.paddingRight),l=r?0:parseFloat(o.paddingBottom),u=r?0:parseFloat(o.paddingLeft),g=r?0:parseFloat(o.borderTopWidth),m=r?0:parseFloat(o.borderRightWidth),w=r?0:parseFloat(o.borderBottomWidth),b=u+f,F=d+l,v=(r?0:parseFloat(o.borderLeftWidth))+m,W=g+w,y=r?0:t.offsetHeight-W-t.clientHeight,E=r?0:t.offsetWidth-v-t.clientWidth,R=b+v,z=F+W,M=r?t.width:parseFloat(o.width)-R-E,O=r?t.height:parseFloat(o.height)-z-y;if(n.has(t)){var k=n.get(t);if(k[0]===M&&k[1]===O)return}n.set(t,[M,O]);var S=Object.create(h.prototype);S.target=t,S.contentRect=new c(u,d,M,O),s.has(i)||(s.set(i,[]),p.add(i)),s.get(i).push(S)}))})),p.forEach((function(e){i.get(e).call(e,s.get(e),e)}))}return s.prototype.observe=function(i){if(i instanceof window.Element){r.has(i)||(r.set(i,new Set),o.add(i),a.set(i,window.getComputedStyle(i)));var n=r.get(i);n.has(this)||n.add(this),cancelAnimationFrame(t),t=requestAnimationFrame(d)}},s.prototype.unobserve=function(i){if(i instanceof window.Element&&r.has(i)){var n=r.get(i);n.has(this)&&(n.delete(this),n.size||(r.delete(i),o.delete(i))),n.size||r.delete(i),o.size||cancelAnimationFrame(t)}},A.DOMRectReadOnly=c,A.ResizeObserver=s,A.ResizeObserverEntry=h,A}; // eslint-disable-line\n",
       "mpl.toolbar_items = [[\"Home\", \"Reset original view\", \"fa fa-home icon-home\", \"home\"], [\"Back\", \"Back to previous view\", \"fa fa-arrow-left icon-arrow-left\", \"back\"], [\"Forward\", \"Forward to next view\", \"fa fa-arrow-right icon-arrow-right\", \"forward\"], [\"\", \"\", \"\", \"\"], [\"Pan\", \"Left button pans, Right button zooms\\nx/y fixes axis, CTRL fixes aspect\", \"fa fa-arrows icon-move\", \"pan\"], [\"Zoom\", \"Zoom to rectangle\\nx/y fixes axis\", \"fa fa-square-o icon-check-empty\", \"zoom\"], [\"\", \"\", \"\", \"\"], [\"Download\", \"Download plot\", \"fa fa-floppy-o icon-save\", \"download\"]];\n",
       "\n",
       "mpl.extensions = [\"eps\", \"jpeg\", \"pgf\", \"pdf\", \"png\", \"ps\", \"raw\", \"svg\", \"tif\"];\n",
       "\n",
       "mpl.default_extension = \"png\";/* global mpl */\n",
       "\n",
       "var comm_websocket_adapter = function (comm) {\n",
       "    // Create a \"websocket\"-like object which calls the given IPython comm\n",
       "    // object with the appropriate methods. Currently this is a non binary\n",
       "    // socket, so there is still some room for performance tuning.\n",
       "    var ws = {};\n",
       "\n",
       "    ws.binaryType = comm.kernel.ws.binaryType;\n",
       "    ws.readyState = comm.kernel.ws.readyState;\n",
       "    function updateReadyState(_event) {\n",
       "        if (comm.kernel.ws) {\n",
       "            ws.readyState = comm.kernel.ws.readyState;\n",
       "        } else {\n",
       "            ws.readyState = 3; // Closed state.\n",
       "        }\n",
       "    }\n",
       "    comm.kernel.ws.addEventListener('open', updateReadyState);\n",
       "    comm.kernel.ws.addEventListener('close', updateReadyState);\n",
       "    comm.kernel.ws.addEventListener('error', updateReadyState);\n",
       "\n",
       "    ws.close = function () {\n",
       "        comm.close();\n",
       "    };\n",
       "    ws.send = function (m) {\n",
       "        //console.log('sending', m);\n",
       "        comm.send(m);\n",
       "    };\n",
       "    // Register the callback with on_msg.\n",
       "    comm.on_msg(function (msg) {\n",
       "        //console.log('receiving', msg['content']['data'], msg);\n",
       "        var data = msg['content']['data'];\n",
       "        if (data['blob'] !== undefined) {\n",
       "            data = {\n",
       "                data: new Blob(msg['buffers'], { type: data['blob'] }),\n",
       "            };\n",
       "        }\n",
       "        // Pass the mpl event to the overridden (by mpl) onmessage function.\n",
       "        ws.onmessage(data);\n",
       "    });\n",
       "    return ws;\n",
       "};\n",
       "\n",
       "mpl.mpl_figure_comm = function (comm, msg) {\n",
       "    // This is the function which gets called when the mpl process\n",
       "    // starts-up an IPython Comm through the \"matplotlib\" channel.\n",
       "\n",
       "    var id = msg.content.data.id;\n",
       "    // Get hold of the div created by the display call when the Comm\n",
       "    // socket was opened in Python.\n",
       "    var element = document.getElementById(id);\n",
       "    var ws_proxy = comm_websocket_adapter(comm);\n",
       "\n",
       "    function ondownload(figure, _format) {\n",
       "        window.open(figure.canvas.toDataURL());\n",
       "    }\n",
       "\n",
       "    var fig = new mpl.figure(id, ws_proxy, ondownload, element);\n",
       "\n",
       "    // Call onopen now - mpl needs it, as it is assuming we've passed it a real\n",
       "    // web socket which is closed, not our websocket->open comm proxy.\n",
       "    ws_proxy.onopen();\n",
       "\n",
       "    fig.parent_element = element;\n",
       "    fig.cell_info = mpl.find_output_cell(\"<div id='\" + id + \"'></div>\");\n",
       "    if (!fig.cell_info) {\n",
       "        console.error('Failed to find cell for figure', id, fig);\n",
       "        return;\n",
       "    }\n",
       "    fig.cell_info[0].output_area.element.on(\n",
       "        'cleared',\n",
       "        { fig: fig },\n",
       "        fig._remove_fig_handler\n",
       "    );\n",
       "};\n",
       "\n",
       "mpl.figure.prototype.handle_close = function (fig, msg) {\n",
       "    var width = fig.canvas.width / fig.ratio;\n",
       "    fig.cell_info[0].output_area.element.off(\n",
       "        'cleared',\n",
       "        fig._remove_fig_handler\n",
       "    );\n",
       "    fig.resizeObserverInstance.unobserve(fig.canvas_div);\n",
       "\n",
       "    // Update the output cell to use the data from the current canvas.\n",
       "    fig.push_to_output();\n",
       "    var dataURL = fig.canvas.toDataURL();\n",
       "    // Re-enable the keyboard manager in IPython - without this line, in FF,\n",
       "    // the notebook keyboard shortcuts fail.\n",
       "    IPython.keyboard_manager.enable();\n",
       "    fig.parent_element.innerHTML =\n",
       "        '<img src=\"' + dataURL + '\" width=\"' + width + '\">';\n",
       "    fig.close_ws(fig, msg);\n",
       "};\n",
       "\n",
       "mpl.figure.prototype.close_ws = function (fig, msg) {\n",
       "    fig.send_message('closing', msg);\n",
       "    // fig.ws.close()\n",
       "};\n",
       "\n",
       "mpl.figure.prototype.push_to_output = function (_remove_interactive) {\n",
       "    // Turn the data on the canvas into data in the output cell.\n",
       "    var width = this.canvas.width / this.ratio;\n",
       "    var dataURL = this.canvas.toDataURL();\n",
       "    this.cell_info[1]['text/html'] =\n",
       "        '<img src=\"' + dataURL + '\" width=\"' + width + '\">';\n",
       "};\n",
       "\n",
       "mpl.figure.prototype.updated_canvas_event = function () {\n",
       "    // Tell IPython that the notebook contents must change.\n",
       "    IPython.notebook.set_dirty(true);\n",
       "    this.send_message('ack', {});\n",
       "    var fig = this;\n",
       "    // Wait a second, then push the new image to the DOM so\n",
       "    // that it is saved nicely (might be nice to debounce this).\n",
       "    setTimeout(function () {\n",
       "        fig.push_to_output();\n",
       "    }, 1000);\n",
       "};\n",
       "\n",
       "mpl.figure.prototype._init_toolbar = function () {\n",
       "    var fig = this;\n",
       "\n",
       "    var toolbar = document.createElement('div');\n",
       "    toolbar.classList = 'btn-toolbar';\n",
       "    this.root.appendChild(toolbar);\n",
       "\n",
       "    function on_click_closure(name) {\n",
       "        return function (_event) {\n",
       "            return fig.toolbar_button_onclick(name);\n",
       "        };\n",
       "    }\n",
       "\n",
       "    function on_mouseover_closure(tooltip) {\n",
       "        return function (event) {\n",
       "            if (!event.currentTarget.disabled) {\n",
       "                return fig.toolbar_button_onmouseover(tooltip);\n",
       "            }\n",
       "        };\n",
       "    }\n",
       "\n",
       "    fig.buttons = {};\n",
       "    var buttonGroup = document.createElement('div');\n",
       "    buttonGroup.classList = 'btn-group';\n",
       "    var button;\n",
       "    for (var toolbar_ind in mpl.toolbar_items) {\n",
       "        var name = mpl.toolbar_items[toolbar_ind][0];\n",
       "        var tooltip = mpl.toolbar_items[toolbar_ind][1];\n",
       "        var image = mpl.toolbar_items[toolbar_ind][2];\n",
       "        var method_name = mpl.toolbar_items[toolbar_ind][3];\n",
       "\n",
       "        if (!name) {\n",
       "            /* Instead of a spacer, we start a new button group. */\n",
       "            if (buttonGroup.hasChildNodes()) {\n",
       "                toolbar.appendChild(buttonGroup);\n",
       "            }\n",
       "            buttonGroup = document.createElement('div');\n",
       "            buttonGroup.classList = 'btn-group';\n",
       "            continue;\n",
       "        }\n",
       "\n",
       "        button = fig.buttons[name] = document.createElement('button');\n",
       "        button.classList = 'btn btn-default';\n",
       "        button.href = '#';\n",
       "        button.title = name;\n",
       "        button.innerHTML = '<i class=\"fa ' + image + ' fa-lg\"></i>';\n",
       "        button.addEventListener('click', on_click_closure(method_name));\n",
       "        button.addEventListener('mouseover', on_mouseover_closure(tooltip));\n",
       "        buttonGroup.appendChild(button);\n",
       "    }\n",
       "\n",
       "    if (buttonGroup.hasChildNodes()) {\n",
       "        toolbar.appendChild(buttonGroup);\n",
       "    }\n",
       "\n",
       "    // Add the status bar.\n",
       "    var status_bar = document.createElement('span');\n",
       "    status_bar.classList = 'mpl-message pull-right';\n",
       "    toolbar.appendChild(status_bar);\n",
       "    this.message = status_bar;\n",
       "\n",
       "    // Add the close button to the window.\n",
       "    var buttongrp = document.createElement('div');\n",
       "    buttongrp.classList = 'btn-group inline pull-right';\n",
       "    button = document.createElement('button');\n",
       "    button.classList = 'btn btn-mini btn-primary';\n",
       "    button.href = '#';\n",
       "    button.title = 'Stop Interaction';\n",
       "    button.innerHTML = '<i class=\"fa fa-power-off icon-remove icon-large\"></i>';\n",
       "    button.addEventListener('click', function (_evt) {\n",
       "        fig.handle_close(fig, {});\n",
       "    });\n",
       "    button.addEventListener(\n",
       "        'mouseover',\n",
       "        on_mouseover_closure('Stop Interaction')\n",
       "    );\n",
       "    buttongrp.appendChild(button);\n",
       "    var titlebar = this.root.querySelector('.ui-dialog-titlebar');\n",
       "    titlebar.insertBefore(buttongrp, titlebar.firstChild);\n",
       "};\n",
       "\n",
       "mpl.figure.prototype._remove_fig_handler = function (event) {\n",
       "    var fig = event.data.fig;\n",
       "    if (event.target !== this) {\n",
       "        // Ignore bubbled events from children.\n",
       "        return;\n",
       "    }\n",
       "    fig.close_ws(fig, {});\n",
       "};\n",
       "\n",
       "mpl.figure.prototype._root_extra_style = function (el) {\n",
       "    el.style.boxSizing = 'content-box'; // override notebook setting of border-box.\n",
       "};\n",
       "\n",
       "mpl.figure.prototype._canvas_extra_style = function (el) {\n",
       "    // this is important to make the div 'focusable\n",
       "    el.setAttribute('tabindex', 0);\n",
       "    // reach out to IPython and tell the keyboard manager to turn it's self\n",
       "    // off when our div gets focus\n",
       "\n",
       "    // location in version 3\n",
       "    if (IPython.notebook.keyboard_manager) {\n",
       "        IPython.notebook.keyboard_manager.register_events(el);\n",
       "    } else {\n",
       "        // location in version 2\n",
       "        IPython.keyboard_manager.register_events(el);\n",
       "    }\n",
       "};\n",
       "\n",
       "mpl.figure.prototype._key_event_extra = function (event, _name) {\n",
       "    // Check for shift+enter\n",
       "    if (event.shiftKey && event.which === 13) {\n",
       "        this.canvas_div.blur();\n",
       "        // select the cell after this one\n",
       "        var index = IPython.notebook.find_cell_index(this.cell_info[0]);\n",
       "        IPython.notebook.select(index + 1);\n",
       "    }\n",
       "};\n",
       "\n",
       "mpl.figure.prototype.handle_save = function (fig, _msg) {\n",
       "    fig.ondownload(fig, null);\n",
       "};\n",
       "\n",
       "mpl.find_output_cell = function (html_output) {\n",
       "    // Return the cell and output element which can be found *uniquely* in the notebook.\n",
       "    // Note - this is a bit hacky, but it is done because the \"notebook_saving.Notebook\"\n",
       "    // IPython event is triggered only after the cells have been serialised, which for\n",
       "    // our purposes (turning an active figure into a static one), is too late.\n",
       "    var cells = IPython.notebook.get_cells();\n",
       "    var ncells = cells.length;\n",
       "    for (var i = 0; i < ncells; i++) {\n",
       "        var cell = cells[i];\n",
       "        if (cell.cell_type === 'code') {\n",
       "            for (var j = 0; j < cell.output_area.outputs.length; j++) {\n",
       "                var data = cell.output_area.outputs[j];\n",
       "                if (data.data) {\n",
       "                    // IPython >= 3 moved mimebundle to data attribute of output\n",
       "                    data = data.data;\n",
       "                }\n",
       "                if (data['text/html'] === html_output) {\n",
       "                    return [cell, data, j];\n",
       "                }\n",
       "            }\n",
       "        }\n",
       "    }\n",
       "};\n",
       "\n",
       "// Register the function which deals with the matplotlib target/channel.\n",
       "// The kernel may be null if the page has been refreshed.\n",
       "if (IPython.notebook.kernel !== null) {\n",
       "    IPython.notebook.kernel.comm_manager.register_target(\n",
       "        'matplotlib',\n",
       "        mpl.mpl_figure_comm\n",
       "    );\n",
       "}\n"
      ],
      "text/plain": [
       "<IPython.core.display.Javascript object>"
      ]
     },
     "metadata": {},
     "output_type": "display_data"
    },
    {
     "data": {
      "text/html": [
       "<img src=\"data:image/png;base64,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\" width=\"872.7272538114189\">"
      ],
      "text/plain": [
       "<IPython.core.display.HTML object>"
      ]
     },
     "metadata": {},
     "output_type": "display_data"
    }
   ],
   "source": [
    "\n",
    "fig = plt.figure(figsize=(12,6))\n",
    "ax = fig.add_subplot(121, projection='3d')\n",
    "\n",
    "\n",
    "\n",
    "ax.set_xlim(-5,5)\n",
    "ax.set_ylim(-5,5)\n",
    "ax.set_zlim(-10,10)\n",
    "ax.quiver((0,),(0,),(0,),(1,),(-4,),(2,), color='red', length=1)\n",
    "ax.quiver((0,),(0,),(0,),(-2,),(1,),(3,), color='green', length=1)\n",
    "ax.quiver((0,),(0,),(0,),(2,),(6,),(-10,), color='blue', length=1)\n",
    "\n",
    "plt.show()\n"
   ]
  },
  {
   "cell_type": "markdown",
   "id": "406ee4b5",
   "metadata": {
    "slideshow": {
     "slide_type": "slide"
    }
   },
   "source": [
    "- the invertable matrix has rank 3\n",
    "- the non-invertable matrix has rank 2\n",
    "\n",
    "### Fact: \n",
    "\n",
    "The rank of a matrix equals the number of pivots in its row echelon form, which is equal to the number of pivots in its reduced row echelon form."
   ]
  },
  {
   "cell_type": "markdown",
   "id": "26cb6485",
   "metadata": {
    "slideshow": {
     "slide_type": "slide"
    }
   },
   "source": [
    "- rank-3 matrix:\n",
    "\n",
    "$$\n",
    "\\begin{aligned}\n",
    "A &= \n",
    "\\begin{bmatrix}\n",
    "1 & -4 & 2\\\\\n",
    "-2 & 1 & 3\\\\\n",
    "2 & 6 & 8\n",
    "\\end{bmatrix}\n",
    "\\end{aligned}\n",
    "$$"
   ]
  },
  {
   "cell_type": "markdown",
   "id": "844bbedb",
   "metadata": {
    "slideshow": {
     "slide_type": "-"
    }
   },
   "source": [
    "- row echelon form:\n",
    "\n",
    "$$\n",
    "\\left[\\begin{array}{r}\n",
    "1 & -4 & 2\\\\\n",
    "-2 & 1 & 3\\\\\n",
    "2 & 6 & 8\n",
    "\\end{array}\\right]\\\\\n",
    "\\left[\\begin{array}{r}\n",
    "1 & -4 & 2\\\\\n",
    "0 & -7 & 7\\\\\n",
    "0 & 14 & 4\n",
    "\\end{array}\\right]\\\\\n",
    "\\left[\\begin{array}{r}\n",
    "1 & -4 & 2\\\\\n",
    "0 & -7 & 7\\\\\n",
    "0 & 0 & 28\n",
    "\\end{array}\\right]\\\\\n",
    "$$\n",
    "\n",
    "The row echelon form has 3 pivots, so $A$ has rank 3.\n"
   ]
  },
  {
   "cell_type": "markdown",
   "id": "b187326b",
   "metadata": {
    "slideshow": {
     "slide_type": "slide"
    }
   },
   "source": [
    "\n",
    "\n",
    "$$\n",
    "\\left[\\begin{array}{r}\n",
    "1 & -4 & 0\\\\\n",
    "0 & -7 &0\\\\\n",
    "0 & 0 & 28\n",
    "\\end{array}\\right]\\\\\n",
    "\\left[\\begin{array}{r}\n",
    "1 & 0 & 0\\\\\n",
    "0 & -7 &0\\\\\n",
    "0 & 0 & 28\n",
    "\\end{array}\\right]\\\\\n",
    "\\left[\\begin{array}{r}\n",
    "1 & 0 & 0\\\\\n",
    "0 & 1 &0\\\\\n",
    "0 & 0 & 1\n",
    "\\end{array}\\right]\\\\\n",
    "$$\n",
    "\n",
    "The reduced row echolon form also has 3 pivots.\n",
    "(For an invertable matrix, the reduced row echelon form is always the identity matrix.)"
   ]
  },
  {
   "cell_type": "markdown",
   "id": "12b89e7a",
   "metadata": {
    "slideshow": {
     "slide_type": "slide"
    }
   },
   "source": [
    "- rank-2 matrix\n",
    "\n",
    "$$\n",
    "\\begin{aligned}\n",
    "B &= \n",
    "\\begin{bmatrix}\n",
    "1 & -4 & 2\\\\\n",
    "-2 & 1 & 3\\\\\n",
    "2 & 6 & -10\n",
    "\\end{bmatrix}\\\\[1em]\n",
    "\\end{aligned}\n",
    "$$"
   ]
  },
  {
   "cell_type": "markdown",
   "id": "fe230bcd",
   "metadata": {},
   "source": [
    "- row-echelon form\n",
    "\n",
    "$$\n",
    "\\begin{bmatrix}\n",
    "1 & -4 & 2\\\\\n",
    "0 & -7 & 7\\\\\n",
    "0 & 14 & -14\n",
    "\\end{bmatrix}\\\\[1em]\n",
    "\\begin{bmatrix}\n",
    "1 & -4 & 2\\\\\n",
    "0 & -7 & 7\\\\\n",
    "0 & 0 & 0\n",
    "\\end{bmatrix}\\\\[1em]\n",
    "$$\n",
    "\n",
    "The row echelon form has two pivots, hence $B$ has rank 2.\n"
   ]
  },
  {
   "cell_type": "markdown",
   "id": "dcef4646",
   "metadata": {
    "slideshow": {
     "slide_type": "slide"
    }
   },
   "source": [
    "- reduced row echelon form\n",
    "\n",
    "\n",
    "$$\n",
    "\\begin{bmatrix}\n",
    "1 & 0 & -2\\\\\n",
    "0 & -7 & 7\\\\\n",
    "0 & 0 & 0\n",
    "\\end{bmatrix}\\\\[1em]\n",
    "\\begin{bmatrix}\n",
    "1 & 0 & -2\\\\\n",
    "0 & 1 & -1\\\\\n",
    "0 & 0 & 0\n",
    "\\end{bmatrix}\\\\[1em]\n",
    "$$\n",
    "\n",
    "The reduced row echelon form also has 2 pivots."
   ]
  },
  {
   "cell_type": "markdown",
   "id": "3e1ef432",
   "metadata": {
    "slideshow": {
     "slide_type": "slide"
    }
   },
   "source": [
    "## Dimensionality of a vector space\n",
    "\n",
    "### Linear independence of vectors\n",
    "\n",
    "- a vector $\\mathbf b$ is independent from a set of vectors $\\mathbf a_1, \\ldots, \\mathbf a_n$ if and only if there are no real numbers $x_1,\\ldots,x_n$ such that\n",
    "\n",
    "$$\n",
    "x_1\\mathbf a_1 + \\cdots + x_n\\mathbf a_n = \\mathbf b\n",
    "$$\n",
    "\n",
    "- a set of vectors $\\mathbf a_1, \\ldots, \\mathbf a_n$ is linearly independent if and only if each $\\mathbf a_i$ is linearly independent of the other vectors $\\mathbf a_1,\\ldots, \\mathbf a_{i-1},\\mathbf a_{i+1}, \\ldots \\mathbf a_n$.\n",
    "\n",
    "Equivalently, the column vectors of a matrix $A$ are linearly independent if and only if the linear system\n",
    "\n",
    "$$\n",
    "A\\mathbf x = \\mathbf 0\n",
    "$$\n",
    "\n",
    "has as its only solution $\\mathbf x = \\mathbf 0$.\n",
    "\n",
    "(Independence is important, e.g., for linear regression.)"
   ]
  },
  {
   "cell_type": "markdown",
   "id": "bc2ff951",
   "metadata": {
    "slideshow": {
     "slide_type": "slide"
    }
   },
   "source": [
    "#### Examples\n",
    "\n",
    "- $\\begin{bmatrix}1\\\\ 0\\end{bmatrix}$ and $\\begin{bmatrix}0\\\\ 1\\end{bmatrix}$: dependent or independent?\n",
    "\n",
    "\n",
    "- $\\begin{bmatrix}1\\\\ 0\\end{bmatrix}$ and $\\begin{bmatrix}0\\\\ 0.00001\\end{bmatrix}$: dependent or independent?\n",
    "\n",
    "\n",
    "- $\\begin{bmatrix}1\\\\ 1\\end{bmatrix}$ and $\\begin{bmatrix}-1\\\\ -1\\end{bmatrix}$: dependent or independent?\n",
    "\n",
    "\n",
    "- $\\begin{bmatrix}1\\\\ 1\\end{bmatrix}$ and $\\begin{bmatrix}0\\\\ 0\\end{bmatrix}$: dependent or independent?\n",
    "\n",
    "\n",
    "- $\\begin{bmatrix}a\\\\ b\\end{bmatrix}, \\begin{bmatrix}c\\\\ d\\end{bmatrix}$ and $\\begin{bmatrix}e\\\\ f\\end{bmatrix}$: dependent or independent?\n",
    "\n"
   ]
  },
  {
   "cell_type": "code",
   "execution_count": 4,
   "id": "b9243b41",
   "metadata": {
    "slideshow": {
     "slide_type": "slide"
    }
   },
   "outputs": [
    {
     "data": {
      "text/latex": [
       "$\\displaystyle \\left[\\begin{matrix}1 & 0 & 3\\\\2 & 1 & 5\\\\1 & 0 & 3\\end{matrix}\\right]$"
      ],
      "text/plain": [
       "Matrix([\n",
       "[1, 0, 3],\n",
       "[2, 1, 5],\n",
       "[1, 0, 3]])"
      ]
     },
     "execution_count": 4,
     "metadata": {},
     "output_type": "execute_result"
    }
   ],
   "source": [
    "A = Matrix([\n",
    "    [1,0,3],\n",
    "    [2,1,5],\n",
    "    [1,0,3]\n",
    "])\n",
    "A"
   ]
  },
  {
   "cell_type": "markdown",
   "id": "af5df1b1",
   "metadata": {},
   "source": [
    "- are the columns dependent or independent?\n",
    "- what is the rank of $A$?"
   ]
  },
  {
   "cell_type": "code",
   "execution_count": 5,
   "id": "fa0e2f2b",
   "metadata": {},
   "outputs": [
    {
     "data": {
      "text/latex": [
       "$\\displaystyle \\left[\\begin{matrix}-3\\\\1\\\\1\\end{matrix}\\right]$"
      ],
      "text/plain": [
       "Matrix([\n",
       "[-3],\n",
       "[ 1],\n",
       "[ 1]])"
      ]
     },
     "execution_count": 5,
     "metadata": {},
     "output_type": "execute_result"
    }
   ],
   "source": [
    "A.nullspace()[0]"
   ]
  },
  {
   "cell_type": "markdown",
   "id": "489e7269",
   "metadata": {
    "slideshow": {
     "slide_type": "slide"
    }
   },
   "source": [
    "**A little puzzle**\n",
    "\n",
    "A rectangular $m\\times n$ matrix with $m<n$ cannot have independent columns. Why?\n",
    "\n",
    "**Example**"
   ]
  },
  {
   "cell_type": "code",
   "execution_count": 6,
   "id": "4db588de",
   "metadata": {},
   "outputs": [
    {
     "data": {
      "text/latex": [
       "$\\displaystyle \\left[\\begin{matrix}1 & 0 & 1 & 5\\\\0 & 1 & 1 & -3\\\\2 & 1 & -1 & -2\\end{matrix}\\right]$"
      ],
      "text/plain": [
       "Matrix([\n",
       "[1, 0,  1,  5],\n",
       "[0, 1,  1, -3],\n",
       "[2, 1, -1, -2]])"
      ]
     },
     "execution_count": 6,
     "metadata": {},
     "output_type": "execute_result"
    }
   ],
   "source": [
    "B = Matrix([\n",
    "    [1,0,1,5],\n",
    "    [0,1,1,-3],\n",
    "    [2,1,-1,-2]\n",
    "])\n",
    "B"
   ]
  },
  {
   "cell_type": "code",
   "execution_count": 7,
   "id": "8399a115",
   "metadata": {},
   "outputs": [
    {
     "data": {
      "text/latex": [
       "$\\displaystyle \\left[\\begin{matrix}1 & 0 & 0 & \\frac{11}{4}\\\\0 & 1 & 0 & - \\frac{21}{4}\\\\0 & 0 & 1 & \\frac{9}{4}\\end{matrix}\\right]$"
      ],
      "text/plain": [
       "Matrix([\n",
       "[1, 0, 0,  11/4],\n",
       "[0, 1, 0, -21/4],\n",
       "[0, 0, 1,   9/4]])"
      ]
     },
     "execution_count": 7,
     "metadata": {},
     "output_type": "execute_result"
    }
   ],
   "source": [
    "B.rref()[0]"
   ]
  },
  {
   "cell_type": "markdown",
   "id": "e337d83a",
   "metadata": {
    "slideshow": {
     "slide_type": "slide"
    }
   },
   "source": [
    "### Basis of a vector space\n",
    "\n",
    "- the **span** of a set of vectors $\\mathbf a_1,\\ldots, \\mathbf a_n$ is the set of their linear combinations, i.e., the set\n",
    "\n",
    "$$\n",
    "    \\{x_1\\mathbf a_1 + \\cdots x_n\\mathbf a_n|x_1,\\ldots, x_n \\in \\mathbb R\\}\n",
    "$$\n",
    "\n",
    "- the span of a set of vectors is a vector space\n",
    "\n",
    "- a set of vectors $\\mathbf a_1, \\ldots, \\mathbf a_n$ is a **basis of a vector space $S$** if and only if\n",
    "    - $\\mathbf a_1, \\ldots, \\mathbf a_n$ are linearly independent, and\n",
    "    - the span of $\\mathbf a_1, \\ldots, \\mathbf a_n$ is $S$."
   ]
  },
  {
   "cell_type": "markdown",
   "id": "4f379837",
   "metadata": {
    "slideshow": {
     "slide_type": "slide"
    }
   },
   "source": [
    "\n",
    "\n",
    "What is the span of\n",
    "\n",
    "- $\\mathbf v_1 = \\begin{bmatrix}1\\\\0\\end{bmatrix}$ and $\\mathbf v_2 = \\begin{bmatrix}0\\\\1\\end{bmatrix}$,\n",
    "\n",
    "\n",
    "- $\\mathbf v_1 = \\begin{bmatrix}1\\\\0\\end{bmatrix}, \\mathbf v_2 = \\begin{bmatrix}0\\\\1\\end{bmatrix}$, and $\\mathbf v_3 = \\begin{bmatrix}4\\\\7\\end{bmatrix}$,\n",
    "\n",
    "\n",
    "- $\\mathbf w_1 = \\begin{bmatrix}1\\\\1\\end{bmatrix}$ and $\\mathbf w_2 = \\begin{bmatrix} -1\\\\-1\\end{bmatrix}$?\n",
    "\n",
    "Which of these sets of vectors form a basis?"
   ]
  },
  {
   "cell_type": "markdown",
   "id": "physical-rough",
   "metadata": {
    "slideshow": {
     "slide_type": "slide"
    }
   },
   "source": [
    "### Theorem\n",
    "\n",
    "If the columns of $A$ and the columns of $B$ are both a basis for some vector space $S$, then $A$ and $B$ have the same number of columns.\n",
    "\n",
    "#### Proof\n",
    "\n",
    "Let $A$ be an $m\\times n$ matrix and $B$ and $m\\times k$ matrix. Suppose $k<n$\n",
    "\n",
    "Since $B$ is a basis of the column space of $A$, there must be a solution $\\mathbf x_i$\n",
    "$$\n",
    "B\\mathbf x_i = \\mathbf a_i \n",
    "$$\n",
    "\n",
    "for each column vector $\\mathbf a_i$ of $A$. Let \n",
    "\n",
    "$$\n",
    "X = \\begin{bmatrix}\n",
    "\\vdots & \\cdots & \\vdots\\\\\n",
    "\\mathbf x_1 & \\cdots & \\mathbf x_n\\\\\n",
    "\\vdots & \\cdots & \\vdots\\\\\n",
    "\\end{bmatrix}\n",
    "$$\n",
    "i.e., $X$ is the matrix with $\\mathbf x_1,\\ldots, \\mathbf x_n$ as column vectors. It has the format $k\\times n$.\n",
    "\n"
   ]
  },
  {
   "cell_type": "markdown",
   "id": "9bf4bd3b",
   "metadata": {
    "slideshow": {
     "slide_type": "slide"
    }
   },
   "source": [
    "\n",
    "\n",
    "Then it holds:\n",
    "\n",
    "$$\n",
    "A = BX\n",
    "$$\n",
    "\n",
    "Since $k<n$, $X$ is broader than high. Therefore its reduced row-echolon form must have free columns. Therefore there must be a non-zero solution $\\mathbf y$ for \n",
    "\n",
    "$$\n",
    "X\\mathbf y = \\mathbf 0\n",
    "$$\n",
    "\n",
    "It follows immediately that\n",
    "\n",
    "$$\n",
    "\\begin{aligned}\n",
    "X\\mathbf y &= \\mathbf 0\\\\\n",
    "BX\\mathbf y &= \\mathbf 0\\\\\n",
    "A\\mathbf y &= \\mathbf 0\n",
    "\\end{aligned}\n",
    "$$\n",
    "\n",
    "This is a contradiction, since by assumption, the columns of $A$ are linearly independent. \n",
    "\n",
    "$\\dashv$"
   ]
  },
  {
   "cell_type": "markdown",
   "id": "abroad-seller",
   "metadata": {
    "slideshow": {
     "slide_type": "slide"
    }
   },
   "source": [
    "### Dimensions of a vector space\n",
    "\n",
    "It follows that each basis of a vector space $S$ has the same number of vectors as elements. We call this number the **number of dimensions of $S$**.\n",
    "\n",
    "\n",
    "\n",
    "\n"
   ]
  },
  {
   "cell_type": "markdown",
   "id": "cd72dc5d",
   "metadata": {},
   "source": [
    "Let us re-consider the invertible matrix from last week:\n",
    "\n",
    "$$\n",
    "\\begin{aligned}\n",
    "A &= \n",
    "\\left[\n",
    "\\begin{array}{r}\n",
    "1 & -4 & 2\\\\\n",
    "-2 & 1 & 3\\\\\n",
    "2 & 6 & 8\n",
    "\\end{array}\\right]\\\\[1em]\n",
    "A^{-1} &=\n",
    "\\left[\\begin{array}{r}\n",
    "\\frac{5}{63} & - \\frac{22}{63} & \\frac{1}{9}\\\\- \\frac{11}{63} & - \\frac{2}{63} & \\frac{1}{18}\\\\\\frac{1}{9} & \\frac{1}{9} & \\frac{1}{18}\n",
    "\\end{array}\\right]\n",
    "\\end{aligned}\n",
    "$$\n",
    "\n",
    "Solving $A\\mathbf x = \\mathbf 0$:\n",
    "\n",
    "\n",
    "$$\n",
    "\\begin{aligned}\n",
    "A\\mathbf x &= \\mathbf 0\\\\\n",
    "A^{-1}A\\mathbf x &= A^{-1}\\mathbf 0\\\\\n",
    "\\mathbf x &= \\mathbf 0\n",
    "\\end{aligned}\n",
    "$$\n"
   ]
  },
  {
   "cell_type": "markdown",
   "id": "dd00f2d3",
   "metadata": {
    "slideshow": {
     "slide_type": "slide"
    }
   },
   "source": [
    "So the columns of $A$ are independent (as are the columns of each invertible matrix). Let $\\mathbf b$ be some arbitrary vector in $\\mathbb R^3$.\n",
    "$$\n",
    "\\begin{aligned}\n",
    "A\\mathbf x &= \\mathbf b\\\\\n",
    "\\mathbf x &= A^{-1}\\mathbf b\\\\\n",
    "\\end{aligned}\n",
    "$$\n",
    "This means that for each vector $\\mathbf b$ in $\\mathbb R^3$, we can find coefficients $x_1, x_2, x_3$ such that $\\mathbf b = x_1\\mathbf a_1 + x_2 \\mathbf a_2 + x_3\\mathbf a_3$. The columns of $A$ therefore are a basis for $\\mathbb R^3$.\n",
    "\n",
    "By an analogous argument, it follows that\n",
    "\n",
    "**The columns of an invertible $n\\times n$ matrix form a basis for $\\mathbb R^n$**."
   ]
  },
  {
   "cell_type": "markdown",
   "id": "applicable-likelihood",
   "metadata": {
    "slideshow": {
     "slide_type": "slide"
    }
   },
   "source": [
    "# The four subspaces of a matrix\n",
    "\n",
    "So far we have looked at two subspaces of an $n\\times m$ matrix $A$:\n",
    "\n",
    "- the **column space** $C(A)$\n",
    "- the **nullspace** $N(A)$\n",
    "\n",
    "The transpose $A^T$ also has these two subspaces:\n",
    "\n",
    "- the column space $C(A^T)$ is called the **row space of $A$**\n",
    "- the null space $N(A^T)$ is called the **left nullspace of $A$**\n",
    "\n",
    "What can we say about the number of dimensions of these four subspaces?\n",
    "\n",
    "- dimensions of $C(A) \\leq n$\n",
    "- dimensions of $C(A^T) \\leq m$\n",
    "\n",
    "We want to do better than that!"
   ]
  },
  {
   "cell_type": "markdown",
   "id": "working-pizza",
   "metadata": {
    "slideshow": {
     "slide_type": "slide"
    }
   },
   "source": [
    "### Subspaces of reduced row echelon form matrices\n",
    "\n",
    "Let us start with matrices in reduced row echelon form. \n",
    "\n",
    "Example:\n",
    "\n",
    "$$\n",
    "R = \\left[\\begin{array}{r}\n",
    "1 & 2 & 0 & -2& 0\\\\\n",
    "0 & 0 & 1 & -1& 3\\\\\n",
    "0 & 0 & 0 & 0 & 0\n",
    "\\end{array}\\right]\n",
    "$$\n",
    "\n",
    "- columns $\\mathbf r_1$ an $\\mathbf r_3$ are pivot columns\n",
    "- columns $\\mathbf r_2, \\mathbf r_4$ and $\\mathbf r_5$ are free columns\n",
    "\n",
    "**Observation**: The pivot columns form a basis for $C(R)$.\n",
    "\n",
    "$$\n",
    "\\begin{aligned}\n",
    "\\mathbf r_2 &= 2\\mathbf r_1\\\\\n",
    "\\mathbf r_4 &= -2\\mathbf r_1-\\mathbf r_3\\\\\n",
    "\\mathbf r_5 &=  3\\mathbf r_3\n",
    "\\end{aligned}\n",
    "$$\n",
    "\n",
    "Remember that the *rank of $R$* is the number of pivot columns. Hence the rank of $R$ is the number of dimensions of the column space. In the example, this number is 2.\n",
    "\n",
    "(Here this is only demonstrated with a single example, but the argument works for any matrix in reduced row echelon form.)"
   ]
  },
  {
   "cell_type": "markdown",
   "id": "trying-performer",
   "metadata": {
    "slideshow": {
     "slide_type": "slide"
    }
   },
   "source": [
    "There is one special solution to $R\\mathbf x = \\mathbf 0$ for each free column of $R$:\n",
    "\n",
    "$$\n",
    "\\begin{aligned}\n",
    "\\mathbf x_1 &= \\left[\\begin{array}{r}-2\\\\1\\\\0\\\\0\\\\0\\end{array}\\right]&\n",
    "\\mathbf x_2 &= \\left[\\begin{array}{r}2\\\\0\\\\1\\\\1\\\\0\\end{array}\\right]&\n",
    "\\mathbf x_2 &= \\left[\\begin{array}{r}0\\\\0\\\\-3\\\\0\\\\1\\end{array}\\right]\n",
    "\\end{aligned}\n",
    "$$\n",
    "\n"
   ]
  },
  {
   "cell_type": "markdown",
   "id": "1e0f25f9",
   "metadata": {
    "slideshow": {
     "slide_type": "slide"
    }
   },
   "source": [
    "\n",
    "With *sympy*:"
   ]
  },
  {
   "cell_type": "code",
   "execution_count": 8,
   "id": "behind-richmond",
   "metadata": {},
   "outputs": [
    {
     "data": {
      "text/latex": [
       "$\\displaystyle \\left[\\begin{matrix}1 & 2 & 0 & -2 & 0\\\\0 & 0 & 1 & -1 & 3\\\\0 & 0 & 0 & 0 & 0\\end{matrix}\\right]$"
      ],
      "text/plain": [
       "Matrix([\n",
       "[1, 2, 0, -2, 0],\n",
       "[0, 0, 1, -1, 3],\n",
       "[0, 0, 0,  0, 0]])"
      ]
     },
     "execution_count": 8,
     "metadata": {},
     "output_type": "execute_result"
    }
   ],
   "source": [
    "R = Matrix([\n",
    "    [1,2,0,-2,0],\n",
    "    [0,0,1,-1,3],\n",
    "    [0,0,0,0,0]\n",
    "])\n",
    "R"
   ]
  },
  {
   "cell_type": "code",
   "execution_count": 9,
   "id": "designing-while",
   "metadata": {},
   "outputs": [],
   "source": [
    "x1, x2, x3 = R.nullspace()"
   ]
  },
  {
   "cell_type": "code",
   "execution_count": 10,
   "id": "cardiovascular-single",
   "metadata": {},
   "outputs": [
    {
     "data": {
      "text/latex": [
       "$\\displaystyle \\left[\\begin{matrix}-2\\\\1\\\\0\\\\0\\\\0\\end{matrix}\\right]$"
      ],
      "text/plain": [
       "Matrix([\n",
       "[-2],\n",
       "[ 1],\n",
       "[ 0],\n",
       "[ 0],\n",
       "[ 0]])"
      ]
     },
     "execution_count": 10,
     "metadata": {},
     "output_type": "execute_result"
    }
   ],
   "source": [
    "x1"
   ]
  },
  {
   "cell_type": "code",
   "execution_count": 11,
   "id": "simple-workshop",
   "metadata": {},
   "outputs": [
    {
     "data": {
      "text/latex": [
       "$\\displaystyle \\left[\\begin{matrix}2\\\\0\\\\1\\\\1\\\\0\\end{matrix}\\right]$"
      ],
      "text/plain": [
       "Matrix([\n",
       "[2],\n",
       "[0],\n",
       "[1],\n",
       "[1],\n",
       "[0]])"
      ]
     },
     "execution_count": 11,
     "metadata": {},
     "output_type": "execute_result"
    }
   ],
   "source": [
    "x2"
   ]
  },
  {
   "cell_type": "code",
   "execution_count": 12,
   "id": "seven-volume",
   "metadata": {},
   "outputs": [
    {
     "data": {
      "text/latex": [
       "$\\displaystyle \\left[\\begin{matrix}0\\\\0\\\\-3\\\\0\\\\1\\end{matrix}\\right]$"
      ],
      "text/plain": [
       "Matrix([\n",
       "[ 0],\n",
       "[ 0],\n",
       "[-3],\n",
       "[ 0],\n",
       "[ 1]])"
      ]
     },
     "execution_count": 12,
     "metadata": {},
     "output_type": "execute_result"
    }
   ],
   "source": [
    "x3"
   ]
  },
  {
   "cell_type": "markdown",
   "id": "lightweight-penguin",
   "metadata": {
    "slideshow": {
     "slide_type": "slide"
    }
   },
   "source": [
    "Collecting them in a matrix:\n",
    "\n",
    "$$\n",
    "X = \\left[\\begin{array}{r}\n",
    "-2 & 2 & 0\\\\\n",
    "1 & 0 & 0\\\\\n",
    "0 & 1 & -3\\\\\n",
    "0 & 1 & 0\\\\\n",
    "0 & 0 & 1\n",
    "\\end{array}\\right]\n",
    "$$\n",
    "\n",
    "Now consider the system\n",
    "\n",
    "$$\n",
    "X\\mathbf z = \\mathbf 0\n",
    "$$\n",
    "\n",
    "Solving via substitution, this gives\n",
    "\n",
    "$$\n",
    "\\begin{aligned}\n",
    "-2z_1 + 2 z_2 &= 0\\\\\n",
    "z_1 &= 0\\\\\n",
    "z_2-3z_3 &= 0\\\\\n",
    "z_2 &= 0\\\\\n",
    "z_3 &= 0\n",
    "\\end{aligned}\n",
    "$$\n",
    "\n",
    "Therefore $\\mathbf z = \\mathbf 0$. The columns of $X$ are linearly independent, so they are a basis for $N(R)$.\n",
    "\n",
    "There are as many columns in $X$ as there are free columns in $R$. If $r$ is the rank of $R$, there are $r$ pivot columns and $n-r$ free columns.\n",
    "\n",
    "**The nullspace $N(R)$ has $n-r$ dimensions.**"
   ]
  },
  {
   "cell_type": "markdown",
   "id": "proud-adelaide",
   "metadata": {
    "slideshow": {
     "slide_type": "slide"
    }
   },
   "source": [
    "## Dimensions of the row space of $R$\n",
    "\n",
    "Now let us focus on the row space of $R$, which is the column space of \n",
    "\n",
    "$$\n",
    "R^T = \\left[\\begin{array}{r}\n",
    "1 & 0 & 0\\\\\n",
    "2 & 0 & 0\\\\\n",
    "0 & 1 & 0\\\\\n",
    "-2 & -1 & 0\\\\\n",
    "0 & 3 & 0\n",
    "\\end{array}\\right]\n",
    "$$\n",
    "\n",
    "By the construction of reduced row echelon forms, each row of $R$, i.e. each column of $R^T$, either contains a pivot or it is all-zero. By the same argument, each pivot row of $R^T$ contains a $1$ in one column and $0$ in all other columns, and all pivot columns are different.\n",
    "\n",
    "Two oberservations follow from this:\n",
    "\n",
    "- The pivot columns are linearly independent.\n",
    "- The pivot columns form a basis of $C(R^T)$.\n",
    "\n",
    "Since the number of pivot columns equals $r$, the rank of $R$, **the row space of $R$ has $r$ dimensions**.\n"
   ]
  },
  {
   "cell_type": "markdown",
   "id": "special-topic",
   "metadata": {
    "slideshow": {
     "slide_type": "slide"
    }
   },
   "source": [
    "When we bring $R^T$ in reduced row echelon form, pivot columns remain pivot columns:\n",
    "\n",
    "\n",
    "$$\n",
    "\\begin{aligned}\n",
    "R^T &= \\left[\\begin{array}{r}\n",
    "1 & 0 & 0\\\\\n",
    "2 & 0 & 0\\\\\n",
    "0 & 1 & 0\\\\\n",
    "-2 & -1 & 0\\\\\n",
    "0 & 3 & 0\n",
    "\\end{array}\\right]\\\\\n",
    "\\mathrm{rref}(R^T) &= \\left[\\begin{array}{r}\n",
    "1 & 0 & 0\\\\\n",
    "0 & 0 & 0\\\\\n",
    "0 & 1 & 0\\\\\n",
    "0 & 0 & 0\\\\\n",
    "0 & 0 & 0\n",
    "\\end{array}\\right]\n",
    "\\end{aligned}\n",
    "$$\n",
    "\n",
    "Hence the number of dimensions of $N(R^T)$, the left nullspace of $R$, is $m-r$.\n"
   ]
  },
  {
   "cell_type": "markdown",
   "id": "polar-discount",
   "metadata": {
    "slideshow": {
     "slide_type": "slide"
    }
   },
   "source": [
    "### Generalizing to all matrices\n",
    "\n",
    "We found that for an $m\\times n$ matrix $R$ in reduced row echelon form with rank $r$:\n",
    "\n",
    "- the row space of $R$ and the column space of $R$ both have $r$ dimensions\n",
    "- the null space of $R$ has $n-r$ dimensions\n",
    "- the left null space of $R$ has $m-r$ dimensions\n",
    "\n",
    "Next it will be shown that this holds not just for matrices in reduced row echelon form, but for all matrices $m\\times n$ matrices."
   ]
  },
  {
   "cell_type": "markdown",
   "id": "surrounded-liver",
   "metadata": {},
   "source": [
    "Let \n",
    "\n",
    "$$\n",
    "A = \\left[\\begin{array}{r}\n",
    "-1 & -2 & -2 & 4 & -6\\\\\n",
    "-2 & -4 & - \\frac{7}{2} & \\frac{15}{2} & - \\frac{21}{2}\\\\\n",
    "2 & 4 & 3 & -7 & 9\n",
    "\\end{array}\\right]\n",
    "$$\n",
    "\n",
    "When performing Gauss-Jordan elimination, we multiply $A$ repeatedly with matrices from the left.\n",
    "\n"
   ]
  },
  {
   "cell_type": "markdown",
   "id": "380ae317",
   "metadata": {
    "slideshow": {
     "slide_type": "slide"
    }
   },
   "source": [
    "\n",
    "\n",
    "These matrices have one of two forms:\n",
    "\n",
    "- elimination matrix, i.e. a matrix with \n",
    "    - $1$s at the diagonal,\n",
    "    - one non-zero entry off the diagonal, and\n",
    "    - $0$s everywhere else\n",
    "- an invertible diagonal matrix, i.e., a matrix with \n",
    "    - non-zero entries along the diagonal and \n",
    "    - $0$ everywhere else"
   ]
  },
  {
   "cell_type": "code",
   "execution_count": 13,
   "id": "better-lender",
   "metadata": {},
   "outputs": [
    {
     "data": {
      "text/latex": [
       "$\\displaystyle \\left[\\begin{matrix}-1 & -2 & -2 & 4 & -6\\\\-2 & -4 & - \\frac{7}{2} & \\frac{15}{2} & - \\frac{21}{2}\\\\2 & 4 & 3 & -7 & 9\\end{matrix}\\right]$"
      ],
      "text/plain": [
       "Matrix([\n",
       "[-1, -2,   -2,    4,    -6],\n",
       "[-2, -4, -7/2, 15/2, -21/2],\n",
       "[ 2,  4,    3,   -7,     9]])"
      ]
     },
     "execution_count": 13,
     "metadata": {},
     "output_type": "execute_result"
    }
   ],
   "source": [
    "A = Matrix([\n",
    "    [-1, -2, -2, 4, -6],\n",
    "    [-2, -4, -Rational(7,2), Rational(15,2), -Rational(21,2)],\n",
    "    [2,4,3,-7,9]\n",
    "])\n",
    "A"
   ]
  },
  {
   "cell_type": "code",
   "execution_count": 14,
   "id": "confident-vatican",
   "metadata": {
    "slideshow": {
     "slide_type": "slide"
    }
   },
   "outputs": [
    {
     "data": {
      "text/latex": [
       "$\\displaystyle \\left[\\begin{matrix}1 & 0 & 0\\\\-2 & 1 & 0\\\\0 & 0 & 1\\end{matrix}\\right]$"
      ],
      "text/plain": [
       "Matrix([\n",
       "[ 1, 0, 0],\n",
       "[-2, 1, 0],\n",
       "[ 0, 0, 1]])"
      ]
     },
     "execution_count": 14,
     "metadata": {},
     "output_type": "execute_result"
    }
   ],
   "source": [
    "E1 = Matrix([\n",
    "    [1, 0, 0],\n",
    "    [-2, 1, 0],\n",
    "    [0, 0, 1]\n",
    "])\n",
    "E1"
   ]
  },
  {
   "cell_type": "code",
   "execution_count": 15,
   "id": "legendary-enemy",
   "metadata": {},
   "outputs": [
    {
     "data": {
      "text/latex": [
       "$\\displaystyle \\left[\\begin{matrix}-1 & -2 & -2 & 4 & -6\\\\0 & 0 & \\frac{1}{2} & - \\frac{1}{2} & \\frac{3}{2}\\\\2 & 4 & 3 & -7 & 9\\end{matrix}\\right]$"
      ],
      "text/plain": [
       "Matrix([\n",
       "[-1, -2,  -2,    4,  -6],\n",
       "[ 0,  0, 1/2, -1/2, 3/2],\n",
       "[ 2,  4,   3,   -7,   9]])"
      ]
     },
     "execution_count": 15,
     "metadata": {},
     "output_type": "execute_result"
    }
   ],
   "source": [
    "B = E1 * A\n",
    "B"
   ]
  },
  {
   "cell_type": "code",
   "execution_count": 16,
   "id": "little-motion",
   "metadata": {},
   "outputs": [
    {
     "data": {
      "text/latex": [
       "$\\displaystyle \\left[\\begin{matrix}1 & 0 & 0\\\\0 & 1 & 0\\\\2 & 0 & 1\\end{matrix}\\right]$"
      ],
      "text/plain": [
       "Matrix([\n",
       "[1, 0, 0],\n",
       "[0, 1, 0],\n",
       "[2, 0, 1]])"
      ]
     },
     "execution_count": 16,
     "metadata": {},
     "output_type": "execute_result"
    }
   ],
   "source": [
    "E2 = Matrix([\n",
    "    [1, 0, 0],\n",
    "    [0, 1, 0],\n",
    "    [2, 0, 1]\n",
    "])\n",
    "E2"
   ]
  },
  {
   "cell_type": "code",
   "execution_count": 17,
   "id": "finite-baghdad",
   "metadata": {},
   "outputs": [
    {
     "data": {
      "text/latex": [
       "$\\displaystyle \\left[\\begin{matrix}-1 & -2 & -2 & 4 & -6\\\\0 & 0 & \\frac{1}{2} & - \\frac{1}{2} & \\frac{3}{2}\\\\0 & 0 & -1 & 1 & -3\\end{matrix}\\right]$"
      ],
      "text/plain": [
       "Matrix([\n",
       "[-1, -2,  -2,    4,  -6],\n",
       "[ 0,  0, 1/2, -1/2, 3/2],\n",
       "[ 0,  0,  -1,    1,  -3]])"
      ]
     },
     "execution_count": 17,
     "metadata": {},
     "output_type": "execute_result"
    }
   ],
   "source": [
    "B = E2 * B\n",
    "B"
   ]
  },
  {
   "cell_type": "code",
   "execution_count": 18,
   "id": "geographic-recommendation",
   "metadata": {
    "slideshow": {
     "slide_type": "slide"
    }
   },
   "outputs": [
    {
     "data": {
      "text/latex": [
       "$\\displaystyle \\left[\\begin{matrix}1 & 0 & 0\\\\0 & 1 & 0\\\\0 & 2 & 1\\end{matrix}\\right]$"
      ],
      "text/plain": [
       "Matrix([\n",
       "[1, 0, 0],\n",
       "[0, 1, 0],\n",
       "[0, 2, 1]])"
      ]
     },
     "execution_count": 18,
     "metadata": {},
     "output_type": "execute_result"
    }
   ],
   "source": [
    "E3 = Matrix([\n",
    "    [1, 0, 0],\n",
    "    [0, 1, 0],\n",
    "    [0, 2, 1]\n",
    "])\n",
    "E3"
   ]
  },
  {
   "cell_type": "code",
   "execution_count": 19,
   "id": "assured-breakdown",
   "metadata": {},
   "outputs": [
    {
     "data": {
      "text/latex": [
       "$\\displaystyle \\left[\\begin{matrix}-1 & -2 & -2 & 4 & -6\\\\0 & 0 & \\frac{1}{2} & - \\frac{1}{2} & \\frac{3}{2}\\\\0 & 0 & 0 & 0 & 0\\end{matrix}\\right]$"
      ],
      "text/plain": [
       "Matrix([\n",
       "[-1, -2,  -2,    4,  -6],\n",
       "[ 0,  0, 1/2, -1/2, 3/2],\n",
       "[ 0,  0,   0,    0,   0]])"
      ]
     },
     "execution_count": 19,
     "metadata": {},
     "output_type": "execute_result"
    }
   ],
   "source": [
    "B = E3 * B\n",
    "B"
   ]
  },
  {
   "cell_type": "code",
   "execution_count": 20,
   "id": "dutch-zealand",
   "metadata": {},
   "outputs": [
    {
     "data": {
      "text/latex": [
       "$\\displaystyle \\left[\\begin{matrix}1 & 4 & 0\\\\0 & 1 & 0\\\\0 & 0 & 1\\end{matrix}\\right]$"
      ],
      "text/plain": [
       "Matrix([\n",
       "[1, 4, 0],\n",
       "[0, 1, 0],\n",
       "[0, 0, 1]])"
      ]
     },
     "execution_count": 20,
     "metadata": {},
     "output_type": "execute_result"
    }
   ],
   "source": [
    "E4 = Matrix([\n",
    "    [1, 4, 0],\n",
    "    [0, 1, 0],\n",
    "    [0, 0, 1]\n",
    "])\n",
    "E4"
   ]
  },
  {
   "cell_type": "code",
   "execution_count": 21,
   "id": "angry-solid",
   "metadata": {},
   "outputs": [
    {
     "data": {
      "text/latex": [
       "$\\displaystyle \\left[\\begin{matrix}-1 & -2 & 0 & 2 & 0\\\\0 & 0 & \\frac{1}{2} & - \\frac{1}{2} & \\frac{3}{2}\\\\0 & 0 & 0 & 0 & 0\\end{matrix}\\right]$"
      ],
      "text/plain": [
       "Matrix([\n",
       "[-1, -2,   0,    2,   0],\n",
       "[ 0,  0, 1/2, -1/2, 3/2],\n",
       "[ 0,  0,   0,    0,   0]])"
      ]
     },
     "execution_count": 21,
     "metadata": {},
     "output_type": "execute_result"
    }
   ],
   "source": [
    "B = E4 * B\n",
    "B"
   ]
  },
  {
   "cell_type": "code",
   "execution_count": 22,
   "id": "blank-short",
   "metadata": {
    "slideshow": {
     "slide_type": "slide"
    }
   },
   "outputs": [
    {
     "data": {
      "text/latex": [
       "$\\displaystyle \\left[\\begin{matrix}-1 & 0 & 0\\\\0 & 2 & 0\\\\0 & 0 & 1\\end{matrix}\\right]$"
      ],
      "text/plain": [
       "Matrix([\n",
       "[-1, 0, 0],\n",
       "[ 0, 2, 0],\n",
       "[ 0, 0, 1]])"
      ]
     },
     "execution_count": 22,
     "metadata": {},
     "output_type": "execute_result"
    }
   ],
   "source": [
    "D = Matrix([\n",
    "    [-1, 0, 0],\n",
    "    [0, 2, 0],\n",
    "    [0, 0, 1]\n",
    "])\n",
    "D"
   ]
  },
  {
   "cell_type": "code",
   "execution_count": 23,
   "id": "subsequent-microwave",
   "metadata": {},
   "outputs": [
    {
     "data": {
      "text/latex": [
       "$\\displaystyle \\left[\\begin{matrix}1 & 2 & 0 & -2 & 0\\\\0 & 0 & 1 & -1 & 3\\\\0 & 0 & 0 & 0 & 0\\end{matrix}\\right]$"
      ],
      "text/plain": [
       "Matrix([\n",
       "[1, 2, 0, -2, 0],\n",
       "[0, 0, 1, -1, 3],\n",
       "[0, 0, 0,  0, 0]])"
      ]
     },
     "execution_count": 23,
     "metadata": {},
     "output_type": "execute_result"
    }
   ],
   "source": [
    "B = D * B\n",
    "B"
   ]
  },
  {
   "cell_type": "code",
   "execution_count": 24,
   "id": "continental-outline",
   "metadata": {},
   "outputs": [
    {
     "data": {
      "text/latex": [
       "$\\displaystyle \\left[\\begin{matrix}1 & 2 & 0 & -2 & 0\\\\0 & 0 & 1 & -1 & 3\\\\0 & 0 & 0 & 0 & 0\\end{matrix}\\right]$"
      ],
      "text/plain": [
       "Matrix([\n",
       "[1, 2, 0, -2, 0],\n",
       "[0, 0, 1, -1, 3],\n",
       "[0, 0, 0,  0, 0]])"
      ]
     },
     "execution_count": 24,
     "metadata": {},
     "output_type": "execute_result"
    }
   ],
   "source": [
    "A.rref()[0]"
   ]
  },
  {
   "cell_type": "markdown",
   "id": "arbitrary-protest",
   "metadata": {
    "slideshow": {
     "slide_type": "slide"
    }
   },
   "source": [
    "**Observations**:\n",
    "\n",
    "- Elimination matrices and invertible diagonal matrices are invertible.\n",
    "- Let $U$ be an invertable matrix. If a subset of the columns of $B$ form a basis of $C(B)$, than the corresponding columns of $UB$ form a basis for of $C(UB)$\n",
    "\n",
    "\n",
    "The first statement should be obvious. To invert an elimination matrix, you only have to replace its non-zero off-diagonal entry with its negation.\n"
   ]
  },
  {
   "cell_type": "code",
   "execution_count": 25,
   "id": "tight-expression",
   "metadata": {},
   "outputs": [
    {
     "data": {
      "text/latex": [
       "$\\displaystyle \\left[\\begin{matrix}1 & 0 & 0\\\\-2 & 1 & 0\\\\0 & 0 & 1\\end{matrix}\\right]$"
      ],
      "text/plain": [
       "Matrix([\n",
       "[ 1, 0, 0],\n",
       "[-2, 1, 0],\n",
       "[ 0, 0, 1]])"
      ]
     },
     "execution_count": 25,
     "metadata": {},
     "output_type": "execute_result"
    }
   ],
   "source": [
    "E1"
   ]
  },
  {
   "cell_type": "code",
   "execution_count": 26,
   "id": "split-richards",
   "metadata": {},
   "outputs": [
    {
     "data": {
      "text/latex": [
       "$\\displaystyle \\left[\\begin{matrix}1 & 0 & 0\\\\2 & 1 & 0\\\\0 & 0 & 1\\end{matrix}\\right]$"
      ],
      "text/plain": [
       "Matrix([\n",
       "[1, 0, 0],\n",
       "[2, 1, 0],\n",
       "[0, 0, 1]])"
      ]
     },
     "execution_count": 26,
     "metadata": {},
     "output_type": "execute_result"
    }
   ],
   "source": [
    "E1.inv()"
   ]
  },
  {
   "cell_type": "markdown",
   "id": "flush-fluid",
   "metadata": {},
   "source": [
    "To invert an invertable diagonal matrix, you replace each diagonal entry with its inverse."
   ]
  },
  {
   "cell_type": "code",
   "execution_count": 27,
   "id": "martial-deployment",
   "metadata": {},
   "outputs": [
    {
     "data": {
      "text/latex": [
       "$\\displaystyle \\left[\\begin{matrix}-1 & 0 & 0\\\\0 & 2 & 0\\\\0 & 0 & 1\\end{matrix}\\right]$"
      ],
      "text/plain": [
       "Matrix([\n",
       "[-1, 0, 0],\n",
       "[ 0, 2, 0],\n",
       "[ 0, 0, 1]])"
      ]
     },
     "execution_count": 27,
     "metadata": {},
     "output_type": "execute_result"
    }
   ],
   "source": [
    "D"
   ]
  },
  {
   "cell_type": "code",
   "execution_count": 28,
   "id": "catholic-chemistry",
   "metadata": {},
   "outputs": [
    {
     "data": {
      "text/latex": [
       "$\\displaystyle \\left[\\begin{matrix}-1 & 0 & 0\\\\0 & \\frac{1}{2} & 0\\\\0 & 0 & 1\\end{matrix}\\right]$"
      ],
      "text/plain": [
       "Matrix([\n",
       "[-1,   0, 0],\n",
       "[ 0, 1/2, 0],\n",
       "[ 0,   0, 1]])"
      ]
     },
     "execution_count": 28,
     "metadata": {},
     "output_type": "execute_result"
    }
   ],
   "source": [
    "D.inv()"
   ]
  },
  {
   "cell_type": "markdown",
   "id": "bottom-passion",
   "metadata": {
    "slideshow": {
     "slide_type": "slide"
    }
   },
   "source": [
    "Now consider the second statement. Recall the running example\n",
    "\n",
    "$$\n",
    "A = \\left[\\begin{array}{r}\n",
    "-1 & -2 & -2 & 4 & -6\\\\\n",
    "-2 & -4 & - \\frac{7}{2} & \\frac{15}{2} & - \\frac{21}{2}\\\\\n",
    "2 & 4 & 3 & -7 & 9\n",
    "\\end{array}\\right]\n",
    "$$\n",
    "\n",
    "\n",
    "Here $\\{\\mathbf a_1, \\mathbf a_3\\}$ form a basis for the column space.\n"
   ]
  },
  {
   "cell_type": "code",
   "execution_count": 29,
   "id": "sharp-marble",
   "metadata": {},
   "outputs": [
    {
     "data": {
      "text/latex": [
       "$\\displaystyle \\left[\\begin{matrix}-1 & -2\\\\-2 & - \\frac{7}{2}\\\\2 & 3\\end{matrix}\\right]$"
      ],
      "text/plain": [
       "Matrix([\n",
       "[-1,   -2],\n",
       "[-2, -7/2],\n",
       "[ 2,    3]])"
      ]
     },
     "execution_count": 29,
     "metadata": {},
     "output_type": "execute_result"
    }
   ],
   "source": [
    "D = A[:, [0,2]]\n",
    "D"
   ]
  },
  {
   "cell_type": "code",
   "execution_count": 30,
   "id": "liable-grass",
   "metadata": {},
   "outputs": [
    {
     "data": {
      "text/latex": [
       "$\\displaystyle \\left[\\begin{matrix}1 & 2 & 0 & -2 & 0\\\\0 & 0 & 1 & -1 & 3\\end{matrix}\\right]$"
      ],
      "text/plain": [
       "Matrix([\n",
       "[1, 2, 0, -2, 0],\n",
       "[0, 0, 1, -1, 3]])"
      ]
     },
     "execution_count": 30,
     "metadata": {},
     "output_type": "execute_result"
    }
   ],
   "source": [
    "D.solve(A)"
   ]
  },
  {
   "cell_type": "code",
   "execution_count": 31,
   "id": "young-vacation",
   "metadata": {},
   "outputs": [
    {
     "name": "stdout",
     "output_type": "stream",
     "text": [
      "no solution\n"
     ]
    }
   ],
   "source": [
    "try:\n",
    "    D.solve(zeros(2))\n",
    "except:\n",
    "    print(\"no solution\")"
   ]
  },
  {
   "cell_type": "markdown",
   "id": "demographic-homework",
   "metadata": {
    "slideshow": {
     "slide_type": "slide"
    }
   },
   "source": [
    "We get from $A$ to $\\begin{bmatrix}\\mathbf a_1, \\mathbf a_3\\end{bmatrix}$ by multiplying $A$ with\n",
    "\n",
    "$$\n",
    "\\begin{aligned}\n",
    "W &= \\begin{bmatrix}\n",
    "1 & 0\\\\\n",
    "0 & 0\\\\\n",
    "0 & 1\\\\\n",
    "0 & 0\\\\\n",
    "0 & 0\n",
    "\\end{bmatrix}\\\\\n",
    "AW &= D\n",
    "\\end{aligned}\n",
    "$$\n",
    "\n",
    "In general, $W$ is an $n\\times k$ matrix, $k\\leq n$, with exactly one 1 per column. Let us call such matrices *subset matrices*."
   ]
  },
  {
   "cell_type": "markdown",
   "id": "common-outside",
   "metadata": {
    "slideshow": {
     "slide_type": "slide"
    }
   },
   "source": [
    "No let us assume:\n",
    "\n",
    "- $U$ is invertable\n",
    "- the columns of $BW$ form a basis for $C(B)$\n",
    "\n",
    "We need to show that $UBW$ form a basis for $C(UB)$.\n",
    "\n",
    "First we need to show that the columns of $UBW$ are linearly independent, i.e., $\\mathbf 0$ is the only solution for\n",
    "\n",
    "$$\n",
    "UBW\\mathbf x = \\mathbf 0\n",
    "$$\n",
    "\n",
    "Suppose it is otherwise, i.e, $\\mathbf x \\neq \\mathbf 0$.\n",
    "\n",
    "Since $U$ is invertable:\n",
    "\n",
    "$$\n",
    "\\begin{aligned}\n",
    "U^{-1}UBW\\mathbf x &= \\mathbf 0\\\\\n",
    "BW\\mathbf x &= \\mathbf 0\n",
    "\\end{aligned}\n",
    "$$\n",
    "\n",
    "This contradicts the assumption that $BW$ is a basis for $C(B)$.\n"
   ]
  },
  {
   "cell_type": "markdown",
   "id": "febbab41",
   "metadata": {
    "slideshow": {
     "slide_type": "slide"
    }
   },
   "source": [
    "\n",
    "\n",
    "By assumption, $BW$ is a basis for $C(B)$. This means that each column vector of $B$ is a linear combination of the column vectors of $BW$. This amounts to saying that there is a matrix $X$ such that\n",
    "\n",
    "$$\n",
    "BWX = B\n",
    "$$\n",
    "\n",
    "We need to show that $UBW$ is a basis for $UB$, i.e., that there is a matrix $Y$ with\n",
    "\n",
    "$$\n",
    "UBWY = UB\n",
    "$$\n",
    "For $Y=X$, this follows directly from the assumptions."
   ]
  },
  {
   "cell_type": "markdown",
   "id": "foreign-difficulty",
   "metadata": {},
   "source": [
    "Taking everything together, it follows that **the columns of $A$ with the same indices as the pivot columns of rref($A$)** form a basis of $C(A)$.\n",
    "\n",
    "Therefore $C(A)$ has the same number of dimensions as $C(\\mathrm{rref}(A))$, which equals the rank of $A$.\n",
    "\n",
    "Furthermore, if $U$ is invertible, $U^T$ is also invertible. Therefore, applying Gauss-Jordan elimination does not change the dimensionality of the row space either. Since matrices in reduced row echelon form have the same number of dimensions for the row space and the column space, this also applies to all matrices.\n",
    "\n"
   ]
  },
  {
   "cell_type": "markdown",
   "id": "9761227e",
   "metadata": {
    "slideshow": {
     "slide_type": "slide"
    }
   },
   "source": [
    "\n",
    "\n",
    "Finally $U$ is invertible. If \n",
    "\n",
    "$$\n",
    "A\\mathbf x = \\mathbf 0,\n",
    "$$\n",
    "\n",
    "then \n",
    "$$\n",
    "\\begin{aligned}\n",
    "UA\\mathbf x &= U\\mathbf 0 = \\mathbf 0\n",
    "\\end{aligned}\n",
    "$$\n",
    "\n",
    "If \n",
    "$$\n",
    "UA\\mathbf x = \\mathbf 0,\n",
    "$$\n",
    "\n",
    "then\n",
    "\n",
    "$$\n",
    "\\begin{aligned}\n",
    "U^{-1}UA\\mathbf x &=  U^{-1}\\mathbf 0\\\\\n",
    "A\\mathbf x &= \\mathbf 0\n",
    "\\end{aligned}\n",
    "$$\n",
    "\n",
    "This entails that $A$ and $\\mathrm{rref}(A)$ have the same nullspace, end therefore the same number of dimensions of their nullspaces.\n"
   ]
  },
  {
   "cell_type": "markdown",
   "id": "precious-bottom",
   "metadata": {
    "slideshow": {
     "slide_type": "slide"
    }
   },
   "source": [
    "### Intermediate summary\n",
    "\n",
    "Let $A$ be an $m\\times n$ matrix.\n",
    "\n",
    "- The column space $C(A)$ has dimension $r$ (the rank of $A$).\n",
    "- The nullspace $N(A)$ has dimension $n-r$.\n",
    "\n"
   ]
  },
  {
   "cell_type": "markdown",
   "id": "65854662",
   "metadata": {
    "slideshow": {
     "slide_type": "slide"
    }
   },
   "source": [
    "\n",
    "\n",
    "What about the row space and the left nullspace?\n",
    "\n",
    "Suppose $\\mathbf x$ is in the left nullspace of $A$:\n",
    "\n",
    "$$\n",
    "A^T\\mathbf x = \\mathbf 0\n",
    "$$\n",
    "\n",
    "Let $U$ the the matrix that converts $A$ to the reduced row echelon form.\n",
    "\n",
    "$$\n",
    "UA = \\mathrm{rref}(A)\n",
    "$$"
   ]
  },
  {
   "cell_type": "markdown",
   "id": "261b1f2d",
   "metadata": {
    "slideshow": {
     "slide_type": "slide"
    }
   },
   "source": [
    "**Observation**\n",
    "\n",
    "If $E$ is invertible, than for any matrix $D$, the column spaces of $D$ and of $DE$ are identical.\n",
    "\n",
    "**Proof**\n",
    "\n",
    "Suppose $\\mathbf b$ is in the column space of $D$:\n",
    "\n",
    "$$\n",
    "\\exists \\mathbf x D\\mathbf x = \\mathbf b\n",
    "$$\n",
    "\n",
    "Then there is a $\\mathbf y$ such that \n",
    "\n",
    "$$\n",
    "DE\\mathbf y = \\mathbf b,\n",
    "$$\n",
    "namely $E^{-1}\\mathbf x$.\n",
    "\n",
    "Conversely, if $\\mathbf b$ is in the column space of $DE$, then it is also in the column space of $D$.\n",
    "\n",
    "$\\dashv$"
   ]
  },
  {
   "cell_type": "markdown",
   "id": "0c9a0124",
   "metadata": {
    "slideshow": {
     "slide_type": "slide"
    }
   },
   "source": [
    "This means that multiplying a matrix on its right with an invertible matrix does not change the column space. Hence the \n",
    "\n",
    "$$\n",
    "C(A^T) = C(A^TU^T) = C((UA)^T) = C(\\mathrm{rref}(A)^T)\n",
    "$$\n",
    "\n",
    "Since the row space of $\\mathrm{rref}(A)$ has $r$ dimensions, the same holds for the row space of $A$.\n",
    "\n",
    "And if the row space of $A$, i.e., the column space of $A^T$, has $r$ dimensions, the null space of $A^T$, which is the left null space of $A$, must have $m-r$ dimensions."
   ]
  },
  {
   "cell_type": "markdown",
   "id": "6f349be8",
   "metadata": {
    "slideshow": {
     "slide_type": "slide"
    }
   },
   "source": [
    "### Summary\n",
    "\n",
    "Let $A$ be an $m\\times n$ matrix.\n",
    "\n",
    "- The column space $C(A)$ and the row space $C(A^T)$ both have dimension $r$ (the rank of $A$).\n",
    "- The nullspace $N(A)$ has $n-r$ dimensions.\n",
    "- The left nullspace $N(A^T)$ has $m-r$ dimensions. \n"
   ]
  },
  {
   "cell_type": "markdown",
   "id": "aa45792e",
   "metadata": {
    "slideshow": {
     "slide_type": "slide"
    }
   },
   "source": [
    "## Orthogonality\n",
    "\n",
    "Recall: vectors $\\mathbf v$ and $\\mathbf w$ are **orthogonal** if and only if\n",
    "\n",
    "$$\n",
    "\\mathbf v^T \\mathbf w = \\mathbf 0\n",
    "$$\n",
    "\n",
    "#### Examples\n",
    "\n",
    "- $\\begin{bmatrix}1\\\\1 \\\\0\\end{bmatrix}$, $\\begin{bmatrix}0\\\\0 \\\\1\\end{bmatrix}$\n",
    "\n",
    "\n",
    "- $\\begin{bmatrix}1\\\\1 \\end{bmatrix}$, $\\begin{bmatrix}2\\\\-2\\end{bmatrix}$\n",
    "\n",
    "\n",
    "- $\\begin{bmatrix}1\\\\1 \\\\ 2\\end{bmatrix}$, $\\begin{bmatrix}-2\\\\-2\\\\2\\end{bmatrix}$\n",
    "\n",
    "- .."
   ]
  },
  {
   "cell_type": "markdown",
   "id": "6c81157a",
   "metadata": {
    "slideshow": {
     "slide_type": "slide"
    }
   },
   "source": [
    "### orthogonal spaces\n",
    "\n",
    "Two vector spaces $\\mathbf V$ and $\\mathbf W$ are orthogonal if and only if\n",
    "\n",
    "$$\n",
    "\\forall \\mathbf v\\in \\mathbf V, \\mathbf w \\in \\mathbf W. \\mathbf v^T\\mathbf w = \\mathbf 0\n",
    "$$\n",
    "\n",
    "**Examples**\n",
    "\n",
    "$$\n",
    "\\begin{aligned}\n",
    "\\mathbf V &= \\{\\begin{bmatrix}x\\\\0\\end{bmatrix}: x \\in \\mathbb R\\}\\\\[1em]\n",
    "\\mathbf W &= \\{\\begin{bmatrix}0\\\\y\\end{bmatrix}: y \\in \\mathbb R\\}\\\\\n",
    "\\end{aligned}\n",
    "$$\n",
    "\n",
    "These are of course the $x$-axis and $y$-axis of a 2d-space."
   ]
  },
  {
   "cell_type": "markdown",
   "id": "e03b3386",
   "metadata": {
    "slideshow": {
     "slide_type": "slide"
    }
   },
   "source": [
    "$$\n",
    "\\begin{aligned}\n",
    "\\mathbf V &= \\{\\begin{bmatrix}x\\\\y\\\\0\\end{bmatrix}: x,y \\in \\mathbb R\\}\\\\[1em]\n",
    "\\mathbf W &= \\{\\begin{bmatrix}0\\\\0\\\\z\\end{bmatrix}: z \\in \\mathbb R\\}\\\\\n",
    "\\end{aligned}\n",
    "$$\n",
    "\n",
    "These are the $x$-$y$ plane and the $z$-axis of a 3d-space."
   ]
  },
  {
   "cell_type": "markdown",
   "id": "eba2fcd4",
   "metadata": {
    "slideshow": {
     "slide_type": "slide"
    }
   },
   "source": [
    "$$\n",
    "\\begin{aligned}\n",
    "\\mathbf V &= \\mathrm{span}(\n",
    "\\begin{bmatrix}\n",
    "1\\\\\n",
    "-1\\\\\n",
    "0\n",
    "\\end{bmatrix},\n",
    "\\begin{bmatrix}\n",
    "1\\\\\n",
    "1\\\\\n",
    "1\n",
    "\\end{bmatrix}\n",
    ")\\\\[1em]\n",
    "\\mathbf W &= \\mathrm{span}(\\begin{bmatrix}-1\\\\-1\\\\2\\end{bmatrix})\\\\\n",
    "\\end{aligned}\n",
    "$$\n",
    "\n",
    "How do we know whether $\\mathbf V$ and $\\mathbf W$ are orthogonal?"
   ]
  },
  {
   "cell_type": "markdown",
   "id": "45bfbf31",
   "metadata": {
    "slideshow": {
     "slide_type": "slide"
    }
   },
   "source": [
    "**Observation** Let $V$ and $W$ be two sets of vectors $\\subseteq \\mathbb R^n$. \n",
    "\n",
    "$\\mathrm{span}(V)$ is orthogonal to $\\mathrm{span}(W)$ if and only if for all $\\mathbf v\\in V, \\mathbf w \\in W$: $\\mathbf v$ and $\\mathbf w$ are orthogonal.\n",
    "\n",
    "*Proof*\n",
    "\n",
    "Suppose $\\mathrm{span}(V)$ is orthogonal to $\\mathrm{span}(W)$. If $\\mathbf v\\in V$, then $\\mathbf v\\in\\mathrm{span}(V)$, and likewise for $\\mathbf w$. Hence $\\mathbf v$ and $\\mathbf w$ are orthogonal.\n",
    "\n",
    "Now suppose for all $\\mathbf v\\in V, \\mathbf w \\in W$: $\\mathbf v$ and $\\mathbf w$ are orthogonal. Let $\\mathbf x\\in\\mathrm{span}(V)$ and $\\mathbf y\\in\\mathrm{span}(W)$.\n",
    "\n",
    "If $\\mathbf x\\in\\mathrm{span}(V)$ and $\\mathbf y\\in\\mathrm{span}(W)$, $\\mathbf x = \\sum_i r_i\\mathbf v_i$, $\\mathbf y = \\sum_j s_j\\mathbf w_j$ for $r_1,\\ldots,r_{|V|}, s_1,\\ldots,s_{|W|}\\in \\mathbb R$.\n",
    "\n",
    "$$\n",
    "\\begin{aligned}\n",
    "\\mathbf x^T\\mathbf y &= (\\sum_i r_i\\mathbf v_i)^T(\\sum_j s_i\\mathbf w_j)\\\\\n",
    "        &= \\sum_i (r_i\\mathbf v_i)^T(\\sum_j s_j\\mathbf w_j)\\\\\n",
    "        &= \\sum_i \\sum_j(r_i\\mathbf v_i)^T( s_j\\mathbf w_j)\\\\\n",
    "        &= \\sum_i \\sum_jr_i\\mathbf v_i^T( s_j\\mathbf w_j)\\\\\n",
    "        &= \\sum_i \\sum_jr_is_j\\mathbf v_i^T\\mathbf w_j\\\\\n",
    "        &= \\sum_i \\sum_jr_is_j\\mathbf 0\\\\\n",
    "        &= \\mathbf 0\\\\\n",
    "\\end{aligned}\n",
    "$$\n",
    "\n",
    "$\\dashv$"
   ]
  },
  {
   "cell_type": "markdown",
   "id": "dc598cd9",
   "metadata": {
    "slideshow": {
     "slide_type": "slide"
    }
   },
   "source": [
    "**Observation**\n",
    "\n",
    "Let $A$ be an $m\\times n$ matrix. Then\n",
    "\n",
    "- the column space $C(A)$ is orthogonal to the left null space $C(A^T)$, and\n",
    "- the row space $C(A^T)$ is orthogonal to the null space $N(A)$.\n",
    "\n",
    "*Proof*\n",
    "\n",
    "The column space of $A$ is $\\mathrm{span}(\\{\\mathbf a_i|1\\leq i \\leq n\\})$. If $\\mathbf x$ is in the left null space of $A$, this means that\n",
    "\n",
    "$$\n",
    "A^T \\mathbf x = \\mathbf 0\n",
    "$$\n",
    "\n",
    "It follows that \n",
    "\n",
    "$$\n",
    "\\forall i:\\mathbf a_i^T\\mathbf x = \\mathbf 0\n",
    "$$\n",
    "\n",
    "Due to the previous observation, it follows that $C(A)$ is orthogonal to $N(A^T)$. \n",
    "\n",
    "The proof of the second statement is analogous.\n",
    "\n",
    "$\\dashv$"
   ]
  },
  {
   "cell_type": "markdown",
   "id": "fa0c7df2",
   "metadata": {
    "slideshow": {
     "slide_type": "slide"
    }
   },
   "source": [
    "## Orthogonal projections\n",
    "\n",
    "Suppose we have two vectors $\\mathbf a$ and $\\mathbf b$. We want to find the *orthogonal projection from $\\mathbf a$ onto the line through $\\mathbf b$*. This is a vector $\\mathbf p$ with the properties:\n",
    "\n",
    "- $\\mathbf p = x\\mathbf b$ ($\\mathbf p$ lies on the line defined by $\\mathbf a$)\n",
    "- $\\mathbf a - \\mathbf p$ is orthogonal to $\\mathbf b$\n",
    "\n",
    "Here is how we find $\\mathbf p$:\n",
    "\n",
    "$$\n",
    "\\begin{aligned}\n",
    "(\\mathbf a - x\\mathbf b)^T\\mathbf b &= 0\\\\\n",
    "(\\mathbf a^T - x\\mathbf b^T)\\mathbf b &= 0\\\\\n",
    "\\mathbf a^T\\mathbf b - x\\mathbf b^T\\mathbf b &= 0\\\\\n",
    "\\mathbf a^T\\mathbf b &= x\\mathbf b^T\\mathbf b\\\\\n",
    "x &= \\frac{\\mathbf a^T\\mathbf b}{\\mathbf b^T\\mathbf b}\\\\\n",
    "\\mathbf p &= \\frac{\\mathbf a^T\\mathbf b}{\\mathbf b^T\\mathbf b}\\mathbf b\\\\\n",
    "\\end{aligned}\n",
    "$$\n",
    "\n",
    "- $\\mathbf p$ is called the *projection of $\\mathbf a$ onto the line throuhg $\\mathbf b$*.\n",
    "- $\\mathbf e = \\mathbf a - \\mathbf p$ is called the *error*.\n",
    "- $\\mathbf p$ is the point on the line through $\\mathbf b$ which is closest to $\\mathbf a$, i.e., the point which minimizes the error."
   ]
  },
  {
   "cell_type": "markdown",
   "id": "f23861d7",
   "metadata": {
    "slideshow": {
     "slide_type": "slide"
    }
   },
   "source": [
    "## Orthogonal projections\n",
    "\n",
    "Now suppose we have a matrix $A$ and a vector $\\mathbf b$, and we want to find the *orthogonal projection of  $\\mathbf b$ onto the* ***column space*** of $A$.\n",
    "\n",
    "In other words, we want to find the point $\\mathbf p$ which\n",
    "\n",
    "- is in the column space of $A$, and\n",
    "- minimizes the error $\\mathbf b-\\mathbf p$.\n",
    "\n"
   ]
  },
  {
   "cell_type": "markdown",
   "id": "a0186408",
   "metadata": {},
   "source": [
    "\n",
    "<img src=_img/projection.svg>\n",
    "\n",
    "(image from https://medium.com/linear-algebra/part-17-projections-122aac21b07c)\n",
    "    "
   ]
  },
  {
   "cell_type": "markdown",
   "id": "b7a8467e",
   "metadata": {
    "slideshow": {
     "slide_type": "slide"
    }
   },
   "source": [
    "- assumptions:\n",
    "\n",
    "$$\n",
    "\\begin{aligned}\n",
    "Ax &= \\mathbf p\\\\\n",
    "\\mathbf p + \\mathbf e &= \\mathbf b\\\\\n",
    "A^T\\mathbf e &= \\mathbf 0\n",
    "\\end{aligned}\n",
    "$$\n",
    "\n",
    "- finding the solution\n",
    "\n",
    "Let us assume that the columns of $A$ are independent. (If this is not the case, we can replace $A$ by some basis of $C(A))$.\n",
    "\n"
   ]
  },
  {
   "cell_type": "markdown",
   "id": "1c4c9de6",
   "metadata": {
    "slideshow": {
     "slide_type": "slide"
    }
   },
   "source": [
    "\n",
    "\n",
    "**Observation** $(A^TA)$ is invertible if and only if the columns of $A$ are independent.\n",
    "\n",
    "*Proof*\n",
    "\n",
    "\n",
    "Suppose $(A^TA)$ is invertible, and let $A\\mathbf x = \\mathbf 0$. Then it follows\n",
    "\n",
    "$$\n",
    "\\begin{aligned}\n",
    "A^TA\\mathbf x &= A^T\\mathbf 0\\\\\n",
    "A^TA\\mathbf x &= \\mathbf 0\\\\\n",
    "\\mathbf x &= (A^TA)^{-1}\\mathbf 0\\\\\n",
    "&= \\mathbf 0\n",
    "\\end{aligned}\n",
    "$$\n",
    "This entails that the columns of $A$ are independent.\n",
    "\n",
    "Now suppose the columns of $A$ are independent. The Gauss-Jordan elimination factorizes\n",
    "\n",
    "$$\n",
    "A^T = E R,\n",
    "$$\n",
    "where $E$ is the combined elimination matrix and $R$ is the reduced row echelon form of $A^T$.\n",
    "\n",
    "As shown earlier today, $E$ is invertible.\n",
    "\n",
    "If the columns of $A$ are independent, $R$ contains $n$ pivot columns, and no free column. It follows that\n",
    "\n",
    "$$\n",
    "R^T R = \\mathbf I,\n",
    "$$\n",
    "\n",
    "since the dot product of a pivot column with itself must be $1$, and the dot product of two different pivot columns must be $0$.\n",
    "\n"
   ]
  },
  {
   "cell_type": "markdown",
   "id": "f5f3273f",
   "metadata": {
    "slideshow": {
     "slide_type": "slide"
    }
   },
   "source": [
    "Then we have:\n",
    "\n",
    "$$\n",
    "\\begin{aligned}\n",
    "A^TA &= ERR^T E^T\\\\\n",
    "&= E~\\mathbf I~ E^T\\\\\n",
    "&= E E^T\\\\\n",
    "\\end{aligned}\n",
    "$$\n",
    "\n",
    "By construction, $E$ is invertible. Therefore\n",
    "\n",
    "$$\n",
    "(A^TA)^{-1} = (E^{-1})^T E^{-1}\n",
    "$$\n",
    "\n",
    "$\\dashv$"
   ]
  },
  {
   "cell_type": "markdown",
   "id": "41b67139",
   "metadata": {
    "slideshow": {
     "slide_type": "slide"
    }
   },
   "source": [
    "- deriving the solution:\n",
    "\n",
    "$$\n",
    "\\begin{aligned}\n",
    "A\\mathbf x &= \\mathbf p\\\\\n",
    "\\mathbf p + \\mathbf e &= \\mathbf b\\\\\n",
    "A^T\\mathbf e &= \\mathbf 0\\\\\n",
    "A^T\\mathbf b &= A^T\\mathbf p + A^T\\mathbf e\\\\\n",
    "A^T\\mathbf b &= A^T\\mathbf p\\\\\n",
    "&= A^T A\\mathbf x\\\\\n",
    "\\mathbf x &= (A^T A)^{-1}A^T\\mathbf b\\\\\n",
    "\\mathbf p &= A(A^T A)^{-1}A^T\\mathbf b\\\\\n",
    "\\end{aligned}\n",
    "$$\n"
   ]
  },
  {
   "cell_type": "markdown",
   "id": "5939ab18",
   "metadata": {},
   "source": [
    "See https://book.stat420.org/collinearity.html about the relevance of this for statistics."
   ]
  }
 ],
 "metadata": {
  "@webio": {
   "lastCommId": null,
   "lastKernelId": null
  },
  "celltoolbar": "Slideshow",
  "hide_input": false,
  "kernelspec": {
   "display_name": "Python 3 (ipykernel)",
   "language": "python",
   "name": "python3"
  },
  "language_info": {
   "codemirror_mode": {
    "name": "ipython",
    "version": 3
   },
   "file_extension": ".py",
   "mimetype": "text/x-python",
   "name": "python",
   "nbconvert_exporter": "python",
   "pygments_lexer": "ipython3",
   "version": "3.9.11"
  },
  "latex_envs": {
   "LaTeX_envs_menu_present": true,
   "autoclose": false,
   "autocomplete": true,
   "bibliofile": "biblio.bib",
   "cite_by": "apalike",
   "current_citInitial": 1,
   "eqLabelWithNumbers": true,
   "eqNumInitial": 1,
   "hotkeys": {
    "equation": "Ctrl-E",
    "itemize": "Ctrl-I"
   },
   "labels_anchors": false,
   "latex_user_defs": false,
   "report_style_numbering": false,
   "user_envs_cfg": false
  },
  "rise": {
   "enable_chalkboard": true,
   "scroll": true
  },
  "varInspector": {
   "cols": {
    "lenName": 16,
    "lenType": 16,
    "lenVar": 40
   },
   "kernels_config": {
    "python": {
     "delete_cmd_postfix": "",
     "delete_cmd_prefix": "del ",
     "library": "var_list.py",
     "varRefreshCmd": "print(var_dic_list())"
    },
    "r": {
     "delete_cmd_postfix": ") ",
     "delete_cmd_prefix": "rm(",
     "library": "var_list.r",
     "varRefreshCmd": "cat(var_dic_list()) "
    }
   },
   "types_to_exclude": [
    "module",
    "function",
    "builtin_function_or_method",
    "instance",
    "_Feature"
   ],
   "window_display": false
  }
 },
 "nbformat": 4,
 "nbformat_minor": 5
}
