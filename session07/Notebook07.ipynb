{
 "cells": [
  {
   "cell_type": "code",
   "execution_count": 1,
   "id": "6b6d3e8a",
   "metadata": {
    "hide_input": true,
    "slideshow": {
     "slide_type": "skip"
    }
   },
   "outputs": [],
   "source": [
    "import sympy\n",
    "from sympy import Matrix, Rational, sqrt, symbols, zeros\n",
    "import numpy as np\n",
    "%matplotlib widget\n",
    "import matplotlib.pyplot as plt"
   ]
  },
  {
   "cell_type": "markdown",
   "id": "17d690f6",
   "metadata": {
    "slideshow": {
     "slide_type": "slide"
    }
   },
   "source": [
    "# Mathematics for Machine Learning\n",
    "\n",
    "## Session 07: Orthogonal projection; the determinant\n",
    "\n",
    "## Gerhard Jäger\n",
    "\n",
    "### November 12, 2024"
   ]
  },
  {
   "cell_type": "markdown",
   "id": "aa45792e",
   "metadata": {
    "slideshow": {
     "slide_type": "slide"
    }
   },
   "source": [
    "## Orthogonality\n",
    "\n",
    "Recall: vectors $\\mathbf v$ and $\\mathbf w$ are **orthogonal** if and only if\n",
    "\n",
    "$$\n",
    "\\mathbf v^T \\mathbf w = \\mathbf 0\n",
    "$$\n",
    "\n",
    "#### Examples\n",
    "\n",
    "- $\\begin{bmatrix}1\\\\1 \\\\0\\end{bmatrix}$, $\\begin{bmatrix}0\\\\0 \\\\1\\end{bmatrix}$\n",
    "\n",
    "\n",
    "- $\\begin{bmatrix}1\\\\1 \\end{bmatrix}$, $\\begin{bmatrix}2\\\\-2\\end{bmatrix}$\n",
    "\n",
    "\n",
    "- $\\begin{bmatrix}1\\\\1 \\\\ 2\\end{bmatrix}$, $\\begin{bmatrix}-2\\\\-2\\\\2\\end{bmatrix}$\n",
    "\n",
    "- .."
   ]
  },
  {
   "cell_type": "markdown",
   "id": "6c81157a",
   "metadata": {
    "slideshow": {
     "slide_type": "slide"
    }
   },
   "source": [
    "### orthogonal spaces\n",
    "\n",
    "Two vector spaces $\\mathbf V$ and $\\mathbf W$ are orthogonal if and only if\n",
    "\n",
    "$$\n",
    "\\forall \\mathbf v\\in \\mathbf V, \\mathbf w \\in \\mathbf W. \\mathbf v^T\\mathbf w = \\mathbf 0\n",
    "$$\n",
    "\n",
    "**Examples**\n",
    "\n",
    "$$\n",
    "\\begin{aligned}\n",
    "\\mathbf V &= \\{\\begin{bmatrix}x\\\\0\\end{bmatrix}: x \\in \\mathbb R\\}\\\\[1em]\n",
    "\\mathbf W &= \\{\\begin{bmatrix}0\\\\y\\end{bmatrix}: y \\in \\mathbb R\\}\\\\\n",
    "\\end{aligned}\n",
    "$$\n",
    "\n",
    "These are of course the $x$-axis and $y$-axis of a 2d-space."
   ]
  },
  {
   "cell_type": "markdown",
   "id": "e03b3386",
   "metadata": {
    "slideshow": {
     "slide_type": "slide"
    }
   },
   "source": [
    "$$\n",
    "\\begin{aligned}\n",
    "\\mathbf V &= \\{\\begin{bmatrix}x\\\\y\\\\0\\end{bmatrix}: x,y \\in \\mathbb R\\}\\\\[1em]\n",
    "\\mathbf W &= \\{\\begin{bmatrix}0\\\\0\\\\z\\end{bmatrix}: z \\in \\mathbb R\\}\\\\\n",
    "\\end{aligned}\n",
    "$$\n",
    "\n",
    "These are the $x$-$y$ plane and the $z$-axis of a 3d-space."
   ]
  },
  {
   "cell_type": "markdown",
   "id": "eba2fcd4",
   "metadata": {
    "slideshow": {
     "slide_type": "slide"
    }
   },
   "source": [
    "$$\n",
    "\\begin{aligned}\n",
    "\\mathbf V &= \\mathrm{span}(\n",
    "\\begin{bmatrix}\n",
    "1\\\\\n",
    "-1\\\\\n",
    "0\n",
    "\\end{bmatrix},\n",
    "\\begin{bmatrix}\n",
    "1\\\\\n",
    "1\\\\\n",
    "1\n",
    "\\end{bmatrix}\n",
    ")\\\\[1em]\n",
    "\\mathbf W &= \\mathrm{span}(\\begin{bmatrix}-1\\\\-1\\\\2\\end{bmatrix})\\\\\n",
    "\\end{aligned}\n",
    "$$\n",
    "\n",
    "How do we know whether $\\mathbf V$ and $\\mathbf W$ are orthogonal?"
   ]
  },
  {
   "cell_type": "markdown",
   "id": "45bfbf31",
   "metadata": {
    "slideshow": {
     "slide_type": "slide"
    }
   },
   "source": [
    "**Observation** Let $V$ and $W$ be two sets of vectors $\\subseteq \\mathbb R^n$. \n",
    "\n",
    "$\\mathrm{span}(V)$ is orthogonal to $\\mathrm{span}(W)$ if and only if for all $\\mathbf v\\in V, \\mathbf w \\in W$: $\\mathbf v$ and $\\mathbf w$ are orthogonal.\n",
    "\n",
    "*Proof*\n",
    "\n",
    "Suppose $\\mathrm{span}(V)$ is orthogonal to $\\mathrm{span}(W)$. If $\\mathbf v\\in V$, then $\\mathbf v\\in\\mathrm{span}(V)$, and likewise for $\\mathbf w$. Hence $\\mathbf v$ and $\\mathbf w$ are orthogonal.\n",
    "\n",
    "Now suppose for all $\\mathbf v\\in V, \\mathbf w \\in W$: $\\mathbf v$ and $\\mathbf w$ are orthogonal. Let $\\mathbf x\\in\\mathrm{span}(V)$ and $\\mathbf y\\in\\mathrm{span}(W)$.\n",
    "\n",
    "If $\\mathbf x\\in\\mathrm{span}(V)$ and $\\mathbf y\\in\\mathrm{span}(W)$, $\\mathbf x = \\sum_i r_i\\mathbf v_i$, $\\mathbf y = \\sum_j s_j\\mathbf w_j$ for $r_1,\\ldots,r_{|V|}, s_1,\\ldots,s_{|W|}\\in \\mathbb R$.\n",
    "\n",
    "$$\n",
    "\\begin{aligned}\n",
    "\\mathbf x^T\\mathbf y &= (\\sum_i r_i\\mathbf v_i)^T(\\sum_j s_i\\mathbf w_j)\\\\\n",
    "        &= \\sum_i (r_i\\mathbf v_i)^T(\\sum_j s_j\\mathbf w_j)\\\\\n",
    "        &= \\sum_i \\sum_j(r_i\\mathbf v_i)^T( s_j\\mathbf w_j)\\\\\n",
    "        &= \\sum_i \\sum_jr_i\\mathbf v_i^T( s_j\\mathbf w_j)\\\\\n",
    "        &= \\sum_i \\sum_jr_is_j\\mathbf v_i^T\\mathbf w_j\\\\\n",
    "        &= \\sum_i \\sum_jr_is_j\\mathbf 0\\\\\n",
    "        &= \\mathbf 0\\\\\n",
    "\\end{aligned}\n",
    "$$\n",
    "\n",
    "$\\dashv$"
   ]
  },
  {
   "cell_type": "markdown",
   "id": "dc598cd9",
   "metadata": {
    "slideshow": {
     "slide_type": "slide"
    }
   },
   "source": [
    "**Observation**\n",
    "\n",
    "Let $A$ be an $m\\times n$ matrix. Then\n",
    "\n",
    "- the column space $C(A)$ is orthogonal to the left null space $C(A^T)$, and\n",
    "- the row space $C(A^T)$ is orthogonal to the null space $N(A)$.\n",
    "\n",
    "*Proof*\n",
    "\n",
    "The column space of $A$ is $\\mathrm{span}(\\{\\mathbf a_i|1\\leq i \\leq n\\})$. If $\\mathbf x$ is in the left null space of $A$, this means that\n",
    "\n",
    "$$\n",
    "A^T \\mathbf x = \\mathbf 0\n",
    "$$\n",
    "\n",
    "It follows that \n",
    "\n",
    "$$\n",
    "\\forall i:\\mathbf a_i^T\\mathbf x = \\mathbf 0\n",
    "$$\n",
    "\n",
    "Due to the previous observation, it follows that $C(A)$ is orthogonal to $N(A^T)$. \n",
    "\n",
    "The proof of the second statement is analogous.\n",
    "\n",
    "$\\dashv$"
   ]
  },
  {
   "cell_type": "markdown",
   "id": "fa0c7df2",
   "metadata": {
    "slideshow": {
     "slide_type": "slide"
    }
   },
   "source": [
    "## Orthogonal projections\n",
    "\n",
    "Suppose we have two vectors $\\mathbf a$ and $\\mathbf b$. We want to find the *orthogonal projection from $\\mathbf a$ onto the line through $\\mathbf b$*. This is a vector $\\mathbf p$ with the properties:\n",
    "\n",
    "- $\\mathbf p = x\\mathbf b$ ($\\mathbf p$ lies on the line defined by $\\mathbf a$)\n",
    "- $\\mathbf a - \\mathbf p$ is orthogonal to $\\mathbf b$\n",
    "\n",
    "Here is how we find $\\mathbf p$:\n",
    "\n",
    "$$\n",
    "\\begin{aligned}\n",
    "(\\mathbf a - x\\mathbf b)^T\\mathbf b &= 0\\\\\n",
    "(\\mathbf a^T - x\\mathbf b^T)\\mathbf b &= 0\\\\\n",
    "\\mathbf a^T\\mathbf b - x\\mathbf b^T\\mathbf b &= 0\\\\\n",
    "\\mathbf a^T\\mathbf b &= x\\mathbf b^T\\mathbf b\\\\\n",
    "x &= \\frac{\\mathbf a^T\\mathbf b}{\\mathbf b^T\\mathbf b}\\\\\n",
    "\\mathbf p &= \\frac{\\mathbf a^T\\mathbf b}{\\mathbf b^T\\mathbf b}\\mathbf b\\\\\n",
    "\\end{aligned}\n",
    "$$\n",
    "\n",
    "- $\\mathbf p$ is called the *projection of $\\mathbf a$ onto the line throuhg $\\mathbf b$*.\n",
    "- $\\mathbf e = \\mathbf a - \\mathbf p$ is called the *error*.\n",
    "- $\\mathbf p$ is the point on the line through $\\mathbf b$ which is closest to $\\mathbf a$, i.e., the point which minimizes the error."
   ]
  },
  {
   "cell_type": "markdown",
   "id": "f23861d7",
   "metadata": {
    "slideshow": {
     "slide_type": "slide"
    }
   },
   "source": [
    "## Orthogonal projections\n",
    "\n",
    "Now suppose we have a matrix $A$ and a vector $\\mathbf b$, and we want to find the *orthogonal projection of  $\\mathbf b$ onto the* ***column space*** of $A$.\n",
    "\n",
    "In other words, we want to find the point $\\mathbf p$ which\n",
    "\n",
    "- is in the column space of $A$, and\n",
    "- minimizes the error $\\mathbf b-\\mathbf p$.\n",
    "\n"
   ]
  },
  {
   "cell_type": "markdown",
   "id": "a0186408",
   "metadata": {},
   "source": [
    "<img src=\"_img/projection.svg\"  width=\"1000\" style=\"display: block; margin-left: auto; margin-right: auto;\">\n",
    "\n",
    "\n",
    "(image from https://medium.com/linear-algebra/part-17-projections-122aac21b07c)\n",
    "    "
   ]
  },
  {
   "cell_type": "markdown",
   "id": "b7a8467e",
   "metadata": {
    "slideshow": {
     "slide_type": "slide"
    }
   },
   "source": [
    "- assumptions:\n",
    "\n",
    "$$\n",
    "\\begin{aligned}\n",
    "A\\mathbf x &= \\mathbf p\\\\\n",
    "\\mathbf p + \\mathbf e &= \\mathbf b\\\\\n",
    "A^T\\mathbf e &= \\mathbf 0\n",
    "\\end{aligned}\n",
    "$$\n",
    "\n",
    "- finding the solution\n",
    "\n",
    "Let us assume that the columns of $A$ are independent. (If this is not the case, we can replace $A$ by some basis of $C(A)$.\n",
    "\n"
   ]
  },
  {
   "cell_type": "markdown",
   "id": "1c4c9de6",
   "metadata": {
    "slideshow": {
     "slide_type": "slide"
    }
   },
   "source": [
    "\n",
    "\n",
    "**Observation** $(A^TA)$ is invertible if and only if the columns of $A$ are independent.\n",
    "\n",
    "*Proof*\n",
    "\n",
    "\n",
    "Suppose $(A^TA)$ is invertible, and let $A\\mathbf x = \\mathbf 0$. Then it follows\n",
    "\n",
    "$$\n",
    "\\begin{aligned}\n",
    "A^TA\\mathbf x &= A^T\\mathbf 0\\\\\n",
    "A^TA\\mathbf x &= \\mathbf 0\\\\\n",
    "\\mathbf x &= (A^TA)^{-1}\\mathbf 0\\\\\n",
    "&= \\mathbf 0\n",
    "\\end{aligned}\n",
    "$$\n",
    "This entails that the columns of $A$ are independent.\n",
    "\n",
    "Now suppose the columns of $A$ are independent. The Gauss-Jordan elimination factorizes\n",
    "\n",
    "$$\n",
    "A^T = E R,\n",
    "$$\n",
    "where $E$ is the combined elimination matrix and $R$ is the reduced row echelon form of $A^T$.\n",
    "\n",
    "As shown earlier, $E$ is invertible.\n",
    "\n",
    "If the columns of $A$ are independent, $R$ contains $n$ pivot columns, and no free column. It follows that\n",
    "\n",
    "$$\n",
    "R^T R = \\mathbf I,\n",
    "$$\n",
    "\n",
    "since the dot product of a pivot column with itself must be $1$, and the dot product of two different pivot columns must be $0$.\n",
    "\n"
   ]
  },
  {
   "cell_type": "markdown",
   "id": "f5f3273f",
   "metadata": {
    "slideshow": {
     "slide_type": "slide"
    }
   },
   "source": [
    "Then we have:\n",
    "\n",
    "$$\n",
    "\\begin{aligned}\n",
    "A^TA &= ERR^T E^T\\\\\n",
    "&= E~\\mathbf I~ E^T\\\\\n",
    "&= E E^T\\\\\n",
    "\\end{aligned}\n",
    "$$\n",
    "\n",
    "By construction, $E$ is invertible. Therefore\n",
    "\n",
    "$$\n",
    "(A^TA)^{-1} = (E^{-1})^T E^{-1}\n",
    "$$\n",
    "\n",
    "$\\dashv$"
   ]
  },
  {
   "cell_type": "markdown",
   "id": "41b67139",
   "metadata": {
    "slideshow": {
     "slide_type": "slide"
    }
   },
   "source": [
    "- deriving the solution:\n",
    "\n",
    "$$\n",
    "\\begin{aligned}\n",
    "A\\mathbf x &= \\mathbf p\\\\\n",
    "\\mathbf p + \\mathbf e &= \\mathbf b\\\\\n",
    "A^T\\mathbf e &= \\mathbf 0\\\\\n",
    "A^T\\mathbf b &= A^T\\mathbf p + A^T\\mathbf e\\\\\n",
    "A^T\\mathbf b &= A^T\\mathbf p\\\\\n",
    "&= A^T A\\mathbf x\\\\\n",
    "\\mathbf x &= (A^T A)^{-1}A^T\\mathbf b\\\\\n",
    "\\mathbf p &= A(A^T A)^{-1}A^T\\mathbf b\\\\\n",
    "\\end{aligned}\n",
    "$$\n"
   ]
  },
  {
   "cell_type": "markdown",
   "id": "febb16e8",
   "metadata": {
    "slideshow": {
     "slide_type": "slide"
    }
   },
   "source": [
    "### Projection matrix\n",
    "\n",
    "The matrix\n",
    "\n",
    "$$\n",
    "P = A(A^TA)^{-1}A^T\n",
    "$$\n",
    "\n",
    "is the **projection matrix** that maps each vector to its projection onto the column space of $A$.\n",
    "\n",
    "Each projection matrix $P$ has the property that $PP=P$\n",
    "\n",
    "$$\n",
    "\\begin{aligned}\n",
    "P &= A(A^TA)^{-1}A^T\\\\\n",
    "PP &= A(A^TA)^{-1}A^TA(A^TA)^{-1}A^T\\\\\n",
    "&= A(A^TA)^{-1}(A^TA)(A^TA)^{-1}A^T\\\\\n",
    "&= A(A^TA)^{-1}A^T\\\\\n",
    "&= P\n",
    "\\end{aligned}\n",
    "$$"
   ]
  },
  {
   "cell_type": "markdown",
   "id": "c215042a",
   "metadata": {
    "slideshow": {
     "slide_type": "slide"
    }
   },
   "source": [
    "### Statistics interlude: Linear regression\n",
    "\n",
    "**linear regression**\n",
    "\n",
    "- independent variables: $m\\times n$ matrix $X$\n",
    "    - $n$: number of observations\n",
    "    - $m$: number of independent variables\n",
    "- dependent variable: length-$n$ vector $\\mathbf y$\n",
    "- goal: find parameter vector $\\beta$ (length $m+1$) such that the *total squared error* is minimized\n",
    "\n",
    "$$\n",
    "\\hat\\beta = \\arg_\\beta\\min \\sum_i (\\beta_1 + \\sum_{j=1}^m \\beta_{j+1}x_{i,j} - y_i)^2\n",
    "$$"
   ]
  },
  {
   "cell_type": "markdown",
   "id": "f39345f5",
   "metadata": {
    "slideshow": {
     "slide_type": "slide"
    }
   },
   "source": [
    "Let's rephrase this with linear algebra\n",
    "\n",
    "$$\n",
    "\\begin{aligned}\n",
    "X_1 &= [\\mathbf 1 X]\\\\\n",
    "\\hat {\\mathbf y} &= X_1\\beta\\\\\n",
    "\\epsilon &= ||\\mathbf y - \\hat {\\mathbf y}||^2\\\\\n",
    "\\hat\\beta &= \\arg_\\beta\\min \\epsilon\n",
    "\\end{aligned}\n",
    "$$\n",
    "\n",
    "From the second equation we see that $\\hat {\\mathbf y}$ is in the column space of $X_1$. \n",
    "\n",
    "The goal is to find the point $\\hat {\\mathbf y}$ in the column space of $X_1$ that minimizes the squared distance to $\\mathbf y$.\n",
    "\n",
    "This is also the point that minimizes the absolute distance between $\\hat {\\mathbf y}$ and $\\mathbf y$. In other words, $\\hat {\\mathbf y}$ is the projection of $\\mathbf y$ onto the column space of $X_1$:\n",
    "\n",
    "$$\n",
    "\\hat\\beta = (X_1^TX_1)^{-1}X_1^T\\mathbf y\n",
    "$$\n",
    "\n",
    "If the columns of $X_1$ are not independent, $\\hat\\beta$ is not well-defined (and your statistics software will complain).\n",
    "\n",
    "https://book.stat420.org/collinearity.html"
   ]
  },
  {
   "cell_type": "markdown",
   "id": "5336f49b",
   "metadata": {
    "slideshow": {
     "slide_type": "slide"
    }
   },
   "source": [
    "# Determinants\n",
    "\n",
    "Consider the matrix \n",
    "$$\n",
    "\\begin{bmatrix}\n",
    "a & b \\\\\n",
    "c & d\n",
    "\\end{bmatrix}\n",
    "$$\n",
    "\n",
    "What is the area of the parallelogram defined by the two column vectors?"
   ]
  },
  {
   "cell_type": "code",
   "execution_count": 2,
   "id": "38fcdce3",
   "metadata": {
    "hide_input": true,
    "scrolled": false
   },
   "outputs": [
    {
     "data": {
      "text/plain": [
       "<matplotlib.quiver.Quiver at 0x7a96d40123d0>"
      ]
     },
     "execution_count": 2,
     "metadata": {},
     "output_type": "execute_result"
    },
    {
     "data": {
      "application/vnd.jupyter.widget-view+json": {
       "model_id": "8ad9b005fe0048ef8af9be1081f97f1c",
       "version_major": 2,
       "version_minor": 0
      },
      "image/png": "[encoded data removed]",
      "text/html": [
       "\n",
       "            <div style=\"display: inline-block;\">\n",
       "                <div class=\"jupyter-widgets widget-label\" style=\"text-align: center;\">\n",
       "                    Figure\n",
       "                </div>\n",
       "                <img src='data:image/png;base64,iVBORw0KGgoAAAANSUhEUgAAAlgAAAJYCAYAAAC+ZpjcAAAAOXRFWHRTb2Z0d2FyZQBNYXRwbG90bGliIHZlcnNpb24zLjUuMSwgaHR0cHM6Ly9tYXRwbG90bGliLm9yZy/YYfK9AAAACXBIWXMAAA9hAAAPYQGoP6dpAAAfyklEQVR4nO3dfZSU9X338e+uKw8Ku4qKYkVUEE1KTBqC4B2IWImoBW0eTKNtjBpj2sRiYquBpCbx9E4wT2001N5VxNrSmKfTRE1O1GCKwWODKFI9aKNoFHKwkYrZBQNLYOf+YwO4CwsL+525dmZer3M4x50Z8Odlwnn7mWuWhlKpVAoAANI0Fn0AAIBaI7AAAJIJLACAZAILACCZwAIASCawAACSCSwAgGQCCwAgmcACAEgmsAAAkgksAIBkAgsAIJnAAgBIJrAAAJIJLACAZAILACCZwAIASCawAACSCSwAgGQCCwAgmcACAEgmsAAAkgksAIBkAgsAIJnAAgBIJrAAAJIJLACAZAILACCZwAIASCawAACSCSwAgGQCCwAgmcACAEgmsAAAkgksAIBkAgsAIJnAAgBIJrAAAJIJLACAZAILACCZwAIASCawAACSCSwAgGQCCwAgmcACAEgmsAAAkgksAIBkAgsAIJnAAgBIJrAAAJIJLACAZAILACCZwAIASCawAACSCSwAgGQCCwAgmcACAEgmsAAAkgksAIBkAgsAIJnAAgBIJrAAAJIJLACAZAILACCZwAIASCawAACSCSwAgGQCCwAgmcACAEgmsAAAkgksAIBkAgsAIJnAAgBIJrAAAJIJLACAZAILACCZwAIASCawAACSCSwAgGQCCwAgmcACAEgmsAAAkgksAIBkAgsAIJnAAgBIJrAAAJIJLACAZAILACCZwAIASCawAACSCSwAgGQCCwAgmcACAEgmsAAAkgksAIBkAgsAIJnAAgBIJrAAAJIJLACAZAILACCZwAIASCawAACSCSwAgGQCCwAgmcACAEgmsAAAkgksAIBkAgsAIJnAAgBIJrAAAJIJLACAZAILACCZwAIASCawAACSCSwAgGQCCwAgmcACAEgmsAAAkgksAIBkAgsAIJnAAgBIJrAAAJIJLACAZAILACCZwAIASCawAACSCSwAgGQCCwAgmcACAEgmsAAAkgksAIBkAgsAIJnAAgBIJrAAAJIJLACAZAILACCZwAIASCawAACSCSwAgGQCCwAgmcACAEgmsAAAkgksoKYtWrQoGhoa4qMf/ehun3/uueeisbExpk+fXuGTAbVMYAE17cwzz4zRo0fHN77xjfjNb36zy/Pz58+PUqkUH/7whws4HVCrBBZQ0xoaGuKKK66I1tbW+M53vtPlua1bt8Ydd9wRw4cPj/PPP7+gEwK1SGABNe/SSy+NAQMGxPz587s8/sMf/jBeeuml+OAHPxgHHnhgQacDapHAAmreEUccEe9+97vjoYceiv/+7//e8fj24Lr88suLOhpQowQWUBc+8pGPRMTOqFq7dm386Ec/itNPPz3Gjh1b5NGAGiSwgLowderUOPnkk+Nf/uVfYsuWLXH77bfHtm3b3NwOlIXAAurGFVdcEevWrYvvf//7sWDBgjj00EPjPe95T9HHAmpQQ6lUKhV9CIBKWL9+ffze7/1eDBs2LNauXRuzZs2KG2+8sehjATXIggXUjWHDhsUFF1wQa9eujYjw9iBQNgILqCsf/OAHIyJi0qRJMW7cuIJPA9QqgQXUlccffzwirFdAebkHC6gbmzdvjpNPPjna2tril7/8ZRx00EFFHwmoUU1FHwCg3B566KF48MEH47777osXX3wx5s6dK66AshJYQM1btGhRXH/99XH44YfHJz7xifjrv/7roo8E1DhvEQIAJHOTOwBAMoEFAJBMYAE1YdGiRfHGN74xFi1aVPRRANyDBVS/UqkUEydOjGXLlsWECRNi6dKl0dDQUPSxgDpmwQKq3v333x/Lli2LiIhly5bF/fffX/CJgHpnwQKq2vb16rHHHouOjo5obGyM8ePHW7GAQlmwgKq2fb3q6OiIiIiOjg4rFlA4CxZQtbqvV9tZsYCiWbCAqrVly5ZYvXp1l7iK6Fyx1qxZE1u2bCnoZEC9s2ABVW3NmjWxbt262LhxY5x++unx4IMPxpAhQ2L48OFxzDHHFH08oE4JLKAmtLW1RUtLS7S2tkZzc3PRxwHqnLcIAQCSCSwAgGQCCwAgmcACAEgmsAAAkgksAIBkAgsAIJnAAgBIJrAAAJIJLACAZAILACCZwAIASCawAACSCSwAgGQCCwAgmcACAEgmsAAAkgksAIBkAgsAIJnAAgBIJrAAAJIJLACAZAILACCZwAIASCawAACSCSwAgGQCCwAgmcACAEgmsAAAkgksAIBkAgsAIJnAAgBIJrAAAJIJLACAZAILACCZwAIASCawAACSCSwAgGQCCwAgmcACAEgmsAAAkgksAIBkAgsAIJnAAgBIJrAAAJIJLACAZAILACCZwAIASCawAACSCSwAgGQCCwAgmcACAEgmsAAAkgksAIBkAgsAIJnAAgBIJrAAAJIJLACAZAILACCZwAIASCawAACSCSwAgGQCCwAgmcACAEgmsAAAkgksAIBkAgsAIJnAAgBIJrAAAJIJLACAZAILACCZwAIASCawAACSCSwAgGQCCwAgmcACAEgmsAAAkgksAIBkAgsAIJnAAgBIJrAAAJIJLACAZAILACCZwAIASCawAACSCSwAgGQCC6iM9vZY8fMH48Vfv1j0SQDKTmAB5bd1a8SFF8axBx8d0/51Wrzl/70lPvMfn4lH1z4aHaWOok8HkK6hVCqVij4EUMM6OiIuuSTixz+OeOmleHrd0zHptknR1t4WERFHDz06Zo6dGeefdH6ccfwZMahp0H79bdra2qKlpSVaW1ujubk58R8AYN8JLKB8SqWIv/zLiH/4h4h3vjPi/vsjIuJHz/4oZtw5Y5f16uADD47pY6bHeWPPiz8a+0dx+EGH9/pvJbCA/sRbhED5/M3fdMZVRMS4cTsePufEc+Ir7/zKLi9/7bevxb8//e9xyV2XxJFfOTLecfs74isPfyWeeeWZSp0YIIUFCyiPL30p4pOf3Pn1ggURl16648tSqRSX3315LFixoFe/3MmHnxznjT0vLnnLJfGGI96wy/MWLKA/sWAB+f7pn7rGVUSXBSsioqGhIW7+o5tj8rGTe/VLrmldE80Dm+O4Q45LOiRA+ViwgFx33hnxp3/aef/Vdg0NERs3Rhx00C4vf/m1l2PCrRNidevqHn/Js8ecHbedd1scPfToHl9jwQL6EwsWkOeeeyI+8IGucRURMXr0buMqImL4wcPj7vffHQcfeHCPv+yDLzwY333qu76lA1A1BBaQ4yc/ibjggoht23Z9rtvbg929+ag3x8J3L+zx+U1bN8VV914VU/95aqxav6qvJwUoO4EF9N3SpRHnnRfR3r7759/0pr3+En988h/H5//w810eO/LgI7t8vWT1kjjlH0+Jm5beZM0C+jWBBfTNE09EnHNOxGuv9fyavSxY282ZPCcuHHfhjq+/c8F34sazb4zBTYN3PGbNAqqBwAL237PPRpx1VsSrr+75db1YsCI6P1l423m3xYSjJ0RExAmHnhCzJs6KJ/7iiZhy7JQur7VmAf2ZTxEC+2fz5ogPfzjixd/94c0vvRSxajeL0oABnZ8gPPDAXv/SazesjckLJseqWauisaHzvwM7Sh0x75F5MXvR7Ni0dVOX1085dkrceMaN8dbj3+pThEC/ILCAHDNnRvzgB7s+/uY3R6xYsc+/3POvPh8nHHrCLo+vWr8qLrvrsliyekmXxwdtHRSb/+/mePXXr8YhLYfs898PIJO3CIG+e/TRrnF12mkR21ekXt5/1d3u4ioiYsywMbH4ksW73Ju1eevmiIg499/OdW8WUDiBBfTd9dd3/fqmmyJuu63zr3t5/9W+aGxo7PHerP9c85/uzQIKJ7CAvum+Xs2YEfG2t0W8970RV1653wtWb7x+zRrUNGjH4z5pCBTNPVhA33S/92rZss7Aiuj8vlibNkUcckjZj/H4C4/HW49/a8TsiNjZWjG4aXDcMO2GuPLUK3fcMA9Qbn63AfZfT+vVdgMHViSuIiJGDxsdERFffOcXfd8soHAWLGD/7Wm9qrDX/2HPL299ebefNLRmAZXidxhg/+xtvSpQT580tGYBlSKwgP3T/ZODn/1sMefowZ4+aei7wAPlJrCAfdeP16vurFlAEQQWsO/6+XrVnTULqDSBBeybKlqvurNmAZUisIB9U2XrVXfWLKASBBbQe1W8XnVnzQLKSWABvVfl61V31iygXAQW0Ds1tF51Z80CsgksoHdqbL3qzpoFZBJYwN7V8HrVnTULyCCwgL2r8fWqO2sW0FcCC9izOlqvurNmAftLYAF7VmfrVXfWLGB/CCygZ3W8XnVnzQL2hcACelbn61V31iygtwQWsHvWqx5Zs4C9EVjA7lmv9siaBeyJwAJ2Zb3qNWsWsDsCC9iV9WqfWLOA7gQW0JX1ar9Zs4DtBBbQlfWqT6xZQITAAl7PepXGmgX1TWABOxW8XnV0dMSXvvSlGDNmTAwcODCOPfbY+PznP1/RM2SyZkH9ElhAp36wXs2ZMyduuOGGuO666+Kpp56Kb3zjG3HkkUdW9AzlsLc164LvXFDg6YByaCiVSqWiDwH0AzNndg2sZcsqGlgbNmyII444IubNmxeXX375Xl/f3t4e7e3tO75ua2uLkSNHRmtrazQ3N5fzqH2yav2quOyuy2LJ6iU7HvvWe78V7/v99xV4KiCbBQvoF+vV008/He3t7XHmmWf26vVz586NlpaWHT9GjhxZ5hPm6L5mXTD4beIKapDAAgq/9yoiYvDgwXt/0evMmTMnWltbd/xYs2ZNmU6Wb8e9WUOvjX/4yaCijwOUgcCCetcP1quIiBNPPDEGDx4cDzzwQK9eP3DgwGhubu7yo6r867/GmKuujyNOHl/0SYAyaCr6AEDB+sF6FRExaNCg+OQnPxnXXnttDBgwIN7+9rfHunXrYuXKlfGhD32okDOVzfe+F3HppZ1/PW5csWcBykJgQT3rJ+vVdtddd100NTXFZz7zmVi7dm2MGDEi/vzP/7yw85TFj38c8f73R2zb1vn1m95U7HmAsvApQqhnBX9yMFNbW1u0tLT0708RPvxwxDvfGfGb3+x8rK0tYujQ4s4ElIV7sKBe9bP1quatWBFx7rld4+r448UV1CiBBfWqn9x7VRd+/vOIs86KaG3t+rj7r6BmCSyoR9arynnxxYhp0yLWrdv1OfdfQc0SWFCPrFeV8T//0xlXv/zl7p+3YEHNElhQb6xXlbF+fefbgqtW9fwaCxbULIEF9cZ6VX4bN3be0P7kkz2/pqkpYuzYyp0JqCiBBfXEelV+mzdHnH9+xNKle37dySdHDBhQmTMBFSewoJ5Yr8rv17+O+PSnIx54oPPH7//+7l/n7UGoab6TO9QL61VlHHVU54+Izmu+cuXO55qaIrZu7fxrN7hDTbNgQb2wXlVe92v+wx9GHHts519bsKCmCSyoB9arytvdNT/rrIhvfrNzybJgQU0TWFAPrFeV19M1P+20iHnzIkaNqvyZgIrxhz1DrXv00YgJE3Z+PWNGxD33FHeeMulXf9hznVxzoGcWLKh11qvKc82h7gksqGXuvao81xwIgQW1zZJSea45EAILapclpfJcc+B3BBbUKktK5bnmwO8ILKhFlpTKc82B1xFYUIssKZXnmgOvI7Cg1lhSKs81B7oRWFBrLCmV55oD3QgsqCWWlMpzzYHdEFhQSywpleeaA7shsKBWWFIqzzUHeiCwoFZYUirPNQd6ILCgFlhSKs81B/ZAYEEtsKRUnmsO7IHAgmpnSak81xzYC4EF1c6SUnmuObAXAguqmSWl8lxzoBcEFlQzS0rlueZALwgsqFaWlMpzzYFeElhQrSwpleeaA70ksKAaWVIqzzUH9oHAgmpUJ0vK1KlT4+Mf/3jRx+hUJ9ccyCGwoNpYUirPNQf2kcCCamNJqTzXHNhHAguqSQ0vKa+99lpcfPHFMWTIkBgxYkR89atfLfpInWr4mgPlI7CgmtxyS9eva2hJueaaa+LBBx+Mu+66K+6///5YvHhxLF++vOhjWa+A/dJU9AGAfXDzzbH5tAnx8PzPxuTD/iAG1MiSsnHjxrjtttti4cKFceaZZ0ZExB133BHHHHNMjz+nvb092tvbd3zd1taWfzDrFbCfLFhQTZqaYtClH46VX742Dp/00/iT7/5J/NsT/xbrN60v+mR98txzz8WWLVti4sSJOx4bNmxYnHTSST3+nLlz50ZLS8uOHyNHjsw/mPUK2E8CC6rQladdFRe+6aL49spvx599789i+JeHxxl3nBFf+9nX4vlXny/6eBUxZ86caG1t3fFjzZo1uX8D6xXQBwILqlBDQ0N8/dyvx+mjTo+IiG2lbbH4hcXxifs+EaNvGh3jbh4Xn3rgU/GzX/4sOkodBZ9270aPHh0HHnhgLF26dMdjr776ajzzzDM9/pyBAwdGc3Nzlx+prFdAH7gHC6rUgAMGxHff99049dZT4xe//kWX51auWxkr162MuQ/NjSMPPjJmjp0Z5510Xkw7YVoMPnBwQSfu2ZAhQ+JDH/pQXHPNNXHYYYfF8OHD49Of/nQ0Nhb034DWK6CPBBZUscMPOjzuufCemHTbpNi4ZeNuX/Or134V8x+fH/Mfnx+DmwbHWaPPivNPOj8ufvPFcUDjARU+cc++/OUvx8aNG2PmzJkxdOjQ+Ku/+qtobW0t5jDWK6CPGkqlUqnoQwB984NnfhDn3XlelGLv/3d++8i3x9fO/lq87ejaWmTa2tqipaUlWltb+/Z24aOPRkyYsPPrGTMi7rmn7wcE6op7sKAGzBg7I26YdsMeXzPwgIFx53vujCWXLqm5uEplvQISCCyoEdf8n2viA6d8oMfn27e1x83Lbo7nXn2ugqeqMu69ApIILKgRDQ0NccvMW2LSMZN6fM2S1UvilH88JW5aelNVfLqw4qxXQBKBBTVkUNOg+N6ffC+Oad75HdCHDBgSg5t2fnJw09ZNcdW9V8XUf54aq9avKuKY/ZP1CkgksKDGHDXkqLj7/XfHQQceFBERk46ZFE/8xRMx5dgpXV5nzerGegUkElhQg/5gxB/EHX98R0REHNdyXIwZNiYWX7I4bjz7RmvW7livgGQCC2rUe9/43rh+6vVx3CHHRUREY0NjzJo4y5q1O9YrIJnvgwU1rFQqxQu/fiGOP/T4Lo93lDpi3iPzYvai2bFp66Yuz005dkosOH9BjBk2ppJH7bP9/j5Yvu8VUAYCC+rYqvWr4rK7Loslq5d0eXxw0+C4YdoNceWpV0ZjQ3UM3fsdWDNndn17cNkybw8CfVYdv3MCZVH392a59wooE4EFda6u781y7xVQJgILiIg6XLOsV0AZCSxgh7pas6xXQBkJLGAXNb9mWa+AMhNYwG7V9JplvQLKTGABe1Rza5b1CqgAgQXsVU2tWdYroAIEFtBrVb9mWa+AChFYwD6p6jXLegVUiMAC9kvVrVnWK6CCBBaw36pqzbJeARUksIA+6/drlvUKqDCBBaTo12uW9QqoMIEFpOp3a5b1CiiAwALS9as1y3oFFEBgAWVT+JplvQIKIrCAsip0zbJeAQURWEBFVHzNsl4BBRJYQMVUdM2yXgEFaiiVSqWiDwHUn45SR8x7ZF7MXjQ7Nm3d1OW5KcdOiQXnL4gxw8b0+tdra2uLlpaWaG1tjeZnnomYMGHnkzNmRNxzT9bRAfbKggUUoqxrlvUKKJjAAgqVfm/W8uXuvQIK5y1CoN9YtX5VXHbXZbFk9ZIujw9uGhw3TLshrjz1ymhs2P1/F+54i3D69Gi+776dTyxbJrCAihNYQL+yv/dm7QisiGje/qB7r4CCeIsQ6FdS781y7xVUlVKpFOeee240NDTEt771rV2eO+ecc3b7XH9kwQL6rX1Zs9oWL46WM87YuWBZr6Aq/epXv4pTTjkl2tvb47/+679i1KhRERHx93//93H11VfHJZdcErfffnvBp9w7gQX0e725N2vjOedGy3337Qws915B4drb22PAgAHR0NCwTz/v3nvvjXPPPTdOO+20+OlPfxpPPvlkTJw4MUaNGhXLly+PIUOGlOnEebxFCPR7e/2k4by3xXOPvO7Gdp8chMKtWbMmRo0aFRMnToz77rsv9mXPOfvss+Oqq66Khx9+OGbPnh0XXnhhlEqluPPOO6siriIsWECV6WnNGrQxYvNXonPBsl5B4ZYvXx7jx4+PxsbG6OjoiAkTJsTf/u3fxllnndWrRau9vT0mTZoUK1asiIiIL37xi3HttdeW+dR5moo+QLUolUqxYcOGoo8BdW940/C4+913xy2P3RKf/Y/PxuatmyMi4viXI56OiLYzz4wYOzaira3Yg0Kd27hxY0REdHR0fiDlsccei7PPPjsmTJgQX/jCF2LatGl7/PkDBw6Mc845J1asWBGDBg2Kyy+/vOxnzmTB6qXtHwEHAPrmDW94Qzz11FN7fM3SpUtj8uTJ0dLSEq+88kq8733vq4pPD25nweqloUOHRmtra9HHgGhra4uRI0fGmjVrorm5ee8/ocZ1lDpi+UvLY+yQsVV5Xfz7pFatWLEiTj/99B1fv/6twi984Qt7/LkbNmyIiy66KJqammLx4sXxuc99Lr797W/H9OnT47LLLiv30VMIrF5qaGjwmx/9SnNzs/9N/s4ftvxhtP3uLcFqvS7Vem7oyfab0beH1fjx43t9D9ZHP/rReP7552PevHkxbty4uPXWW+ORRx6JWbNmxeTJk2Ps2LGV+EfoE58iBADSDR8+PI466qgYP3583HvvvbF06dKYPn36XuNq4cKFsXDhwpg5c2Z87GMfi4iIQw89NBYuXBibNm2Kiy66KH77299W4h+hTwQWAJDumGOOiRdeeKHXYRUR8Ytf/CI+9rGPxYgRI2LBggVdnnvHO94Rc+bMicceeyw+9alPlevYadzkDlWmvb095s6dG3PmzImBAwcWfZx+Y8efRdjaWlVvtfn3CbVJYAE1oVoDC6hN3iIEAEgmsAAAkgksAIBkAguqxNSpU+PjH/940ccAoBcEFgBAMoEFAJBMYEEV2bp1a1x55ZXR0tIShx9+eFx33XXhO61Ur3vvvTcmT54chxxySBx22GExY8aMeO6554o+FpBAYEEVueOOO6KpqSkeeeSRuPHGG+Pv/u7vYv78+UUfi/302muvxdVXXx2PPvpoPPDAA9HY2Bjvete7oqOjo+ijAX3kG41ClZg6dWq8/PLLsXLlyh1/5MTs2bPj7rvvjqeeeqrg0xWvFr7R6P/+7//GEUccEU8++WSMGzeu6OMAfWDBgioyadKkLn+e12mnnRbPPvtsbNu2rcBTsb+effbZuPDCC+OEE06I5ubmOO644yIiYvXq1cUeDOizpqIPAFCvZs6cGaNGjYpbb701jj766Ojo6Ihx48bFli1bij4a0EcCC6rI0qVLu3z9s5/9LE488cQ44IADCjoR++uVV16Jn//853HrrbfGlClTIiLioYceKvhUQBaBBVVk9erVcfXVV8dHPvKRWL58eXz961+Pr371q0Ufi/1w6KGHxmGHHRa33HJLjBgxIlavXh2zZ88u+lhAEoEFVeTiiy+OTZs2xamnnhoHHHBAXHXVVXHFFVcUfSz2Q2NjY3zzm9+MWbNmxbhx4+Kkk06Km266KaZOnVr00YAEPkUI1IRa+BQhUDt8ihAAIJnAAgBIJrAAAJIJLACAZAILACCZwAIASCawAACSCSwAgGQCCwAgmcACAEgmsAAAkgksAIBkAgsAIJnAAgBIJrAAAJIJLACAZAILACCZwAIASCawAACSCSwAgGQCCwAgmcACAEgmsAAAkgksAIBkAgsAIJnAAgBI1lAqlUpFHwKgr0qlUmzYsCGGDh0aDQ0NRR8HqHMCCwAgmbcIAQCSCSwAgGQCCwAgmcACAEgmsAAAkgksAIBkAgsAIJnAAgBIJrAAAJIJLACAZAILACCZwAIASCawAACSCSwAgGQCCwAgmcACAEgmsAAAkgksAIBkAgsAIJnAAgBIJrAAAJIJLACAZAILACCZwAIASCawAACSCSwAgGQCCwAgmcACAEgmsAAAkgksAIBkAgsAIJnAAgBIJrAAAJIJLACAZAILACCZwAIASCawAACSCSwAgGQCCwAgmcACAEgmsAAAkgksAIBkAgsAIJnAAgBIJrAAAJIJLACAZAILACCZwAIASCawAACSCSwAgGQCCwAgmcACAEgmsAAAkgksAIBkAgsAIJnAAgBIJrAAAJIJLACAZAILACCZwAIASCawAACSCSwAgGQCCwAgmcACAEgmsAAAkgksAIBkAgsAIJnAAgBIJrAAAJIJLACAZAILACCZwAIASCawAACSCSwAgGQCCwAgmcACAEgmsAAAkgksAIBkAgsAIJnAAgBIJrAAAJIJLACAZAILACCZwAIASCawAACSCSwAgGQCCwAgmcACAEgmsAAAkgksAIBkAgsAIJnAAgBIJrAAAJIJLACAZAILACCZwAIASCawAACSCSwAgGQCCwAgmcACAEgmsAAAkgksAIBkAgsAIJnAAgBIJrAAAJIJLACAZAILACCZwAIASCawAACSCSwAgGQCCwAgmcACAEgmsAAAkgksAIBkAgsAIJnAAgBIJrAAAJIJLACAZAILACCZwAIASCawAACSCSwAgGQCCwAgmcACAEgmsAAAkgksAIBkAgsAIJnAAgBIJrAAAJIJLACAZAILACCZwAIASCawAACSCSwAgGQCCwAgmcACAEgmsAAAkgksAIBkAgsAIJnAAgBIJrAAAJIJLACAZAILACCZwAIASCawAACSCSwAgGQCCwAgmcACAEgmsAAAkgksAIBkAgsAIJnAAgBIJrAAAJIJLACAZP8frRuajoHIRzAAAAAASUVORK5CYII=' width=600.0/>\n",
       "            </div>\n",
       "        "
      ],
      "text/plain": [
       "Canvas(toolbar=Toolbar(toolitems=[('Home', 'Reset original view', 'home', 'home'), ('Back', 'Back to previous …"
      ]
     },
     "metadata": {},
     "output_type": "display_data"
    }
   ],
   "source": [
    "a, b, c, d = 2, -3, 4, 2\n",
    "\n",
    "fig, ax = plt.subplots(figsize=(6,6))\n",
    "xmin, xmax, ymin, ymax = -9, 9, -1, 9\n",
    "ax.set(xlim=(xmin-1, xmax+1), ylim=(ymin-1, ymax+1), aspect='equal')\n",
    "ax.spines['bottom'].set_position('zero')\n",
    "ax.spines['left'].set_position('zero')\n",
    "ax.spines['top'].set_visible(False)\n",
    "ax.spines['right'].set_visible(False)\n",
    "ax.set_xticks([b,a])\n",
    "ax.set_xticklabels(['b','a'])\n",
    "ax.set_yticks([d,c])\n",
    "ax.set_yticklabels(['d','c'])\n",
    "\n",
    "ax.set_xlabel('x', size=14, labelpad=-24, x=1.03)\n",
    "ax.set_ylabel('y', size=14, labelpad=-21, y=1.02, rotation=0)\n",
    "arrow_fmt = dict(markersize=4, color='black', clip_on=False)\n",
    "ax.plot((1), (0), marker='>', transform=ax.get_yaxis_transform(), **arrow_fmt)\n",
    "ax.plot((0), (1), marker='^', transform=ax.get_xaxis_transform(), **arrow_fmt)\n",
    "\n",
    "\n",
    "ax.quiver((0,),(0,), (a,), (c,), units=\"xy\", scale=1, color='red')\n",
    "ax.quiver((b,),(d,), (a,), (c,), units=\"xy\", scale=1, color='red')\n",
    "ax.quiver((0,),(0,), (b,), (d,), units=\"xy\", scale=1, color='green')\n",
    "ax.quiver((a,),(c,), (b,), (d,), units=\"xy\", scale=1, color='green')"
   ]
  },
  {
   "cell_type": "markdown",
   "id": "288eb6f7",
   "metadata": {
    "slideshow": {
     "slide_type": "slide"
    }
   },
   "source": [
    "### horizontal elimination\n",
    "\n",
    "$$\n",
    "\\begin{bmatrix}\n",
    "a & b \\\\\n",
    "c & d\n",
    "\\end{bmatrix} \\Rightarrow\n",
    "\\begin{bmatrix}\n",
    "\\frac{ad-bc}{d} & b \\\\\n",
    "0 & d\n",
    "\\end{bmatrix} \\Rightarrow\n",
    "\\begin{bmatrix}\n",
    "\\frac{ad-bc}{d} & 0 \\\\\n",
    "0 & d\n",
    "\\end{bmatrix}\n",
    "$$"
   ]
  },
  {
   "cell_type": "code",
   "execution_count": 3,
   "id": "0057de7d",
   "metadata": {
    "hide_input": true
   },
   "outputs": [
    {
     "data": {
      "text/plain": [
       "<matplotlib.quiver.Quiver at 0x7a96cbcd2cd0>"
      ]
     },
     "execution_count": 3,
     "metadata": {},
     "output_type": "execute_result"
    },
    {
     "data": {
      "application/vnd.jupyter.widget-view+json": {
       "model_id": "a446ce4696e24d2898aaa5c73f1056b4",
       "version_major": 2,
       "version_minor": 0
      },
      "image/png": "[encoded data removed]",
      "text/html": [
       "\n",
       "            <div style=\"display: inline-block;\">\n",
       "                <div class=\"jupyter-widgets widget-label\" style=\"text-align: center;\">\n",
       "                    Figure\n",
       "                </div>\n",
       "                <img src='data:image/png;base64,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' width=600.0/>\n",
       "            </div>\n",
       "        "
      ],
      "text/plain": [
       "Canvas(toolbar=Toolbar(toolitems=[('Home', 'Reset original view', 'home', 'home'), ('Back', 'Back to previous …"
      ]
     },
     "metadata": {},
     "output_type": "display_data"
    }
   ],
   "source": [
    "a, b, c, d = 8, -3, 0, 2\n",
    "\n",
    "fig, ax = plt.subplots(figsize=(6,6))\n",
    "xmin, xmax, ymin, ymax = -9, 9, -1, 9\n",
    "ax.set(xlim=(xmin-1, xmax+1), ylim=(ymin-1, ymax+1), aspect='equal')\n",
    "ax.spines['bottom'].set_position('zero')\n",
    "ax.spines['left'].set_position('zero')\n",
    "ax.spines['top'].set_visible(False)\n",
    "ax.spines['right'].set_visible(False)\n",
    "ax.set_xticks([-3, 2])\n",
    "ax.set_xticklabels(['b','a'])\n",
    "ax.set_yticks([2, 4])\n",
    "ax.set_yticklabels(['d','c'])\n",
    "\n",
    "ax.set_xlabel('x', size=14, labelpad=-24, x=1.03)\n",
    "ax.set_ylabel('y', size=14, labelpad=-21, y=1.02, rotation=0)\n",
    "arrow_fmt = dict(markersize=4, color='black', clip_on=False)\n",
    "ax.plot((1), (0), marker='>', transform=ax.get_yaxis_transform(), **arrow_fmt)\n",
    "ax.plot((0), (1), marker='^', transform=ax.get_xaxis_transform(), **arrow_fmt)\n",
    "\n",
    "\n",
    "ax.quiver((0,),(0,), (a,), (c,), units=\"xy\", scale=1, color='red')\n",
    "ax.quiver((b,),(d,), (a,), (c,), units=\"xy\", scale=1, color='red')\n",
    "ax.quiver((0,),(0,), (b,), (d,), units=\"xy\", scale=1, color='green')\n",
    "ax.quiver((a,),(c,), (b,), (d,), units=\"xy\", scale=1, color='green')"
   ]
  },
  {
   "cell_type": "code",
   "execution_count": 4,
   "id": "33d716c1",
   "metadata": {
    "hide_input": true,
    "slideshow": {
     "slide_type": "slide"
    }
   },
   "outputs": [
    {
     "data": {
      "text/plain": [
       "<matplotlib.quiver.Quiver at 0x7a96cb9d84c0>"
      ]
     },
     "execution_count": 4,
     "metadata": {},
     "output_type": "execute_result"
    },
    {
     "data": {
      "application/vnd.jupyter.widget-view+json": {
       "model_id": "46e04db22b7140ab8adba397806b3763",
       "version_major": 2,
       "version_minor": 0
      },
      "image/png": "[encoded data removed]",
      "text/html": [
       "\n",
       "            <div style=\"display: inline-block;\">\n",
       "                <div class=\"jupyter-widgets widget-label\" style=\"text-align: center;\">\n",
       "                    Figure\n",
       "                </div>\n",
       "                <img src='data:image/png;base64,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' width=600.0/>\n",
       "            </div>\n",
       "        "
      ],
      "text/plain": [
       "Canvas(toolbar=Toolbar(toolitems=[('Home', 'Reset original view', 'home', 'home'), ('Back', 'Back to previous …"
      ]
     },
     "metadata": {},
     "output_type": "display_data"
    }
   ],
   "source": [
    "a, b, c, d = 8, 0, 0, 2\n",
    "\n",
    "fig, ax = plt.subplots(figsize=(6,6))\n",
    "xmin, xmax, ymin, ymax = -9, 9, -1, 9\n",
    "ax.set(xlim=(xmin-1, xmax+1), ylim=(ymin-1, ymax+1), aspect='equal')\n",
    "ax.spines['bottom'].set_position('zero')\n",
    "ax.spines['left'].set_position('zero')\n",
    "ax.spines['top'].set_visible(False)\n",
    "ax.spines['right'].set_visible(False)\n",
    "ax.set_xticks([-3,2])\n",
    "ax.set_xticklabels(['b','a'])\n",
    "ax.set_yticks([2,4])\n",
    "ax.set_yticklabels(['d','c'])\n",
    "\n",
    "ax.set_xlabel('x', size=14, labelpad=-24, x=1.03)\n",
    "ax.set_ylabel('y', size=14, labelpad=-21, y=1.02, rotation=0)\n",
    "arrow_fmt = dict(markersize=4, color='black', clip_on=False)\n",
    "ax.plot((1), (0), marker='>', transform=ax.get_yaxis_transform(), **arrow_fmt)\n",
    "ax.plot((0), (1), marker='^', transform=ax.get_xaxis_transform(), **arrow_fmt)\n",
    "\n",
    "\n",
    "ax.quiver((0,),(0,), (a,), (c,), units=\"xy\", scale=1, color='red')\n",
    "ax.quiver((b,),(d,), (a,), (c,), units=\"xy\", scale=1, color='red')\n",
    "ax.quiver((0,),(0,), (b,), (d,), units=\"xy\", scale=1, color='green')\n",
    "ax.quiver((a,),(c,), (b,), (d,), units=\"xy\", scale=1, color='green')"
   ]
  },
  {
   "cell_type": "markdown",
   "id": "2d276d2a",
   "metadata": {
    "hide_input": false
   },
   "source": [
    "The area of this rectangle is\n",
    "\n",
    "$$\n",
    "ad-bc\n",
    "$$\n",
    "\n",
    "Since the geometric transformations  corresponding to elimination did not change the area, the original parallelogram also has the area $ad-bc$."
   ]
  },
  {
   "cell_type": "markdown",
   "id": "0e61eebd",
   "metadata": {
    "slideshow": {
     "slide_type": "slide"
    }
   },
   "source": [
    "### Determinants\n",
    "\n",
    "The determinant of a matrix $A$ is written as\n",
    "$$\n",
    "\\displaystyle\\mathrm{det}(A)\n",
    "$$\n",
    "\n",
    "or \n",
    "\n",
    "$$\n",
    "\\displaystyle|A|\n",
    "$$\n",
    "\n",
    "The determinant is a function that maps each *square matrix* to a *real number*.\n",
    "\n",
    "### three ways to compute the determinant\n",
    "\n",
    "- axiomatic approach\n",
    "- via permutations (\"Leibniz' formula\")\n",
    "- recursively via cofactors (\"Laplace expansion\")\n",
    "\n",
    "The absolute value of the determinant equals the area/volume of the parallelepiped defined by the column vectors."
   ]
  },
  {
   "cell_type": "markdown",
   "id": "f816f864",
   "metadata": {
    "slideshow": {
     "slide_type": "slide"
    }
   },
   "source": [
    "## Axiomatix approach\n",
    "\n",
    "#### 1. For each $n$, $$|\\mathbf I_n| = 1$$ where $\\mathbf I_n$ is the $n\\times n$ identity matrix.\n",
    "\n",
    "#### 2. If $B$ is the result of swapping two columns in $A$, then\n",
    "$$\n",
    "|B| = - |A|\n",
    "$$\n",
    "\n",
    "#### 3. $|A|$ is a linear function of each of its columns:\n",
    "\n",
    "$$\n",
    "\\begin{vmatrix}\n",
    "|&\\cdots & |&\\cdots & |\\\\\n",
    "\\mathbf a_1 & \\cdots &x\\mathbf a_i & \\cdots & \\mathbf a_n\\\\\n",
    "|&\\cdots & |&\\cdots & | \\\\\n",
    "\\end{vmatrix} = \n",
    "x\\begin{vmatrix}\n",
    "|&\\cdots & |&\\cdots & |\\\\\n",
    "\\mathbf a_1 & \\cdots &\\mathbf a_i & \\cdots & \\mathbf a_n\\\\\n",
    "|&\\cdots & |&\\cdots & | \\\\\n",
    "\\end{vmatrix}\\\\[3em]\n",
    "\\begin{vmatrix}\n",
    "|&\\cdots & |&\\cdots & |\\\\\n",
    "\\mathbf a_1 & \\cdots &\\mathbf a_i + \\mathbf b_i & \\cdots & \\mathbf a_n\\\\\n",
    "|&\\cdots & |&\\cdots & | \\\\\n",
    "\\end{vmatrix} = \n",
    "\\begin{vmatrix}\n",
    "|&\\cdots & |&\\cdots & |\\\\\n",
    "\\mathbf a_1 & \\cdots &\\mathbf a_i & \\cdots & \\mathbf a_n\\\\\n",
    "|&\\cdots & |&\\cdots & | \\\\\n",
    "\\end{vmatrix} +\n",
    "\\begin{vmatrix}\n",
    "|&\\cdots & |&\\cdots & |\\\\\n",
    "\\mathbf a_1 & \\cdots &\\mathbf b_i & \\cdots & \\mathbf a_n\\\\\n",
    "|&\\cdots & |&\\cdots & | \\\\\n",
    "\\end{vmatrix}\n",
    "$$\n",
    "\n",
    "\n",
    "As we will see later, there is exactly one function with these properties."
   ]
  },
  {
   "cell_type": "markdown",
   "id": "f927bb60",
   "metadata": {
    "slideshow": {
     "slide_type": "slide"
    }
   },
   "source": [
    "### Consequences\n",
    "\n",
    "From these three axioms, we can derive seven useful lemmas.\n",
    "\n",
    "#### 4. If two columns of $A$ are identical, $|A| = 0$.\n",
    "\n",
    "*Proof:* Swapping the two identical columns does not change $A$, but according to Axiom 2, we get $|A| = -|A|$. The only value consistent with this is $|A| = 0$.\n",
    "\n",
    "$\\dashv$"
   ]
  },
  {
   "cell_type": "markdown",
   "id": "7adae814",
   "metadata": {
    "slideshow": {
     "slide_type": "slide"
    }
   },
   "source": [
    "#### 5. Adding a multiple of one column of $A$ to another column does not change $|A|$.\n",
    "\n",
    "*Proof:* According to rules 3 and 4:\n",
    "\n",
    "$$\n",
    "\\begin{aligned}\n",
    "\\begin{vmatrix}\n",
    "| & \\cdots & | & | & | & \\cdots & | \\\\\n",
    "\\mathbf a_1 & \\cdots &\\mathbf a_{i-1}& \\mathbf a_i + x\\mathbf a_j&\\mathbf a_{i+1} & \\cdots & \\mathbf a_n\\\\\n",
    "| & \\cdots & | & | & |& \\cdots & |\\\\\n",
    "\\end{vmatrix} &= \n",
    "\\begin{vmatrix}\n",
    "| & \\cdots & | & | & | & \\cdots & | \\\\\n",
    "\\mathbf a_1 & \\cdots &\\mathbf a_{i-1}& \\mathbf a_i &\\mathbf a_{i+1} & \\cdots & \\mathbf a_n\\\\\n",
    "| & \\cdots & | & | & |& \\cdots & |\\\\\n",
    "\\end{vmatrix} +\n",
    "\\begin{vmatrix}\n",
    "| & \\cdots & | & | & | & \\cdots & | \\\\\n",
    "\\mathbf a_1 & \\cdots &\\mathbf a_{i-1}& x\\mathbf a_j &\\mathbf a_{i+1} & \\cdots & \\mathbf a_n\\\\\n",
    "| & \\cdots & | & | & |& \\cdots & |\\\\\n",
    "\\end{vmatrix}\\\\[2em]\n",
    "&=\n",
    "\\begin{vmatrix}\n",
    "| & \\cdots & | & | & | & \\cdots & | \\\\\n",
    "\\mathbf a_1 & \\cdots &\\mathbf a_{i-1}& \\mathbf a_i &\\mathbf a_{i+1} & \\cdots & \\mathbf a_n\\\\\n",
    "| & \\cdots & | & | & |& \\cdots & |\\\\\n",
    "\\end{vmatrix} +\n",
    "x\\begin{vmatrix}\n",
    "| & \\cdots & | & | & | & \\cdots & | \\\\\n",
    "\\mathbf a_1 & \\cdots &\\mathbf a_{i-1}& \\mathbf a_j &\\mathbf a_{i+1} & \\cdots & \\mathbf a_n\\\\\n",
    "| & \\cdots & | & | & |& \\cdots & |\\\\\n",
    "\\end{vmatrix}\\\\[2em]\n",
    "&= \n",
    "\\begin{vmatrix}\n",
    "| & \\cdots & | & | & | & \\cdots & | \\\\\n",
    "\\mathbf a_1 & \\cdots &\\mathbf a_{i-1}& \\mathbf a_i &\\mathbf a_{i+1} & \\cdots & \\mathbf a_n\\\\\n",
    "| & \\cdots & | & | & |& \\cdots & |\\\\\n",
    "\\end{vmatrix} \\\\[2em]\n",
    "&=|A|\n",
    "\\end{aligned}\n",
    "$$\n",
    "\n",
    "$\\dashv$"
   ]
  },
  {
   "cell_type": "markdown",
   "id": "1f937b44",
   "metadata": {
    "slideshow": {
     "slide_type": "slide"
    }
   },
   "source": [
    "#### 6. If $A$ has an all-zero column, then $|A| = 0$.\n",
    "\n",
    "*Proof:*\n",
    "\n",
    "If $A$ has more than one all-zero columns, this follows from rule 4. If it has only one all-zero column, then adding one of the other columns to the all-zero column does not change the determinant according to rule 5. This will lead to a matrix with two identical columns though, which has a determinant $=0$ according to rule 4. \n",
    "\n",
    "$\\dashv$"
   ]
  },
  {
   "cell_type": "markdown",
   "id": "4f8836f9",
   "metadata": {
    "slideshow": {
     "slide_type": "slide"
    }
   },
   "source": [
    "#### 7. The determinant of a triangular matrix equals the product of its diagonal entries.\n",
    "\n",
    "*Proof:*\n",
    "\n",
    "Let us first assume that all diagonal entries are $\\neq 0$. \n",
    "\n",
    "According to rule 5, we can perform mirrored Gauss elimination (working with columns rather than with rows) with $A$ if it is upper triangular, and otherwise mirrored Jordan elimination. According to rule 5 this does not change the determinant, and according to the rules of Gauss-Jordan elimination, this does not change the diagonal entries. We end up with a diagonal matrix\n",
    "\n",
    "$$\n",
    "D = \\begin{bmatrix}\n",
    "d_{11} & & \\\\\n",
    "& \\ddots & \\\\\n",
    "& & d_{ii}\\\\\n",
    "&&&\\ddots\\\\\n",
    "&&&&d_{nn}\n",
    "\\end{bmatrix}\n",
    "$$\n",
    "\n",
    "Using Axiom 2, it follows that\n",
    "\n",
    "$$\n",
    "|D| = d_{11}\\times \\cdots \\times d_{nn}\\times |\\mathbf I_n| = d_{11}\\times \\cdots \\times d_{nn}\n",
    "$$\n",
    "\n"
   ]
  },
  {
   "cell_type": "code",
   "execution_count": null,
   "id": "65b5087c",
   "metadata": {},
   "outputs": [],
   "source": []
  },
  {
   "cell_type": "markdown",
   "id": "2e6e1333",
   "metadata": {},
   "source": [
    "Now suppose $d_{ii}=0$. Then the product of the diagonal entries $=0$. \n",
    "\n",
    "After completing mirrorred Gauss-Jordan elimination, the last column is all-zero. Elimination steps do not change the determinant, so the determinant must be $0$ according to rule 6.\n",
    "\n",
    "\n",
    "$\\dashv$"
   ]
  },
  {
   "cell_type": "markdown",
   "id": "a5e58fd4",
   "metadata": {
    "slideshow": {
     "slide_type": "slide"
    }
   },
   "source": [
    "**Uniqueness of the determinant function**\n",
    "\n",
    "With these rules, we can compute the determinant of each square matrix by performing Gauss elimination (possibly preceded by column permutations) and computing the product of the resulting triangular matrix. This algorithm only relies on the three axioms, so any function fulfilling the axioms must yield the same result for each matrix."
   ]
  },
  {
   "cell_type": "markdown",
   "id": "9da63879",
   "metadata": {
    "slideshow": {
     "slide_type": "slide"
    }
   },
   "source": [
    "#### 8. Product rule: for all square matrices $A, B$ of the same size:\n",
    "\n",
    "$$\n",
    "|AB| = |A| \\times |B|\n",
    "$$\n",
    "\n",
    "*Proof:*\n",
    "\n",
    "Suppose $|A| = 0$. Gauss elimination does not change the determinant. If we need to perform column permutation prior to (mirrorred) Gauss elimination, this only changes the sign of the determinant, not its absolute value.\n",
    "Since $|A|=0$, the result of Gauss elimination must, according to Lemma 7, contain at least one $0$. Hence $A$ must have rank $r<n$ (where $n$ is the number of columns of $A$). In other words, there is a vector $\\mathbf x\\neq \\mathbf 0$ such that $\\mathbf x'A = \\mathbf 0$. It follows that $\\mathbf x'AB = \\mathbf 0$, so $AB$ also has rank $< n$. This entails that the result of Gauss elimination applied to $AB$ has a $0$ on the main diagonal, so $|AB| = 0$."
   ]
  },
  {
   "cell_type": "markdown",
   "id": "c4a3346b",
   "metadata": {
    "slideshow": {
     "slide_type": "slide"
    }
   },
   "source": [
    "Now suppose $|A| \\neq 0$. Let us define a function \n",
    "\n",
    "$$\n",
    "D(B) \\doteq \n",
    "\\left\\{\n",
    "\\begin{array}{ll}\n",
    "\\frac{|AB|}{|A|}&\\mathrm{~if~}|A|\\neq 0\\\\\n",
    "|B| &\\mathrm{~ else}\n",
    "\\end{array}\n",
    "\\right.\n",
    "$$\n",
    "\n",
    "The function $D$ fulfills axioms 1–3:\n",
    "\n",
    "- If $B = \\mathbf I$, then $D(B) = \\frac{|A|}{|A|} = 1$\n",
    "- If $C$ is the result of multiplying column $i$ in $B$ by $x$, then there is a matrix $M$, which is exactly like the identity matrix except $m_{ii} = x$, with:\n",
    "\n",
    "$$\n",
    "\\begin{aligned}\n",
    "C &= BM\\\\\n",
    "AC &= ABM\n",
    "\\end{aligned}\n",
    "$$\n",
    "\n",
    "So $AC$ is the result of multiplying column $i$ in $(AB)$ by $x$. Hence\n",
    "\n",
    "$$\n",
    "\\begin{aligned}\n",
    "|AC|&= |ABM|\\\\\n",
    "&= x|AB|\\\\\n",
    "D(C) &= xD(B)\n",
    "\\end{aligned}\n",
    "$$"
   ]
  },
  {
   "cell_type": "markdown",
   "id": "e671c504",
   "metadata": {
    "slideshow": {
     "slide_type": "slide"
    }
   },
   "source": [
    "\n",
    "\n",
    "\n",
    "- If $C$ is the result of swapping columns $i$ and $j$ in $B$, then\n",
    "\n",
    "$$\n",
    "C = B P,\n",
    "$$\n",
    "\n",
    "Where $P$ is like the identiy matrix, except that $p_{ij}, p_{ji} = 1, p_{ii}, p_{jj} = 0$.\n",
    "\n",
    "Then \n",
    "$$\n",
    "AC =  ABP,\n",
    "$$\n",
    "\n",
    "hence $AC$ is the result of swapping columns $i$ and $j$ in $AB$. Therefore\n",
    "\n",
    "$$\n",
    "\\begin{aligned}\n",
    "|AC| &= |ABP|\\\\\n",
    "&= - |AB|\\\\\n",
    "D(C) &= - D(B)\n",
    "\\end{aligned}\n",
    "$$\n",
    "\n",
    "Therefore $D(C) = - D(B)$"
   ]
  },
  {
   "cell_type": "markdown",
   "id": "f42eaf0b",
   "metadata": {
    "slideshow": {
     "slide_type": "slide"
    }
   },
   "source": [
    "Since there is only one function that fulfills axioms 1–3, $D(B) = |B|$. It follows that if $|A|\\neq 0$.\n",
    "\n",
    "$$\n",
    "\\begin{aligned}\n",
    "D(B) &=& \\frac{|AB|}{|A|} &= |B|\\\\\n",
    "&&|AB| &= |A| \\times |B|\n",
    "\\end{aligned}\n",
    "$$\n",
    "\n",
    "\n",
    "$\\dashv$"
   ]
  },
  {
   "cell_type": "markdown",
   "id": "fb721c83",
   "metadata": {
    "slideshow": {
     "slide_type": "slide"
    }
   },
   "source": [
    "#### 9. $|A|\\neq 0$ if and only if $A$ is invertible.\n",
    "\n",
    "*Proof:*\n",
    "\n",
    "Suppose $|A|\\neq 0$. Then Gauss-Jordan elimination ends in the identity matrix, and the product of the elimination steps amount to $A^{-1}$. \n",
    "\n",
    "If $A$ is invertible, $A^{-1}$ exists, with\n",
    "\n",
    "$$\n",
    "\\begin{aligned}\n",
    "A A^{-1} &= \\mathbf I\\\\\n",
    "|A A^{-1}| &= |\\mathbf I|\\\\\n",
    "|A|\\times |A^{-1}|&= 1\\\\\n",
    "|A| &= \\frac{1}{|A^{-1}|}\\\\\n",
    "&\\neq 0\n",
    "\\end{aligned}\n",
    "$$\n",
    "\n",
    "$\\dashv$"
   ]
  },
  {
   "cell_type": "markdown",
   "id": "8159a067",
   "metadata": {
    "slideshow": {
     "slide_type": "slide"
    }
   },
   "source": [
    "#### 10. $|A| = |A^T|$\n",
    "\n",
    "*Proof:*\n",
    "\n",
    "It follows directly from rule 7 that for triangular matrices $M$, $|M| = |M^T|$.\n",
    "\n",
    "$$\n",
    "\\begin{aligned}\n",
    "A &= LU\\\\\n",
    "|A| &= |L| \\times |U|\\\\\n",
    "&= |U| \\times |L|\\\\\n",
    "&= |U^T| \\times |L^T|\\\\\n",
    "&= |U^TL^T|\\\\\n",
    "&= |(LU)^T|\\\\\n",
    "&= |A^T|\n",
    "\\end{aligned}\n",
    "$$\n",
    "\n",
    "$\\dashv$\n",
    "\n",
    "It follows from rules 5 and 10 that adding a multiple of one row to another row does not change the determinant. So all elimination steps keep the determinant unchanged."
   ]
  },
  {
   "cell_type": "markdown",
   "id": "0488b573",
   "metadata": {
    "slideshow": {
     "slide_type": "slide"
    }
   },
   "source": [
    "### Takehome messages\n",
    "\n",
    "1. The fastest general way to compute the determinant of a matrix is by\n",
    "\n",
    "- performing Gauss elimination\n",
    "- computing the product of the diagonal entries.\n",
    "    \n",
    "    \n",
    "\n",
    "2. A square matrix is invertible if and only if its determinant $\\neq 0$.\n",
    "\n"
   ]
  }
 ],
 "metadata": {
  "@webio": {
   "lastCommId": null,
   "lastKernelId": null
  },
  "celltoolbar": "Slideshow",
  "hide_input": false,
  "kernelspec": {
   "display_name": "Python 3 (ipykernel)",
   "language": "python",
   "name": "python3"
  },
  "language_info": {
   "codemirror_mode": {
    "name": "ipython",
    "version": 3
   },
   "file_extension": ".py",
   "mimetype": "text/x-python",
   "name": "python",
   "nbconvert_exporter": "python",
   "pygments_lexer": "ipython3",
   "version": "3.9.11"
  },
  "latex_envs": {
   "LaTeX_envs_menu_present": true,
   "autoclose": false,
   "autocomplete": true,
   "bibliofile": "biblio.bib",
   "cite_by": "apalike",
   "current_citInitial": 1,
   "eqLabelWithNumbers": true,
   "eqNumInitial": 1,
   "hotkeys": {
    "equation": "Ctrl-E",
    "itemize": "Ctrl-I"
   },
   "labels_anchors": false,
   "latex_user_defs": false,
   "report_style_numbering": false,
   "user_envs_cfg": false
  },
  "rise": {
   "enable_chalkboard": true,
   "scroll": true
  },
  "varInspector": {
   "cols": {
    "lenName": 16,
    "lenType": 16,
    "lenVar": 40
   },
   "kernels_config": {
    "python": {
     "delete_cmd_postfix": "",
     "delete_cmd_prefix": "del ",
     "library": "var_list.py",
     "varRefreshCmd": "print(var_dic_list())"
    },
    "r": {
     "delete_cmd_postfix": ") ",
     "delete_cmd_prefix": "rm(",
     "library": "var_list.r",
     "varRefreshCmd": "cat(var_dic_list()) "
    }
   },
   "types_to_exclude": [
    "module",
    "function",
    "builtin_function_or_method",
    "instance",
    "_Feature"
   ],
   "window_display": false
  }
 },
 "nbformat": 4,
 "nbformat_minor": 5
}
