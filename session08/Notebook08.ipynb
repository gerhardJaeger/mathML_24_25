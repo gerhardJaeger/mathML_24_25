{
 "cells": [
  {
   "cell_type": "code",
   "execution_count": 1,
   "id": "6b6d3e8a",
   "metadata": {
    "slideshow": {
     "slide_type": "skip"
    }
   },
   "outputs": [],
   "source": [
    "import sympy\n",
    "from sympy import Matrix, Rational, sqrt, symbols, zeros, simplify\n",
    "import numpy as np\n",
    "import matplotlib.pyplot as plt\n",
    "import ipywidgets as widgets\n",
    "from ipywidgets import interact, interactive, fixed, interact_manual\n",
    "import matplotlib.pyplot as plt\n",
    "%matplotlib notebook\n"
   ]
  },
  {
   "cell_type": "markdown",
   "id": "17d690f6",
   "metadata": {
    "hide_input": true,
    "slideshow": {
     "slide_type": "slide"
    }
   },
   "source": [
    "# Mathematics for Machine Learning\n",
    "\n",
    "## Session 8: The determinant; eigenvectors and eigenvalues\n",
    "\n",
    "## Gerhard Jäger\n",
    "\n",
    "### November 14, 2024"
   ]
  },
  {
   "cell_type": "markdown",
   "id": "73340476",
   "metadata": {
    "slideshow": {
     "slide_type": "slide"
    }
   },
   "source": [
    "## Determinants\n",
    "\n",
    "### Sympy"
   ]
  },
  {
   "cell_type": "code",
   "execution_count": 2,
   "id": "3b3e5cb9",
   "metadata": {},
   "outputs": [
    {
     "data": {
      "text/latex": [
       "$\\displaystyle \\left[\\begin{matrix}a & b\\\\c & d\\end{matrix}\\right]$"
      ],
      "text/plain": [
       "Matrix([\n",
       "[a, b],\n",
       "[c, d]])"
      ]
     },
     "execution_count": 2,
     "metadata": {},
     "output_type": "execute_result"
    }
   ],
   "source": [
    "a,b,c,d, e, f, g, h, i = symbols('a b c d e f g h i')\n",
    "A = Matrix([\n",
    "    [a, b],\n",
    "    [c,d]\n",
    "])\n",
    "A"
   ]
  },
  {
   "cell_type": "code",
   "execution_count": 3,
   "id": "66809be0",
   "metadata": {},
   "outputs": [
    {
     "data": {
      "text/latex": [
       "$\\displaystyle a d - b c$"
      ],
      "text/plain": [
       "a*d - b*c"
      ]
     },
     "execution_count": 3,
     "metadata": {},
     "output_type": "execute_result"
    }
   ],
   "source": [
    "A.det()"
   ]
  },
  {
   "cell_type": "code",
   "execution_count": 4,
   "id": "4732f434",
   "metadata": {},
   "outputs": [
    {
     "data": {
      "text/latex": [
       "$\\displaystyle \\left[\\begin{matrix}a & b & c\\\\d & e & f\\\\g & h & i\\end{matrix}\\right]$"
      ],
      "text/plain": [
       "Matrix([\n",
       "[a, b, c],\n",
       "[d, e, f],\n",
       "[g, h, i]])"
      ]
     },
     "execution_count": 4,
     "metadata": {},
     "output_type": "execute_result"
    }
   ],
   "source": [
    "A = Matrix([\n",
    "    [a,b,c],\n",
    "    [d,e,f],\n",
    "    [g,h,i]\n",
    "])\n",
    "A"
   ]
  },
  {
   "cell_type": "code",
   "execution_count": 5,
   "id": "62384f0b",
   "metadata": {},
   "outputs": [],
   "source": [
    "l, u, _ = A.LUdecomposition()"
   ]
  },
  {
   "cell_type": "code",
   "execution_count": 6,
   "id": "8aa80b9e",
   "metadata": {},
   "outputs": [
    {
     "data": {
      "text/latex": [
       "$\\displaystyle \\left[\\begin{matrix}a & b & c\\\\0 & e - \\frac{b d}{a} & f - \\frac{c d}{a}\\\\0 & 0 & \\frac{a e i - a f h - b d i + b f g + c d h - c e g}{a e - b d}\\end{matrix}\\right]$"
      ],
      "text/plain": [
       "Matrix([\n",
       "[a,         b,                                                           c],\n",
       "[0, e - b*d/a,                                                   f - c*d/a],\n",
       "[0,         0, (a*e*i - a*f*h - b*d*i + b*f*g + c*d*h - c*e*g)/(a*e - b*d)]])"
      ]
     },
     "execution_count": 6,
     "metadata": {},
     "output_type": "execute_result"
    }
   ],
   "source": [
    "\n",
    "sympy.simplify(u)\n"
   ]
  },
  {
   "cell_type": "code",
   "execution_count": 7,
   "id": "8a73eda9",
   "metadata": {
    "slideshow": {
     "slide_type": "slide"
    }
   },
   "outputs": [
    {
     "data": {
      "text/latex": [
       "$\\displaystyle \\left[\\begin{matrix}a & b & c\\\\d & e & f\\\\g & h & i\\end{matrix}\\right]$"
      ],
      "text/plain": [
       "Matrix([\n",
       "[a, b, c],\n",
       "[d, e, f],\n",
       "[g, h, i]])"
      ]
     },
     "execution_count": 7,
     "metadata": {},
     "output_type": "execute_result"
    }
   ],
   "source": [
    "A"
   ]
  },
  {
   "cell_type": "code",
   "execution_count": 8,
   "id": "2ad3304c",
   "metadata": {
    "slideshow": {
     "slide_type": "-"
    }
   },
   "outputs": [
    {
     "data": {
      "text/latex": [
       "$\\displaystyle a e i - a f h - b d i + b f g + c d h - c e g$"
      ],
      "text/plain": [
       "a*e*i - a*f*h - b*d*i + b*f*g + c*d*h - c*e*g"
      ]
     },
     "execution_count": 8,
     "metadata": {},
     "output_type": "execute_result"
    }
   ],
   "source": [
    "from math import prod\n",
    "sympy.simplify(prod(u.diagonal()))"
   ]
  },
  {
   "cell_type": "code",
   "execution_count": 9,
   "id": "856c72d3",
   "metadata": {},
   "outputs": [
    {
     "data": {
      "text/latex": [
       "$\\displaystyle a e i - a f h - b d i + b f g + c d h - c e g$"
      ],
      "text/plain": [
       "a*e*i - a*f*h - b*d*i + b*f*g + c*d*h - c*e*g"
      ]
     },
     "execution_count": 9,
     "metadata": {},
     "output_type": "execute_result"
    }
   ],
   "source": [
    "A.det()"
   ]
  },
  {
   "cell_type": "markdown",
   "id": "363ad955",
   "metadata": {
    "slideshow": {
     "slide_type": "slide"
    }
   },
   "source": [
    "## Geometric interpretation\n",
    "\n",
    "The absolute value $A$ is the $n$-dimensional volume of the parallelepiped created by the column vectors of $A$.\n",
    "\n",
    "Why?\n",
    "\n",
    "It is fairly easy to see that this interpretation holds for the first two axioms:\n",
    "\n",
    "- the parallelepiped corresponding to the identity matrix is the $n$-dimensional standard cube with length 1 along each edge\n",
    "- swapping two columns does not change the parallelepiped\n",
    "\n"
   ]
  },
  {
   "cell_type": "markdown",
   "id": "468e1da3",
   "metadata": {
    "slideshow": {
     "slide_type": "slide"
    }
   },
   "source": [
    "The third axiom is more complex. These pictures give an intuitive explanation in 2 dimensions:\n",
    "\n",
    "<img src=_img/axiom3.svg   width=\"1000\" style=\"display: block; margin-left: auto; margin-right: auto;\">"
   ]
  },
  {
   "cell_type": "markdown",
   "id": "30498ae2",
   "metadata": {},
   "source": [
    "There is no simple geometric interpretation of the sign of the determinant though."
   ]
  },
  {
   "cell_type": "markdown",
   "id": "5f041803",
   "metadata": {
    "slideshow": {
     "slide_type": "slide"
    }
   },
   "source": [
    "## Determinants and permutations\n",
    "\n",
    "Consider our standard $2\\times 2$ matrix\n",
    "\n",
    "$$\n",
    "\\begin{bmatrix}\n",
    "a & b\\\\\n",
    "c & d\n",
    "\\end{bmatrix}\n",
    "$$\n",
    "\n",
    "According to rule 3:\n",
    "\n",
    "$$\n",
    "\\begin{aligned}\n",
    "\\begin{vmatrix}\n",
    "a & b\\\\\n",
    "c & d\n",
    "\\end{vmatrix} &=\n",
    "\\begin{vmatrix}\n",
    "a & b\\\\\n",
    "0 & d\n",
    "\\end{vmatrix} +\n",
    "\\begin{vmatrix}\n",
    "0 & b\\\\\n",
    "c & d\n",
    "\\end{vmatrix}\\\\\n",
    "&=\n",
    "\\begin{vmatrix}\n",
    "a & b\\\\\n",
    "0 & 0\n",
    "\\end{vmatrix} +\n",
    "\\begin{vmatrix}\n",
    "a & 0\\\\\n",
    "0 & d\n",
    "\\end{vmatrix} +\n",
    "\\begin{vmatrix}\n",
    "0 & b\\\\\n",
    "c & 0\n",
    "\\end{vmatrix}+\n",
    "\\begin{vmatrix}\n",
    "0 & 0\\\\\n",
    "c & d\n",
    "\\end{vmatrix}\\\\\n",
    "\\end{aligned}\n",
    "$$\n"
   ]
  },
  {
   "cell_type": "markdown",
   "id": "a50ab445",
   "metadata": {},
   "source": [
    "The first and last summand each have a zero row. According to rules 6 and 10, their determinants are 0. So we get\n",
    "\n",
    "$$\n",
    "\\begin{aligned}\n",
    "\\begin{vmatrix}\n",
    "a & b\\\\\n",
    "c & d\n",
    "\\end{vmatrix} &=\n",
    "\\begin{vmatrix}\n",
    "a & 0\\\\\n",
    "0 & d\n",
    "\\end{vmatrix} +\n",
    "\\begin{vmatrix}\n",
    "0 & b\\\\\n",
    "c & 0\n",
    "\\end{vmatrix}\n",
    "\\end{aligned}\n",
    "$$\n"
   ]
  },
  {
   "cell_type": "markdown",
   "id": "faf0896e",
   "metadata": {},
   "source": [
    "According to rule 3, it follows that\n",
    "\n",
    "$$\n",
    "\\begin{aligned}\n",
    "\\begin{vmatrix}\n",
    "a & b\\\\\n",
    "c & d\n",
    "\\end{vmatrix} &=\n",
    "a d\\begin{vmatrix}\n",
    "1 & 0\\\\\n",
    "0 & 1\n",
    "\\end{vmatrix} +\n",
    "b c \\begin{vmatrix}\n",
    "0 & 1\\\\\n",
    "1 & 0\n",
    "\\end{vmatrix}\n",
    "\\end{aligned}\n",
    "$$\n"
   ]
  },
  {
   "cell_type": "markdown",
   "id": "013d6591",
   "metadata": {
    "slideshow": {
     "slide_type": "slide"
    }
   },
   "source": [
    "Note the pattern:\n",
    "\n",
    "- each summand is the determinant of a **permutation matrix**, \n",
    "- multiplied by the entries of the original matrix corresponding to the non-zero entries of the permutation matrix\n",
    "\n",
    "(Reminder: a permutation matrix is a square matrix with exactly one 1 in each row and each column, and 0 everywhere else.)\n",
    "\n",
    "According to rules 2 and 1:\n",
    "\n",
    "$$\n",
    "\\begin{aligned}\n",
    "\\begin{vmatrix}\n",
    "a & b\\\\\n",
    "c & d\n",
    "\\end{vmatrix} &=\n",
    "a d\\begin{vmatrix}\n",
    "1 & 0\\\\\n",
    "0 & 1\n",
    "\\end{vmatrix} +\n",
    "b c \\begin{vmatrix}\n",
    "0 & 1\\\\\n",
    "1 & 0\n",
    "\\end{vmatrix}\\\\\n",
    "&=\n",
    "a d\\begin{vmatrix}\n",
    "1 & 0\\\\\n",
    "0 & 1\n",
    "\\end{vmatrix} -\n",
    "b c \\begin{vmatrix}\n",
    "1 & 0\\\\\n",
    "0 & 1\n",
    "\\end{vmatrix}\\\\\n",
    "&= ad - bc\n",
    "\\end{aligned}\n",
    "$$\n"
   ]
  },
  {
   "cell_type": "markdown",
   "id": "5c4355ac",
   "metadata": {
    "slideshow": {
     "slide_type": "slide"
    }
   },
   "source": [
    "Same thing for $3\\times 3$ matrix:\n",
    "\n",
    "$$\n",
    "\\begin{aligned}\n",
    "\\begin{vmatrix}\n",
    "a & b & c\\\\\n",
    "d & e & f\\\\\n",
    "g & h & i\n",
    "\\end{vmatrix} \n",
    "&= \n",
    "\\begin{vmatrix}\n",
    "a &  & \\\\\n",
    " & e & \\\\\n",
    " &  & i\n",
    "\\end{vmatrix} +\n",
    "\\begin{vmatrix}\n",
    "a &  & \\\\\n",
    " &  & f\\\\\n",
    " & h & \n",
    "\\end{vmatrix} +\n",
    "\\begin{vmatrix}\n",
    " & b & \\\\\n",
    "d &  & \\\\\n",
    " &  & i\n",
    "\\end{vmatrix} +\n",
    "\\begin{vmatrix}\n",
    " & b & \\\\\n",
    " &  & f\\\\\n",
    "g &  & \n",
    "\\end{vmatrix} +\n",
    "\\begin{vmatrix}\n",
    " &  & c\\\\\n",
    "d &  & \\\\\n",
    " & h & \n",
    "\\end{vmatrix} +\n",
    "\\begin{vmatrix}\n",
    " &  & c\\\\\n",
    " & e & \\\\\n",
    "g &  & \n",
    "\\end{vmatrix} \\\\\n",
    "&=\n",
    "\\begin{vmatrix}\n",
    "a &  & \\\\\n",
    " & e & \\\\\n",
    " &  & i\n",
    "\\end{vmatrix} -\n",
    "\\begin{vmatrix}\n",
    "a &  & \\\\\n",
    " & f & \\\\\n",
    " &  & h\n",
    "\\end{vmatrix} -\n",
    "\\begin{vmatrix}\n",
    "b &  & \\\\\n",
    " & d & \\\\\n",
    " &  & i\n",
    "\\end{vmatrix} -\n",
    "\\begin{vmatrix}\n",
    " b& & \\\\\n",
    " &  & f\\\\\n",
    " &g  & \n",
    "\\end{vmatrix} -\n",
    "\\begin{vmatrix}\n",
    " & c & \\\\\n",
    "d &  & \\\\\n",
    " &  & h\n",
    "\\end{vmatrix} -\n",
    "\\begin{vmatrix}\n",
    " &  c& \\\\\n",
    " & & e\\\\\n",
    "g &  & \n",
    "\\end{vmatrix} \\\\\n",
    "&=\n",
    "\\begin{vmatrix}\n",
    "a &  & \\\\\n",
    " & e & \\\\\n",
    " &  & i\n",
    "\\end{vmatrix} -\n",
    "\\begin{vmatrix}\n",
    "a &  & \\\\\n",
    " & f & \\\\\n",
    " &  & h\n",
    "\\end{vmatrix} -\n",
    "\\begin{vmatrix}\n",
    "b &  & \\\\\n",
    " & d & \\\\\n",
    " &  & i\n",
    "\\end{vmatrix} +\n",
    "\\begin{vmatrix}\n",
    " b& & \\\\\n",
    " & f & \\\\\n",
    " & & g\n",
    "\\end{vmatrix} +\n",
    "\\begin{vmatrix}\n",
    "c &  & \\\\\n",
    " & d & \\\\\n",
    " &  & h\n",
    "\\end{vmatrix} +\n",
    "\\begin{vmatrix}\n",
    " c&  & \\\\\n",
    " & & e\\\\\n",
    "& g & \n",
    "\\end{vmatrix} \\\\\n",
    "&=\n",
    "\\begin{vmatrix}\n",
    "a &  & \\\\\n",
    " & e & \\\\\n",
    " &  & i\n",
    "\\end{vmatrix} -\n",
    "\\begin{vmatrix}\n",
    "a &  & \\\\\n",
    " & f & \\\\\n",
    " &  & h\n",
    "\\end{vmatrix} -\n",
    "\\begin{vmatrix}\n",
    "b &  & \\\\\n",
    " & d & \\\\\n",
    " &  & i\n",
    "\\end{vmatrix} +\n",
    "\\begin{vmatrix}\n",
    " b& & \\\\\n",
    " & f & \\\\\n",
    " & & g\n",
    "\\end{vmatrix} +\n",
    "\\begin{vmatrix}\n",
    "c &  & \\\\\n",
    " & d & \\\\\n",
    " &  & h\n",
    "\\end{vmatrix} -\n",
    "\\begin{vmatrix}\n",
    " c&  & \\\\\n",
    " &e & \\\\\n",
    "&  & g\n",
    "\\end{vmatrix} \\\\\n",
    "&= aei + bfg + cdh - ceg - bdi - afh\n",
    "\\end{aligned}\n",
    "$$\n",
    "\n"
   ]
  },
  {
   "cell_type": "markdown",
   "id": "572080e1",
   "metadata": {
    "slideshow": {
     "slide_type": "slide"
    }
   },
   "source": [
    "Let $\\pi$ be a *permutation* of $1,\\ldots, n$. This means $\\pi$ is a **bijection** from $\\{1,\\ldots,n\\}$ onto itself.\n",
    "\n",
    "Each component of the formula above has the form\n",
    "\n",
    "$$\n",
    "\\pm \\prod_i a_{i,\\pi(i)}\n",
    "$$\n",
    "\n",
    "for some permutation $\\pi$.\n",
    "\n",
    "We distinguish *even* and *odd* permutations::\n",
    "\n",
    "**Definition**\n",
    "\n",
    "*A permutation $\\pi$ is ***even*** if and only if\n",
    "$$\n",
    "\\|\\{\\langle i,j\\rangle|i < j \\wedge \\pi(i) > \\pi(j)\\}\\|\n",
    "$$\n",
    "is even. Otherwise it is ***odd***.*\n",
    "\n",
    "The sum in the definition is the number of column permutations we have to perform to convert the corresponding permutation matrix to the identity matrix.\n"
   ]
  },
  {
   "cell_type": "markdown",
   "id": "0833280a",
   "metadata": {
    "slideshow": {
     "slide_type": "slide"
    }
   },
   "source": [
    "\n",
    "**Definition**\n",
    "\n",
    "*Let $\\pi$ be a permutation.*\n",
    "\n",
    "$$\n",
    "\\mathrm{sign}(\\pi) \\doteq \\left\\{\\begin{aligned}1 & \\text{ if }\\pi\\text{ is even}\\\\-1&\\text{ else}\\end{aligned}\\right.\n",
    "$$\n",
    "\n",
    "\n",
    "\n",
    "This leads to the **Leibniz formula**:\n",
    "\n",
    "$$\n",
    "|A | = \\sum_{\\pi: \\pi \\mathrm{~a~permutation~over~}\\{1,\\ldots,n\\}}\\mathrm{sign}(\\pi)\\prod_ia_{i,\\pi(i)}\n",
    "$$\n",
    "\n",
    "This formula is much too unwieldy for actual computations, but it is useful for proving properties of the determinant."
   ]
  },
  {
   "cell_type": "markdown",
   "id": "d8dc0025",
   "metadata": {
    "slideshow": {
     "slide_type": "slide"
    }
   },
   "source": [
    "## Cofactors\n",
    "\n",
    "If we expand the Leibniz formula for $n=3$, we get\n",
    "\n",
    "$$\n",
    "\\begin{aligned}\n",
    "|A| &=& ~~a_{11}a_{22}a_{33} - a_{11}a_{23}a_{32}\\\\\n",
    "&& -a_{21}a_{12}a_{33} + a_{21}a_{32}a_{13}\\\\\n",
    "&& +a_{31}a_{12}a_{23} - a_{31}a_{22}a_{13}\\\\\n",
    "&=& ~~a_{11}(a_{22}a_{33} - a_{23}a_{32})\\\\\n",
    "&& -a_{21}(a_{12}a_{33} - a_{32}a_{13})\\\\\n",
    "&& +a_{31}(a_{12}a_{23} - a_{22}a_{13})\n",
    "\\end{aligned}\n",
    "$$"
   ]
  },
  {
   "cell_type": "markdown",
   "id": "d70a2649",
   "metadata": {
    "slideshow": {
     "slide_type": "slide"
    }
   },
   "source": [
    "Note that in the second equation, we have three products. Each consists of \n",
    "- $(-1)^{1+i}$\n",
    "- an entry $a_{i1}$ from the first column, and\n",
    "- the determinant of the matrix that results when we remove from $A$ the first column and the $i$th row, and\n",
    "\n",
    "This generalizes to matrices of arbitrary size, and to arbitrary columns.\n",
    "\n",
    "Let $M_{ij}$ be the matrix that results if we remove the $i$th row and the $j$th column from $A$.\n",
    "\n",
    "$$\n",
    "|A| = \\sum_i (-1)^{i+j} a_{ij} |M_{ij}|\n",
    "$$\n",
    "\n",
    "Fore brevity's sake, we define\n",
    "\n",
    "$$\n",
    "C_{ij} \\doteq (-1)^{i+j} |M_{ij}|\n",
    "$$\n",
    "\n",
    "These quantities are called **cofactors**.\n",
    "\n",
    "Then the above formula simplifies to the **Laplace expansion**\n",
    "\n",
    "$$\n",
    "|A| = \\sum_i a_{ij}C_{ij}\n",
    "$$"
   ]
  },
  {
   "cell_type": "markdown",
   "id": "7d180aed",
   "metadata": {
    "slideshow": {
     "slide_type": "slide"
    }
   },
   "source": [
    "Note that all matrices $M_{ij}$ have size $(n-1)\\times (n-1)$.\n",
    "\n",
    "This leads to a **recursive definition** of the determinant:\n",
    "\n",
    "- *If $n=1$, $|A| = a_{11}$.<p>*\n",
    "\n",
    "- *If $n>1$, $|A| = \\sum_i (-1)^{i+1}a_{i1}|M_{i1}|$.*\n",
    "\n",
    "\n",
    "Applying this definition to actual computations is not advisable, because it amounts to an application of the Leibniz formula, i.e., it is computationally costly."
   ]
  },
  {
   "cell_type": "markdown",
   "id": "32e02ae8",
   "metadata": {
    "slideshow": {
     "slide_type": "slide"
    }
   },
   "source": [
    "## Matrix powers and exponentials\n",
    "\n",
    "So far we studied basic operations such as addition and multiplication of matrices and vectors.\n",
    "\n",
    "Higher operations are also defined, at least for square matrices:\n",
    "\n",
    "**power**\n",
    "- $A^0 = \\mathbf I$\n",
    "- $A^{n+1} = A A^n$\n",
    "\n",
    "**exponential**\n",
    "- $e^A = \\sum_{k=0}^\\infty \\frac{1}{k!} A^k$\n",
    "\n",
    "To compute them efficiently (and for many other applications), \n",
    "we need **eigenvectors** and **eigenvalues** of square matrices."
   ]
  },
  {
   "cell_type": "markdown",
   "id": "e9396559",
   "metadata": {
    "slideshow": {
     "slide_type": "slide"
    }
   },
   "source": [
    "## Example"
   ]
  },
  {
   "cell_type": "code",
   "execution_count": 10,
   "id": "8f942112",
   "metadata": {},
   "outputs": [
    {
     "data": {
      "text/latex": [
       "$\\displaystyle \\left[\\begin{matrix}0.8 & 0.3\\\\0.2 & 0.7\\end{matrix}\\right]$"
      ],
      "text/plain": [
       "Matrix([\n",
       "[0.8, 0.3],\n",
       "[0.2, 0.7]])"
      ]
     },
     "execution_count": 10,
     "metadata": {},
     "output_type": "execute_result"
    }
   ],
   "source": [
    "A = Matrix([\n",
    "    [0.8, 0.3],\n",
    "    [0.2, 0.7]\n",
    "])\n",
    "A"
   ]
  },
  {
   "cell_type": "code",
   "execution_count": 11,
   "id": "eb49feaf",
   "metadata": {},
   "outputs": [
    {
     "data": {
      "text/latex": [
       "$\\displaystyle \\left[\\begin{matrix}0.7 & 0.45\\\\0.3 & 0.55\\end{matrix}\\right]$"
      ],
      "text/plain": [
       "Matrix([\n",
       "[0.7, 0.45],\n",
       "[0.3, 0.55]])"
      ]
     },
     "execution_count": 11,
     "metadata": {},
     "output_type": "execute_result"
    }
   ],
   "source": [
    "A**2"
   ]
  },
  {
   "cell_type": "code",
   "execution_count": 12,
   "id": "220d5072",
   "metadata": {},
   "outputs": [
    {
     "data": {
      "text/latex": [
       "$\\displaystyle \\left[\\begin{matrix}0.65 & 0.525\\\\0.35 & 0.475\\end{matrix}\\right]$"
      ],
      "text/plain": [
       "Matrix([\n",
       "[0.65, 0.525],\n",
       "[0.35, 0.475]])"
      ]
     },
     "execution_count": 12,
     "metadata": {},
     "output_type": "execute_result"
    }
   ],
   "source": [
    "A**3"
   ]
  },
  {
   "cell_type": "code",
   "execution_count": 13,
   "id": "0f7658ad",
   "metadata": {},
   "outputs": [
    {
     "data": {
      "text/latex": [
       "$\\displaystyle \\left[\\begin{matrix}0.600390625 & 0.5994140625\\\\0.399609375 & 0.4005859375\\end{matrix}\\right]$"
      ],
      "text/plain": [
       "Matrix([\n",
       "[0.600390625, 0.5994140625],\n",
       "[0.399609375, 0.4005859375]])"
      ]
     },
     "execution_count": 13,
     "metadata": {},
     "output_type": "execute_result"
    }
   ],
   "source": [
    "A**10"
   ]
  },
  {
   "cell_type": "code",
   "execution_count": 14,
   "id": "e38a1740",
   "metadata": {},
   "outputs": [
    {
     "data": {
      "text/latex": [
       "$\\displaystyle \\left[\\begin{matrix}0.600000000000002 & 0.600000000000002\\\\0.400000000000001 & 0.400000000000001\\end{matrix}\\right]$"
      ],
      "text/plain": [
       "Matrix([\n",
       "[0.600000000000002, 0.600000000000002],\n",
       "[0.400000000000001, 0.400000000000001]])"
      ]
     },
     "execution_count": 14,
     "metadata": {},
     "output_type": "execute_result"
    }
   ],
   "source": [
    "A**100"
   ]
  },
  {
   "cell_type": "code",
   "execution_count": 15,
   "id": "d3573f08",
   "metadata": {},
   "outputs": [
    {
     "data": {
      "text/latex": [
       "$\\displaystyle \\left[\\begin{matrix}0.6 & 0.6\\\\0.4 & 0.4\\end{matrix}\\right]$"
      ],
      "text/plain": [
       "Matrix([\n",
       "[0.6, 0.6],\n",
       "[0.4, 0.4]])"
      ]
     },
     "execution_count": 15,
     "metadata": {},
     "output_type": "execute_result"
    }
   ],
   "source": [
    "A**1000000"
   ]
  },
  {
   "cell_type": "markdown",
   "id": "44c70668",
   "metadata": {
    "slideshow": {
     "slide_type": "slide"
    }
   },
   "source": [
    "## Eigenvectors and eigenvalues\n",
    "\n",
    "### Basic equation\n",
    "\n",
    "$$\n",
    "A\\mathbf x = \\lambda \\mathbf x\n",
    "$$\n",
    "\n",
    "- $\\mathbf x$ is called an **eigenvector** of $A$\n",
    "- $\\lambda$ is called an **eigenvalue** of $A$"
   ]
  },
  {
   "cell_type": "code",
   "execution_count": 16,
   "id": "4c1c7db7",
   "metadata": {
    "hide_input": false,
    "slideshow": {
     "slide_type": "slide"
    }
   },
   "outputs": [],
   "source": [
    "A = np.array([\n",
    "    [1, 1],\n",
    "    [-1, 1]\n",
    "])"
   ]
  },
  {
   "cell_type": "code",
   "execution_count": 17,
   "id": "01005c82",
   "metadata": {
    "hide_input": true
   },
   "outputs": [
    {
     "data": {
      "application/javascript": [
       "/* Put everything inside the global mpl namespace */\n",
       "/* global mpl */\n",
       "window.mpl = {};\n",
       "\n",
       "mpl.get_websocket_type = function () {\n",
       "    if (typeof WebSocket !== 'undefined') {\n",
       "        return WebSocket;\n",
       "    } else if (typeof MozWebSocket !== 'undefined') {\n",
       "        return MozWebSocket;\n",
       "    } else {\n",
       "        alert(\n",
       "            'Your browser does not have WebSocket support. ' +\n",
       "                'Please try Chrome, Safari or Firefox ≥ 6. ' +\n",
       "                'Firefox 4 and 5 are also supported but you ' +\n",
       "                'have to enable WebSockets in about:config.'\n",
       "        );\n",
       "    }\n",
       "};\n",
       "\n",
       "mpl.figure = function (figure_id, websocket, ondownload, parent_element) {\n",
       "    this.id = figure_id;\n",
       "\n",
       "    this.ws = websocket;\n",
       "\n",
       "    this.supports_binary = this.ws.binaryType !== undefined;\n",
       "\n",
       "    if (!this.supports_binary) {\n",
       "        var warnings = document.getElementById('mpl-warnings');\n",
       "        if (warnings) {\n",
       "            warnings.style.display = 'block';\n",
       "            warnings.textContent =\n",
       "                'This browser does not support binary websocket messages. ' +\n",
       "                'Performance may be slow.';\n",
       "        }\n",
       "    }\n",
       "\n",
       "    this.imageObj = new Image();\n",
       "\n",
       "    this.context = undefined;\n",
       "    this.message = undefined;\n",
       "    this.canvas = undefined;\n",
       "    this.rubberband_canvas = undefined;\n",
       "    this.rubberband_context = undefined;\n",
       "    this.format_dropdown = undefined;\n",
       "\n",
       "    this.image_mode = 'full';\n",
       "\n",
       "    this.root = document.createElement('div');\n",
       "    this.root.setAttribute('style', 'display: inline-block');\n",
       "    this._root_extra_style(this.root);\n",
       "\n",
       "    parent_element.appendChild(this.root);\n",
       "\n",
       "    this._init_header(this);\n",
       "    this._init_canvas(this);\n",
       "    this._init_toolbar(this);\n",
       "\n",
       "    var fig = this;\n",
       "\n",
       "    this.waiting = false;\n",
       "\n",
       "    this.ws.onopen = function () {\n",
       "        fig.send_message('supports_binary', { value: fig.supports_binary });\n",
       "        fig.send_message('send_image_mode', {});\n",
       "        if (fig.ratio !== 1) {\n",
       "            fig.send_message('set_device_pixel_ratio', {\n",
       "                device_pixel_ratio: fig.ratio,\n",
       "            });\n",
       "        }\n",
       "        fig.send_message('refresh', {});\n",
       "    };\n",
       "\n",
       "    this.imageObj.onload = function () {\n",
       "        if (fig.image_mode === 'full') {\n",
       "            // Full images could contain transparency (where diff images\n",
       "            // almost always do), so we need to clear the canvas so that\n",
       "            // there is no ghosting.\n",
       "            fig.context.clearRect(0, 0, fig.canvas.width, fig.canvas.height);\n",
       "        }\n",
       "        fig.context.drawImage(fig.imageObj, 0, 0);\n",
       "    };\n",
       "\n",
       "    this.imageObj.onunload = function () {\n",
       "        fig.ws.close();\n",
       "    };\n",
       "\n",
       "    this.ws.onmessage = this._make_on_message_function(this);\n",
       "\n",
       "    this.ondownload = ondownload;\n",
       "};\n",
       "\n",
       "mpl.figure.prototype._init_header = function () {\n",
       "    var titlebar = document.createElement('div');\n",
       "    titlebar.classList =\n",
       "        'ui-dialog-titlebar ui-widget-header ui-corner-all ui-helper-clearfix';\n",
       "    var titletext = document.createElement('div');\n",
       "    titletext.classList = 'ui-dialog-title';\n",
       "    titletext.setAttribute(\n",
       "        'style',\n",
       "        'width: 100%; text-align: center; padding: 3px;'\n",
       "    );\n",
       "    titlebar.appendChild(titletext);\n",
       "    this.root.appendChild(titlebar);\n",
       "    this.header = titletext;\n",
       "};\n",
       "\n",
       "mpl.figure.prototype._canvas_extra_style = function (_canvas_div) {};\n",
       "\n",
       "mpl.figure.prototype._root_extra_style = function (_canvas_div) {};\n",
       "\n",
       "mpl.figure.prototype._init_canvas = function () {\n",
       "    var fig = this;\n",
       "\n",
       "    var canvas_div = (this.canvas_div = document.createElement('div'));\n",
       "    canvas_div.setAttribute(\n",
       "        'style',\n",
       "        'border: 1px solid #ddd;' +\n",
       "            'box-sizing: content-box;' +\n",
       "            'clear: both;' +\n",
       "            'min-height: 1px;' +\n",
       "            'min-width: 1px;' +\n",
       "            'outline: 0;' +\n",
       "            'overflow: hidden;' +\n",
       "            'position: relative;' +\n",
       "            'resize: both;'\n",
       "    );\n",
       "\n",
       "    function on_keyboard_event_closure(name) {\n",
       "        return function (event) {\n",
       "            return fig.key_event(event, name);\n",
       "        };\n",
       "    }\n",
       "\n",
       "    canvas_div.addEventListener(\n",
       "        'keydown',\n",
       "        on_keyboard_event_closure('key_press')\n",
       "    );\n",
       "    canvas_div.addEventListener(\n",
       "        'keyup',\n",
       "        on_keyboard_event_closure('key_release')\n",
       "    );\n",
       "\n",
       "    this._canvas_extra_style(canvas_div);\n",
       "    this.root.appendChild(canvas_div);\n",
       "\n",
       "    var canvas = (this.canvas = document.createElement('canvas'));\n",
       "    canvas.classList.add('mpl-canvas');\n",
       "    canvas.setAttribute('style', 'box-sizing: content-box;');\n",
       "\n",
       "    this.context = canvas.getContext('2d');\n",
       "\n",
       "    var backingStore =\n",
       "        this.context.backingStorePixelRatio ||\n",
       "        this.context.webkitBackingStorePixelRatio ||\n",
       "        this.context.mozBackingStorePixelRatio ||\n",
       "        this.context.msBackingStorePixelRatio ||\n",
       "        this.context.oBackingStorePixelRatio ||\n",
       "        this.context.backingStorePixelRatio ||\n",
       "        1;\n",
       "\n",
       "    this.ratio = (window.devicePixelRatio || 1) / backingStore;\n",
       "\n",
       "    var rubberband_canvas = (this.rubberband_canvas = document.createElement(\n",
       "        'canvas'\n",
       "    ));\n",
       "    rubberband_canvas.setAttribute(\n",
       "        'style',\n",
       "        'box-sizing: content-box; position: absolute; left: 0; top: 0; z-index: 1;'\n",
       "    );\n",
       "\n",
       "    // Apply a ponyfill if ResizeObserver is not implemented by browser.\n",
       "    if (this.ResizeObserver === undefined) {\n",
       "        if (window.ResizeObserver !== undefined) {\n",
       "            this.ResizeObserver = window.ResizeObserver;\n",
       "        } else {\n",
       "            var obs = _JSXTOOLS_RESIZE_OBSERVER({});\n",
       "            this.ResizeObserver = obs.ResizeObserver;\n",
       "        }\n",
       "    }\n",
       "\n",
       "    this.resizeObserverInstance = new this.ResizeObserver(function (entries) {\n",
       "        var nentries = entries.length;\n",
       "        for (var i = 0; i < nentries; i++) {\n",
       "            var entry = entries[i];\n",
       "            var width, height;\n",
       "            if (entry.contentBoxSize) {\n",
       "                if (entry.contentBoxSize instanceof Array) {\n",
       "                    // Chrome 84 implements new version of spec.\n",
       "                    width = entry.contentBoxSize[0].inlineSize;\n",
       "                    height = entry.contentBoxSize[0].blockSize;\n",
       "                } else {\n",
       "                    // Firefox implements old version of spec.\n",
       "                    width = entry.contentBoxSize.inlineSize;\n",
       "                    height = entry.contentBoxSize.blockSize;\n",
       "                }\n",
       "            } else {\n",
       "                // Chrome <84 implements even older version of spec.\n",
       "                width = entry.contentRect.width;\n",
       "                height = entry.contentRect.height;\n",
       "            }\n",
       "\n",
       "            // Keep the size of the canvas and rubber band canvas in sync with\n",
       "            // the canvas container.\n",
       "            if (entry.devicePixelContentBoxSize) {\n",
       "                // Chrome 84 implements new version of spec.\n",
       "                canvas.setAttribute(\n",
       "                    'width',\n",
       "                    entry.devicePixelContentBoxSize[0].inlineSize\n",
       "                );\n",
       "                canvas.setAttribute(\n",
       "                    'height',\n",
       "                    entry.devicePixelContentBoxSize[0].blockSize\n",
       "                );\n",
       "            } else {\n",
       "                canvas.setAttribute('width', width * fig.ratio);\n",
       "                canvas.setAttribute('height', height * fig.ratio);\n",
       "            }\n",
       "            canvas.setAttribute(\n",
       "                'style',\n",
       "                'width: ' + width + 'px; height: ' + height + 'px;'\n",
       "            );\n",
       "\n",
       "            rubberband_canvas.setAttribute('width', width);\n",
       "            rubberband_canvas.setAttribute('height', height);\n",
       "\n",
       "            // And update the size in Python. We ignore the initial 0/0 size\n",
       "            // that occurs as the element is placed into the DOM, which should\n",
       "            // otherwise not happen due to the minimum size styling.\n",
       "            if (fig.ws.readyState == 1 && width != 0 && height != 0) {\n",
       "                fig.request_resize(width, height);\n",
       "            }\n",
       "        }\n",
       "    });\n",
       "    this.resizeObserverInstance.observe(canvas_div);\n",
       "\n",
       "    function on_mouse_event_closure(name) {\n",
       "        return function (event) {\n",
       "            return fig.mouse_event(event, name);\n",
       "        };\n",
       "    }\n",
       "\n",
       "    rubberband_canvas.addEventListener(\n",
       "        'mousedown',\n",
       "        on_mouse_event_closure('button_press')\n",
       "    );\n",
       "    rubberband_canvas.addEventListener(\n",
       "        'mouseup',\n",
       "        on_mouse_event_closure('button_release')\n",
       "    );\n",
       "    rubberband_canvas.addEventListener(\n",
       "        'dblclick',\n",
       "        on_mouse_event_closure('dblclick')\n",
       "    );\n",
       "    // Throttle sequential mouse events to 1 every 20ms.\n",
       "    rubberband_canvas.addEventListener(\n",
       "        'mousemove',\n",
       "        on_mouse_event_closure('motion_notify')\n",
       "    );\n",
       "\n",
       "    rubberband_canvas.addEventListener(\n",
       "        'mouseenter',\n",
       "        on_mouse_event_closure('figure_enter')\n",
       "    );\n",
       "    rubberband_canvas.addEventListener(\n",
       "        'mouseleave',\n",
       "        on_mouse_event_closure('figure_leave')\n",
       "    );\n",
       "\n",
       "    canvas_div.addEventListener('wheel', function (event) {\n",
       "        if (event.deltaY < 0) {\n",
       "            event.step = 1;\n",
       "        } else {\n",
       "            event.step = -1;\n",
       "        }\n",
       "        on_mouse_event_closure('scroll')(event);\n",
       "    });\n",
       "\n",
       "    canvas_div.appendChild(canvas);\n",
       "    canvas_div.appendChild(rubberband_canvas);\n",
       "\n",
       "    this.rubberband_context = rubberband_canvas.getContext('2d');\n",
       "    this.rubberband_context.strokeStyle = '#000000';\n",
       "\n",
       "    this._resize_canvas = function (width, height, forward) {\n",
       "        if (forward) {\n",
       "            canvas_div.style.width = width + 'px';\n",
       "            canvas_div.style.height = height + 'px';\n",
       "        }\n",
       "    };\n",
       "\n",
       "    // Disable right mouse context menu.\n",
       "    this.rubberband_canvas.addEventListener('contextmenu', function (_e) {\n",
       "        event.preventDefault();\n",
       "        return false;\n",
       "    });\n",
       "\n",
       "    function set_focus() {\n",
       "        canvas.focus();\n",
       "        canvas_div.focus();\n",
       "    }\n",
       "\n",
       "    window.setTimeout(set_focus, 100);\n",
       "};\n",
       "\n",
       "mpl.figure.prototype._init_toolbar = function () {\n",
       "    var fig = this;\n",
       "\n",
       "    var toolbar = document.createElement('div');\n",
       "    toolbar.classList = 'mpl-toolbar';\n",
       "    this.root.appendChild(toolbar);\n",
       "\n",
       "    function on_click_closure(name) {\n",
       "        return function (_event) {\n",
       "            return fig.toolbar_button_onclick(name);\n",
       "        };\n",
       "    }\n",
       "\n",
       "    function on_mouseover_closure(tooltip) {\n",
       "        return function (event) {\n",
       "            if (!event.currentTarget.disabled) {\n",
       "                return fig.toolbar_button_onmouseover(tooltip);\n",
       "            }\n",
       "        };\n",
       "    }\n",
       "\n",
       "    fig.buttons = {};\n",
       "    var buttonGroup = document.createElement('div');\n",
       "    buttonGroup.classList = 'mpl-button-group';\n",
       "    for (var toolbar_ind in mpl.toolbar_items) {\n",
       "        var name = mpl.toolbar_items[toolbar_ind][0];\n",
       "        var tooltip = mpl.toolbar_items[toolbar_ind][1];\n",
       "        var image = mpl.toolbar_items[toolbar_ind][2];\n",
       "        var method_name = mpl.toolbar_items[toolbar_ind][3];\n",
       "\n",
       "        if (!name) {\n",
       "            /* Instead of a spacer, we start a new button group. */\n",
       "            if (buttonGroup.hasChildNodes()) {\n",
       "                toolbar.appendChild(buttonGroup);\n",
       "            }\n",
       "            buttonGroup = document.createElement('div');\n",
       "            buttonGroup.classList = 'mpl-button-group';\n",
       "            continue;\n",
       "        }\n",
       "\n",
       "        var button = (fig.buttons[name] = document.createElement('button'));\n",
       "        button.classList = 'mpl-widget';\n",
       "        button.setAttribute('role', 'button');\n",
       "        button.setAttribute('aria-disabled', 'false');\n",
       "        button.addEventListener('click', on_click_closure(method_name));\n",
       "        button.addEventListener('mouseover', on_mouseover_closure(tooltip));\n",
       "\n",
       "        var icon_img = document.createElement('img');\n",
       "        icon_img.src = '_images/' + image + '.png';\n",
       "        icon_img.srcset = '_images/' + image + '_large.png 2x';\n",
       "        icon_img.alt = tooltip;\n",
       "        button.appendChild(icon_img);\n",
       "\n",
       "        buttonGroup.appendChild(button);\n",
       "    }\n",
       "\n",
       "    if (buttonGroup.hasChildNodes()) {\n",
       "        toolbar.appendChild(buttonGroup);\n",
       "    }\n",
       "\n",
       "    var fmt_picker = document.createElement('select');\n",
       "    fmt_picker.classList = 'mpl-widget';\n",
       "    toolbar.appendChild(fmt_picker);\n",
       "    this.format_dropdown = fmt_picker;\n",
       "\n",
       "    for (var ind in mpl.extensions) {\n",
       "        var fmt = mpl.extensions[ind];\n",
       "        var option = document.createElement('option');\n",
       "        option.selected = fmt === mpl.default_extension;\n",
       "        option.innerHTML = fmt;\n",
       "        fmt_picker.appendChild(option);\n",
       "    }\n",
       "\n",
       "    var status_bar = document.createElement('span');\n",
       "    status_bar.classList = 'mpl-message';\n",
       "    toolbar.appendChild(status_bar);\n",
       "    this.message = status_bar;\n",
       "};\n",
       "\n",
       "mpl.figure.prototype.request_resize = function (x_pixels, y_pixels) {\n",
       "    // Request matplotlib to resize the figure. Matplotlib will then trigger a resize in the client,\n",
       "    // which will in turn request a refresh of the image.\n",
       "    this.send_message('resize', { width: x_pixels, height: y_pixels });\n",
       "};\n",
       "\n",
       "mpl.figure.prototype.send_message = function (type, properties) {\n",
       "    properties['type'] = type;\n",
       "    properties['figure_id'] = this.id;\n",
       "    this.ws.send(JSON.stringify(properties));\n",
       "};\n",
       "\n",
       "mpl.figure.prototype.send_draw_message = function () {\n",
       "    if (!this.waiting) {\n",
       "        this.waiting = true;\n",
       "        this.ws.send(JSON.stringify({ type: 'draw', figure_id: this.id }));\n",
       "    }\n",
       "};\n",
       "\n",
       "mpl.figure.prototype.handle_save = function (fig, _msg) {\n",
       "    var format_dropdown = fig.format_dropdown;\n",
       "    var format = format_dropdown.options[format_dropdown.selectedIndex].value;\n",
       "    fig.ondownload(fig, format);\n",
       "};\n",
       "\n",
       "mpl.figure.prototype.handle_resize = function (fig, msg) {\n",
       "    var size = msg['size'];\n",
       "    if (size[0] !== fig.canvas.width || size[1] !== fig.canvas.height) {\n",
       "        fig._resize_canvas(size[0], size[1], msg['forward']);\n",
       "        fig.send_message('refresh', {});\n",
       "    }\n",
       "};\n",
       "\n",
       "mpl.figure.prototype.handle_rubberband = function (fig, msg) {\n",
       "    var x0 = msg['x0'] / fig.ratio;\n",
       "    var y0 = (fig.canvas.height - msg['y0']) / fig.ratio;\n",
       "    var x1 = msg['x1'] / fig.ratio;\n",
       "    var y1 = (fig.canvas.height - msg['y1']) / fig.ratio;\n",
       "    x0 = Math.floor(x0) + 0.5;\n",
       "    y0 = Math.floor(y0) + 0.5;\n",
       "    x1 = Math.floor(x1) + 0.5;\n",
       "    y1 = Math.floor(y1) + 0.5;\n",
       "    var min_x = Math.min(x0, x1);\n",
       "    var min_y = Math.min(y0, y1);\n",
       "    var width = Math.abs(x1 - x0);\n",
       "    var height = Math.abs(y1 - y0);\n",
       "\n",
       "    fig.rubberband_context.clearRect(\n",
       "        0,\n",
       "        0,\n",
       "        fig.canvas.width / fig.ratio,\n",
       "        fig.canvas.height / fig.ratio\n",
       "    );\n",
       "\n",
       "    fig.rubberband_context.strokeRect(min_x, min_y, width, height);\n",
       "};\n",
       "\n",
       "mpl.figure.prototype.handle_figure_label = function (fig, msg) {\n",
       "    // Updates the figure title.\n",
       "    fig.header.textContent = msg['label'];\n",
       "};\n",
       "\n",
       "mpl.figure.prototype.handle_cursor = function (fig, msg) {\n",
       "    fig.rubberband_canvas.style.cursor = msg['cursor'];\n",
       "};\n",
       "\n",
       "mpl.figure.prototype.handle_message = function (fig, msg) {\n",
       "    fig.message.textContent = msg['message'];\n",
       "};\n",
       "\n",
       "mpl.figure.prototype.handle_draw = function (fig, _msg) {\n",
       "    // Request the server to send over a new figure.\n",
       "    fig.send_draw_message();\n",
       "};\n",
       "\n",
       "mpl.figure.prototype.handle_image_mode = function (fig, msg) {\n",
       "    fig.image_mode = msg['mode'];\n",
       "};\n",
       "\n",
       "mpl.figure.prototype.handle_history_buttons = function (fig, msg) {\n",
       "    for (var key in msg) {\n",
       "        if (!(key in fig.buttons)) {\n",
       "            continue;\n",
       "        }\n",
       "        fig.buttons[key].disabled = !msg[key];\n",
       "        fig.buttons[key].setAttribute('aria-disabled', !msg[key]);\n",
       "    }\n",
       "};\n",
       "\n",
       "mpl.figure.prototype.handle_navigate_mode = function (fig, msg) {\n",
       "    if (msg['mode'] === 'PAN') {\n",
       "        fig.buttons['Pan'].classList.add('active');\n",
       "        fig.buttons['Zoom'].classList.remove('active');\n",
       "    } else if (msg['mode'] === 'ZOOM') {\n",
       "        fig.buttons['Pan'].classList.remove('active');\n",
       "        fig.buttons['Zoom'].classList.add('active');\n",
       "    } else {\n",
       "        fig.buttons['Pan'].classList.remove('active');\n",
       "        fig.buttons['Zoom'].classList.remove('active');\n",
       "    }\n",
       "};\n",
       "\n",
       "mpl.figure.prototype.updated_canvas_event = function () {\n",
       "    // Called whenever the canvas gets updated.\n",
       "    this.send_message('ack', {});\n",
       "};\n",
       "\n",
       "// A function to construct a web socket function for onmessage handling.\n",
       "// Called in the figure constructor.\n",
       "mpl.figure.prototype._make_on_message_function = function (fig) {\n",
       "    return function socket_on_message(evt) {\n",
       "        if (evt.data instanceof Blob) {\n",
       "            var img = evt.data;\n",
       "            if (img.type !== 'image/png') {\n",
       "                /* FIXME: We get \"Resource interpreted as Image but\n",
       "                 * transferred with MIME type text/plain:\" errors on\n",
       "                 * Chrome.  But how to set the MIME type?  It doesn't seem\n",
       "                 * to be part of the websocket stream */\n",
       "                img.type = 'image/png';\n",
       "            }\n",
       "\n",
       "            /* Free the memory for the previous frames */\n",
       "            if (fig.imageObj.src) {\n",
       "                (window.URL || window.webkitURL).revokeObjectURL(\n",
       "                    fig.imageObj.src\n",
       "                );\n",
       "            }\n",
       "\n",
       "            fig.imageObj.src = (window.URL || window.webkitURL).createObjectURL(\n",
       "                img\n",
       "            );\n",
       "            fig.updated_canvas_event();\n",
       "            fig.waiting = false;\n",
       "            return;\n",
       "        } else if (\n",
       "            typeof evt.data === 'string' &&\n",
       "            evt.data.slice(0, 21) === 'data:image/png;base64'\n",
       "        ) {\n",
       "            fig.imageObj.src = evt.data;\n",
       "            fig.updated_canvas_event();\n",
       "            fig.waiting = false;\n",
       "            return;\n",
       "        }\n",
       "\n",
       "        var msg = JSON.parse(evt.data);\n",
       "        var msg_type = msg['type'];\n",
       "\n",
       "        // Call the  \"handle_{type}\" callback, which takes\n",
       "        // the figure and JSON message as its only arguments.\n",
       "        try {\n",
       "            var callback = fig['handle_' + msg_type];\n",
       "        } catch (e) {\n",
       "            console.log(\n",
       "                \"No handler for the '\" + msg_type + \"' message type: \",\n",
       "                msg\n",
       "            );\n",
       "            return;\n",
       "        }\n",
       "\n",
       "        if (callback) {\n",
       "            try {\n",
       "                // console.log(\"Handling '\" + msg_type + \"' message: \", msg);\n",
       "                callback(fig, msg);\n",
       "            } catch (e) {\n",
       "                console.log(\n",
       "                    \"Exception inside the 'handler_\" + msg_type + \"' callback:\",\n",
       "                    e,\n",
       "                    e.stack,\n",
       "                    msg\n",
       "                );\n",
       "            }\n",
       "        }\n",
       "    };\n",
       "};\n",
       "\n",
       "// from https://stackoverflow.com/questions/1114465/getting-mouse-location-in-canvas\n",
       "mpl.findpos = function (e) {\n",
       "    //this section is from http://www.quirksmode.org/js/events_properties.html\n",
       "    var targ;\n",
       "    if (!e) {\n",
       "        e = window.event;\n",
       "    }\n",
       "    if (e.target) {\n",
       "        targ = e.target;\n",
       "    } else if (e.srcElement) {\n",
       "        targ = e.srcElement;\n",
       "    }\n",
       "    if (targ.nodeType === 3) {\n",
       "        // defeat Safari bug\n",
       "        targ = targ.parentNode;\n",
       "    }\n",
       "\n",
       "    // pageX,Y are the mouse positions relative to the document\n",
       "    var boundingRect = targ.getBoundingClientRect();\n",
       "    var x = e.pageX - (boundingRect.left + document.body.scrollLeft);\n",
       "    var y = e.pageY - (boundingRect.top + document.body.scrollTop);\n",
       "\n",
       "    return { x: x, y: y };\n",
       "};\n",
       "\n",
       "/*\n",
       " * return a copy of an object with only non-object keys\n",
       " * we need this to avoid circular references\n",
       " * https://stackoverflow.com/a/24161582/3208463\n",
       " */\n",
       "function simpleKeys(original) {\n",
       "    return Object.keys(original).reduce(function (obj, key) {\n",
       "        if (typeof original[key] !== 'object') {\n",
       "            obj[key] = original[key];\n",
       "        }\n",
       "        return obj;\n",
       "    }, {});\n",
       "}\n",
       "\n",
       "mpl.figure.prototype.mouse_event = function (event, name) {\n",
       "    var canvas_pos = mpl.findpos(event);\n",
       "\n",
       "    if (name === 'button_press') {\n",
       "        this.canvas.focus();\n",
       "        this.canvas_div.focus();\n",
       "    }\n",
       "\n",
       "    var x = canvas_pos.x * this.ratio;\n",
       "    var y = canvas_pos.y * this.ratio;\n",
       "\n",
       "    this.send_message(name, {\n",
       "        x: x,\n",
       "        y: y,\n",
       "        button: event.button,\n",
       "        step: event.step,\n",
       "        guiEvent: simpleKeys(event),\n",
       "    });\n",
       "\n",
       "    /* This prevents the web browser from automatically changing to\n",
       "     * the text insertion cursor when the button is pressed.  We want\n",
       "     * to control all of the cursor setting manually through the\n",
       "     * 'cursor' event from matplotlib */\n",
       "    event.preventDefault();\n",
       "    return false;\n",
       "};\n",
       "\n",
       "mpl.figure.prototype._key_event_extra = function (_event, _name) {\n",
       "    // Handle any extra behaviour associated with a key event\n",
       "};\n",
       "\n",
       "mpl.figure.prototype.key_event = function (event, name) {\n",
       "    // Prevent repeat events\n",
       "    if (name === 'key_press') {\n",
       "        if (event.key === this._key) {\n",
       "            return;\n",
       "        } else {\n",
       "            this._key = event.key;\n",
       "        }\n",
       "    }\n",
       "    if (name === 'key_release') {\n",
       "        this._key = null;\n",
       "    }\n",
       "\n",
       "    var value = '';\n",
       "    if (event.ctrlKey && event.key !== 'Control') {\n",
       "        value += 'ctrl+';\n",
       "    }\n",
       "    else if (event.altKey && event.key !== 'Alt') {\n",
       "        value += 'alt+';\n",
       "    }\n",
       "    else if (event.shiftKey && event.key !== 'Shift') {\n",
       "        value += 'shift+';\n",
       "    }\n",
       "\n",
       "    value += 'k' + event.key;\n",
       "\n",
       "    this._key_event_extra(event, name);\n",
       "\n",
       "    this.send_message(name, { key: value, guiEvent: simpleKeys(event) });\n",
       "    return false;\n",
       "};\n",
       "\n",
       "mpl.figure.prototype.toolbar_button_onclick = function (name) {\n",
       "    if (name === 'download') {\n",
       "        this.handle_save(this, null);\n",
       "    } else {\n",
       "        this.send_message('toolbar_button', { name: name });\n",
       "    }\n",
       "};\n",
       "\n",
       "mpl.figure.prototype.toolbar_button_onmouseover = function (tooltip) {\n",
       "    this.message.textContent = tooltip;\n",
       "};\n",
       "\n",
       "///////////////// REMAINING CONTENT GENERATED BY embed_js.py /////////////////\n",
       "// prettier-ignore\n",
       "var _JSXTOOLS_RESIZE_OBSERVER=function(A){var t,i=new WeakMap,n=new WeakMap,a=new WeakMap,r=new WeakMap,o=new Set;function s(e){if(!(this instanceof s))throw new TypeError(\"Constructor requires 'new' operator\");i.set(this,e)}function h(){throw new TypeError(\"Function is not a constructor\")}function c(e,t,i,n){e=0 in arguments?Number(arguments[0]):0,t=1 in arguments?Number(arguments[1]):0,i=2 in arguments?Number(arguments[2]):0,n=3 in arguments?Number(arguments[3]):0,this.right=(this.x=this.left=e)+(this.width=i),this.bottom=(this.y=this.top=t)+(this.height=n),Object.freeze(this)}function d(){t=requestAnimationFrame(d);var s=new WeakMap,p=new Set;o.forEach((function(t){r.get(t).forEach((function(i){var r=t instanceof window.SVGElement,o=a.get(t),d=r?0:parseFloat(o.paddingTop),f=r?0:parseFloat(o.paddingRight),l=r?0:parseFloat(o.paddingBottom),u=r?0:parseFloat(o.paddingLeft),g=r?0:parseFloat(o.borderTopWidth),m=r?0:parseFloat(o.borderRightWidth),w=r?0:parseFloat(o.borderBottomWidth),b=u+f,F=d+l,v=(r?0:parseFloat(o.borderLeftWidth))+m,W=g+w,y=r?0:t.offsetHeight-W-t.clientHeight,E=r?0:t.offsetWidth-v-t.clientWidth,R=b+v,z=F+W,M=r?t.width:parseFloat(o.width)-R-E,O=r?t.height:parseFloat(o.height)-z-y;if(n.has(t)){var k=n.get(t);if(k[0]===M&&k[1]===O)return}n.set(t,[M,O]);var S=Object.create(h.prototype);S.target=t,S.contentRect=new c(u,d,M,O),s.has(i)||(s.set(i,[]),p.add(i)),s.get(i).push(S)}))})),p.forEach((function(e){i.get(e).call(e,s.get(e),e)}))}return s.prototype.observe=function(i){if(i instanceof window.Element){r.has(i)||(r.set(i,new Set),o.add(i),a.set(i,window.getComputedStyle(i)));var n=r.get(i);n.has(this)||n.add(this),cancelAnimationFrame(t),t=requestAnimationFrame(d)}},s.prototype.unobserve=function(i){if(i instanceof window.Element&&r.has(i)){var n=r.get(i);n.has(this)&&(n.delete(this),n.size||(r.delete(i),o.delete(i))),n.size||r.delete(i),o.size||cancelAnimationFrame(t)}},A.DOMRectReadOnly=c,A.ResizeObserver=s,A.ResizeObserverEntry=h,A}; // eslint-disable-line\n",
       "mpl.toolbar_items = [[\"Home\", \"Reset original view\", \"fa fa-home icon-home\", \"home\"], [\"Back\", \"Back to previous view\", \"fa fa-arrow-left icon-arrow-left\", \"back\"], [\"Forward\", \"Forward to next view\", \"fa fa-arrow-right icon-arrow-right\", \"forward\"], [\"\", \"\", \"\", \"\"], [\"Pan\", \"Left button pans, Right button zooms\\nx/y fixes axis, CTRL fixes aspect\", \"fa fa-arrows icon-move\", \"pan\"], [\"Zoom\", \"Zoom to rectangle\\nx/y fixes axis\", \"fa fa-square-o icon-check-empty\", \"zoom\"], [\"\", \"\", \"\", \"\"], [\"Download\", \"Download plot\", \"fa fa-floppy-o icon-save\", \"download\"]];\n",
       "\n",
       "mpl.extensions = [\"eps\", \"jpeg\", \"pgf\", \"pdf\", \"png\", \"ps\", \"raw\", \"svg\", \"tif\"];\n",
       "\n",
       "mpl.default_extension = \"png\";/* global mpl */\n",
       "\n",
       "var comm_websocket_adapter = function (comm) {\n",
       "    // Create a \"websocket\"-like object which calls the given IPython comm\n",
       "    // object with the appropriate methods. Currently this is a non binary\n",
       "    // socket, so there is still some room for performance tuning.\n",
       "    var ws = {};\n",
       "\n",
       "    ws.binaryType = comm.kernel.ws.binaryType;\n",
       "    ws.readyState = comm.kernel.ws.readyState;\n",
       "    function updateReadyState(_event) {\n",
       "        if (comm.kernel.ws) {\n",
       "            ws.readyState = comm.kernel.ws.readyState;\n",
       "        } else {\n",
       "            ws.readyState = 3; // Closed state.\n",
       "        }\n",
       "    }\n",
       "    comm.kernel.ws.addEventListener('open', updateReadyState);\n",
       "    comm.kernel.ws.addEventListener('close', updateReadyState);\n",
       "    comm.kernel.ws.addEventListener('error', updateReadyState);\n",
       "\n",
       "    ws.close = function () {\n",
       "        comm.close();\n",
       "    };\n",
       "    ws.send = function (m) {\n",
       "        //console.log('sending', m);\n",
       "        comm.send(m);\n",
       "    };\n",
       "    // Register the callback with on_msg.\n",
       "    comm.on_msg(function (msg) {\n",
       "        //console.log('receiving', msg['content']['data'], msg);\n",
       "        var data = msg['content']['data'];\n",
       "        if (data['blob'] !== undefined) {\n",
       "            data = {\n",
       "                data: new Blob(msg['buffers'], { type: data['blob'] }),\n",
       "            };\n",
       "        }\n",
       "        // Pass the mpl event to the overridden (by mpl) onmessage function.\n",
       "        ws.onmessage(data);\n",
       "    });\n",
       "    return ws;\n",
       "};\n",
       "\n",
       "mpl.mpl_figure_comm = function (comm, msg) {\n",
       "    // This is the function which gets called when the mpl process\n",
       "    // starts-up an IPython Comm through the \"matplotlib\" channel.\n",
       "\n",
       "    var id = msg.content.data.id;\n",
       "    // Get hold of the div created by the display call when the Comm\n",
       "    // socket was opened in Python.\n",
       "    var element = document.getElementById(id);\n",
       "    var ws_proxy = comm_websocket_adapter(comm);\n",
       "\n",
       "    function ondownload(figure, _format) {\n",
       "        window.open(figure.canvas.toDataURL());\n",
       "    }\n",
       "\n",
       "    var fig = new mpl.figure(id, ws_proxy, ondownload, element);\n",
       "\n",
       "    // Call onopen now - mpl needs it, as it is assuming we've passed it a real\n",
       "    // web socket which is closed, not our websocket->open comm proxy.\n",
       "    ws_proxy.onopen();\n",
       "\n",
       "    fig.parent_element = element;\n",
       "    fig.cell_info = mpl.find_output_cell(\"<div id='\" + id + \"'></div>\");\n",
       "    if (!fig.cell_info) {\n",
       "        console.error('Failed to find cell for figure', id, fig);\n",
       "        return;\n",
       "    }\n",
       "    fig.cell_info[0].output_area.element.on(\n",
       "        'cleared',\n",
       "        { fig: fig },\n",
       "        fig._remove_fig_handler\n",
       "    );\n",
       "};\n",
       "\n",
       "mpl.figure.prototype.handle_close = function (fig, msg) {\n",
       "    var width = fig.canvas.width / fig.ratio;\n",
       "    fig.cell_info[0].output_area.element.off(\n",
       "        'cleared',\n",
       "        fig._remove_fig_handler\n",
       "    );\n",
       "    fig.resizeObserverInstance.unobserve(fig.canvas_div);\n",
       "\n",
       "    // Update the output cell to use the data from the current canvas.\n",
       "    fig.push_to_output();\n",
       "    var dataURL = fig.canvas.toDataURL();\n",
       "    // Re-enable the keyboard manager in IPython - without this line, in FF,\n",
       "    // the notebook keyboard shortcuts fail.\n",
       "    IPython.keyboard_manager.enable();\n",
       "    fig.parent_element.innerHTML =\n",
       "        '<img src=\"' + dataURL + '\" width=\"' + width + '\">';\n",
       "    fig.close_ws(fig, msg);\n",
       "};\n",
       "\n",
       "mpl.figure.prototype.close_ws = function (fig, msg) {\n",
       "    fig.send_message('closing', msg);\n",
       "    // fig.ws.close()\n",
       "};\n",
       "\n",
       "mpl.figure.prototype.push_to_output = function (_remove_interactive) {\n",
       "    // Turn the data on the canvas into data in the output cell.\n",
       "    var width = this.canvas.width / this.ratio;\n",
       "    var dataURL = this.canvas.toDataURL();\n",
       "    this.cell_info[1]['text/html'] =\n",
       "        '<img src=\"' + dataURL + '\" width=\"' + width + '\">';\n",
       "};\n",
       "\n",
       "mpl.figure.prototype.updated_canvas_event = function () {\n",
       "    // Tell IPython that the notebook contents must change.\n",
       "    IPython.notebook.set_dirty(true);\n",
       "    this.send_message('ack', {});\n",
       "    var fig = this;\n",
       "    // Wait a second, then push the new image to the DOM so\n",
       "    // that it is saved nicely (might be nice to debounce this).\n",
       "    setTimeout(function () {\n",
       "        fig.push_to_output();\n",
       "    }, 1000);\n",
       "};\n",
       "\n",
       "mpl.figure.prototype._init_toolbar = function () {\n",
       "    var fig = this;\n",
       "\n",
       "    var toolbar = document.createElement('div');\n",
       "    toolbar.classList = 'btn-toolbar';\n",
       "    this.root.appendChild(toolbar);\n",
       "\n",
       "    function on_click_closure(name) {\n",
       "        return function (_event) {\n",
       "            return fig.toolbar_button_onclick(name);\n",
       "        };\n",
       "    }\n",
       "\n",
       "    function on_mouseover_closure(tooltip) {\n",
       "        return function (event) {\n",
       "            if (!event.currentTarget.disabled) {\n",
       "                return fig.toolbar_button_onmouseover(tooltip);\n",
       "            }\n",
       "        };\n",
       "    }\n",
       "\n",
       "    fig.buttons = {};\n",
       "    var buttonGroup = document.createElement('div');\n",
       "    buttonGroup.classList = 'btn-group';\n",
       "    var button;\n",
       "    for (var toolbar_ind in mpl.toolbar_items) {\n",
       "        var name = mpl.toolbar_items[toolbar_ind][0];\n",
       "        var tooltip = mpl.toolbar_items[toolbar_ind][1];\n",
       "        var image = mpl.toolbar_items[toolbar_ind][2];\n",
       "        var method_name = mpl.toolbar_items[toolbar_ind][3];\n",
       "\n",
       "        if (!name) {\n",
       "            /* Instead of a spacer, we start a new button group. */\n",
       "            if (buttonGroup.hasChildNodes()) {\n",
       "                toolbar.appendChild(buttonGroup);\n",
       "            }\n",
       "            buttonGroup = document.createElement('div');\n",
       "            buttonGroup.classList = 'btn-group';\n",
       "            continue;\n",
       "        }\n",
       "\n",
       "        button = fig.buttons[name] = document.createElement('button');\n",
       "        button.classList = 'btn btn-default';\n",
       "        button.href = '#';\n",
       "        button.title = name;\n",
       "        button.innerHTML = '<i class=\"fa ' + image + ' fa-lg\"></i>';\n",
       "        button.addEventListener('click', on_click_closure(method_name));\n",
       "        button.addEventListener('mouseover', on_mouseover_closure(tooltip));\n",
       "        buttonGroup.appendChild(button);\n",
       "    }\n",
       "\n",
       "    if (buttonGroup.hasChildNodes()) {\n",
       "        toolbar.appendChild(buttonGroup);\n",
       "    }\n",
       "\n",
       "    // Add the status bar.\n",
       "    var status_bar = document.createElement('span');\n",
       "    status_bar.classList = 'mpl-message pull-right';\n",
       "    toolbar.appendChild(status_bar);\n",
       "    this.message = status_bar;\n",
       "\n",
       "    // Add the close button to the window.\n",
       "    var buttongrp = document.createElement('div');\n",
       "    buttongrp.classList = 'btn-group inline pull-right';\n",
       "    button = document.createElement('button');\n",
       "    button.classList = 'btn btn-mini btn-primary';\n",
       "    button.href = '#';\n",
       "    button.title = 'Stop Interaction';\n",
       "    button.innerHTML = '<i class=\"fa fa-power-off icon-remove icon-large\"></i>';\n",
       "    button.addEventListener('click', function (_evt) {\n",
       "        fig.handle_close(fig, {});\n",
       "    });\n",
       "    button.addEventListener(\n",
       "        'mouseover',\n",
       "        on_mouseover_closure('Stop Interaction')\n",
       "    );\n",
       "    buttongrp.appendChild(button);\n",
       "    var titlebar = this.root.querySelector('.ui-dialog-titlebar');\n",
       "    titlebar.insertBefore(buttongrp, titlebar.firstChild);\n",
       "};\n",
       "\n",
       "mpl.figure.prototype._remove_fig_handler = function (event) {\n",
       "    var fig = event.data.fig;\n",
       "    if (event.target !== this) {\n",
       "        // Ignore bubbled events from children.\n",
       "        return;\n",
       "    }\n",
       "    fig.close_ws(fig, {});\n",
       "};\n",
       "\n",
       "mpl.figure.prototype._root_extra_style = function (el) {\n",
       "    el.style.boxSizing = 'content-box'; // override notebook setting of border-box.\n",
       "};\n",
       "\n",
       "mpl.figure.prototype._canvas_extra_style = function (el) {\n",
       "    // this is important to make the div 'focusable\n",
       "    el.setAttribute('tabindex', 0);\n",
       "    // reach out to IPython and tell the keyboard manager to turn it's self\n",
       "    // off when our div gets focus\n",
       "\n",
       "    // location in version 3\n",
       "    if (IPython.notebook.keyboard_manager) {\n",
       "        IPython.notebook.keyboard_manager.register_events(el);\n",
       "    } else {\n",
       "        // location in version 2\n",
       "        IPython.keyboard_manager.register_events(el);\n",
       "    }\n",
       "};\n",
       "\n",
       "mpl.figure.prototype._key_event_extra = function (event, _name) {\n",
       "    // Check for shift+enter\n",
       "    if (event.shiftKey && event.which === 13) {\n",
       "        this.canvas_div.blur();\n",
       "        // select the cell after this one\n",
       "        var index = IPython.notebook.find_cell_index(this.cell_info[0]);\n",
       "        IPython.notebook.select(index + 1);\n",
       "    }\n",
       "};\n",
       "\n",
       "mpl.figure.prototype.handle_save = function (fig, _msg) {\n",
       "    fig.ondownload(fig, null);\n",
       "};\n",
       "\n",
       "mpl.find_output_cell = function (html_output) {\n",
       "    // Return the cell and output element which can be found *uniquely* in the notebook.\n",
       "    // Note - this is a bit hacky, but it is done because the \"notebook_saving.Notebook\"\n",
       "    // IPython event is triggered only after the cells have been serialised, which for\n",
       "    // our purposes (turning an active figure into a static one), is too late.\n",
       "    var cells = IPython.notebook.get_cells();\n",
       "    var ncells = cells.length;\n",
       "    for (var i = 0; i < ncells; i++) {\n",
       "        var cell = cells[i];\n",
       "        if (cell.cell_type === 'code') {\n",
       "            for (var j = 0; j < cell.output_area.outputs.length; j++) {\n",
       "                var data = cell.output_area.outputs[j];\n",
       "                if (data.data) {\n",
       "                    // IPython >= 3 moved mimebundle to data attribute of output\n",
       "                    data = data.data;\n",
       "                }\n",
       "                if (data['text/html'] === html_output) {\n",
       "                    return [cell, data, j];\n",
       "                }\n",
       "            }\n",
       "        }\n",
       "    }\n",
       "};\n",
       "\n",
       "// Register the function which deals with the matplotlib target/channel.\n",
       "// The kernel may be null if the page has been refreshed.\n",
       "if (IPython.notebook.kernel !== null) {\n",
       "    IPython.notebook.kernel.comm_manager.register_target(\n",
       "        'matplotlib',\n",
       "        mpl.mpl_figure_comm\n",
       "    );\n",
       "}\n"
      ],
      "text/plain": [
       "<IPython.core.display.Javascript object>"
      ]
     },
     "metadata": {},
     "output_type": "display_data"
    },
    {
     "data": {
      "text/html": [
       "<img src=\"data:image/png;base64,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\" width=\"599.9999821186071\">"
      ],
      "text/plain": [
       "<IPython.core.display.HTML object>"
      ]
     },
     "metadata": {},
     "output_type": "display_data"
    },
    {
     "data": {
      "application/vnd.jupyter.widget-view+json": {
       "model_id": "71c0a08d53d44c46b214bfd3e4370b8f",
       "version_major": 2,
       "version_minor": 0
      },
      "text/plain": [
       "interactive(children=(FloatSlider(value=0.0, description='theta', max=6.283185307179586, step=0.01), Output())…"
      ]
     },
     "metadata": {},
     "output_type": "display_data"
    }
   ],
   "source": [
    "\n",
    "def g(A, theta):\n",
    "    a, c = np.cos(theta), np.sin(theta)\n",
    "    x = np.linspace(0, a, 100)\n",
    "    y = np.linspace(0, c, 100)\n",
    "    b, d = A @ np.array([a,c])\n",
    "    z = np.linspace(0, b, 100)\n",
    "    w = np.linspace(0, d, 100)\n",
    "    return x, y, z, w\n",
    "\n",
    "fig, ax = plt.subplots(figsize=(6,6))\n",
    "xmin, xmax, ymin, ymax = -2, 2, -2, 2\n",
    "ax.set(xlim=(xmin-1, xmax+1), ylim=(ymin-1, ymax+1), aspect='equal')\n",
    "ax.spines['bottom'].set_position('zero')\n",
    "ax.spines['left'].set_position('zero')\n",
    "ax.spines['top'].set_visible(False)\n",
    "ax.spines['right'].set_visible(False)\n",
    "\n",
    "ax.set_xlabel('x', size=14, labelpad=-24, x=1.03)\n",
    "ax.set_ylabel('y', size=14, labelpad=-21, y=1.02, rotation=0)\n",
    "arrow_fmt = dict(markersize=4, color='black', clip_on=False)\n",
    "ax.plot((1), (0), marker='>', transform=ax.get_yaxis_transform(), **arrow_fmt)\n",
    "ax.plot((0), (1), marker='^', transform=ax.get_xaxis_transform(), **arrow_fmt)\n",
    "\n",
    "x, y, z, w = g(A, 0)\n",
    "line1, = ax.plot(x,y, color='red')\n",
    "line2, = ax.plot(z,w, color='green')\n",
    "\n",
    "angles = np.linspace(0, 2*np.pi, 100)\n",
    "crc = np.array([np.cos(angles), np.sin(angles)])\n",
    "elps = A @ crc\n",
    "ax.plot(crc[0,:], crc[1,:], color='red')\n",
    "ax.plot(elps[0,:], elps[1,:], color='green')\n",
    "\n",
    "def update(theta = 0):\n",
    "    x, y, z, w = g(A,theta)\n",
    "    print(\"x = \"+str(x[-1])+\",\"+str(y[-1]))\n",
    "    print(\"y = \"+str(z[-1])+\",\"+str(w[-1]))\n",
    "    line1.set_data(x, y)\n",
    "    line2.set_data(z, w)\n",
    "    fig.canvas.draw_idle()\n",
    "    \n",
    "interact(update, theta = (0, 2*np.pi, 0.01));"
   ]
  },
  {
   "cell_type": "markdown",
   "id": "2b2e08ce",
   "metadata": {
    "slideshow": {
     "slide_type": "slide"
    }
   },
   "source": [
    "### Example: How to find eigenvalues and eigenvectors\n",
    "\n",
    "$$\n",
    "\\begin{aligned}\n",
    "A &= \\left[\\begin{matrix}0.8 & 0.3\\\\0.2 & 0.7\\end{matrix}\\right]\\\\\n",
    "A\\mathbf x &= \\lambda \\mathbf x\\\\\n",
    "&= \\lambda \\mathbf I \\mathbf x\\\\\n",
    "(A-\\lambda \\mathbf I)\\mathbf x &= \\mathbf 0 \n",
    "\\end{aligned}\n",
    "$$\n",
    "\n",
    "The important matrix now is\n",
    "\n",
    "$$\n",
    "A-\\lambda \\mathbf I = \\begin{bmatrix}\n",
    "0.8-\\lambda & 0.3\\\\\n",
    "0.2 & 0.7-\\lambda\n",
    "\\end{bmatrix}\n",
    "$$"
   ]
  },
  {
   "cell_type": "markdown",
   "id": "866eacb0",
   "metadata": {},
   "source": [
    "We are looking for a value of $\\lambda$ such that\n",
    "$$\n",
    "(A-\\lambda \\mathbf I)\\mathbf x = \\mathbf 0 \n",
    "$$\n",
    "\n",
    "with $\\mathbf x \\neq \\mathbf 0$ (otherwise the equation would be trivial).\n",
    "\n",
    "It follows that $(A-\\lambda \\mathbf I)$ is not invertible. Hence:\n",
    "\n",
    "$$\n",
    "|(A-\\lambda \\mathbf I)| = 0\n",
    "$$\n",
    "\n",
    "Using the formula for the determinant of a $2\\times 2$ matrix:\n",
    "\n",
    "$$\n",
    "(0.8-\\lambda)(0.7-\\lambda) - 0.2\\times 0.3 = 0\n",
    "$$\n"
   ]
  },
  {
   "cell_type": "markdown",
   "id": "6c01c2bf",
   "metadata": {
    "slideshow": {
     "slide_type": "slide"
    }
   },
   "source": [
    "Simplifying:\n",
    "\n",
    "$$\n",
    "\\begin{aligned}\n",
    "(0.8-\\lambda)(0.7-\\lambda) - 0.2\\times 0.3 &= 0\\\\\n",
    "\\lambda ^2 - 1.5\\lambda + 0.56 - 0.06 &= 0\\\\\n",
    "\\lambda^2 - 1.5\\lambda + 0.5 &= 0\n",
    "\\end{aligned}\n",
    "$$\n",
    "\n",
    "There is a formula for finding the solution of quadratic equations (https://en.wikipedia.org/wiki/Quadratic_equation):\n",
    "\n",
    "$$\n",
    "\\begin{aligned}\n",
    "\\lambda_{1/2} = \\frac{3}{4} \\pm \\sqrt{(\\frac{3}{4})^2-\\frac{1}{2}}\\\\\n",
    "&= \\frac{3}{4} \\pm \\sqrt{\\frac{9-8}{16}}\\\\\n",
    "&= \\frac{3}{4} \\pm \\sqrt{\\frac{1}{16}}\\\\\n",
    "&= \\frac{3}{4} \\pm \\frac{1}{4}\\\\\n",
    "\\lambda_1 &= 1\\\\\n",
    "\\lambda_2 &= 0.5\n",
    "\\end{aligned}\n",
    "$$\n",
    "\n",
    "$\\lambda_1$ and $\\lambda_2$ are the eigenvalues of $A$. Now let's find the corresponding eigenvectors."
   ]
  },
  {
   "cell_type": "markdown",
   "id": "2cc32822",
   "metadata": {
    "slideshow": {
     "slide_type": "slide"
    }
   },
   "source": [
    "This amount to finding the nullspace of $A-\\lambda\\mathbf I$:\n",
    "\n",
    "- $\\lambda_1$\n",
    "\n",
    "$$\n",
    "\\begin{aligned}\n",
    "(A - \\lambda_1\\mathbf I)\\mathbf x_1 &= \\mathbf 0\\\\\n",
    "\\begin{bmatrix}\n",
    "-0.2 & 0.3\\\\\n",
    "0.2 & -0.3\n",
    "\\end{bmatrix}\\mathbf x_1 &= \\mathbf 0\\\\\n",
    "\\begin{bmatrix}\n",
    "-0.2 & 0.3\\\\\n",
    "0 & 0\n",
    "\\end{bmatrix}\\mathbf x_1 &= \\mathbf 0\\\\\n",
    "\\begin{bmatrix}\n",
    "1 & -1.5\\\\\n",
    "0 & 0\n",
    "\\end{bmatrix}\\mathbf x_1 &= \\mathbf 0\\\\\n",
    "\\mathbf x_1 &= \\begin{bmatrix}1.5\\\\1\\end{bmatrix}\n",
    "\\end{aligned}\n",
    "$$\n",
    "\n"
   ]
  },
  {
   "cell_type": "markdown",
   "id": "fe963bfe",
   "metadata": {
    "slideshow": {
     "slide_type": "slide"
    }
   },
   "source": [
    "\n",
    "- $\\lambda_2$\n",
    "\n",
    "$$\n",
    "\\begin{aligned}\n",
    "(A - \\lambda_2\\mathbf I)\\mathbf x_1 &= \\mathbf 0\\\\\n",
    "\\begin{bmatrix}\n",
    "0.3 & 0.3\\\\\n",
    "0.2 & 0.2\n",
    "\\end{bmatrix}\\mathbf x_2 &= \\mathbf 0\\\\\n",
    "\\begin{bmatrix}\n",
    "0.3 & 0.3\\\\\n",
    "0 & 0\n",
    "\\end{bmatrix}\\mathbf x_2 &= \\mathbf 0\\\\\n",
    "\\begin{bmatrix}\n",
    "1 & 1\\\\\n",
    "0 & 0\n",
    "\\end{bmatrix}\\mathbf x_2 &= \\mathbf 0\\\\\n",
    "\\mathbf x_2 &= \\begin{bmatrix}-1\\\\1\\end{bmatrix}\\\\\n",
    "\\end{aligned}\n",
    "$$"
   ]
  },
  {
   "cell_type": "markdown",
   "id": "b0623f9f",
   "metadata": {
    "slideshow": {
     "slide_type": "slide"
    }
   },
   "source": [
    "$\\mathbf x_1$ is the eigenvector *corresponding to* $\\lambda_1$.\n",
    "\n",
    "$\\mathbf x_2$ is the eigenvector *corresponding to* $\\lambda_2$.\n",
    "\n",
    "Any non-zero multiples of $\\mathbf x_1, \\mathbf x_2$ are also eigenvectors. It is common practice to use normalized eigenvectors, i.e.\\ eigenvectors with length 1.\n",
    "\n",
    "$$\n",
    "\\begin{aligned}\n",
    "\\mathbf v_1 &= \\frac{\\mathbf x_1}{||\\mathbf x_1||}\\\\\n",
    "&= \\frac{1}{\\sqrt{13}}\\begin{bmatrix}3\\\\2\\end{bmatrix}\\\\\n",
    "\\mathbf v_2 &= \\frac{\\mathbf x_1}{||\\mathbf x_1||}\\\\\n",
    "&= \\frac{1}{\\sqrt{2}}\\begin{bmatrix}-1\\\\1\\end{bmatrix}\\\\\n",
    "\\end{aligned}\n",
    "$$"
   ]
  },
  {
   "cell_type": "code",
   "execution_count": 18,
   "id": "9854f98c",
   "metadata": {
    "slideshow": {
     "slide_type": "slide"
    }
   },
   "outputs": [
    {
     "data": {
      "text/latex": [
       "$\\displaystyle \\left[\\begin{matrix}\\frac{4}{5} & \\frac{3}{10}\\\\\\frac{1}{5} & \\frac{7}{10}\\end{matrix}\\right]$"
      ],
      "text/plain": [
       "Matrix([\n",
       "[4/5, 3/10],\n",
       "[1/5, 7/10]])"
      ]
     },
     "execution_count": 18,
     "metadata": {},
     "output_type": "execute_result"
    }
   ],
   "source": [
    "A = Matrix([\n",
    "    [Rational(4,5), Rational(3,10)],\n",
    "    [Rational(1,5), Rational(7,10)]\n",
    "])\n",
    "A"
   ]
  },
  {
   "cell_type": "code",
   "execution_count": 19,
   "id": "e1c8ffa1",
   "metadata": {},
   "outputs": [],
   "source": [
    "e1, e2 = A.eigenvects()"
   ]
  },
  {
   "cell_type": "code",
   "execution_count": 20,
   "id": "8083ca17",
   "metadata": {},
   "outputs": [],
   "source": [
    "lambda1, _, v1 = e1"
   ]
  },
  {
   "cell_type": "code",
   "execution_count": 21,
   "id": "26fe76ca",
   "metadata": {},
   "outputs": [
    {
     "data": {
      "text/latex": [
       "$\\displaystyle \\frac{1}{2}$"
      ],
      "text/plain": [
       "1/2"
      ]
     },
     "execution_count": 21,
     "metadata": {},
     "output_type": "execute_result"
    }
   ],
   "source": [
    "lambda1"
   ]
  },
  {
   "cell_type": "code",
   "execution_count": 22,
   "id": "64a8b1b3",
   "metadata": {},
   "outputs": [
    {
     "data": {
      "text/latex": [
       "$\\displaystyle \\left[\\begin{matrix}- \\frac{\\sqrt{2}}{2}\\\\\\frac{\\sqrt{2}}{2}\\end{matrix}\\right]$"
      ],
      "text/plain": [
       "Matrix([\n",
       "[-sqrt(2)/2],\n",
       "[ sqrt(2)/2]])"
      ]
     },
     "execution_count": 22,
     "metadata": {},
     "output_type": "execute_result"
    }
   ],
   "source": [
    "v1[0].normalized()"
   ]
  },
  {
   "cell_type": "code",
   "execution_count": 23,
   "id": "7a832706",
   "metadata": {},
   "outputs": [],
   "source": [
    "lambda2, _, v2 = e2"
   ]
  },
  {
   "cell_type": "code",
   "execution_count": 24,
   "id": "4056bd25",
   "metadata": {},
   "outputs": [
    {
     "data": {
      "text/latex": [
       "$\\displaystyle 1$"
      ],
      "text/plain": [
       "1"
      ]
     },
     "execution_count": 24,
     "metadata": {},
     "output_type": "execute_result"
    }
   ],
   "source": [
    "lambda2"
   ]
  },
  {
   "cell_type": "code",
   "execution_count": 25,
   "id": "08859f45",
   "metadata": {},
   "outputs": [
    {
     "data": {
      "text/latex": [
       "$\\displaystyle \\left[\\begin{matrix}\\frac{3 \\sqrt{13}}{13}\\\\\\frac{2 \\sqrt{13}}{13}\\end{matrix}\\right]$"
      ],
      "text/plain": [
       "Matrix([\n",
       "[3*sqrt(13)/13],\n",
       "[2*sqrt(13)/13]])"
      ]
     },
     "execution_count": 25,
     "metadata": {},
     "output_type": "execute_result"
    }
   ],
   "source": [
    "v2[0].normalized()"
   ]
  },
  {
   "cell_type": "code",
   "execution_count": 26,
   "id": "c5b5637a",
   "metadata": {
    "slideshow": {
     "slide_type": "slide"
    }
   },
   "outputs": [
    {
     "data": {
      "text/plain": [
       "array([[0.8, 0.3],\n",
       "       [0.2, 0.7]])"
      ]
     },
     "execution_count": 26,
     "metadata": {},
     "output_type": "execute_result"
    }
   ],
   "source": [
    "A = np.array([\n",
    "    [0.8, 0.3],\n",
    "    [0.2, 0.7]\n",
    "])\n",
    "A"
   ]
  },
  {
   "cell_type": "code",
   "execution_count": 27,
   "id": "eefa5cf4",
   "metadata": {},
   "outputs": [
    {
     "data": {
      "text/plain": [
       "EigResult(eigenvalues=array([1. , 0.5]), eigenvectors=array([[ 0.83205029, -0.70710678],\n",
       "       [ 0.5547002 ,  0.70710678]]))"
      ]
     },
     "execution_count": 27,
     "metadata": {},
     "output_type": "execute_result"
    }
   ],
   "source": [
    "np.linalg.eig(A)"
   ]
  },
  {
   "cell_type": "markdown",
   "id": "e25f4761",
   "metadata": {
    "slideshow": {
     "slide_type": "slide"
    }
   },
   "source": [
    "\n",
    "\n",
    "### Procedure to find eigenvalues and eigenvectors:\n",
    "\n",
    "1. Construct $A-\\lambda \\mathbf I$ with $\\lambda$ as unknown.\n",
    "2. Set $|A-\\lambda \\mathbf I| = 0$ and solve for $\\lambda$. All solutions are eigenvalues.\n",
    "3. For each solution for $\\lambda$, find the nullspace of $|A-\\lambda \\mathbf I| = 0$. Each vector in the nullspace is an eigenvector corresponding to this solution."
   ]
  },
  {
   "cell_type": "markdown",
   "id": "9693cd72",
   "metadata": {
    "slideshow": {
     "slide_type": "slide"
    }
   },
   "source": [
    "##### Example 2: Projection matrix\n",
    "\n",
    "$$\n",
    "A = \\begin{bmatrix}\n",
    "\\frac{1}{2} & \\frac{1}{2}\\\\\n",
    "\\frac{1}{2} & \\frac{1}{2}\n",
    "\\end{bmatrix}\n",
    "$$\n",
    "\n",
    "- find eigenvalues\n",
    "\n",
    "$$\n",
    "\\begin{aligned}\n",
    "\\begin{vmatrix}\n",
    "\\frac{1}{2}-\\lambda & \\frac{1}{2}\\\\\n",
    "\\frac{1}{2} & \\frac{1}{2}-\\lambda\n",
    "\\end{vmatrix} &= 0\\\\\n",
    "(\\frac{1}{2}-\\lambda)^2 - \\frac{1}{4} &= 0\\\\\n",
    "\\lambda^2 -\\lambda &= 0\\\\\n",
    "\\lambda(\\lambda-1) &= 0\\\\\n",
    "\\lambda_1 &= 1\\\\\n",
    "\\lambda_2 &= 0\n",
    "\\end{aligned}\n",
    "$$"
   ]
  },
  {
   "cell_type": "markdown",
   "id": "de352eeb",
   "metadata": {
    "slideshow": {
     "slide_type": "slide"
    }
   },
   "source": [
    "- find eigenvectors\n",
    "\n",
    "    - $\\lambda_1$: \n",
    "    $$\n",
    "    \\begin{aligned}\n",
    "    \\begin{bmatrix}\n",
    "    -\\frac{1}{2} & \\frac{1}{2}\\\\\n",
    "    \\frac{1}{2} & -\\frac{1}{2}\n",
    "    \\end{bmatrix}\\mathbf x_1 &= \\mathbf 0\\\\\n",
    "    \\mathbf x_1 &= \\begin{bmatrix}1\\\\1\\end{bmatrix}\n",
    "    \\end{aligned}\n",
    "    $$\n",
    "    \n",
    "    - $\\lambda_2$:\n",
    "    $$\n",
    "    \\begin{aligned}\n",
    "    \\begin{bmatrix}\n",
    "    \\frac{1}{2} & \\frac{1}{2}\\\\\n",
    "    \\frac{1}{2} & \\frac{1}{2}\n",
    "    \\end{bmatrix}\\mathbf x_2 &= \\mathbf 0\\\\\n",
    "    \\mathbf x_2 &= \\begin{bmatrix}-1\\\\1\\end{bmatrix}\n",
    "    \\end{aligned}\n",
    "    $$"
   ]
  },
  {
   "cell_type": "markdown",
   "id": "b13fec6b",
   "metadata": {
    "slideshow": {
     "slide_type": "slide"
    }
   },
   "source": [
    "##### Example 3: Reflection matrix\n",
    "\n",
    "$$\n",
    "A = \\begin{bmatrix}\n",
    "0 & 1\\\\\n",
    "1 & 0\n",
    "\\end{bmatrix}\n",
    "$$\n",
    "\n",
    "- find eigenvalues\n",
    "\n",
    "$$\n",
    "\\begin{aligned}\n",
    "\\begin{vmatrix}\n",
    "-\\lambda & 1\\\\\n",
    "1 & -\\lambda\n",
    "\\end{vmatrix} &= 0\\\\\n",
    "\\lambda^2-1 &= 0\\\\\n",
    "\\lambda^2 &= 1\\\\\n",
    "\\lambda_1 &= 1\\\\\n",
    "\\lambda_2 &= -1\n",
    "\\end{aligned}\n",
    "$$"
   ]
  },
  {
   "cell_type": "markdown",
   "id": "590f050d",
   "metadata": {
    "slideshow": {
     "slide_type": "slide"
    }
   },
   "source": [
    "- find eigenvectors\n",
    "\n",
    "    - $\\lambda_1$: \n",
    "    $$\n",
    "    \\begin{aligned}\n",
    "    \\begin{bmatrix}\n",
    "    -1 & 1\\\\\n",
    "    1 & -1\n",
    "    \\end{bmatrix}\\mathbf x_1 &= \\mathbf 0\\\\\n",
    "    \\mathbf x_1 &= \\begin{bmatrix}1\\\\1\\end{bmatrix}\n",
    "    \\end{aligned}\n",
    "    $$\n",
    "    \n",
    "    - $\\lambda_2$:\n",
    "    $$\n",
    "    \\begin{aligned}\n",
    "    \\begin{bmatrix}\n",
    "    1 & 1\\\\\n",
    "    1 & 1\n",
    "    \\end{bmatrix}\\mathbf x_2 &= \\mathbf 0\\\\\n",
    "    \\mathbf x_2 &= \\begin{bmatrix}-1\\\\1\\end{bmatrix}\n",
    "    \\end{aligned}\n",
    "    $$"
   ]
  }
 ],
 "metadata": {
  "@webio": {
   "lastCommId": null,
   "lastKernelId": null
  },
  "celltoolbar": "Slideshow",
  "hide_input": false,
  "kernelspec": {
   "display_name": "Python 3 (ipykernel)",
   "language": "python",
   "name": "python3"
  },
  "language_info": {
   "codemirror_mode": {
    "name": "ipython",
    "version": 3
   },
   "file_extension": ".py",
   "mimetype": "text/x-python",
   "name": "python",
   "nbconvert_exporter": "python",
   "pygments_lexer": "ipython3",
   "version": "3.9.11"
  },
  "latex_envs": {
   "LaTeX_envs_menu_present": true,
   "autoclose": false,
   "autocomplete": true,
   "bibliofile": "biblio.bib",
   "cite_by": "apalike",
   "current_citInitial": 1,
   "eqLabelWithNumbers": true,
   "eqNumInitial": 1,
   "hotkeys": {
    "equation": "Ctrl-E",
    "itemize": "Ctrl-I"
   },
   "labels_anchors": false,
   "latex_user_defs": false,
   "report_style_numbering": false,
   "user_envs_cfg": false
  },
  "rise": {
   "enable_chalkboard": true
  },
  "varInspector": {
   "cols": {
    "lenName": 16,
    "lenType": 16,
    "lenVar": 40
   },
   "kernels_config": {
    "python": {
     "delete_cmd_postfix": "",
     "delete_cmd_prefix": "del ",
     "library": "var_list.py",
     "varRefreshCmd": "print(var_dic_list())"
    },
    "r": {
     "delete_cmd_postfix": ") ",
     "delete_cmd_prefix": "rm(",
     "library": "var_list.r",
     "varRefreshCmd": "cat(var_dic_list()) "
    }
   },
   "types_to_exclude": [
    "module",
    "function",
    "builtin_function_or_method",
    "instance",
    "_Feature"
   ],
   "window_display": false
  }
 },
 "nbformat": 4,
 "nbformat_minor": 5
}
