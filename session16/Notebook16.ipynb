{
 "cells": [
  {
   "cell_type": "markdown",
   "id": "7a13348c",
   "metadata": {
    "slideshow": {
     "slide_type": "slide"
    }
   },
   "source": [
    "# Mathematics for Machine Learning\n",
    "\n",
    "## Session 16: Differentiation\n",
    "\n",
    "### Gerhard Jäger\n",
    "\n",
    "\n",
    "December 17, 2024\n",
    "\n",
    "---\n",
    "<br><br>\n",
    "\n",
    "<small>Most material taken from Chapter 2 of Keisler, H. Jerome. *Elementary Calculus: An Infinitesimal Approach*. 2012.</small><br>\n",
    "<small>Applets programmed with the help of ChatGPT</small>"
   ]
  },
  {
   "cell_type": "code",
   "execution_count": 2,
   "id": "644d8747",
   "metadata": {
    "slideshow": {
     "slide_type": "skip"
    }
   },
   "outputs": [],
   "source": [
    "import numpy as np\n",
    "import matplotlib.pyplot as plt\n",
    "from ipywidgets import interact\n"
   ]
  },
  {
   "cell_type": "code",
   "execution_count": 3,
   "id": "3c8b5553",
   "metadata": {
    "hide_input": true,
    "slideshow": {
     "slide_type": "slide"
    }
   },
   "outputs": [
    {
     "data": {
      "application/vnd.jupyter.widget-view+json": {
       "model_id": "fe352d90049e4d00981ac519e732f54b",
       "version_major": 2,
       "version_minor": 0
      },
      "text/plain": [
       "interactive(children=(FloatSlider(value=1.0, description='x0', max=4.0, min=-2.0), FloatSlider(value=1.0, desc…"
      ]
     },
     "metadata": {},
     "output_type": "display_data"
    },
    {
     "data": {
      "text/plain": [
       "<function __main__.plot_secant_tangent(x0=1.0, dx=1.0)>"
      ]
     },
     "execution_count": 3,
     "metadata": {},
     "output_type": "execute_result"
    }
   ],
   "source": [
    "\n",
    "\n",
    "# Define the function to be visualized\n",
    "def f(x):\n",
    "    return x**2  # Example function\n",
    "\n",
    "# Function to create the interactive plot\n",
    "def plot_secant_tangent(x0=1.0, dx=1.0):\n",
    "    # Define the range for x\n",
    "    x = np.linspace(-2, 4, 500)\n",
    "    y = f(x)\n",
    "\n",
    "    # Define the points for secant line\n",
    "    x2 = x0 + dx\n",
    "    y0 = f(x0)\n",
    "    y2 = f(x2)\n",
    "\n",
    "    # Calculate the slope of the secant line\n",
    "    slope = (y2 - y0) / (x2 - x0)\n",
    "\n",
    "    # Equation of the secant line\n",
    "    secant_line = lambda x: y0 + slope * (x - x0)\n",
    "\n",
    "    # Plot the function\n",
    "    plt.figure(figsize=(12, 9))\n",
    "    plt.plot(x, y, label=\"Function $f(x)=x^2$\", color=\"blue\")\n",
    "\n",
    "    # Plot the secant line\n",
    "    x_secant = np.linspace(-4, 6, 500)  # Extend the secant line indefinitely\n",
    "    plt.plot(x_secant, secant_line(x_secant), label=\"Secant line\", color=\"green\")\n",
    "\n",
    "    # Plot the tangent line when dx is very small\n",
    "    if abs(dx) < 0.01:\n",
    "        tangent_slope = 2 * x0  # Derivative of x^2\n",
    "        tangent_line = lambda x: f(x0) + tangent_slope * (x - x0)\n",
    "        plt.plot(x, tangent_line(x), label=\"Tangent line (dx -> 0)\", color=\"red\", linestyle=\"--\")\n",
    "\n",
    "    # Highlight points on the curve\n",
    "    plt.scatter([x0, x2], [y0, y2], color=\"black\", label=\"Secant points\")\n",
    "    plt.scatter([x0], [f(x0)], color=\"orange\", label=\"Tangent point\")\n",
    "\n",
    "    # Add labels, title, legend, and grid\n",
    "    plt.xlabel(\"x\")\n",
    "    plt.ylabel(\"f(x)\")\n",
    "    plt.title(\"Secant and Tangent Lines\")\n",
    "    plt.axhline(0, color='black', linewidth=0.8, linestyle='--')\n",
    "    plt.axvline(0, color='black', linewidth=0.8, linestyle='--')\n",
    "    plt.xlim(-2, 4)\n",
    "    plt.ylim(-1, 16)\n",
    "    plt.legend()\n",
    "    plt.grid(True)\n",
    "    plt.show()\n",
    "\n",
    "# Interactive widget\n",
    "interact(plot_secant_tangent, x0=(-2.0, 4.0, 0.1), dx=(-2.0, 2.0, 0.01))"
   ]
  },
  {
   "cell_type": "markdown",
   "id": "1777841e",
   "metadata": {
    "slideshow": {
     "slide_type": "slide"
    }
   },
   "source": [
    "- suppose we have a real function $f(x)$ that is defined on an interval $[a, b]$\n",
    "- by the Transfer Principle, we can extend the function to the hyperreal numbers\n",
    "- slope of the secant\n",
    "  $$\n",
    "  \\frac{\\Delta y}{\\Delta x} = \\frac{f(x + \\Delta x) - f(x)}{\\Delta x}\n",
    "  $$\n",
    "- if we choose $\\Delta x$ to be infinitesimal, the slope of the secant is infinitely close to the slope of the tangent\n",
    "\n",
    "\n",
    "**DEFINITION**\n",
    "\n",
    "*S* is said to be the *slope* of *f* at *a* if\n",
    "\n",
    "$$ S = st\\left(\\frac{f(a + \\Delta x) - f(a)}{\\Delta x}\\right) $$\n",
    "\n",
    "for every nonzero infinitesimal \\(\\Delta x\\).\n",
    "\n"
   ]
  },
  {
   "cell_type": "markdown",
   "id": "a8e87234",
   "metadata": {
    "slideshow": {
     "slide_type": "slide"
    }
   },
   "source": [
    "<img src=\"_img/figure_2_1_1.svg\"  width=\"1000\" style=\"display: block; margin-left: auto; margin-right: auto;\">"
   ]
  },
  {
   "cell_type": "markdown",
   "id": "b95801f1",
   "metadata": {},
   "source": [
    "The slope of *f* at *a* does not always exist. Here is a list of all the possibilities.\n",
    "\n",
    "1. The slope of *f* at *a* exists if the ratio\n",
    "\n",
    "   $$\n",
    "   \\frac{f(a + \\Delta x) - f(a)}{\\Delta x}\n",
    "   $$\n",
    "\n",
    "   is finite and has the same standard part for all infinitesimal $\\Delta x \\neq 0$. It has the value\n",
    "\n",
    "   $$\n",
    "   S = st\\left(\\frac{f(a + \\Delta x) - f(a)}{\\Delta x}\\right).\n",
    "   $$\n",
    "\n",
    "2. The slope of $f$ at $a$ can fail to exist in any of four ways:\n",
    "\n",
    "   (a) $f(a)$ is undefined.  \n",
    "   (b) $f(a + \\Delta x)$ is undefined for some infinitesimal $\\Delta x \\neq 0$.  \n",
    "   (c) The term  \n",
    "\n",
    "   $$\n",
    "   \\frac{f(a + \\Delta x) - f(a)}{\\Delta x}\n",
    "   $$\n",
    "\n",
    "   is infinite for some infinitesimal $\\Delta x \\neq 0$.  \n",
    "   (d) The term  \n",
    "\n",
    "   $$\n",
    "   \\frac{f(a + \\Delta x) - f(a)}{\\Delta x}\n",
    "   $$\n",
    "\n",
    "   has different standard parts for different infinitesimals $\\Delta x \\neq 0$.\n"
   ]
  },
  {
   "cell_type": "markdown",
   "id": "acefab96",
   "metadata": {
    "slideshow": {
     "slide_type": "slide"
    }
   },
   "source": [
    "**DEFINITION**\n",
    "\n",
    "Let *f* be a real function of one variable. The *derivative* of *f* is the new function *f'* whose value at *x* is the slope of *f* at *x*. In symbols,\n",
    "\n",
    "$$\n",
    "f'(x) = st\\left(\\frac{f(x + \\Delta x) - f(x)}{\\Delta x}\\right)\n",
    "$$\n",
    "\n",
    "whenever the slope exists.\n",
    "\n",
    "\n",
    "The derivative $f'(x)$ is undefined if the slope of $f$ does not exist at $x$.\n",
    "\n",
    "(*Slope* and *derivative* at a certain point $x$ are the same thing – the first term emphasizes the geometric picture and the second term the fact that $f'$ is a function.)"
   ]
  },
  {
   "cell_type": "markdown",
   "id": "226c358d",
   "metadata": {
    "slideshow": {
     "slide_type": "slide"
    }
   },
   "source": [
    "When $y = f(x)$, we introduce a new independent variable $\\Delta x$ and a new dependent variable $\\Delta y$, with the equation\n",
    "\n",
    "\n",
    "$$\n",
    "\\Delta y = f(x + \\Delta x) - f(x).\n",
    "$$\n",
    "\n",
    "- $\\Delta y$ is a function of two independent variables:\n",
    "    - $x$\n",
    "    - $\\Delta x$  \n",
    "- If this function is defined for pairs of real numbers, the Transfer Principle guarantees that it also defined for hyperreals.\n",
    "\n",
    "- Unless otherwise noted, $x$ is assumed to be real and $\\Delta x$ to be infinitesimal.\n",
    "- Note that $\\Delta x$ is just a variable over infinitesimals here; we could have called it $\\varepsilon$ or whatever. It does not depend on $x$.\n",
    "\n",
    "\n",
    "$\\Delta y$ is called the *increment* of $y$. Geometrically, the increment $\\Delta y$ is the change in $y$ along the curve corresponding to the change $\\Delta x$ in $x$. The symbol $y'$ is sometimes used for the derivative, $y' = f'(x)$. Thus, the hyperreal equation\n",
    "\n",
    "$$\n",
    "f'(x) = st\\left(\\frac{f(x + \\Delta x) - f(x)}{\\Delta x}\\right)\n",
    "$$\n",
    "\n",
    "now takes the short form\n",
    "\n",
    "$$\n",
    "y' = st\\left(\\frac{\\Delta y}{\\Delta x}\\right).\n",
    "$$\n"
   ]
  },
  {
   "cell_type": "markdown",
   "id": "8be6b131",
   "metadata": {
    "slideshow": {
     "slide_type": "slide"
    }
   },
   "source": [
    "<img src=\"_img/figure_2_1_2.svg\"  width=\"1000\" style=\"display: block; margin-left: auto; margin-right: auto;\">"
   ]
  },
  {
   "cell_type": "markdown",
   "id": "719530bf",
   "metadata": {
    "slideshow": {
     "slide_type": "slide"
    }
   },
   "source": [
    "## Example: $f(x) = x^2$\n",
    "\n",
    "$$\n",
    "\\begin{align}\n",
    "f'(x) &= \\text{st}\\frac{f(x+\\Delta x)-f(x)}{\\Delta x}\\\\\n",
    "&=\\text{st}\\frac{(x+\\Delta x)^2-x^2}{\\Delta x}\\\\\n",
    "&=\\text{st}\\frac{x^2+2x\\Delta x +(\\Delta x)^2-x^2}{\\Delta x}\\\\\n",
    "&=\\text{st}\\frac{2x\\Delta x +(\\Delta x)^2}{\\Delta x}\\\\\n",
    "&=\\text{st}(2x+\\Delta x)\\\\\n",
    "&= 2x\n",
    "\\end{align}\n",
    "$$"
   ]
  },
  {
   "cell_type": "code",
   "execution_count": 8,
   "id": "c8578630",
   "metadata": {
    "hide_input": true
   },
   "outputs": [
    {
     "data": {
      "image/png": "[encoded data removed]",
      "text/plain": [
       "<Figure size 576x432 with 1 Axes>"
      ]
     },
     "metadata": {
      "needs_background": "light"
     },
     "output_type": "display_data"
    }
   ],
   "source": [
    "import matplotlib.pyplot as plt\n",
    "import numpy as np\n",
    "\n",
    "# Define x values\n",
    "x = np.linspace(-10, 10, 500)\n",
    "\n",
    "# Define the functions\n",
    "y1 = x**2\n",
    "y2 = 2 * x\n",
    "\n",
    "# Plot the functions\n",
    "plt.figure(figsize=(8, 6))\n",
    "plt.plot(x, y1, label=\"$y = x^2$\")\n",
    "plt.plot(x, y2, label=\"$y = 2x$\")\n",
    "plt.axhline(0, color='black', linewidth=0.8, linestyle='--')\n",
    "plt.axvline(0, color='black', linewidth=0.8, linestyle='--')\n",
    "\n",
    "# Add labels, title, and legend\n",
    "plt.title(\"Plots of $y = x^2$ and $y = 2x$\")\n",
    "plt.xlabel(\"x\")\n",
    "plt.ylabel(\"y\")\n",
    "plt.legend()\n",
    "plt.grid(alpha=0.3)\n",
    "\n",
    "# Show the plot\n",
    "plt.show()\n",
    "## Example: $f(x) = x^2$\n"
   ]
  },
  {
   "cell_type": "markdown",
   "id": "6d0eff6d",
   "metadata": {
    "slideshow": {
     "slide_type": "slide"
    }
   },
   "source": [
    "## Example: $f(x) = x^3$\n",
    "\n",
    "$$\n",
    "\\begin{align}\n",
    "f'(x) &= \\text{st}\\frac{f(x+\\Delta x)-f(x)}{\\Delta x}\\\\\n",
    "&=\\text{st}\\frac{(x+\\Delta x)^3-x^3}{\\Delta x}\\\\\n",
    "&=\\text{st}\\frac{x^3+3x^2\\Delta x +3x(\\Delta x)^2 + (\\Delta x)^3-x^3}{\\Delta x}\\\\\n",
    "&=\\text{st}\\frac{3x^2\\Delta x +3x(\\Delta x)^2 + (\\Delta x)^3}{\\Delta x}\\\\\n",
    "&=\\text{st}(3x^2+3x\\Delta x+ (\\Delta x)^2\\\\\n",
    "&= 3x^2\n",
    "\\end{align}\n",
    "$$"
   ]
  },
  {
   "cell_type": "code",
   "execution_count": 9,
   "id": "4699d868",
   "metadata": {
    "hide_input": true
   },
   "outputs": [
    {
     "data": {
      "image/png": "[encoded data removed]",
      "text/plain": [
       "<Figure size 576x432 with 1 Axes>"
      ]
     },
     "metadata": {
      "needs_background": "light"
     },
     "output_type": "display_data"
    }
   ],
   "source": [
    "# Define the functions\n",
    "y1 = x**3\n",
    "y2 = 3 * x**2\n",
    "\n",
    "# Plot the functions\n",
    "plt.figure(figsize=(8, 6))\n",
    "plt.plot(x, y1, label=\"$y = x^3$\")\n",
    "plt.plot(x, y2, label=\"$y = 3x^2$\")\n",
    "plt.axhline(0, color='black', linewidth=0.8, linestyle='--')\n",
    "plt.axvline(0, color='black', linewidth=0.8, linestyle='--')\n",
    "\n",
    "# Add labels, title, and legend\n",
    "plt.title(\"Plots of $y = x^3$ and $y = 3x^2$\")\n",
    "plt.xlabel(\"x\")\n",
    "plt.ylabel(\"y\")\n",
    "plt.legend()\n",
    "plt.grid(alpha=0.3)\n",
    "\n",
    "# Show the plot\n",
    "plt.show()\n"
   ]
  },
  {
   "cell_type": "markdown",
   "id": "92a343b6",
   "metadata": {
    "slideshow": {
     "slide_type": "slide"
    }
   },
   "source": [
    "# Example: $f(x) = \\sqrt{x}$\n",
    "\n",
    "$$\n",
    "\\begin{align}\n",
    "f'(x) &= \\text{st}\\frac{f(x+\\Delta x)-f(x)}{\\Delta x}\\\\\n",
    "&=\\text{st}\\frac{\\sqrt{x+\\Delta x} - \\sqrt{x}}{\\Delta x}\\\\\n",
    "&=\\text{st}\\frac{(\\sqrt{x+\\Delta x} - \\sqrt{x})(\\sqrt{x+\\Delta x} + \\sqrt{x})}{\\Delta x (\\sqrt{x+\\Delta x} + \\sqrt{x})}\\\\\n",
    "&=\\text{st}\\frac{x+\\Delta x - x}{\\Delta x (\\sqrt{x+\\Delta x} + \\sqrt{x})}\\\\\n",
    "&=\\text{st}\\frac{\\Delta x}{\\Delta x (\\sqrt{x+\\Delta x} + \\sqrt{x})}\\\\\n",
    "&=\\frac{1}{\\sqrt{x+\\Delta x} + \\sqrt{x}}\\\\\n",
    "&= \\frac{1}{2\\sqrt{x}}\n",
    "\\end{align}\n",
    "$$"
   ]
  },
  {
   "cell_type": "code",
   "execution_count": 10,
   "id": "9f9786c6",
   "metadata": {
    "hide_input": true
   },
   "outputs": [
    {
     "data": {
      "image/png": "[encoded data removed]",
      "text/plain": [
       "<Figure size 576x432 with 1 Axes>"
      ]
     },
     "metadata": {
      "needs_background": "light"
     },
     "output_type": "display_data"
    }
   ],
   "source": [
    "import matplotlib.pyplot as plt\n",
    "import numpy as np\n",
    "\n",
    "# Define x values\n",
    "x = np.linspace(0.1, 10, 500)\n",
    "\n",
    "# Define the functions\n",
    "y1 = np.sqrt(x)\n",
    "y2 = 1 / (2 * np.sqrt(x))\n",
    "\n",
    "# Plot the functions\n",
    "plt.figure(figsize=(8, 6))\n",
    "plt.plot(x, y1, label=\"$y = \\sqrt{x}$\")\n",
    "plt.plot(x, y2, label=\"$y = \\\\frac{1}{2\\sqrt{x}}$\")\n",
    "plt.axhline(0, color='black', linewidth=0.8, linestyle='--')\n",
    "plt.axvline(0, color='black', linewidth=0.8, linestyle='--')\n",
    "\n",
    "# Add labels, title, and legend\n",
    "plt.title(\"Plots of $y = \\sqrt{x}$ and $y = \\\\frac{1}{2\\sqrt{x}}$\")\n",
    "plt.xlabel(\"x\")\n",
    "plt.ylabel(\"y\")\n",
    "plt.legend()\n",
    "plt.grid(alpha=0.3)\n",
    "\n",
    "# Show the plot\n",
    "plt.show()\n"
   ]
  },
  {
   "cell_type": "markdown",
   "id": "696aa80d",
   "metadata": {
    "slideshow": {
     "slide_type": "slide"
    }
   },
   "source": [
    "## Example: $f(x) = \\frac{1}{x}$\n",
    "\n",
    "$$\n",
    "\\begin{align}\n",
    "f'(x) &= \\text{st}\\frac{f(x+\\Delta x)-f(x)}{\\Delta x}\\\\\n",
    "&=\\text{st}\\frac{\\frac{1}{x+\\Delta x} - \\frac{1}{x}}{\\Delta x}\\\\\n",
    "&=\\text{st}\\frac{\\frac{x - (x+\\Delta x)}{x(x+\\Delta x)}}{\\Delta x}\\\\\n",
    "&=\\text{st}\\frac{-\\Delta x}{\\Delta x \\cdot x(x+\\Delta x)}\\\\\n",
    "&=\\text{st}\\frac{-1}{x(x+\\Delta x)}\\\\\n",
    "&= -\\frac{1}{x^2}\n",
    "\\end{align}\n",
    "$$"
   ]
  },
  {
   "cell_type": "code",
   "execution_count": 11,
   "id": "f0c2e043",
   "metadata": {
    "hide_input": true
   },
   "outputs": [
    {
     "data": {
      "image/png": "[encoded data removed]",
      "text/plain": [
       "<Figure size 576x432 with 1 Axes>"
      ]
     },
     "metadata": {
      "needs_background": "light"
     },
     "output_type": "display_data"
    }
   ],
   "source": [
    "# Define the functions\n",
    "y1 = 1 / x\n",
    "y2 = -1 / (x**2)\n",
    "\n",
    "# Plot the functions\n",
    "plt.figure(figsize=(8, 6))\n",
    "plt.plot(x, y1, label=\"$y = \\\\frac{1}{x}$\")\n",
    "plt.plot(x, y2, label=\"$y = -\\\\frac{1}{x^2}$\")\n",
    "plt.axhline(0, color='black', linewidth=0.8, linestyle='--')\n",
    "plt.axvline(0, color='black', linewidth=0.8, linestyle='--')\n",
    "\n",
    "# Add labels, title, and legend\n",
    "plt.title(\"Plots of $y = \\\\frac{1}{x}$ and $y = -\\\\frac{1}{x^2}$\")\n",
    "plt.xlabel(\"x\")\n",
    "plt.ylabel(\"y\")\n",
    "plt.legend()\n",
    "plt.grid(alpha=0.3)\n",
    "\n",
    "# Show the plot\n",
    "plt.show()\n"
   ]
  },
  {
   "cell_type": "markdown",
   "id": "86b31d25",
   "metadata": {
    "slideshow": {
     "slide_type": "slide"
    }
   },
   "source": [
    "## Example: $f(x) = |x|$\n",
    "\n",
    "$$\n",
    "\\begin{align}\n",
    "f'(x) &= \\text{st}\\frac{f(x+\\Delta x)-f(x)}{\\Delta x}\\\\\n",
    "&=\\text{st}\\frac{|x+\\Delta x| - |x|}{\\Delta x}.\n",
    "\\end{align}\n",
    "$$\n",
    "\n",
    "For $x > 0$:\n",
    "$$\n",
    "f'(x) = \\text{st}\\frac{x+\\Delta x - x}{\\Delta x} = 1.\n",
    "$$\n",
    "\n",
    "For $x < 0$:\n",
    "$$\n",
    "f'(x) = \\text{st}\\frac{-(x+\\Delta x) + x}{\\Delta x} = -1.\n",
    "$$\n",
    "\n",
    "For $x = 0$, the derivative does not exist because the left-hand limit and right-hand limit differ.\n"
   ]
  },
  {
   "cell_type": "code",
   "execution_count": 12,
   "id": "9ba32b28",
   "metadata": {
    "hide_input": true
   },
   "outputs": [
    {
     "data": {
      "image/png": "[encoded data removed]",
      "text/plain": [
       "<Figure size 576x432 with 1 Axes>"
      ]
     },
     "metadata": {
      "needs_background": "light"
     },
     "output_type": "display_data"
    }
   ],
   "source": [
    "# Define the functions\n",
    "x = np.linspace(-10, 10, 500)\n",
    "y1 = np.abs(x)\n",
    "y2 = np.piecewise(x, [x > 0, x < 0], [1, -1])\n",
    "\n",
    "# Plot the functions\n",
    "plt.figure(figsize=(8, 6))\n",
    "plt.plot(x, y1, label=\"$y = |x|$\")\n",
    "plt.plot(x, y2, label=\"$y = \\\\frac{d}{dx}|x|$\", linestyle=\"--\")\n",
    "plt.axhline(0, color='black', linewidth=0.8, linestyle='--')\n",
    "plt.axvline(0, color='black', linewidth=0.8, linestyle='--')\n",
    "\n",
    "# Add labels, title, and legend\n",
    "plt.title(\"Plots of $y = |x|$ and its derivative\")\n",
    "plt.xlabel(\"x\")\n",
    "plt.ylabel(\"y\")\n",
    "plt.legend()\n",
    "plt.grid(alpha=0.3)\n",
    "\n",
    "# Show the plot\n",
    "plt.show()"
   ]
  },
  {
   "cell_type": "markdown",
   "id": "0090801a",
   "metadata": {
    "slideshow": {
     "slide_type": "slide"
    }
   },
   "source": [
    "## Differentials and Tangent Lines\n",
    "\n",
    "Suppose we are given a curve $y = f(x)$ and at a point $(a, b)$ on the curve the slope $f'(a)$ is defined. Then the **tangent line** to the curve at the point $(a, b)$ is defined to be the straight line which passes through the point $(a, b)$ and has the same slope as the curve at $x = a$. \n",
    "\n",
    "The tangent line is given by the equation:\n",
    "\n",
    "$$\n",
    "l(x) - b = f'(a)(x - a),\n",
    "$$\n",
    "\n",
    "or equivalently:\n",
    "\n",
    "$$\n",
    "l(x) = f'(a)(x - a) + b.\n",
    "$$\n"
   ]
  },
  {
   "cell_type": "markdown",
   "id": "edf1e696",
   "metadata": {
    "slideshow": {
     "slide_type": "slide"
    }
   },
   "source": [
    "\n",
    "\n",
    "### Example 1: Tangent Line to $y = x^3$\n",
    "\n",
    "For the curve $y = x^3$, find the tangent lines at the points:\n",
    "\n",
    "- $(0, 0)$\n",
    "- $(1, 1)$\n",
    "- $\\left(-\\frac{1}{2}, -\\frac{1}{8}\\right)$\n",
    "\n",
    "#### Step-by-step solution:\n",
    "\n",
    "The slope is given by:\n",
    "\n",
    "$$\n",
    "f'(x) = 3x^2.\n",
    "$$\n",
    "\n",
    "- At $x = 0$: $f'(0) = 3 \\cdot 0^2 = 0$.  \n",
    "  The tangent line has the equation:\n",
    "\n",
    "  $$\n",
    "  y = 0(x - 0) + 0, \\quad \\text{or} \\quad y = 0.\n",
    "  $$\n",
    "\n",
    "- At $x = 1$: $f'(1) = 3 \\cdot 1^2 = 3$.  \n",
    "  The tangent line has the equation:\n",
    "\n",
    "  $$\n",
    "  y = 3(x - 1) + 1, \\quad \\text{or} \\quad y = 3x - 2.\n",
    "  $$\n",
    "\n",
    "- At $x = -\\frac{1}{2}$: $f'\\left(-\\frac{1}{2}\\right) = 3 \\left(-\\frac{1}{2}\\right)^2 = \\frac{3}{4}$.  \n",
    "  The tangent line has the equation:\n",
    "\n",
    "  $$\n",
    "  y = \\frac{3}{4}\\left(x + \\frac{1}{2}\\right) - \\frac{1}{8}, \\quad \\text{or} \\quad y = \\frac{3}{4}x + \\frac{1}{8}.\n",
    "  $$\n",
    "\n",
    "---\n",
    "\n",
    "### Visualization\n"
   ]
  },
  {
   "cell_type": "code",
   "execution_count": 14,
   "id": "f2a6109f",
   "metadata": {
    "hide_input": true
   },
   "outputs": [
    {
     "data": {
      "image/png": "[encoded data removed]",
      "text/plain": [
       "<Figure size 576x432 with 1 Axes>"
      ]
     },
     "metadata": {
      "needs_background": "light"
     },
     "output_type": "display_data"
    }
   ],
   "source": [
    "\n",
    "import numpy as np\n",
    "import matplotlib.pyplot as plt\n",
    "\n",
    "# Define x values and the function y = x^3\n",
    "x = np.linspace(-1.5, 1.5, 500)\n",
    "y = x**3\n",
    "\n",
    "# Define the tangent lines\n",
    "tangent1 = 0 * x  # At (0, 0)\n",
    "tangent2 = 3 * (x - 1) + 1  # At (1, 1)\n",
    "tangent3 = (3/4) * (x + 0.5) - 1/8  # At (-1/2, -1/8)\n",
    "\n",
    "# Plot the function and tangent lines\n",
    "plt.figure(figsize=(8, 6))\n",
    "plt.plot(x, y, label=\"$y = x^3$\", color=\"blue\")\n",
    "plt.plot(x, tangent1, label=\"Tangent at $(0, 0)$\", linestyle=\"--\", color=\"orange\")\n",
    "plt.plot(x, tangent2, label=\"Tangent at $(1, 1)$\", linestyle=\"--\", color=\"green\")\n",
    "plt.plot(x, tangent3, label=\"Tangent at $(-\\\\frac{1}{2}, -\\\\frac{1}{8})$\", linestyle=\"--\", color=\"red\")\n",
    "\n",
    "# Add annotations and labels\n",
    "plt.axhline(0, color='black', linewidth=0.8, linestyle='--')\n",
    "plt.axvline(0, color='black', linewidth=0.8, linestyle='--')\n",
    "plt.title(\"Tangent Lines to $y = x^3$\")\n",
    "plt.xlabel(\"x\")\n",
    "plt.ylabel(\"y\")\n",
    "plt.legend()\n",
    "plt.grid(alpha=0.3)\n",
    "\n",
    "# Show the plot\n",
    "plt.show()\n"
   ]
  },
  {
   "cell_type": "markdown",
   "id": "5bb1c1a5",
   "metadata": {
    "slideshow": {
     "slide_type": "slide"
    }
   },
   "source": [
    "## Increment Theorem\n",
    "\n",
    "Let $y = f(x)$. Suppose $f'(x)$ exists at a certain point $x$, and $\\Delta x$ is infinitesimal. Then $\\Delta y$ is infinitesimal, and:\n",
    "\n",
    "$$\n",
    "\\Delta y = f'(x)\\Delta x + \\epsilon \\Delta x\n",
    "$$\n",
    "\n",
    "for some infinitesimal $\\epsilon$, which depends on $x$ and $\\Delta x$.\n",
    "\n",
    "---\n",
    "\n",
    "### Proof\n",
    "\n",
    "#### Case 1: $\\Delta x = 0$\n",
    "In this case, $\\Delta y = f'(x)\\Delta x = 0$, and we put $\\epsilon = 0$.\n",
    "\n",
    "#### Case 2: $\\Delta x \\neq 0$\n",
    "Then:\n",
    "\n",
    "$$\n",
    "\\frac{\\Delta y}{\\Delta x} \\approx f'(x),\n",
    "$$\n",
    "\n",
    "so for some infinitesimal $\\epsilon$:\n",
    "\n",
    "$$\n",
    "\\frac{\\Delta y}{\\Delta x} = f'(x) + \\epsilon.\n",
    "$$\n",
    "\n",
    "Multiplying both sides by $\\Delta x$:\n",
    "\n",
    "$$\n",
    "\\Delta y = f'(x)\\Delta x + \\epsilon \\Delta x.\n",
    "$$\n"
   ]
  },
  {
   "cell_type": "markdown",
   "id": "3f6c12e3",
   "metadata": {
    "slideshow": {
     "slide_type": "slide"
    }
   },
   "source": [
    "## Differentials\n",
    "\n",
    "**DEFINITION**\n",
    "\n",
    "Suppose $y$ depends on $x$, $y = f(x)$.\n",
    "\n",
    "(i) The **differential** of $x$ is the independent variable ${dx} = \\Delta x$.  \n",
    "(ii) The **differential** of $y$ is the dependent variable ${dy}$ given by  \n",
    "$$\n",
    "{dy} = f'(x) \\mathrm{dx}.\n",
    "$$\n",
    "\n",
    "When ${dx} \\neq 0$, the equation above may be rewritten as  \n",
    "$$\n",
    "\\frac{{dy}}{{dx}} = f'(x).\n",
    "$$\n",
    "\n",
    "Compare this equation with  \n",
    "$$\n",
    "\\frac{\\Delta y}{\\Delta x} \\approx f'(x).\n",
    "$$\n",
    "\n",
    "The quotient ${dy}/{dx}$ is a very convenient alternative symbol for the derivative $f'(x)$.  \n",
    "\n",
    "The differential ${dy}$ depends on two independent variables $x$ and ${dx}$. In functional notation,  \n",
    "$$\n",
    "{dy} = {d}f(x, {dx}),\n",
    "$$\n",
    "where $\\mathrm{d}f$ is the real function of two variables defined by  \n",
    "$$\n",
    "{d}f(x, {dx}) = f'(x) {dx}.\n",
    "$$\n"
   ]
  },
  {
   "cell_type": "markdown",
   "id": "989cac51",
   "metadata": {
    "slideshow": {
     "slide_type": "slide"
    }
   },
   "source": [
    "**THEOREM**\n",
    "\n",
    "The derivative of a linear function is equal to the coefficient of $x$. That is,\n",
    "\n",
    "$$\n",
    "\\frac{d(bx + c)}{dx} = b, \\quad d(bx + c) = b \\, dx.\n",
    "$$\n",
    "\n",
    "**PROOF** Let $y = bx + c$, and let $\\Delta x \\neq 0$ be infinitesimal. Then:\n",
    "\n",
    "$$\n",
    "y + \\Delta y = b(x + \\Delta x) + c,\n",
    "$$\n",
    "\n",
    "$$\n",
    "\\Delta y = (b(x + \\Delta x) + c) - (bx + c) = b \\Delta x,\n",
    "$$\n",
    "\n",
    "$$\n",
    "\\frac{\\Delta y}{\\Delta x} = \\frac{b \\Delta x}{\\Delta x} = b.\n",
    "$$\n",
    "\n",
    "Therefore:\n",
    "\n",
    "$$\n",
    "\\frac{dy}{dx} = \\text{st}(b) = b.\n",
    "$$\n"
   ]
  },
  {
   "cell_type": "markdown",
   "id": "469d4629",
   "metadata": {
    "slideshow": {
     "slide_type": "slide"
    }
   },
   "source": [
    "**THEOREM (Sum Rule)**\n",
    "\n",
    "Suppose $u$ and $v$ depend on the independent variable $x$. Then for any value of $x$ where $\\frac{du}{dx}$ and $\\frac{dv}{dx}$ exist:\n",
    "\n",
    "$$\n",
    "\\frac{d(u + v)}{dx} = \\frac{du}{dx} + \\frac{dv}{dx}, \\quad d(u + v) = du + dv.\n",
    "$$\n",
    "\n",
    "In other words, the derivative of the sum is the sum of the derivatives.\n",
    "\n",
    "---\n",
    "\n",
    "**PROOF**  \n",
    "Let $y = u + v$, and let $\\Delta x \\neq 0$ be infinitesimal. Then:\n",
    "\n",
    "$$\n",
    "y + \\Delta y = (u + \\Delta u) + (v + \\Delta v),\n",
    "$$\n",
    "\n",
    "$$\n",
    "\\Delta y = [(u + \\Delta u) + (v + \\Delta v)] - [u + v] = \\Delta u + \\Delta v,\n",
    "$$\n",
    "\n",
    "$$\n",
    "\\frac{\\Delta y}{\\Delta x} = \\frac{\\Delta u + \\Delta v}{\\Delta x} = \\frac{\\Delta u}{\\Delta x} + \\frac{\\Delta v}{\\Delta x}.\n",
    "$$\n",
    "\n",
    "Taking standard parts:\n",
    "\n",
    "$$\n",
    "\\text{st}\\left(\\frac{\\Delta y}{\\Delta x}\\right) = \\text{st}\\left(\\frac{\\Delta u}{\\Delta x} + \\frac{\\Delta v}{\\Delta x}\\right) = \\text{st}\\left(\\frac{\\Delta u}{\\Delta x}\\right) + \\text{st}\\left(\\frac{\\Delta v}{\\Delta x}\\right).\n",
    "$$\n",
    "\n",
    "Thus:\n",
    "\n",
    "$$\n",
    "\\frac{dy}{dx} = \\frac{du}{dx} + \\frac{dv}{dx}.\n",
    "$$\n"
   ]
  },
  {
   "cell_type": "markdown",
   "id": "11f0f3c1",
   "metadata": {
    "slideshow": {
     "slide_type": "slide"
    }
   },
   "source": [
    "**THEOREM (Constant Rule)**\n",
    "\n",
    "Suppose $u$ depends on $x$, and $c$ is a real number. Then for any value of $x$ where $\\frac{du}{dx}$ exists:\n",
    "\n",
    "$$\n",
    "\\frac{d(cu)}{dx} = c \\frac{du}{dx}, \\quad d(cu) = c \\, du.\n",
    "$$\n",
    "\n",
    "---\n",
    "\n",
    "**PROOF**  \n",
    "Let $y = cu$, and let $\\Delta x \\neq 0$ be infinitesimal. Then:\n",
    "\n",
    "$$\n",
    "y + \\Delta y = c(u + \\Delta u),\n",
    "$$\n",
    "\n",
    "$$\n",
    "\\Delta y = c(u + \\Delta u) - cu = c \\, \\Delta u,\n",
    "$$\n",
    "\n",
    "$$\n",
    "\\frac{\\Delta y}{\\Delta x} = \\frac{c \\, \\Delta u}{\\Delta x} = c \\frac{\\Delta u}{\\Delta x}.\n",
    "$$\n",
    "\n",
    "Taking standard parts:\n",
    "\n",
    "$$\n",
    "\\text{st}\\left(\\frac{\\Delta y}{\\Delta x}\\right) = \\text{st}\\left(c \\frac{\\Delta u}{\\Delta x}\\right) = c \\, \\text{st}\\left(\\frac{\\Delta u}{\\Delta x}\\right).\n",
    "$$\n",
    "\n",
    "Thus:\n",
    "\n",
    "$$\n",
    "\\frac{dy}{dx} = c \\frac{du}{dx}.\n",
    "$$\n"
   ]
  },
  {
   "cell_type": "markdown",
   "id": "79f660c8",
   "metadata": {
    "slideshow": {
     "slide_type": "slide"
    }
   },
   "source": [
    "**THEOREM (Product Rule)**\n",
    "\n",
    "Suppose $u$ and $v$ depend on $x$. Then for any value of $x$ where $\\frac{du}{dx}$ and $\\frac{dv}{dx}$ exist:\n",
    "\n",
    "$$\n",
    "\\frac{d(uv)}{dx} = u \\frac{dv}{dx} + v \\frac{du}{dx}, \\quad d(uv) = u \\, dv + v \\, du.\n",
    "$$\n",
    "\n",
    "---\n",
    "\n",
    "**PROOF**  \n",
    "Let $y = uv$, and let $\\Delta x \\neq 0$ be infinitesimal. Then:\n",
    "\n",
    "$$\n",
    "y + \\Delta y = (u + \\Delta u)(v + \\Delta v),\n",
    "$$\n",
    "\n",
    "$$\n",
    "\\Delta y = (u + \\Delta u)(v + \\Delta v) - uv = u \\Delta v + v \\Delta u + \\Delta u \\Delta v,\n",
    "$$\n",
    "\n",
    "$$\n",
    "\\frac{\\Delta y}{\\Delta x} = \\frac{u \\Delta v + v \\Delta u + \\Delta u \\Delta v}{\\Delta x} = u \\frac{\\Delta v}{\\Delta x} + v \\frac{\\Delta u}{\\Delta x} + \\frac{\\Delta u \\Delta v}{\\Delta x}.\n",
    "$$\n",
    "\n",
    "$\\Delta u$ is infinitesimal by the Increment Theorem, whence:\n",
    "\n",
    "$$\n",
    "\\text{st}\\left(\\frac{\\Delta y}{\\Delta x}\\right) = \\text{st}\\left(u \\frac{\\Delta v}{\\Delta x} + v \\frac{\\Delta u}{\\Delta x} + \\frac{\\Delta u \\Delta v}{\\Delta x}\\right),\n",
    "$$\n",
    "\n",
    "$$\n",
    "= u \\cdot \\text{st}\\left(\\frac{\\Delta v}{\\Delta x}\\right) + v \\cdot \\text{st}\\left(\\frac{\\Delta u}{\\Delta x}\\right) + 0 \\cdot \\text{st}\\left(\\frac{\\Delta u}{\\Delta x}\\right).\n",
    "$$\n",
    "\n",
    "Thus:\n",
    "\n",
    "$$\n",
    "\\frac{dy}{dx} = u \\frac{dv}{dx} + v \\frac{du}{dx}.\n",
    "$$\n"
   ]
  },
  {
   "cell_type": "markdown",
   "id": "bdb01b4c",
   "metadata": {
    "slideshow": {
     "slide_type": "slide"
    }
   },
   "source": [
    "**THEOREM (Quotient Rule)**\n",
    "\n",
    "Suppose $u, v$ depend on $x$. Then for any value of $x$ where $\\frac{du}{dx}$, $\\frac{dv}{dx}$ exist and $v \\neq 0$:\n",
    "\n",
    "$$\n",
    "\\frac{d\\left(\\frac{u}{v}\\right)}{dx} = \\frac{v \\frac{du}{dx} - u \\frac{dv}{dx}}{v^2}, \\quad d\\left(\\frac{u}{v}\\right) = \\frac{v \\, du - u \\, dv}{v^2}.\n",
    "$$\n",
    "\n",
    "---\n",
    "\n",
    "**PROOF**  \n",
    "We combine the Product Rule and the formula for $d\\left(\\frac{1}{v}\\right)$. Let $y = \\frac{u}{v}$. We write $y$ in the form:\n",
    "\n",
    "$$\n",
    "y = \\frac{1}{v} \\cdot u.\n",
    "$$\n",
    "\n",
    "Then:\n",
    "\n",
    "$$\n",
    "dy = d\\left(\\frac{1}{v} \\cdot u\\right) = \\frac{1}{v} \\, du + u \\, d\\left(\\frac{1}{v}\\right),\n",
    "$$\n",
    "\n",
    "$$\n",
    "= \\frac{1}{v} \\, du + u \\, \\left(-v^{-2}\\right) \\, dv,\n",
    "$$\n",
    "\n",
    "$$\n",
    "= \\frac{v \\, du - u \\, dv}{v^2}.\n",
    "$$\n"
   ]
  },
  {
   "cell_type": "code",
   "execution_count": null,
   "id": "01a4c7ff",
   "metadata": {},
   "outputs": [],
   "source": []
  }
 ],
 "metadata": {
  "@webio": {
   "lastCommId": null,
   "lastKernelId": null
  },
  "celltoolbar": "Slideshow",
  "hide_input": false,
  "kernelspec": {
   "display_name": "Python 3 (ipykernel)",
   "language": "python",
   "name": "python3"
  },
  "language_info": {
   "codemirror_mode": {
    "name": "ipython",
    "version": 3
   },
   "file_extension": ".py",
   "mimetype": "text/x-python",
   "name": "python",
   "nbconvert_exporter": "python",
   "pygments_lexer": "ipython3",
   "version": "3.9.11"
  },
  "rise": {
   "enable_chalkboard": true
  },
  "varInspector": {
   "cols": {
    "lenName": 16,
    "lenType": 16,
    "lenVar": 40
   },
   "kernels_config": {
    "python": {
     "delete_cmd_postfix": "",
     "delete_cmd_prefix": "del ",
     "library": "var_list.py",
     "varRefreshCmd": "print(var_dic_list())"
    },
    "r": {
     "delete_cmd_postfix": ") ",
     "delete_cmd_prefix": "rm(",
     "library": "var_list.r",
     "varRefreshCmd": "cat(var_dic_list()) "
    }
   },
   "types_to_exclude": [
    "module",
    "function",
    "builtin_function_or_method",
    "instance",
    "_Feature"
   ],
   "window_display": false
  }
 },
 "nbformat": 4,
 "nbformat_minor": 5
}
