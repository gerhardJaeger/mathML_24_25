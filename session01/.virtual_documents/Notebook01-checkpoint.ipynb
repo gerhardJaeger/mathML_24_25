import sympy
from sympy import Matrix
import numpy as np




#%matplotlib notebook
%matplotlib widget
import matplotlib.pyplot as plt






































from sympy import symbols
from sympy.plotting import plot
x = symbols('x')
y = symbols('y')



p = plot(2*x, x/2+3/2, legend=True, xlim=(-4,4), ylim=(-4,4), size=(5,5))






fig, ax = plt.subplots()
q1 = ax.quiver(0,0,2,-1, units='xy', scale=1, color='red')
q1 = ax.quiver(0,0,-1,2, units='xy', scale=1, color='blue')
c = plt.Circle((0,3), radius=.1, color='green')
ax.add_patch(c)
plt.grid()
ax.set_aspect('equal')
plt.xlim(-4,4)
plt.ylim(-4,4)
plt.annotate("column 1", (1,-.5), color='red')
plt.annotate("column 1", (-.3,1), color='blue')
plt.show()





fig, ax = plt.subplots()
q1 = ax.quiver(0,0,2,-1, units='xy', scale=1, color='red')
q2 = ax.quiver(0,0,-2,4, units='xy', scale=1, color='blue')
q3 = ax.quiver(0,0,-1,2, units='xy', scale=1, color='blue')
c = plt.Circle((0,3), radius=.1, color='green')
ax.add_patch(c)
plt.grid()
ax.set_aspect('equal')
plt.xlim(-4,4)
plt.ylim(-4,4)
plt.annotate("column 1", (1,-.5), color='red')
plt.annotate("column 1", (-.3,1), color='blue')
plt.annotate("b", (.2,3.2), color='blue')
plt.show()





fig, ax = plt.subplots()
q1 = ax.quiver(0,0,2,-1, units='xy', scale=1, color='red')
q2 = ax.quiver(0,0,-2,4, units='xy', scale=1, color='blue')
q3 = ax.quiver(0,0,-1,2, units='xy', scale=1, color='blue')
q4 = ax.quiver(-2,4,2,-1, units='xy', scale=1, color='red')
c = plt.Circle((0,3), radius=.1, color='green')
ax.add_patch(c)
plt.grid()
ax.set_aspect('equal')
plt.xlim(-4,4)
plt.ylim(-4,4)
plt.annotate("column 1", (1,-.5), color='red')
plt.annotate("column 1", (-.3,1), color='blue')
plt.annotate("b", (.2,3.2), color='blue')
plt.show()











from mpl_toolkits.mplot3d import Axes3D
from mpl_toolkits.mplot3d.art3d import Poly3DCollection






fig = plt.figure()
ax = fig.add_subplot(111, projection='3d')
x = [0, 0,1,1]
y = [0, 1, 1, -4/11]
z1 = [2.0, 1.3333333333333335, 1.0, 1.9090909090909092]

vertices = [list(zip(x,y,z1))]
poly1 = Poly3DCollection(vertices, alpha=0.8, color='red')
ax.add_collection3d(poly1)
ax.set_xlim(0,1)
ax.set_ylim(-1,1)
ax.set_zlim(-10,10)





fig = plt.figure()
ax = fig.add_subplot(111, projection='3d')

z2 = [2.0, -0.5, -1.5, 1.9090909090909092]
vertices = [list(zip(x,y,z2))]
poly2 = Poly3DCollection(vertices, alpha=0.8, color='blue')
ax.add_collection3d(poly2)
ax.set_xlim(0,1)
ax.set_ylim(-1,1)
ax.set_zlim(-10,10)





fig = plt.figure()
ax = fig.add_subplot(111, projection='3d')
vertices1 = [list(zip(x,y,z1))]
vertices2 = [list(zip(x,y,z2))]
poly1 = Poly3DCollection(vertices1, alpha=0.5, color='red')
poly2 = Poly3DCollection(vertices2, alpha=0.5, color='blue')
ax.add_collection3d(poly1)
ax.add_collection3d(poly2)
ax.set_xlim(0,1)
ax.set_ylim(-1,1)
ax.set_zlim(-2,5)





fig = plt.figure()
ax = fig.add_subplot(111, projection='3d')
z3 = [2, 5, -1, -5.090909090909091]
vertices3 = [list(zip(x,y,z3))]
poly3 = Poly3DCollection(vertices, alpha=0.8, color='green')
ax.add_collection3d(poly3)
ax.set_xlim(0,1)
ax.set_ylim(-1,1)
ax.set_zlim(-10,10)





fig = plt.figure()
ax = fig.add_subplot(111, projection='3d')
vertices1 = [list(zip(x,y,z1))]
vertices2 = [list(zip(x,y,z2))]
poly1 = Poly3DCollection(vertices1, alpha=0.5, color='red')
poly2 = Poly3DCollection(vertices2, alpha=0.5, color='blue')
poly3 = Poly3DCollection(vertices3, alpha=0.5, color='green')
ax.add_collection3d(poly1)
ax.add_collection3d(poly2)
ax.add_collection3d(poly3)
ax.set_xlim(0,1)
ax.set_ylim(-1,1)
ax.set_zlim(-2,5)








import mpl_toolkits.mplot3d.art3d as art3d

fig = plt.figure()
ax = fig.add_subplot(111, projection='3d')
ax.quiver((0,), (0,), (0,), (1,), (2,), (6,), color='red')
ax.quiver((0,), (0,), (0,), (2,), (5,), (3,), color='blue')
ax.quiver((0,), (0,), (0,), (3,), (2,), (1,), color='green')
ax.scatter((6,), (4,), (2,), color='black')
ax.set_xlim([0, 7])
ax.set_ylim([0, 6])
ax.set_zlim([0,7])
plt.show()











fig, ax = plt.subplots()
q1 = ax.quiver(0,0,2,-1, units='xy', scale=1, color='red')
q1 = ax.quiver(0,0,-1,2, units='xy', scale=1, color='blue')
c = plt.Circle((0,3), radius=.1, color='green')
ax.add_patch(c)
plt.grid()
ax.set_aspect('equal')
plt.xlim(-4,4)
plt.ylim(-4,4)
plt.annotate("column 1", (1,-.5), color='red')
plt.annotate("column 1", (-.3,1), color='blue')
plt.show()





import mpl_toolkits.mplot3d.art3d as art3d

fig = plt.figure()
ax = fig.add_subplot(111, projection='3d')
ax.quiver((0,), (0,), (0,), (1,), (2,), (6,), color='red')
ax.quiver((0,), (0,), (0,), (2,), (5,), (3,), color='blue')
ax.quiver((0,), (0,), (0,), (3,), (2,), (1,), color='green')
ax.set_xlim([0, 7])
ax.set_ylim([0, 6])
ax.set_zlim([0,7])
plt.show()
































Matrix([0.6, 0.8])


from sympy import Rational
Matrix([
    Rational(1,3), 
    Rational(2,3), 
    Rational(2,3)
])


Matrix([
    sympy.Rational(1,2), 
    sympy.Rational(1,2), 
    sympy.Rational(1,2),     
    sympy.Rational(1,2)
])


x, y, z, t = sympy.symbols('x y z t')
Matrix([sympy.sin(x), sympy.cos(x)])


Matrix([0, 0, 0, 1, 0])



