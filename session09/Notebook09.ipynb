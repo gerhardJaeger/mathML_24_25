{
 "cells": [
  {
   "cell_type": "code",
   "execution_count": 1,
   "id": "6b6d3e8a",
   "metadata": {
    "slideshow": {
     "slide_type": "skip"
    }
   },
   "outputs": [],
   "source": [
    "import sympy\n",
    "from sympy import Matrix, Rational, sqrt, symbols, zeros, simplify, exp\n",
    "import numpy as np\n",
    "import matplotlib.pyplot as plt\n",
    "import ipywidgets as widgets\n",
    "from ipywidgets import interact, interactive, fixed, interact_manual\n",
    "import matplotlib.pyplot as plt\n",
    "%matplotlib notebook\n"
   ]
  },
  {
   "cell_type": "markdown",
   "id": "17d690f6",
   "metadata": {
    "hide_input": true,
    "slideshow": {
     "slide_type": "slide"
    }
   },
   "source": [
    "# Mathematics for Machine Learning\n",
    "\n",
    "## Session 9: Eigenvectors and eigenvalues\n",
    "\n",
    "## Gerhard Jäger\n",
    "\n",
    "### November 19, 2024"
   ]
  },
  {
   "cell_type": "markdown",
   "id": "4ac3102c",
   "metadata": {
    "slideshow": {
     "slide_type": "slide"
    }
   },
   "source": [
    "## Eigenvectors and eigenvalues\n",
    "\n",
    "### Basic equation\n",
    "\n",
    "$$\n",
    "A\\mathbf x = \\lambda \\mathbf x\n",
    "$$\n",
    "\n",
    "- $\\mathbf x$ is called an **eigenvector** of $A$\n",
    "- $\\lambda$ is called an **eigenvalue** of $A$"
   ]
  },
  {
   "cell_type": "code",
   "execution_count": 2,
   "id": "79b42587",
   "metadata": {
    "slideshow": {
     "slide_type": "slide"
    }
   },
   "outputs": [],
   "source": [
    "from math import *\n",
    "A = np.array([\n",
    "    [1, 1],\n",
    "    [0, 1]\n",
    "])"
   ]
  },
  {
   "cell_type": "code",
   "execution_count": 3,
   "id": "af2cc205",
   "metadata": {
    "hide_input": true,
    "scrolled": false
   },
   "outputs": [
    {
     "data": {
      "application/javascript": [
       "/* Put everything inside the global mpl namespace */\n",
       "/* global mpl */\n",
       "window.mpl = {};\n",
       "\n",
       "mpl.get_websocket_type = function () {\n",
       "    if (typeof WebSocket !== 'undefined') {\n",
       "        return WebSocket;\n",
       "    } else if (typeof MozWebSocket !== 'undefined') {\n",
       "        return MozWebSocket;\n",
       "    } else {\n",
       "        alert(\n",
       "            'Your browser does not have WebSocket support. ' +\n",
       "                'Please try Chrome, Safari or Firefox ≥ 6. ' +\n",
       "                'Firefox 4 and 5 are also supported but you ' +\n",
       "                'have to enable WebSockets in about:config.'\n",
       "        );\n",
       "    }\n",
       "};\n",
       "\n",
       "mpl.figure = function (figure_id, websocket, ondownload, parent_element) {\n",
       "    this.id = figure_id;\n",
       "\n",
       "    this.ws = websocket;\n",
       "\n",
       "    this.supports_binary = this.ws.binaryType !== undefined;\n",
       "\n",
       "    if (!this.supports_binary) {\n",
       "        var warnings = document.getElementById('mpl-warnings');\n",
       "        if (warnings) {\n",
       "            warnings.style.display = 'block';\n",
       "            warnings.textContent =\n",
       "                'This browser does not support binary websocket messages. ' +\n",
       "                'Performance may be slow.';\n",
       "        }\n",
       "    }\n",
       "\n",
       "    this.imageObj = new Image();\n",
       "\n",
       "    this.context = undefined;\n",
       "    this.message = undefined;\n",
       "    this.canvas = undefined;\n",
       "    this.rubberband_canvas = undefined;\n",
       "    this.rubberband_context = undefined;\n",
       "    this.format_dropdown = undefined;\n",
       "\n",
       "    this.image_mode = 'full';\n",
       "\n",
       "    this.root = document.createElement('div');\n",
       "    this.root.setAttribute('style', 'display: inline-block');\n",
       "    this._root_extra_style(this.root);\n",
       "\n",
       "    parent_element.appendChild(this.root);\n",
       "\n",
       "    this._init_header(this);\n",
       "    this._init_canvas(this);\n",
       "    this._init_toolbar(this);\n",
       "\n",
       "    var fig = this;\n",
       "\n",
       "    this.waiting = false;\n",
       "\n",
       "    this.ws.onopen = function () {\n",
       "        fig.send_message('supports_binary', { value: fig.supports_binary });\n",
       "        fig.send_message('send_image_mode', {});\n",
       "        if (fig.ratio !== 1) {\n",
       "            fig.send_message('set_device_pixel_ratio', {\n",
       "                device_pixel_ratio: fig.ratio,\n",
       "            });\n",
       "        }\n",
       "        fig.send_message('refresh', {});\n",
       "    };\n",
       "\n",
       "    this.imageObj.onload = function () {\n",
       "        if (fig.image_mode === 'full') {\n",
       "            // Full images could contain transparency (where diff images\n",
       "            // almost always do), so we need to clear the canvas so that\n",
       "            // there is no ghosting.\n",
       "            fig.context.clearRect(0, 0, fig.canvas.width, fig.canvas.height);\n",
       "        }\n",
       "        fig.context.drawImage(fig.imageObj, 0, 0);\n",
       "    };\n",
       "\n",
       "    this.imageObj.onunload = function () {\n",
       "        fig.ws.close();\n",
       "    };\n",
       "\n",
       "    this.ws.onmessage = this._make_on_message_function(this);\n",
       "\n",
       "    this.ondownload = ondownload;\n",
       "};\n",
       "\n",
       "mpl.figure.prototype._init_header = function () {\n",
       "    var titlebar = document.createElement('div');\n",
       "    titlebar.classList =\n",
       "        'ui-dialog-titlebar ui-widget-header ui-corner-all ui-helper-clearfix';\n",
       "    var titletext = document.createElement('div');\n",
       "    titletext.classList = 'ui-dialog-title';\n",
       "    titletext.setAttribute(\n",
       "        'style',\n",
       "        'width: 100%; text-align: center; padding: 3px;'\n",
       "    );\n",
       "    titlebar.appendChild(titletext);\n",
       "    this.root.appendChild(titlebar);\n",
       "    this.header = titletext;\n",
       "};\n",
       "\n",
       "mpl.figure.prototype._canvas_extra_style = function (_canvas_div) {};\n",
       "\n",
       "mpl.figure.prototype._root_extra_style = function (_canvas_div) {};\n",
       "\n",
       "mpl.figure.prototype._init_canvas = function () {\n",
       "    var fig = this;\n",
       "\n",
       "    var canvas_div = (this.canvas_div = document.createElement('div'));\n",
       "    canvas_div.setAttribute(\n",
       "        'style',\n",
       "        'border: 1px solid #ddd;' +\n",
       "            'box-sizing: content-box;' +\n",
       "            'clear: both;' +\n",
       "            'min-height: 1px;' +\n",
       "            'min-width: 1px;' +\n",
       "            'outline: 0;' +\n",
       "            'overflow: hidden;' +\n",
       "            'position: relative;' +\n",
       "            'resize: both;'\n",
       "    );\n",
       "\n",
       "    function on_keyboard_event_closure(name) {\n",
       "        return function (event) {\n",
       "            return fig.key_event(event, name);\n",
       "        };\n",
       "    }\n",
       "\n",
       "    canvas_div.addEventListener(\n",
       "        'keydown',\n",
       "        on_keyboard_event_closure('key_press')\n",
       "    );\n",
       "    canvas_div.addEventListener(\n",
       "        'keyup',\n",
       "        on_keyboard_event_closure('key_release')\n",
       "    );\n",
       "\n",
       "    this._canvas_extra_style(canvas_div);\n",
       "    this.root.appendChild(canvas_div);\n",
       "\n",
       "    var canvas = (this.canvas = document.createElement('canvas'));\n",
       "    canvas.classList.add('mpl-canvas');\n",
       "    canvas.setAttribute('style', 'box-sizing: content-box;');\n",
       "\n",
       "    this.context = canvas.getContext('2d');\n",
       "\n",
       "    var backingStore =\n",
       "        this.context.backingStorePixelRatio ||\n",
       "        this.context.webkitBackingStorePixelRatio ||\n",
       "        this.context.mozBackingStorePixelRatio ||\n",
       "        this.context.msBackingStorePixelRatio ||\n",
       "        this.context.oBackingStorePixelRatio ||\n",
       "        this.context.backingStorePixelRatio ||\n",
       "        1;\n",
       "\n",
       "    this.ratio = (window.devicePixelRatio || 1) / backingStore;\n",
       "\n",
       "    var rubberband_canvas = (this.rubberband_canvas = document.createElement(\n",
       "        'canvas'\n",
       "    ));\n",
       "    rubberband_canvas.setAttribute(\n",
       "        'style',\n",
       "        'box-sizing: content-box; position: absolute; left: 0; top: 0; z-index: 1;'\n",
       "    );\n",
       "\n",
       "    // Apply a ponyfill if ResizeObserver is not implemented by browser.\n",
       "    if (this.ResizeObserver === undefined) {\n",
       "        if (window.ResizeObserver !== undefined) {\n",
       "            this.ResizeObserver = window.ResizeObserver;\n",
       "        } else {\n",
       "            var obs = _JSXTOOLS_RESIZE_OBSERVER({});\n",
       "            this.ResizeObserver = obs.ResizeObserver;\n",
       "        }\n",
       "    }\n",
       "\n",
       "    this.resizeObserverInstance = new this.ResizeObserver(function (entries) {\n",
       "        var nentries = entries.length;\n",
       "        for (var i = 0; i < nentries; i++) {\n",
       "            var entry = entries[i];\n",
       "            var width, height;\n",
       "            if (entry.contentBoxSize) {\n",
       "                if (entry.contentBoxSize instanceof Array) {\n",
       "                    // Chrome 84 implements new version of spec.\n",
       "                    width = entry.contentBoxSize[0].inlineSize;\n",
       "                    height = entry.contentBoxSize[0].blockSize;\n",
       "                } else {\n",
       "                    // Firefox implements old version of spec.\n",
       "                    width = entry.contentBoxSize.inlineSize;\n",
       "                    height = entry.contentBoxSize.blockSize;\n",
       "                }\n",
       "            } else {\n",
       "                // Chrome <84 implements even older version of spec.\n",
       "                width = entry.contentRect.width;\n",
       "                height = entry.contentRect.height;\n",
       "            }\n",
       "\n",
       "            // Keep the size of the canvas and rubber band canvas in sync with\n",
       "            // the canvas container.\n",
       "            if (entry.devicePixelContentBoxSize) {\n",
       "                // Chrome 84 implements new version of spec.\n",
       "                canvas.setAttribute(\n",
       "                    'width',\n",
       "                    entry.devicePixelContentBoxSize[0].inlineSize\n",
       "                );\n",
       "                canvas.setAttribute(\n",
       "                    'height',\n",
       "                    entry.devicePixelContentBoxSize[0].blockSize\n",
       "                );\n",
       "            } else {\n",
       "                canvas.setAttribute('width', width * fig.ratio);\n",
       "                canvas.setAttribute('height', height * fig.ratio);\n",
       "            }\n",
       "            canvas.setAttribute(\n",
       "                'style',\n",
       "                'width: ' + width + 'px; height: ' + height + 'px;'\n",
       "            );\n",
       "\n",
       "            rubberband_canvas.setAttribute('width', width);\n",
       "            rubberband_canvas.setAttribute('height', height);\n",
       "\n",
       "            // And update the size in Python. We ignore the initial 0/0 size\n",
       "            // that occurs as the element is placed into the DOM, which should\n",
       "            // otherwise not happen due to the minimum size styling.\n",
       "            if (fig.ws.readyState == 1 && width != 0 && height != 0) {\n",
       "                fig.request_resize(width, height);\n",
       "            }\n",
       "        }\n",
       "    });\n",
       "    this.resizeObserverInstance.observe(canvas_div);\n",
       "\n",
       "    function on_mouse_event_closure(name) {\n",
       "        return function (event) {\n",
       "            return fig.mouse_event(event, name);\n",
       "        };\n",
       "    }\n",
       "\n",
       "    rubberband_canvas.addEventListener(\n",
       "        'mousedown',\n",
       "        on_mouse_event_closure('button_press')\n",
       "    );\n",
       "    rubberband_canvas.addEventListener(\n",
       "        'mouseup',\n",
       "        on_mouse_event_closure('button_release')\n",
       "    );\n",
       "    rubberband_canvas.addEventListener(\n",
       "        'dblclick',\n",
       "        on_mouse_event_closure('dblclick')\n",
       "    );\n",
       "    // Throttle sequential mouse events to 1 every 20ms.\n",
       "    rubberband_canvas.addEventListener(\n",
       "        'mousemove',\n",
       "        on_mouse_event_closure('motion_notify')\n",
       "    );\n",
       "\n",
       "    rubberband_canvas.addEventListener(\n",
       "        'mouseenter',\n",
       "        on_mouse_event_closure('figure_enter')\n",
       "    );\n",
       "    rubberband_canvas.addEventListener(\n",
       "        'mouseleave',\n",
       "        on_mouse_event_closure('figure_leave')\n",
       "    );\n",
       "\n",
       "    canvas_div.addEventListener('wheel', function (event) {\n",
       "        if (event.deltaY < 0) {\n",
       "            event.step = 1;\n",
       "        } else {\n",
       "            event.step = -1;\n",
       "        }\n",
       "        on_mouse_event_closure('scroll')(event);\n",
       "    });\n",
       "\n",
       "    canvas_div.appendChild(canvas);\n",
       "    canvas_div.appendChild(rubberband_canvas);\n",
       "\n",
       "    this.rubberband_context = rubberband_canvas.getContext('2d');\n",
       "    this.rubberband_context.strokeStyle = '#000000';\n",
       "\n",
       "    this._resize_canvas = function (width, height, forward) {\n",
       "        if (forward) {\n",
       "            canvas_div.style.width = width + 'px';\n",
       "            canvas_div.style.height = height + 'px';\n",
       "        }\n",
       "    };\n",
       "\n",
       "    // Disable right mouse context menu.\n",
       "    this.rubberband_canvas.addEventListener('contextmenu', function (_e) {\n",
       "        event.preventDefault();\n",
       "        return false;\n",
       "    });\n",
       "\n",
       "    function set_focus() {\n",
       "        canvas.focus();\n",
       "        canvas_div.focus();\n",
       "    }\n",
       "\n",
       "    window.setTimeout(set_focus, 100);\n",
       "};\n",
       "\n",
       "mpl.figure.prototype._init_toolbar = function () {\n",
       "    var fig = this;\n",
       "\n",
       "    var toolbar = document.createElement('div');\n",
       "    toolbar.classList = 'mpl-toolbar';\n",
       "    this.root.appendChild(toolbar);\n",
       "\n",
       "    function on_click_closure(name) {\n",
       "        return function (_event) {\n",
       "            return fig.toolbar_button_onclick(name);\n",
       "        };\n",
       "    }\n",
       "\n",
       "    function on_mouseover_closure(tooltip) {\n",
       "        return function (event) {\n",
       "            if (!event.currentTarget.disabled) {\n",
       "                return fig.toolbar_button_onmouseover(tooltip);\n",
       "            }\n",
       "        };\n",
       "    }\n",
       "\n",
       "    fig.buttons = {};\n",
       "    var buttonGroup = document.createElement('div');\n",
       "    buttonGroup.classList = 'mpl-button-group';\n",
       "    for (var toolbar_ind in mpl.toolbar_items) {\n",
       "        var name = mpl.toolbar_items[toolbar_ind][0];\n",
       "        var tooltip = mpl.toolbar_items[toolbar_ind][1];\n",
       "        var image = mpl.toolbar_items[toolbar_ind][2];\n",
       "        var method_name = mpl.toolbar_items[toolbar_ind][3];\n",
       "\n",
       "        if (!name) {\n",
       "            /* Instead of a spacer, we start a new button group. */\n",
       "            if (buttonGroup.hasChildNodes()) {\n",
       "                toolbar.appendChild(buttonGroup);\n",
       "            }\n",
       "            buttonGroup = document.createElement('div');\n",
       "            buttonGroup.classList = 'mpl-button-group';\n",
       "            continue;\n",
       "        }\n",
       "\n",
       "        var button = (fig.buttons[name] = document.createElement('button'));\n",
       "        button.classList = 'mpl-widget';\n",
       "        button.setAttribute('role', 'button');\n",
       "        button.setAttribute('aria-disabled', 'false');\n",
       "        button.addEventListener('click', on_click_closure(method_name));\n",
       "        button.addEventListener('mouseover', on_mouseover_closure(tooltip));\n",
       "\n",
       "        var icon_img = document.createElement('img');\n",
       "        icon_img.src = '_images/' + image + '.png';\n",
       "        icon_img.srcset = '_images/' + image + '_large.png 2x';\n",
       "        icon_img.alt = tooltip;\n",
       "        button.appendChild(icon_img);\n",
       "\n",
       "        buttonGroup.appendChild(button);\n",
       "    }\n",
       "\n",
       "    if (buttonGroup.hasChildNodes()) {\n",
       "        toolbar.appendChild(buttonGroup);\n",
       "    }\n",
       "\n",
       "    var fmt_picker = document.createElement('select');\n",
       "    fmt_picker.classList = 'mpl-widget';\n",
       "    toolbar.appendChild(fmt_picker);\n",
       "    this.format_dropdown = fmt_picker;\n",
       "\n",
       "    for (var ind in mpl.extensions) {\n",
       "        var fmt = mpl.extensions[ind];\n",
       "        var option = document.createElement('option');\n",
       "        option.selected = fmt === mpl.default_extension;\n",
       "        option.innerHTML = fmt;\n",
       "        fmt_picker.appendChild(option);\n",
       "    }\n",
       "\n",
       "    var status_bar = document.createElement('span');\n",
       "    status_bar.classList = 'mpl-message';\n",
       "    toolbar.appendChild(status_bar);\n",
       "    this.message = status_bar;\n",
       "};\n",
       "\n",
       "mpl.figure.prototype.request_resize = function (x_pixels, y_pixels) {\n",
       "    // Request matplotlib to resize the figure. Matplotlib will then trigger a resize in the client,\n",
       "    // which will in turn request a refresh of the image.\n",
       "    this.send_message('resize', { width: x_pixels, height: y_pixels });\n",
       "};\n",
       "\n",
       "mpl.figure.prototype.send_message = function (type, properties) {\n",
       "    properties['type'] = type;\n",
       "    properties['figure_id'] = this.id;\n",
       "    this.ws.send(JSON.stringify(properties));\n",
       "};\n",
       "\n",
       "mpl.figure.prototype.send_draw_message = function () {\n",
       "    if (!this.waiting) {\n",
       "        this.waiting = true;\n",
       "        this.ws.send(JSON.stringify({ type: 'draw', figure_id: this.id }));\n",
       "    }\n",
       "};\n",
       "\n",
       "mpl.figure.prototype.handle_save = function (fig, _msg) {\n",
       "    var format_dropdown = fig.format_dropdown;\n",
       "    var format = format_dropdown.options[format_dropdown.selectedIndex].value;\n",
       "    fig.ondownload(fig, format);\n",
       "};\n",
       "\n",
       "mpl.figure.prototype.handle_resize = function (fig, msg) {\n",
       "    var size = msg['size'];\n",
       "    if (size[0] !== fig.canvas.width || size[1] !== fig.canvas.height) {\n",
       "        fig._resize_canvas(size[0], size[1], msg['forward']);\n",
       "        fig.send_message('refresh', {});\n",
       "    }\n",
       "};\n",
       "\n",
       "mpl.figure.prototype.handle_rubberband = function (fig, msg) {\n",
       "    var x0 = msg['x0'] / fig.ratio;\n",
       "    var y0 = (fig.canvas.height - msg['y0']) / fig.ratio;\n",
       "    var x1 = msg['x1'] / fig.ratio;\n",
       "    var y1 = (fig.canvas.height - msg['y1']) / fig.ratio;\n",
       "    x0 = Math.floor(x0) + 0.5;\n",
       "    y0 = Math.floor(y0) + 0.5;\n",
       "    x1 = Math.floor(x1) + 0.5;\n",
       "    y1 = Math.floor(y1) + 0.5;\n",
       "    var min_x = Math.min(x0, x1);\n",
       "    var min_y = Math.min(y0, y1);\n",
       "    var width = Math.abs(x1 - x0);\n",
       "    var height = Math.abs(y1 - y0);\n",
       "\n",
       "    fig.rubberband_context.clearRect(\n",
       "        0,\n",
       "        0,\n",
       "        fig.canvas.width / fig.ratio,\n",
       "        fig.canvas.height / fig.ratio\n",
       "    );\n",
       "\n",
       "    fig.rubberband_context.strokeRect(min_x, min_y, width, height);\n",
       "};\n",
       "\n",
       "mpl.figure.prototype.handle_figure_label = function (fig, msg) {\n",
       "    // Updates the figure title.\n",
       "    fig.header.textContent = msg['label'];\n",
       "};\n",
       "\n",
       "mpl.figure.prototype.handle_cursor = function (fig, msg) {\n",
       "    fig.rubberband_canvas.style.cursor = msg['cursor'];\n",
       "};\n",
       "\n",
       "mpl.figure.prototype.handle_message = function (fig, msg) {\n",
       "    fig.message.textContent = msg['message'];\n",
       "};\n",
       "\n",
       "mpl.figure.prototype.handle_draw = function (fig, _msg) {\n",
       "    // Request the server to send over a new figure.\n",
       "    fig.send_draw_message();\n",
       "};\n",
       "\n",
       "mpl.figure.prototype.handle_image_mode = function (fig, msg) {\n",
       "    fig.image_mode = msg['mode'];\n",
       "};\n",
       "\n",
       "mpl.figure.prototype.handle_history_buttons = function (fig, msg) {\n",
       "    for (var key in msg) {\n",
       "        if (!(key in fig.buttons)) {\n",
       "            continue;\n",
       "        }\n",
       "        fig.buttons[key].disabled = !msg[key];\n",
       "        fig.buttons[key].setAttribute('aria-disabled', !msg[key]);\n",
       "    }\n",
       "};\n",
       "\n",
       "mpl.figure.prototype.handle_navigate_mode = function (fig, msg) {\n",
       "    if (msg['mode'] === 'PAN') {\n",
       "        fig.buttons['Pan'].classList.add('active');\n",
       "        fig.buttons['Zoom'].classList.remove('active');\n",
       "    } else if (msg['mode'] === 'ZOOM') {\n",
       "        fig.buttons['Pan'].classList.remove('active');\n",
       "        fig.buttons['Zoom'].classList.add('active');\n",
       "    } else {\n",
       "        fig.buttons['Pan'].classList.remove('active');\n",
       "        fig.buttons['Zoom'].classList.remove('active');\n",
       "    }\n",
       "};\n",
       "\n",
       "mpl.figure.prototype.updated_canvas_event = function () {\n",
       "    // Called whenever the canvas gets updated.\n",
       "    this.send_message('ack', {});\n",
       "};\n",
       "\n",
       "// A function to construct a web socket function for onmessage handling.\n",
       "// Called in the figure constructor.\n",
       "mpl.figure.prototype._make_on_message_function = function (fig) {\n",
       "    return function socket_on_message(evt) {\n",
       "        if (evt.data instanceof Blob) {\n",
       "            var img = evt.data;\n",
       "            if (img.type !== 'image/png') {\n",
       "                /* FIXME: We get \"Resource interpreted as Image but\n",
       "                 * transferred with MIME type text/plain:\" errors on\n",
       "                 * Chrome.  But how to set the MIME type?  It doesn't seem\n",
       "                 * to be part of the websocket stream */\n",
       "                img.type = 'image/png';\n",
       "            }\n",
       "\n",
       "            /* Free the memory for the previous frames */\n",
       "            if (fig.imageObj.src) {\n",
       "                (window.URL || window.webkitURL).revokeObjectURL(\n",
       "                    fig.imageObj.src\n",
       "                );\n",
       "            }\n",
       "\n",
       "            fig.imageObj.src = (window.URL || window.webkitURL).createObjectURL(\n",
       "                img\n",
       "            );\n",
       "            fig.updated_canvas_event();\n",
       "            fig.waiting = false;\n",
       "            return;\n",
       "        } else if (\n",
       "            typeof evt.data === 'string' &&\n",
       "            evt.data.slice(0, 21) === 'data:image/png;base64'\n",
       "        ) {\n",
       "            fig.imageObj.src = evt.data;\n",
       "            fig.updated_canvas_event();\n",
       "            fig.waiting = false;\n",
       "            return;\n",
       "        }\n",
       "\n",
       "        var msg = JSON.parse(evt.data);\n",
       "        var msg_type = msg['type'];\n",
       "\n",
       "        // Call the  \"handle_{type}\" callback, which takes\n",
       "        // the figure and JSON message as its only arguments.\n",
       "        try {\n",
       "            var callback = fig['handle_' + msg_type];\n",
       "        } catch (e) {\n",
       "            console.log(\n",
       "                \"No handler for the '\" + msg_type + \"' message type: \",\n",
       "                msg\n",
       "            );\n",
       "            return;\n",
       "        }\n",
       "\n",
       "        if (callback) {\n",
       "            try {\n",
       "                // console.log(\"Handling '\" + msg_type + \"' message: \", msg);\n",
       "                callback(fig, msg);\n",
       "            } catch (e) {\n",
       "                console.log(\n",
       "                    \"Exception inside the 'handler_\" + msg_type + \"' callback:\",\n",
       "                    e,\n",
       "                    e.stack,\n",
       "                    msg\n",
       "                );\n",
       "            }\n",
       "        }\n",
       "    };\n",
       "};\n",
       "\n",
       "// from https://stackoverflow.com/questions/1114465/getting-mouse-location-in-canvas\n",
       "mpl.findpos = function (e) {\n",
       "    //this section is from http://www.quirksmode.org/js/events_properties.html\n",
       "    var targ;\n",
       "    if (!e) {\n",
       "        e = window.event;\n",
       "    }\n",
       "    if (e.target) {\n",
       "        targ = e.target;\n",
       "    } else if (e.srcElement) {\n",
       "        targ = e.srcElement;\n",
       "    }\n",
       "    if (targ.nodeType === 3) {\n",
       "        // defeat Safari bug\n",
       "        targ = targ.parentNode;\n",
       "    }\n",
       "\n",
       "    // pageX,Y are the mouse positions relative to the document\n",
       "    var boundingRect = targ.getBoundingClientRect();\n",
       "    var x = e.pageX - (boundingRect.left + document.body.scrollLeft);\n",
       "    var y = e.pageY - (boundingRect.top + document.body.scrollTop);\n",
       "\n",
       "    return { x: x, y: y };\n",
       "};\n",
       "\n",
       "/*\n",
       " * return a copy of an object with only non-object keys\n",
       " * we need this to avoid circular references\n",
       " * https://stackoverflow.com/a/24161582/3208463\n",
       " */\n",
       "function simpleKeys(original) {\n",
       "    return Object.keys(original).reduce(function (obj, key) {\n",
       "        if (typeof original[key] !== 'object') {\n",
       "            obj[key] = original[key];\n",
       "        }\n",
       "        return obj;\n",
       "    }, {});\n",
       "}\n",
       "\n",
       "mpl.figure.prototype.mouse_event = function (event, name) {\n",
       "    var canvas_pos = mpl.findpos(event);\n",
       "\n",
       "    if (name === 'button_press') {\n",
       "        this.canvas.focus();\n",
       "        this.canvas_div.focus();\n",
       "    }\n",
       "\n",
       "    var x = canvas_pos.x * this.ratio;\n",
       "    var y = canvas_pos.y * this.ratio;\n",
       "\n",
       "    this.send_message(name, {\n",
       "        x: x,\n",
       "        y: y,\n",
       "        button: event.button,\n",
       "        step: event.step,\n",
       "        guiEvent: simpleKeys(event),\n",
       "    });\n",
       "\n",
       "    /* This prevents the web browser from automatically changing to\n",
       "     * the text insertion cursor when the button is pressed.  We want\n",
       "     * to control all of the cursor setting manually through the\n",
       "     * 'cursor' event from matplotlib */\n",
       "    event.preventDefault();\n",
       "    return false;\n",
       "};\n",
       "\n",
       "mpl.figure.prototype._key_event_extra = function (_event, _name) {\n",
       "    // Handle any extra behaviour associated with a key event\n",
       "};\n",
       "\n",
       "mpl.figure.prototype.key_event = function (event, name) {\n",
       "    // Prevent repeat events\n",
       "    if (name === 'key_press') {\n",
       "        if (event.key === this._key) {\n",
       "            return;\n",
       "        } else {\n",
       "            this._key = event.key;\n",
       "        }\n",
       "    }\n",
       "    if (name === 'key_release') {\n",
       "        this._key = null;\n",
       "    }\n",
       "\n",
       "    var value = '';\n",
       "    if (event.ctrlKey && event.key !== 'Control') {\n",
       "        value += 'ctrl+';\n",
       "    }\n",
       "    else if (event.altKey && event.key !== 'Alt') {\n",
       "        value += 'alt+';\n",
       "    }\n",
       "    else if (event.shiftKey && event.key !== 'Shift') {\n",
       "        value += 'shift+';\n",
       "    }\n",
       "\n",
       "    value += 'k' + event.key;\n",
       "\n",
       "    this._key_event_extra(event, name);\n",
       "\n",
       "    this.send_message(name, { key: value, guiEvent: simpleKeys(event) });\n",
       "    return false;\n",
       "};\n",
       "\n",
       "mpl.figure.prototype.toolbar_button_onclick = function (name) {\n",
       "    if (name === 'download') {\n",
       "        this.handle_save(this, null);\n",
       "    } else {\n",
       "        this.send_message('toolbar_button', { name: name });\n",
       "    }\n",
       "};\n",
       "\n",
       "mpl.figure.prototype.toolbar_button_onmouseover = function (tooltip) {\n",
       "    this.message.textContent = tooltip;\n",
       "};\n",
       "\n",
       "///////////////// REMAINING CONTENT GENERATED BY embed_js.py /////////////////\n",
       "// prettier-ignore\n",
       "var _JSXTOOLS_RESIZE_OBSERVER=function(A){var t,i=new WeakMap,n=new WeakMap,a=new WeakMap,r=new WeakMap,o=new Set;function s(e){if(!(this instanceof s))throw new TypeError(\"Constructor requires 'new' operator\");i.set(this,e)}function h(){throw new TypeError(\"Function is not a constructor\")}function c(e,t,i,n){e=0 in arguments?Number(arguments[0]):0,t=1 in arguments?Number(arguments[1]):0,i=2 in arguments?Number(arguments[2]):0,n=3 in arguments?Number(arguments[3]):0,this.right=(this.x=this.left=e)+(this.width=i),this.bottom=(this.y=this.top=t)+(this.height=n),Object.freeze(this)}function d(){t=requestAnimationFrame(d);var s=new WeakMap,p=new Set;o.forEach((function(t){r.get(t).forEach((function(i){var r=t instanceof window.SVGElement,o=a.get(t),d=r?0:parseFloat(o.paddingTop),f=r?0:parseFloat(o.paddingRight),l=r?0:parseFloat(o.paddingBottom),u=r?0:parseFloat(o.paddingLeft),g=r?0:parseFloat(o.borderTopWidth),m=r?0:parseFloat(o.borderRightWidth),w=r?0:parseFloat(o.borderBottomWidth),b=u+f,F=d+l,v=(r?0:parseFloat(o.borderLeftWidth))+m,W=g+w,y=r?0:t.offsetHeight-W-t.clientHeight,E=r?0:t.offsetWidth-v-t.clientWidth,R=b+v,z=F+W,M=r?t.width:parseFloat(o.width)-R-E,O=r?t.height:parseFloat(o.height)-z-y;if(n.has(t)){var k=n.get(t);if(k[0]===M&&k[1]===O)return}n.set(t,[M,O]);var S=Object.create(h.prototype);S.target=t,S.contentRect=new c(u,d,M,O),s.has(i)||(s.set(i,[]),p.add(i)),s.get(i).push(S)}))})),p.forEach((function(e){i.get(e).call(e,s.get(e),e)}))}return s.prototype.observe=function(i){if(i instanceof window.Element){r.has(i)||(r.set(i,new Set),o.add(i),a.set(i,window.getComputedStyle(i)));var n=r.get(i);n.has(this)||n.add(this),cancelAnimationFrame(t),t=requestAnimationFrame(d)}},s.prototype.unobserve=function(i){if(i instanceof window.Element&&r.has(i)){var n=r.get(i);n.has(this)&&(n.delete(this),n.size||(r.delete(i),o.delete(i))),n.size||r.delete(i),o.size||cancelAnimationFrame(t)}},A.DOMRectReadOnly=c,A.ResizeObserver=s,A.ResizeObserverEntry=h,A}; // eslint-disable-line\n",
       "mpl.toolbar_items = [[\"Home\", \"Reset original view\", \"fa fa-home icon-home\", \"home\"], [\"Back\", \"Back to previous view\", \"fa fa-arrow-left icon-arrow-left\", \"back\"], [\"Forward\", \"Forward to next view\", \"fa fa-arrow-right icon-arrow-right\", \"forward\"], [\"\", \"\", \"\", \"\"], [\"Pan\", \"Left button pans, Right button zooms\\nx/y fixes axis, CTRL fixes aspect\", \"fa fa-arrows icon-move\", \"pan\"], [\"Zoom\", \"Zoom to rectangle\\nx/y fixes axis\", \"fa fa-square-o icon-check-empty\", \"zoom\"], [\"\", \"\", \"\", \"\"], [\"Download\", \"Download plot\", \"fa fa-floppy-o icon-save\", \"download\"]];\n",
       "\n",
       "mpl.extensions = [\"eps\", \"jpeg\", \"pgf\", \"pdf\", \"png\", \"ps\", \"raw\", \"svg\", \"tif\"];\n",
       "\n",
       "mpl.default_extension = \"png\";/* global mpl */\n",
       "\n",
       "var comm_websocket_adapter = function (comm) {\n",
       "    // Create a \"websocket\"-like object which calls the given IPython comm\n",
       "    // object with the appropriate methods. Currently this is a non binary\n",
       "    // socket, so there is still some room for performance tuning.\n",
       "    var ws = {};\n",
       "\n",
       "    ws.binaryType = comm.kernel.ws.binaryType;\n",
       "    ws.readyState = comm.kernel.ws.readyState;\n",
       "    function updateReadyState(_event) {\n",
       "        if (comm.kernel.ws) {\n",
       "            ws.readyState = comm.kernel.ws.readyState;\n",
       "        } else {\n",
       "            ws.readyState = 3; // Closed state.\n",
       "        }\n",
       "    }\n",
       "    comm.kernel.ws.addEventListener('open', updateReadyState);\n",
       "    comm.kernel.ws.addEventListener('close', updateReadyState);\n",
       "    comm.kernel.ws.addEventListener('error', updateReadyState);\n",
       "\n",
       "    ws.close = function () {\n",
       "        comm.close();\n",
       "    };\n",
       "    ws.send = function (m) {\n",
       "        //console.log('sending', m);\n",
       "        comm.send(m);\n",
       "    };\n",
       "    // Register the callback with on_msg.\n",
       "    comm.on_msg(function (msg) {\n",
       "        //console.log('receiving', msg['content']['data'], msg);\n",
       "        var data = msg['content']['data'];\n",
       "        if (data['blob'] !== undefined) {\n",
       "            data = {\n",
       "                data: new Blob(msg['buffers'], { type: data['blob'] }),\n",
       "            };\n",
       "        }\n",
       "        // Pass the mpl event to the overridden (by mpl) onmessage function.\n",
       "        ws.onmessage(data);\n",
       "    });\n",
       "    return ws;\n",
       "};\n",
       "\n",
       "mpl.mpl_figure_comm = function (comm, msg) {\n",
       "    // This is the function which gets called when the mpl process\n",
       "    // starts-up an IPython Comm through the \"matplotlib\" channel.\n",
       "\n",
       "    var id = msg.content.data.id;\n",
       "    // Get hold of the div created by the display call when the Comm\n",
       "    // socket was opened in Python.\n",
       "    var element = document.getElementById(id);\n",
       "    var ws_proxy = comm_websocket_adapter(comm);\n",
       "\n",
       "    function ondownload(figure, _format) {\n",
       "        window.open(figure.canvas.toDataURL());\n",
       "    }\n",
       "\n",
       "    var fig = new mpl.figure(id, ws_proxy, ondownload, element);\n",
       "\n",
       "    // Call onopen now - mpl needs it, as it is assuming we've passed it a real\n",
       "    // web socket which is closed, not our websocket->open comm proxy.\n",
       "    ws_proxy.onopen();\n",
       "\n",
       "    fig.parent_element = element;\n",
       "    fig.cell_info = mpl.find_output_cell(\"<div id='\" + id + \"'></div>\");\n",
       "    if (!fig.cell_info) {\n",
       "        console.error('Failed to find cell for figure', id, fig);\n",
       "        return;\n",
       "    }\n",
       "    fig.cell_info[0].output_area.element.on(\n",
       "        'cleared',\n",
       "        { fig: fig },\n",
       "        fig._remove_fig_handler\n",
       "    );\n",
       "};\n",
       "\n",
       "mpl.figure.prototype.handle_close = function (fig, msg) {\n",
       "    var width = fig.canvas.width / fig.ratio;\n",
       "    fig.cell_info[0].output_area.element.off(\n",
       "        'cleared',\n",
       "        fig._remove_fig_handler\n",
       "    );\n",
       "    fig.resizeObserverInstance.unobserve(fig.canvas_div);\n",
       "\n",
       "    // Update the output cell to use the data from the current canvas.\n",
       "    fig.push_to_output();\n",
       "    var dataURL = fig.canvas.toDataURL();\n",
       "    // Re-enable the keyboard manager in IPython - without this line, in FF,\n",
       "    // the notebook keyboard shortcuts fail.\n",
       "    IPython.keyboard_manager.enable();\n",
       "    fig.parent_element.innerHTML =\n",
       "        '<img src=\"' + dataURL + '\" width=\"' + width + '\">';\n",
       "    fig.close_ws(fig, msg);\n",
       "};\n",
       "\n",
       "mpl.figure.prototype.close_ws = function (fig, msg) {\n",
       "    fig.send_message('closing', msg);\n",
       "    // fig.ws.close()\n",
       "};\n",
       "\n",
       "mpl.figure.prototype.push_to_output = function (_remove_interactive) {\n",
       "    // Turn the data on the canvas into data in the output cell.\n",
       "    var width = this.canvas.width / this.ratio;\n",
       "    var dataURL = this.canvas.toDataURL();\n",
       "    this.cell_info[1]['text/html'] =\n",
       "        '<img src=\"' + dataURL + '\" width=\"' + width + '\">';\n",
       "};\n",
       "\n",
       "mpl.figure.prototype.updated_canvas_event = function () {\n",
       "    // Tell IPython that the notebook contents must change.\n",
       "    IPython.notebook.set_dirty(true);\n",
       "    this.send_message('ack', {});\n",
       "    var fig = this;\n",
       "    // Wait a second, then push the new image to the DOM so\n",
       "    // that it is saved nicely (might be nice to debounce this).\n",
       "    setTimeout(function () {\n",
       "        fig.push_to_output();\n",
       "    }, 1000);\n",
       "};\n",
       "\n",
       "mpl.figure.prototype._init_toolbar = function () {\n",
       "    var fig = this;\n",
       "\n",
       "    var toolbar = document.createElement('div');\n",
       "    toolbar.classList = 'btn-toolbar';\n",
       "    this.root.appendChild(toolbar);\n",
       "\n",
       "    function on_click_closure(name) {\n",
       "        return function (_event) {\n",
       "            return fig.toolbar_button_onclick(name);\n",
       "        };\n",
       "    }\n",
       "\n",
       "    function on_mouseover_closure(tooltip) {\n",
       "        return function (event) {\n",
       "            if (!event.currentTarget.disabled) {\n",
       "                return fig.toolbar_button_onmouseover(tooltip);\n",
       "            }\n",
       "        };\n",
       "    }\n",
       "\n",
       "    fig.buttons = {};\n",
       "    var buttonGroup = document.createElement('div');\n",
       "    buttonGroup.classList = 'btn-group';\n",
       "    var button;\n",
       "    for (var toolbar_ind in mpl.toolbar_items) {\n",
       "        var name = mpl.toolbar_items[toolbar_ind][0];\n",
       "        var tooltip = mpl.toolbar_items[toolbar_ind][1];\n",
       "        var image = mpl.toolbar_items[toolbar_ind][2];\n",
       "        var method_name = mpl.toolbar_items[toolbar_ind][3];\n",
       "\n",
       "        if (!name) {\n",
       "            /* Instead of a spacer, we start a new button group. */\n",
       "            if (buttonGroup.hasChildNodes()) {\n",
       "                toolbar.appendChild(buttonGroup);\n",
       "            }\n",
       "            buttonGroup = document.createElement('div');\n",
       "            buttonGroup.classList = 'btn-group';\n",
       "            continue;\n",
       "        }\n",
       "\n",
       "        button = fig.buttons[name] = document.createElement('button');\n",
       "        button.classList = 'btn btn-default';\n",
       "        button.href = '#';\n",
       "        button.title = name;\n",
       "        button.innerHTML = '<i class=\"fa ' + image + ' fa-lg\"></i>';\n",
       "        button.addEventListener('click', on_click_closure(method_name));\n",
       "        button.addEventListener('mouseover', on_mouseover_closure(tooltip));\n",
       "        buttonGroup.appendChild(button);\n",
       "    }\n",
       "\n",
       "    if (buttonGroup.hasChildNodes()) {\n",
       "        toolbar.appendChild(buttonGroup);\n",
       "    }\n",
       "\n",
       "    // Add the status bar.\n",
       "    var status_bar = document.createElement('span');\n",
       "    status_bar.classList = 'mpl-message pull-right';\n",
       "    toolbar.appendChild(status_bar);\n",
       "    this.message = status_bar;\n",
       "\n",
       "    // Add the close button to the window.\n",
       "    var buttongrp = document.createElement('div');\n",
       "    buttongrp.classList = 'btn-group inline pull-right';\n",
       "    button = document.createElement('button');\n",
       "    button.classList = 'btn btn-mini btn-primary';\n",
       "    button.href = '#';\n",
       "    button.title = 'Stop Interaction';\n",
       "    button.innerHTML = '<i class=\"fa fa-power-off icon-remove icon-large\"></i>';\n",
       "    button.addEventListener('click', function (_evt) {\n",
       "        fig.handle_close(fig, {});\n",
       "    });\n",
       "    button.addEventListener(\n",
       "        'mouseover',\n",
       "        on_mouseover_closure('Stop Interaction')\n",
       "    );\n",
       "    buttongrp.appendChild(button);\n",
       "    var titlebar = this.root.querySelector('.ui-dialog-titlebar');\n",
       "    titlebar.insertBefore(buttongrp, titlebar.firstChild);\n",
       "};\n",
       "\n",
       "mpl.figure.prototype._remove_fig_handler = function (event) {\n",
       "    var fig = event.data.fig;\n",
       "    if (event.target !== this) {\n",
       "        // Ignore bubbled events from children.\n",
       "        return;\n",
       "    }\n",
       "    fig.close_ws(fig, {});\n",
       "};\n",
       "\n",
       "mpl.figure.prototype._root_extra_style = function (el) {\n",
       "    el.style.boxSizing = 'content-box'; // override notebook setting of border-box.\n",
       "};\n",
       "\n",
       "mpl.figure.prototype._canvas_extra_style = function (el) {\n",
       "    // this is important to make the div 'focusable\n",
       "    el.setAttribute('tabindex', 0);\n",
       "    // reach out to IPython and tell the keyboard manager to turn it's self\n",
       "    // off when our div gets focus\n",
       "\n",
       "    // location in version 3\n",
       "    if (IPython.notebook.keyboard_manager) {\n",
       "        IPython.notebook.keyboard_manager.register_events(el);\n",
       "    } else {\n",
       "        // location in version 2\n",
       "        IPython.keyboard_manager.register_events(el);\n",
       "    }\n",
       "};\n",
       "\n",
       "mpl.figure.prototype._key_event_extra = function (event, _name) {\n",
       "    // Check for shift+enter\n",
       "    if (event.shiftKey && event.which === 13) {\n",
       "        this.canvas_div.blur();\n",
       "        // select the cell after this one\n",
       "        var index = IPython.notebook.find_cell_index(this.cell_info[0]);\n",
       "        IPython.notebook.select(index + 1);\n",
       "    }\n",
       "};\n",
       "\n",
       "mpl.figure.prototype.handle_save = function (fig, _msg) {\n",
       "    fig.ondownload(fig, null);\n",
       "};\n",
       "\n",
       "mpl.find_output_cell = function (html_output) {\n",
       "    // Return the cell and output element which can be found *uniquely* in the notebook.\n",
       "    // Note - this is a bit hacky, but it is done because the \"notebook_saving.Notebook\"\n",
       "    // IPython event is triggered only after the cells have been serialised, which for\n",
       "    // our purposes (turning an active figure into a static one), is too late.\n",
       "    var cells = IPython.notebook.get_cells();\n",
       "    var ncells = cells.length;\n",
       "    for (var i = 0; i < ncells; i++) {\n",
       "        var cell = cells[i];\n",
       "        if (cell.cell_type === 'code') {\n",
       "            for (var j = 0; j < cell.output_area.outputs.length; j++) {\n",
       "                var data = cell.output_area.outputs[j];\n",
       "                if (data.data) {\n",
       "                    // IPython >= 3 moved mimebundle to data attribute of output\n",
       "                    data = data.data;\n",
       "                }\n",
       "                if (data['text/html'] === html_output) {\n",
       "                    return [cell, data, j];\n",
       "                }\n",
       "            }\n",
       "        }\n",
       "    }\n",
       "};\n",
       "\n",
       "// Register the function which deals with the matplotlib target/channel.\n",
       "// The kernel may be null if the page has been refreshed.\n",
       "if (IPython.notebook.kernel !== null) {\n",
       "    IPython.notebook.kernel.comm_manager.register_target(\n",
       "        'matplotlib',\n",
       "        mpl.mpl_figure_comm\n",
       "    );\n",
       "}\n"
      ],
      "text/plain": [
       "<IPython.core.display.Javascript object>"
      ]
     },
     "metadata": {},
     "output_type": "display_data"
    },
    {
     "data": {
      "text/html": [
       "<img src=\"data:image/png;base64,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\" width=\"600\">"
      ],
      "text/plain": [
       "<IPython.core.display.HTML object>"
      ]
     },
     "metadata": {},
     "output_type": "display_data"
    },
    {
     "data": {
      "application/vnd.jupyter.widget-view+json": {
       "model_id": "7da07fa0d58c4662827deb5b75560492",
       "version_major": 2,
       "version_minor": 0
      },
      "text/plain": [
       "interactive(children=(FloatSlider(value=0.0, description='theta', max=6.283185307179586, step=0.01), Output())…"
      ]
     },
     "metadata": {},
     "output_type": "display_data"
    }
   ],
   "source": [
    "\n",
    "def g(A, theta):\n",
    "    a, c = np.cos(theta), np.sin(theta)\n",
    "    x = np.linspace(0, a, 100)\n",
    "    y = np.linspace(0, c, 100)\n",
    "    b, d = A @ np.array([a,c])\n",
    "    z = np.linspace(0, b, 100)\n",
    "    w = np.linspace(0, d, 100)\n",
    "    return x, y, z, w\n",
    "\n",
    "fig, ax = plt.subplots(figsize=(6,6))\n",
    "xmin, xmax, ymin, ymax = -2, 2, -2, 2\n",
    "ax.set(xlim=(xmin-1, xmax+1), ylim=(ymin-1, ymax+1), aspect='equal')\n",
    "ax.spines['bottom'].set_position('zero')\n",
    "ax.spines['left'].set_position('zero')\n",
    "ax.spines['top'].set_visible(False)\n",
    "ax.spines['right'].set_visible(False)\n",
    "\n",
    "ax.set_xlabel('x', size=14, labelpad=-24, x=1.03)\n",
    "ax.set_ylabel('y', size=14, labelpad=-21, y=1.02, rotation=0)\n",
    "arrow_fmt = dict(markersize=4, color='black', clip_on=False)\n",
    "ax.plot((1), (0), marker='>', transform=ax.get_yaxis_transform(), **arrow_fmt)\n",
    "ax.plot((0), (1), marker='^', transform=ax.get_xaxis_transform(), **arrow_fmt)\n",
    "\n",
    "x, y, z, w = g(A, 0)\n",
    "line1, = ax.plot(x,y, color='red')\n",
    "line2, = ax.plot(z,w, color='green')\n",
    "\n",
    "angles = np.linspace(0, 2*np.pi, 100)\n",
    "crc = np.array([np.cos(angles), np.sin(angles)])\n",
    "elps = A @ crc\n",
    "ax.plot(crc[0,:], crc[1,:], color='red')\n",
    "ax.plot(elps[0,:], elps[1,:], color='green')\n",
    "\n",
    "def update(theta = 0):\n",
    "    x, y, z, w = g(A,theta)\n",
    "    print(\"x = \"+str(x[-1])+\",\"+str(y[-1]))\n",
    "    print(\"y = \"+str(z[-1])+\",\"+str(w[-1]))\n",
    "    line1.set_data(x, y)\n",
    "    line2.set_data(z, w)\n",
    "    fig.canvas.draw_idle()\n",
    "    \n",
    "interact(update, theta = (0, 2*np.pi, 0.01));"
   ]
  },
  {
   "cell_type": "markdown",
   "id": "6c8629b4",
   "metadata": {
    "hide_input": true,
    "slideshow": {
     "slide_type": "slide"
    }
   },
   "source": [
    "### Example: How to find eigenvalues and eigenvectors\n",
    "\n",
    "$$\n",
    "\\begin{aligned}\n",
    "A &= \\left[\\begin{matrix}0.8 & 0.3\\\\0.2 & 0.7\\end{matrix}\\right]\\\\\n",
    "A\\mathbf x &= \\lambda \\mathbf x\\\\\n",
    "&= \\lambda \\mathbf I \\mathbf x\\\\\n",
    "(A-\\lambda \\mathbf I)\\mathbf x &= \\mathbf 0 \n",
    "\\end{aligned}\n",
    "$$\n",
    "\n",
    "The important matrix now is\n",
    "\n",
    "$$\n",
    "A-\\lambda \\mathbf I = \\begin{bmatrix}\n",
    "0.8-\\lambda & 0.3\\\\\n",
    "0.2 & 0.7-\\lambda\n",
    "\\end{bmatrix}\n",
    "$$"
   ]
  },
  {
   "cell_type": "markdown",
   "id": "b511393c",
   "metadata": {},
   "source": [
    "We are looking for a value of $\\lambda$ such that\n",
    "$$\n",
    "(A-\\lambda \\mathbf I)\\mathbf x = \\mathbf 0 \n",
    "$$\n",
    "\n",
    "with $\\mathbf x \\neq \\mathbf 0$ (otherwise the equation would be trivial).\n",
    "\n",
    "It follows that $(A-\\lambda \\mathbf I)$ is not invertible. Hence:\n",
    "\n",
    "$$\n",
    "|(A-\\lambda \\mathbf I)| = 0\n",
    "$$\n",
    "\n",
    "Using the formula for the determinant of a $2\\times 2$ matrix:\n",
    "\n",
    "$$\n",
    "(0.8-\\lambda)(0.7-\\lambda) - 0.2\\times 0.3 = 0\n",
    "$$\n"
   ]
  },
  {
   "cell_type": "markdown",
   "id": "1f5dd9bd",
   "metadata": {
    "slideshow": {
     "slide_type": "slide"
    }
   },
   "source": [
    "Simplifying:\n",
    "\n",
    "$$\n",
    "\\begin{aligned}\n",
    "(0.8-\\lambda)(0.7-\\lambda) - 0.2\\times 0.3 &= 0\\\\\n",
    "\\lambda ^2 - 1.5\\lambda + 0.56 - 0.06 &= 0\\\\\n",
    "\\lambda^2 - 1.5\\lambda + 0.5 &= 0\n",
    "\\end{aligned}\n",
    "$$\n",
    "\n",
    "There is a formula for finding the solution of quadratic equations (https://en.wikipedia.org/wiki/Quadratic_equation):\n",
    "\n",
    "$$\n",
    "\\begin{aligned}\n",
    "\\lambda_{1/2} = \\frac{3}{4} \\pm \\sqrt{(\\frac{3}{4})^2-\\frac{1}{2}}\\\\\n",
    "&= \\frac{3}{4} \\pm \\sqrt{\\frac{9-8}{16}}\\\\\n",
    "&= \\frac{3}{4} \\pm \\sqrt{\\frac{1}{16}}\\\\\n",
    "&= \\frac{3}{4} \\pm \\frac{1}{4}\\\\\n",
    "\\lambda_1 &= 1\\\\\n",
    "\\lambda_2 &= 0.5\n",
    "\\end{aligned}\n",
    "$$\n",
    "\n",
    "$\\lambda_1$ and $\\lambda_2$ are the eigenvalues of $A$. Now let's find the corresponding eigenvectors."
   ]
  },
  {
   "cell_type": "markdown",
   "id": "1b565015",
   "metadata": {
    "slideshow": {
     "slide_type": "slide"
    }
   },
   "source": [
    "This amount to finding the nullspace of $A-\\lambda\\mathbf I$:\n",
    "\n",
    "- $\\lambda_1$\n",
    "\n",
    "$$\n",
    "\\begin{aligned}\n",
    "(A - \\lambda_1\\mathbf I)\\mathbf x_1 &= \\mathbf 0\\\\\n",
    "\\begin{bmatrix}\n",
    "-0.2 & 0.3\\\\\n",
    "0.2 & -0.3\n",
    "\\end{bmatrix}\\mathbf x_1 &= \\mathbf 0\\\\\n",
    "\\begin{bmatrix}\n",
    "-0.2 & 0.3\\\\\n",
    "0 & 0\n",
    "\\end{bmatrix}\\mathbf x_1 &= \\mathbf 0\\\\\n",
    "\\begin{bmatrix}\n",
    "1 & -1.5\\\\\n",
    "0 & 0\n",
    "\\end{bmatrix}\\mathbf x_1 &= \\mathbf 0\\\\\n",
    "\\mathbf x_1 &= \\begin{bmatrix}1.5\\\\1\\end{bmatrix}\n",
    "\\end{aligned}\n",
    "$$\n",
    "\n"
   ]
  },
  {
   "cell_type": "markdown",
   "id": "9b33c66b",
   "metadata": {
    "slideshow": {
     "slide_type": "slide"
    }
   },
   "source": [
    "\n",
    "- $\\lambda_2$\n",
    "\n",
    "$$\n",
    "\\begin{aligned}\n",
    "(A - \\lambda_2\\mathbf I)\\mathbf x_1 &= \\mathbf 0\\\\\n",
    "\\begin{bmatrix}\n",
    "0.3 & 0.3\\\\\n",
    "0.2 & 0.2\n",
    "\\end{bmatrix}\\mathbf x_2 &= \\mathbf 0\\\\\n",
    "\\begin{bmatrix}\n",
    "0.3 & 0.3\\\\\n",
    "0 & 0\n",
    "\\end{bmatrix}\\mathbf x_2 &= \\mathbf 0\\\\\n",
    "\\begin{bmatrix}\n",
    "1 & 1\\\\\n",
    "0 & 0\n",
    "\\end{bmatrix}\\mathbf x_2 &= \\mathbf 0\\\\\n",
    "\\mathbf x_2 &= \\begin{bmatrix}-1\\\\1\\end{bmatrix}\\\\\n",
    "\\end{aligned}\n",
    "$$"
   ]
  },
  {
   "cell_type": "markdown",
   "id": "6cd39819",
   "metadata": {
    "slideshow": {
     "slide_type": "slide"
    }
   },
   "source": [
    "$\\mathbf x_1$ is the eigenvector *corresponding to* $\\lambda_1$.\n",
    "\n",
    "$\\mathbf x_2$ is the eigenvector *corresponding to* $\\lambda_2$.\n",
    "\n",
    "Any non-zero multiples of $\\mathbf x_1, \\mathbf x_2$ are also eigenvectors. It is common practice to use normalized eigenvectors, i.e.\\ eigenvectors with length 1.\n",
    "\n",
    "$$\n",
    "\\begin{aligned}\n",
    "\\mathbf v_1 &= \\frac{\\mathbf x_1}{||\\mathbf x_1||}\\\\\n",
    "&= \\frac{1}{\\sqrt{13}}\\begin{bmatrix}3\\\\2\\end{bmatrix}\\\\\n",
    "\\mathbf v_2 &= \\frac{\\mathbf x_1}{||\\mathbf x_1||}\\\\\n",
    "&= \\frac{1}{\\sqrt{2}}\\begin{bmatrix}-1\\\\1\\end{bmatrix}\\\\\n",
    "\\end{aligned}\n",
    "$$"
   ]
  },
  {
   "cell_type": "code",
   "execution_count": 4,
   "id": "d201fdf4",
   "metadata": {
    "slideshow": {
     "slide_type": "slide"
    }
   },
   "outputs": [
    {
     "data": {
      "text/latex": [
       "$\\displaystyle \\left[\\begin{matrix}\\frac{4}{5} & \\frac{3}{10}\\\\\\frac{1}{5} & \\frac{7}{10}\\end{matrix}\\right]$"
      ],
      "text/plain": [
       "Matrix([\n",
       "[4/5, 3/10],\n",
       "[1/5, 7/10]])"
      ]
     },
     "execution_count": 4,
     "metadata": {},
     "output_type": "execute_result"
    }
   ],
   "source": [
    "A = Matrix([\n",
    "    [Rational(4,5), Rational(3,10)],\n",
    "    [Rational(1,5), Rational(7,10)]\n",
    "])\n",
    "A"
   ]
  },
  {
   "cell_type": "code",
   "execution_count": 5,
   "id": "d3d5c23c",
   "metadata": {},
   "outputs": [],
   "source": [
    "e1, e2 = A.eigenvects()"
   ]
  },
  {
   "cell_type": "code",
   "execution_count": 6,
   "id": "fd9bf523",
   "metadata": {},
   "outputs": [],
   "source": [
    "lambda1, _, v1 = e1"
   ]
  },
  {
   "cell_type": "code",
   "execution_count": 7,
   "id": "c8bf9c34",
   "metadata": {},
   "outputs": [
    {
     "data": {
      "text/latex": [
       "$\\displaystyle \\frac{1}{2}$"
      ],
      "text/plain": [
       "1/2"
      ]
     },
     "execution_count": 7,
     "metadata": {},
     "output_type": "execute_result"
    }
   ],
   "source": [
    "lambda1"
   ]
  },
  {
   "cell_type": "code",
   "execution_count": 8,
   "id": "f77ce6d4",
   "metadata": {},
   "outputs": [
    {
     "data": {
      "text/latex": [
       "$\\displaystyle \\left[\\begin{matrix}- \\frac{\\sqrt{2}}{2}\\\\\\frac{\\sqrt{2}}{2}\\end{matrix}\\right]$"
      ],
      "text/plain": [
       "Matrix([\n",
       "[-sqrt(2)/2],\n",
       "[ sqrt(2)/2]])"
      ]
     },
     "execution_count": 8,
     "metadata": {},
     "output_type": "execute_result"
    }
   ],
   "source": [
    "v1[0].normalized()"
   ]
  },
  {
   "cell_type": "code",
   "execution_count": 9,
   "id": "db0dc01c",
   "metadata": {},
   "outputs": [],
   "source": [
    "lambda2, _, v2 = e2"
   ]
  },
  {
   "cell_type": "code",
   "execution_count": 10,
   "id": "e1c383d6",
   "metadata": {},
   "outputs": [
    {
     "data": {
      "text/latex": [
       "$\\displaystyle 1$"
      ],
      "text/plain": [
       "1"
      ]
     },
     "execution_count": 10,
     "metadata": {},
     "output_type": "execute_result"
    }
   ],
   "source": [
    "lambda2"
   ]
  },
  {
   "cell_type": "code",
   "execution_count": 11,
   "id": "35f6dfd7",
   "metadata": {},
   "outputs": [
    {
     "data": {
      "text/latex": [
       "$\\displaystyle \\left[\\begin{matrix}\\frac{3 \\sqrt{13}}{13}\\\\\\frac{2 \\sqrt{13}}{13}\\end{matrix}\\right]$"
      ],
      "text/plain": [
       "Matrix([\n",
       "[3*sqrt(13)/13],\n",
       "[2*sqrt(13)/13]])"
      ]
     },
     "execution_count": 11,
     "metadata": {},
     "output_type": "execute_result"
    }
   ],
   "source": [
    "v2[0].normalized()"
   ]
  },
  {
   "cell_type": "code",
   "execution_count": 12,
   "id": "e0ade0b9",
   "metadata": {
    "slideshow": {
     "slide_type": "slide"
    }
   },
   "outputs": [
    {
     "data": {
      "text/plain": [
       "array([[0.8, 0.3],\n",
       "       [0.2, 0.7]])"
      ]
     },
     "execution_count": 12,
     "metadata": {},
     "output_type": "execute_result"
    }
   ],
   "source": [
    "A = np.array([\n",
    "    [0.8, 0.3],\n",
    "    [0.2, 0.7]\n",
    "])\n",
    "A"
   ]
  },
  {
   "cell_type": "code",
   "execution_count": 13,
   "id": "764134f7",
   "metadata": {},
   "outputs": [
    {
     "data": {
      "text/plain": [
       "EigResult(eigenvalues=array([1. , 0.5]), eigenvectors=array([[ 0.83205029, -0.70710678],\n",
       "       [ 0.5547002 ,  0.70710678]]))"
      ]
     },
     "execution_count": 13,
     "metadata": {},
     "output_type": "execute_result"
    }
   ],
   "source": [
    "np.linalg.eig(A)"
   ]
  },
  {
   "cell_type": "markdown",
   "id": "2955e66a",
   "metadata": {
    "slideshow": {
     "slide_type": "slide"
    }
   },
   "source": [
    "\n",
    "\n",
    "### Procedure to find eigenvalues and eigenvectors:\n",
    "\n",
    "1. Construct $A-\\lambda \\mathbf I$ with $\\lambda$ as unknown.\n",
    "2. Set $|A-\\lambda \\mathbf I| = 0$ and solve for $\\lambda$. All solutions are eigenvalues.\n",
    "3. For each solution for $\\lambda$, find the nullspace of $|A-\\lambda \\mathbf I| = 0$. Each vector in the nullspace is an eigenvector corresponding to this solution."
   ]
  },
  {
   "cell_type": "markdown",
   "id": "fbdc1706",
   "metadata": {},
   "source": [
    "##### Example 2: Projection matrix\n",
    "\n",
    "$$\n",
    "A = \\begin{bmatrix}\n",
    "\\frac{1}{2} & \\frac{1}{2}\\\\\n",
    "\\frac{1}{2} & \\frac{1}{2}\n",
    "\\end{bmatrix}\n",
    "$$\n",
    "\n",
    "- find eigenvalues\n",
    "\n",
    "$$\n",
    "\\begin{aligned}\n",
    "\\begin{vmatrix}\n",
    "\\frac{1}{2}-\\lambda & \\frac{1}{2}\\\\\n",
    "\\frac{1}{2} & \\frac{1}{2}-\\lambda\n",
    "\\end{vmatrix} &= 0\\\\\n",
    "(\\frac{1}{2}-\\lambda)^2 - \\frac{1}{4} &= 0\\\\\n",
    "\\lambda^2 -\\lambda &= 0\\\\\n",
    "\\lambda(\\lambda-1) &= 0\\\\\n",
    "\\lambda_1 &= 1\\\\\n",
    "\\lambda_2 &= 0\n",
    "\\end{aligned}\n",
    "$$"
   ]
  },
  {
   "cell_type": "markdown",
   "id": "0c700c06",
   "metadata": {
    "slideshow": {
     "slide_type": "slide"
    }
   },
   "source": [
    "- find eigenvectors\n",
    "\n",
    "    - $\\lambda_1$: \n",
    "    $$\n",
    "    \\begin{aligned}\n",
    "    \\begin{bmatrix}\n",
    "    -\\frac{1}{2} & \\frac{1}{2}\\\\\n",
    "    \\frac{1}{2} & -\\frac{1}{2}\n",
    "    \\end{bmatrix}\\mathbf x_1 &= \\mathbf 0\\\\\n",
    "    \\mathbf x_1 &= \\begin{bmatrix}1\\\\1\\end{bmatrix}\n",
    "    \\end{aligned}\n",
    "    $$\n",
    "    \n",
    "    - $\\lambda_2$:\n",
    "    $$\n",
    "    \\begin{aligned}\n",
    "    \\begin{bmatrix}\n",
    "    \\frac{1}{2} & \\frac{1}{2}\\\\\n",
    "    \\frac{1}{2} & \\frac{1}{2}\n",
    "    \\end{bmatrix}\\mathbf x_2 &= \\mathbf 0\\\\\n",
    "    \\mathbf x_2 &= \\begin{bmatrix}-1\\\\1\\end{bmatrix}\n",
    "    \\end{aligned}\n",
    "    $$"
   ]
  },
  {
   "cell_type": "markdown",
   "id": "a4ee7e80",
   "metadata": {
    "slideshow": {
     "slide_type": "slide"
    }
   },
   "source": [
    "##### Example 3: Reflection matrix\n",
    "\n",
    "$$\n",
    "A = \\begin{bmatrix}\n",
    "0 & 1\\\\\n",
    "1 & 0\n",
    "\\end{bmatrix}\n",
    "$$\n",
    "\n",
    "- find eigenvalues\n",
    "\n",
    "$$\n",
    "\\begin{aligned}\n",
    "\\begin{vmatrix}\n",
    "-\\lambda & 1\\\\\n",
    "1 & -\\lambda\n",
    "\\end{vmatrix} &= 0\\\\\n",
    "\\lambda^2-1 &= 0\\\\\n",
    "\\lambda^2 &= 1\\\\\n",
    "\\lambda_1 &= 1\\\\\n",
    "\\lambda_2 &= -1\n",
    "\\end{aligned}\n",
    "$$"
   ]
  },
  {
   "cell_type": "markdown",
   "id": "afb03c09",
   "metadata": {
    "slideshow": {
     "slide_type": "slide"
    }
   },
   "source": [
    "- find eigenvectors\n",
    "\n",
    "    - $\\lambda_1$: \n",
    "    $$\n",
    "    \\begin{aligned}\n",
    "    \\begin{bmatrix}\n",
    "    -1 & 1\\\\\n",
    "    1 & -1\n",
    "    \\end{bmatrix}\\mathbf x_1 &= \\mathbf 0\\\\\n",
    "    \\mathbf x_1 &= \\begin{bmatrix}1\\\\1\\end{bmatrix}\n",
    "    \\end{aligned}\n",
    "    $$\n",
    "    \n",
    "    - $\\lambda_2$:\n",
    "    $$\n",
    "    \\begin{aligned}\n",
    "    \\begin{bmatrix}\n",
    "    1 & 1\\\\\n",
    "    1 & 1\n",
    "    \\end{bmatrix}\\mathbf x_2 &= \\mathbf 0\\\\\n",
    "    \\mathbf x_2 &= \\begin{bmatrix}-1\\\\1\\end{bmatrix}\n",
    "    \\end{aligned}\n",
    "    $$"
   ]
  },
  {
   "cell_type": "markdown",
   "id": "054398bb",
   "metadata": {
    "slideshow": {
     "slide_type": "slide"
    }
   },
   "source": [
    "##### Example 4: Rotation matrix\n",
    "\n",
    "$$\n",
    "A = \\begin{bmatrix}\n",
    "\\frac{\\sqrt{2}}{2} & \\frac{\\sqrt{2}}{2}\\\\\n",
    "-\\frac{\\sqrt{2}}{2} & \\frac{\\sqrt{2}}{2}\n",
    "\\end{bmatrix}\n",
    "$$\n",
    "\n",
    "- find eigenvalues\n",
    "\n",
    "$$\n",
    "\\begin{aligned}\n",
    "\\begin{vmatrix}\n",
    "\\frac{\\sqrt{2}}{2}-\\lambda & \\frac{\\sqrt{2}}{2}\\\\\n",
    "-\\frac{\\sqrt{2}}{2} & \\frac{\\sqrt{2}}{2}-\\lambda\n",
    "\\end{vmatrix} &= 0\\\\\n",
    "(\\frac{\\sqrt{2}}{2}-\\lambda)^2 + \\frac{1}{2} &= 0\\\\\n",
    "\\lambda^2 - \\sqrt{2}\\lambda + 1 &= 0\\\\\n",
    "\\lambda_{1/2} &= \\frac{\\sqrt{2}}{2} \\pm \\sqrt{\\frac{1}{2} - 1}\\\\\n",
    " &= \\frac{\\sqrt{2}}{2} \\pm \\sqrt{-\\frac{1}{2}}\n",
    "\\end{aligned}\n",
    "$$\n",
    "\n",
    "**There is no solution within the real numbers!**\n",
    "\n",
    "(There are complex eigenvalues – and complex eigenvectors – for this matrix, but this is beyond the scope of this course.)"
   ]
  },
  {
   "cell_type": "markdown",
   "id": "b88fe023",
   "metadata": {
    "slideshow": {
     "slide_type": "slide"
    }
   },
   "source": [
    "##### Example 5: Multiple eigenvalues\n",
    "$$\n",
    "A = \\begin{bmatrix}\n",
    "1 & 0\\\\\n",
    "0 & 1\n",
    "\\end{bmatrix}\n",
    "$$\n",
    "\n",
    "- find eigenvalues\n",
    "\n",
    "$$\n",
    "\\begin{aligned}\n",
    "\\begin{vmatrix}\n",
    "1-\\lambda & 0\\\\\n",
    "0 & 1-\\lambda\n",
    "\\end{vmatrix} &= 0\\\\\n",
    "(1-\\lambda)^2 &= 0\\\\\n",
    "1-\\lambda &= 0\\\\\n",
    "\\lambda &= 1\n",
    "\\end{aligned}\n",
    "$$\n",
    "\n",
    "- find eigenvectors\n",
    "\n",
    "$$\n",
    "\\begin{bmatrix}\n",
    "0 & 0\\\\\n",
    "0 & 0\n",
    "\\end{bmatrix}\\mathbf x = \\mathbf 0\n",
    "$$\n",
    "\n",
    "**Any vector is an eigenvector of the identity matrix.**"
   ]
  },
  {
   "cell_type": "markdown",
   "id": "858ce872",
   "metadata": {
    "slideshow": {
     "slide_type": "slide"
    }
   },
   "source": [
    "##### Example 6: Defective eigenvalues\n",
    "\n",
    "$$\n",
    "A = \\begin{bmatrix}\n",
    "1 & 1\\\\\n",
    "0 & 1\n",
    "\\end{bmatrix}\n",
    "$$\n",
    "\n",
    "- find eigenvalues\n",
    "\n",
    "$$\n",
    "\\begin{aligned}\n",
    "\\begin{vmatrix}\n",
    "1-\\lambda & 1\\\\\n",
    "0 & 1-\\lambda\n",
    "\\end{vmatrix} &= 0\\\\\n",
    "(1-\\lambda)^2 &= 0\\\\\n",
    "1-\\lambda &= 0\\\\\n",
    "\\lambda &= 1\n",
    "\\end{aligned}\n",
    "$$\n",
    "\n",
    "- find eigenvectors\n",
    "\n",
    "$$\n",
    "\\begin{aligned}\n",
    "\\begin{bmatrix}\n",
    "0 & 1\\\\\n",
    "0 & 0\n",
    "\\end{bmatrix}\n",
    "\\mathbf x &= \\mathbf 0\\\\\n",
    "\\mathbf x &= \\begin{bmatrix}1\\\\0\\end{bmatrix}\n",
    "\\end{aligned}\n",
    "$$\n",
    "\n",
    "**This matrix has only one eigenvalue and one eigenvector.**"
   ]
  },
  {
   "cell_type": "markdown",
   "id": "cc9037e8",
   "metadata": {
    "slideshow": {
     "slide_type": "slide"
    }
   },
   "source": [
    "### Larger matrices\n",
    "\n",
    "$$\n",
    "A = \\begin{bmatrix}\n",
    "-1 & 2 & 2\\\\\n",
    "2 & 2 & -1\\\\\n",
    "2 & -1 & 2\n",
    "\\end{bmatrix}\n",
    "$$\n",
    "\n",
    "- finding eigenvalues\n",
    "\n",
    "$$\n",
    "\\begin{aligned}\n",
    "\\begin{vmatrix}\n",
    "-1-\\lambda & 2 & 2\\\\\n",
    "2 & 2-\\lambda & -1\\\\\n",
    "2 & -1 & 2-\\lambda\n",
    "\\end{vmatrix} &= 0\\\\\n",
    "(-1-\\lambda)(2-\\lambda)^2 -4 -4 -4(2-\\lambda)-4(2-\\lambda) + 1 + \\lambda &= 0\\\\\n",
    "-\\lambda^2+4\\lambda-4-\\lambda^3+4\\lambda^2-4\\lambda -4 -4 -8+4\\lambda-8+4\\lambda + 1 + \\lambda &= 0\\\\\n",
    "-\\lambda^3 + 3\\lambda^2 + 9\\lambda - 27&= 0\\\\\n",
    "\\lambda^3 - 3\\lambda^2 - 9\\lambda + 27&= 0\n",
    "\\end{aligned}\n",
    "$$\n"
   ]
  },
  {
   "cell_type": "markdown",
   "id": "8c916755",
   "metadata": {},
   "source": [
    "In the general case, solving a cubic equation by hand is very hard. In this particular example, the solution is:\n",
    "\n",
    "$$\n",
    "\\begin{aligned}\n",
    "\\lambda^3 - 3\\lambda^2 - 9\\lambda + 27 &= (\\lambda -3)^2 (\\lambda+3)\\\\\n",
    "\\lambda_1 &= 3\\\\\n",
    "\\lambda_2 &= -3\n",
    "\\end{aligned}\n",
    "$$\n",
    "\n"
   ]
  },
  {
   "cell_type": "markdown",
   "id": "16223894",
   "metadata": {
    "slideshow": {
     "slide_type": "slide"
    }
   },
   "source": [
    "\n",
    "\n",
    "- eigenvectors"
   ]
  },
  {
   "cell_type": "code",
   "execution_count": 14,
   "id": "ef01cfd0",
   "metadata": {},
   "outputs": [
    {
     "data": {
      "text/latex": [
       "$\\displaystyle \\left[\\begin{matrix}-1 & 2 & 2\\\\2 & 2 & -1\\\\2 & -1 & 2\\end{matrix}\\right]$"
      ],
      "text/plain": [
       "Matrix([\n",
       "[-1,  2,  2],\n",
       "[ 2,  2, -1],\n",
       "[ 2, -1,  2]])"
      ]
     },
     "execution_count": 14,
     "metadata": {},
     "output_type": "execute_result"
    }
   ],
   "source": [
    "A = Matrix([\n",
    "    [-1,2,2],\n",
    "    [2,2,-1],\n",
    "    [2,-1,2]\n",
    "])\n",
    "A"
   ]
  },
  {
   "cell_type": "code",
   "execution_count": 15,
   "id": "7018c0de",
   "metadata": {},
   "outputs": [
    {
     "data": {
      "text/plain": [
       "{-3: 1, 3: 2}"
      ]
     },
     "execution_count": 15,
     "metadata": {},
     "output_type": "execute_result"
    }
   ],
   "source": [
    "A.eigenvals()"
   ]
  },
  {
   "cell_type": "markdown",
   "id": "cc34ddc5",
   "metadata": {},
   "source": [
    "(In this dictionary, the keys are the eigenvalues and the values are the *algebraic multiplicity*.)"
   ]
  },
  {
   "cell_type": "code",
   "execution_count": 16,
   "id": "05ebe5ec",
   "metadata": {},
   "outputs": [],
   "source": [
    "e1, e2 = A.eigenvects()"
   ]
  },
  {
   "cell_type": "code",
   "execution_count": 17,
   "id": "26e73b6d",
   "metadata": {},
   "outputs": [
    {
     "data": {
      "text/latex": [
       "$\\displaystyle -3$"
      ],
      "text/plain": [
       "-3"
      ]
     },
     "execution_count": 17,
     "metadata": {},
     "output_type": "execute_result"
    }
   ],
   "source": [
    "e1[0]"
   ]
  },
  {
   "cell_type": "code",
   "execution_count": 18,
   "id": "86046c65",
   "metadata": {},
   "outputs": [
    {
     "data": {
      "text/latex": [
       "$\\displaystyle \\left[\\begin{matrix}-2\\\\1\\\\1\\end{matrix}\\right]$"
      ],
      "text/plain": [
       "Matrix([\n",
       "[-2],\n",
       "[ 1],\n",
       "[ 1]])"
      ]
     },
     "execution_count": 18,
     "metadata": {},
     "output_type": "execute_result"
    }
   ],
   "source": [
    "e1[2][0]"
   ]
  },
  {
   "cell_type": "code",
   "execution_count": 19,
   "id": "cf4b0d33",
   "metadata": {},
   "outputs": [
    {
     "data": {
      "text/latex": [
       "$\\displaystyle 3$"
      ],
      "text/plain": [
       "3"
      ]
     },
     "execution_count": 19,
     "metadata": {},
     "output_type": "execute_result"
    }
   ],
   "source": [
    "e2[0]"
   ]
  },
  {
   "cell_type": "code",
   "execution_count": 20,
   "id": "2c03d6f5",
   "metadata": {},
   "outputs": [
    {
     "data": {
      "text/latex": [
       "$\\displaystyle \\left[\\begin{matrix}\\frac{1}{2}\\\\1\\\\0\\end{matrix}\\right]$"
      ],
      "text/plain": [
       "Matrix([\n",
       "[1/2],\n",
       "[  1],\n",
       "[  0]])"
      ]
     },
     "execution_count": 20,
     "metadata": {},
     "output_type": "execute_result"
    }
   ],
   "source": [
    "e2[2][0]"
   ]
  },
  {
   "cell_type": "code",
   "execution_count": 21,
   "id": "755698f1",
   "metadata": {
    "slideshow": {
     "slide_type": "slide"
    }
   },
   "outputs": [
    {
     "data": {
      "text/latex": [
       "$\\displaystyle \\left[\\begin{matrix}\\frac{1}{2}\\\\0\\\\1\\end{matrix}\\right]$"
      ],
      "text/plain": [
       "Matrix([\n",
       "[1/2],\n",
       "[  0],\n",
       "[  1]])"
      ]
     },
     "execution_count": 21,
     "metadata": {},
     "output_type": "execute_result"
    }
   ],
   "source": [
    "e2[2][1]"
   ]
  },
  {
   "cell_type": "markdown",
   "id": "af548ac3",
   "metadata": {},
   "source": [
    "Note that there are two eigenvectors corresponding to the eigenvalue 3."
   ]
  },
  {
   "cell_type": "code",
   "execution_count": 22,
   "id": "cc2e3e5a",
   "metadata": {
    "slideshow": {
     "slide_type": "slide"
    }
   },
   "outputs": [
    {
     "data": {
      "text/latex": [
       "$\\displaystyle \\left[\\begin{matrix}-1 & 2 & 3\\\\4 & 5 & 6\\\\7 & 8 & 9\\end{matrix}\\right]$"
      ],
      "text/plain": [
       "Matrix([\n",
       "[-1, 2, 3],\n",
       "[ 4, 5, 6],\n",
       "[ 7, 8, 9]])"
      ]
     },
     "execution_count": 22,
     "metadata": {},
     "output_type": "execute_result"
    }
   ],
   "source": [
    "A = Matrix([\n",
    "    [-1,2,3],\n",
    "    [4,5,6],\n",
    "    [7,8,9]\n",
    "])\n",
    "A"
   ]
  },
  {
   "cell_type": "code",
   "execution_count": 23,
   "id": "ffeae032",
   "metadata": {},
   "outputs": [],
   "source": [
    "e1, e2, e3 = A.eigenvects()"
   ]
  },
  {
   "cell_type": "code",
   "execution_count": 24,
   "id": "d47eafce",
   "metadata": {},
   "outputs": [
    {
     "data": {
      "text/latex": [
       "$\\displaystyle \\frac{13}{3} + \\left(- \\frac{1}{2} - \\frac{\\sqrt{3} i}{2}\\right) \\sqrt[3]{\\frac{4969}{27} + \\frac{\\sqrt{471498} i}{9}} + \\frac{307}{9 \\left(- \\frac{1}{2} - \\frac{\\sqrt{3} i}{2}\\right) \\sqrt[3]{\\frac{4969}{27} + \\frac{\\sqrt{471498} i}{9}}}$"
      ],
      "text/plain": [
       "13/3 + (-1/2 - sqrt(3)*I/2)*(4969/27 + sqrt(471498)*I/9)**(1/3) + 307/(9*(-1/2 - sqrt(3)*I/2)*(4969/27 + sqrt(471498)*I/9)**(1/3))"
      ]
     },
     "execution_count": 24,
     "metadata": {},
     "output_type": "execute_result"
    }
   ],
   "source": [
    "e1[0]"
   ]
  },
  {
   "cell_type": "code",
   "execution_count": 25,
   "id": "ab31601e",
   "metadata": {
    "slideshow": {
     "slide_type": "slide"
    }
   },
   "outputs": [
    {
     "data": {
      "text/latex": [
       "$\\displaystyle \\left[\\begin{matrix}\\frac{306}{89} + \\frac{63 \\left(- \\frac{1}{2} - \\frac{\\sqrt{3} i}{2}\\right) \\sqrt[3]{\\frac{4969}{27} + \\frac{\\sqrt{471498} i}{9}}}{89} - \\frac{4 \\left(\\frac{13}{3} + \\left(- \\frac{1}{2} - \\frac{\\sqrt{3} i}{2}\\right) \\sqrt[3]{\\frac{4969}{27} + \\frac{\\sqrt{471498} i}{9}} + \\frac{307}{9 \\left(- \\frac{1}{2} - \\frac{\\sqrt{3} i}{2}\\right) \\sqrt[3]{\\frac{4969}{27} + \\frac{\\sqrt{471498} i}{9}}}\\right)^{2}}{89} + \\frac{2149}{89 \\left(- \\frac{1}{2} - \\frac{\\sqrt{3} i}{2}\\right) \\sqrt[3]{\\frac{4969}{27} + \\frac{\\sqrt{471498} i}{9}}}\\\\- \\frac{959}{267} - \\frac{13508}{801 \\left(- \\frac{1}{2} - \\frac{\\sqrt{3} i}{2}\\right) \\sqrt[3]{\\frac{4969}{27} + \\frac{\\sqrt{471498} i}{9}}} + \\frac{7 \\left(\\frac{13}{3} + \\left(- \\frac{1}{2} - \\frac{\\sqrt{3} i}{2}\\right) \\sqrt[3]{\\frac{4969}{27} + \\frac{\\sqrt{471498} i}{9}} + \\frac{307}{9 \\left(- \\frac{1}{2} - \\frac{\\sqrt{3} i}{2}\\right) \\sqrt[3]{\\frac{4969}{27} + \\frac{\\sqrt{471498} i}{9}}}\\right)^{2}}{178} - \\frac{44 \\left(- \\frac{1}{2} - \\frac{\\sqrt{3} i}{2}\\right) \\sqrt[3]{\\frac{4969}{27} + \\frac{\\sqrt{471498} i}{9}}}{89}\\\\1\\end{matrix}\\right]$"
      ],
      "text/plain": [
       "Matrix([\n",
       "[     306/89 + 63*(-1/2 - sqrt(3)*I/2)*(4969/27 + sqrt(471498)*I/9)**(1/3)/89 - 4*(13/3 + (-1/2 - sqrt(3)*I/2)*(4969/27 + sqrt(471498)*I/9)**(1/3) + 307/(9*(-1/2 - sqrt(3)*I/2)*(4969/27 + sqrt(471498)*I/9)**(1/3)))**2/89 + 2149/(89*(-1/2 - sqrt(3)*I/2)*(4969/27 + sqrt(471498)*I/9)**(1/3))],\n",
       "[-959/267 - 13508/(801*(-1/2 - sqrt(3)*I/2)*(4969/27 + sqrt(471498)*I/9)**(1/3)) + 7*(13/3 + (-1/2 - sqrt(3)*I/2)*(4969/27 + sqrt(471498)*I/9)**(1/3) + 307/(9*(-1/2 - sqrt(3)*I/2)*(4969/27 + sqrt(471498)*I/9)**(1/3)))**2/178 - 44*(-1/2 - sqrt(3)*I/2)*(4969/27 + sqrt(471498)*I/9)**(1/3)/89],\n",
       "[                                                                                                                                                                                                                                                                                               1]])"
      ]
     },
     "execution_count": 25,
     "metadata": {},
     "output_type": "execute_result"
    }
   ],
   "source": [
    "e1[2][0]"
   ]
  },
  {
   "cell_type": "code",
   "execution_count": 26,
   "id": "7087786e",
   "metadata": {
    "slideshow": {
     "slide_type": "slide"
    }
   },
   "outputs": [
    {
     "data": {
      "text/latex": [
       "$\\displaystyle \\frac{13}{3} + \\frac{307}{9 \\left(- \\frac{1}{2} + \\frac{\\sqrt{3} i}{2}\\right) \\sqrt[3]{\\frac{4969}{27} + \\frac{\\sqrt{471498} i}{9}}} + \\left(- \\frac{1}{2} + \\frac{\\sqrt{3} i}{2}\\right) \\sqrt[3]{\\frac{4969}{27} + \\frac{\\sqrt{471498} i}{9}}$"
      ],
      "text/plain": [
       "13/3 + 307/(9*(-1/2 + sqrt(3)*I/2)*(4969/27 + sqrt(471498)*I/9)**(1/3)) + (-1/2 + sqrt(3)*I/2)*(4969/27 + sqrt(471498)*I/9)**(1/3)"
      ]
     },
     "execution_count": 26,
     "metadata": {},
     "output_type": "execute_result"
    }
   ],
   "source": [
    "e2[0]"
   ]
  },
  {
   "cell_type": "code",
   "execution_count": 27,
   "id": "326fe5c5",
   "metadata": {},
   "outputs": [
    {
     "data": {
      "text/latex": [
       "$\\displaystyle \\left[\\begin{matrix}\\frac{306}{89} + \\frac{2149}{89 \\left(- \\frac{1}{2} + \\frac{\\sqrt{3} i}{2}\\right) \\sqrt[3]{\\frac{4969}{27} + \\frac{\\sqrt{471498} i}{9}}} - \\frac{4 \\left(\\frac{13}{3} + \\frac{307}{9 \\left(- \\frac{1}{2} + \\frac{\\sqrt{3} i}{2}\\right) \\sqrt[3]{\\frac{4969}{27} + \\frac{\\sqrt{471498} i}{9}}} + \\left(- \\frac{1}{2} + \\frac{\\sqrt{3} i}{2}\\right) \\sqrt[3]{\\frac{4969}{27} + \\frac{\\sqrt{471498} i}{9}}\\right)^{2}}{89} + \\frac{63 \\left(- \\frac{1}{2} + \\frac{\\sqrt{3} i}{2}\\right) \\sqrt[3]{\\frac{4969}{27} + \\frac{\\sqrt{471498} i}{9}}}{89}\\\\- \\frac{959}{267} - \\frac{44 \\left(- \\frac{1}{2} + \\frac{\\sqrt{3} i}{2}\\right) \\sqrt[3]{\\frac{4969}{27} + \\frac{\\sqrt{471498} i}{9}}}{89} + \\frac{7 \\left(\\frac{13}{3} + \\frac{307}{9 \\left(- \\frac{1}{2} + \\frac{\\sqrt{3} i}{2}\\right) \\sqrt[3]{\\frac{4969}{27} + \\frac{\\sqrt{471498} i}{9}}} + \\left(- \\frac{1}{2} + \\frac{\\sqrt{3} i}{2}\\right) \\sqrt[3]{\\frac{4969}{27} + \\frac{\\sqrt{471498} i}{9}}\\right)^{2}}{178} - \\frac{13508}{801 \\left(- \\frac{1}{2} + \\frac{\\sqrt{3} i}{2}\\right) \\sqrt[3]{\\frac{4969}{27} + \\frac{\\sqrt{471498} i}{9}}}\\\\1\\end{matrix}\\right]$"
      ],
      "text/plain": [
       "Matrix([\n",
       "[     306/89 + 2149/(89*(-1/2 + sqrt(3)*I/2)*(4969/27 + sqrt(471498)*I/9)**(1/3)) - 4*(13/3 + 307/(9*(-1/2 + sqrt(3)*I/2)*(4969/27 + sqrt(471498)*I/9)**(1/3)) + (-1/2 + sqrt(3)*I/2)*(4969/27 + sqrt(471498)*I/9)**(1/3))**2/89 + 63*(-1/2 + sqrt(3)*I/2)*(4969/27 + sqrt(471498)*I/9)**(1/3)/89],\n",
       "[-959/267 - 44*(-1/2 + sqrt(3)*I/2)*(4969/27 + sqrt(471498)*I/9)**(1/3)/89 + 7*(13/3 + 307/(9*(-1/2 + sqrt(3)*I/2)*(4969/27 + sqrt(471498)*I/9)**(1/3)) + (-1/2 + sqrt(3)*I/2)*(4969/27 + sqrt(471498)*I/9)**(1/3))**2/178 - 13508/(801*(-1/2 + sqrt(3)*I/2)*(4969/27 + sqrt(471498)*I/9)**(1/3))],\n",
       "[                                                                                                                                                                                                                                                                                               1]])"
      ]
     },
     "execution_count": 27,
     "metadata": {},
     "output_type": "execute_result"
    }
   ],
   "source": [
    "e2[2][0]"
   ]
  },
  {
   "cell_type": "code",
   "execution_count": 28,
   "id": "79d77dd9",
   "metadata": {
    "slideshow": {
     "slide_type": "slide"
    }
   },
   "outputs": [
    {
     "data": {
      "text/latex": [
       "$\\displaystyle \\frac{13}{3} + \\frac{307}{9 \\sqrt[3]{\\frac{4969}{27} + \\frac{\\sqrt{471498} i}{9}}} + \\sqrt[3]{\\frac{4969}{27} + \\frac{\\sqrt{471498} i}{9}}$"
      ],
      "text/plain": [
       "13/3 + 307/(9*(4969/27 + sqrt(471498)*I/9)**(1/3)) + (4969/27 + sqrt(471498)*I/9)**(1/3)"
      ]
     },
     "execution_count": 28,
     "metadata": {},
     "output_type": "execute_result"
    }
   ],
   "source": [
    "e3[0]"
   ]
  },
  {
   "cell_type": "code",
   "execution_count": 29,
   "id": "adc3ee71",
   "metadata": {},
   "outputs": [
    {
     "data": {
      "text/latex": [
       "$\\displaystyle \\left[\\begin{matrix}\\frac{306}{89} + \\frac{2149}{89 \\sqrt[3]{\\frac{4969}{27} + \\frac{\\sqrt{471498} i}{9}}} - \\frac{4 \\left(\\frac{13}{3} + \\frac{307}{9 \\sqrt[3]{\\frac{4969}{27} + \\frac{\\sqrt{471498} i}{9}}} + \\sqrt[3]{\\frac{4969}{27} + \\frac{\\sqrt{471498} i}{9}}\\right)^{2}}{89} + \\frac{63 \\sqrt[3]{\\frac{4969}{27} + \\frac{\\sqrt{471498} i}{9}}}{89}\\\\- \\frac{959}{267} - \\frac{44 \\sqrt[3]{\\frac{4969}{27} + \\frac{\\sqrt{471498} i}{9}}}{89} + \\frac{7 \\left(\\frac{13}{3} + \\frac{307}{9 \\sqrt[3]{\\frac{4969}{27} + \\frac{\\sqrt{471498} i}{9}}} + \\sqrt[3]{\\frac{4969}{27} + \\frac{\\sqrt{471498} i}{9}}\\right)^{2}}{178} - \\frac{13508}{801 \\sqrt[3]{\\frac{4969}{27} + \\frac{\\sqrt{471498} i}{9}}}\\\\1\\end{matrix}\\right]$"
      ],
      "text/plain": [
       "Matrix([\n",
       "[     306/89 + 2149/(89*(4969/27 + sqrt(471498)*I/9)**(1/3)) - 4*(13/3 + 307/(9*(4969/27 + sqrt(471498)*I/9)**(1/3)) + (4969/27 + sqrt(471498)*I/9)**(1/3))**2/89 + 63*(4969/27 + sqrt(471498)*I/9)**(1/3)/89],\n",
       "[-959/267 - 44*(4969/27 + sqrt(471498)*I/9)**(1/3)/89 + 7*(13/3 + 307/(9*(4969/27 + sqrt(471498)*I/9)**(1/3)) + (4969/27 + sqrt(471498)*I/9)**(1/3))**2/178 - 13508/(801*(4969/27 + sqrt(471498)*I/9)**(1/3))],\n",
       "[                                                                                                                                                                                                           1]])"
      ]
     },
     "execution_count": 29,
     "metadata": {},
     "output_type": "execute_result"
    }
   ],
   "source": [
    "e3[2][0]"
   ]
  },
  {
   "cell_type": "code",
   "execution_count": 30,
   "id": "7857cb6d",
   "metadata": {},
   "outputs": [
    {
     "data": {
      "text/latex": [
       "$\\displaystyle \\left[\\begin{matrix}0 & -3 & 2 & -1\\\\-3 & 9 & -6 & 3\\\\2 & -6 & 4 & -2\\\\-1 & 3 & -2 & 2\\end{matrix}\\right]$"
      ],
      "text/plain": [
       "Matrix([\n",
       "[ 0, -3,  2, -1],\n",
       "[-3,  9, -6,  3],\n",
       "[ 2, -6,  4, -2],\n",
       "[-1,  3, -2,  2]])"
      ]
     },
     "execution_count": 30,
     "metadata": {},
     "output_type": "execute_result"
    }
   ],
   "source": [
    "A = Matrix([\n",
    "    [0,-3,2,-1],\n",
    "    [-3,9,-6,3],\n",
    "    [2,-6,4,-2],\n",
    "    [-1, 3, -2, 2]\n",
    "])\n",
    "A"
   ]
  },
  {
   "cell_type": "code",
   "execution_count": 31,
   "id": "9b560343",
   "metadata": {
    "slideshow": {
     "slide_type": "slide"
    }
   },
   "outputs": [
    {
     "data": {
      "text/plain": [
       "[(0,\n",
       "  1,\n",
       "  [Matrix([\n",
       "   [  0],\n",
       "   [2/3],\n",
       "   [  1],\n",
       "   [  0]])]),\n",
       " (5 + (-1/2 - sqrt(3)*I/2)*(121 + sqrt(131007)*I/9)**(1/3) + 76/(3*(-1/2 - sqrt(3)*I/2)*(121 + sqrt(131007)*I/9)**(1/3)),\n",
       "  1,\n",
       "  [Matrix([\n",
       "   [             -66 - 1216/(3*(-1/2 - sqrt(3)*I/2)*(121 + sqrt(131007)*I/9)**(1/3)) + (5 + (-1/2 - sqrt(3)*I/2)*(121 + sqrt(131007)*I/9)**(1/3) + 76/(3*(-1/2 - sqrt(3)*I/2)*(121 + sqrt(131007)*I/9)**(1/3)))**2 - 16*(-1/2 - sqrt(3)*I/2)*(121 + sqrt(131007)*I/9)**(1/3)],\n",
       "   [-189/13 - 1140/(13*(-1/2 - sqrt(3)*I/2)*(121 + sqrt(131007)*I/9)**(1/3)) + 3*(5 + (-1/2 - sqrt(3)*I/2)*(121 + sqrt(131007)*I/9)**(1/3) + 76/(3*(-1/2 - sqrt(3)*I/2)*(121 + sqrt(131007)*I/9)**(1/3)))**2/13 - 45*(-1/2 - sqrt(3)*I/2)*(121 + sqrt(131007)*I/9)**(1/3)/13],\n",
       "   [  126/13 + 30*(-1/2 - sqrt(3)*I/2)*(121 + sqrt(131007)*I/9)**(1/3)/13 - 2*(5 + (-1/2 - sqrt(3)*I/2)*(121 + sqrt(131007)*I/9)**(1/3) + 76/(3*(-1/2 - sqrt(3)*I/2)*(121 + sqrt(131007)*I/9)**(1/3)))**2/13 + 760/(13*(-1/2 - sqrt(3)*I/2)*(121 + sqrt(131007)*I/9)**(1/3))],\n",
       "   [                                                                                                                                                                                                                                                                       1]])]),\n",
       " (5 + 76/(3*(-1/2 + sqrt(3)*I/2)*(121 + sqrt(131007)*I/9)**(1/3)) + (-1/2 + sqrt(3)*I/2)*(121 + sqrt(131007)*I/9)**(1/3),\n",
       "  1,\n",
       "  [Matrix([\n",
       "   [             -66 - 16*(-1/2 + sqrt(3)*I/2)*(121 + sqrt(131007)*I/9)**(1/3) + (5 + 76/(3*(-1/2 + sqrt(3)*I/2)*(121 + sqrt(131007)*I/9)**(1/3)) + (-1/2 + sqrt(3)*I/2)*(121 + sqrt(131007)*I/9)**(1/3))**2 - 1216/(3*(-1/2 + sqrt(3)*I/2)*(121 + sqrt(131007)*I/9)**(1/3))],\n",
       "   [-189/13 - 45*(-1/2 + sqrt(3)*I/2)*(121 + sqrt(131007)*I/9)**(1/3)/13 + 3*(5 + 76/(3*(-1/2 + sqrt(3)*I/2)*(121 + sqrt(131007)*I/9)**(1/3)) + (-1/2 + sqrt(3)*I/2)*(121 + sqrt(131007)*I/9)**(1/3))**2/13 - 1140/(13*(-1/2 + sqrt(3)*I/2)*(121 + sqrt(131007)*I/9)**(1/3))],\n",
       "   [  126/13 + 760/(13*(-1/2 + sqrt(3)*I/2)*(121 + sqrt(131007)*I/9)**(1/3)) - 2*(5 + 76/(3*(-1/2 + sqrt(3)*I/2)*(121 + sqrt(131007)*I/9)**(1/3)) + (-1/2 + sqrt(3)*I/2)*(121 + sqrt(131007)*I/9)**(1/3))**2/13 + 30*(-1/2 + sqrt(3)*I/2)*(121 + sqrt(131007)*I/9)**(1/3)/13],\n",
       "   [                                                                                                                                                                                                                                                                       1]])]),\n",
       " (5 + 76/(3*(121 + sqrt(131007)*I/9)**(1/3)) + (121 + sqrt(131007)*I/9)**(1/3),\n",
       "  1,\n",
       "  [Matrix([\n",
       "   [             -66 - 16*(121 + sqrt(131007)*I/9)**(1/3) + (5 + 76/(3*(121 + sqrt(131007)*I/9)**(1/3)) + (121 + sqrt(131007)*I/9)**(1/3))**2 - 1216/(3*(121 + sqrt(131007)*I/9)**(1/3))],\n",
       "   [-189/13 - 45*(121 + sqrt(131007)*I/9)**(1/3)/13 + 3*(5 + 76/(3*(121 + sqrt(131007)*I/9)**(1/3)) + (121 + sqrt(131007)*I/9)**(1/3))**2/13 - 1140/(13*(121 + sqrt(131007)*I/9)**(1/3))],\n",
       "   [  126/13 + 760/(13*(121 + sqrt(131007)*I/9)**(1/3)) - 2*(5 + 76/(3*(121 + sqrt(131007)*I/9)**(1/3)) + (121 + sqrt(131007)*I/9)**(1/3))**2/13 + 30*(121 + sqrt(131007)*I/9)**(1/3)/13],\n",
       "   [                                                                                                                                                                                   1]])])]"
      ]
     },
     "execution_count": 31,
     "metadata": {},
     "output_type": "execute_result"
    }
   ],
   "source": [
    "A.eigenvects()"
   ]
  },
  {
   "cell_type": "markdown",
   "id": "1d35b521",
   "metadata": {
    "slideshow": {
     "slide_type": "slide"
    }
   },
   "source": [
    "### Facts about eigenvalues and eigenvectors\n",
    "\n",
    "- An $n\\times n$ matrix has between 0 and $n$ eigenvalues.\n",
    "- Each eigenvalue has a certain *algebraic multiplicity* between $1$ and $n$.\n",
    "- The sum of the algebraic multiplicities is $\\leq n$.\n",
    "- For each eigenvalue, there is a number $k$ of linearly independent eigenvectors. $k$ is between $1$ and the algebraic multiplicity of the eigenvalue.\n",
    "- The number of eigenvectors for an eigenvalue is called its *geometric multiplicity*."
   ]
  },
  {
   "cell_type": "markdown",
   "id": "d0476bfd",
   "metadata": {
    "slideshow": {
     "slide_type": "slide"
    }
   },
   "source": [
    "## Eigenspaces\n",
    "\n",
    "\n",
    "- **Eigenspaces** are fundamental concepts in linear algebra, associated with eigenvalues and eigenvectors of a matrix.\n",
    "- **Definition:** The eigenspace of an eigenvalue is the set of all vectors that, when multiplied by the matrix, result in a vector that is a the original vector multiplied with that eigenvalue.\n",
    "- **Mathematically:** If $A$ is a matrix and λ is an eigenvalue, then the eigenspace of λ is the set of all vectors \n",
    "$\\mathbf v$ satisfying \n",
    "$$\n",
    "A\\mathbf v=λ\\mathbf v\n",
    "$$\n"
   ]
  },
  {
   "cell_type": "markdown",
   "id": "83e1aee6",
   "metadata": {
    "slideshow": {
     "slide_type": "slide"
    }
   },
   "source": [
    "### Computing Eigenspaces\n",
    "\n",
    "To find the eigenspace of an eigenvalue:\n",
    "\n",
    "1. **Determine Eigenvalues**: Solve $ \\det(A - \\lambda I) = 0 $ to find the eigenvalues $\\lambda$.\n",
    "2. **Find Eigenvectors**: Solve $ (A - \\lambda I)\\mathbf v = 0 $ for each eigenvalue to find the corresponding eigenvectors $ \\mathbf v $.\n",
    "3. **Form Eigenspace**: The set of all eigenvectors, including the zero vector, forms the eigenspace for the eigenvalue.\n",
    "\n",
    "**Example**: For matrix $ A $ and eigenvalue $ \\lambda $, the eigenspace is the solution to $ A\\mathbf v = \\lambda \\mathbf v $.\n"
   ]
  },
  {
   "cell_type": "markdown",
   "id": "eca72ca6",
   "metadata": {
    "slideshow": {
     "slide_type": "slide"
    }
   },
   "source": [
    "### Properties and Applications of Eigenspaces\n",
    "\n",
    "**Properties**:\n",
    "- The eigenspace of an eigenvalue is a linear subspace.\n",
    "- Dimension of the eigenspace is the geometric multiplicity of the eigenvalue.\n",
    "\n",
    "**Applications**:\n",
    "- Used in diagonalization of matrices.\n",
    "- Important in fields like quantum mechanics, vibrations analysis, facial recognition, and more.\n",
    "\n",
    "**Conclusion**: Understanding eigenspaces is crucial for grasping the behavior of linear transformations and matrices.\n"
   ]
  },
  {
   "cell_type": "markdown",
   "id": "b7fcb3e9",
   "metadata": {
    "slideshow": {
     "slide_type": "slide"
    }
   },
   "source": [
    "### Triangular matrices\n",
    "\n",
    "$$\n",
    "\\begin{aligned}\n",
    "A &= \n",
    "\\begin{bmatrix}\n",
    "1 & 4 & 1\\\\\n",
    "0 & 6 & 4\\\\\n",
    "0 & 0 & 2\n",
    "\\end{bmatrix}\\\\\n",
    "A -\\lambda \\mathbf I &= \n",
    "\\begin{vmatrix}\n",
    "1-\\lambda & 4 & 1\\\\\n",
    "0 & 6-\\lambda & 4\\\\\n",
    "0 & 0 & 2-\\lambda \n",
    "\\end{vmatrix}\\\\\n",
    "&= 0\\\\\n",
    "(1-\\lambda)(6-\\lambda)(2-\\lambda) &= 0\\\\\n",
    "\\lambda_1 &= 6\\\\\n",
    "\\lambda_2 &= 2\\\\\n",
    "\\lambda_3 &= 1\n",
    "\\end{aligned}\n",
    "$$\n",
    "\n",
    "**In triangular matrices, the diagonal entries are the eigenvalues.**"
   ]
  }
 ],
 "metadata": {
  "@webio": {
   "lastCommId": null,
   "lastKernelId": null
  },
  "celltoolbar": "Slideshow",
  "hide_input": false,
  "kernelspec": {
   "display_name": "Python 3 (ipykernel)",
   "language": "python",
   "name": "python3"
  },
  "language_info": {
   "codemirror_mode": {
    "name": "ipython",
    "version": 3
   },
   "file_extension": ".py",
   "mimetype": "text/x-python",
   "name": "python",
   "nbconvert_exporter": "python",
   "pygments_lexer": "ipython3",
   "version": "3.9.11"
  },
  "latex_envs": {
   "LaTeX_envs_menu_present": true,
   "autoclose": false,
   "autocomplete": true,
   "bibliofile": "biblio.bib",
   "cite_by": "apalike",
   "current_citInitial": 1,
   "eqLabelWithNumbers": true,
   "eqNumInitial": 1,
   "hotkeys": {
    "equation": "Ctrl-E",
    "itemize": "Ctrl-I"
   },
   "labels_anchors": false,
   "latex_user_defs": false,
   "report_style_numbering": false,
   "user_envs_cfg": false
  },
  "rise": {
   "enable_chalkboard": true
  },
  "varInspector": {
   "cols": {
    "lenName": 16,
    "lenType": 16,
    "lenVar": 40
   },
   "kernels_config": {
    "python": {
     "delete_cmd_postfix": "",
     "delete_cmd_prefix": "del ",
     "library": "var_list.py",
     "varRefreshCmd": "print(var_dic_list())"
    },
    "r": {
     "delete_cmd_postfix": ") ",
     "delete_cmd_prefix": "rm(",
     "library": "var_list.r",
     "varRefreshCmd": "cat(var_dic_list()) "
    }
   },
   "types_to_exclude": [
    "module",
    "function",
    "builtin_function_or_method",
    "instance",
    "_Feature"
   ],
   "window_display": false
  }
 },
 "nbformat": 4,
 "nbformat_minor": 5
}
