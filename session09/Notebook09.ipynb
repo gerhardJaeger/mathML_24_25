{
 "cells": [
  {
   "cell_type": "code",
   "execution_count": 1,
   "id": "6b6d3e8a",
   "metadata": {
    "slideshow": {
     "slide_type": "skip"
    }
   },
   "outputs": [],
   "source": [
    "import sympy\n",
    "from sympy import Matrix, Rational, sqrt, symbols, zeros, simplify, exp\n",
    "import numpy as np\n",
    "import matplotlib.pyplot as plt\n",
    "import ipywidgets as widgets\n",
    "from ipywidgets import interact, interactive, fixed, interact_manual\n",
    "import matplotlib.pyplot as plt\n",
    "%matplotlib notebook\n"
   ]
  },
  {
   "cell_type": "markdown",
   "id": "17d690f6",
   "metadata": {
    "hide_input": true,
    "slideshow": {
     "slide_type": "slide"
    }
   },
   "source": [
    "# Mathematics for Machine Learning\n",
    "\n",
    "## Session 9: Eigenvectors and eigenvalues\n",
    "\n",
    "## Gerhard Jäger\n",
    "\n",
    "### November 19, 2024"
   ]
  },
  {
   "cell_type": "markdown",
   "id": "4ac3102c",
   "metadata": {
    "slideshow": {
     "slide_type": "slide"
    }
   },
   "source": [
    "## Eigenvectors and eigenvalues\n",
    "\n",
    "### Basic equation\n",
    "\n",
    "$$\n",
    "A\\mathbf x = \\lambda \\mathbf x\n",
    "$$\n",
    "\n",
    "- $\\mathbf x$ is called an **eigenvector** of $A$\n",
    "- $\\lambda$ is called an **eigenvalue** of $A$"
   ]
  },
  {
   "cell_type": "code",
   "execution_count": 2,
   "id": "79b42587",
   "metadata": {
    "slideshow": {
     "slide_type": "slide"
    }
   },
   "outputs": [],
   "source": [
    "from math import *\n",
    "A = np.array([\n",
    "    [1, 1],\n",
    "    [0, 1]\n",
    "])"
   ]
  },
  {
   "cell_type": "code",
   "execution_count": 3,
   "id": "af2cc205",
   "metadata": {
    "hide_input": true,
    "scrolled": false
   },
   "outputs": [
    {
     "data": {
      "application/javascript": [
       "/* Put everything inside the global mpl namespace */\n",
       "/* global mpl */\n",
       "window.mpl = {};\n",
       "\n",
       "mpl.get_websocket_type = function () {\n",
       "    if (typeof WebSocket !== 'undefined') {\n",
       "        return WebSocket;\n",
       "    } else if (typeof MozWebSocket !== 'undefined') {\n",
       "        return MozWebSocket;\n",
       "    } else {\n",
       "        alert(\n",
       "            'Your browser does not have WebSocket support. ' +\n",
       "                'Please try Chrome, Safari or Firefox ≥ 6. ' +\n",
       "                'Firefox 4 and 5 are also supported but you ' +\n",
       "                'have to enable WebSockets in about:config.'\n",
       "        );\n",
       "    }\n",
       "};\n",
       "\n",
       "mpl.figure = function (figure_id, websocket, ondownload, parent_element) {\n",
       "    this.id = figure_id;\n",
       "\n",
       "    this.ws = websocket;\n",
       "\n",
       "    this.supports_binary = this.ws.binaryType !== undefined;\n",
       "\n",
       "    if (!this.supports_binary) {\n",
       "        var warnings = document.getElementById('mpl-warnings');\n",
       "        if (warnings) {\n",
       "            warnings.style.display = 'block';\n",
       "            warnings.textContent =\n",
       "                'This browser does not support binary websocket messages. ' +\n",
       "                'Performance may be slow.';\n",
       "        }\n",
       "    }\n",
       "\n",
       "    this.imageObj = new Image();\n",
       "\n",
       "    this.context = undefined;\n",
       "    this.message = undefined;\n",
       "    this.canvas = undefined;\n",
       "    this.rubberband_canvas = undefined;\n",
       "    this.rubberband_context = undefined;\n",
       "    this.format_dropdown = undefined;\n",
       "\n",
       "    this.image_mode = 'full';\n",
       "\n",
       "    this.root = document.createElement('div');\n",
       "    this.root.setAttribute('style', 'display: inline-block');\n",
       "    this._root_extra_style(this.root);\n",
       "\n",
       "    parent_element.appendChild(this.root);\n",
       "\n",
       "    this._init_header(this);\n",
       "    this._init_canvas(this);\n",
       "    this._init_toolbar(this);\n",
       "\n",
       "    var fig = this;\n",
       "\n",
       "    this.waiting = false;\n",
       "\n",
       "    this.ws.onopen = function () {\n",
       "        fig.send_message('supports_binary', { value: fig.supports_binary });\n",
       "        fig.send_message('send_image_mode', {});\n",
       "        if (fig.ratio !== 1) {\n",
       "            fig.send_message('set_device_pixel_ratio', {\n",
       "                device_pixel_ratio: fig.ratio,\n",
       "            });\n",
       "        }\n",
       "        fig.send_message('refresh', {});\n",
       "    };\n",
       "\n",
       "    this.imageObj.onload = function () {\n",
       "        if (fig.image_mode === 'full') {\n",
       "            // Full images could contain transparency (where diff images\n",
       "            // almost always do), so we need to clear the canvas so that\n",
       "            // there is no ghosting.\n",
       "            fig.context.clearRect(0, 0, fig.canvas.width, fig.canvas.height);\n",
       "        }\n",
       "        fig.context.drawImage(fig.imageObj, 0, 0);\n",
       "    };\n",
       "\n",
       "    this.imageObj.onunload = function () {\n",
       "        fig.ws.close();\n",
       "    };\n",
       "\n",
       "    this.ws.onmessage = this._make_on_message_function(this);\n",
       "\n",
       "    this.ondownload = ondownload;\n",
       "};\n",
       "\n",
       "mpl.figure.prototype._init_header = function () {\n",
       "    var titlebar = document.createElement('div');\n",
       "    titlebar.classList =\n",
       "        'ui-dialog-titlebar ui-widget-header ui-corner-all ui-helper-clearfix';\n",
       "    var titletext = document.createElement('div');\n",
       "    titletext.classList = 'ui-dialog-title';\n",
       "    titletext.setAttribute(\n",
       "        'style',\n",
       "        'width: 100%; text-align: center; padding: 3px;'\n",
       "    );\n",
       "    titlebar.appendChild(titletext);\n",
       "    this.root.appendChild(titlebar);\n",
       "    this.header = titletext;\n",
       "};\n",
       "\n",
       "mpl.figure.prototype._canvas_extra_style = function (_canvas_div) {};\n",
       "\n",
       "mpl.figure.prototype._root_extra_style = function (_canvas_div) {};\n",
       "\n",
       "mpl.figure.prototype._init_canvas = function () {\n",
       "    var fig = this;\n",
       "\n",
       "    var canvas_div = (this.canvas_div = document.createElement('div'));\n",
       "    canvas_div.setAttribute(\n",
       "        'style',\n",
       "        'border: 1px solid #ddd;' +\n",
       "            'box-sizing: content-box;' +\n",
       "            'clear: both;' +\n",
       "            'min-height: 1px;' +\n",
       "            'min-width: 1px;' +\n",
       "            'outline: 0;' +\n",
       "            'overflow: hidden;' +\n",
       "            'position: relative;' +\n",
       "            'resize: both;'\n",
       "    );\n",
       "\n",
       "    function on_keyboard_event_closure(name) {\n",
       "        return function (event) {\n",
       "            return fig.key_event(event, name);\n",
       "        };\n",
       "    }\n",
       "\n",
       "    canvas_div.addEventListener(\n",
       "        'keydown',\n",
       "        on_keyboard_event_closure('key_press')\n",
       "    );\n",
       "    canvas_div.addEventListener(\n",
       "        'keyup',\n",
       "        on_keyboard_event_closure('key_release')\n",
       "    );\n",
       "\n",
       "    this._canvas_extra_style(canvas_div);\n",
       "    this.root.appendChild(canvas_div);\n",
       "\n",
       "    var canvas = (this.canvas = document.createElement('canvas'));\n",
       "    canvas.classList.add('mpl-canvas');\n",
       "    canvas.setAttribute('style', 'box-sizing: content-box;');\n",
       "\n",
       "    this.context = canvas.getContext('2d');\n",
       "\n",
       "    var backingStore =\n",
       "        this.context.backingStorePixelRatio ||\n",
       "        this.context.webkitBackingStorePixelRatio ||\n",
       "        this.context.mozBackingStorePixelRatio ||\n",
       "        this.context.msBackingStorePixelRatio ||\n",
       "        this.context.oBackingStorePixelRatio ||\n",
       "        this.context.backingStorePixelRatio ||\n",
       "        1;\n",
       "\n",
       "    this.ratio = (window.devicePixelRatio || 1) / backingStore;\n",
       "\n",
       "    var rubberband_canvas = (this.rubberband_canvas = document.createElement(\n",
       "        'canvas'\n",
       "    ));\n",
       "    rubberband_canvas.setAttribute(\n",
       "        'style',\n",
       "        'box-sizing: content-box; position: absolute; left: 0; top: 0; z-index: 1;'\n",
       "    );\n",
       "\n",
       "    // Apply a ponyfill if ResizeObserver is not implemented by browser.\n",
       "    if (this.ResizeObserver === undefined) {\n",
       "        if (window.ResizeObserver !== undefined) {\n",
       "            this.ResizeObserver = window.ResizeObserver;\n",
       "        } else {\n",
       "            var obs = _JSXTOOLS_RESIZE_OBSERVER({});\n",
       "            this.ResizeObserver = obs.ResizeObserver;\n",
       "        }\n",
       "    }\n",
       "\n",
       "    this.resizeObserverInstance = new this.ResizeObserver(function (entries) {\n",
       "        var nentries = entries.length;\n",
       "        for (var i = 0; i < nentries; i++) {\n",
       "            var entry = entries[i];\n",
       "            var width, height;\n",
       "            if (entry.contentBoxSize) {\n",
       "                if (entry.contentBoxSize instanceof Array) {\n",
       "                    // Chrome 84 implements new version of spec.\n",
       "                    width = entry.contentBoxSize[0].inlineSize;\n",
       "                    height = entry.contentBoxSize[0].blockSize;\n",
       "                } else {\n",
       "                    // Firefox implements old version of spec.\n",
       "                    width = entry.contentBoxSize.inlineSize;\n",
       "                    height = entry.contentBoxSize.blockSize;\n",
       "                }\n",
       "            } else {\n",
       "                // Chrome <84 implements even older version of spec.\n",
       "                width = entry.contentRect.width;\n",
       "                height = entry.contentRect.height;\n",
       "            }\n",
       "\n",
       "            // Keep the size of the canvas and rubber band canvas in sync with\n",
       "            // the canvas container.\n",
       "            if (entry.devicePixelContentBoxSize) {\n",
       "                // Chrome 84 implements new version of spec.\n",
       "                canvas.setAttribute(\n",
       "                    'width',\n",
       "                    entry.devicePixelContentBoxSize[0].inlineSize\n",
       "                );\n",
       "                canvas.setAttribute(\n",
       "                    'height',\n",
       "                    entry.devicePixelContentBoxSize[0].blockSize\n",
       "                );\n",
       "            } else {\n",
       "                canvas.setAttribute('width', width * fig.ratio);\n",
       "                canvas.setAttribute('height', height * fig.ratio);\n",
       "            }\n",
       "            canvas.setAttribute(\n",
       "                'style',\n",
       "                'width: ' + width + 'px; height: ' + height + 'px;'\n",
       "            );\n",
       "\n",
       "            rubberband_canvas.setAttribute('width', width);\n",
       "            rubberband_canvas.setAttribute('height', height);\n",
       "\n",
       "            // And update the size in Python. We ignore the initial 0/0 size\n",
       "            // that occurs as the element is placed into the DOM, which should\n",
       "            // otherwise not happen due to the minimum size styling.\n",
       "            if (fig.ws.readyState == 1 && width != 0 && height != 0) {\n",
       "                fig.request_resize(width, height);\n",
       "            }\n",
       "        }\n",
       "    });\n",
       "    this.resizeObserverInstance.observe(canvas_div);\n",
       "\n",
       "    function on_mouse_event_closure(name) {\n",
       "        return function (event) {\n",
       "            return fig.mouse_event(event, name);\n",
       "        };\n",
       "    }\n",
       "\n",
       "    rubberband_canvas.addEventListener(\n",
       "        'mousedown',\n",
       "        on_mouse_event_closure('button_press')\n",
       "    );\n",
       "    rubberband_canvas.addEventListener(\n",
       "        'mouseup',\n",
       "        on_mouse_event_closure('button_release')\n",
       "    );\n",
       "    rubberband_canvas.addEventListener(\n",
       "        'dblclick',\n",
       "        on_mouse_event_closure('dblclick')\n",
       "    );\n",
       "    // Throttle sequential mouse events to 1 every 20ms.\n",
       "    rubberband_canvas.addEventListener(\n",
       "        'mousemove',\n",
       "        on_mouse_event_closure('motion_notify')\n",
       "    );\n",
       "\n",
       "    rubberband_canvas.addEventListener(\n",
       "        'mouseenter',\n",
       "        on_mouse_event_closure('figure_enter')\n",
       "    );\n",
       "    rubberband_canvas.addEventListener(\n",
       "        'mouseleave',\n",
       "        on_mouse_event_closure('figure_leave')\n",
       "    );\n",
       "\n",
       "    canvas_div.addEventListener('wheel', function (event) {\n",
       "        if (event.deltaY < 0) {\n",
       "            event.step = 1;\n",
       "        } else {\n",
       "            event.step = -1;\n",
       "        }\n",
       "        on_mouse_event_closure('scroll')(event);\n",
       "    });\n",
       "\n",
       "    canvas_div.appendChild(canvas);\n",
       "    canvas_div.appendChild(rubberband_canvas);\n",
       "\n",
       "    this.rubberband_context = rubberband_canvas.getContext('2d');\n",
       "    this.rubberband_context.strokeStyle = '#000000';\n",
       "\n",
       "    this._resize_canvas = function (width, height, forward) {\n",
       "        if (forward) {\n",
       "            canvas_div.style.width = width + 'px';\n",
       "            canvas_div.style.height = height + 'px';\n",
       "        }\n",
       "    };\n",
       "\n",
       "    // Disable right mouse context menu.\n",
       "    this.rubberband_canvas.addEventListener('contextmenu', function (_e) {\n",
       "        event.preventDefault();\n",
       "        return false;\n",
       "    });\n",
       "\n",
       "    function set_focus() {\n",
       "        canvas.focus();\n",
       "        canvas_div.focus();\n",
       "    }\n",
       "\n",
       "    window.setTimeout(set_focus, 100);\n",
       "};\n",
       "\n",
       "mpl.figure.prototype._init_toolbar = function () {\n",
       "    var fig = this;\n",
       "\n",
       "    var toolbar = document.createElement('div');\n",
       "    toolbar.classList = 'mpl-toolbar';\n",
       "    this.root.appendChild(toolbar);\n",
       "\n",
       "    function on_click_closure(name) {\n",
       "        return function (_event) {\n",
       "            return fig.toolbar_button_onclick(name);\n",
       "        };\n",
       "    }\n",
       "\n",
       "    function on_mouseover_closure(tooltip) {\n",
       "        return function (event) {\n",
       "            if (!event.currentTarget.disabled) {\n",
       "                return fig.toolbar_button_onmouseover(tooltip);\n",
       "            }\n",
       "        };\n",
       "    }\n",
       "\n",
       "    fig.buttons = {};\n",
       "    var buttonGroup = document.createElement('div');\n",
       "    buttonGroup.classList = 'mpl-button-group';\n",
       "    for (var toolbar_ind in mpl.toolbar_items) {\n",
       "        var name = mpl.toolbar_items[toolbar_ind][0];\n",
       "        var tooltip = mpl.toolbar_items[toolbar_ind][1];\n",
       "        var image = mpl.toolbar_items[toolbar_ind][2];\n",
       "        var method_name = mpl.toolbar_items[toolbar_ind][3];\n",
       "\n",
       "        if (!name) {\n",
       "            /* Instead of a spacer, we start a new button group. */\n",
       "            if (buttonGroup.hasChildNodes()) {\n",
       "                toolbar.appendChild(buttonGroup);\n",
       "            }\n",
       "            buttonGroup = document.createElement('div');\n",
       "            buttonGroup.classList = 'mpl-button-group';\n",
       "            continue;\n",
       "        }\n",
       "\n",
       "        var button = (fig.buttons[name] = document.createElement('button'));\n",
       "        button.classList = 'mpl-widget';\n",
       "        button.setAttribute('role', 'button');\n",
       "        button.setAttribute('aria-disabled', 'false');\n",
       "        button.addEventListener('click', on_click_closure(method_name));\n",
       "        button.addEventListener('mouseover', on_mouseover_closure(tooltip));\n",
       "\n",
       "        var icon_img = document.createElement('img');\n",
       "        icon_img.src = '_images/' + image + '.png';\n",
       "        icon_img.srcset = '_images/' + image + '_large.png 2x';\n",
       "        icon_img.alt = tooltip;\n",
       "        button.appendChild(icon_img);\n",
       "\n",
       "        buttonGroup.appendChild(button);\n",
       "    }\n",
       "\n",
       "    if (buttonGroup.hasChildNodes()) {\n",
       "        toolbar.appendChild(buttonGroup);\n",
       "    }\n",
       "\n",
       "    var fmt_picker = document.createElement('select');\n",
       "    fmt_picker.classList = 'mpl-widget';\n",
       "    toolbar.appendChild(fmt_picker);\n",
       "    this.format_dropdown = fmt_picker;\n",
       "\n",
       "    for (var ind in mpl.extensions) {\n",
       "        var fmt = mpl.extensions[ind];\n",
       "        var option = document.createElement('option');\n",
       "        option.selected = fmt === mpl.default_extension;\n",
       "        option.innerHTML = fmt;\n",
       "        fmt_picker.appendChild(option);\n",
       "    }\n",
       "\n",
       "    var status_bar = document.createElement('span');\n",
       "    status_bar.classList = 'mpl-message';\n",
       "    toolbar.appendChild(status_bar);\n",
       "    this.message = status_bar;\n",
       "};\n",
       "\n",
       "mpl.figure.prototype.request_resize = function (x_pixels, y_pixels) {\n",
       "    // Request matplotlib to resize the figure. Matplotlib will then trigger a resize in the client,\n",
       "    // which will in turn request a refresh of the image.\n",
       "    this.send_message('resize', { width: x_pixels, height: y_pixels });\n",
       "};\n",
       "\n",
       "mpl.figure.prototype.send_message = function (type, properties) {\n",
       "    properties['type'] = type;\n",
       "    properties['figure_id'] = this.id;\n",
       "    this.ws.send(JSON.stringify(properties));\n",
       "};\n",
       "\n",
       "mpl.figure.prototype.send_draw_message = function () {\n",
       "    if (!this.waiting) {\n",
       "        this.waiting = true;\n",
       "        this.ws.send(JSON.stringify({ type: 'draw', figure_id: this.id }));\n",
       "    }\n",
       "};\n",
       "\n",
       "mpl.figure.prototype.handle_save = function (fig, _msg) {\n",
       "    var format_dropdown = fig.format_dropdown;\n",
       "    var format = format_dropdown.options[format_dropdown.selectedIndex].value;\n",
       "    fig.ondownload(fig, format);\n",
       "};\n",
       "\n",
       "mpl.figure.prototype.handle_resize = function (fig, msg) {\n",
       "    var size = msg['size'];\n",
       "    if (size[0] !== fig.canvas.width || size[1] !== fig.canvas.height) {\n",
       "        fig._resize_canvas(size[0], size[1], msg['forward']);\n",
       "        fig.send_message('refresh', {});\n",
       "    }\n",
       "};\n",
       "\n",
       "mpl.figure.prototype.handle_rubberband = function (fig, msg) {\n",
       "    var x0 = msg['x0'] / fig.ratio;\n",
       "    var y0 = (fig.canvas.height - msg['y0']) / fig.ratio;\n",
       "    var x1 = msg['x1'] / fig.ratio;\n",
       "    var y1 = (fig.canvas.height - msg['y1']) / fig.ratio;\n",
       "    x0 = Math.floor(x0) + 0.5;\n",
       "    y0 = Math.floor(y0) + 0.5;\n",
       "    x1 = Math.floor(x1) + 0.5;\n",
       "    y1 = Math.floor(y1) + 0.5;\n",
       "    var min_x = Math.min(x0, x1);\n",
       "    var min_y = Math.min(y0, y1);\n",
       "    var width = Math.abs(x1 - x0);\n",
       "    var height = Math.abs(y1 - y0);\n",
       "\n",
       "    fig.rubberband_context.clearRect(\n",
       "        0,\n",
       "        0,\n",
       "        fig.canvas.width / fig.ratio,\n",
       "        fig.canvas.height / fig.ratio\n",
       "    );\n",
       "\n",
       "    fig.rubberband_context.strokeRect(min_x, min_y, width, height);\n",
       "};\n",
       "\n",
       "mpl.figure.prototype.handle_figure_label = function (fig, msg) {\n",
       "    // Updates the figure title.\n",
       "    fig.header.textContent = msg['label'];\n",
       "};\n",
       "\n",
       "mpl.figure.prototype.handle_cursor = function (fig, msg) {\n",
       "    fig.rubberband_canvas.style.cursor = msg['cursor'];\n",
       "};\n",
       "\n",
       "mpl.figure.prototype.handle_message = function (fig, msg) {\n",
       "    fig.message.textContent = msg['message'];\n",
       "};\n",
       "\n",
       "mpl.figure.prototype.handle_draw = function (fig, _msg) {\n",
       "    // Request the server to send over a new figure.\n",
       "    fig.send_draw_message();\n",
       "};\n",
       "\n",
       "mpl.figure.prototype.handle_image_mode = function (fig, msg) {\n",
       "    fig.image_mode = msg['mode'];\n",
       "};\n",
       "\n",
       "mpl.figure.prototype.handle_history_buttons = function (fig, msg) {\n",
       "    for (var key in msg) {\n",
       "        if (!(key in fig.buttons)) {\n",
       "            continue;\n",
       "        }\n",
       "        fig.buttons[key].disabled = !msg[key];\n",
       "        fig.buttons[key].setAttribute('aria-disabled', !msg[key]);\n",
       "    }\n",
       "};\n",
       "\n",
       "mpl.figure.prototype.handle_navigate_mode = function (fig, msg) {\n",
       "    if (msg['mode'] === 'PAN') {\n",
       "        fig.buttons['Pan'].classList.add('active');\n",
       "        fig.buttons['Zoom'].classList.remove('active');\n",
       "    } else if (msg['mode'] === 'ZOOM') {\n",
       "        fig.buttons['Pan'].classList.remove('active');\n",
       "        fig.buttons['Zoom'].classList.add('active');\n",
       "    } else {\n",
       "        fig.buttons['Pan'].classList.remove('active');\n",
       "        fig.buttons['Zoom'].classList.remove('active');\n",
       "    }\n",
       "};\n",
       "\n",
       "mpl.figure.prototype.updated_canvas_event = function () {\n",
       "    // Called whenever the canvas gets updated.\n",
       "    this.send_message('ack', {});\n",
       "};\n",
       "\n",
       "// A function to construct a web socket function for onmessage handling.\n",
       "// Called in the figure constructor.\n",
       "mpl.figure.prototype._make_on_message_function = function (fig) {\n",
       "    return function socket_on_message(evt) {\n",
       "        if (evt.data instanceof Blob) {\n",
       "            var img = evt.data;\n",
       "            if (img.type !== 'image/png') {\n",
       "                /* FIXME: We get \"Resource interpreted as Image but\n",
       "                 * transferred with MIME type text/plain:\" errors on\n",
       "                 * Chrome.  But how to set the MIME type?  It doesn't seem\n",
       "                 * to be part of the websocket stream */\n",
       "                img.type = 'image/png';\n",
       "            }\n",
       "\n",
       "            /* Free the memory for the previous frames */\n",
       "            if (fig.imageObj.src) {\n",
       "                (window.URL || window.webkitURL).revokeObjectURL(\n",
       "                    fig.imageObj.src\n",
       "                );\n",
       "            }\n",
       "\n",
       "            fig.imageObj.src = (window.URL || window.webkitURL).createObjectURL(\n",
       "                img\n",
       "            );\n",
       "            fig.updated_canvas_event();\n",
       "            fig.waiting = false;\n",
       "            return;\n",
       "        } else if (\n",
       "            typeof evt.data === 'string' &&\n",
       "            evt.data.slice(0, 21) === 'data:image/png;base64'\n",
       "        ) {\n",
       "            fig.imageObj.src = evt.data;\n",
       "            fig.updated_canvas_event();\n",
       "            fig.waiting = false;\n",
       "            return;\n",
       "        }\n",
       "\n",
       "        var msg = JSON.parse(evt.data);\n",
       "        var msg_type = msg['type'];\n",
       "\n",
       "        // Call the  \"handle_{type}\" callback, which takes\n",
       "        // the figure and JSON message as its only arguments.\n",
       "        try {\n",
       "            var callback = fig['handle_' + msg_type];\n",
       "        } catch (e) {\n",
       "            console.log(\n",
       "                \"No handler for the '\" + msg_type + \"' message type: \",\n",
       "                msg\n",
       "            );\n",
       "            return;\n",
       "        }\n",
       "\n",
       "        if (callback) {\n",
       "            try {\n",
       "                // console.log(\"Handling '\" + msg_type + \"' message: \", msg);\n",
       "                callback(fig, msg);\n",
       "            } catch (e) {\n",
       "                console.log(\n",
       "                    \"Exception inside the 'handler_\" + msg_type + \"' callback:\",\n",
       "                    e,\n",
       "                    e.stack,\n",
       "                    msg\n",
       "                );\n",
       "            }\n",
       "        }\n",
       "    };\n",
       "};\n",
       "\n",
       "// from https://stackoverflow.com/questions/1114465/getting-mouse-location-in-canvas\n",
       "mpl.findpos = function (e) {\n",
       "    //this section is from http://www.quirksmode.org/js/events_properties.html\n",
       "    var targ;\n",
       "    if (!e) {\n",
       "        e = window.event;\n",
       "    }\n",
       "    if (e.target) {\n",
       "        targ = e.target;\n",
       "    } else if (e.srcElement) {\n",
       "        targ = e.srcElement;\n",
       "    }\n",
       "    if (targ.nodeType === 3) {\n",
       "        // defeat Safari bug\n",
       "        targ = targ.parentNode;\n",
       "    }\n",
       "\n",
       "    // pageX,Y are the mouse positions relative to the document\n",
       "    var boundingRect = targ.getBoundingClientRect();\n",
       "    var x = e.pageX - (boundingRect.left + document.body.scrollLeft);\n",
       "    var y = e.pageY - (boundingRect.top + document.body.scrollTop);\n",
       "\n",
       "    return { x: x, y: y };\n",
       "};\n",
       "\n",
       "/*\n",
       " * return a copy of an object with only non-object keys\n",
       " * we need this to avoid circular references\n",
       " * https://stackoverflow.com/a/24161582/3208463\n",
       " */\n",
       "function simpleKeys(original) {\n",
       "    return Object.keys(original).reduce(function (obj, key) {\n",
       "        if (typeof original[key] !== 'object') {\n",
       "            obj[key] = original[key];\n",
       "        }\n",
       "        return obj;\n",
       "    }, {});\n",
       "}\n",
       "\n",
       "mpl.figure.prototype.mouse_event = function (event, name) {\n",
       "    var canvas_pos = mpl.findpos(event);\n",
       "\n",
       "    if (name === 'button_press') {\n",
       "        this.canvas.focus();\n",
       "        this.canvas_div.focus();\n",
       "    }\n",
       "\n",
       "    var x = canvas_pos.x * this.ratio;\n",
       "    var y = canvas_pos.y * this.ratio;\n",
       "\n",
       "    this.send_message(name, {\n",
       "        x: x,\n",
       "        y: y,\n",
       "        button: event.button,\n",
       "        step: event.step,\n",
       "        guiEvent: simpleKeys(event),\n",
       "    });\n",
       "\n",
       "    /* This prevents the web browser from automatically changing to\n",
       "     * the text insertion cursor when the button is pressed.  We want\n",
       "     * to control all of the cursor setting manually through the\n",
       "     * 'cursor' event from matplotlib */\n",
       "    event.preventDefault();\n",
       "    return false;\n",
       "};\n",
       "\n",
       "mpl.figure.prototype._key_event_extra = function (_event, _name) {\n",
       "    // Handle any extra behaviour associated with a key event\n",
       "};\n",
       "\n",
       "mpl.figure.prototype.key_event = function (event, name) {\n",
       "    // Prevent repeat events\n",
       "    if (name === 'key_press') {\n",
       "        if (event.key === this._key) {\n",
       "            return;\n",
       "        } else {\n",
       "            this._key = event.key;\n",
       "        }\n",
       "    }\n",
       "    if (name === 'key_release') {\n",
       "        this._key = null;\n",
       "    }\n",
       "\n",
       "    var value = '';\n",
       "    if (event.ctrlKey && event.key !== 'Control') {\n",
       "        value += 'ctrl+';\n",
       "    }\n",
       "    else if (event.altKey && event.key !== 'Alt') {\n",
       "        value += 'alt+';\n",
       "    }\n",
       "    else if (event.shiftKey && event.key !== 'Shift') {\n",
       "        value += 'shift+';\n",
       "    }\n",
       "\n",
       "    value += 'k' + event.key;\n",
       "\n",
       "    this._key_event_extra(event, name);\n",
       "\n",
       "    this.send_message(name, { key: value, guiEvent: simpleKeys(event) });\n",
       "    return false;\n",
       "};\n",
       "\n",
       "mpl.figure.prototype.toolbar_button_onclick = function (name) {\n",
       "    if (name === 'download') {\n",
       "        this.handle_save(this, null);\n",
       "    } else {\n",
       "        this.send_message('toolbar_button', { name: name });\n",
       "    }\n",
       "};\n",
       "\n",
       "mpl.figure.prototype.toolbar_button_onmouseover = function (tooltip) {\n",
       "    this.message.textContent = tooltip;\n",
       "};\n",
       "\n",
       "///////////////// REMAINING CONTENT GENERATED BY embed_js.py /////////////////\n",
       "// prettier-ignore\n",
       "var _JSXTOOLS_RESIZE_OBSERVER=function(A){var t,i=new WeakMap,n=new WeakMap,a=new WeakMap,r=new WeakMap,o=new Set;function s(e){if(!(this instanceof s))throw new TypeError(\"Constructor requires 'new' operator\");i.set(this,e)}function h(){throw new TypeError(\"Function is not a constructor\")}function c(e,t,i,n){e=0 in arguments?Number(arguments[0]):0,t=1 in arguments?Number(arguments[1]):0,i=2 in arguments?Number(arguments[2]):0,n=3 in arguments?Number(arguments[3]):0,this.right=(this.x=this.left=e)+(this.width=i),this.bottom=(this.y=this.top=t)+(this.height=n),Object.freeze(this)}function d(){t=requestAnimationFrame(d);var s=new WeakMap,p=new Set;o.forEach((function(t){r.get(t).forEach((function(i){var r=t instanceof window.SVGElement,o=a.get(t),d=r?0:parseFloat(o.paddingTop),f=r?0:parseFloat(o.paddingRight),l=r?0:parseFloat(o.paddingBottom),u=r?0:parseFloat(o.paddingLeft),g=r?0:parseFloat(o.borderTopWidth),m=r?0:parseFloat(o.borderRightWidth),w=r?0:parseFloat(o.borderBottomWidth),b=u+f,F=d+l,v=(r?0:parseFloat(o.borderLeftWidth))+m,W=g+w,y=r?0:t.offsetHeight-W-t.clientHeight,E=r?0:t.offsetWidth-v-t.clientWidth,R=b+v,z=F+W,M=r?t.width:parseFloat(o.width)-R-E,O=r?t.height:parseFloat(o.height)-z-y;if(n.has(t)){var k=n.get(t);if(k[0]===M&&k[1]===O)return}n.set(t,[M,O]);var S=Object.create(h.prototype);S.target=t,S.contentRect=new c(u,d,M,O),s.has(i)||(s.set(i,[]),p.add(i)),s.get(i).push(S)}))})),p.forEach((function(e){i.get(e).call(e,s.get(e),e)}))}return s.prototype.observe=function(i){if(i instanceof window.Element){r.has(i)||(r.set(i,new Set),o.add(i),a.set(i,window.getComputedStyle(i)));var n=r.get(i);n.has(this)||n.add(this),cancelAnimationFrame(t),t=requestAnimationFrame(d)}},s.prototype.unobserve=function(i){if(i instanceof window.Element&&r.has(i)){var n=r.get(i);n.has(this)&&(n.delete(this),n.size||(r.delete(i),o.delete(i))),n.size||r.delete(i),o.size||cancelAnimationFrame(t)}},A.DOMRectReadOnly=c,A.ResizeObserver=s,A.ResizeObserverEntry=h,A}; // eslint-disable-line\n",
       "mpl.toolbar_items = [[\"Home\", \"Reset original view\", \"fa fa-home icon-home\", \"home\"], [\"Back\", \"Back to previous view\", \"fa fa-arrow-left icon-arrow-left\", \"back\"], [\"Forward\", \"Forward to next view\", \"fa fa-arrow-right icon-arrow-right\", \"forward\"], [\"\", \"\", \"\", \"\"], [\"Pan\", \"Left button pans, Right button zooms\\nx/y fixes axis, CTRL fixes aspect\", \"fa fa-arrows icon-move\", \"pan\"], [\"Zoom\", \"Zoom to rectangle\\nx/y fixes axis\", \"fa fa-square-o icon-check-empty\", \"zoom\"], [\"\", \"\", \"\", \"\"], [\"Download\", \"Download plot\", \"fa fa-floppy-o icon-save\", \"download\"]];\n",
       "\n",
       "mpl.extensions = [\"eps\", \"jpeg\", \"pgf\", \"pdf\", \"png\", \"ps\", \"raw\", \"svg\", \"tif\"];\n",
       "\n",
       "mpl.default_extension = \"png\";/* global mpl */\n",
       "\n",
       "var comm_websocket_adapter = function (comm) {\n",
       "    // Create a \"websocket\"-like object which calls the given IPython comm\n",
       "    // object with the appropriate methods. Currently this is a non binary\n",
       "    // socket, so there is still some room for performance tuning.\n",
       "    var ws = {};\n",
       "\n",
       "    ws.binaryType = comm.kernel.ws.binaryType;\n",
       "    ws.readyState = comm.kernel.ws.readyState;\n",
       "    function updateReadyState(_event) {\n",
       "        if (comm.kernel.ws) {\n",
       "            ws.readyState = comm.kernel.ws.readyState;\n",
       "        } else {\n",
       "            ws.readyState = 3; // Closed state.\n",
       "        }\n",
       "    }\n",
       "    comm.kernel.ws.addEventListener('open', updateReadyState);\n",
       "    comm.kernel.ws.addEventListener('close', updateReadyState);\n",
       "    comm.kernel.ws.addEventListener('error', updateReadyState);\n",
       "\n",
       "    ws.close = function () {\n",
       "        comm.close();\n",
       "    };\n",
       "    ws.send = function (m) {\n",
       "        //console.log('sending', m);\n",
       "        comm.send(m);\n",
       "    };\n",
       "    // Register the callback with on_msg.\n",
       "    comm.on_msg(function (msg) {\n",
       "        //console.log('receiving', msg['content']['data'], msg);\n",
       "        var data = msg['content']['data'];\n",
       "        if (data['blob'] !== undefined) {\n",
       "            data = {\n",
       "                data: new Blob(msg['buffers'], { type: data['blob'] }),\n",
       "            };\n",
       "        }\n",
       "        // Pass the mpl event to the overridden (by mpl) onmessage function.\n",
       "        ws.onmessage(data);\n",
       "    });\n",
       "    return ws;\n",
       "};\n",
       "\n",
       "mpl.mpl_figure_comm = function (comm, msg) {\n",
       "    // This is the function which gets called when the mpl process\n",
       "    // starts-up an IPython Comm through the \"matplotlib\" channel.\n",
       "\n",
       "    var id = msg.content.data.id;\n",
       "    // Get hold of the div created by the display call when the Comm\n",
       "    // socket was opened in Python.\n",
       "    var element = document.getElementById(id);\n",
       "    var ws_proxy = comm_websocket_adapter(comm);\n",
       "\n",
       "    function ondownload(figure, _format) {\n",
       "        window.open(figure.canvas.toDataURL());\n",
       "    }\n",
       "\n",
       "    var fig = new mpl.figure(id, ws_proxy, ondownload, element);\n",
       "\n",
       "    // Call onopen now - mpl needs it, as it is assuming we've passed it a real\n",
       "    // web socket which is closed, not our websocket->open comm proxy.\n",
       "    ws_proxy.onopen();\n",
       "\n",
       "    fig.parent_element = element;\n",
       "    fig.cell_info = mpl.find_output_cell(\"<div id='\" + id + \"'></div>\");\n",
       "    if (!fig.cell_info) {\n",
       "        console.error('Failed to find cell for figure', id, fig);\n",
       "        return;\n",
       "    }\n",
       "    fig.cell_info[0].output_area.element.on(\n",
       "        'cleared',\n",
       "        { fig: fig },\n",
       "        fig._remove_fig_handler\n",
       "    );\n",
       "};\n",
       "\n",
       "mpl.figure.prototype.handle_close = function (fig, msg) {\n",
       "    var width = fig.canvas.width / fig.ratio;\n",
       "    fig.cell_info[0].output_area.element.off(\n",
       "        'cleared',\n",
       "        fig._remove_fig_handler\n",
       "    );\n",
       "    fig.resizeObserverInstance.unobserve(fig.canvas_div);\n",
       "\n",
       "    // Update the output cell to use the data from the current canvas.\n",
       "    fig.push_to_output();\n",
       "    var dataURL = fig.canvas.toDataURL();\n",
       "    // Re-enable the keyboard manager in IPython - without this line, in FF,\n",
       "    // the notebook keyboard shortcuts fail.\n",
       "    IPython.keyboard_manager.enable();\n",
       "    fig.parent_element.innerHTML =\n",
       "        '<img src=\"' + dataURL + '\" width=\"' + width + '\">';\n",
       "    fig.close_ws(fig, msg);\n",
       "};\n",
       "\n",
       "mpl.figure.prototype.close_ws = function (fig, msg) {\n",
       "    fig.send_message('closing', msg);\n",
       "    // fig.ws.close()\n",
       "};\n",
       "\n",
       "mpl.figure.prototype.push_to_output = function (_remove_interactive) {\n",
       "    // Turn the data on the canvas into data in the output cell.\n",
       "    var width = this.canvas.width / this.ratio;\n",
       "    var dataURL = this.canvas.toDataURL();\n",
       "    this.cell_info[1]['text/html'] =\n",
       "        '<img src=\"' + dataURL + '\" width=\"' + width + '\">';\n",
       "};\n",
       "\n",
       "mpl.figure.prototype.updated_canvas_event = function () {\n",
       "    // Tell IPython that the notebook contents must change.\n",
       "    IPython.notebook.set_dirty(true);\n",
       "    this.send_message('ack', {});\n",
       "    var fig = this;\n",
       "    // Wait a second, then push the new image to the DOM so\n",
       "    // that it is saved nicely (might be nice to debounce this).\n",
       "    setTimeout(function () {\n",
       "        fig.push_to_output();\n",
       "    }, 1000);\n",
       "};\n",
       "\n",
       "mpl.figure.prototype._init_toolbar = function () {\n",
       "    var fig = this;\n",
       "\n",
       "    var toolbar = document.createElement('div');\n",
       "    toolbar.classList = 'btn-toolbar';\n",
       "    this.root.appendChild(toolbar);\n",
       "\n",
       "    function on_click_closure(name) {\n",
       "        return function (_event) {\n",
       "            return fig.toolbar_button_onclick(name);\n",
       "        };\n",
       "    }\n",
       "\n",
       "    function on_mouseover_closure(tooltip) {\n",
       "        return function (event) {\n",
       "            if (!event.currentTarget.disabled) {\n",
       "                return fig.toolbar_button_onmouseover(tooltip);\n",
       "            }\n",
       "        };\n",
       "    }\n",
       "\n",
       "    fig.buttons = {};\n",
       "    var buttonGroup = document.createElement('div');\n",
       "    buttonGroup.classList = 'btn-group';\n",
       "    var button;\n",
       "    for (var toolbar_ind in mpl.toolbar_items) {\n",
       "        var name = mpl.toolbar_items[toolbar_ind][0];\n",
       "        var tooltip = mpl.toolbar_items[toolbar_ind][1];\n",
       "        var image = mpl.toolbar_items[toolbar_ind][2];\n",
       "        var method_name = mpl.toolbar_items[toolbar_ind][3];\n",
       "\n",
       "        if (!name) {\n",
       "            /* Instead of a spacer, we start a new button group. */\n",
       "            if (buttonGroup.hasChildNodes()) {\n",
       "                toolbar.appendChild(buttonGroup);\n",
       "            }\n",
       "            buttonGroup = document.createElement('div');\n",
       "            buttonGroup.classList = 'btn-group';\n",
       "            continue;\n",
       "        }\n",
       "\n",
       "        button = fig.buttons[name] = document.createElement('button');\n",
       "        button.classList = 'btn btn-default';\n",
       "        button.href = '#';\n",
       "        button.title = name;\n",
       "        button.innerHTML = '<i class=\"fa ' + image + ' fa-lg\"></i>';\n",
       "        button.addEventListener('click', on_click_closure(method_name));\n",
       "        button.addEventListener('mouseover', on_mouseover_closure(tooltip));\n",
       "        buttonGroup.appendChild(button);\n",
       "    }\n",
       "\n",
       "    if (buttonGroup.hasChildNodes()) {\n",
       "        toolbar.appendChild(buttonGroup);\n",
       "    }\n",
       "\n",
       "    // Add the status bar.\n",
       "    var status_bar = document.createElement('span');\n",
       "    status_bar.classList = 'mpl-message pull-right';\n",
       "    toolbar.appendChild(status_bar);\n",
       "    this.message = status_bar;\n",
       "\n",
       "    // Add the close button to the window.\n",
       "    var buttongrp = document.createElement('div');\n",
       "    buttongrp.classList = 'btn-group inline pull-right';\n",
       "    button = document.createElement('button');\n",
       "    button.classList = 'btn btn-mini btn-primary';\n",
       "    button.href = '#';\n",
       "    button.title = 'Stop Interaction';\n",
       "    button.innerHTML = '<i class=\"fa fa-power-off icon-remove icon-large\"></i>';\n",
       "    button.addEventListener('click', function (_evt) {\n",
       "        fig.handle_close(fig, {});\n",
       "    });\n",
       "    button.addEventListener(\n",
       "        'mouseover',\n",
       "        on_mouseover_closure('Stop Interaction')\n",
       "    );\n",
       "    buttongrp.appendChild(button);\n",
       "    var titlebar = this.root.querySelector('.ui-dialog-titlebar');\n",
       "    titlebar.insertBefore(buttongrp, titlebar.firstChild);\n",
       "};\n",
       "\n",
       "mpl.figure.prototype._remove_fig_handler = function (event) {\n",
       "    var fig = event.data.fig;\n",
       "    if (event.target !== this) {\n",
       "        // Ignore bubbled events from children.\n",
       "        return;\n",
       "    }\n",
       "    fig.close_ws(fig, {});\n",
       "};\n",
       "\n",
       "mpl.figure.prototype._root_extra_style = function (el) {\n",
       "    el.style.boxSizing = 'content-box'; // override notebook setting of border-box.\n",
       "};\n",
       "\n",
       "mpl.figure.prototype._canvas_extra_style = function (el) {\n",
       "    // this is important to make the div 'focusable\n",
       "    el.setAttribute('tabindex', 0);\n",
       "    // reach out to IPython and tell the keyboard manager to turn it's self\n",
       "    // off when our div gets focus\n",
       "\n",
       "    // location in version 3\n",
       "    if (IPython.notebook.keyboard_manager) {\n",
       "        IPython.notebook.keyboard_manager.register_events(el);\n",
       "    } else {\n",
       "        // location in version 2\n",
       "        IPython.keyboard_manager.register_events(el);\n",
       "    }\n",
       "};\n",
       "\n",
       "mpl.figure.prototype._key_event_extra = function (event, _name) {\n",
       "    // Check for shift+enter\n",
       "    if (event.shiftKey && event.which === 13) {\n",
       "        this.canvas_div.blur();\n",
       "        // select the cell after this one\n",
       "        var index = IPython.notebook.find_cell_index(this.cell_info[0]);\n",
       "        IPython.notebook.select(index + 1);\n",
       "    }\n",
       "};\n",
       "\n",
       "mpl.figure.prototype.handle_save = function (fig, _msg) {\n",
       "    fig.ondownload(fig, null);\n",
       "};\n",
       "\n",
       "mpl.find_output_cell = function (html_output) {\n",
       "    // Return the cell and output element which can be found *uniquely* in the notebook.\n",
       "    // Note - this is a bit hacky, but it is done because the \"notebook_saving.Notebook\"\n",
       "    // IPython event is triggered only after the cells have been serialised, which for\n",
       "    // our purposes (turning an active figure into a static one), is too late.\n",
       "    var cells = IPython.notebook.get_cells();\n",
       "    var ncells = cells.length;\n",
       "    for (var i = 0; i < ncells; i++) {\n",
       "        var cell = cells[i];\n",
       "        if (cell.cell_type === 'code') {\n",
       "            for (var j = 0; j < cell.output_area.outputs.length; j++) {\n",
       "                var data = cell.output_area.outputs[j];\n",
       "                if (data.data) {\n",
       "                    // IPython >= 3 moved mimebundle to data attribute of output\n",
       "                    data = data.data;\n",
       "                }\n",
       "                if (data['text/html'] === html_output) {\n",
       "                    return [cell, data, j];\n",
       "                }\n",
       "            }\n",
       "        }\n",
       "    }\n",
       "};\n",
       "\n",
       "// Register the function which deals with the matplotlib target/channel.\n",
       "// The kernel may be null if the page has been refreshed.\n",
       "if (IPython.notebook.kernel !== null) {\n",
       "    IPython.notebook.kernel.comm_manager.register_target(\n",
       "        'matplotlib',\n",
       "        mpl.mpl_figure_comm\n",
       "    );\n",
       "}\n"
      ],
      "text/plain": [
       "<IPython.core.display.Javascript object>"
      ]
     },
     "metadata": {},
     "output_type": "display_data"
    },
    {
     "data": {
      "text/html": [
       "<img src=\"data:image/png;base64,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\" width=\"600\">"
      ],
      "text/plain": [
       "<IPython.core.display.HTML object>"
      ]
     },
     "metadata": {},
     "output_type": "display_data"
    },
    {
     "data": {
      "application/vnd.jupyter.widget-view+json": {
       "model_id": "9612925065484869b2cb9e1c828d5736",
       "version_major": 2,
       "version_minor": 0
      },
      "text/plain": [
       "interactive(children=(FloatSlider(value=0.0, description='theta', max=6.283185307179586, step=0.01), Output())…"
      ]
     },
     "metadata": {},
     "output_type": "display_data"
    }
   ],
   "source": [
    "\n",
    "def g(A, theta):\n",
    "    a, c = np.cos(theta), np.sin(theta)\n",
    "    x = np.linspace(0, a, 100)\n",
    "    y = np.linspace(0, c, 100)\n",
    "    b, d = A @ np.array([a,c])\n",
    "    z = np.linspace(0, b, 100)\n",
    "    w = np.linspace(0, d, 100)\n",
    "    return x, y, z, w\n",
    "\n",
    "fig, ax = plt.subplots(figsize=(6,6))\n",
    "xmin, xmax, ymin, ymax = -2, 2, -2, 2\n",
    "ax.set(xlim=(xmin-1, xmax+1), ylim=(ymin-1, ymax+1), aspect='equal')\n",
    "ax.spines['bottom'].set_position('zero')\n",
    "ax.spines['left'].set_position('zero')\n",
    "ax.spines['top'].set_visible(False)\n",
    "ax.spines['right'].set_visible(False)\n",
    "\n",
    "ax.set_xlabel('x', size=14, labelpad=-24, x=1.03)\n",
    "ax.set_ylabel('y', size=14, labelpad=-21, y=1.02, rotation=0)\n",
    "arrow_fmt = dict(markersize=4, color='black', clip_on=False)\n",
    "ax.plot((1), (0), marker='>', transform=ax.get_yaxis_transform(), **arrow_fmt)\n",
    "ax.plot((0), (1), marker='^', transform=ax.get_xaxis_transform(), **arrow_fmt)\n",
    "\n",
    "x, y, z, w = g(A, 0)\n",
    "line1, = ax.plot(x,y, color='red')\n",
    "line2, = ax.plot(z,w, color='green')\n",
    "\n",
    "angles = np.linspace(0, 2*np.pi, 100)\n",
    "crc = np.array([np.cos(angles), np.sin(angles)])\n",
    "elps = A @ crc\n",
    "ax.plot(crc[0,:], crc[1,:], color='red')\n",
    "ax.plot(elps[0,:], elps[1,:], color='green')\n",
    "\n",
    "def update(theta = 0):\n",
    "    x, y, z, w = g(A,theta)\n",
    "    print(\"x = \"+str(x[-1])+\",\"+str(y[-1]))\n",
    "    print(\"y = \"+str(z[-1])+\",\"+str(w[-1]))\n",
    "    line1.set_data(x, y)\n",
    "    line2.set_data(z, w)\n",
    "    fig.canvas.draw_idle()\n",
    "    \n",
    "interact(update, theta = (0, 2*np.pi, 0.01));"
   ]
  },
  {
   "cell_type": "markdown",
   "id": "6c8629b4",
   "metadata": {
    "hide_input": true,
    "slideshow": {
     "slide_type": "slide"
    }
   },
   "source": [
    "### Example: How to find eigenvalues and eigenvectors\n",
    "\n",
    "$$\n",
    "\\begin{aligned}\n",
    "A &= \\left[\\begin{matrix}0.8 & 0.3\\\\0.2 & 0.7\\end{matrix}\\right]\\\\\n",
    "A\\mathbf x &= \\lambda \\mathbf x\\\\\n",
    "&= \\lambda \\mathbf I \\mathbf x\\\\\n",
    "(A-\\lambda \\mathbf I)\\mathbf x &= \\mathbf 0 \n",
    "\\end{aligned}\n",
    "$$\n",
    "\n",
    "The important matrix now is\n",
    "\n",
    "$$\n",
    "A-\\lambda \\mathbf I = \\begin{bmatrix}\n",
    "0.8-\\lambda & 0.3\\\\\n",
    "0.2 & 0.7-\\lambda\n",
    "\\end{bmatrix}\n",
    "$$"
   ]
  },
  {
   "cell_type": "markdown",
   "id": "b511393c",
   "metadata": {},
   "source": [
    "We are looking for a value of $\\lambda$ such that\n",
    "$$\n",
    "(A-\\lambda \\mathbf I)\\mathbf x = \\mathbf 0 \n",
    "$$\n",
    "\n",
    "with $\\mathbf x \\neq \\mathbf 0$ (otherwise the equation would be trivial).\n",
    "\n",
    "It follows that $(A-\\lambda \\mathbf I)$ is not invertible. Hence:\n",
    "\n",
    "$$\n",
    "|(A-\\lambda \\mathbf I)| = 0\n",
    "$$\n",
    "\n",
    "Using the formula for the determinant of a $2\\times 2$ matrix:\n",
    "\n",
    "$$\n",
    "(0.8-\\lambda)(0.7-\\lambda) - 0.2\\times 0.3 = 0\n",
    "$$\n"
   ]
  },
  {
   "cell_type": "markdown",
   "id": "1f5dd9bd",
   "metadata": {
    "slideshow": {
     "slide_type": "slide"
    }
   },
   "source": [
    "Simplifying:\n",
    "\n",
    "$$\n",
    "\\begin{aligned}\n",
    "(0.8-\\lambda)(0.7-\\lambda) - 0.2\\times 0.3 &= 0\\\\\n",
    "\\lambda ^2 - 1.5\\lambda + 0.56 - 0.06 &= 0\\\\\n",
    "\\lambda^2 - 1.5\\lambda + 0.5 &= 0\n",
    "\\end{aligned}\n",
    "$$\n",
    "\n",
    "There is a formula for finding the solution of quadratic equations (https://en.wikipedia.org/wiki/Quadratic_equation):\n",
    "\n",
    "$$\n",
    "\\begin{aligned}\n",
    "\\lambda_{1/2} = \\frac{3}{4} \\pm \\sqrt{(\\frac{3}{4})^2-\\frac{1}{2}}\\\\\n",
    "&= \\frac{3}{4} \\pm \\sqrt{\\frac{9-8}{16}}\\\\\n",
    "&= \\frac{3}{4} \\pm \\sqrt{\\frac{1}{16}}\\\\\n",
    "&= \\frac{3}{4} \\pm \\frac{1}{4}\\\\\n",
    "\\lambda_1 &= 1\\\\\n",
    "\\lambda_2 &= 0.5\n",
    "\\end{aligned}\n",
    "$$\n",
    "\n",
    "$\\lambda_1$ and $\\lambda_2$ are the eigenvalues of $A$. Now let's find the corresponding eigenvectors."
   ]
  },
  {
   "cell_type": "markdown",
   "id": "1b565015",
   "metadata": {
    "slideshow": {
     "slide_type": "slide"
    }
   },
   "source": [
    "This amount to finding the nullspace of $A-\\lambda\\mathbf I$:\n",
    "\n",
    "- $\\lambda_1$\n",
    "\n",
    "$$\n",
    "\\begin{aligned}\n",
    "(A - \\lambda_1\\mathbf I)\\mathbf x_1 &= \\mathbf 0\\\\\n",
    "\\begin{bmatrix}\n",
    "-0.2 & 0.3\\\\\n",
    "0.2 & -0.3\n",
    "\\end{bmatrix}\\mathbf x_1 &= \\mathbf 0\\\\\n",
    "\\begin{bmatrix}\n",
    "-0.2 & 0.3\\\\\n",
    "0 & 0\n",
    "\\end{bmatrix}\\mathbf x_1 &= \\mathbf 0\\\\\n",
    "\\begin{bmatrix}\n",
    "1 & -1.5\\\\\n",
    "0 & 0\n",
    "\\end{bmatrix}\\mathbf x_1 &= \\mathbf 0\\\\\n",
    "\\mathbf x_1 &= \\begin{bmatrix}1.5\\\\1\\end{bmatrix}\n",
    "\\end{aligned}\n",
    "$$\n",
    "\n"
   ]
  },
  {
   "cell_type": "markdown",
   "id": "9b33c66b",
   "metadata": {
    "slideshow": {
     "slide_type": "slide"
    }
   },
   "source": [
    "\n",
    "- $\\lambda_2$\n",
    "\n",
    "$$\n",
    "\\begin{aligned}\n",
    "(A - \\lambda_2\\mathbf I)\\mathbf x_1 &= \\mathbf 0\\\\\n",
    "\\begin{bmatrix}\n",
    "0.3 & 0.3\\\\\n",
    "0.2 & 0.2\n",
    "\\end{bmatrix}\\mathbf x_2 &= \\mathbf 0\\\\\n",
    "\\begin{bmatrix}\n",
    "0.3 & 0.3\\\\\n",
    "0 & 0\n",
    "\\end{bmatrix}\\mathbf x_2 &= \\mathbf 0\\\\\n",
    "\\begin{bmatrix}\n",
    "1 & 1\\\\\n",
    "0 & 0\n",
    "\\end{bmatrix}\\mathbf x_2 &= \\mathbf 0\\\\\n",
    "\\mathbf x_2 &= \\begin{bmatrix}-1\\\\1\\end{bmatrix}\\\\\n",
    "\\end{aligned}\n",
    "$$"
   ]
  },
  {
   "cell_type": "markdown",
   "id": "6cd39819",
   "metadata": {
    "slideshow": {
     "slide_type": "slide"
    }
   },
   "source": [
    "$\\mathbf x_1$ is the eigenvector *corresponding to* $\\lambda_1$.\n",
    "\n",
    "$\\mathbf x_2$ is the eigenvector *corresponding to* $\\lambda_2$.\n",
    "\n",
    "Any non-zero multiples of $\\mathbf x_1, \\mathbf x_2$ are also eigenvectors. It is common practice to use normalized eigenvectors, i.e. eigenvectors with length 1.\n",
    "\n",
    "$$\n",
    "\\begin{aligned}\n",
    "\\mathbf v_1 &= \\frac{\\mathbf x_1}{||\\mathbf x_1||}\\\\\n",
    "&= \\frac{1}{\\sqrt{13}}\\begin{bmatrix}3\\\\2\\end{bmatrix}\\\\\n",
    "\\mathbf v_2 &= \\frac{\\mathbf x_1}{||\\mathbf x_1||}\\\\\n",
    "&= \\frac{1}{\\sqrt{2}}\\begin{bmatrix}-1\\\\1\\end{bmatrix}\\\\\n",
    "\\end{aligned}\n",
    "$$"
   ]
  },
  {
   "cell_type": "code",
   "execution_count": 4,
   "id": "d201fdf4",
   "metadata": {
    "slideshow": {
     "slide_type": "slide"
    }
   },
   "outputs": [
    {
     "data": {
      "text/latex": [
       "$\\displaystyle \\left[\\begin{matrix}\\frac{4}{5} & \\frac{3}{10}\\\\\\frac{1}{5} & \\frac{7}{10}\\end{matrix}\\right]$"
      ],
      "text/plain": [
       "Matrix([\n",
       "[4/5, 3/10],\n",
       "[1/5, 7/10]])"
      ]
     },
     "execution_count": 4,
     "metadata": {},
     "output_type": "execute_result"
    }
   ],
   "source": [
    "A = Matrix([\n",
    "    [Rational(4,5), Rational(3,10)],\n",
    "    [Rational(1,5), Rational(7,10)]\n",
    "])\n",
    "A"
   ]
  },
  {
   "cell_type": "code",
   "execution_count": 5,
   "id": "d3d5c23c",
   "metadata": {},
   "outputs": [],
   "source": [
    "e1, e2 = A.eigenvects()"
   ]
  },
  {
   "cell_type": "code",
   "execution_count": 6,
   "id": "fd9bf523",
   "metadata": {},
   "outputs": [],
   "source": [
    "lambda1, _, v1 = e1"
   ]
  },
  {
   "cell_type": "code",
   "execution_count": 7,
   "id": "c8bf9c34",
   "metadata": {},
   "outputs": [
    {
     "data": {
      "text/latex": [
       "$\\displaystyle \\frac{1}{2}$"
      ],
      "text/plain": [
       "1/2"
      ]
     },
     "execution_count": 7,
     "metadata": {},
     "output_type": "execute_result"
    }
   ],
   "source": [
    "lambda1"
   ]
  },
  {
   "cell_type": "code",
   "execution_count": 8,
   "id": "f77ce6d4",
   "metadata": {},
   "outputs": [
    {
     "data": {
      "text/latex": [
       "$\\displaystyle \\left[\\begin{matrix}- \\frac{\\sqrt{2}}{2}\\\\\\frac{\\sqrt{2}}{2}\\end{matrix}\\right]$"
      ],
      "text/plain": [
       "Matrix([\n",
       "[-sqrt(2)/2],\n",
       "[ sqrt(2)/2]])"
      ]
     },
     "execution_count": 8,
     "metadata": {},
     "output_type": "execute_result"
    }
   ],
   "source": [
    "v1[0].normalized()"
   ]
  },
  {
   "cell_type": "code",
   "execution_count": 9,
   "id": "db0dc01c",
   "metadata": {},
   "outputs": [],
   "source": [
    "lambda2, _, v2 = e2"
   ]
  },
  {
   "cell_type": "code",
   "execution_count": 10,
   "id": "e1c383d6",
   "metadata": {},
   "outputs": [
    {
     "data": {
      "text/latex": [
       "$\\displaystyle 1$"
      ],
      "text/plain": [
       "1"
      ]
     },
     "execution_count": 10,
     "metadata": {},
     "output_type": "execute_result"
    }
   ],
   "source": [
    "lambda2"
   ]
  },
  {
   "cell_type": "code",
   "execution_count": 11,
   "id": "35f6dfd7",
   "metadata": {},
   "outputs": [
    {
     "data": {
      "text/latex": [
       "$\\displaystyle \\left[\\begin{matrix}\\frac{3 \\sqrt{13}}{13}\\\\\\frac{2 \\sqrt{13}}{13}\\end{matrix}\\right]$"
      ],
      "text/plain": [
       "Matrix([\n",
       "[3*sqrt(13)/13],\n",
       "[2*sqrt(13)/13]])"
      ]
     },
     "execution_count": 11,
     "metadata": {},
     "output_type": "execute_result"
    }
   ],
   "source": [
    "v2[0].normalized()"
   ]
  },
  {
   "cell_type": "code",
   "execution_count": 12,
   "id": "e0ade0b9",
   "metadata": {
    "slideshow": {
     "slide_type": "slide"
    }
   },
   "outputs": [
    {
     "data": {
      "text/plain": [
       "array([[0.8, 0.3],\n",
       "       [0.2, 0.7]])"
      ]
     },
     "execution_count": 12,
     "metadata": {},
     "output_type": "execute_result"
    }
   ],
   "source": [
    "A = np.array([\n",
    "    [0.8, 0.3],\n",
    "    [0.2, 0.7]\n",
    "])\n",
    "A"
   ]
  },
  {
   "cell_type": "code",
   "execution_count": 13,
   "id": "764134f7",
   "metadata": {},
   "outputs": [
    {
     "data": {
      "text/plain": [
       "EigResult(eigenvalues=array([1. , 0.5]), eigenvectors=array([[ 0.83205029, -0.70710678],\n",
       "       [ 0.5547002 ,  0.70710678]]))"
      ]
     },
     "execution_count": 13,
     "metadata": {},
     "output_type": "execute_result"
    }
   ],
   "source": [
    "np.linalg.eig(A)"
   ]
  },
  {
   "cell_type": "markdown",
   "id": "2955e66a",
   "metadata": {
    "slideshow": {
     "slide_type": "slide"
    }
   },
   "source": [
    "\n",
    "\n",
    "### Procedure to find eigenvalues and eigenvectors:\n",
    "\n",
    "1. Construct $A-\\lambda \\mathbf I$ with $\\lambda$ as unknown.\n",
    "2. Set $|A-\\lambda \\mathbf I| = 0$ and solve for $\\lambda$. All solutions are eigenvalues.\n",
    "3. For each solution for $\\lambda$, find the nullspace of $|A-\\lambda \\mathbf I| = 0$. Each vector in the nullspace is an eigenvector corresponding to this solution."
   ]
  },
  {
   "cell_type": "markdown",
   "id": "fbdc1706",
   "metadata": {},
   "source": [
    "##### Example 2: Projection matrix\n",
    "\n",
    "$$\n",
    "A = \\begin{bmatrix}\n",
    "\\frac{1}{2} & \\frac{1}{2}\\\\\n",
    "\\frac{1}{2} & \\frac{1}{2}\n",
    "\\end{bmatrix}\n",
    "$$\n",
    "\n",
    "- find eigenvalues\n",
    "\n",
    "$$\n",
    "\\begin{aligned}\n",
    "\\begin{vmatrix}\n",
    "\\frac{1}{2}-\\lambda & \\frac{1}{2}\\\\\n",
    "\\frac{1}{2} & \\frac{1}{2}-\\lambda\n",
    "\\end{vmatrix} &= 0\\\\\n",
    "(\\frac{1}{2}-\\lambda)^2 - \\frac{1}{4} &= 0\\\\\n",
    "\\lambda^2 -\\lambda &= 0\\\\\n",
    "\\lambda(\\lambda-1) &= 0\\\\\n",
    "\\lambda_1 &= 1\\\\\n",
    "\\lambda_2 &= 0\n",
    "\\end{aligned}\n",
    "$$"
   ]
  },
  {
   "cell_type": "markdown",
   "id": "0c700c06",
   "metadata": {
    "slideshow": {
     "slide_type": "slide"
    }
   },
   "source": [
    "- find eigenvectors\n",
    "\n",
    "    - $\\lambda_1$: \n",
    "    $$\n",
    "    \\begin{aligned}\n",
    "    \\begin{bmatrix}\n",
    "    -\\frac{1}{2} & \\frac{1}{2}\\\\\n",
    "    \\frac{1}{2} & -\\frac{1}{2}\n",
    "    \\end{bmatrix}\\mathbf x_1 &= \\mathbf 0\\\\\n",
    "    \\mathbf x_1 &= \\begin{bmatrix}1\\\\1\\end{bmatrix}\n",
    "    \\end{aligned}\n",
    "    $$\n",
    "    \n",
    "    - $\\lambda_2$:\n",
    "    $$\n",
    "    \\begin{aligned}\n",
    "    \\begin{bmatrix}\n",
    "    \\frac{1}{2} & \\frac{1}{2}\\\\\n",
    "    \\frac{1}{2} & \\frac{1}{2}\n",
    "    \\end{bmatrix}\\mathbf x_2 &= \\mathbf 0\\\\\n",
    "    \\mathbf x_2 &= \\begin{bmatrix}-1\\\\1\\end{bmatrix}\n",
    "    \\end{aligned}\n",
    "    $$"
   ]
  },
  {
   "cell_type": "markdown",
   "id": "a4ee7e80",
   "metadata": {
    "slideshow": {
     "slide_type": "slide"
    }
   },
   "source": [
    "##### Example 3: Reflection matrix\n",
    "\n",
    "$$\n",
    "A = \\begin{bmatrix}\n",
    "0 & 1\\\\\n",
    "1 & 0\n",
    "\\end{bmatrix}\n",
    "$$\n",
    "\n",
    "- find eigenvalues\n",
    "\n",
    "$$\n",
    "\\begin{aligned}\n",
    "\\begin{vmatrix}\n",
    "-\\lambda & 1\\\\\n",
    "1 & -\\lambda\n",
    "\\end{vmatrix} &= 0\\\\\n",
    "\\lambda^2-1 &= 0\\\\\n",
    "\\lambda^2 &= 1\\\\\n",
    "\\lambda_1 &= 1\\\\\n",
    "\\lambda_2 &= -1\n",
    "\\end{aligned}\n",
    "$$"
   ]
  },
  {
   "cell_type": "markdown",
   "id": "afb03c09",
   "metadata": {
    "slideshow": {
     "slide_type": "slide"
    }
   },
   "source": [
    "- find eigenvectors\n",
    "\n",
    "    - $\\lambda_1$: \n",
    "    $$\n",
    "    \\begin{aligned}\n",
    "    \\begin{bmatrix}\n",
    "    -1 & 1\\\\\n",
    "    1 & -1\n",
    "    \\end{bmatrix}\\mathbf x_1 &= \\mathbf 0\\\\\n",
    "    \\mathbf x_1 &= \\begin{bmatrix}1\\\\1\\end{bmatrix}\n",
    "    \\end{aligned}\n",
    "    $$\n",
    "    \n",
    "    - $\\lambda_2$:\n",
    "    $$\n",
    "    \\begin{aligned}\n",
    "    \\begin{bmatrix}\n",
    "    1 & 1\\\\\n",
    "    1 & 1\n",
    "    \\end{bmatrix}\\mathbf x_2 &= \\mathbf 0\\\\\n",
    "    \\mathbf x_2 &= \\begin{bmatrix}-1\\\\1\\end{bmatrix}\n",
    "    \\end{aligned}\n",
    "    $$"
   ]
  },
  {
   "cell_type": "markdown",
   "id": "054398bb",
   "metadata": {
    "slideshow": {
     "slide_type": "slide"
    }
   },
   "source": [
    "##### Example 4: Rotation matrix\n",
    "\n",
    "$$\n",
    "A = \\begin{bmatrix}\n",
    "\\frac{\\sqrt{2}}{2} & \\frac{\\sqrt{2}}{2}\\\\\n",
    "-\\frac{\\sqrt{2}}{2} & \\frac{\\sqrt{2}}{2}\n",
    "\\end{bmatrix}\n",
    "$$\n",
    "\n",
    "- find eigenvalues\n",
    "\n",
    "$$\n",
    "\\begin{aligned}\n",
    "\\begin{vmatrix}\n",
    "\\frac{\\sqrt{2}}{2}-\\lambda & \\frac{\\sqrt{2}}{2}\\\\\n",
    "-\\frac{\\sqrt{2}}{2} & \\frac{\\sqrt{2}}{2}-\\lambda\n",
    "\\end{vmatrix} &= 0\\\\\n",
    "(\\frac{\\sqrt{2}}{2}-\\lambda)^2 + \\frac{1}{2} &= 0\\\\\n",
    "\\lambda^2 - \\sqrt{2}\\lambda + 1 &= 0\\\\\n",
    "\\lambda_{1/2} &= \\frac{\\sqrt{2}}{2} \\pm \\sqrt{\\frac{1}{2} - 1}\\\\\n",
    " &= \\frac{\\sqrt{2}}{2} \\pm \\sqrt{-\\frac{1}{2}}\n",
    "\\end{aligned}\n",
    "$$\n",
    "\n",
    "**There is no solution within the real numbers!**\n",
    "\n",
    "(There are complex eigenvalues – and complex eigenvectors – for this matrix, but this is beyond the scope of this course.)"
   ]
  },
  {
   "cell_type": "markdown",
   "id": "b88fe023",
   "metadata": {
    "slideshow": {
     "slide_type": "slide"
    }
   },
   "source": [
    "##### Example 5: Multiple eigenvalues\n",
    "$$\n",
    "A = \\begin{bmatrix}\n",
    "1 & 0\\\\\n",
    "0 & 1\n",
    "\\end{bmatrix}\n",
    "$$\n",
    "\n",
    "- find eigenvalues\n",
    "\n",
    "$$\n",
    "\\begin{aligned}\n",
    "\\begin{vmatrix}\n",
    "1-\\lambda & 0\\\\\n",
    "0 & 1-\\lambda\n",
    "\\end{vmatrix} &= 0\\\\\n",
    "(1-\\lambda)^2 &= 0\\\\\n",
    "1-\\lambda &= 0\\\\\n",
    "\\lambda &= 1\n",
    "\\end{aligned}\n",
    "$$\n",
    "\n",
    "- find eigenvectors\n",
    "\n",
    "$$\n",
    "\\begin{bmatrix}\n",
    "0 & 0\\\\\n",
    "0 & 0\n",
    "\\end{bmatrix}\\mathbf x = \\mathbf 0\n",
    "$$\n",
    "\n",
    "**Any vector is an eigenvector of the identity matrix.**"
   ]
  },
  {
   "cell_type": "markdown",
   "id": "858ce872",
   "metadata": {
    "slideshow": {
     "slide_type": "slide"
    }
   },
   "source": [
    "##### Example 6: Defective matrices\n",
    "\n",
    "$$\n",
    "A = \\begin{bmatrix}\n",
    "1 & 1\\\\\n",
    "0 & 1\n",
    "\\end{bmatrix}\n",
    "$$\n",
    "\n",
    "- find eigenvalues\n",
    "\n",
    "$$\n",
    "\\begin{aligned}\n",
    "\\begin{vmatrix}\n",
    "1-\\lambda & 1\\\\\n",
    "0 & 1-\\lambda\n",
    "\\end{vmatrix} &= 0\\\\\n",
    "(1-\\lambda)^2 &= 0\\\\\n",
    "1-\\lambda &= 0\\\\\n",
    "\\lambda &= 1\n",
    "\\end{aligned}\n",
    "$$\n",
    "\n",
    "- find eigenvectors\n",
    "\n",
    "$$\n",
    "\\begin{aligned}\n",
    "\\begin{bmatrix}\n",
    "0 & 1\\\\\n",
    "0 & 0\n",
    "\\end{bmatrix}\n",
    "\\mathbf x &= \\mathbf 0\\\\\n",
    "\\mathbf x &= \\begin{bmatrix}1\\\\0\\end{bmatrix}\n",
    "\\end{aligned}\n",
    "$$\n",
    "\n",
    "**This matrix has only one eigenvalue and one eigenvector.**"
   ]
  },
  {
   "cell_type": "markdown",
   "id": "cc9037e8",
   "metadata": {
    "slideshow": {
     "slide_type": "slide"
    }
   },
   "source": [
    "### Larger matrices\n",
    "\n",
    "$$\n",
    "A = \\begin{bmatrix}\n",
    "-1 & 2 & 2\\\\\n",
    "2 & 2 & -1\\\\\n",
    "2 & -1 & 2\n",
    "\\end{bmatrix}\n",
    "$$\n",
    "\n",
    "- finding eigenvalues\n",
    "\n",
    "$$\n",
    "\\begin{aligned}\n",
    "\\begin{vmatrix}\n",
    "-1-\\lambda & 2 & 2\\\\\n",
    "2 & 2-\\lambda & -1\\\\\n",
    "2 & -1 & 2-\\lambda\n",
    "\\end{vmatrix} &= 0\\\\\n",
    "(-1-\\lambda)(2-\\lambda)^2 -4 -4 -4(2-\\lambda)-4(2-\\lambda) + 1 + \\lambda &= 0\\\\\n",
    "-\\lambda^2+4\\lambda-4-\\lambda^3+4\\lambda^2-4\\lambda -4 -4 -8+4\\lambda-8+4\\lambda + 1 + \\lambda &= 0\\\\\n",
    "-\\lambda^3 + 3\\lambda^2 + 9\\lambda - 27&= 0\\\\\n",
    "\\lambda^3 - 3\\lambda^2 - 9\\lambda + 27&= 0\n",
    "\\end{aligned}\n",
    "$$\n"
   ]
  },
  {
   "cell_type": "markdown",
   "id": "8c916755",
   "metadata": {},
   "source": [
    "In the general case, solving a cubic equation by hand is very hard. In this particular example, the solution is:\n",
    "\n",
    "$$\n",
    "\\begin{aligned}\n",
    "\\lambda^3 - 3\\lambda^2 - 9\\lambda + 27 &= (\\lambda -3)^2 (\\lambda+3)\\\\\n",
    "\\lambda_1 &= 3\\\\\n",
    "\\lambda_2 &= -3\n",
    "\\end{aligned}\n",
    "$$\n",
    "\n"
   ]
  },
  {
   "cell_type": "markdown",
   "id": "16223894",
   "metadata": {
    "slideshow": {
     "slide_type": "slide"
    }
   },
   "source": [
    "\n",
    "\n",
    "- eigenvectors"
   ]
  },
  {
   "cell_type": "code",
   "execution_count": 14,
   "id": "ef01cfd0",
   "metadata": {},
   "outputs": [
    {
     "data": {
      "text/latex": [
       "$\\displaystyle \\left[\\begin{matrix}-1 & 2 & 2\\\\2 & 2 & -1\\\\2 & -1 & 2\\end{matrix}\\right]$"
      ],
      "text/plain": [
       "Matrix([\n",
       "[-1,  2,  2],\n",
       "[ 2,  2, -1],\n",
       "[ 2, -1,  2]])"
      ]
     },
     "execution_count": 14,
     "metadata": {},
     "output_type": "execute_result"
    }
   ],
   "source": [
    "A = Matrix([\n",
    "    [-1,2,2],\n",
    "    [2,2,-1],\n",
    "    [2,-1,2]\n",
    "])\n",
    "A"
   ]
  },
  {
   "cell_type": "code",
   "execution_count": 15,
   "id": "7018c0de",
   "metadata": {},
   "outputs": [
    {
     "data": {
      "text/plain": [
       "{-3: 1, 3: 2}"
      ]
     },
     "execution_count": 15,
     "metadata": {},
     "output_type": "execute_result"
    }
   ],
   "source": [
    "A.eigenvals()"
   ]
  },
  {
   "cell_type": "markdown",
   "id": "cc34ddc5",
   "metadata": {},
   "source": [
    "(In this dictionary, the keys are the eigenvalues and the values are the *algebraic multiplicity*.)"
   ]
  },
  {
   "cell_type": "code",
   "execution_count": 16,
   "id": "05ebe5ec",
   "metadata": {},
   "outputs": [],
   "source": [
    "e1, e2 = A.eigenvects()"
   ]
  },
  {
   "cell_type": "code",
   "execution_count": 17,
   "id": "26e73b6d",
   "metadata": {},
   "outputs": [
    {
     "data": {
      "text/latex": [
       "$\\displaystyle -3$"
      ],
      "text/plain": [
       "-3"
      ]
     },
     "execution_count": 17,
     "metadata": {},
     "output_type": "execute_result"
    }
   ],
   "source": [
    "e1[0]"
   ]
  },
  {
   "cell_type": "code",
   "execution_count": 18,
   "id": "86046c65",
   "metadata": {},
   "outputs": [
    {
     "data": {
      "text/latex": [
       "$\\displaystyle \\left[\\begin{matrix}-2\\\\1\\\\1\\end{matrix}\\right]$"
      ],
      "text/plain": [
       "Matrix([\n",
       "[-2],\n",
       "[ 1],\n",
       "[ 1]])"
      ]
     },
     "execution_count": 18,
     "metadata": {},
     "output_type": "execute_result"
    }
   ],
   "source": [
    "e1[2][0]"
   ]
  },
  {
   "cell_type": "code",
   "execution_count": 19,
   "id": "cf4b0d33",
   "metadata": {},
   "outputs": [
    {
     "data": {
      "text/latex": [
       "$\\displaystyle 3$"
      ],
      "text/plain": [
       "3"
      ]
     },
     "execution_count": 19,
     "metadata": {},
     "output_type": "execute_result"
    }
   ],
   "source": [
    "e2[0]"
   ]
  },
  {
   "cell_type": "code",
   "execution_count": 20,
   "id": "2c03d6f5",
   "metadata": {},
   "outputs": [
    {
     "data": {
      "text/latex": [
       "$\\displaystyle \\left[\\begin{matrix}\\frac{1}{2}\\\\1\\\\0\\end{matrix}\\right]$"
      ],
      "text/plain": [
       "Matrix([\n",
       "[1/2],\n",
       "[  1],\n",
       "[  0]])"
      ]
     },
     "execution_count": 20,
     "metadata": {},
     "output_type": "execute_result"
    }
   ],
   "source": [
    "e2[2][0]"
   ]
  },
  {
   "cell_type": "code",
   "execution_count": 21,
   "id": "755698f1",
   "metadata": {
    "slideshow": {
     "slide_type": "slide"
    }
   },
   "outputs": [
    {
     "data": {
      "text/latex": [
       "$\\displaystyle \\left[\\begin{matrix}\\frac{1}{2}\\\\0\\\\1\\end{matrix}\\right]$"
      ],
      "text/plain": [
       "Matrix([\n",
       "[1/2],\n",
       "[  0],\n",
       "[  1]])"
      ]
     },
     "execution_count": 21,
     "metadata": {},
     "output_type": "execute_result"
    }
   ],
   "source": [
    "e2[2][1]"
   ]
  },
  {
   "cell_type": "markdown",
   "id": "af548ac3",
   "metadata": {},
   "source": [
    "Note that there are two eigenvectors corresponding to the eigenvalue 3."
   ]
  },
  {
   "cell_type": "code",
   "execution_count": 22,
   "id": "cc2e3e5a",
   "metadata": {
    "slideshow": {
     "slide_type": "slide"
    }
   },
   "outputs": [
    {
     "data": {
      "text/latex": [
       "$\\displaystyle \\left[\\begin{matrix}-1 & 2 & 3\\\\4 & 5 & 6\\\\7 & 8 & 9\\end{matrix}\\right]$"
      ],
      "text/plain": [
       "Matrix([\n",
       "[-1, 2, 3],\n",
       "[ 4, 5, 6],\n",
       "[ 7, 8, 9]])"
      ]
     },
     "execution_count": 22,
     "metadata": {},
     "output_type": "execute_result"
    }
   ],
   "source": [
    "A = Matrix([\n",
    "    [-1,2,3],\n",
    "    [4,5,6],\n",
    "    [7,8,9]\n",
    "])\n",
    "A"
   ]
  },
  {
   "cell_type": "code",
   "execution_count": 23,
   "id": "ffeae032",
   "metadata": {},
   "outputs": [],
   "source": [
    "e1, e2, e3 = A.eigenvects()"
   ]
  },
  {
   "cell_type": "code",
   "execution_count": 24,
   "id": "d47eafce",
   "metadata": {},
   "outputs": [
    {
     "data": {
      "text/latex": [
       "$\\displaystyle \\frac{13}{3} + \\left(- \\frac{1}{2} - \\frac{\\sqrt{3} i}{2}\\right) \\sqrt[3]{\\frac{4969}{27} + \\frac{\\sqrt{471498} i}{9}} + \\frac{307}{9 \\left(- \\frac{1}{2} - \\frac{\\sqrt{3} i}{2}\\right) \\sqrt[3]{\\frac{4969}{27} + \\frac{\\sqrt{471498} i}{9}}}$"
      ],
      "text/plain": [
       "13/3 + (-1/2 - sqrt(3)*I/2)*(4969/27 + sqrt(471498)*I/9)**(1/3) + 307/(9*(-1/2 - sqrt(3)*I/2)*(4969/27 + sqrt(471498)*I/9)**(1/3))"
      ]
     },
     "execution_count": 24,
     "metadata": {},
     "output_type": "execute_result"
    }
   ],
   "source": [
    "e1[0]"
   ]
  },
  {
   "cell_type": "code",
   "execution_count": 25,
   "id": "ab31601e",
   "metadata": {
    "slideshow": {
     "slide_type": "slide"
    }
   },
   "outputs": [
    {
     "data": {
      "text/latex": [
       "$\\displaystyle \\left[\\begin{matrix}\\frac{306}{89} + \\frac{63 \\left(- \\frac{1}{2} - \\frac{\\sqrt{3} i}{2}\\right) \\sqrt[3]{\\frac{4969}{27} + \\frac{\\sqrt{471498} i}{9}}}{89} - \\frac{4 \\left(\\frac{13}{3} + \\left(- \\frac{1}{2} - \\frac{\\sqrt{3} i}{2}\\right) \\sqrt[3]{\\frac{4969}{27} + \\frac{\\sqrt{471498} i}{9}} + \\frac{307}{9 \\left(- \\frac{1}{2} - \\frac{\\sqrt{3} i}{2}\\right) \\sqrt[3]{\\frac{4969}{27} + \\frac{\\sqrt{471498} i}{9}}}\\right)^{2}}{89} + \\frac{2149}{89 \\left(- \\frac{1}{2} - \\frac{\\sqrt{3} i}{2}\\right) \\sqrt[3]{\\frac{4969}{27} + \\frac{\\sqrt{471498} i}{9}}}\\\\- \\frac{959}{267} - \\frac{13508}{801 \\left(- \\frac{1}{2} - \\frac{\\sqrt{3} i}{2}\\right) \\sqrt[3]{\\frac{4969}{27} + \\frac{\\sqrt{471498} i}{9}}} + \\frac{7 \\left(\\frac{13}{3} + \\left(- \\frac{1}{2} - \\frac{\\sqrt{3} i}{2}\\right) \\sqrt[3]{\\frac{4969}{27} + \\frac{\\sqrt{471498} i}{9}} + \\frac{307}{9 \\left(- \\frac{1}{2} - \\frac{\\sqrt{3} i}{2}\\right) \\sqrt[3]{\\frac{4969}{27} + \\frac{\\sqrt{471498} i}{9}}}\\right)^{2}}{178} - \\frac{44 \\left(- \\frac{1}{2} - \\frac{\\sqrt{3} i}{2}\\right) \\sqrt[3]{\\frac{4969}{27} + \\frac{\\sqrt{471498} i}{9}}}{89}\\\\1\\end{matrix}\\right]$"
      ],
      "text/plain": [
       "Matrix([\n",
       "[     306/89 + 63*(-1/2 - sqrt(3)*I/2)*(4969/27 + sqrt(471498)*I/9)**(1/3)/89 - 4*(13/3 + (-1/2 - sqrt(3)*I/2)*(4969/27 + sqrt(471498)*I/9)**(1/3) + 307/(9*(-1/2 - sqrt(3)*I/2)*(4969/27 + sqrt(471498)*I/9)**(1/3)))**2/89 + 2149/(89*(-1/2 - sqrt(3)*I/2)*(4969/27 + sqrt(471498)*I/9)**(1/3))],\n",
       "[-959/267 - 13508/(801*(-1/2 - sqrt(3)*I/2)*(4969/27 + sqrt(471498)*I/9)**(1/3)) + 7*(13/3 + (-1/2 - sqrt(3)*I/2)*(4969/27 + sqrt(471498)*I/9)**(1/3) + 307/(9*(-1/2 - sqrt(3)*I/2)*(4969/27 + sqrt(471498)*I/9)**(1/3)))**2/178 - 44*(-1/2 - sqrt(3)*I/2)*(4969/27 + sqrt(471498)*I/9)**(1/3)/89],\n",
       "[                                                                                                                                                                                                                                                                                               1]])"
      ]
     },
     "execution_count": 25,
     "metadata": {},
     "output_type": "execute_result"
    }
   ],
   "source": [
    "e1[2][0]"
   ]
  },
  {
   "cell_type": "code",
   "execution_count": 26,
   "id": "7087786e",
   "metadata": {
    "slideshow": {
     "slide_type": "slide"
    }
   },
   "outputs": [
    {
     "data": {
      "text/latex": [
       "$\\displaystyle \\frac{13}{3} + \\frac{307}{9 \\left(- \\frac{1}{2} + \\frac{\\sqrt{3} i}{2}\\right) \\sqrt[3]{\\frac{4969}{27} + \\frac{\\sqrt{471498} i}{9}}} + \\left(- \\frac{1}{2} + \\frac{\\sqrt{3} i}{2}\\right) \\sqrt[3]{\\frac{4969}{27} + \\frac{\\sqrt{471498} i}{9}}$"
      ],
      "text/plain": [
       "13/3 + 307/(9*(-1/2 + sqrt(3)*I/2)*(4969/27 + sqrt(471498)*I/9)**(1/3)) + (-1/2 + sqrt(3)*I/2)*(4969/27 + sqrt(471498)*I/9)**(1/3)"
      ]
     },
     "execution_count": 26,
     "metadata": {},
     "output_type": "execute_result"
    }
   ],
   "source": [
    "e2[0]"
   ]
  },
  {
   "cell_type": "code",
   "execution_count": 27,
   "id": "326fe5c5",
   "metadata": {},
   "outputs": [
    {
     "data": {
      "text/latex": [
       "$\\displaystyle \\left[\\begin{matrix}\\frac{306}{89} + \\frac{2149}{89 \\left(- \\frac{1}{2} + \\frac{\\sqrt{3} i}{2}\\right) \\sqrt[3]{\\frac{4969}{27} + \\frac{\\sqrt{471498} i}{9}}} - \\frac{4 \\left(\\frac{13}{3} + \\frac{307}{9 \\left(- \\frac{1}{2} + \\frac{\\sqrt{3} i}{2}\\right) \\sqrt[3]{\\frac{4969}{27} + \\frac{\\sqrt{471498} i}{9}}} + \\left(- \\frac{1}{2} + \\frac{\\sqrt{3} i}{2}\\right) \\sqrt[3]{\\frac{4969}{27} + \\frac{\\sqrt{471498} i}{9}}\\right)^{2}}{89} + \\frac{63 \\left(- \\frac{1}{2} + \\frac{\\sqrt{3} i}{2}\\right) \\sqrt[3]{\\frac{4969}{27} + \\frac{\\sqrt{471498} i}{9}}}{89}\\\\- \\frac{959}{267} - \\frac{44 \\left(- \\frac{1}{2} + \\frac{\\sqrt{3} i}{2}\\right) \\sqrt[3]{\\frac{4969}{27} + \\frac{\\sqrt{471498} i}{9}}}{89} + \\frac{7 \\left(\\frac{13}{3} + \\frac{307}{9 \\left(- \\frac{1}{2} + \\frac{\\sqrt{3} i}{2}\\right) \\sqrt[3]{\\frac{4969}{27} + \\frac{\\sqrt{471498} i}{9}}} + \\left(- \\frac{1}{2} + \\frac{\\sqrt{3} i}{2}\\right) \\sqrt[3]{\\frac{4969}{27} + \\frac{\\sqrt{471498} i}{9}}\\right)^{2}}{178} - \\frac{13508}{801 \\left(- \\frac{1}{2} + \\frac{\\sqrt{3} i}{2}\\right) \\sqrt[3]{\\frac{4969}{27} + \\frac{\\sqrt{471498} i}{9}}}\\\\1\\end{matrix}\\right]$"
      ],
      "text/plain": [
       "Matrix([\n",
       "[     306/89 + 2149/(89*(-1/2 + sqrt(3)*I/2)*(4969/27 + sqrt(471498)*I/9)**(1/3)) - 4*(13/3 + 307/(9*(-1/2 + sqrt(3)*I/2)*(4969/27 + sqrt(471498)*I/9)**(1/3)) + (-1/2 + sqrt(3)*I/2)*(4969/27 + sqrt(471498)*I/9)**(1/3))**2/89 + 63*(-1/2 + sqrt(3)*I/2)*(4969/27 + sqrt(471498)*I/9)**(1/3)/89],\n",
       "[-959/267 - 44*(-1/2 + sqrt(3)*I/2)*(4969/27 + sqrt(471498)*I/9)**(1/3)/89 + 7*(13/3 + 307/(9*(-1/2 + sqrt(3)*I/2)*(4969/27 + sqrt(471498)*I/9)**(1/3)) + (-1/2 + sqrt(3)*I/2)*(4969/27 + sqrt(471498)*I/9)**(1/3))**2/178 - 13508/(801*(-1/2 + sqrt(3)*I/2)*(4969/27 + sqrt(471498)*I/9)**(1/3))],\n",
       "[                                                                                                                                                                                                                                                                                               1]])"
      ]
     },
     "execution_count": 27,
     "metadata": {},
     "output_type": "execute_result"
    }
   ],
   "source": [
    "e2[2][0]"
   ]
  },
  {
   "cell_type": "code",
   "execution_count": 28,
   "id": "79d77dd9",
   "metadata": {
    "slideshow": {
     "slide_type": "slide"
    }
   },
   "outputs": [
    {
     "data": {
      "text/latex": [
       "$\\displaystyle \\frac{13}{3} + \\frac{307}{9 \\sqrt[3]{\\frac{4969}{27} + \\frac{\\sqrt{471498} i}{9}}} + \\sqrt[3]{\\frac{4969}{27} + \\frac{\\sqrt{471498} i}{9}}$"
      ],
      "text/plain": [
       "13/3 + 307/(9*(4969/27 + sqrt(471498)*I/9)**(1/3)) + (4969/27 + sqrt(471498)*I/9)**(1/3)"
      ]
     },
     "execution_count": 28,
     "metadata": {},
     "output_type": "execute_result"
    }
   ],
   "source": [
    "e3[0]"
   ]
  },
  {
   "cell_type": "code",
   "execution_count": 29,
   "id": "adc3ee71",
   "metadata": {},
   "outputs": [
    {
     "data": {
      "text/latex": [
       "$\\displaystyle \\left[\\begin{matrix}\\frac{306}{89} + \\frac{2149}{89 \\sqrt[3]{\\frac{4969}{27} + \\frac{\\sqrt{471498} i}{9}}} - \\frac{4 \\left(\\frac{13}{3} + \\frac{307}{9 \\sqrt[3]{\\frac{4969}{27} + \\frac{\\sqrt{471498} i}{9}}} + \\sqrt[3]{\\frac{4969}{27} + \\frac{\\sqrt{471498} i}{9}}\\right)^{2}}{89} + \\frac{63 \\sqrt[3]{\\frac{4969}{27} + \\frac{\\sqrt{471498} i}{9}}}{89}\\\\- \\frac{959}{267} - \\frac{44 \\sqrt[3]{\\frac{4969}{27} + \\frac{\\sqrt{471498} i}{9}}}{89} + \\frac{7 \\left(\\frac{13}{3} + \\frac{307}{9 \\sqrt[3]{\\frac{4969}{27} + \\frac{\\sqrt{471498} i}{9}}} + \\sqrt[3]{\\frac{4969}{27} + \\frac{\\sqrt{471498} i}{9}}\\right)^{2}}{178} - \\frac{13508}{801 \\sqrt[3]{\\frac{4969}{27} + \\frac{\\sqrt{471498} i}{9}}}\\\\1\\end{matrix}\\right]$"
      ],
      "text/plain": [
       "Matrix([\n",
       "[     306/89 + 2149/(89*(4969/27 + sqrt(471498)*I/9)**(1/3)) - 4*(13/3 + 307/(9*(4969/27 + sqrt(471498)*I/9)**(1/3)) + (4969/27 + sqrt(471498)*I/9)**(1/3))**2/89 + 63*(4969/27 + sqrt(471498)*I/9)**(1/3)/89],\n",
       "[-959/267 - 44*(4969/27 + sqrt(471498)*I/9)**(1/3)/89 + 7*(13/3 + 307/(9*(4969/27 + sqrt(471498)*I/9)**(1/3)) + (4969/27 + sqrt(471498)*I/9)**(1/3))**2/178 - 13508/(801*(4969/27 + sqrt(471498)*I/9)**(1/3))],\n",
       "[                                                                                                                                                                                                           1]])"
      ]
     },
     "execution_count": 29,
     "metadata": {},
     "output_type": "execute_result"
    }
   ],
   "source": [
    "e3[2][0]"
   ]
  },
  {
   "cell_type": "code",
   "execution_count": 30,
   "id": "7857cb6d",
   "metadata": {},
   "outputs": [
    {
     "data": {
      "text/latex": [
       "$\\displaystyle \\left[\\begin{matrix}0 & -3 & 2 & -1\\\\-3 & 9 & -6 & 3\\\\2 & -6 & 4 & -2\\\\-1 & 3 & -2 & 2\\end{matrix}\\right]$"
      ],
      "text/plain": [
       "Matrix([\n",
       "[ 0, -3,  2, -1],\n",
       "[-3,  9, -6,  3],\n",
       "[ 2, -6,  4, -2],\n",
       "[-1,  3, -2,  2]])"
      ]
     },
     "execution_count": 30,
     "metadata": {},
     "output_type": "execute_result"
    }
   ],
   "source": [
    "A = Matrix([\n",
    "    [0,-3,2,-1],\n",
    "    [-3,9,-6,3],\n",
    "    [2,-6,4,-2],\n",
    "    [-1, 3, -2, 2]\n",
    "])\n",
    "A"
   ]
  },
  {
   "cell_type": "code",
   "execution_count": 31,
   "id": "9b560343",
   "metadata": {
    "slideshow": {
     "slide_type": "slide"
    }
   },
   "outputs": [
    {
     "data": {
      "text/plain": [
       "[(0,\n",
       "  1,\n",
       "  [Matrix([\n",
       "   [  0],\n",
       "   [2/3],\n",
       "   [  1],\n",
       "   [  0]])]),\n",
       " (5 + (-1/2 - sqrt(3)*I/2)*(121 + sqrt(131007)*I/9)**(1/3) + 76/(3*(-1/2 - sqrt(3)*I/2)*(121 + sqrt(131007)*I/9)**(1/3)),\n",
       "  1,\n",
       "  [Matrix([\n",
       "   [             -66 - 1216/(3*(-1/2 - sqrt(3)*I/2)*(121 + sqrt(131007)*I/9)**(1/3)) + (5 + (-1/2 - sqrt(3)*I/2)*(121 + sqrt(131007)*I/9)**(1/3) + 76/(3*(-1/2 - sqrt(3)*I/2)*(121 + sqrt(131007)*I/9)**(1/3)))**2 - 16*(-1/2 - sqrt(3)*I/2)*(121 + sqrt(131007)*I/9)**(1/3)],\n",
       "   [-189/13 - 1140/(13*(-1/2 - sqrt(3)*I/2)*(121 + sqrt(131007)*I/9)**(1/3)) + 3*(5 + (-1/2 - sqrt(3)*I/2)*(121 + sqrt(131007)*I/9)**(1/3) + 76/(3*(-1/2 - sqrt(3)*I/2)*(121 + sqrt(131007)*I/9)**(1/3)))**2/13 - 45*(-1/2 - sqrt(3)*I/2)*(121 + sqrt(131007)*I/9)**(1/3)/13],\n",
       "   [  126/13 + 30*(-1/2 - sqrt(3)*I/2)*(121 + sqrt(131007)*I/9)**(1/3)/13 - 2*(5 + (-1/2 - sqrt(3)*I/2)*(121 + sqrt(131007)*I/9)**(1/3) + 76/(3*(-1/2 - sqrt(3)*I/2)*(121 + sqrt(131007)*I/9)**(1/3)))**2/13 + 760/(13*(-1/2 - sqrt(3)*I/2)*(121 + sqrt(131007)*I/9)**(1/3))],\n",
       "   [                                                                                                                                                                                                                                                                       1]])]),\n",
       " (5 + 76/(3*(-1/2 + sqrt(3)*I/2)*(121 + sqrt(131007)*I/9)**(1/3)) + (-1/2 + sqrt(3)*I/2)*(121 + sqrt(131007)*I/9)**(1/3),\n",
       "  1,\n",
       "  [Matrix([\n",
       "   [             -66 - 16*(-1/2 + sqrt(3)*I/2)*(121 + sqrt(131007)*I/9)**(1/3) + (5 + 76/(3*(-1/2 + sqrt(3)*I/2)*(121 + sqrt(131007)*I/9)**(1/3)) + (-1/2 + sqrt(3)*I/2)*(121 + sqrt(131007)*I/9)**(1/3))**2 - 1216/(3*(-1/2 + sqrt(3)*I/2)*(121 + sqrt(131007)*I/9)**(1/3))],\n",
       "   [-189/13 - 45*(-1/2 + sqrt(3)*I/2)*(121 + sqrt(131007)*I/9)**(1/3)/13 + 3*(5 + 76/(3*(-1/2 + sqrt(3)*I/2)*(121 + sqrt(131007)*I/9)**(1/3)) + (-1/2 + sqrt(3)*I/2)*(121 + sqrt(131007)*I/9)**(1/3))**2/13 - 1140/(13*(-1/2 + sqrt(3)*I/2)*(121 + sqrt(131007)*I/9)**(1/3))],\n",
       "   [  126/13 + 760/(13*(-1/2 + sqrt(3)*I/2)*(121 + sqrt(131007)*I/9)**(1/3)) - 2*(5 + 76/(3*(-1/2 + sqrt(3)*I/2)*(121 + sqrt(131007)*I/9)**(1/3)) + (-1/2 + sqrt(3)*I/2)*(121 + sqrt(131007)*I/9)**(1/3))**2/13 + 30*(-1/2 + sqrt(3)*I/2)*(121 + sqrt(131007)*I/9)**(1/3)/13],\n",
       "   [                                                                                                                                                                                                                                                                       1]])]),\n",
       " (5 + 76/(3*(121 + sqrt(131007)*I/9)**(1/3)) + (121 + sqrt(131007)*I/9)**(1/3),\n",
       "  1,\n",
       "  [Matrix([\n",
       "   [             -66 - 16*(121 + sqrt(131007)*I/9)**(1/3) + (5 + 76/(3*(121 + sqrt(131007)*I/9)**(1/3)) + (121 + sqrt(131007)*I/9)**(1/3))**2 - 1216/(3*(121 + sqrt(131007)*I/9)**(1/3))],\n",
       "   [-189/13 - 45*(121 + sqrt(131007)*I/9)**(1/3)/13 + 3*(5 + 76/(3*(121 + sqrt(131007)*I/9)**(1/3)) + (121 + sqrt(131007)*I/9)**(1/3))**2/13 - 1140/(13*(121 + sqrt(131007)*I/9)**(1/3))],\n",
       "   [  126/13 + 760/(13*(121 + sqrt(131007)*I/9)**(1/3)) - 2*(5 + 76/(3*(121 + sqrt(131007)*I/9)**(1/3)) + (121 + sqrt(131007)*I/9)**(1/3))**2/13 + 30*(121 + sqrt(131007)*I/9)**(1/3)/13],\n",
       "   [                                                                                                                                                                                   1]])])]"
      ]
     },
     "execution_count": 31,
     "metadata": {},
     "output_type": "execute_result"
    }
   ],
   "source": [
    "A.eigenvects()"
   ]
  },
  {
   "cell_type": "markdown",
   "id": "1d35b521",
   "metadata": {
    "slideshow": {
     "slide_type": "slide"
    }
   },
   "source": [
    "### Facts about eigenvalues and eigenvectors\n",
    "\n",
    "- An $n\\times n$ matrix has between 0 and $n$ eigenvalues.\n",
    "- Each eigenvalue has a certain *algebraic multiplicity* between $1$ and $n$.\n",
    "- The sum of the algebraic multiplicities is $\\leq n$.\n",
    "- For each eigenvalue, there is a number $k$ of linearly independent eigenvectors. $k$ is between $1$ and the algebraic multiplicity of the eigenvalue.\n",
    "- The number of eigenvectors for an eigenvalue is called its *geometric multiplicity*."
   ]
  },
  {
   "cell_type": "markdown",
   "id": "d0476bfd",
   "metadata": {
    "slideshow": {
     "slide_type": "slide"
    }
   },
   "source": [
    "## Eigenspaces\n",
    "\n",
    "\n",
    "- **Eigenspaces** are fundamental concepts in linear algebra, associated with eigenvalues and eigenvectors of a matrix.\n",
    "- **Definition:** The eigenspace of an eigenvalue is the set of all vectors that, when multiplied by the matrix, result in a vector that is a the original vector multiplied with that eigenvalue.\n",
    "- **Mathematically:** If $A$ is a matrix and λ is an eigenvalue, then the eigenspace of λ is the set of all vectors \n",
    "$\\mathbf v$ satisfying \n",
    "$$\n",
    "A\\mathbf v=λ\\mathbf v\n",
    "$$\n"
   ]
  },
  {
   "cell_type": "markdown",
   "id": "83e1aee6",
   "metadata": {
    "slideshow": {
     "slide_type": "slide"
    }
   },
   "source": [
    "### Computing Eigenspaces\n",
    "\n",
    "To find the eigenspace of an eigenvalue $\\lambda$:\n",
    "\n",
    "1. **Find Eigenvectors**: Solve $ (A - \\lambda I)\\mathbf v = 0 $ for each eigenvalue to find the corresponding eigenvectors $ \\mathbf v $.\n",
    "2. **Form Eigenspace**: The set of all eigenvectors, including the zero vector, forms the eigenspace for the eigenvalue.\n"
   ]
  },
  {
   "cell_type": "markdown",
   "id": "eca72ca6",
   "metadata": {
    "slideshow": {
     "slide_type": "slide"
    }
   },
   "source": [
    "### Properties and Applications of Eigenspaces\n",
    "\n",
    "**Properties**:\n",
    "- The eigenspace of an eigenvalue is a linear subspace.\n",
    "- Dimension of the eigenspace is the geometric multiplicity of the eigenvalue.\n",
    "\n",
    "**Applications**:\n",
    "- Used in diagonalization of matrices.\n",
    "- Important in fields like quantum mechanics, vibrations analysis, facial recognition, and more.\n",
    "\n",
    "**Conclusion**: Understanding eigenspaces is crucial for grasping the behavior of linear transformations and matrices.\n"
   ]
  },
  {
   "cell_type": "markdown",
   "id": "b7fcb3e9",
   "metadata": {
    "slideshow": {
     "slide_type": "slide"
    }
   },
   "source": [
    "### Triangular matrices\n",
    "\n",
    "$$\n",
    "\\begin{aligned}\n",
    "A &= \n",
    "\\begin{bmatrix}\n",
    "1 & 4 & 1\\\\\n",
    "0 & 6 & 4\\\\\n",
    "0 & 0 & 2\n",
    "\\end{bmatrix}\\\\\n",
    "A -\\lambda \\mathbf I &= \n",
    "\\begin{vmatrix}\n",
    "1-\\lambda & 4 & 1\\\\\n",
    "0 & 6-\\lambda & 4\\\\\n",
    "0 & 0 & 2-\\lambda \n",
    "\\end{vmatrix}\\\\\n",
    "&= 0\\\\\n",
    "(1-\\lambda)(6-\\lambda)(2-\\lambda) &= 0\\\\\n",
    "\\lambda_1 &= 6\\\\\n",
    "\\lambda_2 &= 2\\\\\n",
    "\\lambda_3 &= 1\n",
    "\\end{aligned}\n",
    "$$\n",
    "\n",
    "**In triangular matrices, the diagonal entries are the eigenvalues.**"
   ]
  }
 ],
 "metadata": {
  "@webio": {
   "lastCommId": null,
   "lastKernelId": null
  },
  "celltoolbar": "Slideshow",
  "hide_input": false,
  "kernelspec": {
   "display_name": "Python 3 (ipykernel)",
   "language": "python",
   "name": "python3"
  },
  "language_info": {
   "codemirror_mode": {
    "name": "ipython",
    "version": 3
   },
   "file_extension": ".py",
   "mimetype": "text/x-python",
   "name": "python",
   "nbconvert_exporter": "python",
   "pygments_lexer": "ipython3",
   "version": "3.9.11"
  },
  "latex_envs": {
   "LaTeX_envs_menu_present": true,
   "autoclose": false,
   "autocomplete": true,
   "bibliofile": "biblio.bib",
   "cite_by": "apalike",
   "current_citInitial": 1,
   "eqLabelWithNumbers": true,
   "eqNumInitial": 1,
   "hotkeys": {
    "equation": "Ctrl-E",
    "itemize": "Ctrl-I"
   },
   "labels_anchors": false,
   "latex_user_defs": false,
   "report_style_numbering": false,
   "user_envs_cfg": false
  },
  "rise": {
   "enable_chalkboard": true
  },
  "varInspector": {
   "cols": {
    "lenName": 16,
    "lenType": 16,
    "lenVar": 40
   },
   "kernels_config": {
    "python": {
     "delete_cmd_postfix": "",
     "delete_cmd_prefix": "del ",
     "library": "var_list.py",
     "varRefreshCmd": "print(var_dic_list())"
    },
    "r": {
     "delete_cmd_postfix": ") ",
     "delete_cmd_prefix": "rm(",
     "library": "var_list.r",
     "varRefreshCmd": "cat(var_dic_list()) "
    }
   },
   "types_to_exclude": [
    "module",
    "function",
    "builtin_function_or_method",
    "instance",
    "_Feature"
   ],
   "window_display": false
  }
 },
 "nbformat": 4,
 "nbformat_minor": 5
}
