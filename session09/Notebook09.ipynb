{
 "cells": [
  {
   "cell_type": "code",
   "execution_count": 1,
   "id": "6b6d3e8a",
   "metadata": {
    "hide_input": true,
    "slideshow": {
     "slide_type": "skip"
    }
   },
   "outputs": [],
   "source": [
    "import sympy\n",
    "from sympy import Matrix, Rational, sqrt, symbols, zeros, simplify, exp\n",
    "import numpy as np\n",
    "import matplotlib.pyplot as plt\n",
    "import ipywidgets as widgets\n",
    "from ipywidgets import interact, interactive, fixed, interact_manual\n",
    "import matplotlib.pyplot as plt\n",
    "%matplotlib notebook\n"
   ]
  },
  {
   "cell_type": "markdown",
   "id": "17d690f6",
   "metadata": {
    "hide_input": true,
    "slideshow": {
     "slide_type": "slide"
    }
   },
   "source": [
    "# Mathematics for Machine Learning\n",
    "\n",
    "## Session 9: Eigenvectors and eigenvalues\n",
    "\n",
    "## Gerhard Jäger\n",
    "\n",
    "### November 19, 2024"
   ]
  },
  {
   "cell_type": "markdown",
   "id": "4ac3102c",
   "metadata": {
    "slideshow": {
     "slide_type": "slide"
    }
   },
   "source": [
    "## Eigenvectors and eigenvalues\n",
    "\n",
    "### Basic equation\n",
    "\n",
    "$$\n",
    "A\\mathbf x = \\lambda \\mathbf x\n",
    "$$\n",
    "\n",
    "- $\\mathbf x$ is called an **eigenvector** of $A$\n",
    "- $\\lambda$ is called an **eigenvalue** of $A$"
   ]
  },
  {
   "cell_type": "code",
   "execution_count": 2,
   "id": "79b42587",
   "metadata": {
    "slideshow": {
     "slide_type": "slide"
    }
   },
   "outputs": [],
   "source": [
    "from math import *\n",
    "A = np.array([\n",
    "    [1, 1],\n",
    "    [0, 1]\n",
    "])"
   ]
  },
  {
   "cell_type": "code",
   "execution_count": 3,
   "id": "af2cc205",
   "metadata": {
    "hide_input": true,
    "scrolled": false
   },
   "outputs": [
    {
     "data": {
      "application/javascript": [
       "/* Put everything inside the global mpl namespace */\n",
       "/* global mpl */\n",
       "window.mpl = {};\n",
       "\n",
       "mpl.get_websocket_type = function () {\n",
       "    if (typeof WebSocket !== 'undefined') {\n",
       "        return WebSocket;\n",
       "    } else if (typeof MozWebSocket !== 'undefined') {\n",
       "        return MozWebSocket;\n",
       "    } else {\n",
       "        alert(\n",
       "            'Your browser does not have WebSocket support. ' +\n",
       "                'Please try Chrome, Safari or Firefox ≥ 6. ' +\n",
       "                'Firefox 4 and 5 are also supported but you ' +\n",
       "                'have to enable WebSockets in about:config.'\n",
       "        );\n",
       "    }\n",
       "};\n",
       "\n",
       "mpl.figure = function (figure_id, websocket, ondownload, parent_element) {\n",
       "    this.id = figure_id;\n",
       "\n",
       "    this.ws = websocket;\n",
       "\n",
       "    this.supports_binary = this.ws.binaryType !== undefined;\n",
       "\n",
       "    if (!this.supports_binary) {\n",
       "        var warnings = document.getElementById('mpl-warnings');\n",
       "        if (warnings) {\n",
       "            warnings.style.display = 'block';\n",
       "            warnings.textContent =\n",
       "                'This browser does not support binary websocket messages. ' +\n",
       "                'Performance may be slow.';\n",
       "        }\n",
       "    }\n",
       "\n",
       "    this.imageObj = new Image();\n",
       "\n",
       "    this.context = undefined;\n",
       "    this.message = undefined;\n",
       "    this.canvas = undefined;\n",
       "    this.rubberband_canvas = undefined;\n",
       "    this.rubberband_context = undefined;\n",
       "    this.format_dropdown = undefined;\n",
       "\n",
       "    this.image_mode = 'full';\n",
       "\n",
       "    this.root = document.createElement('div');\n",
       "    this.root.setAttribute('style', 'display: inline-block');\n",
       "    this._root_extra_style(this.root);\n",
       "\n",
       "    parent_element.appendChild(this.root);\n",
       "\n",
       "    this._init_header(this);\n",
       "    this._init_canvas(this);\n",
       "    this._init_toolbar(this);\n",
       "\n",
       "    var fig = this;\n",
       "\n",
       "    this.waiting = false;\n",
       "\n",
       "    this.ws.onopen = function () {\n",
       "        fig.send_message('supports_binary', { value: fig.supports_binary });\n",
       "        fig.send_message('send_image_mode', {});\n",
       "        if (fig.ratio !== 1) {\n",
       "            fig.send_message('set_device_pixel_ratio', {\n",
       "                device_pixel_ratio: fig.ratio,\n",
       "            });\n",
       "        }\n",
       "        fig.send_message('refresh', {});\n",
       "    };\n",
       "\n",
       "    this.imageObj.onload = function () {\n",
       "        if (fig.image_mode === 'full') {\n",
       "            // Full images could contain transparency (where diff images\n",
       "            // almost always do), so we need to clear the canvas so that\n",
       "            // there is no ghosting.\n",
       "            fig.context.clearRect(0, 0, fig.canvas.width, fig.canvas.height);\n",
       "        }\n",
       "        fig.context.drawImage(fig.imageObj, 0, 0);\n",
       "    };\n",
       "\n",
       "    this.imageObj.onunload = function () {\n",
       "        fig.ws.close();\n",
       "    };\n",
       "\n",
       "    this.ws.onmessage = this._make_on_message_function(this);\n",
       "\n",
       "    this.ondownload = ondownload;\n",
       "};\n",
       "\n",
       "mpl.figure.prototype._init_header = function () {\n",
       "    var titlebar = document.createElement('div');\n",
       "    titlebar.classList =\n",
       "        'ui-dialog-titlebar ui-widget-header ui-corner-all ui-helper-clearfix';\n",
       "    var titletext = document.createElement('div');\n",
       "    titletext.classList = 'ui-dialog-title';\n",
       "    titletext.setAttribute(\n",
       "        'style',\n",
       "        'width: 100%; text-align: center; padding: 3px;'\n",
       "    );\n",
       "    titlebar.appendChild(titletext);\n",
       "    this.root.appendChild(titlebar);\n",
       "    this.header = titletext;\n",
       "};\n",
       "\n",
       "mpl.figure.prototype._canvas_extra_style = function (_canvas_div) {};\n",
       "\n",
       "mpl.figure.prototype._root_extra_style = function (_canvas_div) {};\n",
       "\n",
       "mpl.figure.prototype._init_canvas = function () {\n",
       "    var fig = this;\n",
       "\n",
       "    var canvas_div = (this.canvas_div = document.createElement('div'));\n",
       "    canvas_div.setAttribute(\n",
       "        'style',\n",
       "        'border: 1px solid #ddd;' +\n",
       "            'box-sizing: content-box;' +\n",
       "            'clear: both;' +\n",
       "            'min-height: 1px;' +\n",
       "            'min-width: 1px;' +\n",
       "            'outline: 0;' +\n",
       "            'overflow: hidden;' +\n",
       "            'position: relative;' +\n",
       "            'resize: both;'\n",
       "    );\n",
       "\n",
       "    function on_keyboard_event_closure(name) {\n",
       "        return function (event) {\n",
       "            return fig.key_event(event, name);\n",
       "        };\n",
       "    }\n",
       "\n",
       "    canvas_div.addEventListener(\n",
       "        'keydown',\n",
       "        on_keyboard_event_closure('key_press')\n",
       "    );\n",
       "    canvas_div.addEventListener(\n",
       "        'keyup',\n",
       "        on_keyboard_event_closure('key_release')\n",
       "    );\n",
       "\n",
       "    this._canvas_extra_style(canvas_div);\n",
       "    this.root.appendChild(canvas_div);\n",
       "\n",
       "    var canvas = (this.canvas = document.createElement('canvas'));\n",
       "    canvas.classList.add('mpl-canvas');\n",
       "    canvas.setAttribute('style', 'box-sizing: content-box;');\n",
       "\n",
       "    this.context = canvas.getContext('2d');\n",
       "\n",
       "    var backingStore =\n",
       "        this.context.backingStorePixelRatio ||\n",
       "        this.context.webkitBackingStorePixelRatio ||\n",
       "        this.context.mozBackingStorePixelRatio ||\n",
       "        this.context.msBackingStorePixelRatio ||\n",
       "        this.context.oBackingStorePixelRatio ||\n",
       "        this.context.backingStorePixelRatio ||\n",
       "        1;\n",
       "\n",
       "    this.ratio = (window.devicePixelRatio || 1) / backingStore;\n",
       "\n",
       "    var rubberband_canvas = (this.rubberband_canvas = document.createElement(\n",
       "        'canvas'\n",
       "    ));\n",
       "    rubberband_canvas.setAttribute(\n",
       "        'style',\n",
       "        'box-sizing: content-box; position: absolute; left: 0; top: 0; z-index: 1;'\n",
       "    );\n",
       "\n",
       "    // Apply a ponyfill if ResizeObserver is not implemented by browser.\n",
       "    if (this.ResizeObserver === undefined) {\n",
       "        if (window.ResizeObserver !== undefined) {\n",
       "            this.ResizeObserver = window.ResizeObserver;\n",
       "        } else {\n",
       "            var obs = _JSXTOOLS_RESIZE_OBSERVER({});\n",
       "            this.ResizeObserver = obs.ResizeObserver;\n",
       "        }\n",
       "    }\n",
       "\n",
       "    this.resizeObserverInstance = new this.ResizeObserver(function (entries) {\n",
       "        var nentries = entries.length;\n",
       "        for (var i = 0; i < nentries; i++) {\n",
       "            var entry = entries[i];\n",
       "            var width, height;\n",
       "            if (entry.contentBoxSize) {\n",
       "                if (entry.contentBoxSize instanceof Array) {\n",
       "                    // Chrome 84 implements new version of spec.\n",
       "                    width = entry.contentBoxSize[0].inlineSize;\n",
       "                    height = entry.contentBoxSize[0].blockSize;\n",
       "                } else {\n",
       "                    // Firefox implements old version of spec.\n",
       "                    width = entry.contentBoxSize.inlineSize;\n",
       "                    height = entry.contentBoxSize.blockSize;\n",
       "                }\n",
       "            } else {\n",
       "                // Chrome <84 implements even older version of spec.\n",
       "                width = entry.contentRect.width;\n",
       "                height = entry.contentRect.height;\n",
       "            }\n",
       "\n",
       "            // Keep the size of the canvas and rubber band canvas in sync with\n",
       "            // the canvas container.\n",
       "            if (entry.devicePixelContentBoxSize) {\n",
       "                // Chrome 84 implements new version of spec.\n",
       "                canvas.setAttribute(\n",
       "                    'width',\n",
       "                    entry.devicePixelContentBoxSize[0].inlineSize\n",
       "                );\n",
       "                canvas.setAttribute(\n",
       "                    'height',\n",
       "                    entry.devicePixelContentBoxSize[0].blockSize\n",
       "                );\n",
       "            } else {\n",
       "                canvas.setAttribute('width', width * fig.ratio);\n",
       "                canvas.setAttribute('height', height * fig.ratio);\n",
       "            }\n",
       "            canvas.setAttribute(\n",
       "                'style',\n",
       "                'width: ' + width + 'px; height: ' + height + 'px;'\n",
       "            );\n",
       "\n",
       "            rubberband_canvas.setAttribute('width', width);\n",
       "            rubberband_canvas.setAttribute('height', height);\n",
       "\n",
       "            // And update the size in Python. We ignore the initial 0/0 size\n",
       "            // that occurs as the element is placed into the DOM, which should\n",
       "            // otherwise not happen due to the minimum size styling.\n",
       "            if (fig.ws.readyState == 1 && width != 0 && height != 0) {\n",
       "                fig.request_resize(width, height);\n",
       "            }\n",
       "        }\n",
       "    });\n",
       "    this.resizeObserverInstance.observe(canvas_div);\n",
       "\n",
       "    function on_mouse_event_closure(name) {\n",
       "        return function (event) {\n",
       "            return fig.mouse_event(event, name);\n",
       "        };\n",
       "    }\n",
       "\n",
       "    rubberband_canvas.addEventListener(\n",
       "        'mousedown',\n",
       "        on_mouse_event_closure('button_press')\n",
       "    );\n",
       "    rubberband_canvas.addEventListener(\n",
       "        'mouseup',\n",
       "        on_mouse_event_closure('button_release')\n",
       "    );\n",
       "    rubberband_canvas.addEventListener(\n",
       "        'dblclick',\n",
       "        on_mouse_event_closure('dblclick')\n",
       "    );\n",
       "    // Throttle sequential mouse events to 1 every 20ms.\n",
       "    rubberband_canvas.addEventListener(\n",
       "        'mousemove',\n",
       "        on_mouse_event_closure('motion_notify')\n",
       "    );\n",
       "\n",
       "    rubberband_canvas.addEventListener(\n",
       "        'mouseenter',\n",
       "        on_mouse_event_closure('figure_enter')\n",
       "    );\n",
       "    rubberband_canvas.addEventListener(\n",
       "        'mouseleave',\n",
       "        on_mouse_event_closure('figure_leave')\n",
       "    );\n",
       "\n",
       "    canvas_div.addEventListener('wheel', function (event) {\n",
       "        if (event.deltaY < 0) {\n",
       "            event.step = 1;\n",
       "        } else {\n",
       "            event.step = -1;\n",
       "        }\n",
       "        on_mouse_event_closure('scroll')(event);\n",
       "    });\n",
       "\n",
       "    canvas_div.appendChild(canvas);\n",
       "    canvas_div.appendChild(rubberband_canvas);\n",
       "\n",
       "    this.rubberband_context = rubberband_canvas.getContext('2d');\n",
       "    this.rubberband_context.strokeStyle = '#000000';\n",
       "\n",
       "    this._resize_canvas = function (width, height, forward) {\n",
       "        if (forward) {\n",
       "            canvas_div.style.width = width + 'px';\n",
       "            canvas_div.style.height = height + 'px';\n",
       "        }\n",
       "    };\n",
       "\n",
       "    // Disable right mouse context menu.\n",
       "    this.rubberband_canvas.addEventListener('contextmenu', function (_e) {\n",
       "        event.preventDefault();\n",
       "        return false;\n",
       "    });\n",
       "\n",
       "    function set_focus() {\n",
       "        canvas.focus();\n",
       "        canvas_div.focus();\n",
       "    }\n",
       "\n",
       "    window.setTimeout(set_focus, 100);\n",
       "};\n",
       "\n",
       "mpl.figure.prototype._init_toolbar = function () {\n",
       "    var fig = this;\n",
       "\n",
       "    var toolbar = document.createElement('div');\n",
       "    toolbar.classList = 'mpl-toolbar';\n",
       "    this.root.appendChild(toolbar);\n",
       "\n",
       "    function on_click_closure(name) {\n",
       "        return function (_event) {\n",
       "            return fig.toolbar_button_onclick(name);\n",
       "        };\n",
       "    }\n",
       "\n",
       "    function on_mouseover_closure(tooltip) {\n",
       "        return function (event) {\n",
       "            if (!event.currentTarget.disabled) {\n",
       "                return fig.toolbar_button_onmouseover(tooltip);\n",
       "            }\n",
       "        };\n",
       "    }\n",
       "\n",
       "    fig.buttons = {};\n",
       "    var buttonGroup = document.createElement('div');\n",
       "    buttonGroup.classList = 'mpl-button-group';\n",
       "    for (var toolbar_ind in mpl.toolbar_items) {\n",
       "        var name = mpl.toolbar_items[toolbar_ind][0];\n",
       "        var tooltip = mpl.toolbar_items[toolbar_ind][1];\n",
       "        var image = mpl.toolbar_items[toolbar_ind][2];\n",
       "        var method_name = mpl.toolbar_items[toolbar_ind][3];\n",
       "\n",
       "        if (!name) {\n",
       "            /* Instead of a spacer, we start a new button group. */\n",
       "            if (buttonGroup.hasChildNodes()) {\n",
       "                toolbar.appendChild(buttonGroup);\n",
       "            }\n",
       "            buttonGroup = document.createElement('div');\n",
       "            buttonGroup.classList = 'mpl-button-group';\n",
       "            continue;\n",
       "        }\n",
       "\n",
       "        var button = (fig.buttons[name] = document.createElement('button'));\n",
       "        button.classList = 'mpl-widget';\n",
       "        button.setAttribute('role', 'button');\n",
       "        button.setAttribute('aria-disabled', 'false');\n",
       "        button.addEventListener('click', on_click_closure(method_name));\n",
       "        button.addEventListener('mouseover', on_mouseover_closure(tooltip));\n",
       "\n",
       "        var icon_img = document.createElement('img');\n",
       "        icon_img.src = '_images/' + image + '.png';\n",
       "        icon_img.srcset = '_images/' + image + '_large.png 2x';\n",
       "        icon_img.alt = tooltip;\n",
       "        button.appendChild(icon_img);\n",
       "\n",
       "        buttonGroup.appendChild(button);\n",
       "    }\n",
       "\n",
       "    if (buttonGroup.hasChildNodes()) {\n",
       "        toolbar.appendChild(buttonGroup);\n",
       "    }\n",
       "\n",
       "    var fmt_picker = document.createElement('select');\n",
       "    fmt_picker.classList = 'mpl-widget';\n",
       "    toolbar.appendChild(fmt_picker);\n",
       "    this.format_dropdown = fmt_picker;\n",
       "\n",
       "    for (var ind in mpl.extensions) {\n",
       "        var fmt = mpl.extensions[ind];\n",
       "        var option = document.createElement('option');\n",
       "        option.selected = fmt === mpl.default_extension;\n",
       "        option.innerHTML = fmt;\n",
       "        fmt_picker.appendChild(option);\n",
       "    }\n",
       "\n",
       "    var status_bar = document.createElement('span');\n",
       "    status_bar.classList = 'mpl-message';\n",
       "    toolbar.appendChild(status_bar);\n",
       "    this.message = status_bar;\n",
       "};\n",
       "\n",
       "mpl.figure.prototype.request_resize = function (x_pixels, y_pixels) {\n",
       "    // Request matplotlib to resize the figure. Matplotlib will then trigger a resize in the client,\n",
       "    // which will in turn request a refresh of the image.\n",
       "    this.send_message('resize', { width: x_pixels, height: y_pixels });\n",
       "};\n",
       "\n",
       "mpl.figure.prototype.send_message = function (type, properties) {\n",
       "    properties['type'] = type;\n",
       "    properties['figure_id'] = this.id;\n",
       "    this.ws.send(JSON.stringify(properties));\n",
       "};\n",
       "\n",
       "mpl.figure.prototype.send_draw_message = function () {\n",
       "    if (!this.waiting) {\n",
       "        this.waiting = true;\n",
       "        this.ws.send(JSON.stringify({ type: 'draw', figure_id: this.id }));\n",
       "    }\n",
       "};\n",
       "\n",
       "mpl.figure.prototype.handle_save = function (fig, _msg) {\n",
       "    var format_dropdown = fig.format_dropdown;\n",
       "    var format = format_dropdown.options[format_dropdown.selectedIndex].value;\n",
       "    fig.ondownload(fig, format);\n",
       "};\n",
       "\n",
       "mpl.figure.prototype.handle_resize = function (fig, msg) {\n",
       "    var size = msg['size'];\n",
       "    if (size[0] !== fig.canvas.width || size[1] !== fig.canvas.height) {\n",
       "        fig._resize_canvas(size[0], size[1], msg['forward']);\n",
       "        fig.send_message('refresh', {});\n",
       "    }\n",
       "};\n",
       "\n",
       "mpl.figure.prototype.handle_rubberband = function (fig, msg) {\n",
       "    var x0 = msg['x0'] / fig.ratio;\n",
       "    var y0 = (fig.canvas.height - msg['y0']) / fig.ratio;\n",
       "    var x1 = msg['x1'] / fig.ratio;\n",
       "    var y1 = (fig.canvas.height - msg['y1']) / fig.ratio;\n",
       "    x0 = Math.floor(x0) + 0.5;\n",
       "    y0 = Math.floor(y0) + 0.5;\n",
       "    x1 = Math.floor(x1) + 0.5;\n",
       "    y1 = Math.floor(y1) + 0.5;\n",
       "    var min_x = Math.min(x0, x1);\n",
       "    var min_y = Math.min(y0, y1);\n",
       "    var width = Math.abs(x1 - x0);\n",
       "    var height = Math.abs(y1 - y0);\n",
       "\n",
       "    fig.rubberband_context.clearRect(\n",
       "        0,\n",
       "        0,\n",
       "        fig.canvas.width / fig.ratio,\n",
       "        fig.canvas.height / fig.ratio\n",
       "    );\n",
       "\n",
       "    fig.rubberband_context.strokeRect(min_x, min_y, width, height);\n",
       "};\n",
       "\n",
       "mpl.figure.prototype.handle_figure_label = function (fig, msg) {\n",
       "    // Updates the figure title.\n",
       "    fig.header.textContent = msg['label'];\n",
       "};\n",
       "\n",
       "mpl.figure.prototype.handle_cursor = function (fig, msg) {\n",
       "    fig.rubberband_canvas.style.cursor = msg['cursor'];\n",
       "};\n",
       "\n",
       "mpl.figure.prototype.handle_message = function (fig, msg) {\n",
       "    fig.message.textContent = msg['message'];\n",
       "};\n",
       "\n",
       "mpl.figure.prototype.handle_draw = function (fig, _msg) {\n",
       "    // Request the server to send over a new figure.\n",
       "    fig.send_draw_message();\n",
       "};\n",
       "\n",
       "mpl.figure.prototype.handle_image_mode = function (fig, msg) {\n",
       "    fig.image_mode = msg['mode'];\n",
       "};\n",
       "\n",
       "mpl.figure.prototype.handle_history_buttons = function (fig, msg) {\n",
       "    for (var key in msg) {\n",
       "        if (!(key in fig.buttons)) {\n",
       "            continue;\n",
       "        }\n",
       "        fig.buttons[key].disabled = !msg[key];\n",
       "        fig.buttons[key].setAttribute('aria-disabled', !msg[key]);\n",
       "    }\n",
       "};\n",
       "\n",
       "mpl.figure.prototype.handle_navigate_mode = function (fig, msg) {\n",
       "    if (msg['mode'] === 'PAN') {\n",
       "        fig.buttons['Pan'].classList.add('active');\n",
       "        fig.buttons['Zoom'].classList.remove('active');\n",
       "    } else if (msg['mode'] === 'ZOOM') {\n",
       "        fig.buttons['Pan'].classList.remove('active');\n",
       "        fig.buttons['Zoom'].classList.add('active');\n",
       "    } else {\n",
       "        fig.buttons['Pan'].classList.remove('active');\n",
       "        fig.buttons['Zoom'].classList.remove('active');\n",
       "    }\n",
       "};\n",
       "\n",
       "mpl.figure.prototype.updated_canvas_event = function () {\n",
       "    // Called whenever the canvas gets updated.\n",
       "    this.send_message('ack', {});\n",
       "};\n",
       "\n",
       "// A function to construct a web socket function for onmessage handling.\n",
       "// Called in the figure constructor.\n",
       "mpl.figure.prototype._make_on_message_function = function (fig) {\n",
       "    return function socket_on_message(evt) {\n",
       "        if (evt.data instanceof Blob) {\n",
       "            var img = evt.data;\n",
       "            if (img.type !== 'image/png') {\n",
       "                /* FIXME: We get \"Resource interpreted as Image but\n",
       "                 * transferred with MIME type text/plain:\" errors on\n",
       "                 * Chrome.  But how to set the MIME type?  It doesn't seem\n",
       "                 * to be part of the websocket stream */\n",
       "                img.type = 'image/png';\n",
       "            }\n",
       "\n",
       "            /* Free the memory for the previous frames */\n",
       "            if (fig.imageObj.src) {\n",
       "                (window.URL || window.webkitURL).revokeObjectURL(\n",
       "                    fig.imageObj.src\n",
       "                );\n",
       "            }\n",
       "\n",
       "            fig.imageObj.src = (window.URL || window.webkitURL).createObjectURL(\n",
       "                img\n",
       "            );\n",
       "            fig.updated_canvas_event();\n",
       "            fig.waiting = false;\n",
       "            return;\n",
       "        } else if (\n",
       "            typeof evt.data === 'string' &&\n",
       "            evt.data.slice(0, 21) === 'data:image/png;base64'\n",
       "        ) {\n",
       "            fig.imageObj.src = evt.data;\n",
       "            fig.updated_canvas_event();\n",
       "            fig.waiting = false;\n",
       "            return;\n",
       "        }\n",
       "\n",
       "        var msg = JSON.parse(evt.data);\n",
       "        var msg_type = msg['type'];\n",
       "\n",
       "        // Call the  \"handle_{type}\" callback, which takes\n",
       "        // the figure and JSON message as its only arguments.\n",
       "        try {\n",
       "            var callback = fig['handle_' + msg_type];\n",
       "        } catch (e) {\n",
       "            console.log(\n",
       "                \"No handler for the '\" + msg_type + \"' message type: \",\n",
       "                msg\n",
       "            );\n",
       "            return;\n",
       "        }\n",
       "\n",
       "        if (callback) {\n",
       "            try {\n",
       "                // console.log(\"Handling '\" + msg_type + \"' message: \", msg);\n",
       "                callback(fig, msg);\n",
       "            } catch (e) {\n",
       "                console.log(\n",
       "                    \"Exception inside the 'handler_\" + msg_type + \"' callback:\",\n",
       "                    e,\n",
       "                    e.stack,\n",
       "                    msg\n",
       "                );\n",
       "            }\n",
       "        }\n",
       "    };\n",
       "};\n",
       "\n",
       "// from https://stackoverflow.com/questions/1114465/getting-mouse-location-in-canvas\n",
       "mpl.findpos = function (e) {\n",
       "    //this section is from http://www.quirksmode.org/js/events_properties.html\n",
       "    var targ;\n",
       "    if (!e) {\n",
       "        e = window.event;\n",
       "    }\n",
       "    if (e.target) {\n",
       "        targ = e.target;\n",
       "    } else if (e.srcElement) {\n",
       "        targ = e.srcElement;\n",
       "    }\n",
       "    if (targ.nodeType === 3) {\n",
       "        // defeat Safari bug\n",
       "        targ = targ.parentNode;\n",
       "    }\n",
       "\n",
       "    // pageX,Y are the mouse positions relative to the document\n",
       "    var boundingRect = targ.getBoundingClientRect();\n",
       "    var x = e.pageX - (boundingRect.left + document.body.scrollLeft);\n",
       "    var y = e.pageY - (boundingRect.top + document.body.scrollTop);\n",
       "\n",
       "    return { x: x, y: y };\n",
       "};\n",
       "\n",
       "/*\n",
       " * return a copy of an object with only non-object keys\n",
       " * we need this to avoid circular references\n",
       " * https://stackoverflow.com/a/24161582/3208463\n",
       " */\n",
       "function simpleKeys(original) {\n",
       "    return Object.keys(original).reduce(function (obj, key) {\n",
       "        if (typeof original[key] !== 'object') {\n",
       "            obj[key] = original[key];\n",
       "        }\n",
       "        return obj;\n",
       "    }, {});\n",
       "}\n",
       "\n",
       "mpl.figure.prototype.mouse_event = function (event, name) {\n",
       "    var canvas_pos = mpl.findpos(event);\n",
       "\n",
       "    if (name === 'button_press') {\n",
       "        this.canvas.focus();\n",
       "        this.canvas_div.focus();\n",
       "    }\n",
       "\n",
       "    var x = canvas_pos.x * this.ratio;\n",
       "    var y = canvas_pos.y * this.ratio;\n",
       "\n",
       "    this.send_message(name, {\n",
       "        x: x,\n",
       "        y: y,\n",
       "        button: event.button,\n",
       "        step: event.step,\n",
       "        guiEvent: simpleKeys(event),\n",
       "    });\n",
       "\n",
       "    /* This prevents the web browser from automatically changing to\n",
       "     * the text insertion cursor when the button is pressed.  We want\n",
       "     * to control all of the cursor setting manually through the\n",
       "     * 'cursor' event from matplotlib */\n",
       "    event.preventDefault();\n",
       "    return false;\n",
       "};\n",
       "\n",
       "mpl.figure.prototype._key_event_extra = function (_event, _name) {\n",
       "    // Handle any extra behaviour associated with a key event\n",
       "};\n",
       "\n",
       "mpl.figure.prototype.key_event = function (event, name) {\n",
       "    // Prevent repeat events\n",
       "    if (name === 'key_press') {\n",
       "        if (event.key === this._key) {\n",
       "            return;\n",
       "        } else {\n",
       "            this._key = event.key;\n",
       "        }\n",
       "    }\n",
       "    if (name === 'key_release') {\n",
       "        this._key = null;\n",
       "    }\n",
       "\n",
       "    var value = '';\n",
       "    if (event.ctrlKey && event.key !== 'Control') {\n",
       "        value += 'ctrl+';\n",
       "    }\n",
       "    else if (event.altKey && event.key !== 'Alt') {\n",
       "        value += 'alt+';\n",
       "    }\n",
       "    else if (event.shiftKey && event.key !== 'Shift') {\n",
       "        value += 'shift+';\n",
       "    }\n",
       "\n",
       "    value += 'k' + event.key;\n",
       "\n",
       "    this._key_event_extra(event, name);\n",
       "\n",
       "    this.send_message(name, { key: value, guiEvent: simpleKeys(event) });\n",
       "    return false;\n",
       "};\n",
       "\n",
       "mpl.figure.prototype.toolbar_button_onclick = function (name) {\n",
       "    if (name === 'download') {\n",
       "        this.handle_save(this, null);\n",
       "    } else {\n",
       "        this.send_message('toolbar_button', { name: name });\n",
       "    }\n",
       "};\n",
       "\n",
       "mpl.figure.prototype.toolbar_button_onmouseover = function (tooltip) {\n",
       "    this.message.textContent = tooltip;\n",
       "};\n",
       "\n",
       "///////////////// REMAINING CONTENT GENERATED BY embed_js.py /////////////////\n",
       "// prettier-ignore\n",
       "var _JSXTOOLS_RESIZE_OBSERVER=function(A){var t,i=new WeakMap,n=new WeakMap,a=new WeakMap,r=new WeakMap,o=new Set;function s(e){if(!(this instanceof s))throw new TypeError(\"Constructor requires 'new' operator\");i.set(this,e)}function h(){throw new TypeError(\"Function is not a constructor\")}function c(e,t,i,n){e=0 in arguments?Number(arguments[0]):0,t=1 in arguments?Number(arguments[1]):0,i=2 in arguments?Number(arguments[2]):0,n=3 in arguments?Number(arguments[3]):0,this.right=(this.x=this.left=e)+(this.width=i),this.bottom=(this.y=this.top=t)+(this.height=n),Object.freeze(this)}function d(){t=requestAnimationFrame(d);var s=new WeakMap,p=new Set;o.forEach((function(t){r.get(t).forEach((function(i){var r=t instanceof window.SVGElement,o=a.get(t),d=r?0:parseFloat(o.paddingTop),f=r?0:parseFloat(o.paddingRight),l=r?0:parseFloat(o.paddingBottom),u=r?0:parseFloat(o.paddingLeft),g=r?0:parseFloat(o.borderTopWidth),m=r?0:parseFloat(o.borderRightWidth),w=r?0:parseFloat(o.borderBottomWidth),b=u+f,F=d+l,v=(r?0:parseFloat(o.borderLeftWidth))+m,W=g+w,y=r?0:t.offsetHeight-W-t.clientHeight,E=r?0:t.offsetWidth-v-t.clientWidth,R=b+v,z=F+W,M=r?t.width:parseFloat(o.width)-R-E,O=r?t.height:parseFloat(o.height)-z-y;if(n.has(t)){var k=n.get(t);if(k[0]===M&&k[1]===O)return}n.set(t,[M,O]);var S=Object.create(h.prototype);S.target=t,S.contentRect=new c(u,d,M,O),s.has(i)||(s.set(i,[]),p.add(i)),s.get(i).push(S)}))})),p.forEach((function(e){i.get(e).call(e,s.get(e),e)}))}return s.prototype.observe=function(i){if(i instanceof window.Element){r.has(i)||(r.set(i,new Set),o.add(i),a.set(i,window.getComputedStyle(i)));var n=r.get(i);n.has(this)||n.add(this),cancelAnimationFrame(t),t=requestAnimationFrame(d)}},s.prototype.unobserve=function(i){if(i instanceof window.Element&&r.has(i)){var n=r.get(i);n.has(this)&&(n.delete(this),n.size||(r.delete(i),o.delete(i))),n.size||r.delete(i),o.size||cancelAnimationFrame(t)}},A.DOMRectReadOnly=c,A.ResizeObserver=s,A.ResizeObserverEntry=h,A}; // eslint-disable-line\n",
       "mpl.toolbar_items = [[\"Home\", \"Reset original view\", \"fa fa-home icon-home\", \"home\"], [\"Back\", \"Back to previous view\", \"fa fa-arrow-left icon-arrow-left\", \"back\"], [\"Forward\", \"Forward to next view\", \"fa fa-arrow-right icon-arrow-right\", \"forward\"], [\"\", \"\", \"\", \"\"], [\"Pan\", \"Left button pans, Right button zooms\\nx/y fixes axis, CTRL fixes aspect\", \"fa fa-arrows icon-move\", \"pan\"], [\"Zoom\", \"Zoom to rectangle\\nx/y fixes axis\", \"fa fa-square-o icon-check-empty\", \"zoom\"], [\"\", \"\", \"\", \"\"], [\"Download\", \"Download plot\", \"fa fa-floppy-o icon-save\", \"download\"]];\n",
       "\n",
       "mpl.extensions = [\"eps\", \"jpeg\", \"pgf\", \"pdf\", \"png\", \"ps\", \"raw\", \"svg\", \"tif\"];\n",
       "\n",
       "mpl.default_extension = \"png\";/* global mpl */\n",
       "\n",
       "var comm_websocket_adapter = function (comm) {\n",
       "    // Create a \"websocket\"-like object which calls the given IPython comm\n",
       "    // object with the appropriate methods. Currently this is a non binary\n",
       "    // socket, so there is still some room for performance tuning.\n",
       "    var ws = {};\n",
       "\n",
       "    ws.binaryType = comm.kernel.ws.binaryType;\n",
       "    ws.readyState = comm.kernel.ws.readyState;\n",
       "    function updateReadyState(_event) {\n",
       "        if (comm.kernel.ws) {\n",
       "            ws.readyState = comm.kernel.ws.readyState;\n",
       "        } else {\n",
       "            ws.readyState = 3; // Closed state.\n",
       "        }\n",
       "    }\n",
       "    comm.kernel.ws.addEventListener('open', updateReadyState);\n",
       "    comm.kernel.ws.addEventListener('close', updateReadyState);\n",
       "    comm.kernel.ws.addEventListener('error', updateReadyState);\n",
       "\n",
       "    ws.close = function () {\n",
       "        comm.close();\n",
       "    };\n",
       "    ws.send = function (m) {\n",
       "        //console.log('sending', m);\n",
       "        comm.send(m);\n",
       "    };\n",
       "    // Register the callback with on_msg.\n",
       "    comm.on_msg(function (msg) {\n",
       "        //console.log('receiving', msg['content']['data'], msg);\n",
       "        var data = msg['content']['data'];\n",
       "        if (data['blob'] !== undefined) {\n",
       "            data = {\n",
       "                data: new Blob(msg['buffers'], { type: data['blob'] }),\n",
       "            };\n",
       "        }\n",
       "        // Pass the mpl event to the overridden (by mpl) onmessage function.\n",
       "        ws.onmessage(data);\n",
       "    });\n",
       "    return ws;\n",
       "};\n",
       "\n",
       "mpl.mpl_figure_comm = function (comm, msg) {\n",
       "    // This is the function which gets called when the mpl process\n",
       "    // starts-up an IPython Comm through the \"matplotlib\" channel.\n",
       "\n",
       "    var id = msg.content.data.id;\n",
       "    // Get hold of the div created by the display call when the Comm\n",
       "    // socket was opened in Python.\n",
       "    var element = document.getElementById(id);\n",
       "    var ws_proxy = comm_websocket_adapter(comm);\n",
       "\n",
       "    function ondownload(figure, _format) {\n",
       "        window.open(figure.canvas.toDataURL());\n",
       "    }\n",
       "\n",
       "    var fig = new mpl.figure(id, ws_proxy, ondownload, element);\n",
       "\n",
       "    // Call onopen now - mpl needs it, as it is assuming we've passed it a real\n",
       "    // web socket which is closed, not our websocket->open comm proxy.\n",
       "    ws_proxy.onopen();\n",
       "\n",
       "    fig.parent_element = element;\n",
       "    fig.cell_info = mpl.find_output_cell(\"<div id='\" + id + \"'></div>\");\n",
       "    if (!fig.cell_info) {\n",
       "        console.error('Failed to find cell for figure', id, fig);\n",
       "        return;\n",
       "    }\n",
       "    fig.cell_info[0].output_area.element.on(\n",
       "        'cleared',\n",
       "        { fig: fig },\n",
       "        fig._remove_fig_handler\n",
       "    );\n",
       "};\n",
       "\n",
       "mpl.figure.prototype.handle_close = function (fig, msg) {\n",
       "    var width = fig.canvas.width / fig.ratio;\n",
       "    fig.cell_info[0].output_area.element.off(\n",
       "        'cleared',\n",
       "        fig._remove_fig_handler\n",
       "    );\n",
       "    fig.resizeObserverInstance.unobserve(fig.canvas_div);\n",
       "\n",
       "    // Update the output cell to use the data from the current canvas.\n",
       "    fig.push_to_output();\n",
       "    var dataURL = fig.canvas.toDataURL();\n",
       "    // Re-enable the keyboard manager in IPython - without this line, in FF,\n",
       "    // the notebook keyboard shortcuts fail.\n",
       "    IPython.keyboard_manager.enable();\n",
       "    fig.parent_element.innerHTML =\n",
       "        '<img src=\"' + dataURL + '\" width=\"' + width + '\">';\n",
       "    fig.close_ws(fig, msg);\n",
       "};\n",
       "\n",
       "mpl.figure.prototype.close_ws = function (fig, msg) {\n",
       "    fig.send_message('closing', msg);\n",
       "    // fig.ws.close()\n",
       "};\n",
       "\n",
       "mpl.figure.prototype.push_to_output = function (_remove_interactive) {\n",
       "    // Turn the data on the canvas into data in the output cell.\n",
       "    var width = this.canvas.width / this.ratio;\n",
       "    var dataURL = this.canvas.toDataURL();\n",
       "    this.cell_info[1]['text/html'] =\n",
       "        '<img src=\"' + dataURL + '\" width=\"' + width + '\">';\n",
       "};\n",
       "\n",
       "mpl.figure.prototype.updated_canvas_event = function () {\n",
       "    // Tell IPython that the notebook contents must change.\n",
       "    IPython.notebook.set_dirty(true);\n",
       "    this.send_message('ack', {});\n",
       "    var fig = this;\n",
       "    // Wait a second, then push the new image to the DOM so\n",
       "    // that it is saved nicely (might be nice to debounce this).\n",
       "    setTimeout(function () {\n",
       "        fig.push_to_output();\n",
       "    }, 1000);\n",
       "};\n",
       "\n",
       "mpl.figure.prototype._init_toolbar = function () {\n",
       "    var fig = this;\n",
       "\n",
       "    var toolbar = document.createElement('div');\n",
       "    toolbar.classList = 'btn-toolbar';\n",
       "    this.root.appendChild(toolbar);\n",
       "\n",
       "    function on_click_closure(name) {\n",
       "        return function (_event) {\n",
       "            return fig.toolbar_button_onclick(name);\n",
       "        };\n",
       "    }\n",
       "\n",
       "    function on_mouseover_closure(tooltip) {\n",
       "        return function (event) {\n",
       "            if (!event.currentTarget.disabled) {\n",
       "                return fig.toolbar_button_onmouseover(tooltip);\n",
       "            }\n",
       "        };\n",
       "    }\n",
       "\n",
       "    fig.buttons = {};\n",
       "    var buttonGroup = document.createElement('div');\n",
       "    buttonGroup.classList = 'btn-group';\n",
       "    var button;\n",
       "    for (var toolbar_ind in mpl.toolbar_items) {\n",
       "        var name = mpl.toolbar_items[toolbar_ind][0];\n",
       "        var tooltip = mpl.toolbar_items[toolbar_ind][1];\n",
       "        var image = mpl.toolbar_items[toolbar_ind][2];\n",
       "        var method_name = mpl.toolbar_items[toolbar_ind][3];\n",
       "\n",
       "        if (!name) {\n",
       "            /* Instead of a spacer, we start a new button group. */\n",
       "            if (buttonGroup.hasChildNodes()) {\n",
       "                toolbar.appendChild(buttonGroup);\n",
       "            }\n",
       "            buttonGroup = document.createElement('div');\n",
       "            buttonGroup.classList = 'btn-group';\n",
       "            continue;\n",
       "        }\n",
       "\n",
       "        button = fig.buttons[name] = document.createElement('button');\n",
       "        button.classList = 'btn btn-default';\n",
       "        button.href = '#';\n",
       "        button.title = name;\n",
       "        button.innerHTML = '<i class=\"fa ' + image + ' fa-lg\"></i>';\n",
       "        button.addEventListener('click', on_click_closure(method_name));\n",
       "        button.addEventListener('mouseover', on_mouseover_closure(tooltip));\n",
       "        buttonGroup.appendChild(button);\n",
       "    }\n",
       "\n",
       "    if (buttonGroup.hasChildNodes()) {\n",
       "        toolbar.appendChild(buttonGroup);\n",
       "    }\n",
       "\n",
       "    // Add the status bar.\n",
       "    var status_bar = document.createElement('span');\n",
       "    status_bar.classList = 'mpl-message pull-right';\n",
       "    toolbar.appendChild(status_bar);\n",
       "    this.message = status_bar;\n",
       "\n",
       "    // Add the close button to the window.\n",
       "    var buttongrp = document.createElement('div');\n",
       "    buttongrp.classList = 'btn-group inline pull-right';\n",
       "    button = document.createElement('button');\n",
       "    button.classList = 'btn btn-mini btn-primary';\n",
       "    button.href = '#';\n",
       "    button.title = 'Stop Interaction';\n",
       "    button.innerHTML = '<i class=\"fa fa-power-off icon-remove icon-large\"></i>';\n",
       "    button.addEventListener('click', function (_evt) {\n",
       "        fig.handle_close(fig, {});\n",
       "    });\n",
       "    button.addEventListener(\n",
       "        'mouseover',\n",
       "        on_mouseover_closure('Stop Interaction')\n",
       "    );\n",
       "    buttongrp.appendChild(button);\n",
       "    var titlebar = this.root.querySelector('.ui-dialog-titlebar');\n",
       "    titlebar.insertBefore(buttongrp, titlebar.firstChild);\n",
       "};\n",
       "\n",
       "mpl.figure.prototype._remove_fig_handler = function (event) {\n",
       "    var fig = event.data.fig;\n",
       "    if (event.target !== this) {\n",
       "        // Ignore bubbled events from children.\n",
       "        return;\n",
       "    }\n",
       "    fig.close_ws(fig, {});\n",
       "};\n",
       "\n",
       "mpl.figure.prototype._root_extra_style = function (el) {\n",
       "    el.style.boxSizing = 'content-box'; // override notebook setting of border-box.\n",
       "};\n",
       "\n",
       "mpl.figure.prototype._canvas_extra_style = function (el) {\n",
       "    // this is important to make the div 'focusable\n",
       "    el.setAttribute('tabindex', 0);\n",
       "    // reach out to IPython and tell the keyboard manager to turn it's self\n",
       "    // off when our div gets focus\n",
       "\n",
       "    // location in version 3\n",
       "    if (IPython.notebook.keyboard_manager) {\n",
       "        IPython.notebook.keyboard_manager.register_events(el);\n",
       "    } else {\n",
       "        // location in version 2\n",
       "        IPython.keyboard_manager.register_events(el);\n",
       "    }\n",
       "};\n",
       "\n",
       "mpl.figure.prototype._key_event_extra = function (event, _name) {\n",
       "    // Check for shift+enter\n",
       "    if (event.shiftKey && event.which === 13) {\n",
       "        this.canvas_div.blur();\n",
       "        // select the cell after this one\n",
       "        var index = IPython.notebook.find_cell_index(this.cell_info[0]);\n",
       "        IPython.notebook.select(index + 1);\n",
       "    }\n",
       "};\n",
       "\n",
       "mpl.figure.prototype.handle_save = function (fig, _msg) {\n",
       "    fig.ondownload(fig, null);\n",
       "};\n",
       "\n",
       "mpl.find_output_cell = function (html_output) {\n",
       "    // Return the cell and output element which can be found *uniquely* in the notebook.\n",
       "    // Note - this is a bit hacky, but it is done because the \"notebook_saving.Notebook\"\n",
       "    // IPython event is triggered only after the cells have been serialised, which for\n",
       "    // our purposes (turning an active figure into a static one), is too late.\n",
       "    var cells = IPython.notebook.get_cells();\n",
       "    var ncells = cells.length;\n",
       "    for (var i = 0; i < ncells; i++) {\n",
       "        var cell = cells[i];\n",
       "        if (cell.cell_type === 'code') {\n",
       "            for (var j = 0; j < cell.output_area.outputs.length; j++) {\n",
       "                var data = cell.output_area.outputs[j];\n",
       "                if (data.data) {\n",
       "                    // IPython >= 3 moved mimebundle to data attribute of output\n",
       "                    data = data.data;\n",
       "                }\n",
       "                if (data['text/html'] === html_output) {\n",
       "                    return [cell, data, j];\n",
       "                }\n",
       "            }\n",
       "        }\n",
       "    }\n",
       "};\n",
       "\n",
       "// Register the function which deals with the matplotlib target/channel.\n",
       "// The kernel may be null if the page has been refreshed.\n",
       "if (IPython.notebook.kernel !== null) {\n",
       "    IPython.notebook.kernel.comm_manager.register_target(\n",
       "        'matplotlib',\n",
       "        mpl.mpl_figure_comm\n",
       "    );\n",
       "}\n"
      ],
      "text/plain": [
       "<IPython.core.display.Javascript object>"
      ]
     },
     "metadata": {},
     "output_type": "display_data"
    },
    {
     "data": {
      "text/html": [
       "<img src=\"data:image/png;base64,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\" width=\"480\">"
      ],
      "text/plain": [
       "<IPython.core.display.HTML object>"
      ]
     },
     "metadata": {},
     "output_type": "display_data"
    },
    {
     "data": {
      "application/vnd.jupyter.widget-view+json": {
       "model_id": "a3abb3b05f5e4f70878af73324fb3468",
       "version_major": 2,
       "version_minor": 0
      },
      "text/plain": [
       "interactive(children=(FloatSlider(value=0.0, description='theta', max=6.283185307179586, step=0.01), Output())…"
      ]
     },
     "metadata": {},
     "output_type": "display_data"
    }
   ],
   "source": [
    "\n",
    "def g(A, theta):\n",
    "    a, c = np.cos(theta), np.sin(theta)\n",
    "    x = np.linspace(0, a, 100)\n",
    "    y = np.linspace(0, c, 100)\n",
    "    b, d = A @ np.array([a,c])\n",
    "    z = np.linspace(0, b, 100)\n",
    "    w = np.linspace(0, d, 100)\n",
    "    return x, y, z, w\n",
    "\n",
    "fig, ax = plt.subplots(figsize=(6,6))\n",
    "xmin, xmax, ymin, ymax = -2, 2, -2, 2\n",
    "ax.set(xlim=(xmin-1, xmax+1), ylim=(ymin-1, ymax+1), aspect='equal')\n",
    "ax.spines['bottom'].set_position('zero')\n",
    "ax.spines['left'].set_position('zero')\n",
    "ax.spines['top'].set_visible(False)\n",
    "ax.spines['right'].set_visible(False)\n",
    "\n",
    "ax.set_xlabel('x', size=14, labelpad=-24, x=1.03)\n",
    "ax.set_ylabel('y', size=14, labelpad=-21, y=1.02, rotation=0)\n",
    "arrow_fmt = dict(markersize=4, color='black', clip_on=False)\n",
    "ax.plot((1), (0), marker='>', transform=ax.get_yaxis_transform(), **arrow_fmt)\n",
    "ax.plot((0), (1), marker='^', transform=ax.get_xaxis_transform(), **arrow_fmt)\n",
    "\n",
    "x, y, z, w = g(A, 0)\n",
    "line1, = ax.plot(x,y, color='red')\n",
    "line2, = ax.plot(z,w, color='green')\n",
    "\n",
    "angles = np.linspace(0, 2*np.pi, 100)\n",
    "crc = np.array([np.cos(angles), np.sin(angles)])\n",
    "elps = A @ crc\n",
    "ax.plot(crc[0,:], crc[1,:], color='red')\n",
    "ax.plot(elps[0,:], elps[1,:], color='green')\n",
    "\n",
    "def update(theta = 0):\n",
    "    x, y, z, w = g(A,theta)\n",
    "    print(\"x = \"+str(x[-1])+\",\"+str(y[-1]))\n",
    "    print(\"y = \"+str(z[-1])+\",\"+str(w[-1]))\n",
    "    line1.set_data(x, y)\n",
    "    line2.set_data(z, w)\n",
    "    fig.canvas.draw_idle()\n",
    "    \n",
    "interact(update, theta = (0, 2*np.pi, 0.01));"
   ]
  },
  {
   "cell_type": "markdown",
   "id": "95a6cbcd",
   "metadata": {
    "slideshow": {
     "slide_type": "slide"
    }
   },
   "source": [
    "## Interlude: Polynomial equations\n",
    "\n",
    "A *polynomial* is an expression of the form\n",
    "\n",
    "$$\n",
    "a_nx^n + a_{n-1}x^{n-1} + \\cdots + a_1x\n",
    "$$\n",
    "\n",
    "$n$ is the *degree* of the polynomial.\n",
    "\n",
    "A *polynomial equation* is an equation equating a polynomial with $0$.\n",
    "\n",
    "\n",
    "$$\n",
    "a_nx^n + a_{n-1}x^{n-1} + \\cdots + a_1x = 0\n",
    "$$\n"
   ]
  },
  {
   "cell_type": "markdown",
   "id": "4731e810",
   "metadata": {
    "slideshow": {
     "slide_type": "slide"
    }
   },
   "source": [
    "Within the real numbers, polynomials of even degree have between $0$ and $n$ solutions, and polynomials of odd degree between $1$ and $n$.\n",
    "\n",
    "<img src=\"_img/polynomials.svg\"  width=\"1000\" style=\"display: block; margin-left: auto; margin-right: auto;\">"
   ]
  },
  {
   "cell_type": "markdown",
   "id": "92a38ade",
   "metadata": {
    "slideshow": {
     "slide_type": "slide"
    }
   },
   "source": [
    "Within the *complex numbers*, each polynomial of degree $n$ can be factorized into $n$ linear terms.\n",
    "\n",
    "$$\n",
    "\\begin{align}\n",
    "a_nx^n+\\cdots a_1x &= a_n(x-\\lambda_1)\\cdots(x-\\lambda_n)\n",
    "\\end{align}\n",
    "$$\n",
    "\n",
    "For polynomial equations, it follows\n",
    "\n",
    "$$\n",
    "\\begin{align}\n",
    "a_nx^n+\\cdots a_1x &= 0\\\\\n",
    "(x-\\lambda_1)\\cdots(x-\\lambda_n) &= 0\n",
    "\\end{align}\n",
    "$$\n",
    "\n",
    "Each $\\lambda_i$ is a solution of the equation.\n",
    "\n",
    "The *algebraic multiplicity* of a solution $\\lambda$ is the number of times the factor $(x-\\lambda)$ occurs in the factorization.\n"
   ]
  },
  {
   "cell_type": "markdown",
   "id": "d86c0c55",
   "metadata": {
    "slideshow": {
     "slide_type": "slide"
    }
   },
   "source": [
    "## Quadratic equations\n",
    "\n",
    "$$\n",
    "ax^2 + bx + c = 0\n",
    "$$\n",
    "\n",
    "We define\n",
    "\n",
    "$$\n",
    "\\begin{align}\n",
    "p &= \\frac{b}{a}\\\\\n",
    "q &= \\frac{c}{a}\\\\\n",
    "x^2 + px + q &= 0\n",
    "\\end{align}\n",
    "$$\n",
    "\n",
    "General solution:\n",
    "\n",
    "$$\n",
    "\\begin{align}\n",
    "\\lambda_{1/2} &= -\\frac{p}{2} \\pm \\sqrt{\\frac{p^2}{4}-q}\n",
    "\\end{align}\n",
    "$$\n",
    "\n",
    "- $\\frac{p^2}{4}-q > 0 \\Rightarrow$ 2 real solutions\n",
    "- $\\frac{p^2}{4}-q = 0 \\Rightarrow$ 1 real solution\n",
    "- $\\frac{p^2}{4}-q < 0 \\Rightarrow$ no real solution"
   ]
  },
  {
   "cell_type": "markdown",
   "id": "6c8629b4",
   "metadata": {
    "hide_input": true,
    "slideshow": {
     "slide_type": "slide"
    }
   },
   "source": [
    "### Example: How to find eigenvalues and eigenvectors\n",
    "\n",
    "$$\n",
    "\\begin{aligned}\n",
    "A &= \\left[\\begin{matrix}0.8 & 0.3\\\\0.2 & 0.7\\end{matrix}\\right]\\\\\n",
    "A\\mathbf x &= \\lambda \\mathbf x\\\\\n",
    "&= \\lambda \\mathbf I \\mathbf x\\\\\n",
    "(A-\\lambda \\mathbf I)\\mathbf x &= \\mathbf 0 \n",
    "\\end{aligned}\n",
    "$$\n",
    "\n",
    "The important matrix now is\n",
    "\n",
    "$$\n",
    "A-\\lambda \\mathbf I = \\begin{bmatrix}\n",
    "0.8-\\lambda & 0.3\\\\\n",
    "0.2 & 0.7-\\lambda\n",
    "\\end{bmatrix}\n",
    "$$"
   ]
  },
  {
   "cell_type": "markdown",
   "id": "b511393c",
   "metadata": {},
   "source": [
    "We are looking for a value of $\\lambda$ such that\n",
    "$$\n",
    "(A-\\lambda \\mathbf I)\\mathbf x = \\mathbf 0 \n",
    "$$\n",
    "\n",
    "with $\\mathbf x \\neq \\mathbf 0$ (otherwise the equation would be trivial).\n",
    "\n",
    "It follows that $(A-\\lambda \\mathbf I)$ is not invertible. Hence:\n",
    "\n",
    "$$\n",
    "|(A-\\lambda \\mathbf I)| = 0\n",
    "$$\n",
    "\n",
    "Using the formula for the determinant of a $2\\times 2$ matrix:\n",
    "\n",
    "$$\n",
    "(0.8-\\lambda)(0.7-\\lambda) - 0.2\\times 0.3 = 0\n",
    "$$\n"
   ]
  },
  {
   "cell_type": "markdown",
   "id": "1f5dd9bd",
   "metadata": {
    "slideshow": {
     "slide_type": "slide"
    }
   },
   "source": [
    "Simplifying:\n",
    "\n",
    "$$\n",
    "\\begin{aligned}\n",
    "(0.8-\\lambda)(0.7-\\lambda) - 0.2\\times 0.3 &= 0\\\\\n",
    "\\lambda ^2 - 1.5\\lambda + 0.56 - 0.06 &= 0\\\\\n",
    "\\lambda^2 - 1.5\\lambda + 0.5 &= 0\n",
    "\\end{aligned}\n",
    "$$\n",
    "\n",
    "There is a formula for finding the solution of quadratic equations (https://en.wikipedia.org/wiki/Quadratic_equation):\n",
    "\n",
    "$$\n",
    "\\begin{aligned}\n",
    "\\lambda_{1/2} = \\frac{3}{4} \\pm \\sqrt{(\\frac{3}{4})^2-\\frac{1}{2}}\\\\\n",
    "&= \\frac{3}{4} \\pm \\sqrt{\\frac{9-8}{16}}\\\\\n",
    "&= \\frac{3}{4} \\pm \\sqrt{\\frac{1}{16}}\\\\\n",
    "&= \\frac{3}{4} \\pm \\frac{1}{4}\\\\\n",
    "\\lambda_1 &= 1\\\\\n",
    "\\lambda_2 &= 0.5\n",
    "\\end{aligned}\n",
    "$$\n",
    "\n",
    "$\\lambda_1$ and $\\lambda_2$ are the eigenvalues of $A$. Now let's find the corresponding eigenvectors."
   ]
  },
  {
   "cell_type": "markdown",
   "id": "1b565015",
   "metadata": {
    "slideshow": {
     "slide_type": "slide"
    }
   },
   "source": [
    "This amount to finding the nullspace of $A-\\lambda\\mathbf I$:\n",
    "\n",
    "- $\\lambda_1$\n",
    "\n",
    "$$\n",
    "\\begin{aligned}\n",
    "(A - \\lambda_1\\mathbf I)\\mathbf x_1 &= \\mathbf 0\\\\\n",
    "\\begin{bmatrix}\n",
    "-0.2 & 0.3\\\\\n",
    "0.2 & -0.3\n",
    "\\end{bmatrix}\\mathbf x_1 &= \\mathbf 0\\\\\n",
    "\\begin{bmatrix}\n",
    "-0.2 & 0.3\\\\\n",
    "0 & 0\n",
    "\\end{bmatrix}\\mathbf x_1 &= \\mathbf 0\\\\\n",
    "\\begin{bmatrix}\n",
    "1 & -1.5\\\\\n",
    "0 & 0\n",
    "\\end{bmatrix}\\mathbf x_1 &= \\mathbf 0\\\\\n",
    "\\mathbf x_1 &= \\begin{bmatrix}1.5\\\\1\\end{bmatrix}\n",
    "\\end{aligned}\n",
    "$$\n",
    "\n"
   ]
  },
  {
   "cell_type": "markdown",
   "id": "9b33c66b",
   "metadata": {
    "slideshow": {
     "slide_type": "slide"
    }
   },
   "source": [
    "\n",
    "- $\\lambda_2$\n",
    "\n",
    "$$\n",
    "\\begin{aligned}\n",
    "(A - \\lambda_2\\mathbf I)\\mathbf x_1 &= \\mathbf 0\\\\\n",
    "\\begin{bmatrix}\n",
    "0.3 & 0.3\\\\\n",
    "0.2 & 0.2\n",
    "\\end{bmatrix}\\mathbf x_2 &= \\mathbf 0\\\\\n",
    "\\begin{bmatrix}\n",
    "0.3 & 0.3\\\\\n",
    "0 & 0\n",
    "\\end{bmatrix}\\mathbf x_2 &= \\mathbf 0\\\\\n",
    "\\begin{bmatrix}\n",
    "1 & 1\\\\\n",
    "0 & 0\n",
    "\\end{bmatrix}\\mathbf x_2 &= \\mathbf 0\\\\\n",
    "\\mathbf x_2 &= \\begin{bmatrix}-1\\\\1\\end{bmatrix}\\\\\n",
    "\\end{aligned}\n",
    "$$"
   ]
  },
  {
   "cell_type": "markdown",
   "id": "6cd39819",
   "metadata": {
    "slideshow": {
     "slide_type": "slide"
    }
   },
   "source": [
    "$\\mathbf x_1$ is the eigenvector *corresponding to* $\\lambda_1$.\n",
    "\n",
    "$\\mathbf x_2$ is the eigenvector *corresponding to* $\\lambda_2$.\n",
    "\n",
    "Any non-zero multiples of $\\mathbf x_1, \\mathbf x_2$ are also eigenvectors. It is common practice to use normalized eigenvectors, i.e. eigenvectors with length 1.\n",
    "\n",
    "$$\n",
    "\\begin{aligned}\n",
    "\\mathbf v_1 &= \\frac{\\mathbf x_1}{||\\mathbf x_1||}\\\\\n",
    "&= \\frac{1}{\\sqrt{13}}\\begin{bmatrix}3\\\\2\\end{bmatrix}\\\\\n",
    "\\mathbf v_2 &= \\frac{\\mathbf x_1}{||\\mathbf x_1||}\\\\\n",
    "&= \\frac{1}{\\sqrt{2}}\\begin{bmatrix}-1\\\\1\\end{bmatrix}\\\\\n",
    "\\end{aligned}\n",
    "$$"
   ]
  },
  {
   "cell_type": "code",
   "execution_count": 4,
   "id": "d201fdf4",
   "metadata": {
    "slideshow": {
     "slide_type": "slide"
    }
   },
   "outputs": [
    {
     "data": {
      "text/latex": [
       "$\\displaystyle \\left[\\begin{matrix}\\frac{4}{5} & \\frac{3}{10}\\\\\\frac{1}{5} & \\frac{7}{10}\\end{matrix}\\right]$"
      ],
      "text/plain": [
       "Matrix([\n",
       "[4/5, 3/10],\n",
       "[1/5, 7/10]])"
      ]
     },
     "execution_count": 4,
     "metadata": {},
     "output_type": "execute_result"
    }
   ],
   "source": [
    "A = Matrix([\n",
    "    [Rational(4,5), Rational(3,10)],\n",
    "    [Rational(1,5), Rational(7,10)]\n",
    "])\n",
    "A"
   ]
  },
  {
   "cell_type": "code",
   "execution_count": 5,
   "id": "d3d5c23c",
   "metadata": {},
   "outputs": [],
   "source": [
    "e1, e2 = A.eigenvects()"
   ]
  },
  {
   "cell_type": "code",
   "execution_count": 6,
   "id": "fd9bf523",
   "metadata": {},
   "outputs": [],
   "source": [
    "lambda1, _, v1 = e1"
   ]
  },
  {
   "cell_type": "code",
   "execution_count": 7,
   "id": "c8bf9c34",
   "metadata": {},
   "outputs": [
    {
     "data": {
      "text/latex": [
       "$\\displaystyle \\frac{1}{2}$"
      ],
      "text/plain": [
       "1/2"
      ]
     },
     "execution_count": 7,
     "metadata": {},
     "output_type": "execute_result"
    }
   ],
   "source": [
    "lambda1"
   ]
  },
  {
   "cell_type": "code",
   "execution_count": 8,
   "id": "f77ce6d4",
   "metadata": {},
   "outputs": [
    {
     "data": {
      "text/latex": [
       "$\\displaystyle \\left[\\begin{matrix}- \\frac{\\sqrt{2}}{2}\\\\\\frac{\\sqrt{2}}{2}\\end{matrix}\\right]$"
      ],
      "text/plain": [
       "Matrix([\n",
       "[-sqrt(2)/2],\n",
       "[ sqrt(2)/2]])"
      ]
     },
     "execution_count": 8,
     "metadata": {},
     "output_type": "execute_result"
    }
   ],
   "source": [
    "v1[0].normalized()"
   ]
  },
  {
   "cell_type": "code",
   "execution_count": 9,
   "id": "db0dc01c",
   "metadata": {},
   "outputs": [],
   "source": [
    "lambda2, _, v2 = e2"
   ]
  },
  {
   "cell_type": "code",
   "execution_count": 10,
   "id": "e1c383d6",
   "metadata": {},
   "outputs": [
    {
     "data": {
      "text/latex": [
       "$\\displaystyle 1$"
      ],
      "text/plain": [
       "1"
      ]
     },
     "execution_count": 10,
     "metadata": {},
     "output_type": "execute_result"
    }
   ],
   "source": [
    "lambda2"
   ]
  },
  {
   "cell_type": "code",
   "execution_count": 11,
   "id": "35f6dfd7",
   "metadata": {},
   "outputs": [
    {
     "data": {
      "text/latex": [
       "$\\displaystyle \\left[\\begin{matrix}\\frac{3 \\sqrt{13}}{13}\\\\\\frac{2 \\sqrt{13}}{13}\\end{matrix}\\right]$"
      ],
      "text/plain": [
       "Matrix([\n",
       "[3*sqrt(13)/13],\n",
       "[2*sqrt(13)/13]])"
      ]
     },
     "execution_count": 11,
     "metadata": {},
     "output_type": "execute_result"
    }
   ],
   "source": [
    "v2[0].normalized()"
   ]
  },
  {
   "cell_type": "code",
   "execution_count": 12,
   "id": "e0ade0b9",
   "metadata": {
    "slideshow": {
     "slide_type": "slide"
    }
   },
   "outputs": [
    {
     "data": {
      "text/plain": [
       "array([[0.8, 0.3],\n",
       "       [0.2, 0.7]])"
      ]
     },
     "execution_count": 12,
     "metadata": {},
     "output_type": "execute_result"
    }
   ],
   "source": [
    "A = np.array([\n",
    "    [0.8, 0.3],\n",
    "    [0.2, 0.7]\n",
    "])\n",
    "A"
   ]
  },
  {
   "cell_type": "code",
   "execution_count": 13,
   "id": "764134f7",
   "metadata": {},
   "outputs": [
    {
     "data": {
      "text/plain": [
       "EigResult(eigenvalues=array([1. , 0.5]), eigenvectors=array([[ 0.83205029, -0.70710678],\n",
       "       [ 0.5547002 ,  0.70710678]]))"
      ]
     },
     "execution_count": 13,
     "metadata": {},
     "output_type": "execute_result"
    }
   ],
   "source": [
    "np.linalg.eig(A)"
   ]
  },
  {
   "cell_type": "markdown",
   "id": "2955e66a",
   "metadata": {
    "slideshow": {
     "slide_type": "slide"
    }
   },
   "source": [
    "\n",
    "\n",
    "### Procedure to find eigenvalues and eigenvectors:\n",
    "\n",
    "1. Construct $A-\\lambda \\mathbf I$ with $\\lambda$ as unknown.\n",
    "2. Set $|A-\\lambda \\mathbf I| = 0$ and solve for $\\lambda$. All solutions are eigenvalues.\n",
    "3. For each solution for $\\lambda$, find the nullspace of $|A-\\lambda \\mathbf I| = 0$. Each vector in the nullspace is an eigenvector corresponding to this solution."
   ]
  },
  {
   "cell_type": "markdown",
   "id": "fbdc1706",
   "metadata": {},
   "source": [
    "##### Example 2: Projection matrix\n",
    "\n",
    "$$\n",
    "A = \\begin{bmatrix}\n",
    "\\frac{1}{2} & \\frac{1}{2}\\\\\n",
    "\\frac{1}{2} & \\frac{1}{2}\n",
    "\\end{bmatrix}\n",
    "$$\n",
    "\n",
    "- find eigenvalues\n",
    "\n",
    "$$\n",
    "\\begin{aligned}\n",
    "\\begin{vmatrix}\n",
    "\\frac{1}{2}-\\lambda & \\frac{1}{2}\\\\\n",
    "\\frac{1}{2} & \\frac{1}{2}-\\lambda\n",
    "\\end{vmatrix} &= 0\\\\\n",
    "(\\frac{1}{2}-\\lambda)^2 - \\frac{1}{4} &= 0\\\\\n",
    "\\lambda^2 -\\lambda &= 0\\\\\n",
    "\\lambda(\\lambda-1) &= 0\\\\\n",
    "\\lambda_1 &= 1\\\\\n",
    "\\lambda_2 &= 0\n",
    "\\end{aligned}\n",
    "$$"
   ]
  },
  {
   "cell_type": "markdown",
   "id": "0c700c06",
   "metadata": {
    "slideshow": {
     "slide_type": "slide"
    }
   },
   "source": [
    "- find eigenvectors\n",
    "\n",
    "    - $\\lambda_1$: \n",
    "    $$\n",
    "    \\begin{aligned}\n",
    "    \\begin{bmatrix}\n",
    "    -\\frac{1}{2} & \\frac{1}{2}\\\\\n",
    "    \\frac{1}{2} & -\\frac{1}{2}\n",
    "    \\end{bmatrix}\\mathbf x_1 &= \\mathbf 0\\\\\n",
    "    \\mathbf x_1 &= \\begin{bmatrix}1\\\\1\\end{bmatrix}\n",
    "    \\end{aligned}\n",
    "    $$\n",
    "    \n",
    "    - $\\lambda_2$:\n",
    "    $$\n",
    "    \\begin{aligned}\n",
    "    \\begin{bmatrix}\n",
    "    \\frac{1}{2} & \\frac{1}{2}\\\\\n",
    "    \\frac{1}{2} & \\frac{1}{2}\n",
    "    \\end{bmatrix}\\mathbf x_2 &= \\mathbf 0\\\\\n",
    "    \\mathbf x_2 &= \\begin{bmatrix}-1\\\\1\\end{bmatrix}\n",
    "    \\end{aligned}\n",
    "    $$"
   ]
  },
  {
   "cell_type": "markdown",
   "id": "a4ee7e80",
   "metadata": {
    "slideshow": {
     "slide_type": "slide"
    }
   },
   "source": [
    "##### Example 3: Reflection matrix\n",
    "\n",
    "$$\n",
    "A = \\begin{bmatrix}\n",
    "0 & 1\\\\\n",
    "1 & 0\n",
    "\\end{bmatrix}\n",
    "$$\n",
    "\n",
    "- find eigenvalues\n",
    "\n",
    "$$\n",
    "\\begin{aligned}\n",
    "\\begin{vmatrix}\n",
    "-\\lambda & 1\\\\\n",
    "1 & -\\lambda\n",
    "\\end{vmatrix} &= 0\\\\\n",
    "\\lambda^2-1 &= 0\\\\\n",
    "\\lambda^2 &= 1\\\\\n",
    "\\lambda_1 &= 1\\\\\n",
    "\\lambda_2 &= -1\n",
    "\\end{aligned}\n",
    "$$"
   ]
  },
  {
   "cell_type": "markdown",
   "id": "afb03c09",
   "metadata": {
    "slideshow": {
     "slide_type": "slide"
    }
   },
   "source": [
    "- find eigenvectors\n",
    "\n",
    "    - $\\lambda_1$: \n",
    "    $$\n",
    "    \\begin{aligned}\n",
    "    \\begin{bmatrix}\n",
    "    -1 & 1\\\\\n",
    "    1 & -1\n",
    "    \\end{bmatrix}\\mathbf x_1 &= \\mathbf 0\\\\\n",
    "    \\mathbf x_1 &= \\begin{bmatrix}1\\\\1\\end{bmatrix}\n",
    "    \\end{aligned}\n",
    "    $$\n",
    "    \n",
    "    - $\\lambda_2$:\n",
    "    $$\n",
    "    \\begin{aligned}\n",
    "    \\begin{bmatrix}\n",
    "    1 & 1\\\\\n",
    "    1 & 1\n",
    "    \\end{bmatrix}\\mathbf x_2 &= \\mathbf 0\\\\\n",
    "    \\mathbf x_2 &= \\begin{bmatrix}-1\\\\1\\end{bmatrix}\n",
    "    \\end{aligned}\n",
    "    $$"
   ]
  },
  {
   "cell_type": "markdown",
   "id": "054398bb",
   "metadata": {
    "slideshow": {
     "slide_type": "slide"
    }
   },
   "source": [
    "##### Example 4: Rotation matrix\n",
    "\n",
    "$$\n",
    "A = \\begin{bmatrix}\n",
    "\\frac{\\sqrt{2}}{2} & \\frac{\\sqrt{2}}{2}\\\\\n",
    "-\\frac{\\sqrt{2}}{2} & \\frac{\\sqrt{2}}{2}\n",
    "\\end{bmatrix}\n",
    "$$\n",
    "\n",
    "- find eigenvalues\n",
    "\n",
    "$$\n",
    "\\begin{aligned}\n",
    "\\begin{vmatrix}\n",
    "\\frac{\\sqrt{2}}{2}-\\lambda & \\frac{\\sqrt{2}}{2}\\\\\n",
    "-\\frac{\\sqrt{2}}{2} & \\frac{\\sqrt{2}}{2}-\\lambda\n",
    "\\end{vmatrix} &= 0\\\\\n",
    "(\\frac{\\sqrt{2}}{2}-\\lambda)^2 + \\frac{1}{2} &= 0\\\\\n",
    "\\lambda^2 - \\sqrt{2}\\lambda + 1 &= 0\\\\\n",
    "\\lambda_{1/2} &= \\frac{\\sqrt{2}}{2} \\pm \\sqrt{\\frac{1}{2} - 1}\\\\\n",
    " &= \\frac{\\sqrt{2}}{2} \\pm \\sqrt{-\\frac{1}{2}}\n",
    "\\end{aligned}\n",
    "$$\n",
    "\n",
    "**There is no solution within the real numbers!**\n",
    "\n",
    "(There are complex eigenvalues – and complex eigenvectors – for this matrix, but this is beyond the scope of this course.)"
   ]
  },
  {
   "cell_type": "markdown",
   "id": "b88fe023",
   "metadata": {
    "slideshow": {
     "slide_type": "slide"
    }
   },
   "source": [
    "##### Example 5: Multiple eigenvalues\n",
    "$$\n",
    "A = \\begin{bmatrix}\n",
    "1 & 0\\\\\n",
    "0 & 1\n",
    "\\end{bmatrix}\n",
    "$$\n",
    "\n",
    "- find eigenvalues\n",
    "\n",
    "$$\n",
    "\\begin{aligned}\n",
    "\\begin{vmatrix}\n",
    "1-\\lambda & 0\\\\\n",
    "0 & 1-\\lambda\n",
    "\\end{vmatrix} &= 0\\\\\n",
    "(1-\\lambda)^2 &= 0\\\\\n",
    "1-\\lambda &= 0\\\\\n",
    "\\lambda &= 1\n",
    "\\end{aligned}\n",
    "$$\n",
    "\n",
    "- find eigenvectors\n",
    "\n",
    "$$\n",
    "\\begin{bmatrix}\n",
    "0 & 0\\\\\n",
    "0 & 0\n",
    "\\end{bmatrix}\\mathbf x = \\mathbf 0\n",
    "$$\n",
    "\n",
    "**Any vector is an eigenvector of the identity matrix.**"
   ]
  },
  {
   "cell_type": "markdown",
   "id": "858ce872",
   "metadata": {
    "slideshow": {
     "slide_type": "slide"
    }
   },
   "source": [
    "##### Example 6: Defective matrices\n",
    "\n",
    "$$\n",
    "A = \\begin{bmatrix}\n",
    "1 & 1\\\\\n",
    "0 & 1\n",
    "\\end{bmatrix}\n",
    "$$\n",
    "\n",
    "- find eigenvalues\n",
    "\n",
    "$$\n",
    "\\begin{aligned}\n",
    "\\begin{vmatrix}\n",
    "1-\\lambda & 1\\\\\n",
    "0 & 1-\\lambda\n",
    "\\end{vmatrix} &= 0\\\\\n",
    "(1-\\lambda)^2 &= 0\\\\\n",
    "1-\\lambda &= 0\\\\\n",
    "\\lambda &= 1\n",
    "\\end{aligned}\n",
    "$$\n",
    "\n",
    "- find eigenvectors\n",
    "\n",
    "$$\n",
    "\\begin{aligned}\n",
    "\\begin{bmatrix}\n",
    "0 & 1\\\\\n",
    "0 & 0\n",
    "\\end{bmatrix}\n",
    "\\mathbf x &= \\mathbf 0\\\\\n",
    "\\mathbf x &= \\begin{bmatrix}1\\\\0\\end{bmatrix}\n",
    "\\end{aligned}\n",
    "$$\n",
    "\n",
    "**This matrix has only one eigenvalue and one eigenvector.**"
   ]
  },
  {
   "cell_type": "markdown",
   "id": "cc9037e8",
   "metadata": {
    "slideshow": {
     "slide_type": "slide"
    }
   },
   "source": [
    "### Larger matrices\n",
    "\n",
    "$$\n",
    "A = \\begin{bmatrix}\n",
    "-1 & 2 & 2\\\\\n",
    "2 & 2 & -1\\\\\n",
    "2 & -1 & 2\n",
    "\\end{bmatrix}\n",
    "$$\n",
    "\n",
    "- finding eigenvalues\n",
    "\n",
    "$$\n",
    "\\begin{aligned}\n",
    "\\begin{vmatrix}\n",
    "-1-\\lambda & 2 & 2\\\\\n",
    "2 & 2-\\lambda & -1\\\\\n",
    "2 & -1 & 2-\\lambda\n",
    "\\end{vmatrix} &= 0\\\\\n",
    "(-1-\\lambda)(2-\\lambda)^2 -4 -4 -4(2-\\lambda)-4(2-\\lambda) + 1 + \\lambda &= 0\\\\\n",
    "-\\lambda^2+4\\lambda-4-\\lambda^3+4\\lambda^2-4\\lambda -4 -4 -8+4\\lambda-8+4\\lambda + 1 + \\lambda &= 0\\\\\n",
    "-\\lambda^3 + 3\\lambda^2 + 9\\lambda - 27&= 0\\\\\n",
    "\\lambda^3 - 3\\lambda^2 - 9\\lambda + 27&= 0\n",
    "\\end{aligned}\n",
    "$$\n"
   ]
  },
  {
   "cell_type": "markdown",
   "id": "8c916755",
   "metadata": {},
   "source": [
    "In the general case, solving a cubic equation by hand is very hard. In this particular example, the solution is:\n",
    "\n",
    "$$\n",
    "\\begin{aligned}\n",
    "\\lambda^3 - 3\\lambda^2 - 9\\lambda + 27 &= (\\lambda -3)^2 (\\lambda+3)\\\\\n",
    "\\lambda_1 &= 3\\\\\n",
    "\\lambda_2 &= -3\n",
    "\\end{aligned}\n",
    "$$\n",
    "\n"
   ]
  },
  {
   "cell_type": "markdown",
   "id": "16223894",
   "metadata": {
    "slideshow": {
     "slide_type": "slide"
    }
   },
   "source": [
    "\n",
    "\n",
    "- eigenvectors"
   ]
  },
  {
   "cell_type": "code",
   "execution_count": 14,
   "id": "ef01cfd0",
   "metadata": {},
   "outputs": [
    {
     "data": {
      "text/latex": [
       "$\\displaystyle \\left[\\begin{matrix}-1 & 2 & 2\\\\2 & 2 & -1\\\\2 & -1 & 2\\end{matrix}\\right]$"
      ],
      "text/plain": [
       "Matrix([\n",
       "[-1,  2,  2],\n",
       "[ 2,  2, -1],\n",
       "[ 2, -1,  2]])"
      ]
     },
     "execution_count": 14,
     "metadata": {},
     "output_type": "execute_result"
    }
   ],
   "source": [
    "A = Matrix([\n",
    "    [-1,2,2],\n",
    "    [2,2,-1],\n",
    "    [2,-1,2]\n",
    "])\n",
    "A"
   ]
  },
  {
   "cell_type": "code",
   "execution_count": 15,
   "id": "7018c0de",
   "metadata": {},
   "outputs": [
    {
     "data": {
      "text/plain": [
       "{-3: 1, 3: 2}"
      ]
     },
     "execution_count": 15,
     "metadata": {},
     "output_type": "execute_result"
    }
   ],
   "source": [
    "A.eigenvals()"
   ]
  },
  {
   "cell_type": "markdown",
   "id": "cc34ddc5",
   "metadata": {},
   "source": [
    "(In this dictionary, the keys are the eigenvalues and the values are the *algebraic multiplicity*.)"
   ]
  },
  {
   "cell_type": "code",
   "execution_count": 16,
   "id": "05ebe5ec",
   "metadata": {},
   "outputs": [],
   "source": [
    "e1, e2 = A.eigenvects()"
   ]
  },
  {
   "cell_type": "code",
   "execution_count": 17,
   "id": "26e73b6d",
   "metadata": {},
   "outputs": [
    {
     "data": {
      "text/latex": [
       "$\\displaystyle -3$"
      ],
      "text/plain": [
       "-3"
      ]
     },
     "execution_count": 17,
     "metadata": {},
     "output_type": "execute_result"
    }
   ],
   "source": [
    "e1[0]"
   ]
  },
  {
   "cell_type": "code",
   "execution_count": 18,
   "id": "86046c65",
   "metadata": {},
   "outputs": [
    {
     "data": {
      "text/latex": [
       "$\\displaystyle \\left[\\begin{matrix}-2\\\\1\\\\1\\end{matrix}\\right]$"
      ],
      "text/plain": [
       "Matrix([\n",
       "[-2],\n",
       "[ 1],\n",
       "[ 1]])"
      ]
     },
     "execution_count": 18,
     "metadata": {},
     "output_type": "execute_result"
    }
   ],
   "source": [
    "e1[2][0]"
   ]
  },
  {
   "cell_type": "code",
   "execution_count": 19,
   "id": "cf4b0d33",
   "metadata": {},
   "outputs": [
    {
     "data": {
      "text/latex": [
       "$\\displaystyle 3$"
      ],
      "text/plain": [
       "3"
      ]
     },
     "execution_count": 19,
     "metadata": {},
     "output_type": "execute_result"
    }
   ],
   "source": [
    "e2[0]"
   ]
  },
  {
   "cell_type": "code",
   "execution_count": 20,
   "id": "2c03d6f5",
   "metadata": {},
   "outputs": [
    {
     "data": {
      "text/latex": [
       "$\\displaystyle \\left[\\begin{matrix}\\frac{1}{2}\\\\1\\\\0\\end{matrix}\\right]$"
      ],
      "text/plain": [
       "Matrix([\n",
       "[1/2],\n",
       "[  1],\n",
       "[  0]])"
      ]
     },
     "execution_count": 20,
     "metadata": {},
     "output_type": "execute_result"
    }
   ],
   "source": [
    "e2[2][0]"
   ]
  },
  {
   "cell_type": "code",
   "execution_count": 21,
   "id": "755698f1",
   "metadata": {
    "slideshow": {
     "slide_type": "slide"
    }
   },
   "outputs": [
    {
     "data": {
      "text/latex": [
       "$\\displaystyle \\left[\\begin{matrix}\\frac{1}{2}\\\\0\\\\1\\end{matrix}\\right]$"
      ],
      "text/plain": [
       "Matrix([\n",
       "[1/2],\n",
       "[  0],\n",
       "[  1]])"
      ]
     },
     "execution_count": 21,
     "metadata": {},
     "output_type": "execute_result"
    }
   ],
   "source": [
    "e2[2][1]"
   ]
  },
  {
   "cell_type": "markdown",
   "id": "af548ac3",
   "metadata": {},
   "source": [
    "Note that there are two eigenvectors corresponding to the eigenvalue 3."
   ]
  },
  {
   "cell_type": "code",
   "execution_count": 22,
   "id": "cc2e3e5a",
   "metadata": {
    "slideshow": {
     "slide_type": "slide"
    }
   },
   "outputs": [
    {
     "data": {
      "text/latex": [
       "$\\displaystyle \\left[\\begin{matrix}-1 & 2 & 3\\\\4 & 5 & 6\\\\7 & 8 & 9\\end{matrix}\\right]$"
      ],
      "text/plain": [
       "Matrix([\n",
       "[-1, 2, 3],\n",
       "[ 4, 5, 6],\n",
       "[ 7, 8, 9]])"
      ]
     },
     "execution_count": 22,
     "metadata": {},
     "output_type": "execute_result"
    }
   ],
   "source": [
    "A = Matrix([\n",
    "    [-1,2,3],\n",
    "    [4,5,6],\n",
    "    [7,8,9]\n",
    "])\n",
    "A"
   ]
  },
  {
   "cell_type": "code",
   "execution_count": 23,
   "id": "ffeae032",
   "metadata": {},
   "outputs": [],
   "source": [
    "e1, e2, e3 = A.eigenvects()"
   ]
  },
  {
   "cell_type": "code",
   "execution_count": 24,
   "id": "d47eafce",
   "metadata": {},
   "outputs": [
    {
     "data": {
      "text/latex": [
       "$\\displaystyle \\frac{13}{3} + \\left(- \\frac{1}{2} - \\frac{\\sqrt{3} i}{2}\\right) \\sqrt[3]{\\frac{4969}{27} + \\frac{\\sqrt{471498} i}{9}} + \\frac{307}{9 \\left(- \\frac{1}{2} - \\frac{\\sqrt{3} i}{2}\\right) \\sqrt[3]{\\frac{4969}{27} + \\frac{\\sqrt{471498} i}{9}}}$"
      ],
      "text/plain": [
       "13/3 + (-1/2 - sqrt(3)*I/2)*(4969/27 + sqrt(471498)*I/9)**(1/3) + 307/(9*(-1/2 - sqrt(3)*I/2)*(4969/27 + sqrt(471498)*I/9)**(1/3))"
      ]
     },
     "execution_count": 24,
     "metadata": {},
     "output_type": "execute_result"
    }
   ],
   "source": [
    "e1[0]"
   ]
  },
  {
   "cell_type": "code",
   "execution_count": 25,
   "id": "ab31601e",
   "metadata": {
    "slideshow": {
     "slide_type": "slide"
    }
   },
   "outputs": [
    {
     "data": {
      "text/latex": [
       "$\\displaystyle \\left[\\begin{matrix}\\frac{306}{89} + \\frac{63 \\left(- \\frac{1}{2} - \\frac{\\sqrt{3} i}{2}\\right) \\sqrt[3]{\\frac{4969}{27} + \\frac{\\sqrt{471498} i}{9}}}{89} - \\frac{4 \\left(\\frac{13}{3} + \\left(- \\frac{1}{2} - \\frac{\\sqrt{3} i}{2}\\right) \\sqrt[3]{\\frac{4969}{27} + \\frac{\\sqrt{471498} i}{9}} + \\frac{307}{9 \\left(- \\frac{1}{2} - \\frac{\\sqrt{3} i}{2}\\right) \\sqrt[3]{\\frac{4969}{27} + \\frac{\\sqrt{471498} i}{9}}}\\right)^{2}}{89} + \\frac{2149}{89 \\left(- \\frac{1}{2} - \\frac{\\sqrt{3} i}{2}\\right) \\sqrt[3]{\\frac{4969}{27} + \\frac{\\sqrt{471498} i}{9}}}\\\\- \\frac{959}{267} - \\frac{13508}{801 \\left(- \\frac{1}{2} - \\frac{\\sqrt{3} i}{2}\\right) \\sqrt[3]{\\frac{4969}{27} + \\frac{\\sqrt{471498} i}{9}}} + \\frac{7 \\left(\\frac{13}{3} + \\left(- \\frac{1}{2} - \\frac{\\sqrt{3} i}{2}\\right) \\sqrt[3]{\\frac{4969}{27} + \\frac{\\sqrt{471498} i}{9}} + \\frac{307}{9 \\left(- \\frac{1}{2} - \\frac{\\sqrt{3} i}{2}\\right) \\sqrt[3]{\\frac{4969}{27} + \\frac{\\sqrt{471498} i}{9}}}\\right)^{2}}{178} - \\frac{44 \\left(- \\frac{1}{2} - \\frac{\\sqrt{3} i}{2}\\right) \\sqrt[3]{\\frac{4969}{27} + \\frac{\\sqrt{471498} i}{9}}}{89}\\\\1\\end{matrix}\\right]$"
      ],
      "text/plain": [
       "Matrix([\n",
       "[     306/89 + 63*(-1/2 - sqrt(3)*I/2)*(4969/27 + sqrt(471498)*I/9)**(1/3)/89 - 4*(13/3 + (-1/2 - sqrt(3)*I/2)*(4969/27 + sqrt(471498)*I/9)**(1/3) + 307/(9*(-1/2 - sqrt(3)*I/2)*(4969/27 + sqrt(471498)*I/9)**(1/3)))**2/89 + 2149/(89*(-1/2 - sqrt(3)*I/2)*(4969/27 + sqrt(471498)*I/9)**(1/3))],\n",
       "[-959/267 - 13508/(801*(-1/2 - sqrt(3)*I/2)*(4969/27 + sqrt(471498)*I/9)**(1/3)) + 7*(13/3 + (-1/2 - sqrt(3)*I/2)*(4969/27 + sqrt(471498)*I/9)**(1/3) + 307/(9*(-1/2 - sqrt(3)*I/2)*(4969/27 + sqrt(471498)*I/9)**(1/3)))**2/178 - 44*(-1/2 - sqrt(3)*I/2)*(4969/27 + sqrt(471498)*I/9)**(1/3)/89],\n",
       "[                                                                                                                                                                                                                                                                                               1]])"
      ]
     },
     "execution_count": 25,
     "metadata": {},
     "output_type": "execute_result"
    }
   ],
   "source": [
    "e1[2][0]"
   ]
  },
  {
   "cell_type": "code",
   "execution_count": 26,
   "id": "7087786e",
   "metadata": {
    "slideshow": {
     "slide_type": "slide"
    }
   },
   "outputs": [
    {
     "data": {
      "text/latex": [
       "$\\displaystyle \\frac{13}{3} + \\frac{307}{9 \\left(- \\frac{1}{2} + \\frac{\\sqrt{3} i}{2}\\right) \\sqrt[3]{\\frac{4969}{27} + \\frac{\\sqrt{471498} i}{9}}} + \\left(- \\frac{1}{2} + \\frac{\\sqrt{3} i}{2}\\right) \\sqrt[3]{\\frac{4969}{27} + \\frac{\\sqrt{471498} i}{9}}$"
      ],
      "text/plain": [
       "13/3 + 307/(9*(-1/2 + sqrt(3)*I/2)*(4969/27 + sqrt(471498)*I/9)**(1/3)) + (-1/2 + sqrt(3)*I/2)*(4969/27 + sqrt(471498)*I/9)**(1/3)"
      ]
     },
     "execution_count": 26,
     "metadata": {},
     "output_type": "execute_result"
    }
   ],
   "source": [
    "e2[0]"
   ]
  },
  {
   "cell_type": "code",
   "execution_count": 27,
   "id": "326fe5c5",
   "metadata": {},
   "outputs": [
    {
     "data": {
      "text/latex": [
       "$\\displaystyle \\left[\\begin{matrix}\\frac{306}{89} + \\frac{2149}{89 \\left(- \\frac{1}{2} + \\frac{\\sqrt{3} i}{2}\\right) \\sqrt[3]{\\frac{4969}{27} + \\frac{\\sqrt{471498} i}{9}}} - \\frac{4 \\left(\\frac{13}{3} + \\frac{307}{9 \\left(- \\frac{1}{2} + \\frac{\\sqrt{3} i}{2}\\right) \\sqrt[3]{\\frac{4969}{27} + \\frac{\\sqrt{471498} i}{9}}} + \\left(- \\frac{1}{2} + \\frac{\\sqrt{3} i}{2}\\right) \\sqrt[3]{\\frac{4969}{27} + \\frac{\\sqrt{471498} i}{9}}\\right)^{2}}{89} + \\frac{63 \\left(- \\frac{1}{2} + \\frac{\\sqrt{3} i}{2}\\right) \\sqrt[3]{\\frac{4969}{27} + \\frac{\\sqrt{471498} i}{9}}}{89}\\\\- \\frac{959}{267} - \\frac{44 \\left(- \\frac{1}{2} + \\frac{\\sqrt{3} i}{2}\\right) \\sqrt[3]{\\frac{4969}{27} + \\frac{\\sqrt{471498} i}{9}}}{89} + \\frac{7 \\left(\\frac{13}{3} + \\frac{307}{9 \\left(- \\frac{1}{2} + \\frac{\\sqrt{3} i}{2}\\right) \\sqrt[3]{\\frac{4969}{27} + \\frac{\\sqrt{471498} i}{9}}} + \\left(- \\frac{1}{2} + \\frac{\\sqrt{3} i}{2}\\right) \\sqrt[3]{\\frac{4969}{27} + \\frac{\\sqrt{471498} i}{9}}\\right)^{2}}{178} - \\frac{13508}{801 \\left(- \\frac{1}{2} + \\frac{\\sqrt{3} i}{2}\\right) \\sqrt[3]{\\frac{4969}{27} + \\frac{\\sqrt{471498} i}{9}}}\\\\1\\end{matrix}\\right]$"
      ],
      "text/plain": [
       "Matrix([\n",
       "[     306/89 + 2149/(89*(-1/2 + sqrt(3)*I/2)*(4969/27 + sqrt(471498)*I/9)**(1/3)) - 4*(13/3 + 307/(9*(-1/2 + sqrt(3)*I/2)*(4969/27 + sqrt(471498)*I/9)**(1/3)) + (-1/2 + sqrt(3)*I/2)*(4969/27 + sqrt(471498)*I/9)**(1/3))**2/89 + 63*(-1/2 + sqrt(3)*I/2)*(4969/27 + sqrt(471498)*I/9)**(1/3)/89],\n",
       "[-959/267 - 44*(-1/2 + sqrt(3)*I/2)*(4969/27 + sqrt(471498)*I/9)**(1/3)/89 + 7*(13/3 + 307/(9*(-1/2 + sqrt(3)*I/2)*(4969/27 + sqrt(471498)*I/9)**(1/3)) + (-1/2 + sqrt(3)*I/2)*(4969/27 + sqrt(471498)*I/9)**(1/3))**2/178 - 13508/(801*(-1/2 + sqrt(3)*I/2)*(4969/27 + sqrt(471498)*I/9)**(1/3))],\n",
       "[                                                                                                                                                                                                                                                                                               1]])"
      ]
     },
     "execution_count": 27,
     "metadata": {},
     "output_type": "execute_result"
    }
   ],
   "source": [
    "e2[2][0]"
   ]
  },
  {
   "cell_type": "code",
   "execution_count": 28,
   "id": "79d77dd9",
   "metadata": {
    "slideshow": {
     "slide_type": "slide"
    }
   },
   "outputs": [
    {
     "data": {
      "text/latex": [
       "$\\displaystyle \\frac{13}{3} + \\frac{307}{9 \\sqrt[3]{\\frac{4969}{27} + \\frac{\\sqrt{471498} i}{9}}} + \\sqrt[3]{\\frac{4969}{27} + \\frac{\\sqrt{471498} i}{9}}$"
      ],
      "text/plain": [
       "13/3 + 307/(9*(4969/27 + sqrt(471498)*I/9)**(1/3)) + (4969/27 + sqrt(471498)*I/9)**(1/3)"
      ]
     },
     "execution_count": 28,
     "metadata": {},
     "output_type": "execute_result"
    }
   ],
   "source": [
    "e3[0]"
   ]
  },
  {
   "cell_type": "code",
   "execution_count": 29,
   "id": "adc3ee71",
   "metadata": {},
   "outputs": [
    {
     "data": {
      "text/latex": [
       "$\\displaystyle \\left[\\begin{matrix}\\frac{306}{89} + \\frac{2149}{89 \\sqrt[3]{\\frac{4969}{27} + \\frac{\\sqrt{471498} i}{9}}} - \\frac{4 \\left(\\frac{13}{3} + \\frac{307}{9 \\sqrt[3]{\\frac{4969}{27} + \\frac{\\sqrt{471498} i}{9}}} + \\sqrt[3]{\\frac{4969}{27} + \\frac{\\sqrt{471498} i}{9}}\\right)^{2}}{89} + \\frac{63 \\sqrt[3]{\\frac{4969}{27} + \\frac{\\sqrt{471498} i}{9}}}{89}\\\\- \\frac{959}{267} - \\frac{44 \\sqrt[3]{\\frac{4969}{27} + \\frac{\\sqrt{471498} i}{9}}}{89} + \\frac{7 \\left(\\frac{13}{3} + \\frac{307}{9 \\sqrt[3]{\\frac{4969}{27} + \\frac{\\sqrt{471498} i}{9}}} + \\sqrt[3]{\\frac{4969}{27} + \\frac{\\sqrt{471498} i}{9}}\\right)^{2}}{178} - \\frac{13508}{801 \\sqrt[3]{\\frac{4969}{27} + \\frac{\\sqrt{471498} i}{9}}}\\\\1\\end{matrix}\\right]$"
      ],
      "text/plain": [
       "Matrix([\n",
       "[     306/89 + 2149/(89*(4969/27 + sqrt(471498)*I/9)**(1/3)) - 4*(13/3 + 307/(9*(4969/27 + sqrt(471498)*I/9)**(1/3)) + (4969/27 + sqrt(471498)*I/9)**(1/3))**2/89 + 63*(4969/27 + sqrt(471498)*I/9)**(1/3)/89],\n",
       "[-959/267 - 44*(4969/27 + sqrt(471498)*I/9)**(1/3)/89 + 7*(13/3 + 307/(9*(4969/27 + sqrt(471498)*I/9)**(1/3)) + (4969/27 + sqrt(471498)*I/9)**(1/3))**2/178 - 13508/(801*(4969/27 + sqrt(471498)*I/9)**(1/3))],\n",
       "[                                                                                                                                                                                                           1]])"
      ]
     },
     "execution_count": 29,
     "metadata": {},
     "output_type": "execute_result"
    }
   ],
   "source": [
    "e3[2][0]"
   ]
  },
  {
   "cell_type": "code",
   "execution_count": 30,
   "id": "7857cb6d",
   "metadata": {},
   "outputs": [
    {
     "data": {
      "text/latex": [
       "$\\displaystyle \\left[\\begin{matrix}0 & -3 & 2 & -1\\\\-3 & 9 & -6 & 3\\\\2 & -6 & 4 & -2\\\\-1 & 3 & -2 & 2\\end{matrix}\\right]$"
      ],
      "text/plain": [
       "Matrix([\n",
       "[ 0, -3,  2, -1],\n",
       "[-3,  9, -6,  3],\n",
       "[ 2, -6,  4, -2],\n",
       "[-1,  3, -2,  2]])"
      ]
     },
     "execution_count": 30,
     "metadata": {},
     "output_type": "execute_result"
    }
   ],
   "source": [
    "A = Matrix([\n",
    "    [0,-3,2,-1],\n",
    "    [-3,9,-6,3],\n",
    "    [2,-6,4,-2],\n",
    "    [-1, 3, -2, 2]\n",
    "])\n",
    "A"
   ]
  },
  {
   "cell_type": "code",
   "execution_count": 31,
   "id": "9b560343",
   "metadata": {
    "slideshow": {
     "slide_type": "slide"
    }
   },
   "outputs": [
    {
     "data": {
      "text/plain": [
       "[(0,\n",
       "  1,\n",
       "  [Matrix([\n",
       "   [  0],\n",
       "   [2/3],\n",
       "   [  1],\n",
       "   [  0]])]),\n",
       " (5 + (-1/2 - sqrt(3)*I/2)*(121 + sqrt(131007)*I/9)**(1/3) + 76/(3*(-1/2 - sqrt(3)*I/2)*(121 + sqrt(131007)*I/9)**(1/3)),\n",
       "  1,\n",
       "  [Matrix([\n",
       "   [             -66 - 1216/(3*(-1/2 - sqrt(3)*I/2)*(121 + sqrt(131007)*I/9)**(1/3)) + (5 + (-1/2 - sqrt(3)*I/2)*(121 + sqrt(131007)*I/9)**(1/3) + 76/(3*(-1/2 - sqrt(3)*I/2)*(121 + sqrt(131007)*I/9)**(1/3)))**2 - 16*(-1/2 - sqrt(3)*I/2)*(121 + sqrt(131007)*I/9)**(1/3)],\n",
       "   [-189/13 - 1140/(13*(-1/2 - sqrt(3)*I/2)*(121 + sqrt(131007)*I/9)**(1/3)) + 3*(5 + (-1/2 - sqrt(3)*I/2)*(121 + sqrt(131007)*I/9)**(1/3) + 76/(3*(-1/2 - sqrt(3)*I/2)*(121 + sqrt(131007)*I/9)**(1/3)))**2/13 - 45*(-1/2 - sqrt(3)*I/2)*(121 + sqrt(131007)*I/9)**(1/3)/13],\n",
       "   [  126/13 + 30*(-1/2 - sqrt(3)*I/2)*(121 + sqrt(131007)*I/9)**(1/3)/13 - 2*(5 + (-1/2 - sqrt(3)*I/2)*(121 + sqrt(131007)*I/9)**(1/3) + 76/(3*(-1/2 - sqrt(3)*I/2)*(121 + sqrt(131007)*I/9)**(1/3)))**2/13 + 760/(13*(-1/2 - sqrt(3)*I/2)*(121 + sqrt(131007)*I/9)**(1/3))],\n",
       "   [                                                                                                                                                                                                                                                                       1]])]),\n",
       " (5 + 76/(3*(-1/2 + sqrt(3)*I/2)*(121 + sqrt(131007)*I/9)**(1/3)) + (-1/2 + sqrt(3)*I/2)*(121 + sqrt(131007)*I/9)**(1/3),\n",
       "  1,\n",
       "  [Matrix([\n",
       "   [             -66 - 16*(-1/2 + sqrt(3)*I/2)*(121 + sqrt(131007)*I/9)**(1/3) + (5 + 76/(3*(-1/2 + sqrt(3)*I/2)*(121 + sqrt(131007)*I/9)**(1/3)) + (-1/2 + sqrt(3)*I/2)*(121 + sqrt(131007)*I/9)**(1/3))**2 - 1216/(3*(-1/2 + sqrt(3)*I/2)*(121 + sqrt(131007)*I/9)**(1/3))],\n",
       "   [-189/13 - 45*(-1/2 + sqrt(3)*I/2)*(121 + sqrt(131007)*I/9)**(1/3)/13 + 3*(5 + 76/(3*(-1/2 + sqrt(3)*I/2)*(121 + sqrt(131007)*I/9)**(1/3)) + (-1/2 + sqrt(3)*I/2)*(121 + sqrt(131007)*I/9)**(1/3))**2/13 - 1140/(13*(-1/2 + sqrt(3)*I/2)*(121 + sqrt(131007)*I/9)**(1/3))],\n",
       "   [  126/13 + 760/(13*(-1/2 + sqrt(3)*I/2)*(121 + sqrt(131007)*I/9)**(1/3)) - 2*(5 + 76/(3*(-1/2 + sqrt(3)*I/2)*(121 + sqrt(131007)*I/9)**(1/3)) + (-1/2 + sqrt(3)*I/2)*(121 + sqrt(131007)*I/9)**(1/3))**2/13 + 30*(-1/2 + sqrt(3)*I/2)*(121 + sqrt(131007)*I/9)**(1/3)/13],\n",
       "   [                                                                                                                                                                                                                                                                       1]])]),\n",
       " (5 + 76/(3*(121 + sqrt(131007)*I/9)**(1/3)) + (121 + sqrt(131007)*I/9)**(1/3),\n",
       "  1,\n",
       "  [Matrix([\n",
       "   [             -66 - 16*(121 + sqrt(131007)*I/9)**(1/3) + (5 + 76/(3*(121 + sqrt(131007)*I/9)**(1/3)) + (121 + sqrt(131007)*I/9)**(1/3))**2 - 1216/(3*(121 + sqrt(131007)*I/9)**(1/3))],\n",
       "   [-189/13 - 45*(121 + sqrt(131007)*I/9)**(1/3)/13 + 3*(5 + 76/(3*(121 + sqrt(131007)*I/9)**(1/3)) + (121 + sqrt(131007)*I/9)**(1/3))**2/13 - 1140/(13*(121 + sqrt(131007)*I/9)**(1/3))],\n",
       "   [  126/13 + 760/(13*(121 + sqrt(131007)*I/9)**(1/3)) - 2*(5 + 76/(3*(121 + sqrt(131007)*I/9)**(1/3)) + (121 + sqrt(131007)*I/9)**(1/3))**2/13 + 30*(121 + sqrt(131007)*I/9)**(1/3)/13],\n",
       "   [                                                                                                                                                                                   1]])])]"
      ]
     },
     "execution_count": 31,
     "metadata": {},
     "output_type": "execute_result"
    }
   ],
   "source": [
    "A.eigenvects()"
   ]
  },
  {
   "cell_type": "markdown",
   "id": "1d35b521",
   "metadata": {
    "slideshow": {
     "slide_type": "slide"
    }
   },
   "source": [
    "### Facts about eigenvalues and eigenvectors\n",
    "\n",
    "- An $n\\times n$ matrix has between 0 and $n$ eigenvalues.\n",
    "- Each eigenvalue has a certain *algebraic multiplicity* between $1$ and $n$.\n",
    "- The sum of the algebraic multiplicities is $\\leq n$.\n",
    "- For each eigenvalue, there is a number $k$ of linearly independent eigenvectors. $k$ is between $1$ and the algebraic multiplicity of the eigenvalue.\n",
    "- The number of eigenvectors for an eigenvalue is called its *geometric multiplicity*."
   ]
  },
  {
   "cell_type": "markdown",
   "id": "d0476bfd",
   "metadata": {
    "slideshow": {
     "slide_type": "slide"
    }
   },
   "source": [
    "## Eigenspaces\n",
    "\n",
    "\n",
    "- **Eigenspaces** are fundamental concepts in linear algebra, associated with eigenvalues and eigenvectors of a matrix.\n",
    "- **Definition:** The eigenspace of an eigenvalue is the set of all vectors that, when multiplied by the matrix, result in a vector that is a the original vector multiplied with that eigenvalue.\n",
    "- **Mathematically:** If $A$ is a matrix and λ is an eigenvalue, then the eigenspace of λ is the set of all vectors \n",
    "$\\mathbf v$ satisfying \n",
    "$$\n",
    "A\\mathbf v=λ\\mathbf v\n",
    "$$\n"
   ]
  },
  {
   "cell_type": "markdown",
   "id": "83e1aee6",
   "metadata": {
    "slideshow": {
     "slide_type": "slide"
    }
   },
   "source": [
    "### Computing Eigenspaces\n",
    "\n",
    "To find the eigenspace of an eigenvalue $\\lambda$:\n",
    "\n",
    "1. **Find Eigenvectors**: Solve $ (A - \\lambda I)\\mathbf v = 0 $ for each eigenvalue to find the corresponding eigenvectors $ \\mathbf v $.\n",
    "2. **Form Eigenspace**: The set of all eigenvectors, including the zero vector, forms the eigenspace for the eigenvalue.\n"
   ]
  },
  {
   "cell_type": "markdown",
   "id": "eca72ca6",
   "metadata": {
    "slideshow": {
     "slide_type": "slide"
    }
   },
   "source": [
    "### Properties and Applications of Eigenspaces\n",
    "\n",
    "**Properties**:\n",
    "- The eigenspace of an eigenvalue is a linear subspace.\n",
    "- Dimension of the eigenspace is the geometric multiplicity of the eigenvalue.\n",
    "\n",
    "**Applications**:\n",
    "- Used in diagonalization of matrices.\n",
    "- Important in fields like quantum mechanics, vibrations analysis, facial recognition, and more.\n",
    "\n",
    "**Conclusion**: Understanding eigenspaces is crucial for grasping the behavior of linear transformations and matrices.\n"
   ]
  },
  {
   "cell_type": "markdown",
   "id": "b7fcb3e9",
   "metadata": {
    "slideshow": {
     "slide_type": "slide"
    }
   },
   "source": [
    "### Triangular matrices\n",
    "\n",
    "$$\n",
    "\\begin{aligned}\n",
    "A &= \n",
    "\\begin{bmatrix}\n",
    "1 & 4 & 1\\\\\n",
    "0 & 6 & 4\\\\\n",
    "0 & 0 & 2\n",
    "\\end{bmatrix}\\\\\n",
    "A -\\lambda \\mathbf I &= \n",
    "\\begin{vmatrix}\n",
    "1-\\lambda & 4 & 1\\\\\n",
    "0 & 6-\\lambda & 4\\\\\n",
    "0 & 0 & 2-\\lambda \n",
    "\\end{vmatrix}\\\\\n",
    "&= 0\\\\\n",
    "(1-\\lambda)(6-\\lambda)(2-\\lambda) &= 0\\\\\n",
    "\\lambda_1 &= 6\\\\\n",
    "\\lambda_2 &= 2\\\\\n",
    "\\lambda_3 &= 1\n",
    "\\end{aligned}\n",
    "$$\n",
    "\n",
    "**In triangular matrices, the diagonal entries are the eigenvalues.**"
   ]
  }
 ],
 "metadata": {
  "@webio": {
   "lastCommId": null,
   "lastKernelId": null
  },
  "celltoolbar": "Slideshow",
  "hide_input": false,
  "kernelspec": {
   "display_name": "Python 3 (ipykernel)",
   "language": "python",
   "name": "python3"
  },
  "language_info": {
   "codemirror_mode": {
    "name": "ipython",
    "version": 3
   },
   "file_extension": ".py",
   "mimetype": "text/x-python",
   "name": "python",
   "nbconvert_exporter": "python",
   "pygments_lexer": "ipython3",
   "version": "3.9.11"
  },
  "latex_envs": {
   "LaTeX_envs_menu_present": true,
   "autoclose": false,
   "autocomplete": true,
   "bibliofile": "biblio.bib",
   "cite_by": "apalike",
   "current_citInitial": 1,
   "eqLabelWithNumbers": true,
   "eqNumInitial": 1,
   "hotkeys": {
    "equation": "Ctrl-E",
    "itemize": "Ctrl-I"
   },
   "labels_anchors": false,
   "latex_user_defs": false,
   "report_style_numbering": false,
   "user_envs_cfg": false
  },
  "rise": {
   "enable_chalkboard": true
  },
  "varInspector": {
   "cols": {
    "lenName": 16,
    "lenType": 16,
    "lenVar": 40
   },
   "kernels_config": {
    "python": {
     "delete_cmd_postfix": "",
     "delete_cmd_prefix": "del ",
     "library": "var_list.py",
     "varRefreshCmd": "print(var_dic_list())"
    },
    "r": {
     "delete_cmd_postfix": ") ",
     "delete_cmd_prefix": "rm(",
     "library": "var_list.r",
     "varRefreshCmd": "cat(var_dic_list()) "
    }
   },
   "types_to_exclude": [
    "module",
    "function",
    "builtin_function_or_method",
    "instance",
    "_Feature"
   ],
   "window_display": false
  }
 },
 "nbformat": 4,
 "nbformat_minor": 5
}
