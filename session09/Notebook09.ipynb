{
 "cells": [
  {
   "cell_type": "code",
   "execution_count": 1,
   "id": "6b6d3e8a",
   "metadata": {
    "hide_input": true,
    "slideshow": {
     "slide_type": "skip"
    }
   },
   "outputs": [],
   "source": [
    "import sympy\n",
    "from sympy import Matrix, Rational, sqrt, symbols, zeros, simplify, exp\n",
    "import numpy as np\n",
    "import matplotlib.pyplot as plt\n",
    "import ipywidgets as widgets\n",
    "from ipywidgets import interact, interactive, fixed, interact_manual\n",
    "import matplotlib.pyplot as plt\n",
    "%matplotlib notebook\n"
   ]
  },
  {
   "cell_type": "markdown",
   "id": "17d690f6",
   "metadata": {
    "hide_input": true,
    "slideshow": {
     "slide_type": "slide"
    }
   },
   "source": [
    "# Mathematics for Machine Learning\n",
    "\n",
    "## Session 9: Eigenvectors and eigenvalues\n",
    "\n",
    "## Gerhard Jäger\n",
    "\n",
    "### November 19, 2024"
   ]
  },
  {
   "cell_type": "markdown",
   "id": "4ac3102c",
   "metadata": {
    "slideshow": {
     "slide_type": "slide"
    }
   },
   "source": [
    "## Eigenvectors and eigenvalues\n",
    "\n",
    "### Basic equation\n",
    "\n",
    "$$\n",
    "A\\mathbf x = \\lambda \\mathbf x\n",
    "$$\n",
    "\n",
    "- $\\mathbf x$ is called an **eigenvector** of $A$\n",
    "- $\\lambda$ is called an **eigenvalue** of $A$"
   ]
  },
  {
   "cell_type": "code",
   "execution_count": 77,
   "id": "79b42587",
   "metadata": {
    "slideshow": {
     "slide_type": "slide"
    }
   },
   "outputs": [],
   "source": [
    "from math import *\n",
    "A = np.array([\n",
    "    [1, 1],\n",
    "    [0, 1]\n",
    "])"
   ]
  },
  {
   "cell_type": "code",
   "execution_count": 78,
   "id": "af2cc205",
   "metadata": {
    "hide_input": true,
    "scrolled": false
   },
   "outputs": [
    {
     "data": {
      "application/javascript": [
       "/* Put everything inside the global mpl namespace */\n",
       "/* global mpl */\n",
       "window.mpl = {};\n",
       "\n",
       "mpl.get_websocket_type = function () {\n",
       "    if (typeof WebSocket !== 'undefined') {\n",
       "        return WebSocket;\n",
       "    } else if (typeof MozWebSocket !== 'undefined') {\n",
       "        return MozWebSocket;\n",
       "    } else {\n",
       "        alert(\n",
       "            'Your browser does not have WebSocket support. ' +\n",
       "                'Please try Chrome, Safari or Firefox ≥ 6. ' +\n",
       "                'Firefox 4 and 5 are also supported but you ' +\n",
       "                'have to enable WebSockets in about:config.'\n",
       "        );\n",
       "    }\n",
       "};\n",
       "\n",
       "mpl.figure = function (figure_id, websocket, ondownload, parent_element) {\n",
       "    this.id = figure_id;\n",
       "\n",
       "    this.ws = websocket;\n",
       "\n",
       "    this.supports_binary = this.ws.binaryType !== undefined;\n",
       "\n",
       "    if (!this.supports_binary) {\n",
       "        var warnings = document.getElementById('mpl-warnings');\n",
       "        if (warnings) {\n",
       "            warnings.style.display = 'block';\n",
       "            warnings.textContent =\n",
       "                'This browser does not support binary websocket messages. ' +\n",
       "                'Performance may be slow.';\n",
       "        }\n",
       "    }\n",
       "\n",
       "    this.imageObj = new Image();\n",
       "\n",
       "    this.context = undefined;\n",
       "    this.message = undefined;\n",
       "    this.canvas = undefined;\n",
       "    this.rubberband_canvas = undefined;\n",
       "    this.rubberband_context = undefined;\n",
       "    this.format_dropdown = undefined;\n",
       "\n",
       "    this.image_mode = 'full';\n",
       "\n",
       "    this.root = document.createElement('div');\n",
       "    this.root.setAttribute('style', 'display: inline-block');\n",
       "    this._root_extra_style(this.root);\n",
       "\n",
       "    parent_element.appendChild(this.root);\n",
       "\n",
       "    this._init_header(this);\n",
       "    this._init_canvas(this);\n",
       "    this._init_toolbar(this);\n",
       "\n",
       "    var fig = this;\n",
       "\n",
       "    this.waiting = false;\n",
       "\n",
       "    this.ws.onopen = function () {\n",
       "        fig.send_message('supports_binary', { value: fig.supports_binary });\n",
       "        fig.send_message('send_image_mode', {});\n",
       "        if (fig.ratio !== 1) {\n",
       "            fig.send_message('set_device_pixel_ratio', {\n",
       "                device_pixel_ratio: fig.ratio,\n",
       "            });\n",
       "        }\n",
       "        fig.send_message('refresh', {});\n",
       "    };\n",
       "\n",
       "    this.imageObj.onload = function () {\n",
       "        if (fig.image_mode === 'full') {\n",
       "            // Full images could contain transparency (where diff images\n",
       "            // almost always do), so we need to clear the canvas so that\n",
       "            // there is no ghosting.\n",
       "            fig.context.clearRect(0, 0, fig.canvas.width, fig.canvas.height);\n",
       "        }\n",
       "        fig.context.drawImage(fig.imageObj, 0, 0);\n",
       "    };\n",
       "\n",
       "    this.imageObj.onunload = function () {\n",
       "        fig.ws.close();\n",
       "    };\n",
       "\n",
       "    this.ws.onmessage = this._make_on_message_function(this);\n",
       "\n",
       "    this.ondownload = ondownload;\n",
       "};\n",
       "\n",
       "mpl.figure.prototype._init_header = function () {\n",
       "    var titlebar = document.createElement('div');\n",
       "    titlebar.classList =\n",
       "        'ui-dialog-titlebar ui-widget-header ui-corner-all ui-helper-clearfix';\n",
       "    var titletext = document.createElement('div');\n",
       "    titletext.classList = 'ui-dialog-title';\n",
       "    titletext.setAttribute(\n",
       "        'style',\n",
       "        'width: 100%; text-align: center; padding: 3px;'\n",
       "    );\n",
       "    titlebar.appendChild(titletext);\n",
       "    this.root.appendChild(titlebar);\n",
       "    this.header = titletext;\n",
       "};\n",
       "\n",
       "mpl.figure.prototype._canvas_extra_style = function (_canvas_div) {};\n",
       "\n",
       "mpl.figure.prototype._root_extra_style = function (_canvas_div) {};\n",
       "\n",
       "mpl.figure.prototype._init_canvas = function () {\n",
       "    var fig = this;\n",
       "\n",
       "    var canvas_div = (this.canvas_div = document.createElement('div'));\n",
       "    canvas_div.setAttribute(\n",
       "        'style',\n",
       "        'border: 1px solid #ddd;' +\n",
       "            'box-sizing: content-box;' +\n",
       "            'clear: both;' +\n",
       "            'min-height: 1px;' +\n",
       "            'min-width: 1px;' +\n",
       "            'outline: 0;' +\n",
       "            'overflow: hidden;' +\n",
       "            'position: relative;' +\n",
       "            'resize: both;'\n",
       "    );\n",
       "\n",
       "    function on_keyboard_event_closure(name) {\n",
       "        return function (event) {\n",
       "            return fig.key_event(event, name);\n",
       "        };\n",
       "    }\n",
       "\n",
       "    canvas_div.addEventListener(\n",
       "        'keydown',\n",
       "        on_keyboard_event_closure('key_press')\n",
       "    );\n",
       "    canvas_div.addEventListener(\n",
       "        'keyup',\n",
       "        on_keyboard_event_closure('key_release')\n",
       "    );\n",
       "\n",
       "    this._canvas_extra_style(canvas_div);\n",
       "    this.root.appendChild(canvas_div);\n",
       "\n",
       "    var canvas = (this.canvas = document.createElement('canvas'));\n",
       "    canvas.classList.add('mpl-canvas');\n",
       "    canvas.setAttribute('style', 'box-sizing: content-box;');\n",
       "\n",
       "    this.context = canvas.getContext('2d');\n",
       "\n",
       "    var backingStore =\n",
       "        this.context.backingStorePixelRatio ||\n",
       "        this.context.webkitBackingStorePixelRatio ||\n",
       "        this.context.mozBackingStorePixelRatio ||\n",
       "        this.context.msBackingStorePixelRatio ||\n",
       "        this.context.oBackingStorePixelRatio ||\n",
       "        this.context.backingStorePixelRatio ||\n",
       "        1;\n",
       "\n",
       "    this.ratio = (window.devicePixelRatio || 1) / backingStore;\n",
       "\n",
       "    var rubberband_canvas = (this.rubberband_canvas = document.createElement(\n",
       "        'canvas'\n",
       "    ));\n",
       "    rubberband_canvas.setAttribute(\n",
       "        'style',\n",
       "        'box-sizing: content-box; position: absolute; left: 0; top: 0; z-index: 1;'\n",
       "    );\n",
       "\n",
       "    // Apply a ponyfill if ResizeObserver is not implemented by browser.\n",
       "    if (this.ResizeObserver === undefined) {\n",
       "        if (window.ResizeObserver !== undefined) {\n",
       "            this.ResizeObserver = window.ResizeObserver;\n",
       "        } else {\n",
       "            var obs = _JSXTOOLS_RESIZE_OBSERVER({});\n",
       "            this.ResizeObserver = obs.ResizeObserver;\n",
       "        }\n",
       "    }\n",
       "\n",
       "    this.resizeObserverInstance = new this.ResizeObserver(function (entries) {\n",
       "        var nentries = entries.length;\n",
       "        for (var i = 0; i < nentries; i++) {\n",
       "            var entry = entries[i];\n",
       "            var width, height;\n",
       "            if (entry.contentBoxSize) {\n",
       "                if (entry.contentBoxSize instanceof Array) {\n",
       "                    // Chrome 84 implements new version of spec.\n",
       "                    width = entry.contentBoxSize[0].inlineSize;\n",
       "                    height = entry.contentBoxSize[0].blockSize;\n",
       "                } else {\n",
       "                    // Firefox implements old version of spec.\n",
       "                    width = entry.contentBoxSize.inlineSize;\n",
       "                    height = entry.contentBoxSize.blockSize;\n",
       "                }\n",
       "            } else {\n",
       "                // Chrome <84 implements even older version of spec.\n",
       "                width = entry.contentRect.width;\n",
       "                height = entry.contentRect.height;\n",
       "            }\n",
       "\n",
       "            // Keep the size of the canvas and rubber band canvas in sync with\n",
       "            // the canvas container.\n",
       "            if (entry.devicePixelContentBoxSize) {\n",
       "                // Chrome 84 implements new version of spec.\n",
       "                canvas.setAttribute(\n",
       "                    'width',\n",
       "                    entry.devicePixelContentBoxSize[0].inlineSize\n",
       "                );\n",
       "                canvas.setAttribute(\n",
       "                    'height',\n",
       "                    entry.devicePixelContentBoxSize[0].blockSize\n",
       "                );\n",
       "            } else {\n",
       "                canvas.setAttribute('width', width * fig.ratio);\n",
       "                canvas.setAttribute('height', height * fig.ratio);\n",
       "            }\n",
       "            canvas.setAttribute(\n",
       "                'style',\n",
       "                'width: ' + width + 'px; height: ' + height + 'px;'\n",
       "            );\n",
       "\n",
       "            rubberband_canvas.setAttribute('width', width);\n",
       "            rubberband_canvas.setAttribute('height', height);\n",
       "\n",
       "            // And update the size in Python. We ignore the initial 0/0 size\n",
       "            // that occurs as the element is placed into the DOM, which should\n",
       "            // otherwise not happen due to the minimum size styling.\n",
       "            if (fig.ws.readyState == 1 && width != 0 && height != 0) {\n",
       "                fig.request_resize(width, height);\n",
       "            }\n",
       "        }\n",
       "    });\n",
       "    this.resizeObserverInstance.observe(canvas_div);\n",
       "\n",
       "    function on_mouse_event_closure(name) {\n",
       "        return function (event) {\n",
       "            return fig.mouse_event(event, name);\n",
       "        };\n",
       "    }\n",
       "\n",
       "    rubberband_canvas.addEventListener(\n",
       "        'mousedown',\n",
       "        on_mouse_event_closure('button_press')\n",
       "    );\n",
       "    rubberband_canvas.addEventListener(\n",
       "        'mouseup',\n",
       "        on_mouse_event_closure('button_release')\n",
       "    );\n",
       "    rubberband_canvas.addEventListener(\n",
       "        'dblclick',\n",
       "        on_mouse_event_closure('dblclick')\n",
       "    );\n",
       "    // Throttle sequential mouse events to 1 every 20ms.\n",
       "    rubberband_canvas.addEventListener(\n",
       "        'mousemove',\n",
       "        on_mouse_event_closure('motion_notify')\n",
       "    );\n",
       "\n",
       "    rubberband_canvas.addEventListener(\n",
       "        'mouseenter',\n",
       "        on_mouse_event_closure('figure_enter')\n",
       "    );\n",
       "    rubberband_canvas.addEventListener(\n",
       "        'mouseleave',\n",
       "        on_mouse_event_closure('figure_leave')\n",
       "    );\n",
       "\n",
       "    canvas_div.addEventListener('wheel', function (event) {\n",
       "        if (event.deltaY < 0) {\n",
       "            event.step = 1;\n",
       "        } else {\n",
       "            event.step = -1;\n",
       "        }\n",
       "        on_mouse_event_closure('scroll')(event);\n",
       "    });\n",
       "\n",
       "    canvas_div.appendChild(canvas);\n",
       "    canvas_div.appendChild(rubberband_canvas);\n",
       "\n",
       "    this.rubberband_context = rubberband_canvas.getContext('2d');\n",
       "    this.rubberband_context.strokeStyle = '#000000';\n",
       "\n",
       "    this._resize_canvas = function (width, height, forward) {\n",
       "        if (forward) {\n",
       "            canvas_div.style.width = width + 'px';\n",
       "            canvas_div.style.height = height + 'px';\n",
       "        }\n",
       "    };\n",
       "\n",
       "    // Disable right mouse context menu.\n",
       "    this.rubberband_canvas.addEventListener('contextmenu', function (_e) {\n",
       "        event.preventDefault();\n",
       "        return false;\n",
       "    });\n",
       "\n",
       "    function set_focus() {\n",
       "        canvas.focus();\n",
       "        canvas_div.focus();\n",
       "    }\n",
       "\n",
       "    window.setTimeout(set_focus, 100);\n",
       "};\n",
       "\n",
       "mpl.figure.prototype._init_toolbar = function () {\n",
       "    var fig = this;\n",
       "\n",
       "    var toolbar = document.createElement('div');\n",
       "    toolbar.classList = 'mpl-toolbar';\n",
       "    this.root.appendChild(toolbar);\n",
       "\n",
       "    function on_click_closure(name) {\n",
       "        return function (_event) {\n",
       "            return fig.toolbar_button_onclick(name);\n",
       "        };\n",
       "    }\n",
       "\n",
       "    function on_mouseover_closure(tooltip) {\n",
       "        return function (event) {\n",
       "            if (!event.currentTarget.disabled) {\n",
       "                return fig.toolbar_button_onmouseover(tooltip);\n",
       "            }\n",
       "        };\n",
       "    }\n",
       "\n",
       "    fig.buttons = {};\n",
       "    var buttonGroup = document.createElement('div');\n",
       "    buttonGroup.classList = 'mpl-button-group';\n",
       "    for (var toolbar_ind in mpl.toolbar_items) {\n",
       "        var name = mpl.toolbar_items[toolbar_ind][0];\n",
       "        var tooltip = mpl.toolbar_items[toolbar_ind][1];\n",
       "        var image = mpl.toolbar_items[toolbar_ind][2];\n",
       "        var method_name = mpl.toolbar_items[toolbar_ind][3];\n",
       "\n",
       "        if (!name) {\n",
       "            /* Instead of a spacer, we start a new button group. */\n",
       "            if (buttonGroup.hasChildNodes()) {\n",
       "                toolbar.appendChild(buttonGroup);\n",
       "            }\n",
       "            buttonGroup = document.createElement('div');\n",
       "            buttonGroup.classList = 'mpl-button-group';\n",
       "            continue;\n",
       "        }\n",
       "\n",
       "        var button = (fig.buttons[name] = document.createElement('button'));\n",
       "        button.classList = 'mpl-widget';\n",
       "        button.setAttribute('role', 'button');\n",
       "        button.setAttribute('aria-disabled', 'false');\n",
       "        button.addEventListener('click', on_click_closure(method_name));\n",
       "        button.addEventListener('mouseover', on_mouseover_closure(tooltip));\n",
       "\n",
       "        var icon_img = document.createElement('img');\n",
       "        icon_img.src = '_images/' + image + '.png';\n",
       "        icon_img.srcset = '_images/' + image + '_large.png 2x';\n",
       "        icon_img.alt = tooltip;\n",
       "        button.appendChild(icon_img);\n",
       "\n",
       "        buttonGroup.appendChild(button);\n",
       "    }\n",
       "\n",
       "    if (buttonGroup.hasChildNodes()) {\n",
       "        toolbar.appendChild(buttonGroup);\n",
       "    }\n",
       "\n",
       "    var fmt_picker = document.createElement('select');\n",
       "    fmt_picker.classList = 'mpl-widget';\n",
       "    toolbar.appendChild(fmt_picker);\n",
       "    this.format_dropdown = fmt_picker;\n",
       "\n",
       "    for (var ind in mpl.extensions) {\n",
       "        var fmt = mpl.extensions[ind];\n",
       "        var option = document.createElement('option');\n",
       "        option.selected = fmt === mpl.default_extension;\n",
       "        option.innerHTML = fmt;\n",
       "        fmt_picker.appendChild(option);\n",
       "    }\n",
       "\n",
       "    var status_bar = document.createElement('span');\n",
       "    status_bar.classList = 'mpl-message';\n",
       "    toolbar.appendChild(status_bar);\n",
       "    this.message = status_bar;\n",
       "};\n",
       "\n",
       "mpl.figure.prototype.request_resize = function (x_pixels, y_pixels) {\n",
       "    // Request matplotlib to resize the figure. Matplotlib will then trigger a resize in the client,\n",
       "    // which will in turn request a refresh of the image.\n",
       "    this.send_message('resize', { width: x_pixels, height: y_pixels });\n",
       "};\n",
       "\n",
       "mpl.figure.prototype.send_message = function (type, properties) {\n",
       "    properties['type'] = type;\n",
       "    properties['figure_id'] = this.id;\n",
       "    this.ws.send(JSON.stringify(properties));\n",
       "};\n",
       "\n",
       "mpl.figure.prototype.send_draw_message = function () {\n",
       "    if (!this.waiting) {\n",
       "        this.waiting = true;\n",
       "        this.ws.send(JSON.stringify({ type: 'draw', figure_id: this.id }));\n",
       "    }\n",
       "};\n",
       "\n",
       "mpl.figure.prototype.handle_save = function (fig, _msg) {\n",
       "    var format_dropdown = fig.format_dropdown;\n",
       "    var format = format_dropdown.options[format_dropdown.selectedIndex].value;\n",
       "    fig.ondownload(fig, format);\n",
       "};\n",
       "\n",
       "mpl.figure.prototype.handle_resize = function (fig, msg) {\n",
       "    var size = msg['size'];\n",
       "    if (size[0] !== fig.canvas.width || size[1] !== fig.canvas.height) {\n",
       "        fig._resize_canvas(size[0], size[1], msg['forward']);\n",
       "        fig.send_message('refresh', {});\n",
       "    }\n",
       "};\n",
       "\n",
       "mpl.figure.prototype.handle_rubberband = function (fig, msg) {\n",
       "    var x0 = msg['x0'] / fig.ratio;\n",
       "    var y0 = (fig.canvas.height - msg['y0']) / fig.ratio;\n",
       "    var x1 = msg['x1'] / fig.ratio;\n",
       "    var y1 = (fig.canvas.height - msg['y1']) / fig.ratio;\n",
       "    x0 = Math.floor(x0) + 0.5;\n",
       "    y0 = Math.floor(y0) + 0.5;\n",
       "    x1 = Math.floor(x1) + 0.5;\n",
       "    y1 = Math.floor(y1) + 0.5;\n",
       "    var min_x = Math.min(x0, x1);\n",
       "    var min_y = Math.min(y0, y1);\n",
       "    var width = Math.abs(x1 - x0);\n",
       "    var height = Math.abs(y1 - y0);\n",
       "\n",
       "    fig.rubberband_context.clearRect(\n",
       "        0,\n",
       "        0,\n",
       "        fig.canvas.width / fig.ratio,\n",
       "        fig.canvas.height / fig.ratio\n",
       "    );\n",
       "\n",
       "    fig.rubberband_context.strokeRect(min_x, min_y, width, height);\n",
       "};\n",
       "\n",
       "mpl.figure.prototype.handle_figure_label = function (fig, msg) {\n",
       "    // Updates the figure title.\n",
       "    fig.header.textContent = msg['label'];\n",
       "};\n",
       "\n",
       "mpl.figure.prototype.handle_cursor = function (fig, msg) {\n",
       "    fig.rubberband_canvas.style.cursor = msg['cursor'];\n",
       "};\n",
       "\n",
       "mpl.figure.prototype.handle_message = function (fig, msg) {\n",
       "    fig.message.textContent = msg['message'];\n",
       "};\n",
       "\n",
       "mpl.figure.prototype.handle_draw = function (fig, _msg) {\n",
       "    // Request the server to send over a new figure.\n",
       "    fig.send_draw_message();\n",
       "};\n",
       "\n",
       "mpl.figure.prototype.handle_image_mode = function (fig, msg) {\n",
       "    fig.image_mode = msg['mode'];\n",
       "};\n",
       "\n",
       "mpl.figure.prototype.handle_history_buttons = function (fig, msg) {\n",
       "    for (var key in msg) {\n",
       "        if (!(key in fig.buttons)) {\n",
       "            continue;\n",
       "        }\n",
       "        fig.buttons[key].disabled = !msg[key];\n",
       "        fig.buttons[key].setAttribute('aria-disabled', !msg[key]);\n",
       "    }\n",
       "};\n",
       "\n",
       "mpl.figure.prototype.handle_navigate_mode = function (fig, msg) {\n",
       "    if (msg['mode'] === 'PAN') {\n",
       "        fig.buttons['Pan'].classList.add('active');\n",
       "        fig.buttons['Zoom'].classList.remove('active');\n",
       "    } else if (msg['mode'] === 'ZOOM') {\n",
       "        fig.buttons['Pan'].classList.remove('active');\n",
       "        fig.buttons['Zoom'].classList.add('active');\n",
       "    } else {\n",
       "        fig.buttons['Pan'].classList.remove('active');\n",
       "        fig.buttons['Zoom'].classList.remove('active');\n",
       "    }\n",
       "};\n",
       "\n",
       "mpl.figure.prototype.updated_canvas_event = function () {\n",
       "    // Called whenever the canvas gets updated.\n",
       "    this.send_message('ack', {});\n",
       "};\n",
       "\n",
       "// A function to construct a web socket function for onmessage handling.\n",
       "// Called in the figure constructor.\n",
       "mpl.figure.prototype._make_on_message_function = function (fig) {\n",
       "    return function socket_on_message(evt) {\n",
       "        if (evt.data instanceof Blob) {\n",
       "            var img = evt.data;\n",
       "            if (img.type !== 'image/png') {\n",
       "                /* FIXME: We get \"Resource interpreted as Image but\n",
       "                 * transferred with MIME type text/plain:\" errors on\n",
       "                 * Chrome.  But how to set the MIME type?  It doesn't seem\n",
       "                 * to be part of the websocket stream */\n",
       "                img.type = 'image/png';\n",
       "            }\n",
       "\n",
       "            /* Free the memory for the previous frames */\n",
       "            if (fig.imageObj.src) {\n",
       "                (window.URL || window.webkitURL).revokeObjectURL(\n",
       "                    fig.imageObj.src\n",
       "                );\n",
       "            }\n",
       "\n",
       "            fig.imageObj.src = (window.URL || window.webkitURL).createObjectURL(\n",
       "                img\n",
       "            );\n",
       "            fig.updated_canvas_event();\n",
       "            fig.waiting = false;\n",
       "            return;\n",
       "        } else if (\n",
       "            typeof evt.data === 'string' &&\n",
       "            evt.data.slice(0, 21) === 'data:image/png;base64'\n",
       "        ) {\n",
       "            fig.imageObj.src = evt.data;\n",
       "            fig.updated_canvas_event();\n",
       "            fig.waiting = false;\n",
       "            return;\n",
       "        }\n",
       "\n",
       "        var msg = JSON.parse(evt.data);\n",
       "        var msg_type = msg['type'];\n",
       "\n",
       "        // Call the  \"handle_{type}\" callback, which takes\n",
       "        // the figure and JSON message as its only arguments.\n",
       "        try {\n",
       "            var callback = fig['handle_' + msg_type];\n",
       "        } catch (e) {\n",
       "            console.log(\n",
       "                \"No handler for the '\" + msg_type + \"' message type: \",\n",
       "                msg\n",
       "            );\n",
       "            return;\n",
       "        }\n",
       "\n",
       "        if (callback) {\n",
       "            try {\n",
       "                // console.log(\"Handling '\" + msg_type + \"' message: \", msg);\n",
       "                callback(fig, msg);\n",
       "            } catch (e) {\n",
       "                console.log(\n",
       "                    \"Exception inside the 'handler_\" + msg_type + \"' callback:\",\n",
       "                    e,\n",
       "                    e.stack,\n",
       "                    msg\n",
       "                );\n",
       "            }\n",
       "        }\n",
       "    };\n",
       "};\n",
       "\n",
       "// from https://stackoverflow.com/questions/1114465/getting-mouse-location-in-canvas\n",
       "mpl.findpos = function (e) {\n",
       "    //this section is from http://www.quirksmode.org/js/events_properties.html\n",
       "    var targ;\n",
       "    if (!e) {\n",
       "        e = window.event;\n",
       "    }\n",
       "    if (e.target) {\n",
       "        targ = e.target;\n",
       "    } else if (e.srcElement) {\n",
       "        targ = e.srcElement;\n",
       "    }\n",
       "    if (targ.nodeType === 3) {\n",
       "        // defeat Safari bug\n",
       "        targ = targ.parentNode;\n",
       "    }\n",
       "\n",
       "    // pageX,Y are the mouse positions relative to the document\n",
       "    var boundingRect = targ.getBoundingClientRect();\n",
       "    var x = e.pageX - (boundingRect.left + document.body.scrollLeft);\n",
       "    var y = e.pageY - (boundingRect.top + document.body.scrollTop);\n",
       "\n",
       "    return { x: x, y: y };\n",
       "};\n",
       "\n",
       "/*\n",
       " * return a copy of an object with only non-object keys\n",
       " * we need this to avoid circular references\n",
       " * https://stackoverflow.com/a/24161582/3208463\n",
       " */\n",
       "function simpleKeys(original) {\n",
       "    return Object.keys(original).reduce(function (obj, key) {\n",
       "        if (typeof original[key] !== 'object') {\n",
       "            obj[key] = original[key];\n",
       "        }\n",
       "        return obj;\n",
       "    }, {});\n",
       "}\n",
       "\n",
       "mpl.figure.prototype.mouse_event = function (event, name) {\n",
       "    var canvas_pos = mpl.findpos(event);\n",
       "\n",
       "    if (name === 'button_press') {\n",
       "        this.canvas.focus();\n",
       "        this.canvas_div.focus();\n",
       "    }\n",
       "\n",
       "    var x = canvas_pos.x * this.ratio;\n",
       "    var y = canvas_pos.y * this.ratio;\n",
       "\n",
       "    this.send_message(name, {\n",
       "        x: x,\n",
       "        y: y,\n",
       "        button: event.button,\n",
       "        step: event.step,\n",
       "        guiEvent: simpleKeys(event),\n",
       "    });\n",
       "\n",
       "    /* This prevents the web browser from automatically changing to\n",
       "     * the text insertion cursor when the button is pressed.  We want\n",
       "     * to control all of the cursor setting manually through the\n",
       "     * 'cursor' event from matplotlib */\n",
       "    event.preventDefault();\n",
       "    return false;\n",
       "};\n",
       "\n",
       "mpl.figure.prototype._key_event_extra = function (_event, _name) {\n",
       "    // Handle any extra behaviour associated with a key event\n",
       "};\n",
       "\n",
       "mpl.figure.prototype.key_event = function (event, name) {\n",
       "    // Prevent repeat events\n",
       "    if (name === 'key_press') {\n",
       "        if (event.key === this._key) {\n",
       "            return;\n",
       "        } else {\n",
       "            this._key = event.key;\n",
       "        }\n",
       "    }\n",
       "    if (name === 'key_release') {\n",
       "        this._key = null;\n",
       "    }\n",
       "\n",
       "    var value = '';\n",
       "    if (event.ctrlKey && event.key !== 'Control') {\n",
       "        value += 'ctrl+';\n",
       "    }\n",
       "    else if (event.altKey && event.key !== 'Alt') {\n",
       "        value += 'alt+';\n",
       "    }\n",
       "    else if (event.shiftKey && event.key !== 'Shift') {\n",
       "        value += 'shift+';\n",
       "    }\n",
       "\n",
       "    value += 'k' + event.key;\n",
       "\n",
       "    this._key_event_extra(event, name);\n",
       "\n",
       "    this.send_message(name, { key: value, guiEvent: simpleKeys(event) });\n",
       "    return false;\n",
       "};\n",
       "\n",
       "mpl.figure.prototype.toolbar_button_onclick = function (name) {\n",
       "    if (name === 'download') {\n",
       "        this.handle_save(this, null);\n",
       "    } else {\n",
       "        this.send_message('toolbar_button', { name: name });\n",
       "    }\n",
       "};\n",
       "\n",
       "mpl.figure.prototype.toolbar_button_onmouseover = function (tooltip) {\n",
       "    this.message.textContent = tooltip;\n",
       "};\n",
       "\n",
       "///////////////// REMAINING CONTENT GENERATED BY embed_js.py /////////////////\n",
       "// prettier-ignore\n",
       "var _JSXTOOLS_RESIZE_OBSERVER=function(A){var t,i=new WeakMap,n=new WeakMap,a=new WeakMap,r=new WeakMap,o=new Set;function s(e){if(!(this instanceof s))throw new TypeError(\"Constructor requires 'new' operator\");i.set(this,e)}function h(){throw new TypeError(\"Function is not a constructor\")}function c(e,t,i,n){e=0 in arguments?Number(arguments[0]):0,t=1 in arguments?Number(arguments[1]):0,i=2 in arguments?Number(arguments[2]):0,n=3 in arguments?Number(arguments[3]):0,this.right=(this.x=this.left=e)+(this.width=i),this.bottom=(this.y=this.top=t)+(this.height=n),Object.freeze(this)}function d(){t=requestAnimationFrame(d);var s=new WeakMap,p=new Set;o.forEach((function(t){r.get(t).forEach((function(i){var r=t instanceof window.SVGElement,o=a.get(t),d=r?0:parseFloat(o.paddingTop),f=r?0:parseFloat(o.paddingRight),l=r?0:parseFloat(o.paddingBottom),u=r?0:parseFloat(o.paddingLeft),g=r?0:parseFloat(o.borderTopWidth),m=r?0:parseFloat(o.borderRightWidth),w=r?0:parseFloat(o.borderBottomWidth),b=u+f,F=d+l,v=(r?0:parseFloat(o.borderLeftWidth))+m,W=g+w,y=r?0:t.offsetHeight-W-t.clientHeight,E=r?0:t.offsetWidth-v-t.clientWidth,R=b+v,z=F+W,M=r?t.width:parseFloat(o.width)-R-E,O=r?t.height:parseFloat(o.height)-z-y;if(n.has(t)){var k=n.get(t);if(k[0]===M&&k[1]===O)return}n.set(t,[M,O]);var S=Object.create(h.prototype);S.target=t,S.contentRect=new c(u,d,M,O),s.has(i)||(s.set(i,[]),p.add(i)),s.get(i).push(S)}))})),p.forEach((function(e){i.get(e).call(e,s.get(e),e)}))}return s.prototype.observe=function(i){if(i instanceof window.Element){r.has(i)||(r.set(i,new Set),o.add(i),a.set(i,window.getComputedStyle(i)));var n=r.get(i);n.has(this)||n.add(this),cancelAnimationFrame(t),t=requestAnimationFrame(d)}},s.prototype.unobserve=function(i){if(i instanceof window.Element&&r.has(i)){var n=r.get(i);n.has(this)&&(n.delete(this),n.size||(r.delete(i),o.delete(i))),n.size||r.delete(i),o.size||cancelAnimationFrame(t)}},A.DOMRectReadOnly=c,A.ResizeObserver=s,A.ResizeObserverEntry=h,A}; // eslint-disable-line\n",
       "mpl.toolbar_items = [[\"Home\", \"Reset original view\", \"fa fa-home icon-home\", \"home\"], [\"Back\", \"Back to previous view\", \"fa fa-arrow-left icon-arrow-left\", \"back\"], [\"Forward\", \"Forward to next view\", \"fa fa-arrow-right icon-arrow-right\", \"forward\"], [\"\", \"\", \"\", \"\"], [\"Pan\", \"Left button pans, Right button zooms\\nx/y fixes axis, CTRL fixes aspect\", \"fa fa-arrows icon-move\", \"pan\"], [\"Zoom\", \"Zoom to rectangle\\nx/y fixes axis\", \"fa fa-square-o icon-check-empty\", \"zoom\"], [\"\", \"\", \"\", \"\"], [\"Download\", \"Download plot\", \"fa fa-floppy-o icon-save\", \"download\"]];\n",
       "\n",
       "mpl.extensions = [\"eps\", \"jpeg\", \"pgf\", \"pdf\", \"png\", \"ps\", \"raw\", \"svg\", \"tif\"];\n",
       "\n",
       "mpl.default_extension = \"png\";/* global mpl */\n",
       "\n",
       "var comm_websocket_adapter = function (comm) {\n",
       "    // Create a \"websocket\"-like object which calls the given IPython comm\n",
       "    // object with the appropriate methods. Currently this is a non binary\n",
       "    // socket, so there is still some room for performance tuning.\n",
       "    var ws = {};\n",
       "\n",
       "    ws.binaryType = comm.kernel.ws.binaryType;\n",
       "    ws.readyState = comm.kernel.ws.readyState;\n",
       "    function updateReadyState(_event) {\n",
       "        if (comm.kernel.ws) {\n",
       "            ws.readyState = comm.kernel.ws.readyState;\n",
       "        } else {\n",
       "            ws.readyState = 3; // Closed state.\n",
       "        }\n",
       "    }\n",
       "    comm.kernel.ws.addEventListener('open', updateReadyState);\n",
       "    comm.kernel.ws.addEventListener('close', updateReadyState);\n",
       "    comm.kernel.ws.addEventListener('error', updateReadyState);\n",
       "\n",
       "    ws.close = function () {\n",
       "        comm.close();\n",
       "    };\n",
       "    ws.send = function (m) {\n",
       "        //console.log('sending', m);\n",
       "        comm.send(m);\n",
       "    };\n",
       "    // Register the callback with on_msg.\n",
       "    comm.on_msg(function (msg) {\n",
       "        //console.log('receiving', msg['content']['data'], msg);\n",
       "        var data = msg['content']['data'];\n",
       "        if (data['blob'] !== undefined) {\n",
       "            data = {\n",
       "                data: new Blob(msg['buffers'], { type: data['blob'] }),\n",
       "            };\n",
       "        }\n",
       "        // Pass the mpl event to the overridden (by mpl) onmessage function.\n",
       "        ws.onmessage(data);\n",
       "    });\n",
       "    return ws;\n",
       "};\n",
       "\n",
       "mpl.mpl_figure_comm = function (comm, msg) {\n",
       "    // This is the function which gets called when the mpl process\n",
       "    // starts-up an IPython Comm through the \"matplotlib\" channel.\n",
       "\n",
       "    var id = msg.content.data.id;\n",
       "    // Get hold of the div created by the display call when the Comm\n",
       "    // socket was opened in Python.\n",
       "    var element = document.getElementById(id);\n",
       "    var ws_proxy = comm_websocket_adapter(comm);\n",
       "\n",
       "    function ondownload(figure, _format) {\n",
       "        window.open(figure.canvas.toDataURL());\n",
       "    }\n",
       "\n",
       "    var fig = new mpl.figure(id, ws_proxy, ondownload, element);\n",
       "\n",
       "    // Call onopen now - mpl needs it, as it is assuming we've passed it a real\n",
       "    // web socket which is closed, not our websocket->open comm proxy.\n",
       "    ws_proxy.onopen();\n",
       "\n",
       "    fig.parent_element = element;\n",
       "    fig.cell_info = mpl.find_output_cell(\"<div id='\" + id + \"'></div>\");\n",
       "    if (!fig.cell_info) {\n",
       "        console.error('Failed to find cell for figure', id, fig);\n",
       "        return;\n",
       "    }\n",
       "    fig.cell_info[0].output_area.element.on(\n",
       "        'cleared',\n",
       "        { fig: fig },\n",
       "        fig._remove_fig_handler\n",
       "    );\n",
       "};\n",
       "\n",
       "mpl.figure.prototype.handle_close = function (fig, msg) {\n",
       "    var width = fig.canvas.width / fig.ratio;\n",
       "    fig.cell_info[0].output_area.element.off(\n",
       "        'cleared',\n",
       "        fig._remove_fig_handler\n",
       "    );\n",
       "    fig.resizeObserverInstance.unobserve(fig.canvas_div);\n",
       "\n",
       "    // Update the output cell to use the data from the current canvas.\n",
       "    fig.push_to_output();\n",
       "    var dataURL = fig.canvas.toDataURL();\n",
       "    // Re-enable the keyboard manager in IPython - without this line, in FF,\n",
       "    // the notebook keyboard shortcuts fail.\n",
       "    IPython.keyboard_manager.enable();\n",
       "    fig.parent_element.innerHTML =\n",
       "        '<img src=\"' + dataURL + '\" width=\"' + width + '\">';\n",
       "    fig.close_ws(fig, msg);\n",
       "};\n",
       "\n",
       "mpl.figure.prototype.close_ws = function (fig, msg) {\n",
       "    fig.send_message('closing', msg);\n",
       "    // fig.ws.close()\n",
       "};\n",
       "\n",
       "mpl.figure.prototype.push_to_output = function (_remove_interactive) {\n",
       "    // Turn the data on the canvas into data in the output cell.\n",
       "    var width = this.canvas.width / this.ratio;\n",
       "    var dataURL = this.canvas.toDataURL();\n",
       "    this.cell_info[1]['text/html'] =\n",
       "        '<img src=\"' + dataURL + '\" width=\"' + width + '\">';\n",
       "};\n",
       "\n",
       "mpl.figure.prototype.updated_canvas_event = function () {\n",
       "    // Tell IPython that the notebook contents must change.\n",
       "    IPython.notebook.set_dirty(true);\n",
       "    this.send_message('ack', {});\n",
       "    var fig = this;\n",
       "    // Wait a second, then push the new image to the DOM so\n",
       "    // that it is saved nicely (might be nice to debounce this).\n",
       "    setTimeout(function () {\n",
       "        fig.push_to_output();\n",
       "    }, 1000);\n",
       "};\n",
       "\n",
       "mpl.figure.prototype._init_toolbar = function () {\n",
       "    var fig = this;\n",
       "\n",
       "    var toolbar = document.createElement('div');\n",
       "    toolbar.classList = 'btn-toolbar';\n",
       "    this.root.appendChild(toolbar);\n",
       "\n",
       "    function on_click_closure(name) {\n",
       "        return function (_event) {\n",
       "            return fig.toolbar_button_onclick(name);\n",
       "        };\n",
       "    }\n",
       "\n",
       "    function on_mouseover_closure(tooltip) {\n",
       "        return function (event) {\n",
       "            if (!event.currentTarget.disabled) {\n",
       "                return fig.toolbar_button_onmouseover(tooltip);\n",
       "            }\n",
       "        };\n",
       "    }\n",
       "\n",
       "    fig.buttons = {};\n",
       "    var buttonGroup = document.createElement('div');\n",
       "    buttonGroup.classList = 'btn-group';\n",
       "    var button;\n",
       "    for (var toolbar_ind in mpl.toolbar_items) {\n",
       "        var name = mpl.toolbar_items[toolbar_ind][0];\n",
       "        var tooltip = mpl.toolbar_items[toolbar_ind][1];\n",
       "        var image = mpl.toolbar_items[toolbar_ind][2];\n",
       "        var method_name = mpl.toolbar_items[toolbar_ind][3];\n",
       "\n",
       "        if (!name) {\n",
       "            /* Instead of a spacer, we start a new button group. */\n",
       "            if (buttonGroup.hasChildNodes()) {\n",
       "                toolbar.appendChild(buttonGroup);\n",
       "            }\n",
       "            buttonGroup = document.createElement('div');\n",
       "            buttonGroup.classList = 'btn-group';\n",
       "            continue;\n",
       "        }\n",
       "\n",
       "        button = fig.buttons[name] = document.createElement('button');\n",
       "        button.classList = 'btn btn-default';\n",
       "        button.href = '#';\n",
       "        button.title = name;\n",
       "        button.innerHTML = '<i class=\"fa ' + image + ' fa-lg\"></i>';\n",
       "        button.addEventListener('click', on_click_closure(method_name));\n",
       "        button.addEventListener('mouseover', on_mouseover_closure(tooltip));\n",
       "        buttonGroup.appendChild(button);\n",
       "    }\n",
       "\n",
       "    if (buttonGroup.hasChildNodes()) {\n",
       "        toolbar.appendChild(buttonGroup);\n",
       "    }\n",
       "\n",
       "    // Add the status bar.\n",
       "    var status_bar = document.createElement('span');\n",
       "    status_bar.classList = 'mpl-message pull-right';\n",
       "    toolbar.appendChild(status_bar);\n",
       "    this.message = status_bar;\n",
       "\n",
       "    // Add the close button to the window.\n",
       "    var buttongrp = document.createElement('div');\n",
       "    buttongrp.classList = 'btn-group inline pull-right';\n",
       "    button = document.createElement('button');\n",
       "    button.classList = 'btn btn-mini btn-primary';\n",
       "    button.href = '#';\n",
       "    button.title = 'Stop Interaction';\n",
       "    button.innerHTML = '<i class=\"fa fa-power-off icon-remove icon-large\"></i>';\n",
       "    button.addEventListener('click', function (_evt) {\n",
       "        fig.handle_close(fig, {});\n",
       "    });\n",
       "    button.addEventListener(\n",
       "        'mouseover',\n",
       "        on_mouseover_closure('Stop Interaction')\n",
       "    );\n",
       "    buttongrp.appendChild(button);\n",
       "    var titlebar = this.root.querySelector('.ui-dialog-titlebar');\n",
       "    titlebar.insertBefore(buttongrp, titlebar.firstChild);\n",
       "};\n",
       "\n",
       "mpl.figure.prototype._remove_fig_handler = function (event) {\n",
       "    var fig = event.data.fig;\n",
       "    if (event.target !== this) {\n",
       "        // Ignore bubbled events from children.\n",
       "        return;\n",
       "    }\n",
       "    fig.close_ws(fig, {});\n",
       "};\n",
       "\n",
       "mpl.figure.prototype._root_extra_style = function (el) {\n",
       "    el.style.boxSizing = 'content-box'; // override notebook setting of border-box.\n",
       "};\n",
       "\n",
       "mpl.figure.prototype._canvas_extra_style = function (el) {\n",
       "    // this is important to make the div 'focusable\n",
       "    el.setAttribute('tabindex', 0);\n",
       "    // reach out to IPython and tell the keyboard manager to turn it's self\n",
       "    // off when our div gets focus\n",
       "\n",
       "    // location in version 3\n",
       "    if (IPython.notebook.keyboard_manager) {\n",
       "        IPython.notebook.keyboard_manager.register_events(el);\n",
       "    } else {\n",
       "        // location in version 2\n",
       "        IPython.keyboard_manager.register_events(el);\n",
       "    }\n",
       "};\n",
       "\n",
       "mpl.figure.prototype._key_event_extra = function (event, _name) {\n",
       "    // Check for shift+enter\n",
       "    if (event.shiftKey && event.which === 13) {\n",
       "        this.canvas_div.blur();\n",
       "        // select the cell after this one\n",
       "        var index = IPython.notebook.find_cell_index(this.cell_info[0]);\n",
       "        IPython.notebook.select(index + 1);\n",
       "    }\n",
       "};\n",
       "\n",
       "mpl.figure.prototype.handle_save = function (fig, _msg) {\n",
       "    fig.ondownload(fig, null);\n",
       "};\n",
       "\n",
       "mpl.find_output_cell = function (html_output) {\n",
       "    // Return the cell and output element which can be found *uniquely* in the notebook.\n",
       "    // Note - this is a bit hacky, but it is done because the \"notebook_saving.Notebook\"\n",
       "    // IPython event is triggered only after the cells have been serialised, which for\n",
       "    // our purposes (turning an active figure into a static one), is too late.\n",
       "    var cells = IPython.notebook.get_cells();\n",
       "    var ncells = cells.length;\n",
       "    for (var i = 0; i < ncells; i++) {\n",
       "        var cell = cells[i];\n",
       "        if (cell.cell_type === 'code') {\n",
       "            for (var j = 0; j < cell.output_area.outputs.length; j++) {\n",
       "                var data = cell.output_area.outputs[j];\n",
       "                if (data.data) {\n",
       "                    // IPython >= 3 moved mimebundle to data attribute of output\n",
       "                    data = data.data;\n",
       "                }\n",
       "                if (data['text/html'] === html_output) {\n",
       "                    return [cell, data, j];\n",
       "                }\n",
       "            }\n",
       "        }\n",
       "    }\n",
       "};\n",
       "\n",
       "// Register the function which deals with the matplotlib target/channel.\n",
       "// The kernel may be null if the page has been refreshed.\n",
       "if (IPython.notebook.kernel !== null) {\n",
       "    IPython.notebook.kernel.comm_manager.register_target(\n",
       "        'matplotlib',\n",
       "        mpl.mpl_figure_comm\n",
       "    );\n",
       "}\n"
      ],
      "text/plain": [
       "<IPython.core.display.Javascript object>"
      ]
     },
     "metadata": {},
     "output_type": "display_data"
    },
    {
     "data": {
      "text/html": [
       "<img src=\"data:image/png;base64,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\" width=\"600\">"
      ],
      "text/plain": [
       "<IPython.core.display.HTML object>"
      ]
     },
     "metadata": {},
     "output_type": "display_data"
    },
    {
     "data": {
      "application/vnd.jupyter.widget-view+json": {
       "model_id": "4a77ad1fdbb146a7ac1304e0ddecec83",
       "version_major": 2,
       "version_minor": 0
      },
      "text/plain": [
       "interactive(children=(FloatSlider(value=0.0, description='theta', max=6.283185307179586, step=0.01), Output())…"
      ]
     },
     "metadata": {},
     "output_type": "display_data"
    }
   ],
   "source": [
    "\n",
    "def g(A, theta):\n",
    "    a, c = np.cos(theta), np.sin(theta)\n",
    "    x = np.linspace(0, a, 100)\n",
    "    y = np.linspace(0, c, 100)\n",
    "    b, d = A @ np.array([a,c])\n",
    "    z = np.linspace(0, b, 100)\n",
    "    w = np.linspace(0, d, 100)\n",
    "    return x, y, z, w\n",
    "\n",
    "fig, ax = plt.subplots(figsize=(6,6))\n",
    "xmin, xmax, ymin, ymax = -2, 2, -2, 2\n",
    "ax.set(xlim=(xmin-1, xmax+1), ylim=(ymin-1, ymax+1), aspect='equal')\n",
    "ax.spines['bottom'].set_position('zero')\n",
    "ax.spines['left'].set_position('zero')\n",
    "ax.spines['top'].set_visible(False)\n",
    "ax.spines['right'].set_visible(False)\n",
    "\n",
    "ax.set_xlabel('x', size=14, labelpad=-24, x=1.03)\n",
    "ax.set_ylabel('y', size=14, labelpad=-21, y=1.02, rotation=0)\n",
    "arrow_fmt = dict(markersize=4, color='black', clip_on=False)\n",
    "ax.plot((1), (0), marker='>', transform=ax.get_yaxis_transform(), **arrow_fmt)\n",
    "ax.plot((0), (1), marker='^', transform=ax.get_xaxis_transform(), **arrow_fmt)\n",
    "\n",
    "x, y, z, w = g(A, 0)\n",
    "line1, = ax.plot(x,y, color='red')\n",
    "line2, = ax.plot(z,w, color='green')\n",
    "\n",
    "angles = np.linspace(0, 2*np.pi, 100)\n",
    "crc = np.array([np.cos(angles), np.sin(angles)])\n",
    "elps = A @ crc\n",
    "ax.plot(crc[0,:], crc[1,:], color='red')\n",
    "ax.plot(elps[0,:], elps[1,:], color='green')\n",
    "\n",
    "def update(theta = 0):\n",
    "    x, y, z, w = g(A,theta)\n",
    "    print(\"x = \"+str(x[-1])+\",\"+str(y[-1]))\n",
    "    print(\"y = \"+str(z[-1])+\",\"+str(w[-1]))\n",
    "    line1.set_data(x, y)\n",
    "    line2.set_data(z, w)\n",
    "    fig.canvas.draw_idle()\n",
    "    \n",
    "interact(update, theta = (0, 2*np.pi, 0.01));"
   ]
  },
  {
   "cell_type": "markdown",
   "id": "95a6cbcd",
   "metadata": {
    "slideshow": {
     "slide_type": "slide"
    }
   },
   "source": [
    "## Interlude: Polynomial equations\n",
    "\n",
    "A *polynomial* is an expression of the form\n",
    "\n",
    "$$\n",
    "a_nx^n + a_{n-1}x^{n-1} + \\cdots + a_1x + a_0\n",
    "$$\n",
    "\n",
    "$n$ is the *degree* of the polynomial.\n",
    "\n",
    "A *polynomial equation* is an equation equating a polynomial with $0$.\n",
    "\n",
    "\n",
    "$$\n",
    "a_nx^n + a_{n-1}x^{n-1} + \\cdots + a_1x = 0\n",
    "$$\n"
   ]
  },
  {
   "cell_type": "markdown",
   "id": "4731e810",
   "metadata": {
    "slideshow": {
     "slide_type": "slide"
    }
   },
   "source": [
    "Within the real numbers, polynomials of even degree have between $0$ and $n$ solutions, and polynomials of odd degree between $1$ and $n$.\n",
    "\n",
    "<img src=\"_img/polynomials.svg\"  width=\"1000\" style=\"display: block; margin-left: auto; margin-right: auto;\">"
   ]
  },
  {
   "cell_type": "markdown",
   "id": "92a38ade",
   "metadata": {
    "slideshow": {
     "slide_type": "slide"
    }
   },
   "source": [
    "Within the *complex numbers*, each polynomial of degree $n$ can be factorized into $n$ linear terms.\n",
    "\n",
    "$$\n",
    "\\begin{align}\n",
    "a_nx^n+\\cdots a_1x + a_0 &= a_n(x-\\lambda_1)\\cdots(x-\\lambda_n)\n",
    "\\end{align}\n",
    "$$\n",
    "\n",
    "For polynomial equations, it follows\n",
    "\n",
    "$$\n",
    "\\begin{align}\n",
    "a_nx^n+\\cdots a_1x &= 0\\\\\n",
    "(x-\\lambda_1)\\cdots(x-\\lambda_n) &= 0\n",
    "\\end{align}\n",
    "$$\n",
    "\n",
    "Each $\\lambda_i$ is a solution of the equation.\n",
    "\n",
    "The *algebraic multiplicity* of a solution $\\lambda$ is the number of times the factor $(x-\\lambda)$ occurs in the factorization.\n"
   ]
  },
  {
   "cell_type": "markdown",
   "id": "d86c0c55",
   "metadata": {
    "slideshow": {
     "slide_type": "slide"
    }
   },
   "source": [
    "## Quadratic equations\n",
    "\n",
    "$$\n",
    "ax^2 + bx + c = 0\n",
    "$$\n",
    "\n",
    "We define\n",
    "\n",
    "$$\n",
    "\\begin{align}\n",
    "p &= \\frac{b}{a}\\\\\n",
    "q &= \\frac{c}{a}\\\\\n",
    "x^2 + px + q &= 0\n",
    "\\end{align}\n",
    "$$\n",
    "\n",
    "General solution:\n",
    "\n",
    "$$\n",
    "\\begin{align}\n",
    "\\lambda_{1/2} &= -\\frac{p}{2} \\pm \\sqrt{\\frac{p^2}{4}-q}\n",
    "\\end{align}\n",
    "$$\n",
    "\n",
    "- $\\frac{p^2}{4}-q > 0 \\Rightarrow$ 2 real solutions\n",
    "- $\\frac{p^2}{4}-q = 0 \\Rightarrow$ 1 real solution\n",
    "- $\\frac{p^2}{4}-q < 0 \\Rightarrow$ no real solution"
   ]
  },
  {
   "cell_type": "markdown",
   "id": "6c8629b4",
   "metadata": {
    "hide_input": true,
    "slideshow": {
     "slide_type": "slide"
    }
   },
   "source": [
    "### Example: How to find eigenvalues and eigenvectors\n",
    "\n",
    "$$\n",
    "\\begin{aligned}\n",
    "A &= \\left[\\begin{matrix}0.8 & 0.3\\\\0.2 & 0.7\\end{matrix}\\right]\\\\\n",
    "A\\mathbf x &= \\lambda \\mathbf x\\\\\n",
    "&= \\lambda \\mathbf I \\mathbf x\\\\\n",
    "(A-\\lambda \\mathbf I)\\mathbf x &= \\mathbf 0 \n",
    "\\end{aligned}\n",
    "$$\n",
    "\n",
    "The important matrix now is\n",
    "\n",
    "$$\n",
    "A-\\lambda \\mathbf I = \\begin{bmatrix}\n",
    "0.8-\\lambda & 0.3\\\\\n",
    "0.2 & 0.7-\\lambda\n",
    "\\end{bmatrix}\n",
    "$$"
   ]
  },
  {
   "cell_type": "markdown",
   "id": "b511393c",
   "metadata": {},
   "source": [
    "We are looking for a value of $\\lambda$ such that\n",
    "$$\n",
    "(A-\\lambda \\mathbf I)\\mathbf x = \\mathbf 0 \n",
    "$$\n",
    "\n",
    "with $\\mathbf x \\neq \\mathbf 0$ (otherwise the equation would be trivial).\n",
    "\n",
    "It follows that $(A-\\lambda \\mathbf I)$ is not invertible. Hence:\n",
    "\n",
    "$$\n",
    "|(A-\\lambda \\mathbf I)| = 0\n",
    "$$\n",
    "\n",
    "Using the formula for the determinant of a $2\\times 2$ matrix:\n",
    "\n",
    "$$\n",
    "(0.8-\\lambda)(0.7-\\lambda) - 0.2\\times 0.3 = 0\n",
    "$$\n"
   ]
  },
  {
   "cell_type": "markdown",
   "id": "1f5dd9bd",
   "metadata": {
    "slideshow": {
     "slide_type": "slide"
    }
   },
   "source": [
    "Simplifying:\n",
    "\n",
    "$$\n",
    "\\begin{aligned}\n",
    "(0.8-\\lambda)(0.7-\\lambda) - 0.2\\times 0.3 &= 0\\\\\n",
    "\\lambda ^2 - 1.5\\lambda + 0.56 - 0.06 &= 0\\\\\n",
    "\\lambda^2 - 1.5\\lambda + 0.5 &= 0\n",
    "\\end{aligned}\n",
    "$$\n",
    "\n",
    "Using the formula for finding the solution of quadratic equations (https://en.wikipedia.org/wiki/Quadratic_equation):\n",
    "\n",
    "$$\n",
    "\\begin{aligned}\n",
    "\\lambda_{1/2} = \\frac{3}{4} \\pm \\sqrt{(\\frac{3}{4})^2-\\frac{1}{2}}\\\\\n",
    "&= \\frac{3}{4} \\pm \\sqrt{\\frac{9-8}{16}}\\\\\n",
    "&= \\frac{3}{4} \\pm \\sqrt{\\frac{1}{16}}\\\\\n",
    "&= \\frac{3}{4} \\pm \\frac{1}{4}\\\\\n",
    "\\lambda_1 &= 1\\\\\n",
    "\\lambda_2 &= 0.5\n",
    "\\end{aligned}\n",
    "$$\n",
    "\n",
    "$\\lambda_1$ and $\\lambda_2$ are the eigenvalues of $A$. Now let's find the corresponding eigenvectors."
   ]
  },
  {
   "cell_type": "markdown",
   "id": "1b565015",
   "metadata": {
    "slideshow": {
     "slide_type": "slide"
    }
   },
   "source": [
    "This amount to finding the nullspace of $A-\\lambda\\mathbf I$:\n",
    "\n",
    "- $\\lambda_1$\n",
    "\n",
    "$$\n",
    "\\begin{aligned}\n",
    "(A - \\lambda_1\\mathbf I)\\mathbf x_1 &= \\mathbf 0\\\\\n",
    "\\begin{bmatrix}\n",
    "-0.2 & 0.3\\\\\n",
    "0.2 & -0.3\n",
    "\\end{bmatrix}\\mathbf x_1 &= \\mathbf 0\\\\\n",
    "\\begin{bmatrix}\n",
    "-0.2 & 0.3\\\\\n",
    "0 & 0\n",
    "\\end{bmatrix}\\mathbf x_1 &= \\mathbf 0\\\\\n",
    "\\begin{bmatrix}\n",
    "1 & -1.5\\\\\n",
    "0 & 0\n",
    "\\end{bmatrix}\\mathbf x_1 &= \\mathbf 0\\\\\n",
    "\\mathbf x_1 &= \\begin{bmatrix}1.5\\\\1\\end{bmatrix}\n",
    "\\end{aligned}\n",
    "$$\n",
    "\n"
   ]
  },
  {
   "cell_type": "markdown",
   "id": "9b33c66b",
   "metadata": {
    "slideshow": {
     "slide_type": "slide"
    }
   },
   "source": [
    "\n",
    "- $\\lambda_2$\n",
    "\n",
    "$$\n",
    "\\begin{aligned}\n",
    "(A - \\lambda_2\\mathbf I)\\mathbf x_1 &= \\mathbf 0\\\\\n",
    "\\begin{bmatrix}\n",
    "0.3 & 0.3\\\\\n",
    "0.2 & 0.2\n",
    "\\end{bmatrix}\\mathbf x_2 &= \\mathbf 0\\\\\n",
    "\\begin{bmatrix}\n",
    "0.3 & 0.3\\\\\n",
    "0 & 0\n",
    "\\end{bmatrix}\\mathbf x_2 &= \\mathbf 0\\\\\n",
    "\\begin{bmatrix}\n",
    "1 & 1\\\\\n",
    "0 & 0\n",
    "\\end{bmatrix}\\mathbf x_2 &= \\mathbf 0\\\\\n",
    "\\mathbf x_2 &= \\begin{bmatrix}-1\\\\1\\end{bmatrix}\\\\\n",
    "\\end{aligned}\n",
    "$$"
   ]
  },
  {
   "cell_type": "markdown",
   "id": "6cd39819",
   "metadata": {
    "slideshow": {
     "slide_type": "slide"
    }
   },
   "source": [
    "$\\mathbf x_1$ is the eigenvector *corresponding to* $\\lambda_1$.\n",
    "\n",
    "$\\mathbf x_2$ is the eigenvector *corresponding to* $\\lambda_2$.\n",
    "\n",
    "Any non-zero multiples of $\\mathbf x_1, \\mathbf x_2$ are also eigenvectors. It is common practice to use normalized eigenvectors, i.e. eigenvectors with length 1.\n",
    "\n",
    "$$\n",
    "\\begin{aligned}\n",
    "\\mathbf v_1 &= \\frac{\\mathbf x_1}{||\\mathbf x_1||}\\\\\n",
    "&= \\frac{1}{\\sqrt{13}}\\begin{bmatrix}3\\\\2\\end{bmatrix}\\\\\n",
    "\\mathbf v_2 &= \\frac{\\mathbf x_1}{||\\mathbf x_1||}\\\\\n",
    "&= \\frac{1}{\\sqrt{2}}\\begin{bmatrix}-1\\\\1\\end{bmatrix}\\\\\n",
    "\\end{aligned}\n",
    "$$"
   ]
  },
  {
   "cell_type": "code",
   "execution_count": 44,
   "id": "d201fdf4",
   "metadata": {
    "slideshow": {
     "slide_type": "slide"
    }
   },
   "outputs": [
    {
     "data": {
      "text/latex": [
       "$\\displaystyle \\left[\\begin{matrix}\\frac{4}{5} & \\frac{3}{10}\\\\\\frac{1}{5} & \\frac{7}{10}\\end{matrix}\\right]$"
      ],
      "text/plain": [
       "Matrix([\n",
       "[4/5, 3/10],\n",
       "[1/5, 7/10]])"
      ]
     },
     "execution_count": 44,
     "metadata": {},
     "output_type": "execute_result"
    }
   ],
   "source": [
    "A = Matrix([\n",
    "    [Rational(4,5), Rational(3,10)],\n",
    "    [Rational(1,5), Rational(7,10)]\n",
    "])\n",
    "A"
   ]
  },
  {
   "cell_type": "code",
   "execution_count": 45,
   "id": "d3d5c23c",
   "metadata": {},
   "outputs": [],
   "source": [
    "e1, e2 = A.eigenvects()\n"
   ]
  },
  {
   "cell_type": "code",
   "execution_count": 46,
   "id": "fd9bf523",
   "metadata": {},
   "outputs": [],
   "source": [
    "lambda1, _, v1 = e1\n"
   ]
  },
  {
   "cell_type": "code",
   "execution_count": 7,
   "id": "c8bf9c34",
   "metadata": {},
   "outputs": [
    {
     "data": {
      "text/latex": [
       "$\\displaystyle \\frac{1}{2}$"
      ],
      "text/plain": [
       "1/2"
      ]
     },
     "execution_count": 7,
     "metadata": {},
     "output_type": "execute_result"
    }
   ],
   "source": [
    "lambda1"
   ]
  },
  {
   "cell_type": "code",
   "execution_count": 48,
   "id": "f77ce6d4",
   "metadata": {},
   "outputs": [
    {
     "data": {
      "text/latex": [
       "$\\displaystyle \\left[\\begin{matrix}- \\frac{\\sqrt{2}}{2}\\\\\\frac{\\sqrt{2}}{2}\\end{matrix}\\right]$"
      ],
      "text/plain": [
       "Matrix([\n",
       "[-sqrt(2)/2],\n",
       "[ sqrt(2)/2]])"
      ]
     },
     "execution_count": 48,
     "metadata": {},
     "output_type": "execute_result"
    }
   ],
   "source": [
    "v1[0].normalized()\n"
   ]
  },
  {
   "cell_type": "code",
   "execution_count": 49,
   "id": "db0dc01c",
   "metadata": {},
   "outputs": [],
   "source": [
    "lambda2, _, v2 = e2\n"
   ]
  },
  {
   "cell_type": "code",
   "execution_count": 50,
   "id": "e1c383d6",
   "metadata": {},
   "outputs": [
    {
     "data": {
      "text/latex": [
       "$\\displaystyle 1$"
      ],
      "text/plain": [
       "1"
      ]
     },
     "execution_count": 50,
     "metadata": {},
     "output_type": "execute_result"
    }
   ],
   "source": [
    "lambda2"
   ]
  },
  {
   "cell_type": "code",
   "execution_count": 51,
   "id": "35f6dfd7",
   "metadata": {},
   "outputs": [
    {
     "data": {
      "text/latex": [
       "$\\displaystyle \\left[\\begin{matrix}\\frac{3 \\sqrt{13}}{13}\\\\\\frac{2 \\sqrt{13}}{13}\\end{matrix}\\right]$"
      ],
      "text/plain": [
       "Matrix([\n",
       "[3*sqrt(13)/13],\n",
       "[2*sqrt(13)/13]])"
      ]
     },
     "execution_count": 51,
     "metadata": {},
     "output_type": "execute_result"
    }
   ],
   "source": [
    "v2[0].normalized()"
   ]
  },
  {
   "cell_type": "code",
   "execution_count": 52,
   "id": "e0ade0b9",
   "metadata": {
    "slideshow": {
     "slide_type": "slide"
    }
   },
   "outputs": [
    {
     "data": {
      "text/plain": [
       "array([[0.8, 0.3],\n",
       "       [0.2, 0.7]])"
      ]
     },
     "execution_count": 52,
     "metadata": {},
     "output_type": "execute_result"
    }
   ],
   "source": [
    "A = np.array([\n",
    "    [0.8, 0.3],\n",
    "    [0.2, 0.7]\n",
    "])\n",
    "A"
   ]
  },
  {
   "cell_type": "code",
   "execution_count": 53,
   "id": "764134f7",
   "metadata": {},
   "outputs": [
    {
     "data": {
      "text/plain": [
       "EigResult(eigenvalues=array([1. , 0.5]), eigenvectors=array([[ 0.83205029, -0.70710678],\n",
       "       [ 0.5547002 ,  0.70710678]]))"
      ]
     },
     "execution_count": 53,
     "metadata": {},
     "output_type": "execute_result"
    }
   ],
   "source": [
    "np.linalg.eig(A)\n"
   ]
  },
  {
   "cell_type": "code",
   "execution_count": 54,
   "id": "d2d42d8c",
   "metadata": {},
   "outputs": [
    {
     "data": {
      "text/plain": [
       "array([[ 0.83205029, -0.70710678],\n",
       "       [ 0.5547002 ,  0.70710678]])"
      ]
     },
     "execution_count": 54,
     "metadata": {},
     "output_type": "execute_result"
    }
   ],
   "source": [
    "np.linalg.eig(A).eigenvectors"
   ]
  },
  {
   "cell_type": "code",
   "execution_count": 61,
   "id": "84ee7ba5",
   "metadata": {},
   "outputs": [
    {
     "data": {
      "text/plain": [
       "array([0., 0.])"
      ]
     },
     "execution_count": 61,
     "metadata": {},
     "output_type": "execute_result"
    }
   ],
   "source": [
    "v1 = np.linalg.eig(A).eigenvectors[:,1]\n",
    "A@v1 - 0.5 *  np.linalg.eig(A).eigenvectors[:,1]"
   ]
  },
  {
   "cell_type": "markdown",
   "id": "2955e66a",
   "metadata": {
    "slideshow": {
     "slide_type": "slide"
    }
   },
   "source": [
    "\n",
    "\n",
    "### Procedure to find eigenvalues and eigenvectors:\n",
    "\n",
    "1. Construct $A-\\lambda \\mathbf I$ with $\\lambda$ as unknown.\n",
    "2. Set $|A-\\lambda \\mathbf I| = 0$ and solve for $\\lambda$. All solutions are eigenvalues.\n",
    "3. For each solution for $\\lambda$, find the nullspace of $|A-\\lambda \\mathbf I| = 0$. Each vector in the nullspace is an eigenvector corresponding to this solution."
   ]
  },
  {
   "cell_type": "markdown",
   "id": "fbdc1706",
   "metadata": {},
   "source": [
    "##### Example 2: Projection matrix\n",
    "\n",
    "$$\n",
    "A = \\begin{bmatrix}\n",
    "\\frac{1}{2} & \\frac{1}{2}\\\\\n",
    "\\frac{1}{2} & \\frac{1}{2}\n",
    "\\end{bmatrix}\n",
    "$$\n",
    "\n",
    "- find eigenvalues\n",
    "\n",
    "$$\n",
    "\\begin{aligned}\n",
    "\\begin{vmatrix}\n",
    "\\frac{1}{2}-\\lambda & \\frac{1}{2}\\\\\n",
    "\\frac{1}{2} & \\frac{1}{2}-\\lambda\n",
    "\\end{vmatrix} &= 0\\\\\n",
    "(\\frac{1}{2}-\\lambda)^2 - \\frac{1}{4} &= 0\\\\\n",
    "\\lambda^2 -\\lambda &= 0\\\\\n",
    "\\lambda(\\lambda-1) &= 0\\\\\n",
    "\\lambda_1 &= 1\\\\\n",
    "\\lambda_2 &= 0\n",
    "\\end{aligned}\n",
    "$$"
   ]
  },
  {
   "cell_type": "markdown",
   "id": "0c700c06",
   "metadata": {
    "slideshow": {
     "slide_type": "slide"
    }
   },
   "source": [
    "- find eigenvectors\n",
    "\n",
    "    - $\\lambda_1$: \n",
    "    $$\n",
    "    \\begin{aligned}\n",
    "    \\begin{bmatrix}\n",
    "    -\\frac{1}{2} & \\frac{1}{2}\\\\\n",
    "    \\frac{1}{2} & -\\frac{1}{2}\n",
    "    \\end{bmatrix}\\mathbf x_1 &= \\mathbf 0\\\\\n",
    "    \\mathbf x_1 &= \\begin{bmatrix}1\\\\1\\end{bmatrix}\n",
    "    \\end{aligned}\n",
    "    $$\n",
    "    \n",
    "    - $\\lambda_2$:\n",
    "    $$\n",
    "    \\begin{aligned}\n",
    "    \\begin{bmatrix}\n",
    "    \\frac{1}{2} & \\frac{1}{2}\\\\\n",
    "    \\frac{1}{2} & \\frac{1}{2}\n",
    "    \\end{bmatrix}\\mathbf x_2 &= \\mathbf 0\\\\\n",
    "    \\mathbf x_2 &= \\begin{bmatrix}-1\\\\1\\end{bmatrix}\n",
    "    \\end{aligned}\n",
    "    $$"
   ]
  },
  {
   "cell_type": "markdown",
   "id": "a4ee7e80",
   "metadata": {
    "slideshow": {
     "slide_type": "slide"
    }
   },
   "source": [
    "##### Example 3: Reflection matrix\n",
    "\n",
    "$$\n",
    "A = \\begin{bmatrix}\n",
    "0 & 1\\\\\n",
    "1 & 0\n",
    "\\end{bmatrix}\n",
    "$$\n",
    "\n",
    "- find eigenvalues\n",
    "\n",
    "$$\n",
    "\\begin{aligned}\n",
    "\\begin{vmatrix}\n",
    "-\\lambda & 1\\\\\n",
    "1 & -\\lambda\n",
    "\\end{vmatrix} &= 0\\\\\n",
    "\\lambda^2-1 &= 0\\\\\n",
    "\\lambda^2 &= 1\\\\\n",
    "\\lambda_1 &= 1\\\\\n",
    "\\lambda_2 &= -1\n",
    "\\end{aligned}\n",
    "$$"
   ]
  },
  {
   "cell_type": "markdown",
   "id": "afb03c09",
   "metadata": {
    "slideshow": {
     "slide_type": "slide"
    }
   },
   "source": [
    "- find eigenvectors\n",
    "\n",
    "    - $\\lambda_1$: \n",
    "    $$\n",
    "    \\begin{aligned}\n",
    "    \\begin{bmatrix}\n",
    "    -1 & 1\\\\\n",
    "    1 & -1\n",
    "    \\end{bmatrix}\\mathbf x_1 &= \\mathbf 0\\\\\n",
    "    \\mathbf x_1 &= \\begin{bmatrix}1\\\\1\\end{bmatrix}\n",
    "    \\end{aligned}\n",
    "    $$\n",
    "    \n",
    "    - $\\lambda_2$:\n",
    "    $$\n",
    "    \\begin{aligned}\n",
    "    \\begin{bmatrix}\n",
    "    1 & 1\\\\\n",
    "    1 & 1\n",
    "    \\end{bmatrix}\\mathbf x_2 &= \\mathbf 0\\\\\n",
    "    \\mathbf x_2 &= \\begin{bmatrix}-1\\\\1\\end{bmatrix}\n",
    "    \\end{aligned}\n",
    "    $$"
   ]
  },
  {
   "cell_type": "markdown",
   "id": "054398bb",
   "metadata": {
    "slideshow": {
     "slide_type": "slide"
    }
   },
   "source": [
    "##### Example 4: Rotation matrix\n",
    "\n",
    "$$\n",
    "A = \\begin{bmatrix}\n",
    "\\frac{\\sqrt{2}}{2} & \\frac{\\sqrt{2}}{2}\\\\\n",
    "-\\frac{\\sqrt{2}}{2} & \\frac{\\sqrt{2}}{2}\n",
    "\\end{bmatrix}\n",
    "$$\n",
    "\n",
    "- find eigenvalues\n",
    "\n",
    "$$\n",
    "\\begin{aligned}\n",
    "\\begin{vmatrix}\n",
    "\\frac{\\sqrt{2}}{2}-\\lambda & \\frac{\\sqrt{2}}{2}\\\\\n",
    "-\\frac{\\sqrt{2}}{2} & \\frac{\\sqrt{2}}{2}-\\lambda\n",
    "\\end{vmatrix} &= 0\\\\\n",
    "(\\frac{\\sqrt{2}}{2}-\\lambda)^2 + \\frac{1}{2} &= 0\\\\\n",
    "\\lambda^2 - \\sqrt{2}\\lambda + 1 &= 0\\\\\n",
    "\\lambda_{1/2} &= \\frac{\\sqrt{2}}{2} \\pm \\sqrt{\\frac{1}{2} - 1}\\\\\n",
    " &= \\frac{\\sqrt{2}}{2} \\pm \\sqrt{-\\frac{1}{2}}\n",
    "\\end{aligned}\n",
    "$$\n",
    "\n",
    "**There is no solution within the real numbers!**\n",
    "\n",
    "(There are complex eigenvalues – and complex eigenvectors – for this matrix, but this is beyond the scope of this course.)"
   ]
  },
  {
   "cell_type": "markdown",
   "id": "b88fe023",
   "metadata": {
    "slideshow": {
     "slide_type": "slide"
    }
   },
   "source": [
    "##### Example 5: Multiple eigenvalues\n",
    "$$\n",
    "A = \\begin{bmatrix}\n",
    "1 & 0\\\\\n",
    "0 & 1\n",
    "\\end{bmatrix}\n",
    "$$\n",
    "\n",
    "- find eigenvalues\n",
    "\n",
    "$$\n",
    "\\begin{aligned}\n",
    "\\begin{vmatrix}\n",
    "1-\\lambda & 0\\\\\n",
    "0 & 1-\\lambda\n",
    "\\end{vmatrix} &= 0\\\\\n",
    "(1-\\lambda)^2 &= 0\\\\\n",
    "1-\\lambda &= 0\\\\\n",
    "\\lambda &= 1\n",
    "\\end{aligned}\n",
    "$$\n",
    "\n",
    "- find eigenvectors\n",
    "\n",
    "$$\n",
    "\\begin{bmatrix}\n",
    "0 & 0\\\\\n",
    "0 & 0\n",
    "\\end{bmatrix}\\mathbf x = \\mathbf 0\n",
    "$$\n",
    "\n",
    "**Any vector is an eigenvector of the identity matrix.**"
   ]
  },
  {
   "cell_type": "markdown",
   "id": "858ce872",
   "metadata": {
    "slideshow": {
     "slide_type": "slide"
    }
   },
   "source": [
    "##### Example 6: Defective matrices\n",
    "\n",
    "$$\n",
    "A = \\begin{bmatrix}\n",
    "1 & 1\\\\\n",
    "0 & 1\n",
    "\\end{bmatrix}\n",
    "$$\n",
    "\n",
    "- find eigenvalues\n",
    "\n",
    "$$\n",
    "\\begin{aligned}\n",
    "\\begin{vmatrix}\n",
    "1-\\lambda & 1\\\\\n",
    "0 & 1-\\lambda\n",
    "\\end{vmatrix} &= 0\\\\\n",
    "(1-\\lambda)^2 &= 0\\\\\n",
    "1-\\lambda &= 0\\\\\n",
    "\\lambda &= 1\n",
    "\\end{aligned}\n",
    "$$\n",
    "\n",
    "- find eigenvectors\n",
    "\n",
    "$$\n",
    "\\begin{aligned}\n",
    "\\begin{bmatrix}\n",
    "0 & 1\\\\\n",
    "0 & 0\n",
    "\\end{bmatrix}\n",
    "\\mathbf x &= \\mathbf 0\\\\\n",
    "\\mathbf x &= \\begin{bmatrix}1\\\\0\\end{bmatrix}\n",
    "\\end{aligned}\n",
    "$$\n",
    "\n",
    "**This matrix has only one eigenvalue and one eigenvector.**"
   ]
  },
  {
   "cell_type": "markdown",
   "id": "cc9037e8",
   "metadata": {
    "slideshow": {
     "slide_type": "slide"
    }
   },
   "source": [
    "### Larger matrices\n",
    "\n",
    "$$\n",
    "A = \\begin{bmatrix}\n",
    "-1 & 2 & 2\\\\\n",
    "2 & 2 & -1\\\\\n",
    "2 & -1 & 2\n",
    "\\end{bmatrix}\n",
    "$$\n",
    "\n",
    "- finding eigenvalues\n",
    "\n",
    "$$\n",
    "\\begin{aligned}\n",
    "\\begin{vmatrix}\n",
    "-1-\\lambda & 2 & 2\\\\\n",
    "2 & 2-\\lambda & -1\\\\\n",
    "2 & -1 & 2-\\lambda\n",
    "\\end{vmatrix} &= 0\\\\\n",
    "(-1-\\lambda)(2-\\lambda)^2 -4 -4 -4(2-\\lambda)-4(2-\\lambda) + 1 + \\lambda &= 0\\\\\n",
    "-\\lambda^2+4\\lambda-4-\\lambda^3+4\\lambda^2-4\\lambda -4 -4 -8+4\\lambda-8+4\\lambda + 1 + \\lambda &= 0\\\\\n",
    "-\\lambda^3 + 3\\lambda^2 + 9\\lambda - 27&= 0\\\\\n",
    "\\lambda^3 - 3\\lambda^2 - 9\\lambda + 27&= 0\n",
    "\\end{aligned}\n",
    "$$\n"
   ]
  },
  {
   "cell_type": "markdown",
   "id": "8c916755",
   "metadata": {},
   "source": [
    "In the general case, solving a cubic equation by hand is very hard. In this particular example, the solution is:\n",
    "\n",
    "$$\n",
    "\\begin{aligned}\n",
    "\\lambda^3 - 3\\lambda^2 - 9\\lambda + 27 &= (\\lambda -3)^2 (\\lambda+3)\\\\\n",
    "\\lambda_1 &= 3\\\\\n",
    "\\lambda_2 &= -3\n",
    "\\end{aligned}\n",
    "$$\n",
    "\n"
   ]
  },
  {
   "cell_type": "markdown",
   "id": "16223894",
   "metadata": {
    "slideshow": {
     "slide_type": "slide"
    }
   },
   "source": [
    "\n",
    "\n",
    "- eigenvectors"
   ]
  },
  {
   "cell_type": "code",
   "execution_count": 79,
   "id": "ef01cfd0",
   "metadata": {},
   "outputs": [
    {
     "data": {
      "text/latex": [
       "$\\displaystyle \\left[\\begin{matrix}-1 & 2 & 2\\\\2 & 2 & -1\\\\2 & -1 & 2\\end{matrix}\\right]$"
      ],
      "text/plain": [
       "Matrix([\n",
       "[-1,  2,  2],\n",
       "[ 2,  2, -1],\n",
       "[ 2, -1,  2]])"
      ]
     },
     "execution_count": 79,
     "metadata": {},
     "output_type": "execute_result"
    }
   ],
   "source": [
    "A = Matrix([\n",
    "    [-1,2,2],\n",
    "    [2,2,-1],\n",
    "    [2,-1,2]\n",
    "])\n",
    "A"
   ]
  },
  {
   "cell_type": "code",
   "execution_count": 80,
   "id": "7018c0de",
   "metadata": {},
   "outputs": [
    {
     "data": {
      "text/plain": [
       "{-3: 1, 3: 2}"
      ]
     },
     "execution_count": 80,
     "metadata": {},
     "output_type": "execute_result"
    }
   ],
   "source": [
    "A.eigenvals()"
   ]
  },
  {
   "cell_type": "markdown",
   "id": "cc34ddc5",
   "metadata": {},
   "source": [
    "(In this dictionary, the keys are the eigenvalues and the values are the *algebraic multiplicity*.)"
   ]
  },
  {
   "cell_type": "code",
   "execution_count": 81,
   "id": "05ebe5ec",
   "metadata": {},
   "outputs": [],
   "source": [
    "e1, e2 = A.eigenvects()"
   ]
  },
  {
   "cell_type": "code",
   "execution_count": 82,
   "id": "26e73b6d",
   "metadata": {},
   "outputs": [
    {
     "data": {
      "text/latex": [
       "$\\displaystyle -3$"
      ],
      "text/plain": [
       "-3"
      ]
     },
     "execution_count": 82,
     "metadata": {},
     "output_type": "execute_result"
    }
   ],
   "source": [
    "e1[0]"
   ]
  },
  {
   "cell_type": "code",
   "execution_count": 83,
   "id": "86046c65",
   "metadata": {},
   "outputs": [
    {
     "data": {
      "text/latex": [
       "$\\displaystyle \\left[\\begin{matrix}-2\\\\1\\\\1\\end{matrix}\\right]$"
      ],
      "text/plain": [
       "Matrix([\n",
       "[-2],\n",
       "[ 1],\n",
       "[ 1]])"
      ]
     },
     "execution_count": 83,
     "metadata": {},
     "output_type": "execute_result"
    }
   ],
   "source": [
    "e1[2][0]"
   ]
  },
  {
   "cell_type": "code",
   "execution_count": 19,
   "id": "cf4b0d33",
   "metadata": {},
   "outputs": [
    {
     "data": {
      "text/latex": [
       "$\\displaystyle 3$"
      ],
      "text/plain": [
       "3"
      ]
     },
     "execution_count": 19,
     "metadata": {},
     "output_type": "execute_result"
    }
   ],
   "source": [
    "e2[0]"
   ]
  },
  {
   "cell_type": "code",
   "execution_count": 85,
   "id": "2c03d6f5",
   "metadata": {},
   "outputs": [
    {
     "data": {
      "text/latex": [
       "$\\displaystyle \\left[\\begin{matrix}\\frac{1}{2}\\\\1\\\\0\\end{matrix}\\right]$"
      ],
      "text/plain": [
       "Matrix([\n",
       "[1/2],\n",
       "[  1],\n",
       "[  0]])"
      ]
     },
     "execution_count": 85,
     "metadata": {},
     "output_type": "execute_result"
    }
   ],
   "source": [
    "e2[2][0]"
   ]
  },
  {
   "cell_type": "code",
   "execution_count": 86,
   "id": "755698f1",
   "metadata": {
    "slideshow": {
     "slide_type": "slide"
    }
   },
   "outputs": [
    {
     "data": {
      "text/latex": [
       "$\\displaystyle \\left[\\begin{matrix}\\frac{1}{2}\\\\0\\\\1\\end{matrix}\\right]$"
      ],
      "text/plain": [
       "Matrix([\n",
       "[1/2],\n",
       "[  0],\n",
       "[  1]])"
      ]
     },
     "execution_count": 86,
     "metadata": {},
     "output_type": "execute_result"
    }
   ],
   "source": [
    "e2[2][1]"
   ]
  },
  {
   "cell_type": "markdown",
   "id": "af548ac3",
   "metadata": {},
   "source": [
    "Note that there are two eigenvectors corresponding to the eigenvalue 3."
   ]
  },
  {
   "cell_type": "code",
   "execution_count": 22,
   "id": "cc2e3e5a",
   "metadata": {
    "slideshow": {
     "slide_type": "slide"
    }
   },
   "outputs": [
    {
     "data": {
      "text/latex": [
       "$\\displaystyle \\left[\\begin{matrix}-1 & 2 & 3\\\\4 & 5 & 6\\\\7 & 8 & 9\\end{matrix}\\right]$"
      ],
      "text/plain": [
       "Matrix([\n",
       "[-1, 2, 3],\n",
       "[ 4, 5, 6],\n",
       "[ 7, 8, 9]])"
      ]
     },
     "execution_count": 22,
     "metadata": {},
     "output_type": "execute_result"
    }
   ],
   "source": [
    "A = Matrix([\n",
    "    [-1,2,3],\n",
    "    [4,5,6],\n",
    "    [7,8,9]\n",
    "])\n",
    "A"
   ]
  },
  {
   "cell_type": "code",
   "execution_count": 23,
   "id": "ffeae032",
   "metadata": {},
   "outputs": [],
   "source": [
    "e1, e2, e3 = A.eigenvects()"
   ]
  },
  {
   "cell_type": "code",
   "execution_count": 24,
   "id": "d47eafce",
   "metadata": {},
   "outputs": [
    {
     "data": {
      "text/latex": [
       "$\\displaystyle \\frac{13}{3} + \\left(- \\frac{1}{2} - \\frac{\\sqrt{3} i}{2}\\right) \\sqrt[3]{\\frac{4969}{27} + \\frac{\\sqrt{471498} i}{9}} + \\frac{307}{9 \\left(- \\frac{1}{2} - \\frac{\\sqrt{3} i}{2}\\right) \\sqrt[3]{\\frac{4969}{27} + \\frac{\\sqrt{471498} i}{9}}}$"
      ],
      "text/plain": [
       "13/3 + (-1/2 - sqrt(3)*I/2)*(4969/27 + sqrt(471498)*I/9)**(1/3) + 307/(9*(-1/2 - sqrt(3)*I/2)*(4969/27 + sqrt(471498)*I/9)**(1/3))"
      ]
     },
     "execution_count": 24,
     "metadata": {},
     "output_type": "execute_result"
    }
   ],
   "source": [
    "e1[0]"
   ]
  },
  {
   "cell_type": "code",
   "execution_count": 25,
   "id": "ab31601e",
   "metadata": {
    "slideshow": {
     "slide_type": "slide"
    }
   },
   "outputs": [
    {
     "data": {
      "text/latex": [
       "$\\displaystyle \\left[\\begin{matrix}\\frac{306}{89} + \\frac{63 \\left(- \\frac{1}{2} - \\frac{\\sqrt{3} i}{2}\\right) \\sqrt[3]{\\frac{4969}{27} + \\frac{\\sqrt{471498} i}{9}}}{89} - \\frac{4 \\left(\\frac{13}{3} + \\left(- \\frac{1}{2} - \\frac{\\sqrt{3} i}{2}\\right) \\sqrt[3]{\\frac{4969}{27} + \\frac{\\sqrt{471498} i}{9}} + \\frac{307}{9 \\left(- \\frac{1}{2} - \\frac{\\sqrt{3} i}{2}\\right) \\sqrt[3]{\\frac{4969}{27} + \\frac{\\sqrt{471498} i}{9}}}\\right)^{2}}{89} + \\frac{2149}{89 \\left(- \\frac{1}{2} - \\frac{\\sqrt{3} i}{2}\\right) \\sqrt[3]{\\frac{4969}{27} + \\frac{\\sqrt{471498} i}{9}}}\\\\- \\frac{959}{267} - \\frac{13508}{801 \\left(- \\frac{1}{2} - \\frac{\\sqrt{3} i}{2}\\right) \\sqrt[3]{\\frac{4969}{27} + \\frac{\\sqrt{471498} i}{9}}} + \\frac{7 \\left(\\frac{13}{3} + \\left(- \\frac{1}{2} - \\frac{\\sqrt{3} i}{2}\\right) \\sqrt[3]{\\frac{4969}{27} + \\frac{\\sqrt{471498} i}{9}} + \\frac{307}{9 \\left(- \\frac{1}{2} - \\frac{\\sqrt{3} i}{2}\\right) \\sqrt[3]{\\frac{4969}{27} + \\frac{\\sqrt{471498} i}{9}}}\\right)^{2}}{178} - \\frac{44 \\left(- \\frac{1}{2} - \\frac{\\sqrt{3} i}{2}\\right) \\sqrt[3]{\\frac{4969}{27} + \\frac{\\sqrt{471498} i}{9}}}{89}\\\\1\\end{matrix}\\right]$"
      ],
      "text/plain": [
       "Matrix([\n",
       "[     306/89 + 63*(-1/2 - sqrt(3)*I/2)*(4969/27 + sqrt(471498)*I/9)**(1/3)/89 - 4*(13/3 + (-1/2 - sqrt(3)*I/2)*(4969/27 + sqrt(471498)*I/9)**(1/3) + 307/(9*(-1/2 - sqrt(3)*I/2)*(4969/27 + sqrt(471498)*I/9)**(1/3)))**2/89 + 2149/(89*(-1/2 - sqrt(3)*I/2)*(4969/27 + sqrt(471498)*I/9)**(1/3))],\n",
       "[-959/267 - 13508/(801*(-1/2 - sqrt(3)*I/2)*(4969/27 + sqrt(471498)*I/9)**(1/3)) + 7*(13/3 + (-1/2 - sqrt(3)*I/2)*(4969/27 + sqrt(471498)*I/9)**(1/3) + 307/(9*(-1/2 - sqrt(3)*I/2)*(4969/27 + sqrt(471498)*I/9)**(1/3)))**2/178 - 44*(-1/2 - sqrt(3)*I/2)*(4969/27 + sqrt(471498)*I/9)**(1/3)/89],\n",
       "[                                                                                                                                                                                                                                                                                               1]])"
      ]
     },
     "execution_count": 25,
     "metadata": {},
     "output_type": "execute_result"
    }
   ],
   "source": [
    "e1[2][0]"
   ]
  },
  {
   "cell_type": "code",
   "execution_count": 26,
   "id": "7087786e",
   "metadata": {
    "slideshow": {
     "slide_type": "slide"
    }
   },
   "outputs": [
    {
     "data": {
      "text/latex": [
       "$\\displaystyle \\frac{13}{3} + \\frac{307}{9 \\left(- \\frac{1}{2} + \\frac{\\sqrt{3} i}{2}\\right) \\sqrt[3]{\\frac{4969}{27} + \\frac{\\sqrt{471498} i}{9}}} + \\left(- \\frac{1}{2} + \\frac{\\sqrt{3} i}{2}\\right) \\sqrt[3]{\\frac{4969}{27} + \\frac{\\sqrt{471498} i}{9}}$"
      ],
      "text/plain": [
       "13/3 + 307/(9*(-1/2 + sqrt(3)*I/2)*(4969/27 + sqrt(471498)*I/9)**(1/3)) + (-1/2 + sqrt(3)*I/2)*(4969/27 + sqrt(471498)*I/9)**(1/3)"
      ]
     },
     "execution_count": 26,
     "metadata": {},
     "output_type": "execute_result"
    }
   ],
   "source": [
    "e2[0]"
   ]
  },
  {
   "cell_type": "code",
   "execution_count": 27,
   "id": "326fe5c5",
   "metadata": {},
   "outputs": [
    {
     "data": {
      "text/latex": [
       "$\\displaystyle \\left[\\begin{matrix}\\frac{306}{89} + \\frac{2149}{89 \\left(- \\frac{1}{2} + \\frac{\\sqrt{3} i}{2}\\right) \\sqrt[3]{\\frac{4969}{27} + \\frac{\\sqrt{471498} i}{9}}} - \\frac{4 \\left(\\frac{13}{3} + \\frac{307}{9 \\left(- \\frac{1}{2} + \\frac{\\sqrt{3} i}{2}\\right) \\sqrt[3]{\\frac{4969}{27} + \\frac{\\sqrt{471498} i}{9}}} + \\left(- \\frac{1}{2} + \\frac{\\sqrt{3} i}{2}\\right) \\sqrt[3]{\\frac{4969}{27} + \\frac{\\sqrt{471498} i}{9}}\\right)^{2}}{89} + \\frac{63 \\left(- \\frac{1}{2} + \\frac{\\sqrt{3} i}{2}\\right) \\sqrt[3]{\\frac{4969}{27} + \\frac{\\sqrt{471498} i}{9}}}{89}\\\\- \\frac{959}{267} - \\frac{44 \\left(- \\frac{1}{2} + \\frac{\\sqrt{3} i}{2}\\right) \\sqrt[3]{\\frac{4969}{27} + \\frac{\\sqrt{471498} i}{9}}}{89} + \\frac{7 \\left(\\frac{13}{3} + \\frac{307}{9 \\left(- \\frac{1}{2} + \\frac{\\sqrt{3} i}{2}\\right) \\sqrt[3]{\\frac{4969}{27} + \\frac{\\sqrt{471498} i}{9}}} + \\left(- \\frac{1}{2} + \\frac{\\sqrt{3} i}{2}\\right) \\sqrt[3]{\\frac{4969}{27} + \\frac{\\sqrt{471498} i}{9}}\\right)^{2}}{178} - \\frac{13508}{801 \\left(- \\frac{1}{2} + \\frac{\\sqrt{3} i}{2}\\right) \\sqrt[3]{\\frac{4969}{27} + \\frac{\\sqrt{471498} i}{9}}}\\\\1\\end{matrix}\\right]$"
      ],
      "text/plain": [
       "Matrix([\n",
       "[     306/89 + 2149/(89*(-1/2 + sqrt(3)*I/2)*(4969/27 + sqrt(471498)*I/9)**(1/3)) - 4*(13/3 + 307/(9*(-1/2 + sqrt(3)*I/2)*(4969/27 + sqrt(471498)*I/9)**(1/3)) + (-1/2 + sqrt(3)*I/2)*(4969/27 + sqrt(471498)*I/9)**(1/3))**2/89 + 63*(-1/2 + sqrt(3)*I/2)*(4969/27 + sqrt(471498)*I/9)**(1/3)/89],\n",
       "[-959/267 - 44*(-1/2 + sqrt(3)*I/2)*(4969/27 + sqrt(471498)*I/9)**(1/3)/89 + 7*(13/3 + 307/(9*(-1/2 + sqrt(3)*I/2)*(4969/27 + sqrt(471498)*I/9)**(1/3)) + (-1/2 + sqrt(3)*I/2)*(4969/27 + sqrt(471498)*I/9)**(1/3))**2/178 - 13508/(801*(-1/2 + sqrt(3)*I/2)*(4969/27 + sqrt(471498)*I/9)**(1/3))],\n",
       "[                                                                                                                                                                                                                                                                                               1]])"
      ]
     },
     "execution_count": 27,
     "metadata": {},
     "output_type": "execute_result"
    }
   ],
   "source": [
    "e2[2][0]"
   ]
  },
  {
   "cell_type": "code",
   "execution_count": 28,
   "id": "79d77dd9",
   "metadata": {
    "slideshow": {
     "slide_type": "slide"
    }
   },
   "outputs": [
    {
     "data": {
      "text/latex": [
       "$\\displaystyle \\frac{13}{3} + \\frac{307}{9 \\sqrt[3]{\\frac{4969}{27} + \\frac{\\sqrt{471498} i}{9}}} + \\sqrt[3]{\\frac{4969}{27} + \\frac{\\sqrt{471498} i}{9}}$"
      ],
      "text/plain": [
       "13/3 + 307/(9*(4969/27 + sqrt(471498)*I/9)**(1/3)) + (4969/27 + sqrt(471498)*I/9)**(1/3)"
      ]
     },
     "execution_count": 28,
     "metadata": {},
     "output_type": "execute_result"
    }
   ],
   "source": [
    "e3[0]"
   ]
  },
  {
   "cell_type": "code",
   "execution_count": 29,
   "id": "adc3ee71",
   "metadata": {},
   "outputs": [
    {
     "data": {
      "text/latex": [
       "$\\displaystyle \\left[\\begin{matrix}\\frac{306}{89} + \\frac{2149}{89 \\sqrt[3]{\\frac{4969}{27} + \\frac{\\sqrt{471498} i}{9}}} - \\frac{4 \\left(\\frac{13}{3} + \\frac{307}{9 \\sqrt[3]{\\frac{4969}{27} + \\frac{\\sqrt{471498} i}{9}}} + \\sqrt[3]{\\frac{4969}{27} + \\frac{\\sqrt{471498} i}{9}}\\right)^{2}}{89} + \\frac{63 \\sqrt[3]{\\frac{4969}{27} + \\frac{\\sqrt{471498} i}{9}}}{89}\\\\- \\frac{959}{267} - \\frac{44 \\sqrt[3]{\\frac{4969}{27} + \\frac{\\sqrt{471498} i}{9}}}{89} + \\frac{7 \\left(\\frac{13}{3} + \\frac{307}{9 \\sqrt[3]{\\frac{4969}{27} + \\frac{\\sqrt{471498} i}{9}}} + \\sqrt[3]{\\frac{4969}{27} + \\frac{\\sqrt{471498} i}{9}}\\right)^{2}}{178} - \\frac{13508}{801 \\sqrt[3]{\\frac{4969}{27} + \\frac{\\sqrt{471498} i}{9}}}\\\\1\\end{matrix}\\right]$"
      ],
      "text/plain": [
       "Matrix([\n",
       "[     306/89 + 2149/(89*(4969/27 + sqrt(471498)*I/9)**(1/3)) - 4*(13/3 + 307/(9*(4969/27 + sqrt(471498)*I/9)**(1/3)) + (4969/27 + sqrt(471498)*I/9)**(1/3))**2/89 + 63*(4969/27 + sqrt(471498)*I/9)**(1/3)/89],\n",
       "[-959/267 - 44*(4969/27 + sqrt(471498)*I/9)**(1/3)/89 + 7*(13/3 + 307/(9*(4969/27 + sqrt(471498)*I/9)**(1/3)) + (4969/27 + sqrt(471498)*I/9)**(1/3))**2/178 - 13508/(801*(4969/27 + sqrt(471498)*I/9)**(1/3))],\n",
       "[                                                                                                                                                                                                           1]])"
      ]
     },
     "execution_count": 29,
     "metadata": {},
     "output_type": "execute_result"
    }
   ],
   "source": [
    "e3[2][0]"
   ]
  },
  {
   "cell_type": "code",
   "execution_count": 30,
   "id": "7857cb6d",
   "metadata": {},
   "outputs": [
    {
     "data": {
      "text/latex": [
       "$\\displaystyle \\left[\\begin{matrix}0 & -3 & 2 & -1\\\\-3 & 9 & -6 & 3\\\\2 & -6 & 4 & -2\\\\-1 & 3 & -2 & 2\\end{matrix}\\right]$"
      ],
      "text/plain": [
       "Matrix([\n",
       "[ 0, -3,  2, -1],\n",
       "[-3,  9, -6,  3],\n",
       "[ 2, -6,  4, -2],\n",
       "[-1,  3, -2,  2]])"
      ]
     },
     "execution_count": 30,
     "metadata": {},
     "output_type": "execute_result"
    }
   ],
   "source": [
    "A = Matrix([\n",
    "    [0,-3,2,-1],\n",
    "    [-3,9,-6,3],\n",
    "    [2,-6,4,-2],\n",
    "    [-1, 3, -2, 2]\n",
    "])\n",
    "A"
   ]
  },
  {
   "cell_type": "code",
   "execution_count": 31,
   "id": "9b560343",
   "metadata": {
    "slideshow": {
     "slide_type": "slide"
    }
   },
   "outputs": [
    {
     "data": {
      "text/plain": [
       "[(0,\n",
       "  1,\n",
       "  [Matrix([\n",
       "   [  0],\n",
       "   [2/3],\n",
       "   [  1],\n",
       "   [  0]])]),\n",
       " (5 + (-1/2 - sqrt(3)*I/2)*(121 + sqrt(131007)*I/9)**(1/3) + 76/(3*(-1/2 - sqrt(3)*I/2)*(121 + sqrt(131007)*I/9)**(1/3)),\n",
       "  1,\n",
       "  [Matrix([\n",
       "   [             -66 - 1216/(3*(-1/2 - sqrt(3)*I/2)*(121 + sqrt(131007)*I/9)**(1/3)) + (5 + (-1/2 - sqrt(3)*I/2)*(121 + sqrt(131007)*I/9)**(1/3) + 76/(3*(-1/2 - sqrt(3)*I/2)*(121 + sqrt(131007)*I/9)**(1/3)))**2 - 16*(-1/2 - sqrt(3)*I/2)*(121 + sqrt(131007)*I/9)**(1/3)],\n",
       "   [-189/13 - 1140/(13*(-1/2 - sqrt(3)*I/2)*(121 + sqrt(131007)*I/9)**(1/3)) + 3*(5 + (-1/2 - sqrt(3)*I/2)*(121 + sqrt(131007)*I/9)**(1/3) + 76/(3*(-1/2 - sqrt(3)*I/2)*(121 + sqrt(131007)*I/9)**(1/3)))**2/13 - 45*(-1/2 - sqrt(3)*I/2)*(121 + sqrt(131007)*I/9)**(1/3)/13],\n",
       "   [  126/13 + 30*(-1/2 - sqrt(3)*I/2)*(121 + sqrt(131007)*I/9)**(1/3)/13 - 2*(5 + (-1/2 - sqrt(3)*I/2)*(121 + sqrt(131007)*I/9)**(1/3) + 76/(3*(-1/2 - sqrt(3)*I/2)*(121 + sqrt(131007)*I/9)**(1/3)))**2/13 + 760/(13*(-1/2 - sqrt(3)*I/2)*(121 + sqrt(131007)*I/9)**(1/3))],\n",
       "   [                                                                                                                                                                                                                                                                       1]])]),\n",
       " (5 + 76/(3*(-1/2 + sqrt(3)*I/2)*(121 + sqrt(131007)*I/9)**(1/3)) + (-1/2 + sqrt(3)*I/2)*(121 + sqrt(131007)*I/9)**(1/3),\n",
       "  1,\n",
       "  [Matrix([\n",
       "   [             -66 - 16*(-1/2 + sqrt(3)*I/2)*(121 + sqrt(131007)*I/9)**(1/3) + (5 + 76/(3*(-1/2 + sqrt(3)*I/2)*(121 + sqrt(131007)*I/9)**(1/3)) + (-1/2 + sqrt(3)*I/2)*(121 + sqrt(131007)*I/9)**(1/3))**2 - 1216/(3*(-1/2 + sqrt(3)*I/2)*(121 + sqrt(131007)*I/9)**(1/3))],\n",
       "   [-189/13 - 45*(-1/2 + sqrt(3)*I/2)*(121 + sqrt(131007)*I/9)**(1/3)/13 + 3*(5 + 76/(3*(-1/2 + sqrt(3)*I/2)*(121 + sqrt(131007)*I/9)**(1/3)) + (-1/2 + sqrt(3)*I/2)*(121 + sqrt(131007)*I/9)**(1/3))**2/13 - 1140/(13*(-1/2 + sqrt(3)*I/2)*(121 + sqrt(131007)*I/9)**(1/3))],\n",
       "   [  126/13 + 760/(13*(-1/2 + sqrt(3)*I/2)*(121 + sqrt(131007)*I/9)**(1/3)) - 2*(5 + 76/(3*(-1/2 + sqrt(3)*I/2)*(121 + sqrt(131007)*I/9)**(1/3)) + (-1/2 + sqrt(3)*I/2)*(121 + sqrt(131007)*I/9)**(1/3))**2/13 + 30*(-1/2 + sqrt(3)*I/2)*(121 + sqrt(131007)*I/9)**(1/3)/13],\n",
       "   [                                                                                                                                                                                                                                                                       1]])]),\n",
       " (5 + 76/(3*(121 + sqrt(131007)*I/9)**(1/3)) + (121 + sqrt(131007)*I/9)**(1/3),\n",
       "  1,\n",
       "  [Matrix([\n",
       "   [             -66 - 16*(121 + sqrt(131007)*I/9)**(1/3) + (5 + 76/(3*(121 + sqrt(131007)*I/9)**(1/3)) + (121 + sqrt(131007)*I/9)**(1/3))**2 - 1216/(3*(121 + sqrt(131007)*I/9)**(1/3))],\n",
       "   [-189/13 - 45*(121 + sqrt(131007)*I/9)**(1/3)/13 + 3*(5 + 76/(3*(121 + sqrt(131007)*I/9)**(1/3)) + (121 + sqrt(131007)*I/9)**(1/3))**2/13 - 1140/(13*(121 + sqrt(131007)*I/9)**(1/3))],\n",
       "   [  126/13 + 760/(13*(121 + sqrt(131007)*I/9)**(1/3)) - 2*(5 + 76/(3*(121 + sqrt(131007)*I/9)**(1/3)) + (121 + sqrt(131007)*I/9)**(1/3))**2/13 + 30*(121 + sqrt(131007)*I/9)**(1/3)/13],\n",
       "   [                                                                                                                                                                                   1]])])]"
      ]
     },
     "execution_count": 31,
     "metadata": {},
     "output_type": "execute_result"
    }
   ],
   "source": [
    "A.eigenvects()"
   ]
  },
  {
   "cell_type": "markdown",
   "id": "1d35b521",
   "metadata": {
    "slideshow": {
     "slide_type": "slide"
    }
   },
   "source": [
    "### Facts about eigenvalues and eigenvectors\n",
    "\n",
    "- An $n\\times n$ matrix has between 0 and $n$ eigenvalues.\n",
    "- Each eigenvalue has a certain *algebraic multiplicity* between $1$ and $n$.\n",
    "- The sum of the algebraic multiplicities is $\\leq n$.\n",
    "- For each eigenvalue, there is a number $k$ of linearly independent eigenvectors. $k$ is between $1$ and the algebraic multiplicity of the eigenvalue.\n",
    "- The number of eigenvectors for an eigenvalue is called its *geometric multiplicity*."
   ]
  }
 ],
 "metadata": {
  "@webio": {
   "lastCommId": null,
   "lastKernelId": null
  },
  "celltoolbar": "Slideshow",
  "hide_input": false,
  "kernelspec": {
   "display_name": "Python 3 (ipykernel)",
   "language": "python",
   "name": "python3"
  },
  "language_info": {
   "codemirror_mode": {
    "name": "ipython",
    "version": 3
   },
   "file_extension": ".py",
   "mimetype": "text/x-python",
   "name": "python",
   "nbconvert_exporter": "python",
   "pygments_lexer": "ipython3",
   "version": "3.9.11"
  },
  "latex_envs": {
   "LaTeX_envs_menu_present": true,
   "autoclose": false,
   "autocomplete": true,
   "bibliofile": "biblio.bib",
   "cite_by": "apalike",
   "current_citInitial": 1,
   "eqLabelWithNumbers": true,
   "eqNumInitial": 1,
   "hotkeys": {
    "equation": "Ctrl-E",
    "itemize": "Ctrl-I"
   },
   "labels_anchors": false,
   "latex_user_defs": false,
   "report_style_numbering": false,
   "user_envs_cfg": false
  },
  "rise": {
   "enable_chalkboard": true
  },
  "varInspector": {
   "cols": {
    "lenName": 16,
    "lenType": 16,
    "lenVar": 40
   },
   "kernels_config": {
    "python": {
     "delete_cmd_postfix": "",
     "delete_cmd_prefix": "del ",
     "library": "var_list.py",
     "varRefreshCmd": "print(var_dic_list())"
    },
    "r": {
     "delete_cmd_postfix": ") ",
     "delete_cmd_prefix": "rm(",
     "library": "var_list.r",
     "varRefreshCmd": "cat(var_dic_list()) "
    }
   },
   "types_to_exclude": [
    "module",
    "function",
    "builtin_function_or_method",
    "instance",
    "_Feature"
   ],
   "window_display": false
  }
 },
 "nbformat": 4,
 "nbformat_minor": 5
}
