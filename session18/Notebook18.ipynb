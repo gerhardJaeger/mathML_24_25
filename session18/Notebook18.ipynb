{
 "cells": [
  {
   "cell_type": "markdown",
   "id": "79c23bd9",
   "metadata": {
    "slideshow": {
     "slide_type": "slide"
    }
   },
   "source": [
    "# Mathematics for Machine Learning\n",
    "\n",
    "## Session 18: Differentiation (cont.)\n",
    "\n",
    "### Gerhard Jäger\n",
    "\n",
    "\n",
    "January 7, 2025\n",
    "\n",
    "---\n",
    "<br><br>\n",
    "\n",
    "<small>Most material taken from Chapter 2 of Keisler, H. Jerome. *Elementary Calculus: An Infinitesimal Approach*. 2012.</small><br>\n",
    "<small>Applets programmed with the help of ChatGPT</small>"
   ]
  },
  {
   "cell_type": "code",
   "execution_count": 1,
   "id": "644d8747",
   "metadata": {
    "slideshow": {
     "slide_type": "skip"
    }
   },
   "outputs": [],
   "source": [
    "import numpy as np\n",
    "import matplotlib.pyplot as plt\n",
    "from ipywidgets import interact\n"
   ]
  },
  {
   "cell_type": "markdown",
   "id": "e29e106c",
   "metadata": {
    "slideshow": {
     "slide_type": "slide"
    }
   },
   "source": [
    "## Remark on notation\n",
    "\n",
    "In analysis, there are three conventions in use to denote functions:\n",
    "\n",
    "1. **named functions** \n",
    "    - e.g. $f(x) = x^2; g(y) = a-y$\n",
    "2. **unnamed functions**\n",
    "    - e.g. $(3x+5)^2$, $\\frac{y+1}{y-1}$\n",
    "3. **fresh variables**\n",
    "    - e.g. $y = x^2; z = \\frac{y+1}{y-1}$\n",
    "    \n",
    "Unfortunately, in the unnamed function and the variable notation, it is not explicitly specified what the independent variable is. This has to be inferred from the context.\n",
    "\n",
    "Also, be aware that the first two notations are ambiguous if used with generic fresh variable names. $f(x)$ can denote the function $f$, or the value of $f$ when applied to some fixed value $x$. \n",
    "\n",
    "When the argument of $f$ is not a generic variable, only the latter interpretation is possible. $f(1)$ or $f(x_0)$, e.g., refer the function values.\n",
    "\n",
    "The same applies for unnamed functions. $\\frac{y+1}{y-1}$ can refer to a function, and $y$ is just a place-holder variable, or it can refer to the evaluation of this term for a specific value of $y$.\n",
    "\n",
    "\n"
   ]
  },
  {
   "cell_type": "markdown",
   "id": "3cd1a4e0",
   "metadata": {
    "slideshow": {
     "slide_type": "slide"
    }
   },
   "source": [
    "This mess carries over to derivatives.\n",
    "\n",
    "- For named functions, the derivative can be written with the prime-notation:\n",
    "    - $f'(x), g'(y), \\ldots$\n",
    "  Here, $f'$ is the name of a function (the derivative of $f$), and $f'(x)$ can either be that function or the value of that function for the argument $x$.  \n",
    "- For the derivative of unnamed function, the Leibniz notation is used\n",
    "\n",
    "$$\n",
    "\\begin{align}\n",
    "\\frac{d}{dx} (3x+5)^2\\\\\n",
    "\\frac{d}{dy} \\frac{y+1}{y-1}\\\\\n",
    "\\vdots\n",
    "\\end{align}\n",
    "$$\n",
    "These term unambiguously denote a function. To refer to the value of this function at a particular value, a new notation is used:\n",
    "$$\n",
    "\\begin{align}\n",
    "\\left.\\frac{d}{dx} (3x+5)^2\\right|_{x=2}\\\\\n",
    "\\left.\\frac{d}{dy} \\frac{y+1}{y-1}\\right|_{y=0}\\\\\n",
    "\\vdots\n",
    "\\end{align}\n",
    "$$"
   ]
  },
  {
   "cell_type": "markdown",
   "id": "86e3428a",
   "metadata": {
    "slideshow": {
     "slide_type": "slide"
    }
   },
   "source": [
    "*Variables-as-functions* are treated the same way as unnamed functions.\n",
    "\n",
    "If $y$ is a function with $x$ as independent variable,\n",
    "- the derivative of this function is written like $\\frac{dy}{dx}$ or $\\frac{d}{dx}y$, and\n",
    "- the derivative at a specific value for $x$ is written like $\\left.\\frac{dy}{dx}\\right|_{x=2}$\n",
    "\n",
    "\n",
    "(Mathematicians are lazy. No programmer would get away with this kind of sloppiness.)"
   ]
  },
  {
   "cell_type": "markdown",
   "id": "4abb3821",
   "metadata": {
    "slideshow": {
     "slide_type": "slide"
    }
   },
   "source": [
    "**THEOREM (Constant Functions)**\n",
    "\n",
    "Suppose the function $f$ is constant:\n",
    "$$\n",
    "\\forall x. f(x) = c\n",
    "$$\n",
    "Then \n",
    "$$\n",
    "\\forall x.f'(x) = 0\n",
    "$$"
   ]
  },
  {
   "cell_type": "markdown",
   "id": "d81f9962",
   "metadata": {},
   "source": [
    "**PROOF**\n",
    "\n",
    "$$\n",
    "\\begin{align}\n",
    "f(x+\\Delta x) - f(x) &= c - c\\\\\n",
    "&= 0\n",
    "\\end{align}\n",
    "$$"
   ]
  },
  {
   "cell_type": "markdown",
   "id": "c98de357",
   "metadata": {
    "slideshow": {
     "slide_type": "slide"
    }
   },
   "source": [
    "\n",
    "\n",
    "**THEOREM (Product Rule)**\n",
    "\n",
    "Suppose $u$ and $v$ depend on $x$. Then for any value of $x$ where $\\frac{du}{dx}$ and $\\frac{dv}{dx}$ exist:\n",
    "\n",
    "$$\n",
    "\\frac{d(uv)}{dx} = u \\frac{dv}{dx} + v \\frac{du}{dx}, \\quad d(uv) = u \\, dv + v \\, du.\n",
    "$$\n",
    "\n"
   ]
  },
  {
   "cell_type": "markdown",
   "id": "f138b9ea",
   "metadata": {},
   "source": [
    "\n",
    "\n",
    "**PROOF**  \n",
    "Let $y = uv$, and let $\\Delta x \\neq 0$ be infinitesimal. Then:\n",
    "\n",
    "$$\n",
    "y + \\Delta y = (u + \\Delta u)(v + \\Delta v),\n",
    "$$\n",
    "\n",
    "$$\n",
    "\\Delta y = (u + \\Delta u)(v + \\Delta v) - uv = u \\Delta v + v \\Delta u + \\Delta u \\Delta v,\n",
    "$$\n",
    "\n",
    "$$\n",
    "\\frac{\\Delta y}{\\Delta x} = \\frac{u \\Delta v + v \\Delta u + \\Delta u \\Delta v}{\\Delta x} = u \\frac{\\Delta v}{\\Delta x} + v \\frac{\\Delta u}{\\Delta x} + \\frac{\\Delta u \\Delta v}{\\Delta x}.\n",
    "$$\n",
    "\n",
    "$\\Delta u$ is infinitesimal by the Increment Theorem, whence:\n",
    "\n",
    "$$\n",
    "\\text{st}\\left(\\frac{\\Delta y}{\\Delta x}\\right) = \\text{st}\\left(u \\frac{\\Delta v}{\\Delta x} + v \\frac{\\Delta u}{\\Delta x} + \\frac{\\Delta u \\Delta v}{\\Delta x}\\right),\n",
    "$$\n",
    "\n",
    "$$\n",
    "= u \\cdot \\text{st}\\left(\\frac{\\Delta v}{\\Delta x}\\right) + v \\cdot \\text{st}\\left(\\frac{\\Delta u}{\\Delta x}\\right) + 0 \\cdot \\text{st}\\left(\\frac{\\Delta u}{\\Delta x}\\right).\n",
    "$$\n",
    "\n",
    "Thus:\n",
    "\n",
    "$$\n",
    "\\frac{dy}{dx} = u \\frac{dv}{dx} + v \\frac{du}{dx}.\n",
    "$$\n"
   ]
  },
  {
   "cell_type": "markdown",
   "id": "aad3ed08",
   "metadata": {
    "slideshow": {
     "slide_type": "slide"
    }
   },
   "source": [
    "## Example: $y = x^4$\n",
    "\n",
    "We can find the result by using $\\frac{dx^2}{dx} = 2x$ and the product rule.\n",
    "\n",
    "$$\n",
    "\\begin{align}\n",
    "\\frac{dx^4}{dx} &= \\frac{d(x^2 \\times x^2)}{dx}\\\\\n",
    "&= x^2\\frac{dx^2}{dx} + x^2\\frac{dx^2}{dx}\\\\\n",
    "&= 2(x^2\\frac{dx^2}{dx})\\\\\n",
    "&= 2(x^2 \\times 2x)\\\\\n",
    "&= 4x^3\n",
    "\\end{align}\n",
    "$$"
   ]
  },
  {
   "cell_type": "markdown",
   "id": "16c4b47f",
   "metadata": {
    "slideshow": {
     "slide_type": "slide"
    }
   },
   "source": [
    "# Generalization: $y = x^n$ for positive integers $n$\n",
    "\n",
    "From the examples we have seen $(x^2, x^3, x^4)$, it seems there is a general rule\n",
    "\n",
    "$$\n",
    "\\frac{dx^n}{dx} = nx^{n-1}\n",
    "$$\n",
    "\n",
    "Let's prove this. We will do this via **induction**.\n",
    "\n",
    "## PRINCIPLE OF INDUCTION\n",
    "\n",
    "*Suppose a statement P(n) about an arbitrary integer n is true when n = 1. Suppose further that for any positive integer m such that P(m) is true, P(m + 1) is also true. Then the statement P(n) is true of every positive integer n.*\n"
   ]
  },
  {
   "cell_type": "markdown",
   "id": "4ac47c39",
   "metadata": {
    "slideshow": {
     "slide_type": "slide"
    }
   },
   "source": [
    "- $n=1$\n",
    "\n",
    "$$\n",
    "\\begin{align}\n",
    "\\frac{dx^1}{dx} &= 1 \\\\\n",
    "&= 1x^0\n",
    "\\end{align}\n",
    "$$\n",
    "\n",
    "- $n>1$\n",
    "\n",
    "    Suppose it holds that $\\frac{dx^n}{dx} = nx^{n-1}$. We have to show that the law also holds for $n+1$, i.e., that $\\frac{dx^{n+1}}{dx} = (n+1)x^n$.\n",
    "    \n",
    "    $$\n",
    "    \\begin{align}\n",
    "    \\frac{dx^{n+1}}{dx} &= \\frac{d(x\\times x^{n})}{dx}\\\\\n",
    "    &= x\\times nx^{n-1} + x^n & \\text{(product rule)}\\\\\n",
    "    &= nx^n + x^n\\\\\n",
    "    &= (n+1)x^n\n",
    "    \\end{align}\n",
    "    $$"
   ]
  },
  {
   "cell_type": "markdown",
   "id": "bdb01b4c",
   "metadata": {
    "slideshow": {
     "slide_type": "slide"
    }
   },
   "source": [
    "**THEOREM (Quotient Rule)**\n",
    "\n",
    "Suppose $u, v$ depend on $x$. Then for any value of $x$ where $\\frac{du}{dx}$, $\\frac{dv}{dx}$ exist and $v \\neq 0$:\n",
    "\n",
    "$$\n",
    "\\frac{d\\left(\\frac{u}{v}\\right)}{dx} = \\frac{v \\frac{du}{dx} - u \\frac{dv}{dx}}{v^2}, \\quad d\\left(\\frac{u}{v}\\right) = \\frac{v \\, du - u \\, dv}{v^2}.\n",
    "$$\n",
    "\n",
    "\n"
   ]
  },
  {
   "cell_type": "markdown",
   "id": "adf9c3e9",
   "metadata": {
    "slideshow": {
     "slide_type": "slide"
    }
   },
   "source": [
    "**PROOF**  \n",
    "\n",
    "$$\n",
    "\\begin{align}\n",
    "y &= \\frac{u}{v}\\\\\n",
    "y + \\Delta y &= \\frac{u+\\Delta u}{v+\\Delta v}\\\\\n",
    "\\Delta y &= \\frac{u+\\Delta u}{v+\\Delta v} - \\frac{u}{v}\\\\\n",
    "&= \\frac{v(u+\\Delta u) - u(v+\\Delta v)}{v(v+\\Delta v)}\\\\\n",
    "&= \\frac{uv+v\\Delta u - uv - u \\Delta v}{v^2+v\\Delta v}\\\\\n",
    "&= \\frac{v\\Delta u  - u \\Delta v}{v^2+v\\Delta v}\\\\\n",
    "\\frac{\\Delta y}{\\Delta x} &= \\frac{v\\frac{\\Delta u}{\\Delta x}  - u \\frac{\\Delta v}{\\Delta x}}{v^2+v\\Delta v}\\\\\n",
    "\\frac{dy}{dx} &= st\\frac{\\Delta y}{\\Delta x}\\\\\n",
    "&= st\\frac{v\\frac{\\Delta u}{\\Delta x}  - u \\frac{\\Delta v}{\\Delta x}}{v^2+v\\Delta v}\\\\\n",
    "&= \\frac{v\\frac{d u}{d x}  - u \\frac{d v}{d x}}{v^2}\\\\\n",
    "\\end{align}\n",
    "$$"
   ]
  },
  {
   "cell_type": "markdown",
   "id": "66ca0ce9",
   "metadata": {
    "slideshow": {
     "slide_type": "slide"
    }
   },
   "source": [
    "### Examples\n",
    "\n",
    "$$\n",
    "\\begin{align}\n",
    "f(x) &= 3x^2 + 5x - 4\n",
    "\\end{align}\n",
    "$$"
   ]
  },
  {
   "cell_type": "markdown",
   "id": "dfe406cd",
   "metadata": {
    "slideshow": {
     "slide_type": "fragment"
    }
   },
   "source": [
    "$$\n",
    "\\begin{align}\n",
    "f'(x) &= \\frac{d}{dx} (3x^2 + 5x - 4)\\\\\n",
    "&= \\frac{d}{dx} (3x^2) + \\frac{d}{dx}(5x) - \\frac{d}{dx}4\\\\\n",
    "&= 3\\frac{d}{dx} x^2 + 5\\frac{d}{dx}x - \\frac{d}{dx}4\\\\\n",
    "&= 3\\times 2x + 5\\times 1-0\\\\\n",
    "&=6x+5\n",
    "\\end{align}\n",
    "$$"
   ]
  },
  {
   "cell_type": "markdown",
   "id": "25841a21",
   "metadata": {
    "slideshow": {
     "slide_type": "slide"
    }
   },
   "source": [
    "$$\n",
    "f(x) = \\frac{1}{\\sqrt x}\n",
    "$$"
   ]
  },
  {
   "cell_type": "markdown",
   "id": "c0e68c47",
   "metadata": {
    "slideshow": {
     "slide_type": "fragment"
    }
   },
   "source": [
    "$$\n",
    "\\begin{align}\n",
    "f'(x) &= \\frac{\\frac{d}{dx}1\\times \\sqrt{x}- 1\\times \\frac{d}{dx}\\sqrt{x}}{(\\sqrt{x})^2}\\\\\n",
    "&=\\frac{\\frac{d}{dx}1\\times \\sqrt{x}- 1\\times \\frac{d}{dx}\\sqrt{x}}{x}\\\\\n",
    "&=\\frac{0\\times \\sqrt{x}- 1\\times \\frac{d}{dx}\\sqrt{x}}{x}\\\\\n",
    "&=\\frac{- \\frac{d}{dx}\\sqrt{x}}{x}\\\\\n",
    "&=\\frac{- \\frac{1}{2\\sqrt{x}}}{x}\\\\\n",
    "&= -\\frac{1}{2x\\sqrt{x}}\n",
    "\\end{align}\n",
    "$$"
   ]
  },
  {
   "cell_type": "markdown",
   "id": "00ba4593",
   "metadata": {
    "slideshow": {
     "slide_type": "slide"
    }
   },
   "source": [
    "Suppose $f$ and $g$ are two functions that differ only by a constant:\n",
    "\n",
    "$$\n",
    "f(x) = g(x) + c\n",
    "$$\n",
    "\n",
    "How are $f'(x)$ and $g'(x)$ related?"
   ]
  },
  {
   "cell_type": "markdown",
   "id": "94eff6b6",
   "metadata": {
    "slideshow": {
     "slide_type": "fragment"
    }
   },
   "source": [
    "$$\n",
    "\\begin{align}\n",
    "f'(x) &= \\frac{d}{dx}(g(x) + c)\\\\\n",
    "&= \\frac{d}{dx}g(x) + \\frac{d}{dx} c\\\\\n",
    "&=g'(x) + 0\\\\\n",
    "&= g'(x)\n",
    "\\end{align}\n",
    "$$"
   ]
  },
  {
   "cell_type": "code",
   "execution_count": 2,
   "id": "28a0e2f0",
   "metadata": {
    "hide_input": true
   },
   "outputs": [
    {
     "data": {
      "image/png": "[encoded data removed]",
      "text/plain": [
       "<Figure size 720x576 with 1 Axes>"
      ]
     },
     "metadata": {
      "needs_background": "light"
     },
     "output_type": "display_data"
    }
   ],
   "source": [
    "import matplotlib.pyplot as plt\n",
    "import numpy as np\n",
    "\n",
    "# Define the x values\n",
    "x = np.linspace(-2, 2, 500)\n",
    "\n",
    "# Define the cubic functions for f(x) and g(x)\n",
    "f = x**3 - 2*x  # Cubic function for f(x)\n",
    "c = 1           # Constant shift\n",
    "g = f + c       # Cubic function for g(x)\n",
    "\n",
    "# Derivative of f(x)\n",
    "tangent_point = 0.8\n",
    "df_dx = 3 * tangent_point**2 - 2  # Derivative of f(x) at x=tangent_point\n",
    "\n",
    "# Tangent lines\n",
    "tangent_line_f = df_dx * (x - tangent_point) + (tangent_point**3 - 2 * tangent_point)\n",
    "tangent_line_g = tangent_line_f + c\n",
    "\n",
    "# Plot the updated curves and tangents with color\n",
    "plt.figure(figsize=(10, 8))  # Increase the figure size\n",
    "plt.plot(x, f, label='$f(x)$', color='blue', linewidth=2)\n",
    "plt.plot(x, g, label='$g(x)$', color='orange', linestyle='--', linewidth=2)\n",
    "plt.plot(x, tangent_line_f, color='green', linestyle=':', label='Tangent to $f(x)$', linewidth=2)\n",
    "plt.plot(x, tangent_line_g, color='red', linestyle=':', label='Tangent to $g(x)$', linewidth=2)\n",
    "\n",
    "# Mark tangent points\n",
    "plt.scatter([tangent_point], [tangent_point**3 - 2 * tangent_point], color='blue', zorder=5, label='Tangent point on $f(x)$')\n",
    "plt.scatter([tangent_point], [tangent_point**3 - 2 * tangent_point + c], color='orange', zorder=5, label='Tangent point on $g(x)$')\n",
    "\n",
    "# Add labels\n",
    "plt.text(tangent_point + 0.1, tangent_point**3 - 2 * tangent_point, \"$f(x)$\", fontsize=12, color='blue')\n",
    "plt.text(tangent_point + 0.1, tangent_point**3 - 2 * tangent_point + c, \"$g(x)$\", fontsize=12, color='orange')\n",
    "plt.xlabel('$x$', fontsize=14)\n",
    "plt.ylabel('$y$', fontsize=14)  # Rename the vertical axis to y\n",
    "plt.axhline(0, color='black', linewidth=0.5)\n",
    "plt.axvline(tangent_point, color='gray', linestyle='--', linewidth=0.5)\n",
    "plt.grid(False)\n",
    "\n",
    "# Add formula\n",
    "plt.text(0.5, -1, r'$\\frac{df}{dx} = \\frac{dg}{dx}$', fontsize=14)\n",
    "\n",
    "# Set axis limits\n",
    "plt.xlim(-2, 2)\n",
    "plt.ylim(-2, 3)\n",
    "\n",
    "# Add legend\n",
    "plt.legend()\n",
    "\n",
    "# Show the plot\n",
    "plt.tight_layout()\n",
    "plt.show()\n"
   ]
  },
  {
   "cell_type": "code",
   "execution_count": 3,
   "id": "10971850",
   "metadata": {},
   "outputs": [],
   "source": [
    "import sympy as sp\n",
    "x, y, z = sp.symbols(\"x y z\")"
   ]
  },
  {
   "cell_type": "code",
   "execution_count": 8,
   "id": "394b5bc6",
   "metadata": {},
   "outputs": [
    {
     "data": {
      "text/latex": [
       "$\\displaystyle - \\frac{1}{2 x^{\\frac{3}{2}}}$"
      ],
      "text/plain": [
       "-1/(2*x**(3/2))"
      ]
     },
     "execution_count": 8,
     "metadata": {},
     "output_type": "execute_result"
    }
   ],
   "source": [
    "sp.diff(1/sp.sqrt(x))"
   ]
  }
 ],
 "metadata": {
  "@webio": {
   "lastCommId": null,
   "lastKernelId": null
  },
  "celltoolbar": "Slideshow",
  "hide_input": false,
  "kernelspec": {
   "display_name": "Python 3 (ipykernel)",
   "language": "python",
   "name": "python3"
  },
  "language_info": {
   "codemirror_mode": {
    "name": "ipython",
    "version": 3
   },
   "file_extension": ".py",
   "mimetype": "text/x-python",
   "name": "python",
   "nbconvert_exporter": "python",
   "pygments_lexer": "ipython3",
   "version": "3.9.11"
  },
  "rise": {
   "enable_chalkboard": true
  },
  "varInspector": {
   "cols": {
    "lenName": 16,
    "lenType": 16,
    "lenVar": 40
   },
   "kernels_config": {
    "python": {
     "delete_cmd_postfix": "",
     "delete_cmd_prefix": "del ",
     "library": "var_list.py",
     "varRefreshCmd": "print(var_dic_list())"
    },
    "r": {
     "delete_cmd_postfix": ") ",
     "delete_cmd_prefix": "rm(",
     "library": "var_list.r",
     "varRefreshCmd": "cat(var_dic_list()) "
    }
   },
   "types_to_exclude": [
    "module",
    "function",
    "builtin_function_or_method",
    "instance",
    "_Feature"
   ],
   "window_display": false
  }
 },
 "nbformat": 4,
 "nbformat_minor": 5
}
