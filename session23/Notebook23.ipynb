{
 "cells": [
  {
   "cell_type": "markdown",
   "id": "79c23bd9",
   "metadata": {
    "slideshow": {
     "slide_type": "slide"
    }
   },
   "source": [
    "# Mathematics for Machine Learning\n",
    "\n",
    "## Session 23: Integration\n",
    "\n",
    "### Gerhard Jäger\n",
    "\n",
    "\n",
    "January 23, 2025\n",
    "\n",
    "---\n",
    "<br><br>\n",
    "\n",
    "<small>Most material taken from Chapters 2 and 4 of Keisler, H. Jerome. *Elementary Calculus: An Infinitesimal Approach*. 2012.</small><br>\n",
    "<small>Applets programmed with the help of ChatGPT and Perplexity</small>"
   ]
  },
  {
   "cell_type": "code",
   "execution_count": 1,
   "id": "644d8747",
   "metadata": {
    "hide_input": true,
    "slideshow": {
     "slide_type": "skip"
    }
   },
   "outputs": [],
   "source": [
    "import numpy as np\n",
    "import matplotlib.pyplot as plt\n",
    "from ipywidgets import interact\n",
    "%matplotlib inline\n"
   ]
  },
  {
   "cell_type": "markdown",
   "id": "f72719db",
   "metadata": {
    "slideshow": {
     "slide_type": "slide"
    }
   },
   "source": [
    "**FUNDAMENTAL THEOREM OF CALCULUS**\n",
    "\n",
    "Suppose $f$ is continuous on its domain, which is an open interval $I$.\n",
    "\n",
    "1. For each point $a$ in $I$, the definite integral of $f$ from $a$ to $x$ considered as a function of $x$ is an antiderivative of $f$. That is,  \n",
    "   $$\n",
    "   \\frac{d}{dx} \\left( \\int_a^x f(t) \\, dt \\right) = f(x).\n",
    "   $$\n",
    "\n",
    "2. If $F$ is any antiderivative of $f$, then for any two points $a, b$ in $I$, the definite integral of $f$ from $a$ to $b$ is equal to the difference $F(b) - F(a)$,  \n",
    "   $$\n",
    "   \\int_a^b f(x) \\, dx = F(b) - F(a).\n",
    "   $$\n"
   ]
  },
  {
   "cell_type": "markdown",
   "id": "040d8871",
   "metadata": {
    "slideshow": {
     "slide_type": "slide"
    }
   },
   "source": [
    "## Procedure for computing the area under the curve\n",
    "\n",
    "$$\n",
    "\\int_a^b f(x) dx\n",
    "$$\n",
    "\n",
    "1. **Find an antiderivative** $F$ of $f$, i.e., a function $F$ such that $F'(x) = f(x)$.\n",
    "\n",
    "2. **Write down the antiderivative with its boundaries.**\n",
    "\n",
    "$$\n",
    "\\left[F(x)\\right]^b_a\n",
    "$$\n",
    "\n",
    "3. **Compute the boundary values** of the antiderivative.\n",
    "\n",
    "$$\n",
    "F(b) - F(a)\n",
    "$$\n",
    "\n",
    "4. **Calculate the difference** to obtain the area."
   ]
  },
  {
   "cell_type": "markdown",
   "id": "012be94e",
   "metadata": {
    "slideshow": {
     "slide_type": "slide"
    }
   },
   "source": [
    "### Example: \\(f(x) = 2x\\)\n",
    "\n",
    "Compute:\n",
    "\n",
    "$$\n",
    "\\int_1^3 2x \\, dx\n",
    "$$\n",
    "\n",
    "1. **Find the antiderivative**:\n",
    "   - $F(x) = x^2$\n",
    "\n",
    "2. **Write with boundaries**:\n",
    "   - $\\left[x^2\\right]^3_1$\n",
    "\n",
    "3. **Compute boundary values**:\n",
    "   - $F(3) = 3^2 = 9$\n",
    "   - $F(1) = 1^2 = 1$\n",
    "\n",
    "4. **Calculate the difference**:\n",
    "   - $F(3) - F(1) = 9 - 1 = 8$\n",
    "\n",
    "\n",
    "**Result**: The area under the curve is **8**."
   ]
  },
  {
   "cell_type": "markdown",
   "id": "e445e853",
   "metadata": {
    "slideshow": {
     "slide_type": "slide"
    }
   },
   "source": [
    "**THEOREM 2**\n",
    "\n",
    "Let $u$ and $v$ be functions of $x$ whose domains are an open interval $I$ and suppose $du$ and $dv$ exist for every $x$ in $I$.\n",
    "\n",
    "1. $\\int du = u + C.$\n",
    "\n",
    "2. **Constant Rule**  \n",
    "   $\\int c \\, du = c \\int du.$\n",
    "\n",
    "3. **Sum Rule**  \n",
    "   $\\int (du + dv) = \\int du + \\int dv.$\n",
    "\n",
    "4. **Power Rule**  \n",
    "   $\\int u^r \\, du = \\frac{u^{r+1}}{r+1} + C$, where $r$ is rational, $r \\neq -1$,  \n",
    "   and $u > 0$ on $I$.\n",
    "\n",
    "5. $\\int \\sin u \\, du = -\\cos u + C.$\n",
    "\n",
    "6. $\\int \\cos u \\, du = \\sin u + C.$\n",
    "\n",
    "7. $\\int e^u \\, du = e^u + C.$\n",
    "\n",
    "8. $\\int \\frac{1}{u}du = \\ln |u| + C$ ($u\\neq 0$)\n"
   ]
  },
  {
   "cell_type": "markdown",
   "id": "236c45c5",
   "metadata": {
    "slideshow": {
     "slide_type": "slide"
    }
   },
   "source": [
    "<div style=\"display: flex; width: 100%; align-items: flex-start;\">\n",
    "    <div style=\"flex: 50%; padding-right: 20px;\">\n",
    "        <h3>Example 1: $f(x) = 3x^2$</h3>\n",
    "        \n",
    "Compute:\n",
    "$$\n",
    "\\int_0^2 3x^2 \\, dx\n",
    "$$\n",
    "\n",
    "1. **Find the antiderivative**:\n",
    "   - $F(x) = x^3$\n",
    "<p></p>\n",
    "2. **Write with boundaries**:\n",
    "   - $\\left[x^3\\right]_0^2$\n",
    "<p></p>\n",
    "3. **Compute boundary values**:\n",
    "   - $F(2) = 2^3 = 8$\n",
    "   - $F(0) = 0^3 = 0$\n",
    "<p></p>\n",
    "4. **Calculate the difference**:\n",
    "   - $F(2) - F(0) = 8 - 0 = 8$\n",
    "\n",
    "**Result**: The area under the curve is 8.\n",
    "    </div>\n",
    "    <div style=\"flex: 50%; position: sticky; top: 0;\">\n",
    "        <div id=\"plot-container\"></div>\n",
    "    </div>\n",
    "</div>\n"
   ]
  },
  {
   "cell_type": "code",
   "execution_count": 2,
   "id": "ced33ac9",
   "metadata": {
    "hide_input": true,
    "slideshow": {
     "slide_type": "skip"
    }
   },
   "outputs": [
    {
     "data": {
      "text/html": [
       "\n",
       "<script>\n",
       "    var plotContainer = document.getElementById('plot-container');\n",
       "    plotContainer.innerHTML = '<img src=\"data:image/png;base64,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\" style=\"width:100%\">';\n",
       "</script>\n"
      ],
      "text/plain": [
       "<IPython.core.display.HTML object>"
      ]
     },
     "metadata": {},
     "output_type": "display_data"
    }
   ],
   "source": [
    "import numpy as np\n",
    "import matplotlib.pyplot as plt\n",
    "from IPython.display import display, HTML\n",
    "import base64\n",
    "\n",
    "plt.figure(figsize=(6, 4))\n",
    "x = np.linspace(0, 2, 100)\n",
    "y = 3 * x**2\n",
    "\n",
    "plt.fill_between(x, y, color=\"skyblue\", alpha=0.5)\n",
    "plt.plot(x, y, color=\"blue\")\n",
    "plt.title(\"$f(x) = 3x^2$\")\n",
    "plt.xlabel(\"x\")\n",
    "plt.ylabel(\"f(x)\")\n",
    "\n",
    "from io import BytesIO\n",
    "buf = BytesIO()\n",
    "plt.savefig(buf, format='png', bbox_inches='tight', dpi=150)\n",
    "plt.close()\n",
    "data = base64.b64encode(buf.getvalue()).decode()\n",
    "\n",
    "display(HTML(f\"\"\"\n",
    "<script>\n",
    "    var plotContainer = document.getElementById('plot-container');\n",
    "    plotContainer.innerHTML = '<img src=\"data:image/png;base64,{data}\" style=\"width:100%\">';\n",
    "</script>\n",
    "\"\"\"))"
   ]
  },
  {
   "cell_type": "markdown",
   "id": "931e78e3",
   "metadata": {
    "hide_input": true,
    "slideshow": {
     "slide_type": "slide"
    }
   },
   "source": [
    "\n",
    "<div style=\"display: flex; width: 100%; align-items: flex-start;\">\n",
    "    <div style=\"flex: 50%; padding-right: 20px;\">\n",
    "        <h3>Example 2: $f(x) = \\sin(x)$</h3>\n",
    "        \n",
    "Compute:\n",
    "$$\n",
    "\\int_0^{\\pi} \\sin(x) \\, dx\n",
    "$$\n",
    "\n",
    "1. **Find the antiderivative**:\n",
    "   - $F(x) = -\\cos(x)$\n",
    "\n",
    "2. **Write with boundaries**:\n",
    "   - $\\left[-\\cos(x)\\right]_0^{\\pi}$\n",
    "\n",
    "3. **Compute boundary values**:\n",
    "   - $F(\\pi) = -\\cos(\\pi) = -(-1) = 1$\n",
    "   - $F(0) = -\\cos(0) = -(1) = -1$\n",
    "\n",
    "4. **Calculate the difference**:\n",
    "   - $F(\\pi) - F(0) = 1 - (-1) = 2$\n",
    "\n",
    "**Result**: The area under the curve is 2.\n",
    "    </div>\n",
    "    <div style=\"flex: 50%; position: sticky; top: 0;\">\n",
    "        <div id=\"plot-container-2\"></div>\n",
    "    </div>\n",
    "</div>\n"
   ]
  },
  {
   "cell_type": "code",
   "execution_count": 3,
   "id": "c073effa",
   "metadata": {
    "hide_input": true,
    "slideshow": {
     "slide_type": "skip"
    }
   },
   "outputs": [
    {
     "data": {
      "text/html": [
       "\n",
       "<script>\n",
       "    var plotContainer = document.getElementById('plot-container-2');\n",
       "    plotContainer.innerHTML = '<img src=\"data:image/png;base64,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\" style=\"width:100%\">';\n",
       "</script>\n"
      ],
      "text/plain": [
       "<IPython.core.display.HTML object>"
      ]
     },
     "metadata": {},
     "output_type": "display_data"
    }
   ],
   "source": [
    "\n",
    "x = np.linspace(0, np.pi, 100)\n",
    "y = np.sin(x)\n",
    "\n",
    "plt.figure(figsize=(6, 4))\n",
    "plt.fill_between(x, y, color=\"lightgreen\", alpha=0.5)\n",
    "plt.plot(x, y, color=\"green\")\n",
    "plt.title(\"$f(x) = \\\\sin(x)$\")\n",
    "plt.xlabel(\"x\")\n",
    "plt.ylabel(\"f(x)\")\n",
    "\n",
    "buf = BytesIO()\n",
    "plt.savefig(buf, format='png', bbox_inches='tight', dpi=150)\n",
    "plt.close()\n",
    "data = base64.b64encode(buf.getvalue()).decode()\n",
    "\n",
    "display(HTML(f\"\"\"\n",
    "<script>\n",
    "    var plotContainer = document.getElementById('plot-container-2');\n",
    "    plotContainer.innerHTML = '<img src=\"data:image/png;base64,{data}\" style=\"width:100%\">';\n",
    "</script>\n",
    "\"\"\"))"
   ]
  },
  {
   "cell_type": "markdown",
   "id": "d62355e1",
   "metadata": {
    "slideshow": {
     "slide_type": "slide"
    }
   },
   "source": [
    "\n",
    "<div style=\"display: flex; width: 100%; align-items: flex-start;\">\n",
    "    <div style=\"flex: 50%; padding-right: 20px;\">\n",
    "        <h3>Example 3: $f(x) = e^x$</h3>\n",
    "        \n",
    "Compute:\n",
    "$$\n",
    "\\int_1^2 e^x \\, dx\n",
    "$$\n",
    "\n",
    "1. **Find the antiderivative**:\n",
    "   - $F(x) = e^x$\n",
    "\n",
    "2. **Write with boundaries**:\n",
    "   - $\\left[e^x\\right]_1^2$\n",
    "\n",
    "3. **Compute boundary values**:\n",
    "   - $F(2) = e^2$\n",
    "   - $F(1) = e^1 = e$\n",
    "\n",
    "4. **Calculate the difference**:\n",
    "   - $F(2) - F(1) = e^2 - e$\n",
    "\n",
    "**Result**: The area under the curve is $e^2 - e$, approximately 4.67.\n",
    "    </div>\n",
    "    <div style=\"flex: 50%; position: sticky; top: 0;\">\n",
    "        <div id=\"plot-container-3\"></div>\n",
    "    </div>\n",
    "</div>\n"
   ]
  },
  {
   "cell_type": "code",
   "execution_count": 4,
   "id": "a5966aff",
   "metadata": {
    "hide_input": true,
    "slideshow": {
     "slide_type": "skip"
    }
   },
   "outputs": [
    {
     "data": {
      "text/html": [
       "\n",
       "<script>\n",
       "    var plotContainer = document.getElementById('plot-container-3');\n",
       "    plotContainer.innerHTML = '<img src=\"data:image/png;base64,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\" style=\"width:100%\">';\n",
       "</script>\n"
      ],
      "text/plain": [
       "<IPython.core.display.HTML object>"
      ]
     },
     "metadata": {},
     "output_type": "display_data"
    }
   ],
   "source": [
    "x = np.linspace(1, 2, 100)\n",
    "y = np.exp(x)\n",
    "\n",
    "plt.figure(figsize=(6, 4))\n",
    "plt.fill_between(x, y, color=\"lightcoral\", alpha=0.5)\n",
    "plt.plot(x, y, color=\"red\")\n",
    "plt.title(\"$f(x) = e^x$\")\n",
    "plt.xlabel(\"x\")\n",
    "plt.ylabel(\"f(x)\")\n",
    "\n",
    "buf = BytesIO()\n",
    "plt.savefig(buf, format='png', bbox_inches='tight', dpi=150)\n",
    "plt.close()\n",
    "data = base64.b64encode(buf.getvalue()).decode()\n",
    "\n",
    "display(HTML(f\"\"\"\n",
    "<script>\n",
    "    var plotContainer = document.getElementById('plot-container-3');\n",
    "    plotContainer.innerHTML = '<img src=\"data:image/png;base64,{data}\" style=\"width:100%\">';\n",
    "</script>\n",
    "\"\"\"))"
   ]
  },
  {
   "cell_type": "markdown",
   "id": "d0d8b6ca",
   "metadata": {
    "slideshow": {
     "slide_type": "slide"
    }
   },
   "source": [
    "\n",
    "## Introduction to Change of Variables\n",
    "\n",
    "**Goal:** Simplify integration problems by substituting variables.\n",
    "\n",
    "**Theorem:** Let $u = g(x)$ be a differentiable function with continuous derivative, and let $f$ be continuous.\n",
    "\n",
    "The differential $du$ of $u$ is then\n",
    "\n",
    "$$\n",
    "du = g'(x) dx\n",
    "$$\n",
    "\n",
    "Then,\n",
    "$$\n",
    "\\begin{align}\n",
    "\\frac{d}{dx} f(g(x)) & = f'(g(x))g'(x) &\\text{(chain rule)}\\\\\n",
    "f(g(x)) &= \\int f'(g(x))g'(x)\\, dx& \\text{(antiderivative)}\\\\\n",
    "f(u) &= \\int f'(u) g'(x)\\, dx &\\text{(substitution)}\\\\\n",
    "f(u) &= \\int f'(u)\\, du &\\text{(definition of antiderivative)}\\\\\n",
    "\\int f'(g(x)) g'(x) \\, dx &= \\int f'(u) \\, du \\\\\n",
    "&= f(u) + C\n",
    "\\end{align}\n",
    "$$"
   ]
  },
  {
   "cell_type": "markdown",
   "id": "cde581cc",
   "metadata": {
    "slideshow": {
     "slide_type": "slide"
    }
   },
   "source": [
    "\n",
    "\n",
    "**Steps:**\n",
    "1. Choose a substitution $u = g(x)$.\n",
    "2. Compute $du = g'(x) dx$.\n",
    "3. Rewrite the integral in terms of $u$ and $du$.\n",
    "4. Solve the simpler integral.\n",
    "5. Replace $u$ with $g(x)$ in the final result.\n"
   ]
  },
  {
   "cell_type": "markdown",
   "id": "7a4a24fc",
   "metadata": {
    "slideshow": {
     "slide_type": "slide"
    }
   },
   "source": [
    "\n",
    "## Example 1\n",
    "\n",
    "**Problem:** Evaluate\n",
    "$$\n",
    "\\int x \\sqrt{1 + x^2} \\, dx.\n",
    "$$\n",
    "\n",
    "**Solution:**\n",
    "1. Substitution: $u = 1 + x^2$, so $du = 2x \\, dx$.\n",
    "<p></p>\n",
    "2. Rewrite:\n",
    "   $$\n",
    "   \\int x \\sqrt{1 + x^2} \\, dx = \\frac{1}{2}\\int \\sqrt{1+x^2}\\,2x\\, dx = \\frac{1}{2} \\int \\sqrt{u} \\, du.\n",
    "   $$\n",
    "<p></p>\n",
    "3. Solve:\n",
    "   $$\n",
    "   \\frac{1}{2} \\int \\sqrt{u} \\, du = \\frac{1}{2} \\cdot \\frac{2}{3} u^{3/2} = \\frac{1}{3} u^{3/2}.\n",
    "   $$\n",
    "<p></p>\n",
    "4. Back-substitute:\n",
    "   $$\n",
    "   \\frac{1}{3} (1 + x^2)^{3/2} + C.\n",
    "   $$\n",
    "\n",
    "**Result:**\n",
    "$$\n",
    "\\int x \\sqrt{1 + x^2} \\, dx = \\frac{1}{3} (1 + x^2)^{3/2} + C.\n",
    "$$"
   ]
  },
  {
   "cell_type": "markdown",
   "id": "ac10f927",
   "metadata": {
    "slideshow": {
     "slide_type": "slide"
    }
   },
   "source": [
    "\n",
    "## Example 2\n",
    "\n",
    "**Problem:** Evaluate\n",
    "$$\n",
    "\\int e^{2x} \\, dx.\n",
    "$$\n",
    "\n",
    "**Solution:**\n",
    "1. Substitution: $u = 2x$, so $du = 2 \\, dx$ or $dx = \\frac{1}{2} du$.\n",
    "<p></p>\n",
    "2. Rewrite:\n",
    "   $$\n",
    "   \\int e^{2x} \\, dx = \\frac{1}{2} \\int e^u \\, du.\n",
    "   $$\n",
    "<p></p>\n",
    "3. Solve:\n",
    "   $$\n",
    "   \\frac{1}{2} \\int e^u \\, du = \\frac{1}{2} e^u + C.\n",
    "   $$\n",
    "<p></p>\n",
    "4. Back-substitute:\n",
    "   $$\n",
    "   \\frac{1}{2} e^{2x} + C.\n",
    "   $$\n",
    "\n",
    "**Result:**\n",
    "$$\n",
    "\\int e^{2x} \\, dx = \\frac{1}{2} e^{2x} + C.\n",
    "$$\n"
   ]
  },
  {
   "cell_type": "markdown",
   "id": "168309c3",
   "metadata": {
    "slideshow": {
     "slide_type": "slide"
    }
   },
   "source": [
    "\n",
    "## General Case\n",
    "\n",
    "**Formula:**\n",
    "For any $u = g(x)$ and $f$ continuous,\n",
    "$$\n",
    "\\int f(g(x)) g'(x) \\, dx = \\int f(u) \\, du.\n",
    "$$\n",
    "\n",
    "**Key Points:**\n",
    "- Always match $g'(x) dx$ with $du$.\n",
    "- Carefully back-substitute $u$ in the final answer.\n",
    "\n",
    "**Applications:**\n",
    "- Trigonometric functions.\n",
    "- Exponentials and logarithms.\n",
    "- Polynomial integrals.\n"
   ]
  },
  {
   "cell_type": "markdown",
   "id": "dff828b6",
   "metadata": {
    "slideshow": {
     "slide_type": "slide"
    }
   },
   "source": [
    "\n",
    "## Common Mistakes\n",
    "\n",
    "1. **Mismatch in $g'(x)$:** Ensure $du = g'(x) dx$ is computed correctly.\n",
    "2. **Limits of Integration:** For definite integrals, adjust the limits to match $u$:\n",
    "   $$\n",
    "   \\int_a^b f(g(x)) g'(x) \\, dx = \\int_{g(a)}^{g(b)} f(u) \\, du.\n",
    "   $$\n",
    "3. **Omitting Back-Substitution:** For indefinite integrals, always replace $u$ with $g(x)$.\n",
    "4. **Simplification Errors:** Double-check algebra after substitution.\n"
   ]
  },
  {
   "cell_type": "markdown",
   "id": "8c19b319",
   "metadata": {
    "slideshow": {
     "slide_type": "slide"
    }
   },
   "source": [
    "\n",
    "## Slide 6: Practice Problem\n",
    "\n",
    "**Evaluate:**\n",
    "$$\n",
    "\\int \\frac{x}{\\sqrt{x^2 + 1}} \\, dx.\n",
    "$$\n",
    "\n",
    "**Hint:** Use $u = x^2 + 1$, so $du = 2x \\, dx$. Simplify and solve.\n"
   ]
  },
  {
   "cell_type": "markdown",
   "id": "21c7a07e",
   "metadata": {
    "slideshow": {
     "slide_type": "slide"
    }
   },
   "source": [
    "\n",
    "\n",
    "**Solution:**\n",
    "1. Substitution: $u = x^2 + 1$, so $du = 2x \\, dx$ or $\\frac{1}{2} du = x \\, dx$.\n",
    "<p></p>\n",
    "2. Rewrite:\n",
    "   $$\n",
    "   \\int \\frac{x}{\\sqrt{x^2 + 1}} \\, dx = \\frac{1}{2} \\int \\frac{1}{\\sqrt{u}} \\, du.\n",
    "   $$\n",
    "<p></p>\n",
    "3. Solve:\n",
    "   $$\n",
    "   \\frac{1}{2} \\int u^{-1/2} \\, du = \\frac{1}{2} \\cdot 2 u^{1/2} = \\sqrt{u}.\n",
    "   $$\n",
    "<p></p>\n",
    "4. Back-substitute:\n",
    "   $$\n",
    "   \\sqrt{x^2 + 1} + C.\n",
    "   $$\n",
    "\n",
    "**Result:**\n",
    "$$\n",
    "\\int \\frac{x}{\\sqrt{x^2 + 1}} \\, dx = \\sqrt{x^2 + 1} + C.\n",
    "$$\n"
   ]
  },
  {
   "cell_type": "markdown",
   "id": "57b37608",
   "metadata": {
    "slideshow": {
     "slide_type": "slide"
    }
   },
   "source": [
    "### THEOREM (Definite Integration by Change of Variables)\n",
    "\n",
    "Suppose $I$ and $J$ are open intervals, $f$ is continuous and has an antiderivative on $I$, $g$ has a continuous derivative on $J$, and $g$ maps $J$ into $I$. Then for any two points $a$ and $b$ in $J$,\n",
    "\n",
    "$$\n",
    "\\int_a^b f(g(x)) g'(x) \\, dx = \\int_{g(a)}^{g(b)} f(u) \\, du.\n",
    "$$\n"
   ]
  },
  {
   "cell_type": "markdown",
   "id": "066df587",
   "metadata": {},
   "source": [
    "### Example\n",
    "\n",
    "Find the area under the curve $y = \\frac{2x}{(x^2 - 3)^2}$ from $x = 2$ to $x = 3$.\n",
    "\n",
    "Let $u = x^2 - 3$. Then $du = 2x \\, dx$. At $x = 2$, $u = 2^2 - 3 = 1$. At $x = 3$, $u = 3^2 - 3 = 6$. Then\n",
    "\n",
    "$$\n",
    "\\int_2^3 \\frac{2x}{(x^2 - 3)^2} \\, dx = \\int_1^6 \\frac{1}{u^2} \\, du = \\left[-\\frac{1}{u} \\right]_1^6 = -\\frac{1}{6} - \\left(-1\\right) = 1 - \\frac{1}{6} = \\frac{5}{6}.\n",
    "$$\n"
   ]
  },
  {
   "cell_type": "markdown",
   "id": "72b6d577",
   "metadata": {
    "slideshow": {
     "slide_type": "slide"
    }
   },
   "source": [
    "### Example\n",
    "\n",
    "Find $\\int_0^1 \\sqrt{1 - x^2} \\, x \\, dx$. The function $\\sqrt{1 - x^2} \\, x$ as given is only defined on the closed interval $[-1, 1]$. In order to use the Theorem, we extend it to the open interval $J = (-\\infty, \\infty)$ by\n",
    "\n",
    "$$\n",
    "h(x) =\n",
    "\\begin{cases} \n",
    "0 & \\text{if } x < -1 \\text{ or } x > 1, \\\\\n",
    "\\sqrt{1 - x^2} \\, x & \\text{if } -1 \\leq x \\leq 1.\n",
    "\\end{cases}\n",
    "$$\n",
    "\n",
    "Let $u = 1 - x^2$. Then $du = -2x \\, dx$, so $dx = -\\frac{du}{2x}$. At $x = 0$, $u = 1$. At $x = 1$, $u = 0$. Therefore,\n",
    "\n",
    "$$\n",
    "\\int_0^1 \\sqrt{1 - x^2} \\, x \\, dx = \\int_1^0 \\sqrt{u} \\cdot \\left(-\\frac{1}{2} \\, du\\right) = \\int_1^0 -\\frac{1}{2} \\sqrt{u} \\, du\n",
    "$$\n",
    "\n",
    "$$\n",
    "= \\frac{1}{2} \\int_0^1 \\sqrt{u} \\, du = \\frac{1}{2} \\int_0^1 u^{1/2} \\, du = \\frac{1}{2} \\cdot \\left[\\frac{2}{3} u^{3/2} \\right]_0^1\n",
    "$$\n",
    "\n",
    "$$\n",
    "= \\frac{1}{3} - 0 = \\frac{1}{3}.\n",
    "$$\n"
   ]
  },
  {
   "cell_type": "markdown",
   "id": "87afd8c7",
   "metadata": {
    "slideshow": {
     "slide_type": "slide"
    }
   },
   "source": [
    "## Improper integrals\n",
    "\n",
    "If a function is defined for all positive numbers, we can also compute the area under a function with $x$ going to infinity.\n",
    "\n",
    "### Example\n",
    "\n",
    "$$\n",
    "f(x) = e^{-x}\n",
    "$$\n",
    "\n",
    "Suppose we are interested in the entire area to the right of $y=1$ between the $x$-axis and $f$."
   ]
  },
  {
   "cell_type": "code",
   "execution_count": 6,
   "id": "fbdb162d",
   "metadata": {
    "hide_input": true
   },
   "outputs": [
    {
     "data": {
      "image/png": "[encoded data removed]",
      "text/plain": [
       "<Figure size 1080x720 with 1 Axes>"
      ]
     },
     "metadata": {
      "needs_background": "light"
     },
     "output_type": "display_data"
    }
   ],
   "source": [
    "import numpy as np\n",
    "import matplotlib.pyplot as plt\n",
    "\n",
    "# Define the function e^(-x)\n",
    "def f(x):\n",
    "    return np.exp(-x)\n",
    "\n",
    "# Generate x values for plotting\n",
    "x = np.linspace(0, 5, 500)  # Plot from x = 0 to x = 5\n",
    "x_fill = np.linspace(1, 5, 500)  # Area under the curve from x = 1 to x = 5\n",
    "\n",
    "# Plot the function\n",
    "plt.figure(figsize=(15, 10))\n",
    "plt.plot(x, f(x), label=r\"$e^{-x}$\", color=\"blue\")\n",
    "\n",
    "# Shade the area under the curve for x in [1, 5] as an approximation of the improper integral\n",
    "plt.fill_between(x_fill, f(x_fill), color=\"lightblue\", alpha=0.6, label=r\"Area $\\int_1^\\infty e^{-x} dx$\")\n",
    "\n",
    "# Add labels and title\n",
    "plt.title(r\"Function $e^{-x}$ and the Area Corresponding to $\\int_1^\\infty e^{-x} dx$\", fontsize=14)\n",
    "plt.xlabel(r\"$x$\", fontsize=12)\n",
    "plt.ylabel(r\"$f(x)$\", fontsize=12)\n",
    "plt.axvline(1, color=\"red\", linestyle=\"--\", label=r\"$x=1$\")\n",
    "plt.legend(fontsize=12)\n",
    "plt.grid(True)\n",
    "\n",
    "# Show the plot\n",
    "plt.show()\n"
   ]
  },
  {
   "cell_type": "markdown",
   "id": "92c180cd",
   "metadata": {
    "slideshow": {
     "slide_type": "slide"
    }
   },
   "source": [
    "We can write this as a Riemann sum with an infinite upper bound. Let $H$ be an positive infinite hyperreal, and let $\\Delta x$ be infinitesimal. Then the area is:\n",
    "\n",
    "$$\n",
    "\\begin{align}\n",
    "\\operatorname{st}(\\sum_1^H e^{-x} \\Delta x)\n",
    "\\end{align}\n",
    "$$\n",
    "\n",
    "Conventionally, this is written as\n",
    "\n",
    "$$\n",
    "\\int_1^\\infty e^{-x}\\, dx\n",
    "$$\n",
    "\n",
    "Suppose $F$ is an antiderivative of $f$. By the same reasoning used for real boundaries:\n",
    "\n",
    "$$\n",
    "\\int_1^\\infty f(x) dx = \\operatorname{st}(F(H) - F(1))\n",
    "$$\n",
    "\n",
    "In our example, we have\n",
    "\n",
    "$$\n",
    "\\begin{align}\n",
    "F(x) &= -e^{-x}\\\\\n",
    "F'(x) &= e^{-x}\\\\ &= f(x)\n",
    "\\end{align}\n",
    "$$\n",
    "\n"
   ]
  },
  {
   "cell_type": "markdown",
   "id": "f16b7520",
   "metadata": {
    "slideshow": {
     "slide_type": "slide"
    }
   },
   "source": [
    "Therefore:\n",
    "\n",
    "$$\n",
    "\\begin{align}\n",
    "\\int_1^{-\\infty} e^{-x}\\, dx &= \\operatorname{st}(F(H) - F(1))\\\\\n",
    "&= \\operatorname{st}(-e^{-H} - (-e^{-1}))\\\\\n",
    "&= -\\operatorname{st}(e^{-H}) + \\frac{1}{e}\n",
    "\\end{align}\n",
    "$$\n",
    "\n",
    "$e^x$ is monotonically falling, but it is always positive. It becomes smaller than any given positive number if $x$ is large enough, so $e^H$ must be infinitesimal. Therefore\n",
    "\n",
    "$$\n",
    "\\begin{align}\n",
    "\\operatorname{st}(e^{-H}) &= 0\\\\\n",
    "\\int_1^{-\\infty} e^{-x}\\, dx &=\\frac{1}{e}\n",
    "\\end{align}\n",
    "$$\n",
    "\n",
    "\n",
    "The same method also works for a negative infinite lower boundary."
   ]
  },
  {
   "cell_type": "markdown",
   "id": "d4593b28",
   "metadata": {
    "slideshow": {
     "slide_type": "slide"
    }
   },
   "source": [
    "## Integration by parts\n",
    "\n",
    "Recall the product rule for differentiation:\n",
    "\n",
    "$$\n",
    "\\frac{d}{dx}f(x)g(x) = f'(x) g(x) + f(x) g'(x)\n",
    "$$\n",
    "\n",
    "Integrating on both sides and using the sum rule for integration gives us\n",
    "\n",
    "$$\n",
    "\\begin{align}\n",
    "f(x) g(x) &= \\int f'(x)g(x) + f(x) g'(x) \\,dx\\\\\n",
    "&= \\int f'(x)g(x)\\, dx + \\int f(x) g'(x) \\,dx\\\\\n",
    "\\end{align}\n",
    "$$\n",
    "\n",
    "From this we get\n",
    "\n",
    "$$\n",
    "\\int f'(x) g(x) = f(x) g(x) - \\int f(x) g'(x) \\, dx\n",
    "$$"
   ]
  },
  {
   "cell_type": "markdown",
   "id": "8d65a567",
   "metadata": {
    "slideshow": {
     "slide_type": "slide"
    }
   },
   "source": [
    "### Steps for integration by parts\n",
    "\n",
    "\n",
    "1. You want to integrate a product\n",
    "    $$\n",
    "    \\int u(x) v(x) dx\n",
    "    $$\n",
    "\n",
    "2. Find an antiderivative for the first factor.\n",
    "\n",
    "    $$\n",
    "    \\int u(x) dx = U(x) dx\n",
    "    $$\n",
    "    \n",
    "3. Find the derivative for the second factor.\n",
    "\n",
    "    $$\n",
    "    \\frac{d}{dx}v(x) = v'(x)\n",
    "    $$\n",
    "\n",
    "4. Use the equation\n",
    "\n",
    "$$\n",
    "\\int u(x) v(x)\\, dx = U(x)v(x) -\\int U(x)v'(x)\\, dx\n",
    "$$\n",
    "\n",
    "5. If you are lucky, the new integral is easier to solve than the old one."
   ]
  },
  {
   "cell_type": "markdown",
   "id": "c0b0bf9e",
   "metadata": {
    "slideshow": {
     "slide_type": "slide"
    }
   },
   "source": [
    "### Examples\n",
    "\n",
    "$$\n",
    "\\begin{align}\n",
    "\\int xe^x\\, dx &= \\int e^x x\\, dx\\\\\n",
    "&= e^x x - \\int e^x\\, dx\\\\\n",
    "&= xe^x - e^x + C\n",
    "\\end{align}\n",
    "$$\n",
    "\n",
    "---\n",
    "**Test**\n",
    "\n",
    "$$\n",
    "\\begin{align}\n",
    "\\frac{d}{dx}(xe^x - e^x + C) &=\\frac{d}{dx}xe^x - \\frac{d}{dx}e^x + \\frac{d}{dx}C\\\\\n",
    "&= e^x + xe^x - e^x + 0\\\\\n",
    "&= xe^x\n",
    "\\end{align}\n",
    "$$\n"
   ]
  },
  {
   "cell_type": "markdown",
   "id": "7709edbe",
   "metadata": {
    "slideshow": {
     "slide_type": "slide"
    }
   },
   "source": [
    "$$\n",
    "\\begin{align}\n",
    "\\int \\ln x\\, dx &= \\int 1 \\times \\ln x\\, dx\\\\\n",
    "&= x\\ln x - \\int x\\times \\frac{1}{x}\\, dx\\\\\n",
    "&= x\\ln x - \\int 1\\, dx\\\\\n",
    "&= x\\ln x - x + C\n",
    "\\end{align}\n",
    "$$\n",
    "\n",
    "---\n",
    "\n",
    "**Test**\n",
    "\n",
    "$$\n",
    "\\begin{align}\n",
    "\\frac{d}{dx}(x\\ln x - x + C) &= \\frac{d}{dx} x\\ln x - \\frac{d}{dx} x + \\frac{d}{dx} C\\\\\n",
    "&= \\ln x + 1 - 1 + 0\\\\\n",
    "&= \\ln x\n",
    "\\end{align}\n",
    "$$"
   ]
  },
  {
   "cell_type": "markdown",
   "id": "826e58c3",
   "metadata": {
    "slideshow": {
     "slide_type": "slide"
    }
   },
   "source": [
    "$$\n",
    "\\begin{align}\n",
    "\\int \\sin(x) x\\, dx &= -\\cos(x) x - \\int -\\cos(x)\\, dx\\\\\n",
    "&= -\\cos(x) x +\\sin(x) + C\n",
    "\\end{align}\n",
    "$$\n",
    "\n",
    "---\n",
    "**Test**\n",
    "\n",
    "$$\n",
    "\\begin{align}\n",
    "\\frac{d}{dx}(\\sin(x)-x\\cos(x)+C) &= \\frac{d}{dx}\\sin x - \\frac{d}{dx}x\\cos x + \\frac{d}{dx}C\\\\\n",
    "&=\\cos x- (\\cos x - x\\sin x) + 0\\\\\n",
    "&= x\\sin x\n",
    "\\end{align}\n",
    "$$"
   ]
  },
  {
   "cell_type": "markdown",
   "id": "602cdb5a",
   "metadata": {
    "slideshow": {
     "slide_type": "slide"
    }
   },
   "source": [
    "$$\n",
    "\\begin{align}\n",
    "\\int \\arcsin x\\, dx &= \\int 1\\arcsin x\\, dx\\\\\n",
    "&=x\\arcsin x - \\int x\\frac{1}{\\sqrt{1-x^2}}\\, dx\n",
    "\\end{align}\n",
    "$$\n",
    "\n",
    "Now we can use substitution:\n",
    "\n",
    "$$\n",
    "\\begin{align}\n",
    "y &= 1-x^2\\\\\n",
    "dy &= -2x dx\\\\\n",
    "\\int \\frac{x}{\\sqrt{1-x^2}}\\, dx &= -\\frac{1}{2}\\int\\frac{1}{\\sqrt{y}}\\, dy\\\\\n",
    "&= -\\frac{1}{2}\\int y^{-\\frac{1}{2}}\\, dy\\\\\n",
    "&= -\\sqrt{y} + C\\\\\n",
    "&= -\\sqrt{1-x^2} + C\\\\\n",
    "\\int \\arcsin x\\, dx &= x\\arcsin x + \\sqrt{1-x^2} + C\n",
    "\\end{align}\n",
    "$$"
   ]
  },
  {
   "cell_type": "markdown",
   "id": "6e8190de",
   "metadata": {
    "slideshow": {
     "slide_type": "slide"
    }
   },
   "source": [
    "**Test**\n",
    "\n",
    "$$\n",
    "\\begin{align}\n",
    "\\frac{d}{dx}(x\\arcsin x + \\sqrt{1-x^2} + C) &= \\frac{d}{dx} x\\arcsin x + \\frac{d}{dx}\\sqrt{1-x^2} - \\frac{d}{dx}C\\\\\n",
    "&= \\arcsin x + \\frac{x}{\\sqrt{1-x^2}} - \\frac{x}{\\sqrt{1-x^2}}\\\\\n",
    "&= \\arcsin x\n",
    "\\end{align}\n",
    "$$"
   ]
  },
  {
   "cell_type": "markdown",
   "id": "d4826ac6",
   "metadata": {
    "slideshow": {
     "slide_type": "slide"
    }
   },
   "source": [
    "Let us compute the area of a circle analytically.\n",
    "\n",
    "The half-circe with radius 1 has the formula\n",
    "\n",
    "$$\n",
    "f(x) = \\sqrt{1-x^2}\n",
    "$$\n",
    "\n",
    "So the task is to find\n",
    "\n",
    "$$\n",
    "\\int_{-1}^1 \\sqrt{1-x^2}\\, dx\n",
    "$$\n",
    "\n",
    "We start with the indefinite integral."
   ]
  },
  {
   "cell_type": "markdown",
   "id": "28c176e7",
   "metadata": {
    "slideshow": {
     "slide_type": "slide"
    }
   },
   "source": [
    "We use the substitution\n",
    "\n",
    "$$\n",
    "\\begin{align}\n",
    "\\theta &= \\arccos x\\\\\n",
    "d\\theta &= -\\frac{1}{\\sqrt{1-x^2}}\\, dx\n",
    "\\end{align}\n",
    "$$\n",
    "\n",
    "$$\n",
    "\\begin{align}\n",
    "\\int \\sqrt{1-x^2}\\, dx &= -\\int (1-x^2) -\\frac{1}{\\sqrt{1-x^2}}\\, dx\\\\\n",
    "&= \\int (1-\\sin^2 \\theta)\\, d\\theta\\\\\n",
    "&= \\int \\cos^2\\theta \\, d\\theta\n",
    "\\end{align}\n",
    "$$\n",
    "\n",
    "We can solve $\\int \\cos^2\\theta \\, d\\theta$ with integration by parts\n"
   ]
  },
  {
   "cell_type": "markdown",
   "id": "35f3bfc3",
   "metadata": {
    "slideshow": {
     "slide_type": "slide"
    }
   },
   "source": [
    "$$\n",
    "\\begin{align}\n",
    "\\int\\cos\\theta \\cos\\theta\\, d\\theta &= \\sin\\theta\\cos\\theta - \\int \\sin\\theta(-\\sin\\theta)\\\\\n",
    "&= \\sin\\theta\\cos\\theta + \\int \\sin^2\\theta\\, d\\theta\\\\\n",
    "&= \\sin\\theta\\cos\\theta + \\int 1-\\cos^2\\theta\\, d\\theta\\\\\n",
    "&= \\sin\\theta\\cos\\theta + \\int 1\\, d\\theta -\\int\\cos^2\\theta\\, d\\theta\\\\\n",
    "2\\int\\cos^2\\theta\\,d\\theta &= \\sin\\theta\\cos\\theta + \\theta+C\\\\\n",
    "\\int\\cos^2\\theta\\,d\\theta &= \\frac{\\sin\\theta\\cos\\theta+ \\theta}{2} +C\\\\\n",
    "\\end{align}\n",
    "$$\n",
    "\n",
    "Back-substitution:\n",
    "\n",
    "$$\n",
    "\\begin{align}\n",
    "\\int\\sqrt{1-x^2}\\, dx &=  \\frac{\\sin\\theta\\cos\\theta+ \\theta}{2} +C\\\\\n",
    "&=  \\frac{\\sin\\arccos x\\cos\\arccos x+ \\arccos x}{2} +C\\\\\n",
    "&=  \\frac{\\sqrt{1-\\cos^2\\arccos x}\\cos\\arccos x+ \\arccos x}{2} +C\\\\\n",
    "&=  \\frac{x\\sqrt{1-x^2 } + \\arccos x}{2} +C\\\\\n",
    "\\end{align}\n",
    "$$"
   ]
  },
  {
   "cell_type": "markdown",
   "id": "73608134",
   "metadata": {
    "slideshow": {
     "slide_type": "slide"
    }
   },
   "source": [
    "$$\n",
    "\\begin{align}\n",
    "\\int_{-1}^1\\sqrt{1-x^2}\\, dx &=   \\left[\\frac{x\\sqrt{1-x^2 } + \\arccos x}{2}\\right]_{-1}^1\\\\\n",
    "&= 0 - \\frac{-\\pi}{2}\\\\\n",
    "&=\\frac{\\pi}{2}\n",
    "\\end{align}\n",
    "$$"
   ]
  }
 ],
 "metadata": {
  "@webio": {
   "lastCommId": null,
   "lastKernelId": null
  },
  "celltoolbar": "Slideshow",
  "hide_input": false,
  "kernelspec": {
   "display_name": "Python 3 (ipykernel)",
   "language": "python",
   "name": "python3"
  },
  "language_info": {
   "codemirror_mode": {
    "name": "ipython",
    "version": 3
   },
   "file_extension": ".py",
   "mimetype": "text/x-python",
   "name": "python",
   "nbconvert_exporter": "python",
   "pygments_lexer": "ipython3",
   "version": "3.9.11"
  },
  "rise": {
   "enable_chalkboard": true
  },
  "varInspector": {
   "cols": {
    "lenName": 16,
    "lenType": 16,
    "lenVar": 40
   },
   "kernels_config": {
    "python": {
     "delete_cmd_postfix": "",
     "delete_cmd_prefix": "del ",
     "library": "var_list.py",
     "varRefreshCmd": "print(var_dic_list())"
    },
    "r": {
     "delete_cmd_postfix": ") ",
     "delete_cmd_prefix": "rm(",
     "library": "var_list.r",
     "varRefreshCmd": "cat(var_dic_list()) "
    }
   },
   "types_to_exclude": [
    "module",
    "function",
    "builtin_function_or_method",
    "instance",
    "_Feature"
   ],
   "window_display": false
  }
 },
 "nbformat": 4,
 "nbformat_minor": 5
}
